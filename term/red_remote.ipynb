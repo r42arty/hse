{
  "nbformat": 4,
  "nbformat_minor": 0,
  "metadata": {
    "colab": {
      "provenance": [],
      "include_colab_link": true
    },
    "kernelspec": {
      "name": "python3",
      "display_name": "Python 3"
    },
    "language_info": {
      "name": "python"
    }
  },
  "cells": [
    {
      "cell_type": "markdown",
      "metadata": {
        "id": "view-in-github",
        "colab_type": "text"
      },
      "source": [
        "<a href=\"https://colab.research.google.com/github/r42arty/hse/blob/main/term/red_remote.ipynb\" target=\"_parent\"><img src=\"https://colab.research.google.com/assets/colab-badge.svg\" alt=\"Open In Colab\"/></a>"
      ]
    },
    {
      "metadata": {
        "id": "Gsl9alOTz9so"
      },
      "cell_type": "markdown",
      "source": [
        "# Бизнес-игра «Красная Удаленка»\n",
        "\n",
        "## 🎯 Ваша цель — создать мультиагентную систему, способную эффективно управлять колонией на Марсе"
      ]
    },
    {
      "metadata": {
        "id": "vIEFLPRrz9sr"
      },
      "cell_type": "markdown",
      "source": [
        "## Начнём разработку вашей мультиагентной системы 👇\n",
        "Следуйте по блокам ниже, начиная с Фазы 1."
      ]
    },
    {
      "metadata": {
        "id": "hGe2bnDSz9sr"
      },
      "cell_type": "markdown",
      "source": [
        "📂 На 6-й день и далее вы загрузите файл `initiatives_day6_to_30.csv`, который выдаст ведущий."
      ]
    },
    {
      "cell_type": "code",
      "source": [
        "import pandas as pd\n",
        "import random\n",
        "import requests\n",
        "import openai"
      ],
      "metadata": {
        "id": "Iy-1HAmTz-iK"
      },
      "execution_count": null,
      "outputs": []
    }
  ]
}
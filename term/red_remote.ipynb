{
  "nbformat": 4,
  "nbformat_minor": 0,
  "metadata": {
    "colab": {
      "provenance": [],
      "include_colab_link": true
    },
    "kernelspec": {
      "name": "python3",
      "display_name": "Python 3"
    },
    "language_info": {
      "name": "python"
    }
  },
  "cells": [
    {
      "cell_type": "markdown",
      "metadata": {
        "id": "view-in-github",
        "colab_type": "text"
      },
      "source": [
        "<a href=\"https://colab.research.google.com/github/r42arty/hse/blob/main/term/red_remote.ipynb\" target=\"_parent\"><img src=\"https://colab.research.google.com/assets/colab-badge.svg\" alt=\"Open In Colab\"/></a>"
      ]
    },
    {
      "metadata": {
        "id": "Gsl9alOTz9so"
      },
      "cell_type": "markdown",
      "source": [
        "# Бизнес-игра «Красная Удаленка»\n",
        "\n",
        "## 🎯 Ваша цель — создать мультиагентную систему, способную эффективно управлять колонией на Марсе"
      ]
    },
    {
      "cell_type": "code",
      "source": [
        "import pandas as pd\n",
        "import random\n",
        "import requests\n",
        "import openai"
      ],
      "metadata": {
        "id": "uHPeQwfbBasZ"
      },
      "execution_count": null,
      "outputs": []
    },
    {
      "cell_type": "code",
      "source": [
        "response = client.chat.completions.create(\n",
        "    model=\"gpt-3.5-turbo\",\n",
        "    messages=[{\"role\": \"user\", \"content\": \"Привет, расскажи анекдот!\"}]\n",
        ")\n",
        "\n",
        "print(response.choices[0].message.content)"
      ],
      "metadata": {
        "id": "oQHuKI-oBh0N"
      },
      "execution_count": null,
      "outputs": []
    },
    {
      "metadata": {
        "id": "vIEFLPRrz9sr"
      },
      "cell_type": "markdown",
      "source": [
        "## Начнем разработку вашей MAS👇"
      ]
    }
  ]
}
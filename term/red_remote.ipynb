{
  "nbformat": 4,
  "nbformat_minor": 0,
  "metadata": {
    "colab": {
      "provenance": [],
      "include_colab_link": true
    },
    "kernelspec": {
      "name": "python3",
      "display_name": "Python 3"
    },
    "language_info": {
      "name": "python"
    }
  },
  "cells": [
    {
      "cell_type": "markdown",
      "metadata": {
        "id": "view-in-github",
        "colab_type": "text"
      },
      "source": [
        "<a href=\"https://colab.research.google.com/github/r42arty/hse/blob/main/term/red_remote.ipynb\" target=\"_parent\"><img src=\"https://colab.research.google.com/assets/colab-badge.svg\" alt=\"Open In Colab\"/></a>"
      ]
    },
    {
      "metadata": {
        "id": "Gsl9alOTz9so"
      },
      "cell_type": "markdown",
      "source": [
        "# Бизнес-игра «Красная Удаленка»\n",
        "\n",
        "## 🎯 Ваша цель — создать мультиагентную систему, способную эффективно управлять колонией на Марсе"
      ]
    },
    {
      "cell_type": "markdown",
      "source": [
        "# Технические настройки"
      ],
      "metadata": {
        "id": "H6Hv31oq2xJb"
      }
    },
    {
      "cell_type": "code",
      "source": [
        "#@title Установка GigaChat в Jupiter\n",
        "!pip install gigachat"
      ],
      "metadata": {
        "cellView": "form",
        "id": "SoEkv59a0LIk"
      },
      "execution_count": null,
      "outputs": []
    },
    {
      "cell_type": "code",
      "source": [
        "#@title Подключение библиотек\n",
        "import pandas as pd\n",
        "import random\n",
        "import requests\n",
        "import openai\n",
        "from gigachat import GigaChat"
      ],
      "metadata": {
        "id": "uHPeQwfbBasZ",
        "cellView": "form"
      },
      "execution_count": null,
      "outputs": []
    },
    {
      "cell_type": "code",
      "source": [
        "#@title Прописание токена GigaChat\n",
        "TOKEN = \"XXX\""
      ],
      "metadata": {
        "cellView": "form",
        "id": "kmhLGbH1Kus-"
      },
      "execution_count": null,
      "outputs": []
    },
    {
      "cell_type": "markdown",
      "source": [
        "### Вопрос для GigaChat"
      ],
      "metadata": {
        "id": "pZNTgjkG028-"
      }
    },
    {
      "cell_type": "code",
      "source": [
        "QUESTION = 'Столица России?'"
      ],
      "metadata": {
        "id": "L3XbJhul0sRq"
      },
      "execution_count": null,
      "outputs": []
    },
    {
      "cell_type": "code",
      "source": [
        "#@title Обработка запроса\n",
        "with GigaChat(credentials=TOKEN, verify_ssl_certs=False) as giga:\n",
        "    Responce = giga.chat(QUESTION)\n",
        "ANSWER = Responce.choices[0].message.content"
      ],
      "metadata": {
        "id": "oQHuKI-oBh0N",
        "cellView": "form"
      },
      "execution_count": null,
      "outputs": []
    },
    {
      "cell_type": "markdown",
      "source": [
        "### Ответ от GigaChat"
      ],
      "metadata": {
        "id": "GJsq1WD03NsK"
      }
    },
    {
      "cell_type": "code",
      "source": [
        "ANSWER"
      ],
      "metadata": {
        "id": "hzDo2dY61Kah"
      },
      "execution_count": null,
      "outputs": []
    },
    {
      "cell_type": "code",
      "source": [
        "#@title Базовые настройки игры\n",
        "\n",
        "# Стартовые параметры\n",
        "INITIAL_RESOURCES = 100\n",
        "INITIAL_ENERGY = 10\n",
        "INITIAL_SATISFACTION = {\n",
        "    \"Энергетики\": 1/3,\n",
        "    \"Вычислители\": 1/3,\n",
        "    \"Творцы\": 1/3\n",
        "}\n",
        "CRITICAL_SATISFACTION = 1/5\n",
        "MAX_DAYS = 30\n",
        "\n",
        "\n",
        "# События\n",
        "EVENT_POOL = [\n",
        "    {\"description\": \"Метеоритный дождь снижает выработку энергии\", \"energy_delta\": -3, \"resource_delta\": 0, \"faction_delta\": {}},\n",
        "    {\"description\": \"Поставка оборудования с Земли\", \"energy_delta\": 0, \"resource_delta\": 50, \"faction_delta\": {}},\n",
        "    {\"description\": \"Споры о приоритетах внутри колонии\", \"energy_delta\": 0, \"resource_delta\": 0, \"faction_delta\": {\"Творцы\": -0.05, \"Энергетики\": -0.05}},\n",
        "    {\"description\": \"Успешный проект Творцов\", \"energy_delta\": 0, \"resource_delta\": 0, \"faction_delta\": {\"Творцы\": 0.1}},\n",
        "    {\"description\": \"Отключение оборудования Вычислителей\", \"energy_delta\": 0, \"resource_delta\": -20, \"faction_delta\": {\"Вычислители\": -0.1}},\n",
        "]\n",
        "\n",
        "# Функции симуляции\n",
        "def apply_event(state, event):\n",
        "    state['energy'] += event[\"energy_delta\"]\n",
        "    state['resources'] += event[\"resource_delta\"]\n",
        "    for faction, delta in event[\"faction_delta\"].items():\n",
        "        state[\"satisfaction\"][faction] = max(0, min(1, state[\"satisfaction\"][faction] + delta))\n",
        "    return state\n",
        "\n",
        "def run_simulation(mas_func, verbose=False):\n",
        "    state = {\n",
        "        \"day\": 1,\n",
        "        \"resources\": INITIAL_RESOURCES,\n",
        "        \"energy\": INITIAL_ENERGY,\n",
        "        \"satisfaction\": INITIAL_SATISFACTION.copy(),\n",
        "        \"history\": []\n",
        "    }\n",
        "\n",
        "    while state[\"day\"] <= MAX_DAYS:\n",
        "        if verbose:\n",
        "            print(f\"--- День {state['day']} ---\")\n",
        "\n",
        "        event = random.choice(EVENT_POOL)\n",
        "        state = apply_event(state, event)\n",
        "\n",
        "        decisions = mas_func(state)\n",
        "\n",
        "        state['resources'] += decisions.get(\"resource_delta\", 0)\n",
        "        state['energy'] += decisions.get(\"energy_delta\", 0)\n",
        "        for faction, delta in decisions.get(\"faction_delta\", {}).items():\n",
        "            state[\"satisfaction\"][faction] = max(0, min(1, state[\"satisfaction\"][faction] + delta))\n",
        "\n",
        "        state[\"history\"].append({\n",
        "            \"day\": state[\"day\"],\n",
        "            \"event\": event[\"description\"],\n",
        "            \"state\": {\n",
        "                \"resources\": state[\"resources\"],\n",
        "                \"energy\": state[\"energy\"],\n",
        "                \"satisfaction\": state[\"satisfaction\"].copy()\n",
        "            }\n",
        "        })\n",
        "\n",
        "        if state[\"resources\"] <= 0 or any(s < CRITICAL_SATISFACTION for s in state[\"satisfaction\"].values()):\n",
        "            break\n",
        "\n",
        "        state[\"day\"] += 1\n",
        "\n",
        "    return state"
      ],
      "metadata": {
        "id": "HufMu7pkG2OT"
      },
      "execution_count": null,
      "outputs": []
    },
    {
      "metadata": {
        "id": "vIEFLPRrz9sr"
      },
      "cell_type": "markdown",
      "source": [
        "# Начнем разработку вашей MAS👇"
      ]
    },
    {
      "cell_type": "markdown",
      "source": [
        "## 🌀 ФАЗА 1: Агенты и цели\n"
      ],
      "metadata": {
        "id": "X9RvGXBMHEPZ"
      }
    },
    {
      "cell_type": "code",
      "source": [
        "AGENTS_DESCRIPTION = \"\"\"<Ваше описание агентов>\"\"\""
      ],
      "metadata": {
        "id": "zildVZOpHKQn"
      },
      "execution_count": null,
      "outputs": []
    },
    {
      "cell_type": "markdown",
      "source": [
        "## 🌀 ФАЗА 2: Взаимодействие агентов"
      ],
      "metadata": {
        "id": "8Z1pTaRGLHdp"
      }
    },
    {
      "cell_type": "code",
      "source": [
        "INTERACTION_LOGIC = \"\"\"<Ваше описание взаимодействия>\"\"\""
      ],
      "metadata": {
        "id": "WEr97J4fHOiV"
      },
      "execution_count": null,
      "outputs": []
    },
    {
      "cell_type": "markdown",
      "source": [
        "## 🌀 ФАЗА 3: Распределённая обработка"
      ],
      "metadata": {
        "id": "ypDqcri_HTuw"
      }
    },
    {
      "cell_type": "code",
      "source": [
        "DISTRIBUTED_DECISION = \"\"\"<Ваше описание распределённого принятия решений>\"\"\""
      ],
      "metadata": {
        "id": "wvofWdAsHSMt"
      },
      "execution_count": null,
      "outputs": []
    },
    {
      "cell_type": "markdown",
      "source": [
        "## 🌀 ФАЗА 4: Адаптация и обучение"
      ],
      "metadata": {
        "id": "JoBCjwG9HYb4"
      }
    },
    {
      "cell_type": "code",
      "source": [
        "ADAPTATION_MECHANISM = \"\"\"<Ваше описание адаптации>\"\"\""
      ],
      "metadata": {
        "id": "S53dWbF5HcTN"
      },
      "execution_count": null,
      "outputs": []
    },
    {
      "cell_type": "markdown",
      "source": [
        "## 🌀 ФАЗА 5: Финальная настройка\n"
      ],
      "metadata": {
        "id": "DJmjC1S7Hd_Y"
      }
    },
    {
      "cell_type": "code",
      "source": [
        "# Ниже напишите функцию mas_decision(initiative)\n",
        "def mas_decision(initiative):\n",
        "    # Пример: принимать всё, если хватает бюджета\n",
        "    return state[\"budget\"] >= initiative[\"cost\"]"
      ],
      "metadata": {
        "id": "eA8YDASbHjir"
      },
      "execution_count": null,
      "outputs": []
    },
    {
      "cell_type": "markdown",
      "source": [],
      "metadata": {
        "id": "d5TVqf8UHgnx"
      }
    },
    {
      "cell_type": "markdown",
      "source": [
        "## 🌀 ФАЗА 6: Автономная симуляция"
      ],
      "metadata": {
        "id": "Pq15dDxzHoKu"
      }
    },
    {
      "cell_type": "code",
      "source": [
        "# Загрузите CSV с инициативами от ведущего\n",
        "# Файл должен содержать: faction,text,cost,satisfaction_change\n",
        "\n",
        "csv_path = \"initiatives_day6_to_30.csv\"  # <-- замените на путь к своему файлу\n",
        "future_events = pd.read_csv(csv_path)\n",
        "\n",
        "# Преобразуем строку JSON в словарь satisfaction_change\n",
        "future_events[\"satisfaction_change\"] = future_events[\"satisfaction_change\"].apply(ast.literal_eval)\n",
        "\n",
        "# Симуляция автономной фазы\n",
        "for i, row in future_events.iterrows():\n",
        "    initiative = row.to_dict()\n",
        "    decision = mas_decision(initiative)\n",
        "    if decision:\n",
        "        result = apply_initiative(state, initiative)\n",
        "    else:\n",
        "        result = \"Отклонено\"\n",
        "    state[\"log\"].append({\"day\": state[\"day\"], \"initiative\": initiative, \"decision\": decision, \"result\": result})\n",
        "    state[\"day\"] += 1\n",
        "    game_over, reason = check_game_over(state)\n",
        "    if game_over:\n",
        "        print(f\"Игра завершена на дне {state['day'] - 1}: {reason}\")\n",
        "        break\n",
        "else:\n",
        "    print(\"MAS проработала все 30 дней!\")"
      ],
      "metadata": {
        "id": "haMd77v4H91U"
      },
      "execution_count": null,
      "outputs": []
    }
  ]
}
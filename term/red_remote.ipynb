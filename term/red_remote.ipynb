{
  "nbformat": 4,
  "nbformat_minor": 0,
  "metadata": {
    "colab": {
      "provenance": [],
      "include_colab_link": true
    },
    "kernelspec": {
      "name": "python3",
      "display_name": "Python 3"
    },
    "language_info": {
      "name": "python"
    }
  },
  "cells": [
    {
      "cell_type": "markdown",
      "metadata": {
        "id": "view-in-github",
        "colab_type": "text"
      },
      "source": [
        "<a href=\"https://colab.research.google.com/github/r42arty/hse/blob/main/term/red_remote.ipynb\" target=\"_parent\"><img src=\"https://colab.research.google.com/assets/colab-badge.svg\" alt=\"Open In Colab\"/></a>"
      ]
    },
    {
      "metadata": {
        "id": "Gsl9alOTz9so"
      },
      "cell_type": "markdown",
      "source": [
        "# Бизнес-игра «Красная Удаленка»\n",
        "\n",
        "## 🎯 Ваша цель — создать мультиагентную систему, способную эффективно управлять колонией на Марсе"
      ]
    },
    {
      "cell_type": "code",
      "source": [
        "#@title Подключение библиотек\n",
        "import pandas as pd\n",
        "import random\n",
        "import requests\n",
        "import openai"
      ],
      "metadata": {
        "id": "uHPeQwfbBasZ",
        "cellView": "form"
      },
      "execution_count": null,
      "outputs": []
    },
    {
      "cell_type": "code",
      "source": [
        "#@title Прописание токена ChatGPT"
      ],
      "metadata": {
        "cellView": "form",
        "id": "kmhLGbH1Kus-"
      },
      "execution_count": null,
      "outputs": []
    },
    {
      "cell_type": "code",
      "source": [
        "#@title Подключение ChatGPT\n",
        "response = client.chat.completions.create(\n",
        "    model=\"gpt-3.5-turbo\",\n",
        "    messages=[{\"role\": \"user\", \"content\": \"Привет, расскажи анекдот!\"}]\n",
        ")\n",
        "\n",
        "print(response.choices[0].message.content)"
      ],
      "metadata": {
        "id": "oQHuKI-oBh0N",
        "cellView": "form"
      },
      "execution_count": null,
      "outputs": []
    },
    {
      "cell_type": "code",
      "source": [
        "#@title Базовые настройки игры\n",
        "\n",
        "# Стартовые параметры\n",
        "MAX_DAYS = 30\n",
        "INITIAL_BUDGET = 100\n",
        "CRITICAL_SATISFACTION = 1/5\n",
        "INITIAL_SATISFACTION = 1/3\n",
        "factions = [\"Энергетики\", \"Вычислители\", \"Творцы\"]\n",
        "\n",
        "# Состояние колонии\n",
        "state = {\n",
        "    \"budget\": INITIAL_BUDGET,\n",
        "    \"satisfaction\": {f: INITIAL_SATISFACTION for f in factions},\n",
        "    \"day\": 1,\n",
        "    \"log\": []\n",
        "}\n",
        "\n",
        "# Функция применения инициативы\n",
        "def apply_initiative(state, initiative):\n",
        "    cost = initiative[\"cost\"]\n",
        "    if state[\"budget\"] < cost:\n",
        "        return \"Пропущено (недостаточно средств)\"\n",
        "    state[\"budget\"] -= cost\n",
        "    for f, delta in initiative[\"satisfaction_change\"].items():\n",
        "        state[\"satisfaction\"][f] += delta\n",
        "    return \"Принято\"\n",
        "\n",
        "# Проверка завершения\n",
        "def check_game_over(state):\n",
        "    if state[\"budget\"] <= 0:\n",
        "        return True, \"Бюджет исчерпан\"\n",
        "    for f, s in state[\"satisfaction\"].items():\n",
        "        if s < CRITICAL_SATISFACTION:\n",
        "            return True, f\"Фракция '{f}' недовольна\"\n",
        "    return False, \"\""
      ],
      "metadata": {
        "id": "HufMu7pkG2OT",
        "cellView": "form"
      },
      "execution_count": null,
      "outputs": []
    },
    {
      "metadata": {
        "id": "vIEFLPRrz9sr"
      },
      "cell_type": "markdown",
      "source": [
        "## Начнем разработку вашей MAS👇"
      ]
    },
    {
      "cell_type": "markdown",
      "source": [
        "## 🌀 ФАЗА 1: Агенты и цели\n"
      ],
      "metadata": {
        "id": "X9RvGXBMHEPZ"
      }
    },
    {
      "cell_type": "code",
      "source": [
        "AGENTS_DESCRIPTION = \"\"\"<Ваше описание агентов>\"\"\""
      ],
      "metadata": {
        "id": "zildVZOpHKQn"
      },
      "execution_count": null,
      "outputs": []
    },
    {
      "cell_type": "markdown",
      "source": [
        "## 🌀 ФАЗА 2: Взаимодействие агентов"
      ],
      "metadata": {
        "id": "8Z1pTaRGLHdp"
      }
    },
    {
      "cell_type": "code",
      "source": [
        "INTERACTION_LOGIC = \"\"\"<Ваше описание взаимодействия>\"\"\""
      ],
      "metadata": {
        "id": "WEr97J4fHOiV"
      },
      "execution_count": null,
      "outputs": []
    },
    {
      "cell_type": "markdown",
      "source": [
        "## 🌀 ФАЗА 3: Распределённая обработка"
      ],
      "metadata": {
        "id": "ypDqcri_HTuw"
      }
    },
    {
      "cell_type": "code",
      "source": [
        "DISTRIBUTED_DECISION = \"\"\"<Ваше описание распределённого принятия решений>\"\"\""
      ],
      "metadata": {
        "id": "wvofWdAsHSMt"
      },
      "execution_count": null,
      "outputs": []
    },
    {
      "cell_type": "markdown",
      "source": [
        "## 🌀 ФАЗА 4: Адаптация и обучение"
      ],
      "metadata": {
        "id": "JoBCjwG9HYb4"
      }
    },
    {
      "cell_type": "code",
      "source": [
        "ADAPTATION_MECHANISM = \"\"\"<Ваше описание адаптации>\"\"\""
      ],
      "metadata": {
        "id": "S53dWbF5HcTN"
      },
      "execution_count": null,
      "outputs": []
    },
    {
      "cell_type": "markdown",
      "source": [
        "## 🌀 ФАЗА 5: Финальная настройка\n"
      ],
      "metadata": {
        "id": "DJmjC1S7Hd_Y"
      }
    },
    {
      "cell_type": "code",
      "source": [
        "# Ниже напишите функцию mas_decision(initiative)\n",
        "def mas_decision(initiative):\n",
        "    # Пример: принимать всё, если хватает бюджета\n",
        "    return state[\"budget\"] >= initiative[\"cost\"]"
      ],
      "metadata": {
        "id": "eA8YDASbHjir"
      },
      "execution_count": null,
      "outputs": []
    },
    {
      "cell_type": "markdown",
      "source": [],
      "metadata": {
        "id": "d5TVqf8UHgnx"
      }
    },
    {
      "cell_type": "markdown",
      "source": [
        "## 🌀 ФАЗА 6: Автономная симуляция"
      ],
      "metadata": {
        "id": "Pq15dDxzHoKu"
      }
    },
    {
      "cell_type": "code",
      "source": [
        "# Загрузите CSV с инициативами от ведущего\n",
        "# Файл должен содержать: faction,text,cost,satisfaction_change\n",
        "\n",
        "csv_path = \"initiatives_day6_to_30.csv\"  # <-- замените на путь к своему файлу\n",
        "future_events = pd.read_csv(csv_path)\n",
        "\n",
        "# Преобразуем строку JSON в словарь satisfaction_change\n",
        "future_events[\"satisfaction_change\"] = future_events[\"satisfaction_change\"].apply(ast.literal_eval)\n",
        "\n",
        "# Симуляция автономной фазы\n",
        "for i, row in future_events.iterrows():\n",
        "    initiative = row.to_dict()\n",
        "    decision = mas_decision(initiative)\n",
        "    if decision:\n",
        "        result = apply_initiative(state, initiative)\n",
        "    else:\n",
        "        result = \"Отклонено\"\n",
        "    state[\"log\"].append({\"day\": state[\"day\"], \"initiative\": initiative, \"decision\": decision, \"result\": result})\n",
        "    state[\"day\"] += 1\n",
        "    game_over, reason = check_game_over(state)\n",
        "    if game_over:\n",
        "        print(f\"Игра завершена на дне {state['day'] - 1}: {reason}\")\n",
        "        break\n",
        "else:\n",
        "    print(\"MAS проработала все 30 дней!\")"
      ],
      "metadata": {
        "id": "haMd77v4H91U"
      },
      "execution_count": null,
      "outputs": []
    }
  ]
}
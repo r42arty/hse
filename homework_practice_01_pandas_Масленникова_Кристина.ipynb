{
  "cells": [
    {
      "cell_type": "markdown",
      "metadata": {
        "id": "view-in-github",
        "colab_type": "text"
      },
      "source": [
        "<a href=\"https://colab.research.google.com/github/r42arty/hse/blob/main/homework_practice_01_pandas_%D0%9C%D0%B0%D1%81%D0%BB%D0%B5%D0%BD%D0%BD%D0%B8%D0%BA%D0%BE%D0%B2%D0%B0_%D0%9A%D1%80%D0%B8%D1%81%D1%82%D0%B8%D0%BD%D0%B0.ipynb\" target=\"_parent\"><img src=\"https://colab.research.google.com/assets/colab-badge.svg\" alt=\"Open In Colab\"/></a>"
      ]
    },
    {
      "cell_type": "markdown",
      "metadata": {
        "id": "HcF9My_FhLuk"
      },
      "source": [
        "## <center> Практическое домашнее задание 1 </center>\n",
        "\n",
        "*`credits to ML course by E. Sokolov`*\n",
        "\n",
        "### Общая информация\n",
        "\n",
        "Дата выдачи: 01.02.2025\n",
        "\n",
        "Первый дедлайн: 07:59MSK 20.02.2025\n",
        "\n",
        "Второй дедлайн: 07:59MSK 24.02.2025"
      ]
    },
    {
      "cell_type": "markdown",
      "metadata": {
        "id": "G64TptyJhLuo"
      },
      "source": [
        "### О задании\n",
        "\n",
        "Задание состоит из двух разделов, посвященных работе с табличными данными с помощью библиотеки `pandas` и визуализации с помощью `matplotlib`. В первом разделе вам предстоит выполнить базовые задания с помощью вышеуказанных библиотек, а во втором распределить студентов по курсам. Баллы даются за выполнение отдельных пунктов. Задачи в рамках одного раздела рекомендуется решать в том порядке, в котором они даны в задании.\n",
        "\n",
        "Задание направлено на освоение jupyter notebook (будет использоваться в дальнейших заданиях), библиотек pandas и matplotlib.\n",
        "\n",
        "### Оценивание и штрафы\n",
        "Каждая из задач имеет определенную «стоимость» (указана в скобках около задачи).\n",
        "\n",
        "**Штраф за каждый день просрочки мягкого дедлайна**: 0.5 баллов. После жесткого дедлайна работы не принимаются.\n",
        "\n",
        "Задание выполняется самостоятельно. «Похожие» решения считаются плагиатом и все задействованные студенты (в том числе те, у кого списали) не могут получить за него больше 0 баллов. Если вы нашли решение какого-то из заданий (или его часть) в открытом источнике, необходимо указать ссылку на этот источник.\n",
        "\n",
        "### Формат сдачи\n",
        "Задания сдаются через гугл-форму https://forms.gle/pT6CtSPNRXoqd64d6. Сам ноутбук называйте в формате homework-practice-01-pandas-Username.ipynb, где Username — ваша фамилия."
      ]
    },
    {
      "cell_type": "markdown",
      "metadata": {
        "id": "BaXlfHE_hLup"
      },
      "source": [
        "## 0. Введение"
      ]
    },
    {
      "cell_type": "markdown",
      "metadata": {
        "id": "wirAvJNxhLup"
      },
      "source": [
        "Сейчас мы находимся в jupyter-ноутбуке (или ipython-ноутбуке). Это удобная среда для написания кода, проведения экспериментов, изучения данных, построения визуализаций и других нужд, не связанных с написанием production-кода.\n",
        "\n",
        "Ноутбук состоит из ячеек, каждая из которых может быть либо ячейкой с кодом, либо ячейкой с текстом размеченным и неразмеченным. Текст поддерживает markdown-разметку и формулы в Latex.\n",
        "\n",
        "Для работы с содержимым ячейки используется *режим редактирования* (*Edit mode*, включается нажатием клавиши **Enter** после выбора ячейки), а для навигации между ячейками искользуется *командный режим* (*Command mode*, включается нажатием клавиши **Esc**). Тип ячейки можно задать в командном режиме либо с помощью горячих клавиш (**y** to code, **m** to markdown, **r** to edit raw text), либо в меню *Cell -> Cell type*.\n",
        "\n",
        "После заполнения ячейки нужно нажать *Shift + Enter*, эта команда обработает содержимое ячейки: проинтерпретирует код или сверстает размеченный текст."
      ]
    },
    {
      "cell_type": "code",
      "execution_count": null,
      "metadata": {
        "id": "aQ2_j3nkhLuq",
        "colab": {
          "base_uri": "https://localhost:8080/"
        },
        "outputId": "2b763396-fd23-42ba-968c-0e8cd64902b2"
      },
      "outputs": [
        {
          "output_type": "execute_result",
          "data": {
            "text/plain": [
              "4"
            ]
          },
          "metadata": {},
          "execution_count": 1
        }
      ],
      "source": [
        "# ячейка с кодом, при выполнении которой появится output\n",
        "2 + 2"
      ]
    },
    {
      "cell_type": "markdown",
      "metadata": {
        "id": "ZlulCwVKhLur"
      },
      "source": [
        "Ячейка с неразмеченным текстом."
      ]
    },
    {
      "cell_type": "markdown",
      "metadata": {
        "id": "A4wkVlIehLur"
      },
      "source": [
        "Попробуйте создать свои ячейки, написать какой-нибудь код и текст какой-нибудь формулой."
      ]
    },
    {
      "cell_type": "code",
      "execution_count": null,
      "metadata": {
        "id": "BIuaYSvqhLus",
        "colab": {
          "base_uri": "https://localhost:8080/"
        },
        "outputId": "d5ab96fa-5209-4483-89fa-2c903493cf4c"
      },
      "outputs": [
        {
          "output_type": "execute_result",
          "data": {
            "text/plain": [
              "13"
            ]
          },
          "metadata": {},
          "execution_count": 2
        }
      ],
      "source": [
        "# your code\n",
        "5+8"
      ]
    },
    {
      "cell_type": "markdown",
      "metadata": {
        "id": "iWs6ljrIhLus"
      },
      "source": [
        "[Здесь](https://athena.brynmawr.edu/jupyter/hub/dblank/public/Jupyter%20Notebook%20Users%20Manual.ipynb) находится <s>не</s>большая заметка о используемом языке разметки Markdown. Он позволяет:\n",
        "\n",
        "0. Составлять упорядоченные списки\n",
        "1. Выделять *текст* <s>при</s> **необходимости**\n",
        "2. Добавлять [ссылки](http://imgs.xkcd.com/comics/the_universal_label.png)\n",
        "\n",
        "\n",
        "* Составлять неупорядоченные списки\n",
        "\n",
        "Делать вставки с помощью LaTex:\n",
        "    \n",
        "$\n",
        "\\left\\{\n",
        "\\begin{array}{ll}\n",
        "x = 16 \\sin^3 (t) \\\\\n",
        "y = 13 \\cos (t) - 5 \\cos (2t) - 2 \\cos (3t) - \\cos (4t) \\\\\n",
        "t \\in [0, 2 \\pi]\n",
        "\\end{array}\n",
        "\\right.$"
      ]
    },
    {
      "cell_type": "markdown",
      "metadata": {
        "id": "6fmTGcXOhLus"
      },
      "source": [
        "А ещё можно вставлять картинки, или гифки, или что захотите:\n",
        "\n",
        "<img src=\"https://media1.tenor.com/images/9b8fbe9214504bcf6c60fe4e4f7e114e/tenor.gif?itemid=5416416\" style=\"width: 400px\">"
      ]
    },
    {
      "cell_type": "markdown",
      "metadata": {
        "id": "J_toGw7DhLut"
      },
      "source": [
        "### Google Colab"
      ]
    },
    {
      "cell_type": "markdown",
      "metadata": {
        "id": "jpkbCVjGhLut"
      },
      "source": [
        "Что за колаб?\n",
        "\n",
        "**Google Colab (Colaboratory)** это **Jupyter Notebook + Cloud + Google Drive.**\n",
        "\n",
        "Компания Google предоставляет возможность бесплатно запускать ноутбуки (предварительно загрузив их на свой гугл-диск) прямо в облаке. При этом вам не требуется установка никаких пакетов на свою машину, а работать можно прямиком из браузера. Вот ссылка:"
      ]
    },
    {
      "cell_type": "markdown",
      "metadata": {
        "id": "06MQog3yhLut"
      },
      "source": [
        "https://colab.research.google.com"
      ]
    },
    {
      "cell_type": "markdown",
      "metadata": {
        "id": "5_hfWXKPhLut"
      },
      "source": [
        "При использовании вы увидете много сходств с jupyter ноутбуком. Одним из преимуществ является доступность GPU, соответствующую опцию можно активировать в настройках сервиса. При желании вы сможете найти в интернете много туториалов по использованию или разобраться самостоятельно =)"
      ]
    },
    {
      "cell_type": "markdown",
      "metadata": {
        "id": "sUe2vnFGhLuu"
      },
      "source": [
        "## 1. Табличные данные и Pandas"
      ]
    },
    {
      "cell_type": "markdown",
      "metadata": {
        "id": "DJQzjjqJhLuu"
      },
      "source": [
        "Pandas — удобная библиотека для работы с табличными данными в Python, если данных не слишком много и они помещаются в оперативную память вашего компьютера. Несмотря на неэффективность реализации и некоторые проблемы, библиотека стала стандартом в анализе данных.\n",
        "\n",
        "Основной объект в pandas — это DataFrame, представляющий собой таблицу с именованными колонками различных типов, индексом (может быть многоуровневым). DataFrame можно создавать, считывая таблицу из файла или задавая вручную из других объектов.\n",
        "\n",
        "В этой части потребуется выполнить несколько небольших заданий. Можно пойти двумя путями: сначала изучить материалы, а потом приступить к заданиям, или же разбираться \"по ходу\". Выбирайте сами.\n",
        "\n",
        "Материалы:\n",
        "1. [Pandas за 10 минут из официального руководства](http://pandas.pydata.org/pandas-docs/stable/10min.html)\n",
        "2. [Документация](http://pandas.pydata.org/pandas-docs/stable/index.html) (стоит обращаться, если не понятно, как вызывать конкретный метод)\n",
        "3. [Примеры использования функционала](http://nbviewer.jupyter.org/github/justmarkham/pandas-videos/blob/master/pandas.ipynb)\n",
        "\n",
        "Многие из заданий можно выполнить несколькими способами. Не существуют единственно верного, но попробуйте максимально задействовать арсенал pandas и ориентируйтесь на простоту и понятность вашего кода. Мы не будем подсказывать, что нужно использовать для решения конкретной задачи, попробуйте находить необходимый функционал сами (название метода чаще всего очевидно). В помощь вам документация, поиск и stackoverflow."
      ]
    },
    {
      "cell_type": "code",
      "execution_count": null,
      "metadata": {
        "id": "26zbFY25hLuv",
        "outputId": "404c22c6-2696-48ab-c71e-7a3ffbc36b18"
      },
      "outputs": [
        {
          "name": "stdout",
          "output_type": "stream",
          "text": [
            "Populating the interactive namespace from numpy and matplotlib\n"
          ]
        }
      ],
      "source": [
        "%pylab inline\n",
        "import pandas as pd"
      ]
    },
    {
      "cell_type": "markdown",
      "metadata": {
        "id": "dneJl9TyhLuv"
      },
      "source": [
        "Скачаем подготовленные данные командой ниже:"
      ]
    },
    {
      "cell_type": "code",
      "execution_count": null,
      "metadata": {
        "id": "rj_I0RslhLuw"
      },
      "outputs": [],
      "source": [
        "!wget  -O 'end_seminar.xlsx' -q 'https://www.dropbox.com/s/f4rm8sjc3v99p0m/_end_seminar.xlsx?dl=0'"
      ]
    },
    {
      "cell_type": "markdown",
      "metadata": {
        "id": "VFs_6IythLux"
      },
      "source": [
        "**В первой части задания (до раздела \"Распределение студентов по курсам\") использование циклов запрещается и повлечет за собой снижение оценки. Использование <code>vectorize</code> и  <code>apply</code>, <code>apply_along_axis</code> крайне нежелательно.**"
      ]
    },
    {
      "cell_type": "markdown",
      "metadata": {
        "id": "shFkfJkohLux"
      },
      "source": [
        "Для каждой задачи из этого раздела вы должны написать код для получения ответа, а также дать текстовый ответ, если он предполагается.\n",
        "\n",
        "На некоторые вопросы вы можете получить путём пристального взгляда на таблицу, но это не будет засчитываться. Вы в любом случае должны получить ответ с помощью кода."
      ]
    },
    {
      "cell_type": "markdown",
      "metadata": {
        "id": "gDD85M7bhLux"
      },
      "source": [
        "#### 1. [0 баллов] Откройте файл с таблицей (не забудьте про её формат). Выведите последние 10 строк."
      ]
    },
    {
      "cell_type": "code",
      "execution_count": null,
      "metadata": {
        "id": "PKulur3LhLuy",
        "colab": {
          "base_uri": "https://localhost:8080/"
        },
        "outputId": "45f49d71-b7fe-40e7-d88a-f3c465c842e1"
      },
      "outputs": [
        {
          "output_type": "stream",
          "name": "stdout",
          "text": [
            "                  timestamp                                id  rating  \\\n",
            "351 2020-05-18 23:58:33.903  8fe79f84f36e3a5d2d6745621321302c    1016   \n",
            "352 2020-05-18 23:59:20.831  f93afd8e92c336b471aa3bbbc579aefe    1298   \n",
            "353 2020-05-18 23:59:28.998  9963fc00d9405a35b894cc04a7e19855    1135   \n",
            "354 2020-05-19 08:55:39.509  98c5a2548d93f26bd4195466e93178b3    1035   \n",
            "355 2020-05-19 18:58:06.283  ba298cbd9be59b84bab33325e956f27e    1155   \n",
            "356 2020-05-19 19:04:17.873  c5870b37ee3f672e4259dfb2fc02ed8f    1029   \n",
            "357 2020-05-19 20:19:25.815  f44aea1095f9f5b8e2f5f0ed2b17891b    1060   \n",
            "358 2020-05-20 11:54:38.318  d7118b44c7e8fdbbaaca226d2da6fef1    1111   \n",
            "359 2020-05-23 21:16:40.916  79d14db48e4737af731960ae212d5134     966   \n",
            "360 2020-05-23 21:16:40.916  f2d210ace25a841e1e58036b257d5d47    1195   \n",
            "\n",
            "     18_group  is_mi                                           fall_1  \\\n",
            "351       NaN    NaN                 Безопасность компьютерных систем   \n",
            "352       NaN    NaN                Высокопроизводительные вычисления   \n",
            "353       NaN    NaN                 Безопасность компьютерных систем   \n",
            "354       NaN    NaN            Байесовские методы машинного обучения   \n",
            "355       NaN    NaN  Сбор и обработка данных с помощью краудсорсинга   \n",
            "356       NaN    NaN                      Statistical Learning Theory   \n",
            "357       NaN    NaN                Анализ неструктурированных данных   \n",
            "358       NaN    NaN  Сбор и обработка данных с помощью краудсорсинга   \n",
            "359       NaN    NaN                 Безопасность компьютерных систем   \n",
            "360       NaN    NaN                Анализ неструктурированных данных   \n",
            "\n",
            "                                                fall_2  \\\n",
            "351                  Высокопроизводительные вычисления   \n",
            "352    Сбор и обработка данных с помощью краудсорсинга   \n",
            "353                  Высокопроизводительные вычисления   \n",
            "354               Глубинное обучение в обработке звука   \n",
            "355              Байесовские методы машинного обучения   \n",
            "356                  Анализ неструктурированных данных   \n",
            "357                  Высокопроизводительные вычисления   \n",
            "358                        Statistical Learning Theory   \n",
            "359  Принятие решений в условиях риска и неопределё...   \n",
            "360                      Моделирование временных рядов   \n",
            "\n",
            "                                              fall_3  \\\n",
            "351  Сбор и обработка данных с помощью краудсорсинга   \n",
            "352                      Statistical Learning Theory   \n",
            "353                 Безопасность компьютерных систем   \n",
            "354                      Statistical Learning Theory   \n",
            "355                Анализ неструктурированных данных   \n",
            "356  Сбор и обработка данных с помощью краудсорсинга   \n",
            "357                    Моделирование временных рядов   \n",
            "358                Анализ неструктурированных данных   \n",
            "359                Анализ неструктурированных данных   \n",
            "360                Высокопроизводительные вычисления   \n",
            "\n",
            "                                              spring_1  \\\n",
            "351                             Конфликты и кооперация   \n",
            "352               Методы сжатия и передачи медиаданных   \n",
            "353  Проектирование и разработка высоконагруженных ...   \n",
            "354                           Обучение с подкреплением   \n",
            "355                             Конфликты и кооперация   \n",
            "356                           Обучение с подкреплением   \n",
            "357                             Конфликты и кооперация   \n",
            "358  Проектирование и разработка высоконагруженных ...   \n",
            "359  Проектирование и разработка высоконагруженных ...   \n",
            "360                           Обучение с подкреплением   \n",
            "\n",
            "                                              spring_2  \\\n",
            "351  Проектирование и разработка высоконагруженных ...   \n",
            "352  Проектирование и разработка высоконагруженных ...   \n",
            "353               Методы сжатия и передачи медиаданных   \n",
            "354            Генеративные модели в машинном обучении   \n",
            "355                           Обучение с подкреплением   \n",
            "356                             Конфликты и кооперация   \n",
            "357                           Обучение с подкреплением   \n",
            "358               Методы сжатия и передачи медиаданных   \n",
            "359               Методы сжатия и передачи медиаданных   \n",
            "360                                Компьютерное зрение   \n",
            "\n",
            "                                 spring_3 is_first_time  percentile  17_group  \\\n",
            "351                 Символьные вычисления            Да    0.942029     174.0   \n",
            "352                Конфликты и кооперация            Да    0.057971     175.0   \n",
            "353                 Символьные вычисления            Да    0.572464     175.0   \n",
            "354  Методы сжатия и передачи медиаданных           Нет    0.905797     171.0   \n",
            "355                   Компьютерное зрение            Да    0.507246     171.0   \n",
            "356                   Компьютерное зрение            Да    0.920290     174.0   \n",
            "357                      Численные методы            Да    0.840580     174.0   \n",
            "358                      Численные методы            Да    0.652174     173.0   \n",
            "359                   Компьютерное зрение            Да    0.985507     172.0   \n",
            "360  Методы сжатия и передачи медиаданных           NaN    0.369565     176.0   \n",
            "\n",
            "                            blended  is_ml_student  \n",
            "351                          DevOps            NaN  \n",
            "352                          DevOps            NaN  \n",
            "353                          DevOps            NaN  \n",
            "354                          DevOps            NaN  \n",
            "355  Соревновательный анализ данных            NaN  \n",
            "356                          DevOps            NaN  \n",
            "357                          DevOps            NaN  \n",
            "358  Соревновательный анализ данных            NaN  \n",
            "359                          DevOps            NaN  \n",
            "360  Соревновательный анализ данных            NaN  \n"
          ]
        }
      ],
      "source": [
        "# your code - прежде чем открывать файл, я его скачала и перевела в формат csv, заново загрузила в гугл коллаб\n",
        "import pandas as pd\n",
        "df = pd.read_excel('/content/end_seminar.xlsx')\n",
        "print(df.tail(10))"
      ]
    },
    {
      "cell_type": "markdown",
      "metadata": {
        "id": "jPiMwyqHhLuy"
      },
      "source": [
        "#### 2. [1 балл] Есть ли в данных пропуски? В каких колонках? Сколько их в каждой из этих колонок?"
      ]
    },
    {
      "cell_type": "code",
      "execution_count": null,
      "metadata": {
        "id": "edY1RrSOhLuy",
        "colab": {
          "base_uri": "https://localhost:8080/"
        },
        "outputId": "f9d14e9c-edc5-4839-a72f-6b1fd7d3939a"
      },
      "outputs": [
        {
          "output_type": "stream",
          "name": "stdout",
          "text": [
            "     timestamp     id  rating  18_group  is_mi  fall_1  fall_2  fall_3  \\\n",
            "0        False  False   False     False   True   False   False   False   \n",
            "1        False  False   False     False   True   False   False   False   \n",
            "2        False  False   False     False   True   False   False   False   \n",
            "3        False  False   False     False   True   False   False   False   \n",
            "4        False  False   False     False   True   False   False   False   \n",
            "..         ...    ...     ...       ...    ...     ...     ...     ...   \n",
            "356      False  False   False      True   True   False   False   False   \n",
            "357      False  False   False      True   True   False   False   False   \n",
            "358      False  False   False      True   True   False   False   False   \n",
            "359      False  False   False      True   True   False   False   False   \n",
            "360      False  False   False      True   True   False   False   False   \n",
            "\n",
            "     spring_1  spring_2  spring_3  is_first_time  percentile  17_group  \\\n",
            "0       False     False     False          False       False      True   \n",
            "1       False     False     False          False       False      True   \n",
            "2       False     False     False          False       False      True   \n",
            "3       False     False     False          False       False      True   \n",
            "4       False     False     False          False       False      True   \n",
            "..        ...       ...       ...            ...         ...       ...   \n",
            "356     False     False     False          False       False     False   \n",
            "357     False     False     False          False       False     False   \n",
            "358     False     False     False          False       False     False   \n",
            "359     False     False     False          False       False     False   \n",
            "360     False     False     False           True       False     False   \n",
            "\n",
            "     blended  is_ml_student  \n",
            "0       True           True  \n",
            "1       True           True  \n",
            "2       True           True  \n",
            "3       True           True  \n",
            "4       True           True  \n",
            "..       ...            ...  \n",
            "356    False           True  \n",
            "357    False           True  \n",
            "358    False           True  \n",
            "359    False           True  \n",
            "360    False           True  \n",
            "\n",
            "[361 rows x 16 columns]\n"
          ]
        }
      ],
      "source": [
        "# your code\n",
        "print(df.isna())"
      ]
    },
    {
      "cell_type": "code",
      "source": [
        "df.isna().sum()"
      ],
      "metadata": {
        "colab": {
          "base_uri": "https://localhost:8080/",
          "height": 586
        },
        "id": "f5KHz3n2XQpd",
        "outputId": "a0f769e5-0997-4056-d2f0-434c6f33872c"
      },
      "execution_count": null,
      "outputs": [
        {
          "output_type": "execute_result",
          "data": {
            "text/plain": [
              "timestamp          0\n",
              "id                 0\n",
              "rating             0\n",
              "18_group         138\n",
              "is_mi            343\n",
              "fall_1             0\n",
              "fall_2             0\n",
              "fall_3             0\n",
              "spring_1           0\n",
              "spring_2           0\n",
              "spring_3           0\n",
              "is_first_time      2\n",
              "percentile         0\n",
              "17_group         223\n",
              "blended          223\n",
              "is_ml_student    304\n",
              "dtype: int64"
            ],
            "text/html": [
              "<div>\n",
              "<style scoped>\n",
              "    .dataframe tbody tr th:only-of-type {\n",
              "        vertical-align: middle;\n",
              "    }\n",
              "\n",
              "    .dataframe tbody tr th {\n",
              "        vertical-align: top;\n",
              "    }\n",
              "\n",
              "    .dataframe thead th {\n",
              "        text-align: right;\n",
              "    }\n",
              "</style>\n",
              "<table border=\"1\" class=\"dataframe\">\n",
              "  <thead>\n",
              "    <tr style=\"text-align: right;\">\n",
              "      <th></th>\n",
              "      <th>0</th>\n",
              "    </tr>\n",
              "  </thead>\n",
              "  <tbody>\n",
              "    <tr>\n",
              "      <th>timestamp</th>\n",
              "      <td>0</td>\n",
              "    </tr>\n",
              "    <tr>\n",
              "      <th>id</th>\n",
              "      <td>0</td>\n",
              "    </tr>\n",
              "    <tr>\n",
              "      <th>rating</th>\n",
              "      <td>0</td>\n",
              "    </tr>\n",
              "    <tr>\n",
              "      <th>18_group</th>\n",
              "      <td>138</td>\n",
              "    </tr>\n",
              "    <tr>\n",
              "      <th>is_mi</th>\n",
              "      <td>343</td>\n",
              "    </tr>\n",
              "    <tr>\n",
              "      <th>fall_1</th>\n",
              "      <td>0</td>\n",
              "    </tr>\n",
              "    <tr>\n",
              "      <th>fall_2</th>\n",
              "      <td>0</td>\n",
              "    </tr>\n",
              "    <tr>\n",
              "      <th>fall_3</th>\n",
              "      <td>0</td>\n",
              "    </tr>\n",
              "    <tr>\n",
              "      <th>spring_1</th>\n",
              "      <td>0</td>\n",
              "    </tr>\n",
              "    <tr>\n",
              "      <th>spring_2</th>\n",
              "      <td>0</td>\n",
              "    </tr>\n",
              "    <tr>\n",
              "      <th>spring_3</th>\n",
              "      <td>0</td>\n",
              "    </tr>\n",
              "    <tr>\n",
              "      <th>is_first_time</th>\n",
              "      <td>2</td>\n",
              "    </tr>\n",
              "    <tr>\n",
              "      <th>percentile</th>\n",
              "      <td>0</td>\n",
              "    </tr>\n",
              "    <tr>\n",
              "      <th>17_group</th>\n",
              "      <td>223</td>\n",
              "    </tr>\n",
              "    <tr>\n",
              "      <th>blended</th>\n",
              "      <td>223</td>\n",
              "    </tr>\n",
              "    <tr>\n",
              "      <th>is_ml_student</th>\n",
              "      <td>304</td>\n",
              "    </tr>\n",
              "  </tbody>\n",
              "</table>\n",
              "</div><br><label><b>dtype:</b> int64</label>"
            ]
          },
          "metadata": {},
          "execution_count": 17
        }
      ]
    },
    {
      "cell_type": "code",
      "source": [
        "df1 = df.isna().sum()\n",
        "df1_columns = df1[df1 > 0]\n",
        "\n",
        "print(\"\\Пропуски в данных:\")\n",
        "if df1.empty:\n",
        "    print(\"В данных отсутствуют пропуски\")\n",
        "else:\n",
        "    print(df1)"
      ],
      "metadata": {
        "colab": {
          "base_uri": "https://localhost:8080/"
        },
        "id": "X0a0P874YH3x",
        "outputId": "02cd9b89-54e9-4777-eaff-cf3508664b98"
      },
      "execution_count": null,
      "outputs": [
        {
          "output_type": "stream",
          "name": "stdout",
          "text": [
            "\\Пропуски в данных:\n",
            "timestamp          0\n",
            "id                 0\n",
            "rating             0\n",
            "18_group         138\n",
            "is_mi            343\n",
            "fall_1             0\n",
            "fall_2             0\n",
            "fall_3             0\n",
            "spring_1           0\n",
            "spring_2           0\n",
            "spring_3           0\n",
            "is_first_time      2\n",
            "percentile         0\n",
            "17_group         223\n",
            "blended          223\n",
            "is_ml_student    304\n",
            "dtype: int64\n"
          ]
        }
      ]
    },
    {
      "cell_type": "markdown",
      "metadata": {
        "id": "B5ORhP2uhLuz"
      },
      "source": [
        "Заполните пропуски пустой строкой для строковых колонок и нулём для числовых (постарайтесь избежать перечисления названий всех столбцов)."
      ]
    },
    {
      "cell_type": "code",
      "source": [
        "import pandas as pd\n",
        "df = pd.read_excel('/content/end_seminar.xlsx')\n",
        "for col in df.columns:\n",
        "    if df[col].dtype == 'object':\n",
        "        df[col] = df[col].fillna('')\n",
        "    else:\n",
        "        df[col] = df[col].fillna(0)\n",
        "\n",
        "print(df.tail(10))"
      ],
      "metadata": {
        "colab": {
          "base_uri": "https://localhost:8080/"
        },
        "id": "CEW_RlN-aLBb",
        "outputId": "79089e8b-c743-413a-83b6-8d8741a211f6"
      },
      "execution_count": null,
      "outputs": [
        {
          "output_type": "stream",
          "name": "stdout",
          "text": [
            "                  timestamp                                id  rating  \\\n",
            "351 2020-05-18 23:58:33.903  8fe79f84f36e3a5d2d6745621321302c    1016   \n",
            "352 2020-05-18 23:59:20.831  f93afd8e92c336b471aa3bbbc579aefe    1298   \n",
            "353 2020-05-18 23:59:28.998  9963fc00d9405a35b894cc04a7e19855    1135   \n",
            "354 2020-05-19 08:55:39.509  98c5a2548d93f26bd4195466e93178b3    1035   \n",
            "355 2020-05-19 18:58:06.283  ba298cbd9be59b84bab33325e956f27e    1155   \n",
            "356 2020-05-19 19:04:17.873  c5870b37ee3f672e4259dfb2fc02ed8f    1029   \n",
            "357 2020-05-19 20:19:25.815  f44aea1095f9f5b8e2f5f0ed2b17891b    1060   \n",
            "358 2020-05-20 11:54:38.318  d7118b44c7e8fdbbaaca226d2da6fef1    1111   \n",
            "359 2020-05-23 21:16:40.916  79d14db48e4737af731960ae212d5134     966   \n",
            "360 2020-05-23 21:16:40.916  f2d210ace25a841e1e58036b257d5d47    1195   \n",
            "\n",
            "     18_group  is_mi                                           fall_1  \\\n",
            "351       0.0    0.0                 Безопасность компьютерных систем   \n",
            "352       0.0    0.0                Высокопроизводительные вычисления   \n",
            "353       0.0    0.0                 Безопасность компьютерных систем   \n",
            "354       0.0    0.0            Байесовские методы машинного обучения   \n",
            "355       0.0    0.0  Сбор и обработка данных с помощью краудсорсинга   \n",
            "356       0.0    0.0                      Statistical Learning Theory   \n",
            "357       0.0    0.0                Анализ неструктурированных данных   \n",
            "358       0.0    0.0  Сбор и обработка данных с помощью краудсорсинга   \n",
            "359       0.0    0.0                 Безопасность компьютерных систем   \n",
            "360       0.0    0.0                Анализ неструктурированных данных   \n",
            "\n",
            "                                                fall_2  \\\n",
            "351                  Высокопроизводительные вычисления   \n",
            "352    Сбор и обработка данных с помощью краудсорсинга   \n",
            "353                  Высокопроизводительные вычисления   \n",
            "354               Глубинное обучение в обработке звука   \n",
            "355              Байесовские методы машинного обучения   \n",
            "356                  Анализ неструктурированных данных   \n",
            "357                  Высокопроизводительные вычисления   \n",
            "358                        Statistical Learning Theory   \n",
            "359  Принятие решений в условиях риска и неопределё...   \n",
            "360                      Моделирование временных рядов   \n",
            "\n",
            "                                              fall_3  \\\n",
            "351  Сбор и обработка данных с помощью краудсорсинга   \n",
            "352                      Statistical Learning Theory   \n",
            "353                 Безопасность компьютерных систем   \n",
            "354                      Statistical Learning Theory   \n",
            "355                Анализ неструктурированных данных   \n",
            "356  Сбор и обработка данных с помощью краудсорсинга   \n",
            "357                    Моделирование временных рядов   \n",
            "358                Анализ неструктурированных данных   \n",
            "359                Анализ неструктурированных данных   \n",
            "360                Высокопроизводительные вычисления   \n",
            "\n",
            "                                              spring_1  \\\n",
            "351                             Конфликты и кооперация   \n",
            "352               Методы сжатия и передачи медиаданных   \n",
            "353  Проектирование и разработка высоконагруженных ...   \n",
            "354                           Обучение с подкреплением   \n",
            "355                             Конфликты и кооперация   \n",
            "356                           Обучение с подкреплением   \n",
            "357                             Конфликты и кооперация   \n",
            "358  Проектирование и разработка высоконагруженных ...   \n",
            "359  Проектирование и разработка высоконагруженных ...   \n",
            "360                           Обучение с подкреплением   \n",
            "\n",
            "                                              spring_2  \\\n",
            "351  Проектирование и разработка высоконагруженных ...   \n",
            "352  Проектирование и разработка высоконагруженных ...   \n",
            "353               Методы сжатия и передачи медиаданных   \n",
            "354            Генеративные модели в машинном обучении   \n",
            "355                           Обучение с подкреплением   \n",
            "356                             Конфликты и кооперация   \n",
            "357                           Обучение с подкреплением   \n",
            "358               Методы сжатия и передачи медиаданных   \n",
            "359               Методы сжатия и передачи медиаданных   \n",
            "360                                Компьютерное зрение   \n",
            "\n",
            "                                 spring_3 is_first_time  percentile  17_group  \\\n",
            "351                 Символьные вычисления            Да    0.942029     174.0   \n",
            "352                Конфликты и кооперация            Да    0.057971     175.0   \n",
            "353                 Символьные вычисления            Да    0.572464     175.0   \n",
            "354  Методы сжатия и передачи медиаданных           Нет    0.905797     171.0   \n",
            "355                   Компьютерное зрение            Да    0.507246     171.0   \n",
            "356                   Компьютерное зрение            Да    0.920290     174.0   \n",
            "357                      Численные методы            Да    0.840580     174.0   \n",
            "358                      Численные методы            Да    0.652174     173.0   \n",
            "359                   Компьютерное зрение            Да    0.985507     172.0   \n",
            "360  Методы сжатия и передачи медиаданных                  0.369565     176.0   \n",
            "\n",
            "                            blended  is_ml_student  \n",
            "351                          DevOps            0.0  \n",
            "352                          DevOps            0.0  \n",
            "353                          DevOps            0.0  \n",
            "354                          DevOps            0.0  \n",
            "355  Соревновательный анализ данных            0.0  \n",
            "356                          DevOps            0.0  \n",
            "357                          DevOps            0.0  \n",
            "358  Соревновательный анализ данных            0.0  \n",
            "359                          DevOps            0.0  \n",
            "360  Соревновательный анализ данных            0.0  \n"
          ]
        }
      ]
    },
    {
      "cell_type": "code",
      "execution_count": null,
      "metadata": {
        "id": "TlF_JJ2ghLuz"
      },
      "outputs": [],
      "source": [
        "# your code"
      ]
    },
    {
      "cell_type": "markdown",
      "metadata": {
        "id": "w5ELhkT1hLuz"
      },
      "source": [
        "#### 3. [1 балл] Посмотрите повнимательнее на колонку 'is_first_time'.\n",
        "\n",
        "Есть ли в ней ответы \"Нет\"? Сколько их?\n",
        "\n",
        "Если вы найдете повторные обращения студентов, оставьте только самую позднюю версию. В дальнейших заданиях используйте версию данных без повторов.\n",
        "\n",
        "<i>Обращения со значением \"Нет\" в 'is_first_time' могут быть как повторными, так и первичными, поскольку поле заполняли сами студенты.</i>"
      ]
    },
    {
      "cell_type": "code",
      "execution_count": null,
      "metadata": {
        "id": "VEfiNsyQhLuz",
        "colab": {
          "base_uri": "https://localhost:8080/"
        },
        "outputId": "7fb06240-080b-41fb-b905-82bdb0f197d4"
      },
      "outputs": [
        {
          "output_type": "stream",
          "name": "stdout",
          "text": [
            "51\n",
            "Количество 'Нет' после удаления повторов: 51\n"
          ]
        }
      ],
      "source": [
        "# your code\n",
        "\n",
        "no = len(df[df['is_first_time'] == \"Нет\"])\n",
        "print(no)\n",
        "\n",
        "data_sort = df.sort_values('timestamp')\n",
        "data_un = data_sort.drop_duplicates(subset='id', keep='last')\n",
        "no_count = len(data_un[data_un['is_first_time'] == \"Нет\"])\n",
        "print(\"Количество 'Нет' после удаления повторов:\", no_count)"
      ]
    },
    {
      "cell_type": "code",
      "source": [
        "# перезапись данных без повторов\n",
        "df = data_un\n",
        "print(df.head())"
      ],
      "metadata": {
        "colab": {
          "base_uri": "https://localhost:8080/"
        },
        "id": "jOJD-heThUv6",
        "outputId": "337e80f6-e5c2-4929-b1e5-8194ad183d7e"
      },
      "execution_count": null,
      "outputs": [
        {
          "output_type": "stream",
          "name": "stdout",
          "text": [
            "                  timestamp                                id  rating  \\\n",
            "223 2020-05-14 20:23:21.662  d555d2805e1d93d4f023e57dc4c8f403     996   \n",
            "224 2020-05-14 20:47:13.833  253bbe1a2021d0404712a1e4acd22939    1106   \n",
            "225 2020-05-14 20:52:42.734  881b1a6fda195b354ae2edb396a69f5d    1084   \n",
            "226 2020-05-14 21:03:02.916  5a9b8ac11ad05b39a58b0e04a263bf4c    1170   \n",
            "227 2020-05-14 21:10:54.945  1bbbfae51794b83c769b634be8da7b8d    1078   \n",
            "\n",
            "     18_group  is_mi                                fall_1  \\\n",
            "223       0.0    0.0      Безопасность компьютерных систем   \n",
            "224       0.0    0.0      Безопасность компьютерных систем   \n",
            "225       0.0    0.0      Безопасность компьютерных систем   \n",
            "226       0.0    0.0  Глубинное обучение в обработке звука   \n",
            "227       0.0    0.0      Безопасность компьютерных систем   \n",
            "\n",
            "                                   fall_2  \\\n",
            "223  Глубинное обучение в обработке звука   \n",
            "224         Моделирование временных рядов   \n",
            "225     Анализ неструктурированных данных   \n",
            "226           Statistical Learning Theory   \n",
            "227     Высокопроизводительные вычисления   \n",
            "\n",
            "                                              fall_3  \\\n",
            "223            Байесовские методы машинного обучения   \n",
            "224                      Statistical Learning Theory   \n",
            "225             Глубинное обучение в обработке звука   \n",
            "226  Сбор и обработка данных с помощью краудсорсинга   \n",
            "227                Анализ неструктурированных данных   \n",
            "\n",
            "                                              spring_1  \\\n",
            "223                                Компьютерное зрение   \n",
            "224  Проектирование и разработка высоконагруженных ...   \n",
            "225                                Компьютерное зрение   \n",
            "226                             Конфликты и кооперация   \n",
            "227  Проектирование и разработка высоконагруженных ...   \n",
            "\n",
            "                                              spring_2  \\\n",
            "223                           Обучение с подкреплением   \n",
            "224                                   Численные методы   \n",
            "225  Проектирование и разработка высоконагруженных ...   \n",
            "226                           Обучение с подкреплением   \n",
            "227               Методы сжатия и передачи медиаданных   \n",
            "\n",
            "                                              spring_3 is_first_time  \\\n",
            "223  Проектирование и разработка высоконагруженных ...            Да   \n",
            "224               Методы сжатия и передачи медиаданных            Да   \n",
            "225            Генеративные модели в машинном обучении            Да   \n",
            "226            Генеративные модели в машинном обучении            Да   \n",
            "227                             Конфликты и кооперация            Да   \n",
            "\n",
            "     percentile  17_group blended  is_ml_student  \n",
            "223    0.963768     172.0  DevOps            0.0  \n",
            "224    0.673913     176.0  DevOps            0.0  \n",
            "225    0.782609     172.0  DevOps            0.0  \n",
            "226    0.442029     171.0  DevOps            0.0  \n",
            "227    0.789855     176.0  DevOps            0.0  \n"
          ]
        }
      ]
    },
    {
      "cell_type": "markdown",
      "metadata": {
        "id": "Jhk3tVpVhLuy"
      },
      "source": [
        "#### 4. [1 балл] Ответьте на вопросы:\n",
        "1. Сколько было заявок из групп 18-го года набора, а сколько из групп 17-го года?\n",
        "2. Есть ли студенты с равными перцентилями (среди объединенных данных, ведь конкурс на каждый курс общий)?"
      ]
    },
    {
      "cell_type": "code",
      "source": [
        "g17 = df['17_group'].count()\n",
        "g18 = df['18_group'].count()\n",
        "\n",
        "print(f\"17-я группа: {g17}\")\n",
        "print(f\"18-я группа: {g18}\")\n",
        "\n",
        "dups = df['percentile'].duplicated().sum()\n",
        "\n",
        "print(f\"\\nДубликаты в percentile: {dups > 0}\")"
      ],
      "metadata": {
        "colab": {
          "base_uri": "https://localhost:8080/"
        },
        "id": "dOTP_F-kMLwh",
        "outputId": "0bd7d1f0-573f-4342-ceb0-d6b66e02e648"
      },
      "execution_count": null,
      "outputs": [
        {
          "output_type": "stream",
          "name": "stdout",
          "text": [
            "17-я группа: 138\n",
            "18-я группа: 223\n",
            "\n",
            "Дубликаты в percentile: True\n"
          ]
        }
      ]
    },
    {
      "cell_type": "markdown",
      "metadata": {
        "id": "IlzHp3HVhLuz"
      },
      "source": [
        "#### 5. [1 балл] Какие  blended-курсы для четверокурсников существуют? На какой blended-курс записалось наибольшее количество студентов? На каком из blended-курсов собрались студенты с самым высоким средним рейтингом (выведите этот курс и количество студентов на нем)?"
      ]
    },
    {
      "cell_type": "code",
      "execution_count": null,
      "metadata": {
        "id": "j_BRWerHhLu0",
        "colab": {
          "base_uri": "https://localhost:8080/"
        },
        "outputId": "22c85936-0a63-4ed2-affc-5e79dbf481c8"
      },
      "outputs": [
        {
          "output_type": "stream",
          "name": "stdout",
          "text": [
            "Blended-курсы:\n",
            " ['DevOps' 'Соревновательный анализ данных'\n",
            " 'Введение в дифференциальную геометрию']\n",
            "\n",
            "Самый популярный курс: DevOps\n",
            "Студентов: 91\n",
            "\n",
            "Курс с самым высоким средним рейтингом: Введение в дифференциальную геометрию\n",
            "Средний рейтинг: 1210.73\n",
            "Студентов: 15\n"
          ]
        }
      ],
      "source": [
        "\n",
        "print(\"Blended-курсы:\\n\", df['blended'].dropna().unique())\n",
        "\n",
        "pop_course = df['blended'].mode()[0]\n",
        "pop_count = df['blended'].value_counts().max()\n",
        "print(f\"\\nСамый популярный курс: {pop_course}\")\n",
        "print(f\"Студентов: {pop_count}\")\n",
        "\n",
        "top_b = df.groupby('blended')['rating'].mean().dropna().idxmax()\n",
        "top_b_value = df.groupby('blended')['rating'].mean().dropna().max()\n",
        "top_b_students = df[df['blended'] == top_rating].shape[0]\n",
        "\n",
        "print(f\"\\nКурс с самым высоким средним рейтингом: {top_b}\")\n",
        "print(f\"Средний рейтинг: {round(top_b_value, 2)}\")\n",
        "print(f\"Студентов: {top_b_students}\")\n"
      ]
    },
    {
      "cell_type": "markdown",
      "metadata": {
        "id": "IU_FLt8HhLu0"
      },
      "source": [
        "#### 6. [1.5 балл] Выясните, есть ли студенты с абсолютно одинаковыми предпочтениями по всем курсам.\n",
        "\n",
        "Для этого сформируйте таблицу, где для каждого возможного набора курсов посчитано количество студентов, выбравших такой набор, и оставьте только строки где это количество больше 1.\n",
        "\n",
        "В данном случае набор курсов задается упорядоченным множеством ('fall_1', 'fall_2', 'fall_3', 'spring_1', 'spring_2', 'spring_3', 'blended'). Элемент blended будет нулевым для 3-го курса."
      ]
    },
    {
      "cell_type": "code",
      "execution_count": null,
      "metadata": {
        "id": "BBDlR1mFhLu0",
        "colab": {
          "base_uri": "https://localhost:8080/",
          "height": 1000
        },
        "outputId": "9eeafc85-e029-4721-e326-3abc6a1349ea"
      },
      "outputs": [
        {
          "output_type": "display_data",
          "data": {
            "text/plain": [
              "                                             fall_1  \\\n",
              "0                       Statistical Learning Theory   \n",
              "1             Байесовские методы машинного обучения   \n",
              "2             Байесовские методы машинного обучения   \n",
              "3                  Безопасность компьютерных систем   \n",
              "4                  Безопасность компьютерных систем   \n",
              "5                  Безопасность компьютерных систем   \n",
              "6                  Безопасность компьютерных систем   \n",
              "7                  Безопасность компьютерных систем   \n",
              "8                  Безопасность компьютерных систем   \n",
              "9                  Безопасность компьютерных систем   \n",
              "10                Высокопроизводительные вычисления   \n",
              "11                Высокопроизводительные вычисления   \n",
              "12                    Моделирование временных рядов   \n",
              "13  Сбор и обработка данных с помощью краудсорсинга   \n",
              "14                                         Язык SQL   \n",
              "\n",
              "                                             fall_2  \\\n",
              "0                 Анализ неструктурированных данных   \n",
              "1                 Анализ неструктурированных данных   \n",
              "2                 Анализ неструктурированных данных   \n",
              "3                       Statistical Learning Theory   \n",
              "4                 Высокопроизводительные вычисления   \n",
              "5                 Высокопроизводительные вычисления   \n",
              "6                 Высокопроизводительные вычисления   \n",
              "7                              Матричные вычисления   \n",
              "8   Сбор и обработка данных с помощью краудсорсинга   \n",
              "9                                 Теория баз данных   \n",
              "10                 Безопасность компьютерных систем   \n",
              "11  Сбор и обработка данных с помощью краудсорсинга   \n",
              "12  Сбор и обработка данных с помощью краудсорсинга   \n",
              "13                                         Язык SQL   \n",
              "14                Высокопроизводительные вычисления   \n",
              "\n",
              "                                             fall_3  \\\n",
              "0   Сбор и обработка данных с помощью краудсорсинга   \n",
              "1              Глубинное обучение в обработке звука   \n",
              "2   Сбор и обработка данных с помощью краудсорсинга   \n",
              "3                              Матричные вычисления   \n",
              "4                 Анализ неструктурированных данных   \n",
              "5                                          Язык SQL   \n",
              "6                                          Язык SQL   \n",
              "7                     Моделирование временных рядов   \n",
              "8                              Матричные вычисления   \n",
              "9                                          Язык SQL   \n",
              "10  Сбор и обработка данных с помощью краудсорсинга   \n",
              "11                    Моделирование временных рядов   \n",
              "12                 Безопасность компьютерных систем   \n",
              "13                                Теория баз данных   \n",
              "14                                Теория баз данных   \n",
              "\n",
              "                                             spring_1  \\\n",
              "0                            Обучение с подкреплением   \n",
              "1                            Обучение с подкреплением   \n",
              "2                            Обучение с подкреплением   \n",
              "3                              Дискретная оптимизация   \n",
              "4   Проектирование и разработка высоконагруженных ...   \n",
              "5                                   Компьютерные сети   \n",
              "6         Промышленное программирование на языке Java   \n",
              "7         Промышленное программирование на языке Java   \n",
              "8                                   Компьютерные сети   \n",
              "9                                 Машинное обучение 2   \n",
              "10  Проектирование и разработка высоконагруженных ...   \n",
              "11  Проектирование и разработка высоконагруженных ...   \n",
              "12                                  Компьютерные сети   \n",
              "13        Промышленное программирование на языке Java   \n",
              "14                                  Компьютерные сети   \n",
              "\n",
              "                                       spring_2  \\\n",
              "0                        Конфликты и кооперация   \n",
              "1       Генеративные модели в машинном обучении   \n",
              "2                           Компьютерное зрение   \n",
              "3   Промышленное программирование на языке Java   \n",
              "4          Методы сжатия и передачи медиаданных   \n",
              "5   Промышленное программирование на языке Java   \n",
              "6                             Компьютерные сети   \n",
              "7                             Компьютерные сети   \n",
              "8   Промышленное программирование на языке Java   \n",
              "9                             Компьютерные сети   \n",
              "10         Методы сжатия и передачи медиаданных   \n",
              "11         Методы сжатия и передачи медиаданных   \n",
              "12   Дополнительные главы прикладной статистики   \n",
              "13                          Машинное обучение 2   \n",
              "14  Промышленное программирование на языке Java   \n",
              "\n",
              "                                       spring_3 blended  count  \n",
              "0                           Компьютерное зрение  DevOps      2  \n",
              "1                           Компьютерное зрение  DevOps      2  \n",
              "2       Генеративные модели в машинном обучении  DevOps      2  \n",
              "3    Дополнительные главы прикладной статистики              3  \n",
              "4                        Конфликты и кооперация  DevOps      2  \n",
              "5                        Дискретная оптимизация              3  \n",
              "6                            Системы баз данных              2  \n",
              "7                        Дискретная оптимизация              2  \n",
              "8                       Анализ данных в бизнесе              2  \n",
              "9   Промышленное программирование на языке Java              2  \n",
              "10                          Компьютерное зрение  DevOps      2  \n",
              "11         Методы сжатия и передачи медиаданных  DevOps      2  \n",
              "12                           Системы баз данных              2  \n",
              "13                            Компьютерные сети              2  \n",
              "14                       Дискретная оптимизация              2  "
            ],
            "text/html": [
              "\n",
              "  <div id=\"df-6f6faa25-c306-4bc9-8530-f97c63fa0b9e\" class=\"colab-df-container\">\n",
              "    <div>\n",
              "<style scoped>\n",
              "    .dataframe tbody tr th:only-of-type {\n",
              "        vertical-align: middle;\n",
              "    }\n",
              "\n",
              "    .dataframe tbody tr th {\n",
              "        vertical-align: top;\n",
              "    }\n",
              "\n",
              "    .dataframe thead th {\n",
              "        text-align: right;\n",
              "    }\n",
              "</style>\n",
              "<table border=\"1\" class=\"dataframe\">\n",
              "  <thead>\n",
              "    <tr style=\"text-align: right;\">\n",
              "      <th></th>\n",
              "      <th>fall_1</th>\n",
              "      <th>fall_2</th>\n",
              "      <th>fall_3</th>\n",
              "      <th>spring_1</th>\n",
              "      <th>spring_2</th>\n",
              "      <th>spring_3</th>\n",
              "      <th>blended</th>\n",
              "      <th>count</th>\n",
              "    </tr>\n",
              "  </thead>\n",
              "  <tbody>\n",
              "    <tr>\n",
              "      <th>0</th>\n",
              "      <td>Statistical Learning Theory</td>\n",
              "      <td>Анализ неструктурированных данных</td>\n",
              "      <td>Сбор и обработка данных с помощью краудсорсинга</td>\n",
              "      <td>Обучение с подкреплением</td>\n",
              "      <td>Конфликты и кооперация</td>\n",
              "      <td>Компьютерное зрение</td>\n",
              "      <td>DevOps</td>\n",
              "      <td>2</td>\n",
              "    </tr>\n",
              "    <tr>\n",
              "      <th>1</th>\n",
              "      <td>Байесовские методы машинного обучения</td>\n",
              "      <td>Анализ неструктурированных данных</td>\n",
              "      <td>Глубинное обучение в обработке звука</td>\n",
              "      <td>Обучение с подкреплением</td>\n",
              "      <td>Генеративные модели в машинном обучении</td>\n",
              "      <td>Компьютерное зрение</td>\n",
              "      <td>DevOps</td>\n",
              "      <td>2</td>\n",
              "    </tr>\n",
              "    <tr>\n",
              "      <th>2</th>\n",
              "      <td>Байесовские методы машинного обучения</td>\n",
              "      <td>Анализ неструктурированных данных</td>\n",
              "      <td>Сбор и обработка данных с помощью краудсорсинга</td>\n",
              "      <td>Обучение с подкреплением</td>\n",
              "      <td>Компьютерное зрение</td>\n",
              "      <td>Генеративные модели в машинном обучении</td>\n",
              "      <td>DevOps</td>\n",
              "      <td>2</td>\n",
              "    </tr>\n",
              "    <tr>\n",
              "      <th>3</th>\n",
              "      <td>Безопасность компьютерных систем</td>\n",
              "      <td>Statistical Learning Theory</td>\n",
              "      <td>Матричные вычисления</td>\n",
              "      <td>Дискретная оптимизация</td>\n",
              "      <td>Промышленное программирование на языке Java</td>\n",
              "      <td>Дополнительные главы прикладной статистики</td>\n",
              "      <td></td>\n",
              "      <td>3</td>\n",
              "    </tr>\n",
              "    <tr>\n",
              "      <th>4</th>\n",
              "      <td>Безопасность компьютерных систем</td>\n",
              "      <td>Высокопроизводительные вычисления</td>\n",
              "      <td>Анализ неструктурированных данных</td>\n",
              "      <td>Проектирование и разработка высоконагруженных ...</td>\n",
              "      <td>Методы сжатия и передачи медиаданных</td>\n",
              "      <td>Конфликты и кооперация</td>\n",
              "      <td>DevOps</td>\n",
              "      <td>2</td>\n",
              "    </tr>\n",
              "    <tr>\n",
              "      <th>5</th>\n",
              "      <td>Безопасность компьютерных систем</td>\n",
              "      <td>Высокопроизводительные вычисления</td>\n",
              "      <td>Язык SQL</td>\n",
              "      <td>Компьютерные сети</td>\n",
              "      <td>Промышленное программирование на языке Java</td>\n",
              "      <td>Дискретная оптимизация</td>\n",
              "      <td></td>\n",
              "      <td>3</td>\n",
              "    </tr>\n",
              "    <tr>\n",
              "      <th>6</th>\n",
              "      <td>Безопасность компьютерных систем</td>\n",
              "      <td>Высокопроизводительные вычисления</td>\n",
              "      <td>Язык SQL</td>\n",
              "      <td>Промышленное программирование на языке Java</td>\n",
              "      <td>Компьютерные сети</td>\n",
              "      <td>Системы баз данных</td>\n",
              "      <td></td>\n",
              "      <td>2</td>\n",
              "    </tr>\n",
              "    <tr>\n",
              "      <th>7</th>\n",
              "      <td>Безопасность компьютерных систем</td>\n",
              "      <td>Матричные вычисления</td>\n",
              "      <td>Моделирование временных рядов</td>\n",
              "      <td>Промышленное программирование на языке Java</td>\n",
              "      <td>Компьютерные сети</td>\n",
              "      <td>Дискретная оптимизация</td>\n",
              "      <td></td>\n",
              "      <td>2</td>\n",
              "    </tr>\n",
              "    <tr>\n",
              "      <th>8</th>\n",
              "      <td>Безопасность компьютерных систем</td>\n",
              "      <td>Сбор и обработка данных с помощью краудсорсинга</td>\n",
              "      <td>Матричные вычисления</td>\n",
              "      <td>Компьютерные сети</td>\n",
              "      <td>Промышленное программирование на языке Java</td>\n",
              "      <td>Анализ данных в бизнесе</td>\n",
              "      <td></td>\n",
              "      <td>2</td>\n",
              "    </tr>\n",
              "    <tr>\n",
              "      <th>9</th>\n",
              "      <td>Безопасность компьютерных систем</td>\n",
              "      <td>Теория баз данных</td>\n",
              "      <td>Язык SQL</td>\n",
              "      <td>Машинное обучение 2</td>\n",
              "      <td>Компьютерные сети</td>\n",
              "      <td>Промышленное программирование на языке Java</td>\n",
              "      <td></td>\n",
              "      <td>2</td>\n",
              "    </tr>\n",
              "    <tr>\n",
              "      <th>10</th>\n",
              "      <td>Высокопроизводительные вычисления</td>\n",
              "      <td>Безопасность компьютерных систем</td>\n",
              "      <td>Сбор и обработка данных с помощью краудсорсинга</td>\n",
              "      <td>Проектирование и разработка высоконагруженных ...</td>\n",
              "      <td>Методы сжатия и передачи медиаданных</td>\n",
              "      <td>Компьютерное зрение</td>\n",
              "      <td>DevOps</td>\n",
              "      <td>2</td>\n",
              "    </tr>\n",
              "    <tr>\n",
              "      <th>11</th>\n",
              "      <td>Высокопроизводительные вычисления</td>\n",
              "      <td>Сбор и обработка данных с помощью краудсорсинга</td>\n",
              "      <td>Моделирование временных рядов</td>\n",
              "      <td>Проектирование и разработка высоконагруженных ...</td>\n",
              "      <td>Методы сжатия и передачи медиаданных</td>\n",
              "      <td>Методы сжатия и передачи медиаданных</td>\n",
              "      <td>DevOps</td>\n",
              "      <td>2</td>\n",
              "    </tr>\n",
              "    <tr>\n",
              "      <th>12</th>\n",
              "      <td>Моделирование временных рядов</td>\n",
              "      <td>Сбор и обработка данных с помощью краудсорсинга</td>\n",
              "      <td>Безопасность компьютерных систем</td>\n",
              "      <td>Компьютерные сети</td>\n",
              "      <td>Дополнительные главы прикладной статистики</td>\n",
              "      <td>Системы баз данных</td>\n",
              "      <td></td>\n",
              "      <td>2</td>\n",
              "    </tr>\n",
              "    <tr>\n",
              "      <th>13</th>\n",
              "      <td>Сбор и обработка данных с помощью краудсорсинга</td>\n",
              "      <td>Язык SQL</td>\n",
              "      <td>Теория баз данных</td>\n",
              "      <td>Промышленное программирование на языке Java</td>\n",
              "      <td>Машинное обучение 2</td>\n",
              "      <td>Компьютерные сети</td>\n",
              "      <td></td>\n",
              "      <td>2</td>\n",
              "    </tr>\n",
              "    <tr>\n",
              "      <th>14</th>\n",
              "      <td>Язык SQL</td>\n",
              "      <td>Высокопроизводительные вычисления</td>\n",
              "      <td>Теория баз данных</td>\n",
              "      <td>Компьютерные сети</td>\n",
              "      <td>Промышленное программирование на языке Java</td>\n",
              "      <td>Дискретная оптимизация</td>\n",
              "      <td></td>\n",
              "      <td>2</td>\n",
              "    </tr>\n",
              "  </tbody>\n",
              "</table>\n",
              "</div>\n",
              "    <div class=\"colab-df-buttons\">\n",
              "\n",
              "  <div class=\"colab-df-container\">\n",
              "    <button class=\"colab-df-convert\" onclick=\"convertToInteractive('df-6f6faa25-c306-4bc9-8530-f97c63fa0b9e')\"\n",
              "            title=\"Convert this dataframe to an interactive table.\"\n",
              "            style=\"display:none;\">\n",
              "\n",
              "  <svg xmlns=\"http://www.w3.org/2000/svg\" height=\"24px\" viewBox=\"0 -960 960 960\">\n",
              "    <path d=\"M120-120v-720h720v720H120Zm60-500h600v-160H180v160Zm220 220h160v-160H400v160Zm0 220h160v-160H400v160ZM180-400h160v-160H180v160Zm440 0h160v-160H620v160ZM180-180h160v-160H180v160Zm440 0h160v-160H620v160Z\"/>\n",
              "  </svg>\n",
              "    </button>\n",
              "\n",
              "  <style>\n",
              "    .colab-df-container {\n",
              "      display:flex;\n",
              "      gap: 12px;\n",
              "    }\n",
              "\n",
              "    .colab-df-convert {\n",
              "      background-color: #E8F0FE;\n",
              "      border: none;\n",
              "      border-radius: 50%;\n",
              "      cursor: pointer;\n",
              "      display: none;\n",
              "      fill: #1967D2;\n",
              "      height: 32px;\n",
              "      padding: 0 0 0 0;\n",
              "      width: 32px;\n",
              "    }\n",
              "\n",
              "    .colab-df-convert:hover {\n",
              "      background-color: #E2EBFA;\n",
              "      box-shadow: 0px 1px 2px rgba(60, 64, 67, 0.3), 0px 1px 3px 1px rgba(60, 64, 67, 0.15);\n",
              "      fill: #174EA6;\n",
              "    }\n",
              "\n",
              "    .colab-df-buttons div {\n",
              "      margin-bottom: 4px;\n",
              "    }\n",
              "\n",
              "    [theme=dark] .colab-df-convert {\n",
              "      background-color: #3B4455;\n",
              "      fill: #D2E3FC;\n",
              "    }\n",
              "\n",
              "    [theme=dark] .colab-df-convert:hover {\n",
              "      background-color: #434B5C;\n",
              "      box-shadow: 0px 1px 3px 1px rgba(0, 0, 0, 0.15);\n",
              "      filter: drop-shadow(0px 1px 2px rgba(0, 0, 0, 0.3));\n",
              "      fill: #FFFFFF;\n",
              "    }\n",
              "  </style>\n",
              "\n",
              "    <script>\n",
              "      const buttonEl =\n",
              "        document.querySelector('#df-6f6faa25-c306-4bc9-8530-f97c63fa0b9e button.colab-df-convert');\n",
              "      buttonEl.style.display =\n",
              "        google.colab.kernel.accessAllowed ? 'block' : 'none';\n",
              "\n",
              "      async function convertToInteractive(key) {\n",
              "        const element = document.querySelector('#df-6f6faa25-c306-4bc9-8530-f97c63fa0b9e');\n",
              "        const dataTable =\n",
              "          await google.colab.kernel.invokeFunction('convertToInteractive',\n",
              "                                                    [key], {});\n",
              "        if (!dataTable) return;\n",
              "\n",
              "        const docLinkHtml = 'Like what you see? Visit the ' +\n",
              "          '<a target=\"_blank\" href=https://colab.research.google.com/notebooks/data_table.ipynb>data table notebook</a>'\n",
              "          + ' to learn more about interactive tables.';\n",
              "        element.innerHTML = '';\n",
              "        dataTable['output_type'] = 'display_data';\n",
              "        await google.colab.output.renderOutput(dataTable, element);\n",
              "        const docLink = document.createElement('div');\n",
              "        docLink.innerHTML = docLinkHtml;\n",
              "        element.appendChild(docLink);\n",
              "      }\n",
              "    </script>\n",
              "  </div>\n",
              "\n",
              "\n",
              "<div id=\"df-3e66cd3f-27b0-44b7-b98c-a4dc328f35f6\">\n",
              "  <button class=\"colab-df-quickchart\" onclick=\"quickchart('df-3e66cd3f-27b0-44b7-b98c-a4dc328f35f6')\"\n",
              "            title=\"Suggest charts\"\n",
              "            style=\"display:none;\">\n",
              "\n",
              "<svg xmlns=\"http://www.w3.org/2000/svg\" height=\"24px\"viewBox=\"0 0 24 24\"\n",
              "     width=\"24px\">\n",
              "    <g>\n",
              "        <path d=\"M19 3H5c-1.1 0-2 .9-2 2v14c0 1.1.9 2 2 2h14c1.1 0 2-.9 2-2V5c0-1.1-.9-2-2-2zM9 17H7v-7h2v7zm4 0h-2V7h2v10zm4 0h-2v-4h2v4z\"/>\n",
              "    </g>\n",
              "</svg>\n",
              "  </button>\n",
              "\n",
              "<style>\n",
              "  .colab-df-quickchart {\n",
              "      --bg-color: #E8F0FE;\n",
              "      --fill-color: #1967D2;\n",
              "      --hover-bg-color: #E2EBFA;\n",
              "      --hover-fill-color: #174EA6;\n",
              "      --disabled-fill-color: #AAA;\n",
              "      --disabled-bg-color: #DDD;\n",
              "  }\n",
              "\n",
              "  [theme=dark] .colab-df-quickchart {\n",
              "      --bg-color: #3B4455;\n",
              "      --fill-color: #D2E3FC;\n",
              "      --hover-bg-color: #434B5C;\n",
              "      --hover-fill-color: #FFFFFF;\n",
              "      --disabled-bg-color: #3B4455;\n",
              "      --disabled-fill-color: #666;\n",
              "  }\n",
              "\n",
              "  .colab-df-quickchart {\n",
              "    background-color: var(--bg-color);\n",
              "    border: none;\n",
              "    border-radius: 50%;\n",
              "    cursor: pointer;\n",
              "    display: none;\n",
              "    fill: var(--fill-color);\n",
              "    height: 32px;\n",
              "    padding: 0;\n",
              "    width: 32px;\n",
              "  }\n",
              "\n",
              "  .colab-df-quickchart:hover {\n",
              "    background-color: var(--hover-bg-color);\n",
              "    box-shadow: 0 1px 2px rgba(60, 64, 67, 0.3), 0 1px 3px 1px rgba(60, 64, 67, 0.15);\n",
              "    fill: var(--button-hover-fill-color);\n",
              "  }\n",
              "\n",
              "  .colab-df-quickchart-complete:disabled,\n",
              "  .colab-df-quickchart-complete:disabled:hover {\n",
              "    background-color: var(--disabled-bg-color);\n",
              "    fill: var(--disabled-fill-color);\n",
              "    box-shadow: none;\n",
              "  }\n",
              "\n",
              "  .colab-df-spinner {\n",
              "    border: 2px solid var(--fill-color);\n",
              "    border-color: transparent;\n",
              "    border-bottom-color: var(--fill-color);\n",
              "    animation:\n",
              "      spin 1s steps(1) infinite;\n",
              "  }\n",
              "\n",
              "  @keyframes spin {\n",
              "    0% {\n",
              "      border-color: transparent;\n",
              "      border-bottom-color: var(--fill-color);\n",
              "      border-left-color: var(--fill-color);\n",
              "    }\n",
              "    20% {\n",
              "      border-color: transparent;\n",
              "      border-left-color: var(--fill-color);\n",
              "      border-top-color: var(--fill-color);\n",
              "    }\n",
              "    30% {\n",
              "      border-color: transparent;\n",
              "      border-left-color: var(--fill-color);\n",
              "      border-top-color: var(--fill-color);\n",
              "      border-right-color: var(--fill-color);\n",
              "    }\n",
              "    40% {\n",
              "      border-color: transparent;\n",
              "      border-right-color: var(--fill-color);\n",
              "      border-top-color: var(--fill-color);\n",
              "    }\n",
              "    60% {\n",
              "      border-color: transparent;\n",
              "      border-right-color: var(--fill-color);\n",
              "    }\n",
              "    80% {\n",
              "      border-color: transparent;\n",
              "      border-right-color: var(--fill-color);\n",
              "      border-bottom-color: var(--fill-color);\n",
              "    }\n",
              "    90% {\n",
              "      border-color: transparent;\n",
              "      border-bottom-color: var(--fill-color);\n",
              "    }\n",
              "  }\n",
              "</style>\n",
              "\n",
              "  <script>\n",
              "    async function quickchart(key) {\n",
              "      const quickchartButtonEl =\n",
              "        document.querySelector('#' + key + ' button');\n",
              "      quickchartButtonEl.disabled = true;  // To prevent multiple clicks.\n",
              "      quickchartButtonEl.classList.add('colab-df-spinner');\n",
              "      try {\n",
              "        const charts = await google.colab.kernel.invokeFunction(\n",
              "            'suggestCharts', [key], {});\n",
              "      } catch (error) {\n",
              "        console.error('Error during call to suggestCharts:', error);\n",
              "      }\n",
              "      quickchartButtonEl.classList.remove('colab-df-spinner');\n",
              "      quickchartButtonEl.classList.add('colab-df-quickchart-complete');\n",
              "    }\n",
              "    (() => {\n",
              "      let quickchartButtonEl =\n",
              "        document.querySelector('#df-3e66cd3f-27b0-44b7-b98c-a4dc328f35f6 button');\n",
              "      quickchartButtonEl.style.display =\n",
              "        google.colab.kernel.accessAllowed ? 'block' : 'none';\n",
              "    })();\n",
              "  </script>\n",
              "</div>\n",
              "    </div>\n",
              "  </div>\n"
            ],
            "application/vnd.google.colaboratory.intrinsic+json": {
              "type": "dataframe",
              "variable_name": "dup_courses",
              "summary": "{\n  \"name\": \"dup_courses\",\n  \"rows\": 15,\n  \"fields\": [\n    {\n      \"column\": \"fall_1\",\n      \"properties\": {\n        \"dtype\": \"category\",\n        \"num_unique_values\": 7,\n        \"samples\": [\n          \"Statistical Learning Theory\",\n          \"\\u0411\\u0430\\u0439\\u0435\\u0441\\u043e\\u0432\\u0441\\u043a\\u0438\\u0435 \\u043c\\u0435\\u0442\\u043e\\u0434\\u044b \\u043c\\u0430\\u0448\\u0438\\u043d\\u043d\\u043e\\u0433\\u043e \\u043e\\u0431\\u0443\\u0447\\u0435\\u043d\\u0438\\u044f\",\n          \"\\u0421\\u0431\\u043e\\u0440 \\u0438 \\u043e\\u0431\\u0440\\u0430\\u0431\\u043e\\u0442\\u043a\\u0430 \\u0434\\u0430\\u043d\\u043d\\u044b\\u0445 \\u0441 \\u043f\\u043e\\u043c\\u043e\\u0449\\u044c\\u044e \\u043a\\u0440\\u0430\\u0443\\u0434\\u0441\\u043e\\u0440\\u0441\\u0438\\u043d\\u0433\\u0430\"\n        ],\n        \"semantic_type\": \"\",\n        \"description\": \"\"\n      }\n    },\n    {\n      \"column\": \"fall_2\",\n      \"properties\": {\n        \"dtype\": \"string\",\n        \"num_unique_values\": 8,\n        \"samples\": [\n          \"Statistical Learning Theory\",\n          \"\\u0422\\u0435\\u043e\\u0440\\u0438\\u044f \\u0431\\u0430\\u0437 \\u0434\\u0430\\u043d\\u043d\\u044b\\u0445\",\n          \"\\u0410\\u043d\\u0430\\u043b\\u0438\\u0437 \\u043d\\u0435\\u0441\\u0442\\u0440\\u0443\\u043a\\u0442\\u0443\\u0440\\u0438\\u0440\\u043e\\u0432\\u0430\\u043d\\u043d\\u044b\\u0445 \\u0434\\u0430\\u043d\\u043d\\u044b\\u0445\"\n        ],\n        \"semantic_type\": \"\",\n        \"description\": \"\"\n      }\n    },\n    {\n      \"column\": \"fall_3\",\n      \"properties\": {\n        \"dtype\": \"string\",\n        \"num_unique_values\": 8,\n        \"samples\": [\n          \"\\u0413\\u043b\\u0443\\u0431\\u0438\\u043d\\u043d\\u043e\\u0435 \\u043e\\u0431\\u0443\\u0447\\u0435\\u043d\\u0438\\u0435 \\u0432 \\u043e\\u0431\\u0440\\u0430\\u0431\\u043e\\u0442\\u043a\\u0435 \\u0437\\u0432\\u0443\\u043a\\u0430\",\n          \"\\u041c\\u043e\\u0434\\u0435\\u043b\\u0438\\u0440\\u043e\\u0432\\u0430\\u043d\\u0438\\u0435 \\u0432\\u0440\\u0435\\u043c\\u0435\\u043d\\u043d\\u044b\\u0445 \\u0440\\u044f\\u0434\\u043e\\u0432\",\n          \"\\u0421\\u0431\\u043e\\u0440 \\u0438 \\u043e\\u0431\\u0440\\u0430\\u0431\\u043e\\u0442\\u043a\\u0430 \\u0434\\u0430\\u043d\\u043d\\u044b\\u0445 \\u0441 \\u043f\\u043e\\u043c\\u043e\\u0449\\u044c\\u044e \\u043a\\u0440\\u0430\\u0443\\u0434\\u0441\\u043e\\u0440\\u0441\\u0438\\u043d\\u0433\\u0430\"\n        ],\n        \"semantic_type\": \"\",\n        \"description\": \"\"\n      }\n    },\n    {\n      \"column\": \"spring_1\",\n      \"properties\": {\n        \"dtype\": \"category\",\n        \"num_unique_values\": 6,\n        \"samples\": [\n          \"\\u041e\\u0431\\u0443\\u0447\\u0435\\u043d\\u0438\\u0435 \\u0441 \\u043f\\u043e\\u0434\\u043a\\u0440\\u0435\\u043f\\u043b\\u0435\\u043d\\u0438\\u0435\\u043c\",\n          \"\\u0414\\u0438\\u0441\\u043a\\u0440\\u0435\\u0442\\u043d\\u0430\\u044f \\u043e\\u043f\\u0442\\u0438\\u043c\\u0438\\u0437\\u0430\\u0446\\u0438\\u044f\",\n          \"\\u041c\\u0430\\u0448\\u0438\\u043d\\u043d\\u043e\\u0435 \\u043e\\u0431\\u0443\\u0447\\u0435\\u043d\\u0438\\u0435 2\"\n        ],\n        \"semantic_type\": \"\",\n        \"description\": \"\"\n      }\n    },\n    {\n      \"column\": \"spring_2\",\n      \"properties\": {\n        \"dtype\": \"string\",\n        \"num_unique_values\": 8,\n        \"samples\": [\n          \"\\u0413\\u0435\\u043d\\u0435\\u0440\\u0430\\u0442\\u0438\\u0432\\u043d\\u044b\\u0435 \\u043c\\u043e\\u0434\\u0435\\u043b\\u0438 \\u0432 \\u043c\\u0430\\u0448\\u0438\\u043d\\u043d\\u043e\\u043c \\u043e\\u0431\\u0443\\u0447\\u0435\\u043d\\u0438\\u0438\",\n          \"\\u041a\\u043e\\u043c\\u043f\\u044c\\u044e\\u0442\\u0435\\u0440\\u043d\\u044b\\u0435 \\u0441\\u0435\\u0442\\u0438\",\n          \"\\u041a\\u043e\\u043d\\u0444\\u043b\\u0438\\u043a\\u0442\\u044b \\u0438 \\u043a\\u043e\\u043e\\u043f\\u0435\\u0440\\u0430\\u0446\\u0438\\u044f\"\n        ],\n        \"semantic_type\": \"\",\n        \"description\": \"\"\n      }\n    },\n    {\n      \"column\": \"spring_3\",\n      \"properties\": {\n        \"dtype\": \"string\",\n        \"num_unique_values\": 10,\n        \"samples\": [\n          \"\\u041c\\u0435\\u0442\\u043e\\u0434\\u044b \\u0441\\u0436\\u0430\\u0442\\u0438\\u044f \\u0438 \\u043f\\u0435\\u0440\\u0435\\u0434\\u0430\\u0447\\u0438 \\u043c\\u0435\\u0434\\u0438\\u0430\\u0434\\u0430\\u043d\\u043d\\u044b\\u0445\",\n          \"\\u0413\\u0435\\u043d\\u0435\\u0440\\u0430\\u0442\\u0438\\u0432\\u043d\\u044b\\u0435 \\u043c\\u043e\\u0434\\u0435\\u043b\\u0438 \\u0432 \\u043c\\u0430\\u0448\\u0438\\u043d\\u043d\\u043e\\u043c \\u043e\\u0431\\u0443\\u0447\\u0435\\u043d\\u0438\\u0438\",\n          \"\\u0421\\u0438\\u0441\\u0442\\u0435\\u043c\\u044b \\u0431\\u0430\\u0437 \\u0434\\u0430\\u043d\\u043d\\u044b\\u0445\"\n        ],\n        \"semantic_type\": \"\",\n        \"description\": \"\"\n      }\n    },\n    {\n      \"column\": \"blended\",\n      \"properties\": {\n        \"dtype\": \"category\",\n        \"num_unique_values\": 2,\n        \"samples\": [\n          \"\",\n          \"DevOps\"\n        ],\n        \"semantic_type\": \"\",\n        \"description\": \"\"\n      }\n    },\n    {\n      \"column\": \"count\",\n      \"properties\": {\n        \"dtype\": \"number\",\n        \"std\": 0,\n        \"min\": 2,\n        \"max\": 3,\n        \"num_unique_values\": 2,\n        \"samples\": [\n          3,\n          2\n        ],\n        \"semantic_type\": \"\",\n        \"description\": \"\"\n      }\n    }\n  ]\n}"
            }
          },
          "metadata": {}
        }
      ],
      "source": [
        "# your code\n",
        "\n",
        "import pandas as pd\n",
        "from IPython.display import display\n",
        "\n",
        "df = df.copy()\n",
        "\n",
        "df['blended'] = df['blended'].fillna('Нет')\n",
        "\n",
        "dup_courses = df.groupby(['fall_1', 'fall_2', 'fall_3', 'spring_1', 'spring_2', 'spring_3', 'blended']).size()\n",
        "\n",
        "dup_courses = dup_courses[dup_courses > 1].reset_index(name='count')\n",
        "\n",
        "display(dup_courses)\n"
      ]
    },
    {
      "cell_type": "markdown",
      "metadata": {
        "id": "spu3r3vchLu0"
      },
      "source": [
        "#### 7. [0.5 балла] Найдите курсы по выбору, на которые записывались как студенты 18-го года набора, так и студенты 17-го года."
      ]
    },
    {
      "cell_type": "code",
      "source": [
        "cols = ['fall_1', 'fall_2', 'spring_1', 'spring_2']\n",
        "\n",
        "c18 = set(df[df['18_group'].notna()][cols].values.flatten())\n",
        "c17 = set(df[df['17_group'].notna()][cols].values.flatten())\n",
        "\n",
        "common = c18 & c17\n",
        "\n",
        "print(\"Курсы, которые выбрали студенты обоих годов:\", common)\n"
      ],
      "metadata": {
        "colab": {
          "base_uri": "https://localhost:8080/"
        },
        "id": "ZE7DUZdKRsus",
        "outputId": "a0a96f88-8603-4c10-fd7b-81a71e219d4b"
      },
      "execution_count": null,
      "outputs": [
        {
          "output_type": "stream",
          "name": "stdout",
          "text": [
            "Курсы, которые выбрали студенты обоих годов: {'Высокопроизводительные вычисления', 'Принятие решений в условиях риска и неопределённости', 'Сбор и обработка данных с помощью краудсорсинга', 'Statistical Learning Theory', 'Безопасность компьютерных систем', 'Численные методы', 'Моделирование временных рядов'}\n"
          ]
        }
      ]
    },
    {
      "cell_type": "markdown",
      "metadata": {
        "id": "PYfX-Dr5hLu0"
      },
      "source": [
        "Методом исключения найдите курсы, которые предлагались только студентам 18-го года и только студентам 17-го года."
      ]
    },
    {
      "cell_type": "code",
      "execution_count": null,
      "metadata": {
        "id": "G9SWBOpehLu1",
        "colab": {
          "base_uri": "https://localhost:8080/"
        },
        "outputId": "fe66c3ec-ecbc-4782-a5ee-dbabf3e0bcbd"
      },
      "outputs": [
        {
          "output_type": "stream",
          "name": "stdout",
          "text": [
            "\n",
            "Курсы, которые выбрали только студенты 17-го года: ['Анализ неструктурированных данных', 'Байесовские методы машинного обучения', 'Генеративные модели в машинном обучении', 'Глубинное обучение в обработке звука', 'Компьютерное зрение', 'Конфликты и кооперация', 'Методы сжатия и передачи медиаданных', 'Обучение с подкреплением', 'Проектирование и разработка высоконагруженных сервисов', 'Символьные вычисления']\n",
            "\n",
            "Курсы, которые выбрали только студенты 18-го года: ['Анализ данных в бизнесе', 'Дискретная оптимизация', 'Дополнительные главы прикладной статистики', 'Компьютерные сети', 'Матричные вычисления', 'Машинное обучение 2', 'Промышленное программирование на языке Java', 'Системы баз данных', 'Теория баз данных', 'Язык SQL']\n"
          ]
        }
      ],
      "source": [
        "# your code\n",
        "\n",
        "only_17 = sorted(c17 - c18)\n",
        "only_18 = sorted(c18 - c17)\n",
        "\n",
        "print(\"\\nКурсы, которые выбрали только студенты 17-го года:\", only_17)\n",
        "print(\"\\nКурсы, которые выбрали только студенты 18-го года:\", only_18)\n"
      ]
    },
    {
      "cell_type": "markdown",
      "metadata": {
        "id": "uL45Tg5fhLu1"
      },
      "source": [
        "### Визуализации и matplotlib"
      ]
    },
    {
      "cell_type": "markdown",
      "metadata": {
        "id": "MY9lKmP2hLu1"
      },
      "source": [
        "При работе с данными часто неудобно делать какие-то выводы, если смотреть на таблицу и числа в частности, поэтому важно уметь визуализировать данные. Здесь будут описаны ключевые правила оформления графиков для **всех** домашних заданий.\n",
        "\n",
        "У matplotlib, конечно же, есть [документация](https://matplotlib.org/users/index.html) с большим количеством [примеров](https://matplotlib.org/examples/), но для начала достаточно знать про несколько основных типов графиков:\n",
        "- plot — обычный поточечный график, которым можно изображать кривые или отдельные точки;\n",
        "- hist — гистограмма, показывающая распределение некоторой величины;\n",
        "- scatter — график, показывающий взаимосвязь двух величин;\n",
        "- bar — столбцовый график, показывающий взаимосвязь количественной величины от категориальной.\n",
        "\n",
        "В этом задании вы попробуете построить один из них. Не забывайте про базовые принципы построения приличных графиков:\n",
        "- оси должны быть подписаны, причём не слишком мелко;\n",
        "- у графика должно быть название;\n",
        "- если изображено несколько графиков, то необходима поясняющая легенда;\n",
        "- все линии на графиках должны быть чётко видны (нет похожих цветов или цветов, сливающихся с фоном);\n",
        "- если отображена величина, имеющая очевидный диапазон значений (например, проценты могут быть от 0 до 100), то желательно масштабировать ось на весь диапазон значений (исключением является случай, когда вам необходимо показать малое отличие, которое незаметно в таких масштабах);\n",
        "- сетка на графике помогает оценить значения в точках на глаз, это обычно полезно, поэтому лучше ее отрисовывать;\n",
        "- если распределение на гистограмме имеет тяжёлые хвосты, лучше использовать логарифмическую шкалу.\n",
        "\n",
        "Еще одна билиотека для визуализации: [seaborn](https://jakevdp.github.io/PythonDataScienceHandbook/04.14-visualization-with-seaborn.html) (обычно сокращается до sns). Это настройка над matplotlib, иногда удобнее и красивее делать визуализации через неё.\n",
        "\n",
        "**5 пунктов после которых ваши графики не будут прежними:**\n",
        "- для красивой картинки <code>%config InlineBackend.figure_format = 'retina'</code>\n",
        "- задаем размер (почти) всех графиков (можно выбрать другие значения) <code>plt.rcParams['figure.figsize'] = 8, 5</code>\n",
        "- размер шрифта подписей графиков <code>plt.rcParams['font.size'] = 12</code>\n",
        "- формат в котором сохраняется изображение <code>mpl.rcParams['savefig.format'] = 'pdf'</code>\n",
        "- sns – seaborn, добавляет решетку <code>sns.set_style('darkgrid')</code>\n",
        "\n",
        "Добавьте эти функции в ячейку ниже. Каждый график все равно придется настраивать отдельно, но указанные строчки позволят значительно упростить процесс.  "
      ]
    },
    {
      "cell_type": "code",
      "execution_count": null,
      "metadata": {
        "id": "na9doUOFhLu1"
      },
      "outputs": [],
      "source": [
        "%matplotlib inline\n",
        "import matplotlib.pyplot as plt\n",
        "import seaborn as sns\n",
        "import matplotlib as mpl\n",
        "\n",
        "# your code\n",
        "\n",
        "%config InlineBackend.figure_format = 'retina'\n",
        "plt.rcParams['figure.figsize'] = (8, 5)\n",
        "plt.rcParams['font.size'] = 12\n",
        "mpl.rcParams['savefig.format'] = 'pdf'\n",
        "sns.set_style('darkgrid')\n"
      ]
    },
    {
      "cell_type": "markdown",
      "metadata": {
        "id": "kikwLpxfhLu1"
      },
      "source": [
        "#### 8. [0.5 балла] Постройте график средних рейтингов по дням получения ответов (bar plot)."
      ]
    },
    {
      "cell_type": "code",
      "execution_count": null,
      "metadata": {
        "id": "UTPLVeQvhLu2",
        "colab": {
          "base_uri": "https://localhost:8080/",
          "height": 635
        },
        "outputId": "1cb87808-062a-4ae7-b620-9341d707f93b"
      },
      "outputs": [
        {
          "output_type": "display_data",
          "data": {
            "text/plain": [
              "<Figure size 1200x600 with 1 Axes>"
            ],
            "image/png": "[encoded data removed]"
          },
          "metadata": {
            "image/png": {
              "width": 1024,
              "height": 618
            }
          }
        }
      ],
      "source": [
        "# your code\n",
        "\n",
        "import matplotlib.pyplot as plt\n",
        "\n",
        "df['timestamp'] = pd.to_datetime(df['timestamp'], errors='coerce')\n",
        "df['date'] = df['timestamp'].dt.date\n",
        "\n",
        "avg_rating = df.groupby('date')['rating'].mean()\n",
        "\n",
        "plt.figure(figsize=(12, 6))\n",
        "plt.bar(avg_rating.index, avg_rating.values)\n",
        "plt.xlabel('Дата')\n",
        "plt.ylabel('Рейтинг')\n",
        "plt.title('Средний рейтинг по дням')\n",
        "plt.xticks(rotation=45)\n",
        "plt.grid(axis='y', linestyle='--', alpha=0.7)\n",
        "plt.show()\n"
      ]
    },
    {
      "cell_type": "markdown",
      "metadata": {
        "id": "AmsQg9_xhLu2"
      },
      "source": [
        "Сохраните график в формате pdf (так он останется векторизованным)."
      ]
    },
    {
      "cell_type": "code",
      "execution_count": null,
      "metadata": {
        "id": "vKZNSwWghLu2",
        "colab": {
          "base_uri": "https://localhost:8080/",
          "height": 654
        },
        "outputId": "7787dcea-73ae-4e9b-ab0c-a4471e383895"
      },
      "outputs": [
        {
          "output_type": "execute_result",
          "data": {
            "text/plain": [
              "'/mnt/data/rating.pdf'"
            ],
            "application/vnd.google.colaboratory.intrinsic+json": {
              "type": "string"
            }
          },
          "metadata": {},
          "execution_count": 64
        },
        {
          "output_type": "display_data",
          "data": {
            "text/plain": [
              "<Figure size 1200x600 with 1 Axes>"
            ],
            "image/png": "[encoded data removed]"
          },
          "metadata": {
            "image/png": {
              "width": 1024,
              "height": 618
            }
          }
        }
      ],
      "source": [
        "# your code\n",
        "\n",
        "import os\n",
        "\n",
        "save_path = \"/mnt/data/\"\n",
        "os.makedirs(save_path, exist_ok=True)\n",
        "\n",
        "pdf_file = os.path.join(save_path, \"rating.pdf\")\n",
        "\n",
        "plt.figure(figsize=(12, 6))\n",
        "plt.bar(avg_rating.index, avg_rating.values)\n",
        "plt.xlabel('Дата')\n",
        "plt.ylabel('Рейтинг')\n",
        "plt.title('Средний рейтинг по дням')\n",
        "plt.xticks(rotation=45)\n",
        "plt.grid(axis='y', linestyle='--', alpha=0.7)\n",
        "\n",
        "plt.savefig(pdf_file, format='pdf')\n",
        "\n",
        "pdf_file\n"
      ]
    },
    {
      "cell_type": "markdown",
      "metadata": {
        "id": "sCgWwjl0hLu2"
      },
      "source": [
        "### 2. Распределение студентов по курсам."
      ]
    },
    {
      "cell_type": "markdown",
      "metadata": {
        "id": "VNqXUpr4hLu3"
      },
      "source": [
        "Теперь вам нужно распределить студентов по осенним курсам по выбору, учитывая их предпочтения."
      ]
    },
    {
      "cell_type": "markdown",
      "metadata": {
        "id": "5cAR2FgphLu3"
      },
      "source": [
        "Алгоритм распределения студентов по курсам:\n",
        "1. По умолчанию на каждой дисциплине по выбору у 3 и 4 курсов может учиться 1 группа (до 30 студентов). Исключения описаны ниже. На blended-дисциплинах для четверокурсников количество мест не ограничено.\n",
        "2. Проводится первая волна отбора. Для каждой дисциплины формируется список тех, кто указал её первым приоритетом (если студент должен выбрать два курса по выбору, то для него дисциплины, которые он указал первым и вторым приоритетом, рассматриваются как дисциплины первого приоритета). Если желающих больше, чем мест, то выбирается топ по перцентилю рейтинга.\n",
        "3. На дисциплинах, где остались места после первой волны, формируются списки тех, кто выбрал их вторым приоритетом и еще не прошел на необходимое количество курсов. Места заполняются лучшими по перцентилю рейтинга студентами. После этого проводится такая же процедура для дисциплин третьего приоритета.\n",
        "4. Если студент не попал на необходимое количество курсов по итогам трёх волн, с ним связывается учебный офис и решает вопрос в индивидуальном порядке."
      ]
    },
    {
      "cell_type": "markdown",
      "metadata": {
        "id": "BiNKVwS6hLu3"
      },
      "source": [
        "Обращаем ваше внимание на следующие детали:\n",
        "- Конкурс на каждый курс общий для 3-го и 4-го курса\n",
        "\n",
        "- По умолчанию студент выбирает один осенний и один весенний курс по выбору, а также четверокурсники выбирают один blended-курс. Студенты групп 17-го года специализаций МОП и ТИ выбирают по 2 осенних и 2 весенних курса по выбору, также студенты групп 18' специализации МИ выбирают 2 осенних курса. <i>Для студентов, которые выбирают 2 курса (например, осенних) первый приоритет — <code>fall_1</code> и <code>fall_2</code>, второй приоритет — <code>fall_3</code>. Такие студенты участвуют только в двух волнах отбора</i>.\n",
        "\n",
        "- Студенты специализации МОП не могут выбрать весенним курсом по выбору Машинное обучение 2. **Если студент специализации МОП выбрал Машинное обучение 2, то его приоритеты сдвигаются.** Из-за совпадений первого и второго курса по выбору двигать приоритеты не надо.\n",
        "\n",
        "- Blended-курсы не трогайте, по ним не надо распределять, на другие курсы они никак не влияют.\n",
        "\n",
        "- Заведомо известно, что в процессе распределения не возникнет ситуации, когда на одно место претендуют студенты с одинаковым перцентилем.\n",
        "\n",
        "- На выходе ожидается файл res_fall.csv с результатами распределения на осенние курсы по выбору. Файл должен быть следующего формата:\n",
        "\n",
        "    * Три колонки: ID, course1, course2\n",
        "    \n",
        "    * Если студент не попал на курс, но должен был, то вместо названия курса в ячейке должна быть строка \"???\"\n",
        "    \n",
        "    * Если студент должен выбрать только один курс, то в колонке course2 для него должна стоять строка \"-\"\n",
        "    \n",
        "    * Если студент должен выбрать два курса по выбору, то порядок в колонках course1 и course2 не важен.\n",
        "    \n",
        "    * hint: для сохранения воспользуйтесь df.to_csv('solution.csv', index=None)\n",
        "    \n",
        "\n",
        "Для работы вам могут понадобиться следующие данные:\n",
        "\n",
        "- Результаты опроса (вы уже использовали этот файл в первой части задания, но на всякий случай ссылка: https://www.dropbox.com/s/f4rm8sjc3v99p0m/_end_seminar.xlsx?dl=0)\n",
        "\n",
        "- Соответствие номеров групп специализациям:\n",
        "\n",
        "    * 171, 172 - МОП; 173 - ТИ; 174 — АДИС; 175, 176 — РС; 177 — АПР\n",
        "    \n",
        "    * У студентов 18-го года номера групп соответствуют номерам до распределения по специализациям. Это означает, что по номеру группы 18* нельзя однозначно определить специализацию студента. При этом в рамках распределения важно знать информацию только о двух из них: МОП и МИ. Эти знание можно получить из колонок 'is_ml_student\n",
        "' и 'is_mi' соответственно.\n",
        "\n",
        "- Ограничения по количеству мест на курсах по выбору:\n",
        "\n",
        "    * Осенние: везде 30 мест, кроме Statistical Learning Theory (60 мест), Высокопроизводительных вычислений (60 мест), Анализа неструктурированных данных ($\\infty$ мест)\n",
        "\n",
        "    * Весенние: везде 30 мест, кроме Обучения с подкреплением (60 мест), Анализа данных в бизнесе (60 мест).\n",
        "\n",
        "\n",
        "Кстати, убедитесь, что в данных больше нет пропусков и повторных записей."
      ]
    },
    {
      "cell_type": "markdown",
      "metadata": {
        "id": "o5t55IcQhLu4"
      },
      "source": [
        "#### 0. Проверка\n",
        "\n",
        "Для начала давайте убедимся, что вы успешно выполнили задания первой части и проверим ваши данные на наличие пропусков и повторов:"
      ]
    },
    {
      "cell_type": "code",
      "execution_count": null,
      "metadata": {
        "id": "34HWEdVdhLu4"
      },
      "outputs": [],
      "source": [
        "assert df.shape[0] == 347, 'В таблице остались повторы или потеряны данные'\n",
        "\n",
        "assert df.isna().sum().sum() == 0, 'В таблице остались пропуски'"
      ]
    },
    {
      "cell_type": "markdown",
      "metadata": {
        "id": "_ImUFyG3hLu4"
      },
      "source": [
        "Если вы не получили AssertionError, то можете продолжать."
      ]
    },
    {
      "cell_type": "markdown",
      "metadata": {
        "id": "LTGSwwvAhLu4"
      },
      "source": [
        "#### 1. [1.5 балл] Создайте новый признак, обозначающий, сколько осенних курсов должен выбрать студент\n",
        "\n",
        "В этом вам может помочь информация о специализации и группе стундента."
      ]
    },
    {
      "cell_type": "code",
      "execution_count": null,
      "metadata": {
        "id": "ouxo0kHFhLu4",
        "colab": {
          "base_uri": "https://localhost:8080/",
          "height": 206
        },
        "outputId": "273e3dc7-428d-479f-c553-03ec2703552b"
      },
      "outputs": [
        {
          "output_type": "execute_result",
          "data": {
            "text/plain": [
              "                                   id  17_group  18_group  is_mi  fall_need\n",
              "217  7a21ef645ecb42198be493dd65320e78       NaN     188.0    NaN          1\n",
              "340  d539461bf254cf8b3201cdf7990b119e     174.0       NaN    NaN          1\n",
              "128  be4fa2120de3397ae21eac38ff0060e3       NaN     187.0    NaN          1\n",
              "170  40b18d40197e3db66312a026e06b8ff1       NaN     188.0    NaN          1\n",
              "359  79d14db48e4737af731960ae212d5134     172.0       NaN    NaN          2"
            ],
            "text/html": [
              "\n",
              "  <div id=\"df-2be3a4db-db47-412f-b110-a3d7ab50429a\" class=\"colab-df-container\">\n",
              "    <div>\n",
              "<style scoped>\n",
              "    .dataframe tbody tr th:only-of-type {\n",
              "        vertical-align: middle;\n",
              "    }\n",
              "\n",
              "    .dataframe tbody tr th {\n",
              "        vertical-align: top;\n",
              "    }\n",
              "\n",
              "    .dataframe thead th {\n",
              "        text-align: right;\n",
              "    }\n",
              "</style>\n",
              "<table border=\"1\" class=\"dataframe\">\n",
              "  <thead>\n",
              "    <tr style=\"text-align: right;\">\n",
              "      <th></th>\n",
              "      <th>id</th>\n",
              "      <th>17_group</th>\n",
              "      <th>18_group</th>\n",
              "      <th>is_mi</th>\n",
              "      <th>fall_need</th>\n",
              "    </tr>\n",
              "  </thead>\n",
              "  <tbody>\n",
              "    <tr>\n",
              "      <th>217</th>\n",
              "      <td>7a21ef645ecb42198be493dd65320e78</td>\n",
              "      <td>NaN</td>\n",
              "      <td>188.0</td>\n",
              "      <td>NaN</td>\n",
              "      <td>1</td>\n",
              "    </tr>\n",
              "    <tr>\n",
              "      <th>340</th>\n",
              "      <td>d539461bf254cf8b3201cdf7990b119e</td>\n",
              "      <td>174.0</td>\n",
              "      <td>NaN</td>\n",
              "      <td>NaN</td>\n",
              "      <td>1</td>\n",
              "    </tr>\n",
              "    <tr>\n",
              "      <th>128</th>\n",
              "      <td>be4fa2120de3397ae21eac38ff0060e3</td>\n",
              "      <td>NaN</td>\n",
              "      <td>187.0</td>\n",
              "      <td>NaN</td>\n",
              "      <td>1</td>\n",
              "    </tr>\n",
              "    <tr>\n",
              "      <th>170</th>\n",
              "      <td>40b18d40197e3db66312a026e06b8ff1</td>\n",
              "      <td>NaN</td>\n",
              "      <td>188.0</td>\n",
              "      <td>NaN</td>\n",
              "      <td>1</td>\n",
              "    </tr>\n",
              "    <tr>\n",
              "      <th>359</th>\n",
              "      <td>79d14db48e4737af731960ae212d5134</td>\n",
              "      <td>172.0</td>\n",
              "      <td>NaN</td>\n",
              "      <td>NaN</td>\n",
              "      <td>2</td>\n",
              "    </tr>\n",
              "  </tbody>\n",
              "</table>\n",
              "</div>\n",
              "    <div class=\"colab-df-buttons\">\n",
              "\n",
              "  <div class=\"colab-df-container\">\n",
              "    <button class=\"colab-df-convert\" onclick=\"convertToInteractive('df-2be3a4db-db47-412f-b110-a3d7ab50429a')\"\n",
              "            title=\"Convert this dataframe to an interactive table.\"\n",
              "            style=\"display:none;\">\n",
              "\n",
              "  <svg xmlns=\"http://www.w3.org/2000/svg\" height=\"24px\" viewBox=\"0 -960 960 960\">\n",
              "    <path d=\"M120-120v-720h720v720H120Zm60-500h600v-160H180v160Zm220 220h160v-160H400v160Zm0 220h160v-160H400v160ZM180-400h160v-160H180v160Zm440 0h160v-160H620v160ZM180-180h160v-160H180v160Zm440 0h160v-160H620v160Z\"/>\n",
              "  </svg>\n",
              "    </button>\n",
              "\n",
              "  <style>\n",
              "    .colab-df-container {\n",
              "      display:flex;\n",
              "      gap: 12px;\n",
              "    }\n",
              "\n",
              "    .colab-df-convert {\n",
              "      background-color: #E8F0FE;\n",
              "      border: none;\n",
              "      border-radius: 50%;\n",
              "      cursor: pointer;\n",
              "      display: none;\n",
              "      fill: #1967D2;\n",
              "      height: 32px;\n",
              "      padding: 0 0 0 0;\n",
              "      width: 32px;\n",
              "    }\n",
              "\n",
              "    .colab-df-convert:hover {\n",
              "      background-color: #E2EBFA;\n",
              "      box-shadow: 0px 1px 2px rgba(60, 64, 67, 0.3), 0px 1px 3px 1px rgba(60, 64, 67, 0.15);\n",
              "      fill: #174EA6;\n",
              "    }\n",
              "\n",
              "    .colab-df-buttons div {\n",
              "      margin-bottom: 4px;\n",
              "    }\n",
              "\n",
              "    [theme=dark] .colab-df-convert {\n",
              "      background-color: #3B4455;\n",
              "      fill: #D2E3FC;\n",
              "    }\n",
              "\n",
              "    [theme=dark] .colab-df-convert:hover {\n",
              "      background-color: #434B5C;\n",
              "      box-shadow: 0px 1px 3px 1px rgba(0, 0, 0, 0.15);\n",
              "      filter: drop-shadow(0px 1px 2px rgba(0, 0, 0, 0.3));\n",
              "      fill: #FFFFFF;\n",
              "    }\n",
              "  </style>\n",
              "\n",
              "    <script>\n",
              "      const buttonEl =\n",
              "        document.querySelector('#df-2be3a4db-db47-412f-b110-a3d7ab50429a button.colab-df-convert');\n",
              "      buttonEl.style.display =\n",
              "        google.colab.kernel.accessAllowed ? 'block' : 'none';\n",
              "\n",
              "      async function convertToInteractive(key) {\n",
              "        const element = document.querySelector('#df-2be3a4db-db47-412f-b110-a3d7ab50429a');\n",
              "        const dataTable =\n",
              "          await google.colab.kernel.invokeFunction('convertToInteractive',\n",
              "                                                    [key], {});\n",
              "        if (!dataTable) return;\n",
              "\n",
              "        const docLinkHtml = 'Like what you see? Visit the ' +\n",
              "          '<a target=\"_blank\" href=https://colab.research.google.com/notebooks/data_table.ipynb>data table notebook</a>'\n",
              "          + ' to learn more about interactive tables.';\n",
              "        element.innerHTML = '';\n",
              "        dataTable['output_type'] = 'display_data';\n",
              "        await google.colab.output.renderOutput(dataTable, element);\n",
              "        const docLink = document.createElement('div');\n",
              "        docLink.innerHTML = docLinkHtml;\n",
              "        element.appendChild(docLink);\n",
              "      }\n",
              "    </script>\n",
              "  </div>\n",
              "\n",
              "\n",
              "<div id=\"df-a39597c2-cc4e-4811-b15d-0c844c70d030\">\n",
              "  <button class=\"colab-df-quickchart\" onclick=\"quickchart('df-a39597c2-cc4e-4811-b15d-0c844c70d030')\"\n",
              "            title=\"Suggest charts\"\n",
              "            style=\"display:none;\">\n",
              "\n",
              "<svg xmlns=\"http://www.w3.org/2000/svg\" height=\"24px\"viewBox=\"0 0 24 24\"\n",
              "     width=\"24px\">\n",
              "    <g>\n",
              "        <path d=\"M19 3H5c-1.1 0-2 .9-2 2v14c0 1.1.9 2 2 2h14c1.1 0 2-.9 2-2V5c0-1.1-.9-2-2-2zM9 17H7v-7h2v7zm4 0h-2V7h2v10zm4 0h-2v-4h2v4z\"/>\n",
              "    </g>\n",
              "</svg>\n",
              "  </button>\n",
              "\n",
              "<style>\n",
              "  .colab-df-quickchart {\n",
              "      --bg-color: #E8F0FE;\n",
              "      --fill-color: #1967D2;\n",
              "      --hover-bg-color: #E2EBFA;\n",
              "      --hover-fill-color: #174EA6;\n",
              "      --disabled-fill-color: #AAA;\n",
              "      --disabled-bg-color: #DDD;\n",
              "  }\n",
              "\n",
              "  [theme=dark] .colab-df-quickchart {\n",
              "      --bg-color: #3B4455;\n",
              "      --fill-color: #D2E3FC;\n",
              "      --hover-bg-color: #434B5C;\n",
              "      --hover-fill-color: #FFFFFF;\n",
              "      --disabled-bg-color: #3B4455;\n",
              "      --disabled-fill-color: #666;\n",
              "  }\n",
              "\n",
              "  .colab-df-quickchart {\n",
              "    background-color: var(--bg-color);\n",
              "    border: none;\n",
              "    border-radius: 50%;\n",
              "    cursor: pointer;\n",
              "    display: none;\n",
              "    fill: var(--fill-color);\n",
              "    height: 32px;\n",
              "    padding: 0;\n",
              "    width: 32px;\n",
              "  }\n",
              "\n",
              "  .colab-df-quickchart:hover {\n",
              "    background-color: var(--hover-bg-color);\n",
              "    box-shadow: 0 1px 2px rgba(60, 64, 67, 0.3), 0 1px 3px 1px rgba(60, 64, 67, 0.15);\n",
              "    fill: var(--button-hover-fill-color);\n",
              "  }\n",
              "\n",
              "  .colab-df-quickchart-complete:disabled,\n",
              "  .colab-df-quickchart-complete:disabled:hover {\n",
              "    background-color: var(--disabled-bg-color);\n",
              "    fill: var(--disabled-fill-color);\n",
              "    box-shadow: none;\n",
              "  }\n",
              "\n",
              "  .colab-df-spinner {\n",
              "    border: 2px solid var(--fill-color);\n",
              "    border-color: transparent;\n",
              "    border-bottom-color: var(--fill-color);\n",
              "    animation:\n",
              "      spin 1s steps(1) infinite;\n",
              "  }\n",
              "\n",
              "  @keyframes spin {\n",
              "    0% {\n",
              "      border-color: transparent;\n",
              "      border-bottom-color: var(--fill-color);\n",
              "      border-left-color: var(--fill-color);\n",
              "    }\n",
              "    20% {\n",
              "      border-color: transparent;\n",
              "      border-left-color: var(--fill-color);\n",
              "      border-top-color: var(--fill-color);\n",
              "    }\n",
              "    30% {\n",
              "      border-color: transparent;\n",
              "      border-left-color: var(--fill-color);\n",
              "      border-top-color: var(--fill-color);\n",
              "      border-right-color: var(--fill-color);\n",
              "    }\n",
              "    40% {\n",
              "      border-color: transparent;\n",
              "      border-right-color: var(--fill-color);\n",
              "      border-top-color: var(--fill-color);\n",
              "    }\n",
              "    60% {\n",
              "      border-color: transparent;\n",
              "      border-right-color: var(--fill-color);\n",
              "    }\n",
              "    80% {\n",
              "      border-color: transparent;\n",
              "      border-right-color: var(--fill-color);\n",
              "      border-bottom-color: var(--fill-color);\n",
              "    }\n",
              "    90% {\n",
              "      border-color: transparent;\n",
              "      border-bottom-color: var(--fill-color);\n",
              "    }\n",
              "  }\n",
              "</style>\n",
              "\n",
              "  <script>\n",
              "    async function quickchart(key) {\n",
              "      const quickchartButtonEl =\n",
              "        document.querySelector('#' + key + ' button');\n",
              "      quickchartButtonEl.disabled = true;  // To prevent multiple clicks.\n",
              "      quickchartButtonEl.classList.add('colab-df-spinner');\n",
              "      try {\n",
              "        const charts = await google.colab.kernel.invokeFunction(\n",
              "            'suggestCharts', [key], {});\n",
              "      } catch (error) {\n",
              "        console.error('Error during call to suggestCharts:', error);\n",
              "      }\n",
              "      quickchartButtonEl.classList.remove('colab-df-spinner');\n",
              "      quickchartButtonEl.classList.add('colab-df-quickchart-complete');\n",
              "    }\n",
              "    (() => {\n",
              "      let quickchartButtonEl =\n",
              "        document.querySelector('#df-a39597c2-cc4e-4811-b15d-0c844c70d030 button');\n",
              "      quickchartButtonEl.style.display =\n",
              "        google.colab.kernel.accessAllowed ? 'block' : 'none';\n",
              "    })();\n",
              "  </script>\n",
              "</div>\n",
              "    </div>\n",
              "  </div>\n"
            ],
            "application/vnd.google.colaboratory.intrinsic+json": {
              "type": "dataframe",
              "summary": "{\n  \"name\": \"df[['id', '17_group', '18_group', 'is_mi', 'fall_need']]\",\n  \"rows\": 5,\n  \"fields\": [\n    {\n      \"column\": \"id\",\n      \"properties\": {\n        \"dtype\": \"string\",\n        \"num_unique_values\": 5,\n        \"samples\": [\n          \"d539461bf254cf8b3201cdf7990b119e\",\n          \"79d14db48e4737af731960ae212d5134\",\n          \"be4fa2120de3397ae21eac38ff0060e3\"\n        ],\n        \"semantic_type\": \"\",\n        \"description\": \"\"\n      }\n    },\n    {\n      \"column\": \"17_group\",\n      \"properties\": {\n        \"dtype\": \"number\",\n        \"std\": 1.4142135623730951,\n        \"min\": 172.0,\n        \"max\": 174.0,\n        \"num_unique_values\": 2,\n        \"samples\": [\n          172.0,\n          174.0\n        ],\n        \"semantic_type\": \"\",\n        \"description\": \"\"\n      }\n    },\n    {\n      \"column\": \"18_group\",\n      \"properties\": {\n        \"dtype\": \"number\",\n        \"std\": 0.5773502691896258,\n        \"min\": 187.0,\n        \"max\": 188.0,\n        \"num_unique_values\": 2,\n        \"samples\": [\n          187.0,\n          188.0\n        ],\n        \"semantic_type\": \"\",\n        \"description\": \"\"\n      }\n    },\n    {\n      \"column\": \"is_mi\",\n      \"properties\": {\n        \"dtype\": \"number\",\n        \"std\": null,\n        \"min\": null,\n        \"max\": null,\n        \"num_unique_values\": 0,\n        \"samples\": [],\n        \"semantic_type\": \"\",\n        \"description\": \"\"\n      }\n    },\n    {\n      \"column\": \"fall_need\",\n      \"properties\": {\n        \"dtype\": \"number\",\n        \"std\": 0,\n        \"min\": 1,\n        \"max\": 2,\n        \"num_unique_values\": 2,\n        \"samples\": [],\n        \"semantic_type\": \"\",\n        \"description\": \"\"\n      }\n    }\n  ]\n}"
            }
          },
          "metadata": {},
          "execution_count": 145
        }
      ],
      "source": [
        "import pandas as pd\n",
        "\n",
        "df = df.copy()\n",
        "\n",
        "df['fall_need'] = 1\n",
        "\n",
        "df.loc[df['17_group'].isin([171, 172, 173]) | (df['is_mi'] == 1), 'fall_need'] = 2\n",
        "\n",
        "df[['id', '17_group', '18_group', 'is_mi', 'fall_need']].head()\n"
      ]
    },
    {
      "cell_type": "markdown",
      "metadata": {
        "id": "S47aq1sQhLu4"
      },
      "source": [
        "Проверка:"
      ]
    },
    {
      "cell_type": "code",
      "execution_count": null,
      "metadata": {
        "id": "OlOgzDKDhLu5"
      },
      "outputs": [],
      "source": [
        "col_name = 'fall_need'\n",
        "\n",
        "assert(df[df['id'] == '2662600c2c37e11e62f6ee0b88452f22'][col_name] == 2).all()\n",
        "assert(df[df['id'] == 'd555d2805e1d93d4f023e57dc4c8f403'][col_name] == 2).all()\n",
        "assert(df[df['id'] == '8fe79f84f36e3a5d2d6745621321302c'][col_name] == 1).all()\n",
        "assert(df[df['id'] == 'e4caca755ee0bdd711e18fb8084958b5'][col_name] == 1).all()"
      ]
    },
    {
      "cell_type": "markdown",
      "metadata": {
        "id": "VtQYhwuPhLu5"
      },
      "source": [
        "#### 2. [2 балла] Распределите студентов в соответствии с первым приоритетом"
      ]
    },
    {
      "cell_type": "code",
      "execution_count": null,
      "metadata": {
        "id": "6gWfT3vqhLu5",
        "colab": {
          "base_uri": "https://localhost:8080/",
          "height": 36
        },
        "outputId": "2c704660-c61a-40fc-a15c-9a47751dfe31"
      },
      "outputs": [
        {
          "output_type": "execute_result",
          "data": {
            "text/plain": [
              "'/mnt/data/res_fall.csv'"
            ],
            "application/vnd.google.colaboratory.intrinsic+json": {
              "type": "string"
            }
          },
          "metadata": {},
          "execution_count": 147
        }
      ],
      "source": [
        "import pandas as pd\n",
        "\n",
        "# Копируем данные, чтобы не менять исходный df\n",
        "df = df.copy()\n",
        "\n",
        "# Добавляем колонки, если их нет\n",
        "df['is_first_place'] = False\n",
        "df['is_last_place'] = False\n",
        "\n",
        "# Лимиты мест на курсах\n",
        "limits = {\n",
        "    'Statistical Learning Theory': 60,\n",
        "    'Высокопроизводительные вычисления': 60,\n",
        "    'Анализ неструктурированных данных': float('inf')  # Без ограничений\n",
        "}\n",
        "default_limit = 30  # Остальные курсы - 30 мест\n",
        "\n",
        "# Словарь для записанных студентов\n",
        "enrolled = {}\n",
        "\n",
        "# Колонки с курсами\n",
        "fall_courses = ['fall_1', 'fall_2']\n",
        "\n",
        "# Сортируем студентов по перцентилю (чем выше, тем приоритетнее)\n",
        "df = df.sort_values(by='percentile', ascending=False)\n",
        "\n",
        "# Распределяем студентов по курсам\n",
        "for _, student in df.iterrows():\n",
        "    student_id = student['id']\n",
        "    needed = student['fall_need']\n",
        "    chosen = []\n",
        "\n",
        "    for course_col in fall_courses:\n",
        "        course = student[course_col]\n",
        "\n",
        "        if pd.notna(course) and len(chosen) < needed:\n",
        "            limit = limits.get(course, default_limit)\n",
        "\n",
        "            if course not in enrolled:\n",
        "                enrolled[course] = []\n",
        "\n",
        "            if len(enrolled[course]) < limit:\n",
        "                enrolled[course].append(student_id)\n",
        "                chosen.append(course)\n",
        "\n",
        "    # Записываем результат\n",
        "    if len(chosen) == 1:\n",
        "        df.loc[df['id'] == student_id, ['course1', 'course2']] = [chosen[0], \"-\"]\n",
        "    elif len(chosen) == 2:\n",
        "        df.loc[df['id'] == student_id, ['course1', 'course2']] = chosen\n",
        "    else:\n",
        "        df.loc[df['id'] == student_id, ['course1', 'course2']] = [\"???\", \"???\"]\n",
        "\n",
        "# Определяем лучших и худших студентов на каждом курсе\n",
        "for course in df[['course1', 'course2']].values.flatten():\n",
        "    if pd.notna(course) and course != \"???\":\n",
        "        students = df[(df['course1'] == course) | (df['course2'] == course)]\n",
        "\n",
        "        if not students.empty:\n",
        "            max_p = students['percentile'].max()\n",
        "            min_p = students['percentile'].min()\n",
        "\n",
        "            df.loc[(df['percentile'] == max_p) & ((df['course1'] == course) | (df['course2'] == course)), 'is_first_place'] = True\n",
        "            df.loc[(df['percentile'] == min_p) & ((df['course1'] == course) | (df['course2'] == course)), 'is_last_place'] = True\n",
        "\n",
        "# Итоговая таблица\n",
        "res = df[['id', 'course1', 'course2', 'is_first_place', 'is_last_place']]\n",
        "\n",
        "# Сохраняем в файл\n",
        "res.to_csv(\"/mnt/data/res_fall.csv\", index=False)\n",
        "\n",
        "# Выводим ссылку на скачивание\n",
        "\"/mnt/data/res_fall.csv\"\n"
      ]
    },
    {
      "cell_type": "markdown",
      "metadata": {
        "id": "vc5zXP5hhLu5"
      },
      "source": [
        "Здесь для проверки приведена таблица, в которой есть 2 дополнительные колонки:\n",
        "    \n",
        "    1) is_first_place - является ли студент лучшим по перцентили хотя бы на одном из курсов, куда он был зачислен\n",
        "    (True / NaN)\n",
        "    \n",
        "    2) is_last_place  - является ли студент худшим по перцентили хотя бы на одном из курсов, куда он был зачислен (True / NaN)"
      ]
    },
    {
      "cell_type": "code",
      "source": [
        "df_sorted = df.sort_values('id')\n",
        "df_sorted.to_csv(\"/mnt/data/sorted_data.csv\", index=False)\n",
        "\n",
        "\"/mnt/data/sorted_data.csv\"\n"
      ],
      "metadata": {
        "colab": {
          "base_uri": "https://localhost:8080/",
          "height": 36
        },
        "id": "M2IV8rtfYJil",
        "outputId": "370bd4ea-d924-4d6f-f338-c28b00d17f0b"
      },
      "execution_count": null,
      "outputs": [
        {
          "output_type": "execute_result",
          "data": {
            "text/plain": [
              "'/mnt/data/sorted_data.csv'"
            ],
            "application/vnd.google.colaboratory.intrinsic+json": {
              "type": "string"
            }
          },
          "metadata": {},
          "execution_count": 148
        }
      ]
    },
    {
      "cell_type": "code",
      "execution_count": null,
      "metadata": {
        "id": "uZTkGEq5hLu5",
        "colab": {
          "base_uri": "https://localhost:8080/"
        },
        "outputId": "57e4363e-aa1f-455e-b802-4d9740105bcd"
      },
      "outputs": [
        {
          "output_type": "stream",
          "name": "stdout",
          "text": [
            "                 timestamp                                id  rating  \\\n",
            "0  2020-05-15 01:12:50.543  93ff79a51cd602f1dd3028ba2c129503     698   \n",
            "1  2020-05-15 02:46:48.066  26b01b1c4cd5656bab18d24c548834fb     647   \n",
            "2  2020-05-15 03:12:41.480  30f3653fc176d54e89ac3179c455c6dd     624   \n",
            "3  2020-05-15 04:43:08.994  1528f0eaa027580820ccf0d92a53ad68     579   \n",
            "4  2020-05-15 07:47:17.197  496ea4f0d4abe264b1bb1b80eb3830c5     572   \n",
            "\n",
            "   18_group  is_mi                             fall_1  \\\n",
            "0     181.0    0.0                           Язык SQL   \n",
            "1     181.0    0.0  Высокопроизводительные вычисления   \n",
            "2     185.0    0.0   Безопасность компьютерных систем   \n",
            "3     182.0    0.0        Statistical Learning Theory   \n",
            "4     183.0    0.0  Высокопроизводительные вычисления   \n",
            "\n",
            "                              fall_2                         fall_3  \\\n",
            "0  Высокопроизводительные вычисления           Матричные вычисления   \n",
            "1   Безопасность компьютерных систем                       Язык SQL   \n",
            "2               Матричные вычисления  Моделирование временных рядов   \n",
            "3  Высокопроизводительные вычисления           Матричные вычисления   \n",
            "4   Безопасность компьютерных систем              Теория баз данных   \n",
            "\n",
            "                 spring_1                spring_2             spring_3  \\\n",
            "0  Дискретная оптимизация        Численные методы  Машинное обучение 2   \n",
            "1  Дискретная оптимизация        Численные методы  Машинное обучение 2   \n",
            "2  Дискретная оптимизация     Машинное обучение 2     Численные методы   \n",
            "3  Дискретная оптимизация        Численные методы  Машинное обучение 2   \n",
            "4       Компьютерные сети  Дискретная оптимизация     Численные методы   \n",
            "\n",
            "  is_first_time  percentile  17_group blended  is_ml_student is_first_place  \\\n",
            "0            Да    0.183857       0.0     NaN            0.0           True   \n",
            "1           Нет    0.426009       0.0     NaN            0.0            NaN   \n",
            "2            Да    0.538117       0.0     NaN            0.0            NaN   \n",
            "3            Да    0.744395       0.0     NaN            0.0            NaN   \n",
            "4            Да    0.780269       0.0     NaN            0.0            NaN   \n",
            "\n",
            "  is_last_place  \n",
            "0           NaN  \n",
            "1           NaN  \n",
            "2           NaN  \n",
            "3           NaN  \n",
            "4           NaN  \n"
          ]
        }
      ],
      "source": [
        "!wget  -O '2_task_check.csv' -q 'https://www.dropbox.com/s/v8o2zzq3iz5gc9w/_2_task_check.csv?dl=0'\n",
        "check_df = pd.read_csv('2_task_check.csv')\n",
        "print(check_df.head())"
      ]
    },
    {
      "cell_type": "markdown",
      "metadata": {
        "id": "E_fbyB9qhLu5"
      },
      "source": [
        "После распределения студентов в соответствии с первым приоритетом добавьте в свой датафрейм аналогичные признаки и запустите проверку:"
      ]
    },
    {
      "cell_type": "code",
      "source": [
        "df = pd.read_csv('/mnt/data/2_task_check.csv').sort_values('id')\n",
        "\n",
        "df.to_csv(\"/mnt/data/sorted_data.csv\", index=False)\n",
        "\n",
        "\"/mnt/data/sorted_data.csv\"\n"
      ],
      "metadata": {
        "colab": {
          "base_uri": "https://localhost:8080/",
          "height": 36
        },
        "id": "EEqg48nxZBak",
        "outputId": "cfbabfd0-1bb3-4d64-fc60-1e4c5840442b"
      },
      "execution_count": null,
      "outputs": [
        {
          "output_type": "execute_result",
          "data": {
            "text/plain": [
              "'/mnt/data/sorted_data.csv'"
            ],
            "application/vnd.google.colaboratory.intrinsic+json": {
              "type": "string"
            }
          },
          "metadata": {},
          "execution_count": 150
        }
      ]
    },
    {
      "cell_type": "code",
      "execution_count": null,
      "metadata": {
        "id": "GOAzQeYehLu6"
      },
      "outputs": [],
      "source": [
        "fir_col_name = 'is_first_place'      # insert name of your new column with is_first_place as str\n",
        "last_col_name = 'is_last_place'     # insert name of your new column with is_last_place as str\n",
        "\n",
        "\n",
        "assert((df[df[fir_col_name].isna() == False][['id']].sort_values('id').reset_index(drop=True)\n",
        "        ==\n",
        "        check_df[check_df['is_first_place'].isna() == False][['id']].sort_values('id').reset_index(drop=True)\n",
        "       ).id.values).all()\n",
        "\n",
        "\n",
        "assert((df[df[last_col_name].isna() == False][['id']].sort_values('id').reset_index(drop=True)\n",
        "       ==\n",
        "       check_df[check_df['is_last_place'].isna() == False][['id']].sort_values('id').reset_index(drop=True)\n",
        "      ).id.values).all()"
      ]
    },
    {
      "cell_type": "markdown",
      "metadata": {
        "id": "RO6DwNNFhLu6"
      },
      "source": [
        "#### 3. [3 балла] Проведите все три волны отбора студентов на курсы по выбору"
      ]
    },
    {
      "cell_type": "code",
      "execution_count": null,
      "metadata": {
        "id": "jn2OOrLjhLu6",
        "colab": {
          "base_uri": "https://localhost:8080/",
          "height": 206
        },
        "outputId": "7e836bda-3ef2-4416-8137-88d610afb190"
      },
      "outputs": [
        {
          "output_type": "display_data",
          "data": {
            "text/plain": [
              "                                   id  \\\n",
              "217  7a21ef645ecb42198be493dd65320e78   \n",
              "340  d539461bf254cf8b3201cdf7990b119e   \n",
              "128  be4fa2120de3397ae21eac38ff0060e3   \n",
              "170  40b18d40197e3db66312a026e06b8ff1   \n",
              "359  79d14db48e4737af731960ae212d5134   \n",
              "\n",
              "                                               course1  \\\n",
              "217  Принятие решений в условиях риска и неопределё...   \n",
              "340                  Анализ неструктурированных данных   \n",
              "128                   Безопасность компьютерных систем   \n",
              "170                   Безопасность компьютерных систем   \n",
              "359                   Безопасность компьютерных систем   \n",
              "\n",
              "                                               course2  \n",
              "217                                                  -  \n",
              "340                                                  -  \n",
              "128                                                  -  \n",
              "170                                                  -  \n",
              "359  Принятие решений в условиях риска и неопределё...  "
            ],
            "text/html": [
              "\n",
              "  <div id=\"df-331cbee3-3aea-4225-ae77-42666ae3ce08\" class=\"colab-df-container\">\n",
              "    <div>\n",
              "<style scoped>\n",
              "    .dataframe tbody tr th:only-of-type {\n",
              "        vertical-align: middle;\n",
              "    }\n",
              "\n",
              "    .dataframe tbody tr th {\n",
              "        vertical-align: top;\n",
              "    }\n",
              "\n",
              "    .dataframe thead th {\n",
              "        text-align: right;\n",
              "    }\n",
              "</style>\n",
              "<table border=\"1\" class=\"dataframe\">\n",
              "  <thead>\n",
              "    <tr style=\"text-align: right;\">\n",
              "      <th></th>\n",
              "      <th>id</th>\n",
              "      <th>course1</th>\n",
              "      <th>course2</th>\n",
              "    </tr>\n",
              "  </thead>\n",
              "  <tbody>\n",
              "    <tr>\n",
              "      <th>217</th>\n",
              "      <td>7a21ef645ecb42198be493dd65320e78</td>\n",
              "      <td>Принятие решений в условиях риска и неопределё...</td>\n",
              "      <td>-</td>\n",
              "    </tr>\n",
              "    <tr>\n",
              "      <th>340</th>\n",
              "      <td>d539461bf254cf8b3201cdf7990b119e</td>\n",
              "      <td>Анализ неструктурированных данных</td>\n",
              "      <td>-</td>\n",
              "    </tr>\n",
              "    <tr>\n",
              "      <th>128</th>\n",
              "      <td>be4fa2120de3397ae21eac38ff0060e3</td>\n",
              "      <td>Безопасность компьютерных систем</td>\n",
              "      <td>-</td>\n",
              "    </tr>\n",
              "    <tr>\n",
              "      <th>170</th>\n",
              "      <td>40b18d40197e3db66312a026e06b8ff1</td>\n",
              "      <td>Безопасность компьютерных систем</td>\n",
              "      <td>-</td>\n",
              "    </tr>\n",
              "    <tr>\n",
              "      <th>359</th>\n",
              "      <td>79d14db48e4737af731960ae212d5134</td>\n",
              "      <td>Безопасность компьютерных систем</td>\n",
              "      <td>Принятие решений в условиях риска и неопределё...</td>\n",
              "    </tr>\n",
              "  </tbody>\n",
              "</table>\n",
              "</div>\n",
              "    <div class=\"colab-df-buttons\">\n",
              "\n",
              "  <div class=\"colab-df-container\">\n",
              "    <button class=\"colab-df-convert\" onclick=\"convertToInteractive('df-331cbee3-3aea-4225-ae77-42666ae3ce08')\"\n",
              "            title=\"Convert this dataframe to an interactive table.\"\n",
              "            style=\"display:none;\">\n",
              "\n",
              "  <svg xmlns=\"http://www.w3.org/2000/svg\" height=\"24px\" viewBox=\"0 -960 960 960\">\n",
              "    <path d=\"M120-120v-720h720v720H120Zm60-500h600v-160H180v160Zm220 220h160v-160H400v160Zm0 220h160v-160H400v160ZM180-400h160v-160H180v160Zm440 0h160v-160H620v160ZM180-180h160v-160H180v160Zm440 0h160v-160H620v160Z\"/>\n",
              "  </svg>\n",
              "    </button>\n",
              "\n",
              "  <style>\n",
              "    .colab-df-container {\n",
              "      display:flex;\n",
              "      gap: 12px;\n",
              "    }\n",
              "\n",
              "    .colab-df-convert {\n",
              "      background-color: #E8F0FE;\n",
              "      border: none;\n",
              "      border-radius: 50%;\n",
              "      cursor: pointer;\n",
              "      display: none;\n",
              "      fill: #1967D2;\n",
              "      height: 32px;\n",
              "      padding: 0 0 0 0;\n",
              "      width: 32px;\n",
              "    }\n",
              "\n",
              "    .colab-df-convert:hover {\n",
              "      background-color: #E2EBFA;\n",
              "      box-shadow: 0px 1px 2px rgba(60, 64, 67, 0.3), 0px 1px 3px 1px rgba(60, 64, 67, 0.15);\n",
              "      fill: #174EA6;\n",
              "    }\n",
              "\n",
              "    .colab-df-buttons div {\n",
              "      margin-bottom: 4px;\n",
              "    }\n",
              "\n",
              "    [theme=dark] .colab-df-convert {\n",
              "      background-color: #3B4455;\n",
              "      fill: #D2E3FC;\n",
              "    }\n",
              "\n",
              "    [theme=dark] .colab-df-convert:hover {\n",
              "      background-color: #434B5C;\n",
              "      box-shadow: 0px 1px 3px 1px rgba(0, 0, 0, 0.15);\n",
              "      filter: drop-shadow(0px 1px 2px rgba(0, 0, 0, 0.3));\n",
              "      fill: #FFFFFF;\n",
              "    }\n",
              "  </style>\n",
              "\n",
              "    <script>\n",
              "      const buttonEl =\n",
              "        document.querySelector('#df-331cbee3-3aea-4225-ae77-42666ae3ce08 button.colab-df-convert');\n",
              "      buttonEl.style.display =\n",
              "        google.colab.kernel.accessAllowed ? 'block' : 'none';\n",
              "\n",
              "      async function convertToInteractive(key) {\n",
              "        const element = document.querySelector('#df-331cbee3-3aea-4225-ae77-42666ae3ce08');\n",
              "        const dataTable =\n",
              "          await google.colab.kernel.invokeFunction('convertToInteractive',\n",
              "                                                    [key], {});\n",
              "        if (!dataTable) return;\n",
              "\n",
              "        const docLinkHtml = 'Like what you see? Visit the ' +\n",
              "          '<a target=\"_blank\" href=https://colab.research.google.com/notebooks/data_table.ipynb>data table notebook</a>'\n",
              "          + ' to learn more about interactive tables.';\n",
              "        element.innerHTML = '';\n",
              "        dataTable['output_type'] = 'display_data';\n",
              "        await google.colab.output.renderOutput(dataTable, element);\n",
              "        const docLink = document.createElement('div');\n",
              "        docLink.innerHTML = docLinkHtml;\n",
              "        element.appendChild(docLink);\n",
              "      }\n",
              "    </script>\n",
              "  </div>\n",
              "\n",
              "\n",
              "<div id=\"df-5649f10d-2bc5-41f6-8580-c5b7ce7defc7\">\n",
              "  <button class=\"colab-df-quickchart\" onclick=\"quickchart('df-5649f10d-2bc5-41f6-8580-c5b7ce7defc7')\"\n",
              "            title=\"Suggest charts\"\n",
              "            style=\"display:none;\">\n",
              "\n",
              "<svg xmlns=\"http://www.w3.org/2000/svg\" height=\"24px\"viewBox=\"0 0 24 24\"\n",
              "     width=\"24px\">\n",
              "    <g>\n",
              "        <path d=\"M19 3H5c-1.1 0-2 .9-2 2v14c0 1.1.9 2 2 2h14c1.1 0 2-.9 2-2V5c0-1.1-.9-2-2-2zM9 17H7v-7h2v7zm4 0h-2V7h2v10zm4 0h-2v-4h2v4z\"/>\n",
              "    </g>\n",
              "</svg>\n",
              "  </button>\n",
              "\n",
              "<style>\n",
              "  .colab-df-quickchart {\n",
              "      --bg-color: #E8F0FE;\n",
              "      --fill-color: #1967D2;\n",
              "      --hover-bg-color: #E2EBFA;\n",
              "      --hover-fill-color: #174EA6;\n",
              "      --disabled-fill-color: #AAA;\n",
              "      --disabled-bg-color: #DDD;\n",
              "  }\n",
              "\n",
              "  [theme=dark] .colab-df-quickchart {\n",
              "      --bg-color: #3B4455;\n",
              "      --fill-color: #D2E3FC;\n",
              "      --hover-bg-color: #434B5C;\n",
              "      --hover-fill-color: #FFFFFF;\n",
              "      --disabled-bg-color: #3B4455;\n",
              "      --disabled-fill-color: #666;\n",
              "  }\n",
              "\n",
              "  .colab-df-quickchart {\n",
              "    background-color: var(--bg-color);\n",
              "    border: none;\n",
              "    border-radius: 50%;\n",
              "    cursor: pointer;\n",
              "    display: none;\n",
              "    fill: var(--fill-color);\n",
              "    height: 32px;\n",
              "    padding: 0;\n",
              "    width: 32px;\n",
              "  }\n",
              "\n",
              "  .colab-df-quickchart:hover {\n",
              "    background-color: var(--hover-bg-color);\n",
              "    box-shadow: 0 1px 2px rgba(60, 64, 67, 0.3), 0 1px 3px 1px rgba(60, 64, 67, 0.15);\n",
              "    fill: var(--button-hover-fill-color);\n",
              "  }\n",
              "\n",
              "  .colab-df-quickchart-complete:disabled,\n",
              "  .colab-df-quickchart-complete:disabled:hover {\n",
              "    background-color: var(--disabled-bg-color);\n",
              "    fill: var(--disabled-fill-color);\n",
              "    box-shadow: none;\n",
              "  }\n",
              "\n",
              "  .colab-df-spinner {\n",
              "    border: 2px solid var(--fill-color);\n",
              "    border-color: transparent;\n",
              "    border-bottom-color: var(--fill-color);\n",
              "    animation:\n",
              "      spin 1s steps(1) infinite;\n",
              "  }\n",
              "\n",
              "  @keyframes spin {\n",
              "    0% {\n",
              "      border-color: transparent;\n",
              "      border-bottom-color: var(--fill-color);\n",
              "      border-left-color: var(--fill-color);\n",
              "    }\n",
              "    20% {\n",
              "      border-color: transparent;\n",
              "      border-left-color: var(--fill-color);\n",
              "      border-top-color: var(--fill-color);\n",
              "    }\n",
              "    30% {\n",
              "      border-color: transparent;\n",
              "      border-left-color: var(--fill-color);\n",
              "      border-top-color: var(--fill-color);\n",
              "      border-right-color: var(--fill-color);\n",
              "    }\n",
              "    40% {\n",
              "      border-color: transparent;\n",
              "      border-right-color: var(--fill-color);\n",
              "      border-top-color: var(--fill-color);\n",
              "    }\n",
              "    60% {\n",
              "      border-color: transparent;\n",
              "      border-right-color: var(--fill-color);\n",
              "    }\n",
              "    80% {\n",
              "      border-color: transparent;\n",
              "      border-right-color: var(--fill-color);\n",
              "      border-bottom-color: var(--fill-color);\n",
              "    }\n",
              "    90% {\n",
              "      border-color: transparent;\n",
              "      border-bottom-color: var(--fill-color);\n",
              "    }\n",
              "  }\n",
              "</style>\n",
              "\n",
              "  <script>\n",
              "    async function quickchart(key) {\n",
              "      const quickchartButtonEl =\n",
              "        document.querySelector('#' + key + ' button');\n",
              "      quickchartButtonEl.disabled = true;  // To prevent multiple clicks.\n",
              "      quickchartButtonEl.classList.add('colab-df-spinner');\n",
              "      try {\n",
              "        const charts = await google.colab.kernel.invokeFunction(\n",
              "            'suggestCharts', [key], {});\n",
              "      } catch (error) {\n",
              "        console.error('Error during call to suggestCharts:', error);\n",
              "      }\n",
              "      quickchartButtonEl.classList.remove('colab-df-spinner');\n",
              "      quickchartButtonEl.classList.add('colab-df-quickchart-complete');\n",
              "    }\n",
              "    (() => {\n",
              "      let quickchartButtonEl =\n",
              "        document.querySelector('#df-5649f10d-2bc5-41f6-8580-c5b7ce7defc7 button');\n",
              "      quickchartButtonEl.style.display =\n",
              "        google.colab.kernel.accessAllowed ? 'block' : 'none';\n",
              "    })();\n",
              "  </script>\n",
              "</div>\n",
              "    </div>\n",
              "  </div>\n"
            ],
            "application/vnd.google.colaboratory.intrinsic+json": {
              "type": "dataframe",
              "summary": "{\n  \"name\": \"files\",\n  \"rows\": 5,\n  \"fields\": [\n    {\n      \"column\": \"id\",\n      \"properties\": {\n        \"dtype\": \"string\",\n        \"num_unique_values\": 5,\n        \"samples\": [\n          \"d539461bf254cf8b3201cdf7990b119e\",\n          \"79d14db48e4737af731960ae212d5134\",\n          \"be4fa2120de3397ae21eac38ff0060e3\"\n        ],\n        \"semantic_type\": \"\",\n        \"description\": \"\"\n      }\n    },\n    {\n      \"column\": \"course1\",\n      \"properties\": {\n        \"dtype\": \"string\",\n        \"num_unique_values\": 3,\n        \"samples\": [\n          \"\\u041f\\u0440\\u0438\\u043d\\u044f\\u0442\\u0438\\u0435 \\u0440\\u0435\\u0448\\u0435\\u043d\\u0438\\u0439 \\u0432 \\u0443\\u0441\\u043b\\u043e\\u0432\\u0438\\u044f\\u0445 \\u0440\\u0438\\u0441\\u043a\\u0430 \\u0438 \\u043d\\u0435\\u043e\\u043f\\u0440\\u0435\\u0434\\u0435\\u043b\\u0451\\u043d\\u043d\\u043e\\u0441\\u0442\\u0438\",\n          \"\\u0410\\u043d\\u0430\\u043b\\u0438\\u0437 \\u043d\\u0435\\u0441\\u0442\\u0440\\u0443\\u043a\\u0442\\u0443\\u0440\\u0438\\u0440\\u043e\\u0432\\u0430\\u043d\\u043d\\u044b\\u0445 \\u0434\\u0430\\u043d\\u043d\\u044b\\u0445\",\n          \"\\u0411\\u0435\\u0437\\u043e\\u043f\\u0430\\u0441\\u043d\\u043e\\u0441\\u0442\\u044c \\u043a\\u043e\\u043c\\u043f\\u044c\\u044e\\u0442\\u0435\\u0440\\u043d\\u044b\\u0445 \\u0441\\u0438\\u0441\\u0442\\u0435\\u043c\"\n        ],\n        \"semantic_type\": \"\",\n        \"description\": \"\"\n      }\n    },\n    {\n      \"column\": \"course2\",\n      \"properties\": {\n        \"dtype\": \"category\",\n        \"num_unique_values\": 2,\n        \"samples\": [\n          \"\\u041f\\u0440\\u0438\\u043d\\u044f\\u0442\\u0438\\u0435 \\u0440\\u0435\\u0448\\u0435\\u043d\\u0438\\u0439 \\u0432 \\u0443\\u0441\\u043b\\u043e\\u0432\\u0438\\u044f\\u0445 \\u0440\\u0438\\u0441\\u043a\\u0430 \\u0438 \\u043d\\u0435\\u043e\\u043f\\u0440\\u0435\\u0434\\u0435\\u043b\\u0451\\u043d\\u043d\\u043e\\u0441\\u0442\\u0438\",\n          \"-\"\n        ],\n        \"semantic_type\": \"\",\n        \"description\": \"\"\n      }\n    }\n  ]\n}"
            }
          },
          "metadata": {}
        },
        {
          "output_type": "display_data",
          "data": {
            "text/plain": [
              "<IPython.core.display.Javascript object>"
            ],
            "application/javascript": [
              "\n",
              "    async function download(id, filename, size) {\n",
              "      if (!google.colab.kernel.accessAllowed) {\n",
              "        return;\n",
              "      }\n",
              "      const div = document.createElement('div');\n",
              "      const label = document.createElement('label');\n",
              "      label.textContent = `Downloading \"${filename}\": `;\n",
              "      div.appendChild(label);\n",
              "      const progress = document.createElement('progress');\n",
              "      progress.max = size;\n",
              "      div.appendChild(progress);\n",
              "      document.body.appendChild(div);\n",
              "\n",
              "      const buffers = [];\n",
              "      let downloaded = 0;\n",
              "\n",
              "      const channel = await google.colab.kernel.comms.open(id);\n",
              "      // Send a message to notify the kernel that we're ready.\n",
              "      channel.send({})\n",
              "\n",
              "      for await (const message of channel.messages) {\n",
              "        // Send a message to notify the kernel that we're ready.\n",
              "        channel.send({})\n",
              "        if (message.buffers) {\n",
              "          for (const buffer of message.buffers) {\n",
              "            buffers.push(buffer);\n",
              "            downloaded += buffer.byteLength;\n",
              "            progress.value = downloaded;\n",
              "          }\n",
              "        }\n",
              "      }\n",
              "      const blob = new Blob(buffers, {type: 'application/binary'});\n",
              "      const a = document.createElement('a');\n",
              "      a.href = window.URL.createObjectURL(blob);\n",
              "      a.download = filename;\n",
              "      div.appendChild(a);\n",
              "      a.click();\n",
              "      div.remove();\n",
              "    }\n",
              "  "
            ]
          },
          "metadata": {}
        },
        {
          "output_type": "display_data",
          "data": {
            "text/plain": [
              "<IPython.core.display.Javascript object>"
            ],
            "application/javascript": [
              "download(\"download_faf4bb2a-d63f-4f43-a028-b7af0e926a90\", \"res_fall.csv\", 36284)"
            ]
          },
          "metadata": {}
        }
      ],
      "source": [
        "import pandas as pd\n",
        "\n",
        "df = pd.read_excel('/content/end_seminar.xlsx')\n",
        "\n",
        "df.columns = df.columns.str.strip()\n",
        "\n",
        "df['fall_need'] = df.apply(lambda x: 2 if str(x['17_group'])[:3] in ['171', '172', '173'] or x['is_mi'] == 1 else 1, axis=1)\n",
        "\n",
        "limits = {\n",
        "    'Statistical Learning Theory': 60,\n",
        "    'Высокопроизводительные вычисления': 60,\n",
        "    'Анализ неструктурированных данных': float('inf')\n",
        "}\n",
        "default_limit = 30\n",
        "\n",
        "enrolled = {}\n",
        "\n",
        "fall_courses = ['fall_1', 'fall_2', 'fall_3']\n",
        "\n",
        "df = df.sort_values(by='percentile', ascending=False)\n",
        "\n",
        "for _, student in df.iterrows():\n",
        "    student_id = student['id']\n",
        "    need = student['fall_need']\n",
        "    chosen = []\n",
        "\n",
        "    for course_col in fall_courses:\n",
        "        course = student[course_col]\n",
        "\n",
        "        if pd.notna(course) and len(chosen) < need:\n",
        "            limit = limits.get(course, default_limit)\n",
        "\n",
        "            if course not in enrolled:\n",
        "                enrolled[course] = []\n",
        "\n",
        "            if len(enrolled[course]) < limit:\n",
        "                enrolled[course].append(student_id)\n",
        "                chosen.append(course)\n",
        "\n",
        "\n",
        "    if len(chosen) == 1:\n",
        "        df.loc[df['id'] == student_id, ['course1', 'course2']] = [chosen[0], \"-\"]\n",
        "    elif len(chosen) == 2:\n",
        "        df.loc[df['id'] == student_id, ['course1', 'course2']] = chosen\n",
        "    else:\n",
        "        df.loc[df['id'] == student_id, ['course1', 'course2']] = [\"???\", \"???\"]\n",
        "\n",
        "\n",
        "df[['id', 'course1', 'course2']].to_csv(\"/mnt/data/res_fall.csv\", index=False)\n",
        "\n",
        "\n",
        "from IPython.display import display\n",
        "display(df[['id', 'course1', 'course2']].head())\n",
        "\n",
        "from google.colab import files\n",
        "\n",
        "files.download(\"/mnt/data/res_fall.csv\")\n"
      ]
    },
    {
      "cell_type": "markdown",
      "metadata": {
        "id": "1IkQa_gdhLu6"
      },
      "source": [
        "На всякий случай просим вас сдать вместе с ноутбуком файл res_fall.csv к форме."
      ]
    },
    {
      "cell_type": "markdown",
      "metadata": {
        "id": "uY_OY6inhLu7"
      },
      "source": [
        "Вставьте картинку, описывающую ваш опыт выполнения этого задания:"
      ]
    },
    {
      "cell_type": "code",
      "execution_count": null,
      "metadata": {
        "id": "R9_7CnSFhLu7"
      },
      "outputs": [],
      "source": [
        "УЖАС УЖАСНЫЙ ПРЕУЖАСНЫЙ!!!!"
      ]
    }
  ],
  "metadata": {
    "colab": {
      "provenance": [],
      "include_colab_link": true
    },
    "kernelspec": {
      "display_name": "Python 3 (ipykernel)",
      "language": "python",
      "name": "python3"
    },
    "language_info": {
      "codemirror_mode": {
        "name": "ipython",
        "version": 3
      },
      "file_extension": ".py",
      "mimetype": "text/x-python",
      "name": "python",
      "nbconvert_exporter": "python",
      "pygments_lexer": "ipython3",
      "version": "3.9.15"
    },
    "varInspector": {
      "cols": {
        "lenName": 16,
        "lenType": 16,
        "lenVar": 40
      },
      "kernels_config": {
        "python": {
          "delete_cmd_postfix": "",
          "delete_cmd_prefix": "del ",
          "library": "var_list.py",
          "varRefreshCmd": "print(var_dic_list())"
        },
        "r": {
          "delete_cmd_postfix": ") ",
          "delete_cmd_prefix": "rm(",
          "library": "var_list.r",
          "varRefreshCmd": "cat(var_dic_list()) "
        }
      },
      "types_to_exclude": [
        "module",
        "function",
        "builtin_function_or_method",
        "instance",
        "_Feature"
      ],
      "window_display": false
    },
    "vscode": {
      "interpreter": {
        "hash": "e7370f93d1d0cde622a1f8e1c04877d8463912d04d973331ad4851f04de6915a"
      }
    }
  },
  "nbformat": 4,
  "nbformat_minor": 0
}
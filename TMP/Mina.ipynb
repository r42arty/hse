{
  "cells": [
    {
      "cell_type": "markdown",
      "metadata": {
        "id": "view-in-github",
        "colab_type": "text"
      },
      "source": [
        "<a href=\"https://colab.research.google.com/github/r42arty/hse/blob/main/TMP/Mina.ipynb\" target=\"_parent\"><img src=\"https://colab.research.google.com/assets/colab-badge.svg\" alt=\"Open In Colab\"/></a>"
      ]
    },
    {
      "cell_type": "markdown",
      "metadata": {
        "id": "HcF9My_FhLuk"
      },
      "source": [
        "## <center> Практическое домашнее задание 1 </center>\n",
        "\n",
        "*`credits to ML course by E. Sokolov`*\n",
        "\n",
        "### Общая информация\n",
        "\n",
        "Дата выдачи: 01.02.2025\n",
        "\n",
        "Первый дедлайн: 07:59MSK 20.02.2025\n",
        "\n",
        "Второй дедлайн: 07:59MSK 24.02.2025"
      ]
    },
    {
      "cell_type": "markdown",
      "metadata": {
        "id": "G64TptyJhLuo"
      },
      "source": [
        "### О задании\n",
        "\n",
        "Задание состоит из двух разделов, посвященных работе с табличными данными с помощью библиотеки `pandas` и визуализации с помощью `matplotlib`. В первом разделе вам предстоит выполнить базовые задания с помощью вышеуказанных библиотек, а во втором распределить студентов по курсам. Баллы даются за выполнение отдельных пунктов. Задачи в рамках одного раздела рекомендуется решать в том порядке, в котором они даны в задании.\n",
        "\n",
        "Задание направлено на освоение jupyter notebook (будет использоваться в дальнейших заданиях), библиотек pandas и matplotlib.\n",
        "\n",
        "### Оценивание и штрафы\n",
        "Каждая из задач имеет определенную «стоимость» (указана в скобках около задачи).\n",
        "\n",
        "**Штраф за каждый день просрочки мягкого дедлайна**: 0.5 баллов. После жесткого дедлайна работы не принимаются.\n",
        "\n",
        "Задание выполняется самостоятельно. «Похожие» решения считаются плагиатом и все задействованные студенты (в том числе те, у кого списали) не могут получить за него больше 0 баллов. Если вы нашли решение какого-то из заданий (или его часть) в открытом источнике, необходимо указать ссылку на этот источник.\n",
        "\n",
        "### Формат сдачи\n",
        "Задания сдаются через гугл-форму https://forms.gle/pT6CtSPNRXoqd64d6. Сам ноутбук называйте в формате homework-practice-01-pandas-Username.ipynb, где Username — ваша фамилия."
      ]
    },
    {
      "cell_type": "markdown",
      "metadata": {
        "id": "BaXlfHE_hLup"
      },
      "source": [
        "## 0. Введение"
      ]
    },
    {
      "cell_type": "markdown",
      "metadata": {
        "id": "wirAvJNxhLup"
      },
      "source": [
        "Сейчас мы находимся в jupyter-ноутбуке (или ipython-ноутбуке). Это удобная среда для написания кода, проведения экспериментов, изучения данных, построения визуализаций и других нужд, не связанных с написанием production-кода.\n",
        "\n",
        "Ноутбук состоит из ячеек, каждая из которых может быть либо ячейкой с кодом, либо ячейкой с текстом размеченным и неразмеченным. Текст поддерживает markdown-разметку и формулы в Latex.\n",
        "\n",
        "Для работы с содержимым ячейки используется *режим редактирования* (*Edit mode*, включается нажатием клавиши **Enter** после выбора ячейки), а для навигации между ячейками искользуется *командный режим* (*Command mode*, включается нажатием клавиши **Esc**). Тип ячейки можно задать в командном режиме либо с помощью горячих клавиш (**y** to code, **m** to markdown, **r** to edit raw text), либо в меню *Cell -> Cell type*.\n",
        "\n",
        "После заполнения ячейки нужно нажать *Shift + Enter*, эта команда обработает содержимое ячейки: проинтерпретирует код или сверстает размеченный текст."
      ]
    },
    {
      "cell_type": "code",
      "execution_count": null,
      "metadata": {
        "id": "aQ2_j3nkhLuq",
        "outputId": "c8d4368d-1a7c-4dbb-de0b-180a6822cf59"
      },
      "outputs": [
        {
          "data": {
            "text/plain": [
              "4"
            ]
          },
          "execution_count": 1,
          "metadata": {},
          "output_type": "execute_result"
        }
      ],
      "source": [
        "# ячейка с кодом, при выполнении которой появится output\n",
        "2 + 2"
      ]
    },
    {
      "cell_type": "markdown",
      "metadata": {
        "id": "ZlulCwVKhLur"
      },
      "source": [
        "Ячейка с неразмеченным текстом."
      ]
    },
    {
      "cell_type": "markdown",
      "metadata": {
        "id": "A4wkVlIehLur"
      },
      "source": [
        "Попробуйте создать свои ячейки, написать какой-нибудь код и текст какой-нибудь формулой."
      ]
    },
    {
      "cell_type": "code",
      "execution_count": null,
      "metadata": {
        "id": "BIuaYSvqhLus",
        "outputId": "7056918b-a50b-414b-f219-bfc911440c03"
      },
      "outputs": [
        {
          "name": "stdout",
          "output_type": "stream",
          "text": [
            " /\\_/\\ \n",
            "( 0.0 )\n",
            " > ^ < \n"
          ]
        }
      ],
      "source": [
        "print(r\" /\\_/\\ \")\n",
        "print(r\"( 0.0 )\")\n",
        "print(r\" > ^ < \")"
      ]
    },
    {
      "cell_type": "markdown",
      "metadata": {
        "id": "sEef5xJgW-Ej"
      },
      "source": [
        "*Математическое ожидание* для экспоненциального распределения:\n",
        "$\n",
        "\\mathbb{E}[X] = \\frac{1}{\\lambda}\n",
        "$"
      ]
    },
    {
      "cell_type": "markdown",
      "metadata": {
        "id": "iWs6ljrIhLus"
      },
      "source": [
        "[Здесь](https://athena.brynmawr.edu/jupyter/hub/dblank/public/Jupyter%20Notebook%20Users%20Manual.ipynb) находится <s>не</s>большая заметка о используемом языке разметки Markdown. Он позволяет:\n",
        "\n",
        "0. Составлять упорядоченные списки\n",
        "1. Выделять *текст* <s>при</s> **необходимости**\n",
        "2. Добавлять [ссылки](http://imgs.xkcd.com/comics/the_universal_label.png)\n",
        "\n",
        "\n",
        "* Составлять неупорядоченные списки\n",
        "\n",
        "Делать вставки с помощью LaTex:\n",
        "    \n",
        "$\n",
        "\\left\\{\n",
        "\\begin{array}{ll}\n",
        "x = 16 \\sin^3 (t) \\\\\n",
        "y = 13 \\cos (t) - 5 \\cos (2t) - 2 \\cos (3t) - \\cos (4t) \\\\\n",
        "t \\in [0, 2 \\pi]\n",
        "\\end{array}\n",
        "\\right.$"
      ]
    },
    {
      "cell_type": "markdown",
      "metadata": {
        "id": "6fmTGcXOhLus"
      },
      "source": [
        "А ещё можно вставлять картинки, или гифки, или что захотите:\n",
        "\n",
        "<img src=\"https://media1.tenor.com/images/9b8fbe9214504bcf6c60fe4e4f7e114e/tenor.gif?itemid=5416416\" style=\"width: 400px\">"
      ]
    },
    {
      "cell_type": "markdown",
      "metadata": {
        "id": "J_toGw7DhLut"
      },
      "source": [
        "### Google Colab"
      ]
    },
    {
      "cell_type": "markdown",
      "metadata": {
        "id": "jpkbCVjGhLut"
      },
      "source": [
        "Что за колаб?\n",
        "\n",
        "**Google Colab (Colaboratory)** это **Jupyter Notebook + Cloud + Google Drive.**\n",
        "\n",
        "Компания Google предоставляет возможность бесплатно запускать ноутбуки (предварительно загрузив их на свой гугл-диск) прямо в облаке. При этом вам не требуется установка никаких пакетов на свою машину, а работать можно прямиком из браузера. Вот ссылка:"
      ]
    },
    {
      "cell_type": "markdown",
      "metadata": {
        "id": "06MQog3yhLut"
      },
      "source": [
        "https://colab.research.google.com"
      ]
    },
    {
      "cell_type": "markdown",
      "metadata": {
        "id": "5_hfWXKPhLut"
      },
      "source": [
        "При использовании вы увидете много сходств с jupyter ноутбуком. Одним из преимуществ является доступность GPU, соответствующую опцию можно активировать в настройках сервиса. При желании вы сможете найти в интернете много туториалов по использованию или разобраться самостоятельно =)"
      ]
    },
    {
      "cell_type": "markdown",
      "metadata": {
        "id": "sUe2vnFGhLuu"
      },
      "source": [
        "## 1. Табличные данные и Pandas"
      ]
    },
    {
      "cell_type": "markdown",
      "metadata": {
        "id": "DJQzjjqJhLuu"
      },
      "source": [
        "Pandas — удобная библиотека для работы с табличными данными в Python, если данных не слишком много и они помещаются в оперативную память вашего компьютера. Несмотря на неэффективность реализации и некоторые проблемы, библиотека стала стандартом в анализе данных.\n",
        "\n",
        "Основной объект в pandas — это DataFrame, представляющий собой таблицу с именованными колонками различных типов, индексом (может быть многоуровневым). DataFrame можно создавать, считывая таблицу из файла или задавая вручную из других объектов.\n",
        "\n",
        "В этой части потребуется выполнить несколько небольших заданий. Можно пойти двумя путями: сначала изучить материалы, а потом приступить к заданиям, или же разбираться \"по ходу\". Выбирайте сами.\n",
        "\n",
        "Материалы:\n",
        "1. [Pandas за 10 минут из официального руководства](http://pandas.pydata.org/pandas-docs/stable/10min.html)\n",
        "2. [Документация](http://pandas.pydata.org/pandas-docs/stable/index.html) (стоит обращаться, если не понятно, как вызывать конкретный метод)\n",
        "3. [Примеры использования функционала](http://nbviewer.jupyter.org/github/justmarkham/pandas-videos/blob/master/pandas.ipynb)\n",
        "\n",
        "Многие из заданий можно выполнить несколькими способами. Не существуют единственно верного, но попробуйте максимально задействовать арсенал pandas и ориентируйтесь на простоту и понятность вашего кода. Мы не будем подсказывать, что нужно использовать для решения конкретной задачи, попробуйте находить необходимый функционал сами (название метода чаще всего очевидно). В помощь вам документация, поиск и stackoverflow."
      ]
    },
    {
      "cell_type": "code",
      "execution_count": null,
      "metadata": {
        "id": "26zbFY25hLuv",
        "outputId": "404c22c6-2696-48ab-c71e-7a3ffbc36b18"
      },
      "outputs": [
        {
          "name": "stdout",
          "output_type": "stream",
          "text": [
            "%pylab is deprecated, use %matplotlib inline and import the required libraries.\n",
            "Populating the interactive namespace from numpy and matplotlib\n"
          ]
        }
      ],
      "source": [
        "%pylab inline\n",
        "import pandas as pd"
      ]
    },
    {
      "cell_type": "markdown",
      "metadata": {
        "id": "dneJl9TyhLuv"
      },
      "source": [
        "Скачаем подготовленные данные командой ниже:"
      ]
    },
    {
      "cell_type": "code",
      "execution_count": null,
      "metadata": {
        "id": "rj_I0RslhLuw",
        "outputId": "7f9f6efc-aeec-4eb0-e06d-0e77724d653c"
      },
      "outputs": [
        {
          "name": "stderr",
          "output_type": "stream",
          "text": [
            "'wget' is not recognized as an internal or external command,\n",
            "operable program or batch file.\n"
          ]
        }
      ],
      "source": [
        "!wget  -O 'end_seminar.xlsx' -q 'https://www.dropbox.com/s/f4rm8sjc3v99p0m/_end_seminar.xlsx?dl=0'"
      ]
    },
    {
      "cell_type": "markdown",
      "metadata": {
        "id": "VFs_6IythLux"
      },
      "source": [
        "**В первой части задания (до раздела \"Распределение студентов по курсам\") использование циклов запрещается и повлечет за собой снижение оценки. Использование <code>vectorize</code> и  <code>apply</code>, <code>apply_along_axis</code> крайне нежелательно.**"
      ]
    },
    {
      "cell_type": "markdown",
      "metadata": {
        "id": "shFkfJkohLux"
      },
      "source": [
        "Для каждой задачи из этого раздела вы должны написать код для получения ответа, а также дать текстовый ответ, если он предполагается.\n",
        "\n",
        "На некоторые вопросы вы можете получить путём пристального взгляда на таблицу, но это не будет засчитываться. Вы в любом случае должны получить ответ с помощью кода."
      ]
    },
    {
      "cell_type": "markdown",
      "metadata": {
        "id": "gDD85M7bhLux"
      },
      "source": [
        "#### 1. [0 баллов] Откройте файл с таблицей (не забудьте про её формат). Выведите последние 10 строк."
      ]
    },
    {
      "cell_type": "code",
      "execution_count": null,
      "metadata": {
        "id": "PKulur3LhLuy",
        "outputId": "b478207d-6f39-4f89-c414-bf0edc5f36f7"
      },
      "outputs": [
        {
          "name": "stdout",
          "output_type": "stream",
          "text": [
            "<class 'pandas.core.frame.DataFrame'>\n",
            "RangeIndex: 361 entries, 0 to 360\n",
            "Data columns (total 16 columns):\n",
            " #   Column         Non-Null Count  Dtype         \n",
            "---  ------         --------------  -----         \n",
            " 0   timestamp      361 non-null    datetime64[ns]\n",
            " 1   id             361 non-null    object        \n",
            " 2   rating         361 non-null    int64         \n",
            " 3   18_group       223 non-null    float64       \n",
            " 4   is_mi          18 non-null     float64       \n",
            " 5   fall_1         361 non-null    object        \n",
            " 6   fall_2         361 non-null    object        \n",
            " 7   fall_3         361 non-null    object        \n",
            " 8   spring_1       361 non-null    object        \n",
            " 9   spring_2       361 non-null    object        \n",
            " 10  spring_3       361 non-null    object        \n",
            " 11  is_first_time  359 non-null    object        \n",
            " 12  percentile     361 non-null    float64       \n",
            " 13  17_group       138 non-null    float64       \n",
            " 14  blended        138 non-null    object        \n",
            " 15  is_ml_student  57 non-null     float64       \n",
            "dtypes: datetime64[ns](1), float64(5), int64(1), object(9)\n",
            "memory usage: 45.3+ KB\n"
          ]
        }
      ],
      "source": [
        "df = pd.read_excel(\"_end_seminar.xlsx\")\n",
        "df.info()"
      ]
    },
    {
      "cell_type": "code",
      "execution_count": null,
      "metadata": {
        "id": "7z1DkTQPW-Ek",
        "outputId": "8e5988a6-5a6c-4ad2-c31b-10dba79ae5d7"
      },
      "outputs": [
        {
          "data": {
            "text/html": [
              "<div>\n",
              "<style scoped>\n",
              "    .dataframe tbody tr th:only-of-type {\n",
              "        vertical-align: middle;\n",
              "    }\n",
              "\n",
              "    .dataframe tbody tr th {\n",
              "        vertical-align: top;\n",
              "    }\n",
              "\n",
              "    .dataframe thead th {\n",
              "        text-align: right;\n",
              "    }\n",
              "</style>\n",
              "<table border=\"1\" class=\"dataframe\">\n",
              "  <thead>\n",
              "    <tr style=\"text-align: right;\">\n",
              "      <th></th>\n",
              "      <th>timestamp</th>\n",
              "      <th>id</th>\n",
              "      <th>rating</th>\n",
              "      <th>18_group</th>\n",
              "      <th>is_mi</th>\n",
              "      <th>fall_1</th>\n",
              "      <th>fall_2</th>\n",
              "      <th>fall_3</th>\n",
              "      <th>spring_1</th>\n",
              "      <th>spring_2</th>\n",
              "      <th>spring_3</th>\n",
              "      <th>is_first_time</th>\n",
              "      <th>percentile</th>\n",
              "      <th>17_group</th>\n",
              "      <th>blended</th>\n",
              "      <th>is_ml_student</th>\n",
              "    </tr>\n",
              "  </thead>\n",
              "  <tbody>\n",
              "    <tr>\n",
              "      <th>356</th>\n",
              "      <td>2020-05-19 19:04:17.873</td>\n",
              "      <td>c5870b37ee3f672e4259dfb2fc02ed8f</td>\n",
              "      <td>1029</td>\n",
              "      <td>0.0</td>\n",
              "      <td>0.0</td>\n",
              "      <td>Statistical Learning Theory</td>\n",
              "      <td>Анализ неструктурированных данных</td>\n",
              "      <td>Сбор и обработка данных с помощью краудсорсинга</td>\n",
              "      <td>Обучение с подкреплением</td>\n",
              "      <td>Конфликты и кооперация</td>\n",
              "      <td>Компьютерное зрение</td>\n",
              "      <td>Да</td>\n",
              "      <td>0.920290</td>\n",
              "      <td>174.0</td>\n",
              "      <td>DevOps</td>\n",
              "      <td>0.0</td>\n",
              "    </tr>\n",
              "    <tr>\n",
              "      <th>357</th>\n",
              "      <td>2020-05-19 20:19:25.815</td>\n",
              "      <td>f44aea1095f9f5b8e2f5f0ed2b17891b</td>\n",
              "      <td>1060</td>\n",
              "      <td>0.0</td>\n",
              "      <td>0.0</td>\n",
              "      <td>Анализ неструктурированных данных</td>\n",
              "      <td>Высокопроизводительные вычисления</td>\n",
              "      <td>Моделирование временных рядов</td>\n",
              "      <td>Конфликты и кооперация</td>\n",
              "      <td>Обучение с подкреплением</td>\n",
              "      <td>Численные методы</td>\n",
              "      <td>Да</td>\n",
              "      <td>0.840580</td>\n",
              "      <td>174.0</td>\n",
              "      <td>DevOps</td>\n",
              "      <td>0.0</td>\n",
              "    </tr>\n",
              "    <tr>\n",
              "      <th>358</th>\n",
              "      <td>2020-05-20 11:54:38.318</td>\n",
              "      <td>d7118b44c7e8fdbbaaca226d2da6fef1</td>\n",
              "      <td>1111</td>\n",
              "      <td>0.0</td>\n",
              "      <td>0.0</td>\n",
              "      <td>Сбор и обработка данных с помощью краудсорсинга</td>\n",
              "      <td>Statistical Learning Theory</td>\n",
              "      <td>Анализ неструктурированных данных</td>\n",
              "      <td>Проектирование и разработка высоконагруженных ...</td>\n",
              "      <td>Методы сжатия и передачи медиаданных</td>\n",
              "      <td>Численные методы</td>\n",
              "      <td>Да</td>\n",
              "      <td>0.652174</td>\n",
              "      <td>173.0</td>\n",
              "      <td>Соревновательный анализ данных</td>\n",
              "      <td>0.0</td>\n",
              "    </tr>\n",
              "    <tr>\n",
              "      <th>359</th>\n",
              "      <td>2020-05-23 21:16:40.916</td>\n",
              "      <td>79d14db48e4737af731960ae212d5134</td>\n",
              "      <td>966</td>\n",
              "      <td>0.0</td>\n",
              "      <td>0.0</td>\n",
              "      <td>Безопасность компьютерных систем</td>\n",
              "      <td>Принятие решений в условиях риска и неопределё...</td>\n",
              "      <td>Анализ неструктурированных данных</td>\n",
              "      <td>Проектирование и разработка высоконагруженных ...</td>\n",
              "      <td>Методы сжатия и передачи медиаданных</td>\n",
              "      <td>Компьютерное зрение</td>\n",
              "      <td>Да</td>\n",
              "      <td>0.985507</td>\n",
              "      <td>172.0</td>\n",
              "      <td>DevOps</td>\n",
              "      <td>0.0</td>\n",
              "    </tr>\n",
              "    <tr>\n",
              "      <th>360</th>\n",
              "      <td>2020-05-23 21:16:40.916</td>\n",
              "      <td>f2d210ace25a841e1e58036b257d5d47</td>\n",
              "      <td>1195</td>\n",
              "      <td>0.0</td>\n",
              "      <td>0.0</td>\n",
              "      <td>Анализ неструктурированных данных</td>\n",
              "      <td>Моделирование временных рядов</td>\n",
              "      <td>Высокопроизводительные вычисления</td>\n",
              "      <td>Обучение с подкреплением</td>\n",
              "      <td>Компьютерное зрение</td>\n",
              "      <td>Методы сжатия и передачи медиаданных</td>\n",
              "      <td></td>\n",
              "      <td>0.369565</td>\n",
              "      <td>176.0</td>\n",
              "      <td>Соревновательный анализ данных</td>\n",
              "      <td>0.0</td>\n",
              "    </tr>\n",
              "  </tbody>\n",
              "</table>\n",
              "</div>"
            ],
            "text/plain": [
              "                  timestamp                                id  rating  \\\n",
              "356 2020-05-19 19:04:17.873  c5870b37ee3f672e4259dfb2fc02ed8f    1029   \n",
              "357 2020-05-19 20:19:25.815  f44aea1095f9f5b8e2f5f0ed2b17891b    1060   \n",
              "358 2020-05-20 11:54:38.318  d7118b44c7e8fdbbaaca226d2da6fef1    1111   \n",
              "359 2020-05-23 21:16:40.916  79d14db48e4737af731960ae212d5134     966   \n",
              "360 2020-05-23 21:16:40.916  f2d210ace25a841e1e58036b257d5d47    1195   \n",
              "\n",
              "     18_group  is_mi                                           fall_1  \\\n",
              "356       0.0    0.0                      Statistical Learning Theory   \n",
              "357       0.0    0.0                Анализ неструктурированных данных   \n",
              "358       0.0    0.0  Сбор и обработка данных с помощью краудсорсинга   \n",
              "359       0.0    0.0                 Безопасность компьютерных систем   \n",
              "360       0.0    0.0                Анализ неструктурированных данных   \n",
              "\n",
              "                                                fall_2  \\\n",
              "356                  Анализ неструктурированных данных   \n",
              "357                  Высокопроизводительные вычисления   \n",
              "358                        Statistical Learning Theory   \n",
              "359  Принятие решений в условиях риска и неопределё...   \n",
              "360                      Моделирование временных рядов   \n",
              "\n",
              "                                              fall_3  \\\n",
              "356  Сбор и обработка данных с помощью краудсорсинга   \n",
              "357                    Моделирование временных рядов   \n",
              "358                Анализ неструктурированных данных   \n",
              "359                Анализ неструктурированных данных   \n",
              "360                Высокопроизводительные вычисления   \n",
              "\n",
              "                                              spring_1  \\\n",
              "356                           Обучение с подкреплением   \n",
              "357                             Конфликты и кооперация   \n",
              "358  Проектирование и разработка высоконагруженных ...   \n",
              "359  Проектирование и разработка высоконагруженных ...   \n",
              "360                           Обучение с подкреплением   \n",
              "\n",
              "                                 spring_2  \\\n",
              "356                Конфликты и кооперация   \n",
              "357              Обучение с подкреплением   \n",
              "358  Методы сжатия и передачи медиаданных   \n",
              "359  Методы сжатия и передачи медиаданных   \n",
              "360                   Компьютерное зрение   \n",
              "\n",
              "                                 spring_3 is_first_time  percentile  17_group  \\\n",
              "356                   Компьютерное зрение            Да    0.920290     174.0   \n",
              "357                      Численные методы            Да    0.840580     174.0   \n",
              "358                      Численные методы            Да    0.652174     173.0   \n",
              "359                   Компьютерное зрение            Да    0.985507     172.0   \n",
              "360  Методы сжатия и передачи медиаданных                  0.369565     176.0   \n",
              "\n",
              "                            blended  is_ml_student  \n",
              "356                          DevOps            0.0  \n",
              "357                          DevOps            0.0  \n",
              "358  Соревновательный анализ данных            0.0  \n",
              "359                          DevOps            0.0  \n",
              "360  Соревновательный анализ данных            0.0  "
            ]
          },
          "execution_count": 25,
          "metadata": {},
          "output_type": "execute_result"
        }
      ],
      "source": [
        "df.tail()"
      ]
    },
    {
      "cell_type": "markdown",
      "metadata": {
        "id": "jPiMwyqHhLuy"
      },
      "source": [
        "#### 2. [1 балл] Есть ли в данных пропуски? В каких колонках? Сколько их в каждой из этих колонок?"
      ]
    },
    {
      "cell_type": "markdown",
      "metadata": {
        "id": "U2IuMfSoW-El"
      },
      "source": [
        "Кол-во пропусков в колонках отображены ниже:"
      ]
    },
    {
      "cell_type": "code",
      "execution_count": null,
      "metadata": {
        "id": "Vckf3o5FW-El",
        "outputId": "dc6e389d-17bc-44ee-fe27-c0e4dc6fafd5"
      },
      "outputs": [
        {
          "data": {
            "text/plain": [
              "timestamp          0\n",
              "id                 0\n",
              "rating             0\n",
              "18_group         138\n",
              "is_mi            343\n",
              "fall_1             0\n",
              "fall_2             0\n",
              "fall_3             0\n",
              "spring_1           0\n",
              "spring_2           0\n",
              "spring_3           0\n",
              "is_first_time      2\n",
              "percentile         0\n",
              "17_group         223\n",
              "blended          223\n",
              "is_ml_student    304\n",
              "dtype: int64"
            ]
          },
          "execution_count": 10,
          "metadata": {},
          "output_type": "execute_result"
        }
      ],
      "source": [
        "df.isnull().sum()"
      ]
    },
    {
      "cell_type": "markdown",
      "metadata": {
        "id": "B5ORhP2uhLuz"
      },
      "source": [
        "Заполните пропуски пустой строкой для строковых колонок и нулём для числовых (постарайтесь избежать перечисления названий всех столбцов)."
      ]
    },
    {
      "cell_type": "code",
      "execution_count": null,
      "metadata": {
        "id": "TlF_JJ2ghLuz"
      },
      "outputs": [],
      "source": [
        "df = df.fillna({col: '' for col in df.select_dtypes(include='object').columns})\n",
        "df = df.fillna({col: 0 for col in df.select_dtypes(include='number').columns})"
      ]
    },
    {
      "cell_type": "markdown",
      "metadata": {
        "id": "w5ELhkT1hLuz"
      },
      "source": [
        "#### 3. [1 балл] Посмотрите повнимательнее на колонку 'is_first_time'.\n",
        "\n",
        "Есть ли в ней ответы \"Нет\"? Сколько их?\n",
        "\n",
        "Если вы найдете повторные обращения студентов, оставьте только самую позднюю версию. В дальнейших заданиях используйте версию данных без повторов.\n",
        "\n",
        "<i>Обращения со значением \"Нет\" в 'is_first_time' могут быть как повторными, так и первичными, поскольку поле заполняли сами студенты.</i>"
      ]
    },
    {
      "cell_type": "code",
      "execution_count": null,
      "metadata": {
        "id": "VEfiNsyQhLuz",
        "outputId": "3fdc43f1-d978-445c-a6c1-57c4f01e2d13"
      },
      "outputs": [
        {
          "name": "stdout",
          "output_type": "stream",
          "text": [
            "Кол-во ответов \"Нет\": 51\n"
          ]
        }
      ],
      "source": [
        "print('Кол-во ответов \"Нет\":', len(df[df['is_first_time']=='Нет']))"
      ]
    },
    {
      "cell_type": "code",
      "execution_count": null,
      "metadata": {
        "id": "Jd12jrG1W-El"
      },
      "outputs": [],
      "source": [
        "df = df[~df['id'].duplicated(keep='last')]"
      ]
    },
    {
      "cell_type": "markdown",
      "metadata": {
        "id": "Jhk3tVpVhLuy"
      },
      "source": [
        "#### 4. [1 балл] Ответьте на вопросы:\n",
        "1. Сколько было заявок из групп 18-го года набора, а сколько из групп 17-го года?\n",
        "2. Есть ли студенты с равными перцентилями (среди объединенных данных, ведь конкурс на каждый курс общий)?"
      ]
    },
    {
      "cell_type": "code",
      "execution_count": null,
      "metadata": {
        "id": "ddaVlNJPW-El"
      },
      "outputs": [],
      "source": [
        "seniors = df[df['17_group'] != 0.0]\n",
        "juniors = df[df['18_group'] != 0.0]"
      ]
    },
    {
      "cell_type": "code",
      "execution_count": null,
      "metadata": {
        "id": "N9VKM9cYW-El",
        "outputId": "7f49da01-6327-487c-f197-99f79d47fa0d"
      },
      "outputs": [
        {
          "name": "stdout",
          "output_type": "stream",
          "text": [
            "Заявок из групп 17-го года набора: 134\n",
            "Заявок из групп 18-го года набора: 213\n"
          ]
        }
      ],
      "source": [
        "print(\"Заявок из групп 17-го года набора:\", len(seniors))\n",
        "print(\"Заявок из групп 18-го года набора:\",  len(juniors))"
      ]
    },
    {
      "cell_type": "code",
      "execution_count": null,
      "metadata": {
        "id": "bsn4vn8RhLuy",
        "outputId": "33b11e29-ce4d-4a42-add6-8f64f9b122a8"
      },
      "outputs": [
        {
          "name": "stdout",
          "output_type": "stream",
          "text": [
            "Есть студенты с равными перцентилями: True\n"
          ]
        }
      ],
      "source": [
        "has_duplicates = df[\"percentile\"].duplicated(keep=False).any()\n",
        "print(\"Есть студенты с равными перцентилями:\", has_duplicates)"
      ]
    },
    {
      "cell_type": "markdown",
      "metadata": {
        "id": "IlzHp3HVhLuz"
      },
      "source": [
        "#### 5. [1 балл] Какие  blended-курсы для четверокурсников существуют? На какой blended-курс записалось наибольшее количество студентов? На каком из blended-курсов собрались студенты с самым высоким средним рейтингом (выведите этот курс и количество студентов на нем)?"
      ]
    },
    {
      "cell_type": "code",
      "execution_count": null,
      "metadata": {
        "id": "j_BRWerHhLu0",
        "outputId": "909f4886-5537-4e86-8f98-528204f6cdae"
      },
      "outputs": [
        {
          "name": "stdout",
          "output_type": "stream",
          "text": [
            "Blended-курсы для четверокурсников: ['DevOps' 'Введение в дифференциальную геометрию'\n",
            " 'Соревновательный анализ данных']\n"
          ]
        }
      ],
      "source": [
        "print(\"Blended-курсы для четверокурсников:\", seniors['blended'].unique())"
      ]
    },
    {
      "cell_type": "markdown",
      "metadata": {
        "id": "fRiW1hiHW-El"
      },
      "source": [
        "Метод .idxmax() взят с [этой](https://www.geeksforgeeks.org/find-maximum-values-position-in-columns-and-rows-of-a-dataframe-in-pandas/) страницы."
      ]
    },
    {
      "cell_type": "code",
      "execution_count": null,
      "metadata": {
        "id": "MBapQyS1W-El",
        "outputId": "c7f2f2fc-1ffa-4b7e-9e63-7d163a88fb26"
      },
      "outputs": [
        {
          "name": "stdout",
          "output_type": "stream",
          "text": [
            "Blended-курс, на который записалось наибольшее количество студентов, равное 87, - DevOps.\n"
          ]
        }
      ],
      "source": [
        "popular_course = seniors.groupby('blended')['id'].count().idxmax()\n",
        "popular_course_num = seniors.groupby('blended')['id'].count().max()\n",
        "print(f\"Blended-курс, на который записалось наибольшее количество студентов, равное {popular_course_num}, - {popular_course}.\")"
      ]
    },
    {
      "cell_type": "markdown",
      "metadata": {
        "id": "O7bOTFzvW-Em"
      },
      "source": [
        "Метод .nlargest() взят с [этой](https://stackoverflow.com/questions/76077005/how-to-get-the-n-largest-values-from-a-pandas-data-frame-and-label-them-as-1) страницы."
      ]
    },
    {
      "cell_type": "code",
      "execution_count": null,
      "metadata": {
        "id": "EzOhzrJDW-Em",
        "outputId": "7131a5d9-d96c-4fef-c453-595d0926501a"
      },
      "outputs": [
        {
          "name": "stdout",
          "output_type": "stream",
          "text": [
            "У blended-курс с самым высоким средним рейтингом, Введение в дифференциальную геометрию, количество студентов: 15\n"
          ]
        }
      ],
      "source": [
        "top_course = seniors.groupby('blended')['rating'].mean().nlargest(1).index[0]\n",
        "\n",
        "# Подсчитать количество студентов в этом blended-курсе\n",
        "top_course_num = seniors['blended'].value_counts()[top_course]\n",
        "\n",
        "print(f\"У blended-курс с самым высоким средним рейтингом, {top_course}, количество студентов: {top_course_num}\")"
      ]
    },
    {
      "cell_type": "markdown",
      "metadata": {
        "id": "IU_FLt8HhLu0"
      },
      "source": [
        "#### 6. [1.5 балл] Выясните, есть ли студенты с абсолютно одинаковыми предпочтениями по всем курсам.\n",
        "\n",
        "Для этого сформируйте таблицу, где для каждого возможного набора курсов посчитано количество студентов, выбравших такой набор, и оставьте только строки где это количество больше 1.\n",
        "\n",
        "В данном случае набор курсов задается упорядоченным множеством ('fall_1', 'fall_2', 'fall_3', 'spring_1', 'spring_2', 'spring_3', 'blended'). Элемент blended будет нулевым для 3-го курса."
      ]
    },
    {
      "cell_type": "markdown",
      "metadata": {
        "id": "UIsTZsR4W-Em"
      },
      "source": [
        "Метод .reset_index() взят с [этой](https://stackoverflow.com/questions/17995024/how-to-assign-a-name-to-the-size-column) и [этой](https://pandas.pydata.org/docs/reference/api/pandas.Series.reset_index.html) страниц."
      ]
    },
    {
      "cell_type": "code",
      "execution_count": null,
      "metadata": {
        "id": "BBDlR1mFhLu0",
        "outputId": "08cd36cf-8299-449d-818e-203a4a327240"
      },
      "outputs": [
        {
          "data": {
            "text/html": [
              "<div>\n",
              "<style scoped>\n",
              "    .dataframe tbody tr th:only-of-type {\n",
              "        vertical-align: middle;\n",
              "    }\n",
              "\n",
              "    .dataframe tbody tr th {\n",
              "        vertical-align: top;\n",
              "    }\n",
              "\n",
              "    .dataframe thead th {\n",
              "        text-align: right;\n",
              "    }\n",
              "</style>\n",
              "<table border=\"1\" class=\"dataframe\">\n",
              "  <thead>\n",
              "    <tr style=\"text-align: right;\">\n",
              "      <th></th>\n",
              "      <th>fall_1</th>\n",
              "      <th>fall_2</th>\n",
              "      <th>fall_3</th>\n",
              "      <th>spring_1</th>\n",
              "      <th>spring_2</th>\n",
              "      <th>spring_3</th>\n",
              "      <th>blended</th>\n",
              "      <th>count</th>\n",
              "    </tr>\n",
              "  </thead>\n",
              "  <tbody>\n",
              "    <tr>\n",
              "      <th>0</th>\n",
              "      <td>Statistical Learning Theory</td>\n",
              "      <td>Анализ неструктурированных данных</td>\n",
              "      <td>Сбор и обработка данных с помощью краудсорсинга</td>\n",
              "      <td>Обучение с подкреплением</td>\n",
              "      <td>Конфликты и кооперация</td>\n",
              "      <td>Компьютерное зрение</td>\n",
              "      <td>DevOps</td>\n",
              "      <td>2</td>\n",
              "    </tr>\n",
              "    <tr>\n",
              "      <th>60</th>\n",
              "      <td>Байесовские методы машинного обучения</td>\n",
              "      <td>Анализ неструктурированных данных</td>\n",
              "      <td>Глубинное обучение в обработке звука</td>\n",
              "      <td>Обучение с подкреплением</td>\n",
              "      <td>Генеративные модели в машинном обучении</td>\n",
              "      <td>Компьютерное зрение</td>\n",
              "      <td>DevOps</td>\n",
              "      <td>2</td>\n",
              "    </tr>\n",
              "    <tr>\n",
              "      <th>62</th>\n",
              "      <td>Байесовские методы машинного обучения</td>\n",
              "      <td>Анализ неструктурированных данных</td>\n",
              "      <td>Сбор и обработка данных с помощью краудсорсинга</td>\n",
              "      <td>Обучение с подкреплением</td>\n",
              "      <td>Компьютерное зрение</td>\n",
              "      <td>Генеративные модели в машинном обучении</td>\n",
              "      <td>DevOps</td>\n",
              "      <td>2</td>\n",
              "    </tr>\n",
              "    <tr>\n",
              "      <th>72</th>\n",
              "      <td>Безопасность компьютерных систем</td>\n",
              "      <td>Statistical Learning Theory</td>\n",
              "      <td>Матричные вычисления</td>\n",
              "      <td>Дискретная оптимизация</td>\n",
              "      <td>Промышленное программирование на языке Java</td>\n",
              "      <td>Дополнительные главы прикладной статистики</td>\n",
              "      <td></td>\n",
              "      <td>3</td>\n",
              "    </tr>\n",
              "    <tr>\n",
              "      <th>84</th>\n",
              "      <td>Безопасность компьютерных систем</td>\n",
              "      <td>Высокопроизводительные вычисления</td>\n",
              "      <td>Анализ неструктурированных данных</td>\n",
              "      <td>Проектирование и разработка высоконагруженных ...</td>\n",
              "      <td>Методы сжатия и передачи медиаданных</td>\n",
              "      <td>Конфликты и кооперация</td>\n",
              "      <td>DevOps</td>\n",
              "      <td>2</td>\n",
              "    </tr>\n",
              "    <tr>\n",
              "      <th>102</th>\n",
              "      <td>Безопасность компьютерных систем</td>\n",
              "      <td>Высокопроизводительные вычисления</td>\n",
              "      <td>Язык SQL</td>\n",
              "      <td>Компьютерные сети</td>\n",
              "      <td>Промышленное программирование на языке Java</td>\n",
              "      <td>Дискретная оптимизация</td>\n",
              "      <td></td>\n",
              "      <td>3</td>\n",
              "    </tr>\n",
              "    <tr>\n",
              "      <th>105</th>\n",
              "      <td>Безопасность компьютерных систем</td>\n",
              "      <td>Высокопроизводительные вычисления</td>\n",
              "      <td>Язык SQL</td>\n",
              "      <td>Промышленное программирование на языке Java</td>\n",
              "      <td>Компьютерные сети</td>\n",
              "      <td>Системы баз данных</td>\n",
              "      <td></td>\n",
              "      <td>2</td>\n",
              "    </tr>\n",
              "    <tr>\n",
              "      <th>113</th>\n",
              "      <td>Безопасность компьютерных систем</td>\n",
              "      <td>Матричные вычисления</td>\n",
              "      <td>Моделирование временных рядов</td>\n",
              "      <td>Промышленное программирование на языке Java</td>\n",
              "      <td>Компьютерные сети</td>\n",
              "      <td>Дискретная оптимизация</td>\n",
              "      <td></td>\n",
              "      <td>2</td>\n",
              "    </tr>\n",
              "    <tr>\n",
              "      <th>137</th>\n",
              "      <td>Безопасность компьютерных систем</td>\n",
              "      <td>Сбор и обработка данных с помощью краудсорсинга</td>\n",
              "      <td>Матричные вычисления</td>\n",
              "      <td>Компьютерные сети</td>\n",
              "      <td>Промышленное программирование на языке Java</td>\n",
              "      <td>Анализ данных в бизнесе</td>\n",
              "      <td></td>\n",
              "      <td>2</td>\n",
              "    </tr>\n",
              "    <tr>\n",
              "      <th>155</th>\n",
              "      <td>Безопасность компьютерных систем</td>\n",
              "      <td>Теория баз данных</td>\n",
              "      <td>Язык SQL</td>\n",
              "      <td>Машинное обучение 2</td>\n",
              "      <td>Компьютерные сети</td>\n",
              "      <td>Промышленное программирование на языке Java</td>\n",
              "      <td></td>\n",
              "      <td>2</td>\n",
              "    </tr>\n",
              "    <tr>\n",
              "      <th>184</th>\n",
              "      <td>Высокопроизводительные вычисления</td>\n",
              "      <td>Безопасность компьютерных систем</td>\n",
              "      <td>Сбор и обработка данных с помощью краудсорсинга</td>\n",
              "      <td>Проектирование и разработка высоконагруженных ...</td>\n",
              "      <td>Методы сжатия и передачи медиаданных</td>\n",
              "      <td>Компьютерное зрение</td>\n",
              "      <td>DevOps</td>\n",
              "      <td>2</td>\n",
              "    </tr>\n",
              "    <tr>\n",
              "      <th>201</th>\n",
              "      <td>Высокопроизводительные вычисления</td>\n",
              "      <td>Сбор и обработка данных с помощью краудсорсинга</td>\n",
              "      <td>Моделирование временных рядов</td>\n",
              "      <td>Проектирование и разработка высоконагруженных ...</td>\n",
              "      <td>Методы сжатия и передачи медиаданных</td>\n",
              "      <td>Методы сжатия и передачи медиаданных</td>\n",
              "      <td>DevOps</td>\n",
              "      <td>2</td>\n",
              "    </tr>\n",
              "    <tr>\n",
              "      <th>244</th>\n",
              "      <td>Моделирование временных рядов</td>\n",
              "      <td>Сбор и обработка данных с помощью краудсорсинга</td>\n",
              "      <td>Безопасность компьютерных систем</td>\n",
              "      <td>Компьютерные сети</td>\n",
              "      <td>Дополнительные главы прикладной статистики</td>\n",
              "      <td>Системы баз данных</td>\n",
              "      <td></td>\n",
              "      <td>2</td>\n",
              "    </tr>\n",
              "    <tr>\n",
              "      <th>292</th>\n",
              "      <td>Сбор и обработка данных с помощью краудсорсинга</td>\n",
              "      <td>Язык SQL</td>\n",
              "      <td>Теория баз данных</td>\n",
              "      <td>Промышленное программирование на языке Java</td>\n",
              "      <td>Машинное обучение 2</td>\n",
              "      <td>Компьютерные сети</td>\n",
              "      <td></td>\n",
              "      <td>2</td>\n",
              "    </tr>\n",
              "    <tr>\n",
              "      <th>313</th>\n",
              "      <td>Язык SQL</td>\n",
              "      <td>Высокопроизводительные вычисления</td>\n",
              "      <td>Теория баз данных</td>\n",
              "      <td>Компьютерные сети</td>\n",
              "      <td>Промышленное программирование на языке Java</td>\n",
              "      <td>Дискретная оптимизация</td>\n",
              "      <td></td>\n",
              "      <td>2</td>\n",
              "    </tr>\n",
              "  </tbody>\n",
              "</table>\n",
              "</div>"
            ],
            "text/plain": [
              "                                              fall_1  \\\n",
              "0                        Statistical Learning Theory   \n",
              "60             Байесовские методы машинного обучения   \n",
              "62             Байесовские методы машинного обучения   \n",
              "72                  Безопасность компьютерных систем   \n",
              "84                  Безопасность компьютерных систем   \n",
              "102                 Безопасность компьютерных систем   \n",
              "105                 Безопасность компьютерных систем   \n",
              "113                 Безопасность компьютерных систем   \n",
              "137                 Безопасность компьютерных систем   \n",
              "155                 Безопасность компьютерных систем   \n",
              "184                Высокопроизводительные вычисления   \n",
              "201                Высокопроизводительные вычисления   \n",
              "244                    Моделирование временных рядов   \n",
              "292  Сбор и обработка данных с помощью краудсорсинга   \n",
              "313                                         Язык SQL   \n",
              "\n",
              "                                              fall_2  \\\n",
              "0                  Анализ неструктурированных данных   \n",
              "60                 Анализ неструктурированных данных   \n",
              "62                 Анализ неструктурированных данных   \n",
              "72                       Statistical Learning Theory   \n",
              "84                 Высокопроизводительные вычисления   \n",
              "102                Высокопроизводительные вычисления   \n",
              "105                Высокопроизводительные вычисления   \n",
              "113                             Матричные вычисления   \n",
              "137  Сбор и обработка данных с помощью краудсорсинга   \n",
              "155                                Теория баз данных   \n",
              "184                 Безопасность компьютерных систем   \n",
              "201  Сбор и обработка данных с помощью краудсорсинга   \n",
              "244  Сбор и обработка данных с помощью краудсорсинга   \n",
              "292                                         Язык SQL   \n",
              "313                Высокопроизводительные вычисления   \n",
              "\n",
              "                                              fall_3  \\\n",
              "0    Сбор и обработка данных с помощью краудсорсинга   \n",
              "60              Глубинное обучение в обработке звука   \n",
              "62   Сбор и обработка данных с помощью краудсорсинга   \n",
              "72                              Матричные вычисления   \n",
              "84                 Анализ неструктурированных данных   \n",
              "102                                         Язык SQL   \n",
              "105                                         Язык SQL   \n",
              "113                    Моделирование временных рядов   \n",
              "137                             Матричные вычисления   \n",
              "155                                         Язык SQL   \n",
              "184  Сбор и обработка данных с помощью краудсорсинга   \n",
              "201                    Моделирование временных рядов   \n",
              "244                 Безопасность компьютерных систем   \n",
              "292                                Теория баз данных   \n",
              "313                                Теория баз данных   \n",
              "\n",
              "                                              spring_1  \\\n",
              "0                             Обучение с подкреплением   \n",
              "60                            Обучение с подкреплением   \n",
              "62                            Обучение с подкреплением   \n",
              "72                              Дискретная оптимизация   \n",
              "84   Проектирование и разработка высоконагруженных ...   \n",
              "102                                  Компьютерные сети   \n",
              "105        Промышленное программирование на языке Java   \n",
              "113        Промышленное программирование на языке Java   \n",
              "137                                  Компьютерные сети   \n",
              "155                                Машинное обучение 2   \n",
              "184  Проектирование и разработка высоконагруженных ...   \n",
              "201  Проектирование и разработка высоконагруженных ...   \n",
              "244                                  Компьютерные сети   \n",
              "292        Промышленное программирование на языке Java   \n",
              "313                                  Компьютерные сети   \n",
              "\n",
              "                                        spring_2  \\\n",
              "0                         Конфликты и кооперация   \n",
              "60       Генеративные модели в машинном обучении   \n",
              "62                           Компьютерное зрение   \n",
              "72   Промышленное программирование на языке Java   \n",
              "84          Методы сжатия и передачи медиаданных   \n",
              "102  Промышленное программирование на языке Java   \n",
              "105                            Компьютерные сети   \n",
              "113                            Компьютерные сети   \n",
              "137  Промышленное программирование на языке Java   \n",
              "155                            Компьютерные сети   \n",
              "184         Методы сжатия и передачи медиаданных   \n",
              "201         Методы сжатия и передачи медиаданных   \n",
              "244   Дополнительные главы прикладной статистики   \n",
              "292                          Машинное обучение 2   \n",
              "313  Промышленное программирование на языке Java   \n",
              "\n",
              "                                        spring_3 blended  count  \n",
              "0                            Компьютерное зрение  DevOps      2  \n",
              "60                           Компьютерное зрение  DevOps      2  \n",
              "62       Генеративные модели в машинном обучении  DevOps      2  \n",
              "72    Дополнительные главы прикладной статистики              3  \n",
              "84                        Конфликты и кооперация  DevOps      2  \n",
              "102                       Дискретная оптимизация              3  \n",
              "105                           Системы баз данных              2  \n",
              "113                       Дискретная оптимизация              2  \n",
              "137                      Анализ данных в бизнесе              2  \n",
              "155  Промышленное программирование на языке Java              2  \n",
              "184                          Компьютерное зрение  DevOps      2  \n",
              "201         Методы сжатия и передачи медиаданных  DevOps      2  \n",
              "244                           Системы баз данных              2  \n",
              "292                            Компьютерные сети              2  \n",
              "313                       Дискретная оптимизация              2  "
            ]
          },
          "execution_count": 15,
          "metadata": {},
          "output_type": "execute_result"
        }
      ],
      "source": [
        "choices_pool = df.groupby(['fall_1', 'fall_2', 'fall_3', 'spring_1', 'spring_2', 'spring_3', 'blended']).size().reset_index(name='count')\n",
        "choices_pool[choices_pool['count'] > 1]"
      ]
    },
    {
      "cell_type": "markdown",
      "metadata": {
        "id": "spu3r3vchLu0"
      },
      "source": [
        "#### 7. [0.5 балла] Найдите курсы по выбору, на которые записывались как студенты 18-го года набора, так и студенты 17-го года."
      ]
    },
    {
      "cell_type": "markdown",
      "metadata": {
        "id": "C4mr7ghzW-Em"
      },
      "source": [
        "Метод .stack() взят с [этой](https://stackoverflow.com/questions/61690295/python-pandas-convert-columns-into-rows) страницы."
      ]
    },
    {
      "cell_type": "code",
      "execution_count": null,
      "metadata": {
        "id": "t21fWi8ShLu0",
        "outputId": "eda2556f-2fcb-4bc4-c73e-3994425ed20b"
      },
      "outputs": [
        {
          "name": "stdout",
          "output_type": "stream",
          "text": [
            "Курсы, на которые записывались как студенты 18-го года набора, так и студенты 17-го года:\n",
            " {'Принятие решений в условиях риска и неопределённости', 'Statistical Learning Theory', 'Безопасность компьютерных систем', 'Моделирование временных рядов', 'Численные методы', 'Высокопроизводительные вычисления', 'Сбор и обработка данных с помощью краудсорсинга'}\n"
          ]
        }
      ],
      "source": [
        "course_cols = ['fall_1', 'fall_2', 'fall_3', 'spring_1', 'spring_2', 'spring_3', 'blended']\n",
        "\n",
        "juniors_courses = set(df[df['18_group'] != 0.0][course_cols].stack().unique()) - {''}\n",
        "seniors_courses = set(df[df['17_group'] != 0.0][course_cols].stack().unique())\n",
        "\n",
        "common_courses = seniors_courses & juniors_courses\n",
        "\n",
        "print(\"Курсы, на которые записывались как студенты 18-го года набора, так и студенты 17-го года:\\n\", common_courses)"
      ]
    },
    {
      "cell_type": "markdown",
      "metadata": {
        "id": "PYfX-Dr5hLu0"
      },
      "source": [
        "Методом исключения найдите курсы, которые предлагались только студентам 18-го года и только студентам 17-го года."
      ]
    },
    {
      "cell_type": "code",
      "execution_count": null,
      "metadata": {
        "id": "G9SWBOpehLu1",
        "outputId": "119847ed-7c4c-4c80-bbf3-f09537c056b2"
      },
      "outputs": [
        {
          "name": "stdout",
          "output_type": "stream",
          "text": [
            "Курсы, на которые записались только студенты 17-ого года набора:\n",
            " {'Символьные вычисления', 'Конфликты и кооперация', 'Глубинное обучение в обработке звука', 'Генеративные модели в машинном обучении', 'Анализ неструктурированных данных', 'Компьютерное зрение', 'Обучение с подкреплением', 'Методы сжатия и передачи медиаданных', 'DevOps', 'Байесовские методы машинного обучения', 'Соревновательный анализ данных', 'Проектирование и разработка высоконагруженных сервисов', 'Введение в дифференциальную геометрию'}\n",
            "Курсы, на которые записались только студенты 18-ого года набора:\n",
            " {'Системы баз данных', 'Компьютерные сети', 'Теория баз данных', 'Дискретная оптимизация', 'Дополнительные главы прикладной статистики', 'Анализ данных в бизнесе', 'Матричные вычисления', 'Язык SQL', 'Промышленное программирование на языке Java', 'Машинное обучение 2'}\n"
          ]
        }
      ],
      "source": [
        "juniors_only = juniors_courses - seniors_courses\n",
        "seniors_only = seniors_courses - juniors_courses\n",
        "\n",
        "print(\"Курсы, на которые записались только студенты 17-ого года набора:\\n\", seniors_only)\n",
        "print(\"Курсы, на которые записались только студенты 18-ого года набора:\\n\", juniors_only)"
      ]
    },
    {
      "cell_type": "markdown",
      "metadata": {
        "id": "uL45Tg5fhLu1"
      },
      "source": [
        "### Визуализации и matplotlib"
      ]
    },
    {
      "cell_type": "markdown",
      "metadata": {
        "id": "MY9lKmP2hLu1"
      },
      "source": [
        "При работе с данными часто неудобно делать какие-то выводы, если смотреть на таблицу и числа в частности, поэтому важно уметь визуализировать данные. Здесь будут описаны ключевые правила оформления графиков для **всех** домашних заданий.\n",
        "\n",
        "У matplotlib, конечно же, есть [документация](https://matplotlib.org/users/index.html) с большим количеством [примеров](https://matplotlib.org/examples/), но для начала достаточно знать про несколько основных типов графиков:\n",
        "- plot — обычный поточечный график, которым можно изображать кривые или отдельные точки;\n",
        "- hist — гистограмма, показывающая распределение некоторой величины;\n",
        "- scatter — график, показывающий взаимосвязь двух величин;\n",
        "- bar — столбцовый график, показывающий взаимосвязь количественной величины от категориальной.\n",
        "\n",
        "В этом задании вы попробуете построить один из них. Не забывайте про базовые принципы построения приличных графиков:\n",
        "- оси должны быть подписаны, причём не слишком мелко;\n",
        "- у графика должно быть название;\n",
        "- если изображено несколько графиков, то необходима поясняющая легенда;\n",
        "- все линии на графиках должны быть чётко видны (нет похожих цветов или цветов, сливающихся с фоном);\n",
        "- если отображена величина, имеющая очевидный диапазон значений (например, проценты могут быть от 0 до 100), то желательно масштабировать ось на весь диапазон значений (исключением является случай, когда вам необходимо показать малое отличие, которое незаметно в таких масштабах);\n",
        "- сетка на графике помогает оценить значения в точках на глаз, это обычно полезно, поэтому лучше ее отрисовывать;\n",
        "- если распределение на гистограмме имеет тяжёлые хвосты, лучше использовать логарифмическую шкалу.\n",
        "\n",
        "Еще одна билиотека для визуализации: [seaborn](https://jakevdp.github.io/PythonDataScienceHandbook/04.14-visualization-with-seaborn.html) (обычно сокращается до sns). Это настройка над matplotlib, иногда удобнее и красивее делать визуализации через неё.\n",
        "\n",
        "**5 пунктов после которых ваши графики не будут прежними:**\n",
        "- для красивой картинки <code>%config InlineBackend.figure_format = 'retina'</code>\n",
        "- задаем размер (почти) всех графиков (можно выбрать другие значения) <code>plt.rcParams['figure.figsize'] = 8, 5</code>\n",
        "- размер шрифта подписей графиков <code>plt.rcParams['font.size'] = 12</code>\n",
        "- формат в котором сохраняется изображение <code>plt.rcParams['savefig.format'] = 'pdf'</code>\n",
        "- sns – seaborn, добавляет решетку <code>sns.set_style('darkgrid')</code>\n",
        "\n",
        "Добавьте эти функции в ячейку ниже. Каждый график все равно придется настраивать отдельно, но указанные строчки позволят значительно упростить процесс.  "
      ]
    },
    {
      "cell_type": "code",
      "execution_count": null,
      "metadata": {
        "id": "na9doUOFhLu1"
      },
      "outputs": [],
      "source": [
        "%matplotlib inline\n",
        "import matplotlib.pyplot as plt\n",
        "import seaborn as sns\n",
        "\n",
        "%config InlineBackend.figure_format = 'retina'\n",
        "plt.rcParams['figure.figsize'] = 8, 6\n",
        "plt.rcParams['font.size'] = 12\n",
        "plt.rcParams['savefig.format'] = 'pdf'\n",
        "sns.set_style('darkgrid')"
      ]
    },
    {
      "cell_type": "markdown",
      "metadata": {
        "id": "kikwLpxfhLu1"
      },
      "source": [
        "#### 8. [0.5 балла] Постройте график средних рейтингов по дням получения ответов (bar plot)."
      ]
    },
    {
      "cell_type": "code",
      "execution_count": null,
      "metadata": {
        "id": "YEWyrwdIW-Em"
      },
      "outputs": [],
      "source": [
        "df['date'] = df['timestamp'].dt.date\n",
        "avg_ratings = df.groupby('date')['rating'].mean().sort_index()"
      ]
    },
    {
      "cell_type": "code",
      "execution_count": null,
      "metadata": {
        "id": "UTPLVeQvhLu2",
        "outputId": "9fb5692d-7f53-425a-b4c2-6797cf9a169b"
      },
      "outputs": [
        {
          "data": {
            "image/png": "[encoded data removed]",
            "text/plain": [
              "<Figure size 800x600 with 1 Axes>"
            ]
          },
          "metadata": {
            "image/png": {
              "height": 584,
              "width": 781
            }
          },
          "output_type": "display_data"
        }
      ],
      "source": [
        "avg_ratings.plot(kind='bar', color='tab:blue')\n",
        "\n",
        "plt.xlabel(\"День получения ответа\")\n",
        "plt.ylabel(\"Средний рейтинг\")\n",
        "\n",
        "plt.title(\"Средние рейтинги по дням получения ответов\", fontsize=14)\n",
        "\n",
        "plt.grid(True, linestyle='--', alpha=0.6)\n",
        "\n",
        "plt.xticks(rotation=45)\n",
        "\n",
        "plt.tight_layout()\n",
        "plt.show()"
      ]
    },
    {
      "cell_type": "markdown",
      "metadata": {
        "id": "AmsQg9_xhLu2"
      },
      "source": [
        "Сохраните график в формате pdf (так он останется векторизованным)."
      ]
    },
    {
      "cell_type": "code",
      "execution_count": null,
      "metadata": {
        "id": "vKZNSwWghLu2"
      },
      "outputs": [],
      "source": [
        "plt.savefig(\"avg_ratings_by_day.pdf\")"
      ]
    },
    {
      "cell_type": "markdown",
      "metadata": {
        "id": "sCgWwjl0hLu2"
      },
      "source": [
        "### 2. Распределение студентов по курсам."
      ]
    },
    {
      "cell_type": "markdown",
      "metadata": {
        "id": "VNqXUpr4hLu3"
      },
      "source": [
        "Теперь вам нужно распределить студентов по осенним курсам по выбору, учитывая их предпочтения."
      ]
    },
    {
      "cell_type": "markdown",
      "metadata": {
        "id": "5cAR2FgphLu3"
      },
      "source": [
        "Алгоритм распределения студентов по курсам:\n",
        "1. По умолчанию на каждой дисциплине по выбору у 3 и 4 курсов может учиться 1 группа (до 30 студентов). Исключения описаны ниже. На blended-дисциплинах для четверокурсников количество мест не ограничено.\n",
        "2. Проводится первая волна отбора. Для каждой дисциплины формируется список тех, кто указал её первым приоритетом (если студент должен выбрать два курса по выбору, то для него дисциплины, которые он указал первым и вторым приоритетом, рассматриваются как дисциплины первого приоритета). Если желающих больше, чем мест, то выбирается топ по перцентилю рейтинга.\n",
        "3. На дисциплинах, где остались места после первой волны, формируются списки тех, кто выбрал их вторым приоритетом и еще не прошел на необходимое количество курсов. Места заполняются лучшими по перцентилю рейтинга студентами. После этого проводится такая же процедура для дисциплин третьего приоритета.\n",
        "4. Если студент не попал на необходимое количество курсов по итогам трёх волн, с ним связывается учебный офис и решает вопрос в индивидуальном порядке."
      ]
    },
    {
      "cell_type": "markdown",
      "metadata": {
        "id": "BiNKVwS6hLu3"
      },
      "source": [
        "Обращаем ваше внимание на следующие детали:\n",
        "- Конкурс на каждый курс общий для 3-го и 4-го курса\n",
        "\n",
        "- По умолчанию студент выбирает один осенний и один весенний курс по выбору, а также четверокурсники выбирают один blended-курс. Студенты групп 17-го года специализаций МОП и ТИ выбирают по 2 осенних и 2 весенних курса по выбору, также студенты групп 18' специализации МИ выбирают 2 осенних курса. <i>Для студентов, которые выбирают 2 курса (например, осенних) первый приоритет — <code>fall_1</code> и <code>fall_2</code>, второй приоритет — <code>fall_3</code>. Такие студенты участвуют только в двух волнах отбора</i>.\n",
        "\n",
        "- Студенты специализации МОП не могут выбрать весенним курсом по выбору Машинное обучение 2. **Если студент специализации МОП выбрал Машинное обучение 2, то его приоритеты сдвигаются.** Из-за совпадений первого и второго курса по выбору двигать приоритеты не надо.\n",
        "\n",
        "- Blended-курсы не трогайте, по ним не надо распределять, на другие курсы они никак не влияют.\n",
        "\n",
        "- Заведомо известно, что в процессе распределения не возникнет ситуации, когда на одно место претендуют студенты с одинаковым перцентилем.\n",
        "\n",
        "- На выходе ожидается файл res_fall.csv с результатами распределения на осенние курсы по выбору. Файл должен быть следующего формата:\n",
        "\n",
        "    * Три колонки: ID, course1, course2\n",
        "    \n",
        "    * Если студент не попал на курс, но должен был, то вместо названия курса в ячейке должна быть строка \"???\"\n",
        "    \n",
        "    * Если студент должен выбрать только один курс, то в колонке course2 для него должна стоять строка \"-\"\n",
        "    \n",
        "    * Если студент должен выбрать два курса по выбору, то порядок в колонках course1 и course2 не важен.\n",
        "    \n",
        "    * hint: для сохранения воспользуйтесь df.to_csv('solution.csv', index=None)\n",
        "    \n",
        "\n",
        "Для работы вам могут понадобиться следующие данные:\n",
        "\n",
        "- Результаты опроса (вы уже использовали этот файл в первой части задания, но на всякий случай ссылка: https://www.dropbox.com/s/f4rm8sjc3v99p0m/_end_seminar.xlsx?dl=0)\n",
        "\n",
        "- Соответствие номеров групп специализациям:\n",
        "\n",
        "    * 171, 172 - МОП; 173 - ТИ; 174 — АДИС; 175, 176 — РС; 177 — АПР\n",
        "    \n",
        "    * У студентов 18-го года номера групп соответствуют номерам до распределения по специализациям. Это означает, что по номеру группы 18* нельзя однозначно определить специализацию студента. При этом в рамках распределения важно знать информацию только о двух из них: МОП и МИ. Эти знание можно получить из колонок 'is_ml_student\n",
        "' и 'is_mi' соответственно.\n",
        "\n",
        "- Ограничения по количеству мест на курсах по выбору:\n",
        "\n",
        "    * Осенние: везде 30 мест, кроме Statistical Learning Theory (60 мест), Высокопроизводительных вычислений (60 мест), Анализа неструктурированных данных ($\\infty$ мест)\n",
        "\n",
        "    * Весенние: везде 30 мест, кроме Обучения с подкреплением (60 мест), Анализа данных в бизнесе (60 мест).\n",
        "\n",
        "\n",
        "Кстати, убедитесь, что в данных больше нет пропусков и повторных записей."
      ]
    },
    {
      "cell_type": "markdown",
      "metadata": {
        "id": "o5t55IcQhLu4"
      },
      "source": [
        "#### 0. Проверка\n",
        "\n",
        "Для начала давайте убедимся, что вы успешно выполнили задания первой части и проверим ваши данные на наличие пропусков и повторов:"
      ]
    },
    {
      "cell_type": "code",
      "execution_count": null,
      "metadata": {
        "id": "34HWEdVdhLu4"
      },
      "outputs": [],
      "source": [
        "assert df.shape[0] == 347, 'В таблице остались повторы или потеряны данные'\n",
        "\n",
        "assert df.isna().sum().sum() == 0, 'В таблице остались пропуски'"
      ]
    },
    {
      "cell_type": "markdown",
      "metadata": {
        "id": "_ImUFyG3hLu4"
      },
      "source": [
        "Если вы не получили AssertionError, то можете продолжать."
      ]
    },
    {
      "cell_type": "markdown",
      "metadata": {
        "id": "LTGSwwvAhLu4"
      },
      "source": [
        "#### 1. [1.5 балл] Создайте новый признак, обозначающий, сколько осенних курсов должен выбрать студент\n",
        "\n",
        "В этом вам может помочь информация о специализации и группе стундента."
      ]
    },
    {
      "cell_type": "code",
      "execution_count": null,
      "metadata": {
        "id": "ouxo0kHFhLu4"
      },
      "outputs": [],
      "source": [
        "condition_17 = (df['17_group'].isin([171, 172, 173]))\n",
        "condition_18 = (df['18_group'] != 0.0) & (df['is_mi'] == True)\n",
        "\n",
        "df['fall_count'] = 1\n",
        "df.loc[condition_17 | condition_18, 'fall_count'] = 2"
      ]
    },
    {
      "cell_type": "markdown",
      "metadata": {
        "id": "S47aq1sQhLu4"
      },
      "source": [
        "Проверка:"
      ]
    },
    {
      "cell_type": "code",
      "execution_count": null,
      "metadata": {
        "id": "OlOgzDKDhLu5"
      },
      "outputs": [],
      "source": [
        "col_name = 'fall_count'   # insert your new column name as str\n",
        "\n",
        "assert(df[df['id'] == '2662600c2c37e11e62f6ee0b88452f22'][col_name] == 2).all()\n",
        "assert(df[df['id'] == 'd555d2805e1d93d4f023e57dc4c8f403'][col_name] == 2).all()\n",
        "assert(df[df['id'] == '8fe79f84f36e3a5d2d6745621321302c'][col_name] == 1).all()\n",
        "assert(df[df['id'] == 'e4caca755ee0bdd711e18fb8084958b5'][col_name] == 1).all()"
      ]
    },
    {
      "cell_type": "markdown",
      "metadata": {
        "id": "VtQYhwuPhLu5"
      },
      "source": [
        "#### 2. [2 балла] Распределите студентов в соответствии с первым приоритетом"
      ]
    },
    {
      "cell_type": "code",
      "execution_count": null,
      "metadata": {
        "id": "SDNuTxDxW-En"
      },
      "outputs": [],
      "source": [
        "import numpy as np\n",
        "import warnings\n",
        "warnings.filterwarnings(\"ignore\")"
      ]
    },
    {
      "cell_type": "code",
      "execution_count": null,
      "metadata": {
        "id": "QWL3IXXOW-En"
      },
      "outputs": [],
      "source": [
        "df = pd.read_csv(\"first_edit_hw1.csv\")"
      ]
    },
    {
      "cell_type": "code",
      "execution_count": null,
      "metadata": {
        "id": "82yp06SsW-En",
        "outputId": "cd0ce249-09a3-4bc0-d88f-18fcd5033df6"
      },
      "outputs": [
        {
          "data": {
            "text/html": [
              "<div>\n",
              "<style scoped>\n",
              "    .dataframe tbody tr th:only-of-type {\n",
              "        vertical-align: middle;\n",
              "    }\n",
              "\n",
              "    .dataframe tbody tr th {\n",
              "        vertical-align: top;\n",
              "    }\n",
              "\n",
              "    .dataframe thead th {\n",
              "        text-align: right;\n",
              "    }\n",
              "</style>\n",
              "<table border=\"1\" class=\"dataframe\">\n",
              "  <thead>\n",
              "    <tr style=\"text-align: right;\">\n",
              "      <th></th>\n",
              "      <th>timestamp</th>\n",
              "      <th>id</th>\n",
              "      <th>rating</th>\n",
              "      <th>18_group</th>\n",
              "      <th>is_mi</th>\n",
              "      <th>fall_1</th>\n",
              "      <th>fall_2</th>\n",
              "      <th>fall_3</th>\n",
              "      <th>spring_1</th>\n",
              "      <th>spring_2</th>\n",
              "      <th>spring_3</th>\n",
              "      <th>is_first_time</th>\n",
              "      <th>percentile</th>\n",
              "      <th>17_group</th>\n",
              "      <th>blended</th>\n",
              "      <th>is_ml_student</th>\n",
              "      <th>date</th>\n",
              "      <th>fall_count</th>\n",
              "    </tr>\n",
              "  </thead>\n",
              "  <tbody>\n",
              "    <tr>\n",
              "      <th>0</th>\n",
              "      <td>2020-05-15 01:12:50.543</td>\n",
              "      <td>93ff79a51cd602f1dd3028ba2c129503</td>\n",
              "      <td>698</td>\n",
              "      <td>181.0</td>\n",
              "      <td>0.0</td>\n",
              "      <td>Язык SQL</td>\n",
              "      <td>Высокопроизводительные вычисления</td>\n",
              "      <td>Матричные вычисления</td>\n",
              "      <td>Дискретная оптимизация</td>\n",
              "      <td>Численные методы</td>\n",
              "      <td>Машинное обучение 2</td>\n",
              "      <td>Да</td>\n",
              "      <td>0.183857</td>\n",
              "      <td>0.0</td>\n",
              "      <td>NaN</td>\n",
              "      <td>0.0</td>\n",
              "      <td>2020-05-15</td>\n",
              "      <td>1</td>\n",
              "    </tr>\n",
              "    <tr>\n",
              "      <th>1</th>\n",
              "      <td>2020-05-15 02:46:48.066</td>\n",
              "      <td>26b01b1c4cd5656bab18d24c548834fb</td>\n",
              "      <td>647</td>\n",
              "      <td>181.0</td>\n",
              "      <td>0.0</td>\n",
              "      <td>Высокопроизводительные вычисления</td>\n",
              "      <td>Безопасность компьютерных систем</td>\n",
              "      <td>Язык SQL</td>\n",
              "      <td>Дискретная оптимизация</td>\n",
              "      <td>Численные методы</td>\n",
              "      <td>Машинное обучение 2</td>\n",
              "      <td>Нет</td>\n",
              "      <td>0.426009</td>\n",
              "      <td>0.0</td>\n",
              "      <td>NaN</td>\n",
              "      <td>0.0</td>\n",
              "      <td>2020-05-15</td>\n",
              "      <td>1</td>\n",
              "    </tr>\n",
              "    <tr>\n",
              "      <th>2</th>\n",
              "      <td>2020-05-15 03:12:41.480</td>\n",
              "      <td>30f3653fc176d54e89ac3179c455c6dd</td>\n",
              "      <td>624</td>\n",
              "      <td>185.0</td>\n",
              "      <td>0.0</td>\n",
              "      <td>Безопасность компьютерных систем</td>\n",
              "      <td>Матричные вычисления</td>\n",
              "      <td>Моделирование временных рядов</td>\n",
              "      <td>Дискретная оптимизация</td>\n",
              "      <td>Машинное обучение 2</td>\n",
              "      <td>Численные методы</td>\n",
              "      <td>Да</td>\n",
              "      <td>0.538117</td>\n",
              "      <td>0.0</td>\n",
              "      <td>NaN</td>\n",
              "      <td>0.0</td>\n",
              "      <td>2020-05-15</td>\n",
              "      <td>1</td>\n",
              "    </tr>\n",
              "    <tr>\n",
              "      <th>3</th>\n",
              "      <td>2020-05-15 04:43:08.994</td>\n",
              "      <td>1528f0eaa027580820ccf0d92a53ad68</td>\n",
              "      <td>579</td>\n",
              "      <td>182.0</td>\n",
              "      <td>0.0</td>\n",
              "      <td>Statistical Learning Theory</td>\n",
              "      <td>Высокопроизводительные вычисления</td>\n",
              "      <td>Матричные вычисления</td>\n",
              "      <td>Дискретная оптимизация</td>\n",
              "      <td>Численные методы</td>\n",
              "      <td>Машинное обучение 2</td>\n",
              "      <td>Да</td>\n",
              "      <td>0.744395</td>\n",
              "      <td>0.0</td>\n",
              "      <td>NaN</td>\n",
              "      <td>0.0</td>\n",
              "      <td>2020-05-15</td>\n",
              "      <td>1</td>\n",
              "    </tr>\n",
              "    <tr>\n",
              "      <th>4</th>\n",
              "      <td>2020-05-15 07:47:17.197</td>\n",
              "      <td>496ea4f0d4abe264b1bb1b80eb3830c5</td>\n",
              "      <td>572</td>\n",
              "      <td>183.0</td>\n",
              "      <td>0.0</td>\n",
              "      <td>Высокопроизводительные вычисления</td>\n",
              "      <td>Безопасность компьютерных систем</td>\n",
              "      <td>Теория баз данных</td>\n",
              "      <td>Компьютерные сети</td>\n",
              "      <td>Дискретная оптимизация</td>\n",
              "      <td>Численные методы</td>\n",
              "      <td>Да</td>\n",
              "      <td>0.780269</td>\n",
              "      <td>0.0</td>\n",
              "      <td>NaN</td>\n",
              "      <td>0.0</td>\n",
              "      <td>2020-05-15</td>\n",
              "      <td>1</td>\n",
              "    </tr>\n",
              "  </tbody>\n",
              "</table>\n",
              "</div>"
            ],
            "text/plain": [
              "                 timestamp                                id  rating  \\\n",
              "0  2020-05-15 01:12:50.543  93ff79a51cd602f1dd3028ba2c129503     698   \n",
              "1  2020-05-15 02:46:48.066  26b01b1c4cd5656bab18d24c548834fb     647   \n",
              "2  2020-05-15 03:12:41.480  30f3653fc176d54e89ac3179c455c6dd     624   \n",
              "3  2020-05-15 04:43:08.994  1528f0eaa027580820ccf0d92a53ad68     579   \n",
              "4  2020-05-15 07:47:17.197  496ea4f0d4abe264b1bb1b80eb3830c5     572   \n",
              "\n",
              "   18_group  is_mi                             fall_1  \\\n",
              "0     181.0    0.0                           Язык SQL   \n",
              "1     181.0    0.0  Высокопроизводительные вычисления   \n",
              "2     185.0    0.0   Безопасность компьютерных систем   \n",
              "3     182.0    0.0        Statistical Learning Theory   \n",
              "4     183.0    0.0  Высокопроизводительные вычисления   \n",
              "\n",
              "                              fall_2                         fall_3  \\\n",
              "0  Высокопроизводительные вычисления           Матричные вычисления   \n",
              "1   Безопасность компьютерных систем                       Язык SQL   \n",
              "2               Матричные вычисления  Моделирование временных рядов   \n",
              "3  Высокопроизводительные вычисления           Матричные вычисления   \n",
              "4   Безопасность компьютерных систем              Теория баз данных   \n",
              "\n",
              "                 spring_1                spring_2             spring_3  \\\n",
              "0  Дискретная оптимизация        Численные методы  Машинное обучение 2   \n",
              "1  Дискретная оптимизация        Численные методы  Машинное обучение 2   \n",
              "2  Дискретная оптимизация     Машинное обучение 2     Численные методы   \n",
              "3  Дискретная оптимизация        Численные методы  Машинное обучение 2   \n",
              "4       Компьютерные сети  Дискретная оптимизация     Численные методы   \n",
              "\n",
              "  is_first_time  percentile  17_group blended  is_ml_student        date  \\\n",
              "0            Да    0.183857       0.0     NaN            0.0  2020-05-15   \n",
              "1           Нет    0.426009       0.0     NaN            0.0  2020-05-15   \n",
              "2            Да    0.538117       0.0     NaN            0.0  2020-05-15   \n",
              "3            Да    0.744395       0.0     NaN            0.0  2020-05-15   \n",
              "4            Да    0.780269       0.0     NaN            0.0  2020-05-15   \n",
              "\n",
              "   fall_count  \n",
              "0           1  \n",
              "1           1  \n",
              "2           1  \n",
              "3           1  \n",
              "4           1  "
            ]
          },
          "execution_count": 299,
          "metadata": {},
          "output_type": "execute_result"
        }
      ],
      "source": [
        "df.head()"
      ]
    },
    {
      "cell_type": "code",
      "execution_count": null,
      "metadata": {
        "id": "d6rC8BxAW-Eo",
        "outputId": "015692e7-6f75-4b12-bd37-76464f9016b5"
      },
      "outputs": [
        {
          "name": "stdout",
          "output_type": "stream",
          "text": [
            "<class 'pandas.core.frame.DataFrame'>\n",
            "RangeIndex: 347 entries, 0 to 346\n",
            "Data columns (total 18 columns):\n",
            " #   Column         Non-Null Count  Dtype  \n",
            "---  ------         --------------  -----  \n",
            " 0   timestamp      347 non-null    object \n",
            " 1   id             347 non-null    object \n",
            " 2   rating         347 non-null    int64  \n",
            " 3   18_group       347 non-null    float64\n",
            " 4   is_mi          347 non-null    float64\n",
            " 5   fall_1         347 non-null    object \n",
            " 6   fall_2         347 non-null    object \n",
            " 7   fall_3         347 non-null    object \n",
            " 8   spring_1       347 non-null    object \n",
            " 9   spring_2       347 non-null    object \n",
            " 10  spring_3       347 non-null    object \n",
            " 11  is_first_time  345 non-null    object \n",
            " 12  percentile     347 non-null    float64\n",
            " 13  17_group       347 non-null    float64\n",
            " 14  blended        134 non-null    object \n",
            " 15  is_ml_student  347 non-null    float64\n",
            " 16  date           347 non-null    object \n",
            " 17  fall_count     347 non-null    int64  \n",
            "dtypes: float64(5), int64(2), object(11)\n",
            "memory usage: 48.9+ KB\n"
          ]
        }
      ],
      "source": [
        "df.info()"
      ]
    },
    {
      "cell_type": "markdown",
      "metadata": {
        "id": "4fGvSybeW-Eo"
      },
      "source": [
        "Метод .apply() для GroupBy взят с [документации](https://pandas.pydata.org/docs/reference/api/pandas.core.groupby.DataFrameGroupBy.apply.html), .map() взят с [StackOverflow](https://stackoverflow.com/questions/71532360/label-a-column-based-on-the-value-of-another-column-same-row-in-pandas-datafra), .agg() взят с [StackOverflow1](https://stackoverflow.com/questions/38127209/how-to-use-groupby-to-concatenate-strings-in-python-pandas) и [StackOverflow2](https://stackoverflow.com/questions/12589481/multiple-aggregations-of-the-same-column-using-pandas-groupby-agg)"
      ]
    },
    {
      "cell_type": "code",
      "execution_count": null,
      "metadata": {
        "id": "opyprqbJW-Eo",
        "outputId": "10ee1fa4-1340-481a-f5df-c2f12d493f78"
      },
      "outputs": [
        {
          "name": "stdout",
          "output_type": "stream",
          "text": [
            "                                              course  enrolled_count  capacity\n",
            "                         Statistical Learning Theory              33      60.0\n",
            "                   Анализ неструктурированных данных              48       inf\n",
            "               Байесовские методы машинного обучения              24      30.0\n",
            "                    Безопасность компьютерных систем              30      30.0\n",
            "                   Высокопроизводительные вычисления              45      60.0\n",
            "                Глубинное обучение в обработке звука              23      30.0\n",
            "                                Матричные вычисления              15      30.0\n",
            "                       Моделирование временных рядов              30      30.0\n",
            "Принятие решений в условиях риска и неопределённости               8      30.0\n",
            "     Сбор и обработка данных с помощью краудсорсинга              30      30.0\n",
            "                                   Теория баз данных              14      30.0\n",
            "                                            Язык SQL              29      30.0\n",
            "\n"
          ]
        }
      ],
      "source": [
        "# ограничения по кол-ву мест\n",
        "capacity_dict = {\n",
        "    'Statistical Learning Theory': 60,\n",
        "    'Высокопроизводительные вычисления': 60,\n",
        "    'Анализ неструктурированных данных': np.inf\n",
        "}\n",
        "def_cap = 30\n",
        "\n",
        "# Создаем общий df с кандидатами.\n",
        "cand1 = df[df['fall_1'] != \"\"][['id', 'fall_1', 'percentile']].copy()\n",
        "cand1 = cand1.rename(columns={'fall_1': 'course'})\n",
        "\n",
        "cand2 = df[(df['fall_count'] == 2) & (df['fall_2'] != \"\")][['id', 'fall_2', 'percentile']].copy()\n",
        "cand2 = cand2.rename(columns={'fall_2': 'course'})\n",
        "\n",
        "all_candidates = pd.concat([cand1, cand2], ignore_index=True)\n",
        "\n",
        "# Для каждого курса отбираем лучших кандидатов (с наименьшим percentile) с учётом лимита.\n",
        "def select_top(group):\n",
        "    cap = capacity_dict.get(group.name, def_cap)\n",
        "    group_sorted = group.sort_values('percentile')\n",
        "    return group_sorted if cap == np.inf else group_sorted.head(int(cap))\n",
        "\n",
        "assigned = all_candidates.groupby('course', group_keys=False).apply(select_top).reset_index(drop=True)\n",
        "\n",
        "# -------------\n",
        "\n",
        "# Подсчитаем количество зачисленных по каждому курсу для статистики\n",
        "course_counts = assigned.groupby('course').size().reset_index(name='enrolled_count')\n",
        "course_counts['capacity'] = course_counts['course'].map(lambda x: capacity_dict.get(x, def_cap))\n",
        "\n",
        "# -------------\n",
        "\n",
        "# Собираем для каждого студента список зачисленных курсов в виде строки с разделителем \", \"\n",
        "assigned_by_student = assigned.groupby('id')['course'].agg(lambda courses: \", \".join(courses)).reset_index()\n",
        "\n",
        "# Объединяем результат с исходным DataFrame\n",
        "df = df.merge(assigned_by_student, on='id', how='left')\n",
        "# Если студент не зачислен ни на один курс – получаем пустую строку\n",
        "df['fall_courses'] = df['course'].fillna(\"\")\n",
        "df.drop(columns=['course'], inplace=True)\n",
        "\n",
        "# Проставление флагов is_first_place и is_last_place\n",
        "\n",
        "course_stats = assigned.groupby('course').agg(\n",
        "    min_pct=('percentile', 'min'),\n",
        "    max_pct=('percentile', 'max'),\n",
        "    count=('id', 'count')\n",
        ").reset_index()\n",
        "\n",
        "assigned = assigned.merge(course_stats, on='course', how='left')\n",
        "assigned['is_first'] = assigned['percentile'] == assigned['min_pct']\n",
        "# Если по курсу зачислен единственный студент, он не считается худшим\n",
        "assigned['is_last'] = (assigned['count'] > 1) & (assigned['percentile'] == assigned['max_pct'])\n",
        "\n",
        "student_flags = assigned.groupby('id').agg(\n",
        "    is_first_place=('is_first', 'any'),\n",
        "    is_last_place=('is_last', 'any')\n",
        ").reset_index()\n",
        "\n",
        "# Преобразуем False в NaN (оставляем только True или NaN)\n",
        "student_flags['is_first_place'] = student_flags['is_first_place'].replace({False: np.nan})\n",
        "student_flags['is_last_place'] = student_flags['is_last_place'].replace({False: np.nan})\n",
        "\n",
        "df = df.merge(student_flags, on='id', how='left')\n",
        "\n",
        "# -------------\n",
        "\n",
        "print(course_counts.to_string(index=False))\n",
        "print()\n",
        "\n",
        "sorted_df = df.sort_values('id', ascending=True).reset_index(drop=True)"
      ]
    },
    {
      "cell_type": "markdown",
      "metadata": {
        "id": "vc5zXP5hhLu5"
      },
      "source": [
        "Здесь для проверки приведена таблица, в которой есть 2 дополнительные колонки:\n",
        "    \n",
        "    1) is_first_place - является ли студент лучшим по перцентили хотя бы на одном из курсов, куда он был зачислен\n",
        "    (True / NaN)\n",
        "    \n",
        "    2) is_last_place  - является ли студент худшим по перцентили хотя бы на одном из курсов, куда он был зачислен (True / NaN)"
      ]
    },
    {
      "cell_type": "code",
      "execution_count": null,
      "metadata": {
        "id": "uZTkGEq5hLu5"
      },
      "outputs": [],
      "source": [
        "#!wget  -O '2_task_check.csv' -q 'https://www.dropbox.com/s/v8o2zzq3iz5gc9w/_2_task_check.csv?dl=0'\n",
        "check_df = pd.read_csv('_2_task_check.csv')"
      ]
    },
    {
      "cell_type": "markdown",
      "metadata": {
        "id": "E_fbyB9qhLu5"
      },
      "source": [
        "После распределения студентов в соответствии с первым приоритетом добавьте в свой датафрейм аналогичные признаки и запустите проверку:"
      ]
    },
    {
      "cell_type": "code",
      "execution_count": null,
      "metadata": {
        "id": "GOAzQeYehLu6"
      },
      "outputs": [],
      "source": [
        "fir_col_name = 'is_first_place'     # insert name of your new column with is_first_place as str\n",
        "last_col_name = 'is_last_place'    # insert name of your new column with is_last_place as str\n",
        "\n",
        "\n",
        "assert((df[df[fir_col_name].isna() == False][['id']].sort_values('id').reset_index(drop=True)\n",
        "        ==\n",
        "        check_df[check_df['is_first_place'].isna() == False][['id']].sort_values('id').reset_index(drop=True)\n",
        "       ).id.values).all()\n"
      ]
    },
    {
      "cell_type": "code",
      "execution_count": null,
      "metadata": {
        "id": "6jPn3SdxW-Eo"
      },
      "outputs": [],
      "source": [
        "assert((df[df[last_col_name].isna() == False][['id']].sort_values('id').reset_index(drop=True)\n",
        "       ==\n",
        "       check_df[check_df['is_last_place'].isna() == False][['id']].sort_values('id').reset_index(drop=True)\n",
        "      ).id.values).all()"
      ]
    },
    {
      "cell_type": "markdown",
      "metadata": {
        "id": "RO6DwNNFhLu6"
      },
      "source": [
        "#### 3. [3 балла] Проведите все три волны отбора студентов на курсы по выбору"
      ]
    },
    {
      "cell_type": "code",
      "execution_count": null,
      "metadata": {
        "id": "VHNwOg_3W-Eo"
      },
      "outputs": [],
      "source": [
        "df = pd.read_csv(\"first_edit_hw1.csv\")"
      ]
    },
    {
      "cell_type": "markdown",
      "metadata": {
        "id": "A27feotvW-Eo"
      },
      "source": [
        "Метод .to_string() взят с [документации](https://pandas.pydata.org/docs/reference/api/pandas.DataFrame.to_string.html)"
      ]
    },
    {
      "cell_type": "code",
      "execution_count": null,
      "metadata": {
        "id": "jn2OOrLjhLu6",
        "outputId": "b8f81aa1-b4e8-41da-cc63-61b3a7d37bd9"
      },
      "outputs": [
        {
          "name": "stdout",
          "output_type": "stream",
          "text": [
            "After Wave 1:\n",
            "                                              course  enrolled_count capacity\n",
            "                         Statistical Learning Theory              33       60\n",
            "                   Анализ неструктурированных данных              48      inf\n",
            "               Байесовские методы машинного обучения              24       30\n",
            "                    Безопасность компьютерных систем              30       30\n",
            "                   Высокопроизводительные вычисления              45       60\n",
            "                Глубинное обучение в обработке звука              23       30\n",
            "                                Матричные вычисления              15       30\n",
            "                       Моделирование временных рядов              30       30\n",
            "Принятие решений в условиях риска и неопределённости               8       30\n",
            "     Сбор и обработка данных с помощью краудсорсинга              30       30\n",
            "                                   Теория баз данных              14       30\n",
            "                                            Язык SQL              29       30\n",
            "\n",
            "After Wave 2:\n",
            "                                              course  enrolled_count capacity\n",
            "                         Statistical Learning Theory              36       60\n",
            "                   Анализ неструктурированных данных              53      inf\n",
            "               Байесовские методы машинного обучения              25       30\n",
            "                    Безопасность компьютерных систем              30       30\n",
            "                   Высокопроизводительные вычисления              46       60\n",
            "                Глубинное обучение в обработке звука              29       30\n",
            "                                Матричные вычисления              15       30\n",
            "                       Моделирование временных рядов              30       30\n",
            "Принятие решений в условиях риска и неопределённости               8       30\n",
            "     Сбор и обработка данных с помощью краудсорсинга              30       30\n",
            "                                   Теория баз данных              14       30\n",
            "                                            Язык SQL              29       30\n",
            "\n",
            "After Wave 3:\n",
            "                                              course  enrolled_count capacity\n",
            "                         Statistical Learning Theory              40       60\n",
            "                   Анализ неструктурированных данных              56      inf\n",
            "               Байесовские методы машинного обучения              25       30\n",
            "                    Безопасность компьютерных систем              30       30\n",
            "                   Высокопроизводительные вычисления              52       60\n",
            "                Глубинное обучение в обработке звука              30       30\n",
            "                                Матричные вычисления              30       30\n",
            "                       Моделирование временных рядов              30       30\n",
            "Принятие решений в условиях риска и неопределённости               9       30\n",
            "     Сбор и обработка данных с помощью краудсорсинга              30       30\n",
            "                                   Теория баз данных              22       30\n",
            "                                            Язык SQL              30       30\n",
            "\n"
          ]
        }
      ],
      "source": [
        "# Вспомогательные ф-ции\n",
        "\n",
        "def stats_table_output(title, assigned_df, course_cap, def_cap=30):\n",
        "    counts = assigned_df.groupby('course').size().to_dict()\n",
        "    data = []\n",
        "    for course, cnt in sorted(counts.items()):\n",
        "        lim_val = course_cap.get(course, def_cap)\n",
        "        l_str = 'inf' if lim_val == np.inf else str(lim_val)\n",
        "        data.append([course, cnt, l_str])\n",
        "    tbl = pd.DataFrame(data, columns=[\"course\", \"enrolled_count\", \"capacity\"])\n",
        "    print(title)\n",
        "    print(tbl.to_string(index=False))\n",
        "    print()\n",
        "\n",
        "def allocate_wave_candidates(candidates, already_assigned, course_cap, def_cap=30):\n",
        "    \"\"\"\n",
        "    Из candidates DataFrame (со столбцами: id, course, percentile) выбирает те заявки,\n",
        "    для которых еще есть места (с учетом уже назначенных).\n",
        "    Возвращает DataFrame с новыми назначениями.\n",
        "    \"\"\"\n",
        "    current_counts = already_assigned.groupby('course').size().rename('current_count').reset_index()\n",
        "    cand = candidates.merge(current_counts, on='course', how='left')\n",
        "    cand['current_count'] = cand['current_count'].fillna(0)\n",
        "    cand['capacity'] = cand['course'].map(lambda x: course_cap.get(x, def_cap))\n",
        "    cand['remaining'] = cand['capacity'] - cand['current_count']\n",
        "    cand = cand[cand['remaining'] > 0]\n",
        "    if cand.empty:\n",
        "        return pd.DataFrame(columns=['id','course','percentile'])\n",
        "    def select_for_course(group):\n",
        "        rem = group['remaining'].iloc[0]\n",
        "        group_sorted = group.sort_values('percentile')\n",
        "        if np.isinf(rem):\n",
        "            return group_sorted\n",
        "        else:\n",
        "            return group_sorted.head(int(rem))\n",
        "    new_assignments = cand.groupby('course', group_keys=False).apply(select_for_course).reset_index(drop=True)\n",
        "    return new_assignments\n",
        "\n",
        "def update_assignments(new_assignments, already_assigned, df, assigned_col='fall_courses'):\n",
        "    \"\"\"\n",
        "    Обновляет общий список назначенных заявок и исходный DataFrame df (в колонке assigned_col).\n",
        "    \"\"\"\n",
        "    updated = pd.concat([already_assigned, new_assignments], ignore_index=True)\n",
        "    new_assignments_grouped = new_assignments.groupby('id')['course'].agg(list).reset_index()\n",
        "    df_updated = df.merge(new_assignments_grouped, on='id', how='left', suffixes=(\"\", \"_new\"))\n",
        "    df_updated[assigned_col] = df_updated[assigned_col].fillna(\"\")\n",
        "    df_updated[assigned_col] = df_updated.apply(\n",
        "        lambda row: row[assigned_col] + (\", \" if row[assigned_col] and isinstance(row['course'], list) else \"\") +\n",
        "                    \", \".join(row['course']) if isinstance(row['course'], list) else row[assigned_col],\n",
        "        axis=1)\n",
        "    df.update(df_updated[[assigned_col]])\n",
        "    return updated, df\n",
        "\n",
        "\n",
        "# Запуск\n",
        "\n",
        "df['fall_courses'] = \"\"\n",
        "\n",
        "fall_course_cap = {\n",
        "    'Statistical Learning Theory': 60,\n",
        "    'Высокопроизводительные вычисления': 60,\n",
        "    'Анализ неструктурированных данных': np.inf\n",
        "}\n",
        "def_cap = 30\n",
        "\n",
        "# Волна 1\n",
        "cand_wave1_1 = df[df['fall_count'] == 1][['id', 'fall_1', 'percentile']].copy().rename(columns={'fall_1':'course'})\n",
        "cand_wave1_2 = df[df['fall_count'] == 2][['id', 'fall_1', 'percentile']].copy().rename(columns={'fall_1':'course'})\n",
        "cand_wave1_3 = df[df['fall_count'] == 2][['id', 'fall_2', 'percentile']].copy().rename(columns={'fall_2':'course'})\n",
        "candidates_wave1 = pd.concat([cand_wave1_1, cand_wave1_2, cand_wave1_3], ignore_index=True)\n",
        "candidates_wave1 = candidates_wave1[candidates_wave1['course'] != \"\"]\n",
        "\n",
        "already_assigned = pd.DataFrame(columns=['id','course','percentile'])\n",
        "wave1_new = allocate_wave_candidates(candidates_wave1, already_assigned, fall_course_cap, def_cap)\n",
        "already_assigned, df = update_assignments(wave1_new, already_assigned, df, 'fall_courses')\n",
        "\n",
        "wave1_counts = already_assigned.groupby('course').size().to_dict()\n",
        "stats_table_output(\"After Wave 1:\", already_assigned, fall_course_cap, def_cap)\n",
        "\n",
        "# Волна 2\n",
        "df['assigned_count'] = df['fall_courses'].apply(lambda x: 0 if x == \"\" else len(x.split(\", \")))\n",
        "cand_wave2 = df[(df['fall_count'] == 2) & (df['assigned_count'] < 2) & (df['fall_3'] != \"\")][['id', 'fall_3', 'percentile']].copy()\n",
        "cand_wave2 = cand_wave2.rename(columns={'fall_3':'course'})\n",
        "wave2_new = allocate_wave_candidates(cand_wave2, already_assigned, fall_course_cap, def_cap)\n",
        "already_assigned, df = update_assignments(wave2_new, already_assigned, df, 'fall_courses')\n",
        "\n",
        "wave2_counts = already_assigned.groupby('course').size().to_dict()\n",
        "stats_table_output(\"After Wave 2:\", already_assigned, fall_course_cap, def_cap)\n",
        "\n",
        "# Волна 3\n",
        "df['assigned_count'] = df['fall_courses'].apply(lambda x: 0 if x == \"\" else len(x.split(\", \")))\n",
        "cand_wave3 = cand_wave3 = df[(df['fall_count'] == 1) &(df['assigned_count'] < 1) &(df['fall_3'] != \"\")][['id', 'fall_3', 'percentile']].copy().rename(columns={'fall_3': 'course'})\n",
        "wave3_new = allocate_wave_candidates(cand_wave3, already_assigned, fall_course_cap, def_cap)\n",
        "already_assigned, df = update_assignments(wave3_new, already_assigned, df, 'fall_courses')\n",
        "\n",
        "wave3_counts = already_assigned.groupby('course').size().to_dict()\n",
        "stats_table_output(\"After Wave 3:\", already_assigned, fall_course_cap, def_cap)\n",
        "\n",
        "df.drop(columns=['assigned_count'], inplace=True)\n",
        "\n",
        "\n",
        "# Строим таблицу res_fall.\n",
        "def get_courses(row):\n",
        "    assigned = row['fall_courses'].split(\", \") if row['fall_courses'] != \"\" else []\n",
        "    if row['fall_count'] == 1:\n",
        "        return pd.Series([assigned[0] if len(assigned) >= 1 else \"???\", \"-\"])\n",
        "    elif row['fall_count'] == 2:\n",
        "        return pd.Series([assigned[0] if len(assigned) >= 1 else \"???\",\n",
        "                          assigned[1] if len(assigned) >= 2 else \"???\"])\n",
        "    else:\n",
        "        return pd.Series([\"???\", \"???\"])\n",
        "res_df = pd.DataFrame()\n",
        "res_df['ID'] = df['id']\n",
        "res_df[['course1', 'course2']] = df.apply(get_courses, axis=1)\n",
        "res_df.to_csv('res_fall.csv', index=False)\n"
      ]
    },
    {
      "cell_type": "markdown",
      "metadata": {
        "id": "1IkQa_gdhLu6"
      },
      "source": [
        "На всякий случай просим вас сдать вместе с ноутбуком файл res_fall.csv к форме."
      ]
    },
    {
      "cell_type": "markdown",
      "metadata": {
        "id": "uY_OY6inhLu7"
      },
      "source": [
        "Вставьте картинку, описывающую ваш опыт выполнения этого задания:"
      ]
    },
    {
      "cell_type": "markdown",
      "metadata": {
        "id": "c0GalFksW-Ep"
      },
      "source": [
        "<img src='https://media.tenor.com/arucnQ85wpUAAAAj/mochi-cat-what.gif'>"
      ]
    }
  ],
  "metadata": {
    "colab": {
      "provenance": [],
      "include_colab_link": true
    },
    "kernelspec": {
      "display_name": "base",
      "language": "python",
      "name": "python3"
    },
    "language_info": {
      "codemirror_mode": {
        "name": "ipython",
        "version": 3
      },
      "file_extension": ".py",
      "mimetype": "text/x-python",
      "name": "python",
      "nbconvert_exporter": "python",
      "pygments_lexer": "ipython3",
      "version": "3.12.4"
    },
    "varInspector": {
      "cols": {
        "lenName": 16,
        "lenType": 16,
        "lenVar": 40
      },
      "kernels_config": {
        "python": {
          "delete_cmd_postfix": "",
          "delete_cmd_prefix": "del ",
          "library": "var_list.py",
          "varRefreshCmd": "print(var_dic_list())"
        },
        "r": {
          "delete_cmd_postfix": ") ",
          "delete_cmd_prefix": "rm(",
          "library": "var_list.r",
          "varRefreshCmd": "cat(var_dic_list()) "
        }
      },
      "types_to_exclude": [
        "module",
        "function",
        "builtin_function_or_method",
        "instance",
        "_Feature"
      ],
      "window_display": false
    }
  },
  "nbformat": 4,
  "nbformat_minor": 0
}
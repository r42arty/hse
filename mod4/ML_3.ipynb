{
  "cells": [
    {
      "cell_type": "markdown",
      "metadata": {
        "id": "view-in-github",
        "colab_type": "text"
      },
      "source": [
        "<a href=\"https://colab.research.google.com/github/r42arty/hse/blob/main/mod4/ML_3.ipynb\" target=\"_parent\"><img src=\"https://colab.research.google.com/assets/colab-badge.svg\" alt=\"Open In Colab\"/></a>"
      ]
    },
    {
      "cell_type": "markdown",
      "metadata": {
        "id": "LTlmjXExP75I"
      },
      "source": [
        "## <center> Практическое домашнее задание 3 </center>\n",
        "\n",
        "*`credits to ML course by E. Sokolov`*\n",
        "\n",
        "### Общая информация\n",
        "\n",
        "Дата выдачи: 16.04.2025\n",
        "\n",
        "Первый дедлайн: 07:59MSK 18.05.2025\n",
        "\n",
        "Второй дедлайн: 07:59MSK 20.05.2025"
      ]
    },
    {
      "cell_type": "markdown",
      "metadata": {
        "id": "iWjJuhqS3Ucc"
      },
      "source": [
        "### Оглавление\n",
        "\n",
        "В этом задании вы:\n",
        "\n",
        "1. [ознакомитесь с тем, что происходит \"внутри\" метода опорных векторов и логистической регрессии](#введение)\n",
        "2. [познакомитесь с калибровкой вероятности](#калибровка)\n",
        "3. [изучите методы трансформации переменных и методы отбора признаков](#кодировка)\n",
        "4. [попробуете оценить экономический эффект модели](#модель)"
      ]
    },
    {
      "cell_type": "markdown",
      "metadata": {
        "id": "CecLXG_w3zs0"
      },
      "source": [
        "### Оценивание и штрафы\n",
        "Каждая из задач имеет определенную «стоимость» (указана в скобках около задачи). Проверяющий имеет право снизить оценку за неэффективную реализацию или неопрятные графики.\n",
        "\n",
        "**Обратите внимание**, что в каждом разделе домашнего задания есть оцениваниемые задачи и есть вопросы. Вопросы дополняют задачи и направлены на то, чтобы проинтерпретировать или обосновать происходящее. Код без интерпретации не имеет смысла, поэтому отвечать на вопросы обязательно — за отсутствие ответов мы будем снижать баллы за задачи. Если вы ответите на вопросы, но не напишете корректный код к соответствующим оцениваемым задачам, то баллы за такое выставлены не будут.\n",
        "\n",
        "**Штраф за каждый день просрочки мягкого дедлайна**: 0.5 баллов. После жесткого дедлайна работы не принимаются.\n",
        "\n",
        "Задание выполняется самостоятельно. «Похожие» решения считаются плагиатом и все задействованные студенты (в том числе те, у кого списали) не могут получить за него больше 0 баллов.\n",
        "\n",
        "❗️ Если вы нашли решение какого-то из заданий (или его часть) в открытом источнике, необходимо **указать ссылку на этот источник**.\n",
        "\n",
        "**❗️ При использовании генеративных нейросетей:**\n",
        "\n",
        "1. Необходимо указывать их как источник в каждом соответствующем задании\n",
        "2. Ассистенты могут проводить мини-защиты ДЗ\n",
        "3. Без указания как источника и подозрениях ассистентов, задания будут так же защищаться, иначе обнуляться."
      ]
    },
    {
      "cell_type": "markdown",
      "metadata": {
        "id": "KGWDDNDyP75O"
      },
      "source": [
        "# Часть 1. SVM, LR и калибровка вероятностей<a name=\"введение\"></a>\n",
        "\n",
        "*Максимум: 3 балла*"
      ]
    },
    {
      "cell_type": "code",
      "execution_count": null,
      "metadata": {
        "id": "KyqoX1BNP75N"
      },
      "outputs": [],
      "source": [
        "import numpy as np\n",
        "import pandas as pd\n",
        "import matplotlib.pyplot as plt\n",
        "%matplotlib inline\n",
        "\n",
        "pd.set_option('display.max_rows', 100)\n",
        "pd.set_option('display.max_columns', 100)"
      ]
    },
    {
      "cell_type": "markdown",
      "metadata": {
        "id": "xvhLtt4OP75Q"
      },
      "source": [
        "#### __Задание 1.1  Сравнение методов__ (1 балл)\n",
        "\n"
      ]
    },
    {
      "cell_type": "markdown",
      "metadata": {
        "id": "LZw2aOq9P75O"
      },
      "source": [
        "Сгенерируем синтетические данные."
      ]
    },
    {
      "cell_type": "code",
      "execution_count": null,
      "metadata": {
        "id": "mqkczFrQP75P"
      },
      "outputs": [],
      "source": [
        "from sklearn.datasets import make_classification\n",
        "from sklearn.model_selection import train_test_split\n",
        "\n",
        "# фиксируем random_state для воспроизводимости результатов\n",
        "X, y = make_classification(\n",
        "    n_samples=10000, n_features=10, n_informative=5, n_redundant=5, random_state=42)\n",
        "\n",
        "X_train, X_test, y_train, y_test = train_test_split(X, y, test_size=0.3, random_state=42)"
      ]
    },
    {
      "cell_type": "markdown",
      "metadata": {
        "id": "BdPx-lQbtaRe"
      },
      "source": [
        "__Случайный классификатор__\n",
        "\n",
        "Для начала зададим самую простую модель, которая на каждом объекте выдаёт случайный ответ. По тестовой выборке вычислим AUC-ROC, AUC-PR."
      ]
    },
    {
      "cell_type": "code",
      "execution_count": null,
      "metadata": {
        "colab": {
          "base_uri": "https://localhost:8080/"
        },
        "id": "5gcSglAOjVn-",
        "outputId": "ab22188b-7c7f-4718-ebdd-82959d1a5366"
      },
      "outputs": [
        {
          "data": {
            "text/plain": [
              "array([0.5, 0.5, 0.5, ..., 0.5, 0.5, 0.5])"
            ]
          },
          "execution_count": 3,
          "metadata": {},
          "output_type": "execute_result"
        }
      ],
      "source": [
        "from sklearn.dummy import DummyClassifier\n",
        "\n",
        "\n",
        "random_classifier = DummyClassifier(strategy='uniform', random_state=42).fit(X_train, y_train)\n",
        "y_random = random_classifier.predict_proba(X_test)[:,1]\n",
        "y_random"
      ]
    },
    {
      "cell_type": "markdown",
      "metadata": {
        "id": "bUhBXPre7jNi"
      },
      "source": [
        "**Вопрос:** решаем задачу бинарной классификации, но y\\_random содержит какие-то дробные числа, а не 0/1. Почему?\n",
        "\n",
        "**Ваш Ответ**: #your answer here"
      ]
    },
    {
      "cell_type": "markdown",
      "metadata": {
        "id": "LnmZFwEYDVqx"
      },
      "source": [
        "*Ниже приведен **пример** работы* со встроенными функциями `sklearn` для отрисовки ROC и PR кривых, сохранения метрик. Пайплайн можно изменять как вам удобно."
      ]
    },
    {
      "cell_type": "code",
      "execution_count": null,
      "metadata": {
        "id": "gNJLhNj7DkLx"
      },
      "outputs": [],
      "source": [
        "from sklearn.metrics import auc\n",
        "from sklearn.metrics import average_precision_score\n",
        "from sklearn.metrics import precision_recall_curve\n",
        "from sklearn.metrics import PrecisionRecallDisplay\n",
        "\n",
        "from sklearn.metrics import roc_auc_score\n",
        "from sklearn.metrics import RocCurveDisplay"
      ]
    },
    {
      "cell_type": "code",
      "execution_count": null,
      "metadata": {
        "colab": {
          "base_uri": "https://localhost:8080/",
          "height": 508
        },
        "id": "-WHELzN6_fsQ",
        "outputId": "3802dc04-1755-4865-f89a-1b2257210465"
      },
      "outputs": [
        {
          "name": "stdout",
          "output_type": "stream",
          "text": [
            "Random Classifier metrics\n",
            "AUC-PR: 0.75283\n",
            "AUC-ROC: 0.50000\n"
          ]
        },
        {
          "data": {
            "image/png": "[encoded data removed]",
            "text/plain": [
              "<Figure size 792x360 with 2 Axes>"
            ]
          },
          "metadata": {
            "needs_background": "light"
          },
          "output_type": "display_data"
        }
      ],
      "source": [
        "def depict_pr_roc(y_true, y_pred, classifier_name='Some Classifier', ax=None):\n",
        "    if ax is None:\n",
        "        fig, ax = plt.subplots(1, 2, figsize=(11, 5))\n",
        "\n",
        "    print(classifier_name, 'metrics')\n",
        "    PrecisionRecallDisplay.from_predictions(y_true, y_pred, ax=ax[0], name=classifier_name)\n",
        "    precision, recall, _ = precision_recall_curve(y_true, y_pred)\n",
        "    print('AUC-PR: %.5f' % auc(recall, precision))\n",
        "    ax[0].set_title(\"PRC\")\n",
        "    ax[0].set_ylim(0, 1.1)\n",
        "    RocCurveDisplay.from_predictions(y_true, y_pred, ax=ax[1], name=classifier_name)\n",
        "    print('AUC-ROC: %.5f' % roc_auc_score(y_true, y_pred))\n",
        "    ax[1].set_title(\"ROC\")\n",
        "    ax[1].set_ylim(0, 1.1)\n",
        "\n",
        "    plt.tight_layout()\n",
        "    plt.legend()\n",
        "\n",
        "\n",
        "depict_pr_roc(y_test, y_random, 'Random Classifier')"
      ]
    },
    {
      "cell_type": "code",
      "execution_count": null,
      "metadata": {
        "colab": {
          "base_uri": "https://localhost:8080/",
          "height": 80
        },
        "id": "pSugCdAAEF2z",
        "outputId": "57b4d60f-1bc2-4137-ebf7-fd497eebd31f"
      },
      "outputs": [
        {
          "data": {
            "text/html": [
              "<div>\n",
              "<style scoped>\n",
              "    .dataframe tbody tr th:only-of-type {\n",
              "        vertical-align: middle;\n",
              "    }\n",
              "\n",
              "    .dataframe tbody tr th {\n",
              "        vertical-align: top;\n",
              "    }\n",
              "\n",
              "    .dataframe thead th {\n",
              "        text-align: right;\n",
              "    }\n",
              "</style>\n",
              "<table border=\"1\" class=\"dataframe\">\n",
              "  <thead>\n",
              "    <tr style=\"text-align: right;\">\n",
              "      <th></th>\n",
              "      <th>AUC_PR</th>\n",
              "      <th>AUC_ROC</th>\n",
              "      <th>reg_const</th>\n",
              "    </tr>\n",
              "  </thead>\n",
              "  <tbody>\n",
              "    <tr>\n",
              "      <th>Random Classifier</th>\n",
              "      <td>0.752833</td>\n",
              "      <td>0.5</td>\n",
              "      <td>0.0</td>\n",
              "    </tr>\n",
              "  </tbody>\n",
              "</table>\n",
              "</div>"
            ],
            "text/plain": [
              "                     AUC_PR  AUC_ROC  reg_const\n",
              "Random Classifier  0.752833      0.5        0.0"
            ]
          },
          "execution_count": 6,
          "metadata": {},
          "output_type": "execute_result"
        }
      ],
      "source": [
        "# DataFrame для сравнения методов классификации по метрикам\n",
        "df_metrics = pd.DataFrame(columns=['AUC_PR', 'AUC_ROC', 'reg_const'])\n",
        "precision, recall, _ = precision_recall_curve(y_test, y_random)\n",
        "\n",
        "# Добавление очередной строки с характеристиками метода\n",
        "df_metrics.loc['Random Classifier'] = [\n",
        "      auc(recall, precision),\n",
        "      roc_auc_score(y_test, y_random),\n",
        "      0\n",
        "]\n",
        "\n",
        "# по аналогии результаты следующих экспериментов можно будет собрать в табличку\n",
        "df_metrics"
      ]
    },
    {
      "cell_type": "markdown",
      "metadata": {
        "id": "9IwDobmQtW2P"
      },
      "source": [
        "__Support Vector Machine (Linear Kernel)__\n",
        "\n",
        "Обучите метод опорных векторов.\n",
        "\n",
        "На занятиях мы проходили линейный вариант без ядрового перехода, что соответствует линейному ядру (`LinearSVC` или же `SVC(kernel='linear')` в `sklearn.svm`).\n",
        "\n",
        "Подберите параметр регуляризации `C` с точки зрения AUC-PR (можете воспользоваться кросс-валидацией или отделить валидационную выборку от обучающей).\n"
      ]
    },
    {
      "cell_type": "code",
      "execution_count": null,
      "metadata": {
        "id": "eyjF-qc3P75Q"
      },
      "outputs": [],
      "source": [
        "C_value    = np.logspace  # (.... your code here)\n",
        "C_searcher = GridSearchCV # (.... your code here, scoring=make_scorer(....))\n",
        "\n",
        "best_C   = # .... your code here\n",
        "svc_pred = C_searcher.decision_function(X_test) # предсказываем\n",
        "\n",
        "print(\"Best C value = %.4f\" % best_C)\n",
        "print('SVC AUC-PR:', average_precision_score(y_test, svc_pred))"
      ]
    },
    {
      "cell_type": "markdown",
      "metadata": {
        "id": "fapa63xlP75R"
      },
      "source": [
        "  На тестовой части:\n",
        "  - постройте ROC и PR кривые,\n",
        "  - посчитайте AUC-ROC, AUC-PR с точностью до 5 знаков"
      ]
    },
    {
      "cell_type": "code",
      "execution_count": null,
      "metadata": {
        "id": "xTvNT5uRP75S"
      },
      "outputs": [],
      "source": [
        "# .... your code here"
      ]
    },
    {
      "cell_type": "markdown",
      "metadata": {
        "id": "tEoGp5EDtIzW"
      },
      "source": [
        "Сравните AUC-ROC и AUC-PR для вашей модели с этими же метриками для случайного классификатора."
      ]
    },
    {
      "cell_type": "code",
      "execution_count": null,
      "metadata": {
        "id": "wnRTMhsm6Hvv"
      },
      "outputs": [],
      "source": [
        "# .... your code here"
      ]
    },
    {
      "cell_type": "markdown",
      "metadata": {
        "id": "Ln5VaZE_P75S"
      },
      "source": [
        "__Logistic Regression__\n",
        "\n",
        "\n",
        "Аналогичное задание для логистической регрессии с L2 регуляризатором:\n",
        "\n",
        "\n",
        "*   подберите гиперпараметр C, используя метрику AUC-PR\n",
        "*   нарисуйте ROC, PR кривые для тестовой части\n",
        "*   выведите метрики для тестовых данных и сравните их с результатами случайного классификатора\n",
        "\n"
      ]
    },
    {
      "cell_type": "code",
      "execution_count": null,
      "metadata": {
        "id": "r1TlamoBP75S"
      },
      "outputs": [],
      "source": [
        "# .... your code here"
      ]
    },
    {
      "cell_type": "markdown",
      "metadata": {
        "id": "Gnj5PG1Rm5qX"
      },
      "source": [
        "Нарисуйте ROC, PR кривые для тестовой части для всех 3 классификаторов на одном графике"
      ]
    },
    {
      "cell_type": "code",
      "execution_count": null,
      "metadata": {
        "id": "X3BaXTRBnAwK"
      },
      "outputs": [],
      "source": [
        "# .... your code here"
      ]
    },
    {
      "cell_type": "markdown",
      "metadata": {
        "id": "khlorKXtr1Sy"
      },
      "source": [
        "**Вопрос:** Сравните результаты LR и SVM с точки зрения всех вычисленных критериев качества, объясните различия (если они есть).\n",
        "\n"
      ]
    },
    {
      "cell_type": "markdown",
      "metadata": {
        "id": "Un_w7BMZIAf2"
      },
      "source": [
        "**Ваш Ответ:** # your answer here"
      ]
    },
    {
      "cell_type": "markdown",
      "metadata": {
        "id": "RvWzOe4wP75T"
      },
      "source": [
        "#### __Задание 1.2. Визуализация в подходах SVM, LR__ (0.5 балла)  <a name=\"калибровка\"></a>"
      ]
    },
    {
      "cell_type": "markdown",
      "metadata": {
        "id": "kWS1NfYwBbQ_"
      },
      "source": [
        "В названии метода опорных векторов присутствуют некоторые \"опорные векторы\". По сути, это объекты из обучающей выборки, которые задали положение разделяющей гиперплоскости.\n",
        "\n",
        "* Сгенерируйте синтетические данные с помощью `make_classification` __с 2 признаками__, обучите на нём метод опорных векторов. В этот раз воспользуйтесь `SVC(kernel='linear')`, так как только в нём есть информация об опорных векторах, а в `LinearSVC` нет. Не забудьте зафиксировать seed для воспроизводимости\n",
        "\n",
        "* Визуализируйте разделяющую прямую, все объекты и выделите опорные векторы (атрибут `support_vectors_`)."
      ]
    },
    {
      "cell_type": "code",
      "execution_count": null,
      "metadata": {
        "id": "qIS-aGxi-Nr0"
      },
      "outputs": [],
      "source": [
        "X, y = make_classification(n_samples=1000, n_features=2,\n",
        "                           n_informative=2, n_redundant=0, random_state=42)\n",
        "\n",
        "svc_model = # .... your code here\n",
        "# не забудьте обучить модель ;-)"
      ]
    },
    {
      "cell_type": "code",
      "execution_count": null,
      "metadata": {
        "colab": {
          "base_uri": "https://localhost:8080/",
          "height": 434
        },
        "id": "9jA3GbO9-wcU",
        "outputId": "bfe76c4d-7958-470d-bbb2-87c779d3fda0"
      },
      "outputs": [
        {
          "data": {
            "image/png": "[encoded data removed]",
            "text/plain": [
              "<Figure size 640x480 with 1 Axes>"
            ]
          },
          "metadata": {},
          "output_type": "display_data"
        }
      ],
      "source": [
        "def plot_svm_2D(X, y, model,  plot_support=True):\n",
        "\n",
        "    #создали сетку\n",
        "    xx = np.linspace(X[:,0].min(), X[:,0].max(), 30)\n",
        "    yy = np.linspace(X[:,1].min(), X[:,1].max(), 30)\n",
        "    YY, XX = np.meshgrid(yy, xx)\n",
        "    xy = np.vstack([XX.ravel(), YY.ravel()]).T\n",
        "\n",
        "    #Ответы уже обученной модели для сетки для отрисовки разделяющей прямой\n",
        "    Z = # .... your code here: что-то с decision_function\n",
        "\n",
        "    plt.contour(XX, YY, Z, colors='k', levels=[-1, 0, 1], alpha=0.5, linestyles=['--', '-', '--'])\n",
        "\n",
        "\n",
        "    #Отрисовали выборку X\n",
        "    plt.scatter( # .... your code here )\n",
        "\n",
        "    #Отрисовали опорные векторы\n",
        "    if plot_support:\n",
        "        plt.scatter(# .... your code here: координаты опорных векторов по осям х и у\n",
        "                   label='support vectors',\n",
        "                   s=100,\n",
        "                   linewidth=1,\n",
        "                   edgecolor=\"blue\",\n",
        "                   facecolors='none')\n",
        "\n",
        "    plt.legend()\n",
        "\n",
        "plot_svm_2D(X, y, svc_model)"
      ]
    },
    {
      "cell_type": "markdown",
      "metadata": {
        "id": "gfpVN70PP75U"
      },
      "source": [
        "Заметим, что в неразделимых случаях опорные вектора - объекты нашей выборки - далеко не всегда оказываются на границах зазора.\n",
        "\n",
        "В отличие от метода опорных векторов, логистическая регрессия не пытается построить разделяющую гиперплоскость с максимальным отступом, а приближает в каждой точке пространства объектов вероятность положительных ответов $p(y=+1|x)$. Попробуйте нарисовать это распределение на плоскости, не забудьте отметить на ней все объекты."
      ]
    },
    {
      "cell_type": "code",
      "execution_count": null,
      "metadata": {
        "id": "mSLjhzE2xArp"
      },
      "outputs": [],
      "source": [
        "logreg_model = # .... your code here"
      ]
    },
    {
      "cell_type": "code",
      "execution_count": null,
      "metadata": {
        "colab": {
          "base_uri": "https://localhost:8080/",
          "height": 434
        },
        "id": "k5D2jq87f3MC",
        "outputId": "5a04f790-e90b-4f08-d25b-dd2f553d9d8d"
      },
      "outputs": [
        {
          "data": {
            "image/png": "[encoded data removed]",
            "text/plain": [
              "<Figure size 640x480 with 2 Axes>"
            ]
          },
          "metadata": {},
          "output_type": "display_data"
        }
      ],
      "source": [
        "def plot_logreg_2D(X, y, model):\n",
        "\n",
        "    #создали сетку\n",
        "    xx = np.linspace(X[:,0].min(), X[:,0].max(), 100)\n",
        "    yy = np.linspace(X[:,1].min(), X[:,1].max(), 100)\n",
        "    YY, XX = np.meshgrid(yy, xx)\n",
        "    xy = np.vstack([XX.ravel(), YY.ravel()]).T\n",
        "\n",
        "    #Ответы модели для сетки для отрисовки распределения\n",
        "    Z = #your code here\n",
        "    Z = Z.reshape((xx.shape[0], -1)).T\n",
        "\n",
        "\n",
        "    image = plt.imshow(Z, interpolation='nearest',\n",
        "                       extent=(xx.min(), xx.max(), yy.min(), yy.max()),\n",
        "                       aspect='auto', origin='lower', cmap=plt.cm.PuOr_r)\n",
        "\n",
        "    #Отрисовали выборку\n",
        "    plt.scatter(#your code here\n",
        "                cmap=plt.cm.Paired)\n",
        "\n",
        "    plt.colorbar(image)\n",
        "\n",
        "\n",
        "plot_logreg_2D(X, y, logreg_model)"
      ]
    },
    {
      "cell_type": "markdown",
      "metadata": {
        "id": "4VbJR0e3P75U"
      },
      "source": [
        "#### __Задание 2. Калибровка вероятностей__ (1.5 балла)\n",
        "\n"
      ]
    },
    {
      "cell_type": "markdown",
      "metadata": {
        "id": "I8taLYSgBd9u"
      },
      "source": [
        "Перейдём к оценке качества выдаваемых алгоритмами вероятностей. Начнём с калибровочных кривых.\n",
        "\n",
        "Допустим, алгоритм возвращает некоторые числа от нуля до единицы. Хорошо ли они оценивают вероятность?\n",
        "\n",
        "Хорошо откалиброванный  классификатор должен выдавать значения так, чтобы среди образцов, для которых он дал значение, близкое к $\\alpha$, примерно $\\alpha * 100 \\%$ фактически принадлежали к положительному классу. (Например, если классификатор выдает 0.3 для некоторых, то 30% из них должны принадлежать классу 1)"
      ]
    },
    {
      "cell_type": "markdown",
      "metadata": {
        "id": "TRBGtMArIxMc"
      },
      "source": [
        "Для построения калибровочной кривой используем следующий алгоритм:\n",
        "\n",
        "- Разобьем отрезок $[0, 1]$ на несколько маленьких отрезков одинаковой длины.\n",
        "\n",
        "- Рассмотрим $i$-й отрезок с границами $[a_i, b_i]$ и предсказания $p_1, p_2, \\dots, p_k$, которые попали в него. Пусть им соответствуют истинные ответы $y_1, y_2, \\dots, y_k$. Если алгоритм выдает корректные вероятности, то среди этих истинных ответов должно быть примерно $(a_i + b_i) / 2$ единиц.\n",
        "\n",
        "- Иными словами, если нарисовать кривую, у которой по оси X отложены центры отрезков, а по оси Y — доли единичных ответов этих в отрезках, то она должна оказаться диагональной.\n",
        "\n",
        "Ниже приведена функция, которая должна рисовать такие кривые. **В ней допущено две ошибки — найдите и исправьте их.**"
      ]
    },
    {
      "cell_type": "code",
      "execution_count": null,
      "metadata": {
        "id": "R75uefZuP75V"
      },
      "outputs": [],
      "source": [
        "def plot_calibration_curve(y_test, preds):\n",
        "    bin_middle_points = []\n",
        "    bin_real_ratios = []\n",
        "    n_bins = 10\n",
        "    for i in range(n_bins):\n",
        "        l = 1.0 / n_bins * i\n",
        "        r = 1.0 / n_bins * (i + 1)\n",
        "        bin_middle_points.append((l - r) / 2)\n",
        "        bin_real_ratios.append(np.min(y_test[(preds >= l) & (preds < r)] == 1))\n",
        "    plt.figure(figsize=(6,6))\n",
        "    plt.plot(bin_middle_points, bin_real_ratios)\n",
        "    plt.ylim([-0.05, 1.05])\n",
        "    plt.grid()"
      ]
    },
    {
      "cell_type": "markdown",
      "metadata": {
        "id": "R13YCkxMO_R4"
      },
      "source": [
        "Сгенерируйте синтетические данные аналогично использованным в самом первом задании. Постройте калибровочные кривые на тестовой части для логистической регрессии и метода опорных векторов (не забудьте перевести его предсказания в $[0;1]$).\n",
        "\n",
        "Отрисуйте калибровочную кривую идеально откалиброванной модели (диагональ)"
      ]
    },
    {
      "cell_type": "code",
      "execution_count": null,
      "metadata": {
        "id": "Jk6pz90lQYST"
      },
      "outputs": [],
      "source": [
        "X, y = # .... your code here\n",
        "X_train, X_test, y_train, y_test = # .... your code here\n",
        "\n",
        "lr_model = LogisticRegression # .... your code here\n",
        "lr_preds = lr_model.predict_proba(X_test)[:, 1]\n",
        "\n",
        "svc_model = SVC(kernel='linear', # .... your code here )\n",
        "svc_preds = # .... your code here\n",
        "svc_prds_normalized = # .... your code here\n",
        "\n",
        "# обучили - вероятности на тесте - графики .... your code here"
      ]
    },
    {
      "cell_type": "markdown",
      "metadata": {
        "id": "t15IAX7GPJjF"
      },
      "source": [
        "**Вопрос**: хорошо ли откалиброваны кривые для SVM, логистической регрессии?\n",
        "\n",
        "**Ваш Ответ:** #your answer here"
      ]
    },
    {
      "cell_type": "markdown",
      "metadata": {
        "id": "cgANQZyhPHIX"
      },
      "source": [
        "Изучите распределение ответов классификаторов (постройте гистограммы с помощью `plt.hist`)."
      ]
    },
    {
      "cell_type": "code",
      "execution_count": null,
      "metadata": {
        "id": "GAP1X3NObCXp"
      },
      "outputs": [],
      "source": [
        "# .... your code here"
      ]
    },
    {
      "cell_type": "markdown",
      "metadata": {
        "id": "S7ga-L4CPK_O"
      },
      "source": [
        "**Вопрос:** Чем они различаются? Чем вы можете объяснить это?\n",
        "\n",
        "**Ваш Ответ:** #your answer here"
      ]
    },
    {
      "cell_type": "markdown",
      "metadata": {
        "id": "M9-6ClfaP75W"
      },
      "source": [
        "Воспользуйтесь `CalibratedClassifierCV` из `sklearn` для калибровки вероятностей метода опорных векторов на обучении и постройте с его помощью  предсказания для тестовой выборки [ссылка](https://scikit-learn.org/stable/modules/generated/sklearn.calibration.CalibratedClassifierCV.html)."
      ]
    },
    {
      "cell_type": "code",
      "execution_count": null,
      "metadata": {
        "id": "RR3pVlSNP75W"
      },
      "outputs": [],
      "source": [
        "calibrated_clf = CalibratedClassifierCV # .... your code here\n",
        "# обучение - предсказание - график .... your code here"
      ]
    },
    {
      "cell_type": "markdown",
      "metadata": {
        "id": "PnwOFuW6XyPc"
      },
      "source": [
        "**Вопрос:** Улучшилась ли калибровочная кривая?\n",
        "\n",
        "**Ваш Ответ:** #your answer here"
      ]
    },
    {
      "cell_type": "markdown",
      "metadata": {
        "id": "FaOVU4vJP75X"
      },
      "source": [
        "# Часть 2. Обработка категориальных переменных  <a name=\"кодировка\"></a>\n",
        "\n",
        "\n",
        "*Максимум: 6 баллов*"
      ]
    },
    {
      "cell_type": "markdown",
      "metadata": {
        "id": "8KQ9ywUEP75X"
      },
      "source": [
        "Как мы знаем, перекодировать категориальную переменную в список чисел (к примеру 1, 2, 3, ..., n) плохо, поскольку это бы задало на множестве ее значений некоторый порядок, не имеющий смысла.\n",
        "\n",
        "В этой части мы рассмотрим два основных способа обработки категориальных значений:\n",
        "- One-hot-кодирование\n",
        "- Счётчики (CTR, mean-target кодирование, ...) — каждый категориальный признак заменяется на среднее значение целевой переменной по всем объектам, имеющим одинаковое значение в этом признаке.\n",
        "\n",
        "Начнём с one-hot-кодирования. Допустим наш категориальный признак $f_j(x)$ принимает значения из множества $C=\\{c_1, \\dots, c_m\\}$. Заменим его на $m$ бинарных признаков $b_1(x), \\dots, b_m(x)$, каждый из которых является индикатором одного из возможных категориальных значений:\n",
        "$$\n",
        "b_i(x) = [f_j(x) = c_i]\n",
        "$$"
      ]
    },
    {
      "cell_type": "markdown",
      "metadata": {
        "id": "pPsScraBP75Y"
      },
      "source": [
        "#### __Подготовка данных__\n",
        "\n",
        "(бесценный шаг)\n",
        "\n",
        "Разберем датасет [покупок велосипедов](https://www.kaggle.com/datasets/heeraldedhia/bike-buyers/): даны признаки покупателя, требуется предсказать, купит ли он/она велосипед\n",
        "\n",
        "- Замените пропуски в категориальных переменных на новую категорию (`'undefined'`)\n",
        "\n",
        "- Разделите признаки на 2 таблицы: категориальные и числовые признаки"
      ]
    },
    {
      "cell_type": "code",
      "execution_count": null,
      "metadata": {
        "id": "rGWlojJwOEjL"
      },
      "outputs": [],
      "source": [
        "df = pd.read_csv('bike_buyers.csv')\n",
        "#Заменим пропуски категориальных переменных\n",
        "# .... your code here\n",
        "\n",
        "X = df.drop(columns=['Purchased Bike'])\n",
        "y = (df['Purchased Bike'] == 'Yes').astype('int64')\n",
        "\n",
        "# Разделим на категориальные признаки и числовые\n",
        "X_numerical   = # .... your code here\n",
        "X_categorical = # .... your code here"
      ]
    },
    {
      "cell_type": "markdown",
      "metadata": {
        "id": "ch0M2v8Akirw"
      },
      "source": [
        "__Задание 2.1 (0.5 балла).__ Разделите выборку на обучающую и тестовую в соотношении 3:1. Зафиксируйте `random_state=777`, также используйте `stratify`. Что означает этот аргумент?"
      ]
    },
    {
      "cell_type": "code",
      "execution_count": null,
      "metadata": {
        "id": "QIYErZMnP75Z"
      },
      "outputs": [],
      "source": [
        "from sklearn.model_selection import train_test_split\n",
        "X_train, X_test, y_train, y_test = # .... your code here"
      ]
    },
    {
      "cell_type": "markdown",
      "metadata": {
        "id": "m5LjHkuCP75Z"
      },
      "source": [
        "#### __Задание 3. OrdinalEncoder__  (0.5 балла)\n",
        "\n",
        "* Закодируйте категориальные признаки с помощью `OrdinalEncoder`. Посчитайте качество (в этом задании будем работать c __`AUC-PR`__) при применении логистической регрессии.\n",
        "\n",
        "* Замерьте время, потребовавшееся на обучение модели, с учетом кодирования признаков.\n",
        "\n",
        "__Вопрос__: почему в данном задании мы выбрали метрикой именно `AUC-PR`, а не, к примеру, `AUC-ROC`?\n",
        "\n",
        "__Ваш ответ__:"
      ]
    },
    {
      "cell_type": "code",
      "execution_count": null,
      "metadata": {
        "id": "bdZT2tXXP75a"
      },
      "outputs": [],
      "source": [
        "import time\n",
        "from sklearn.preprocessing import OrdinalEncoder\n",
        "\n",
        "\n",
        "pipeline = Pipeline([ # .... your code here ])\n",
        "start_timer = time.time()\n",
        "\n",
        "# .... your code here"
      ]
    },
    {
      "cell_type": "markdown",
      "metadata": {
        "id": "ScIo7NthP75a"
      },
      "source": [
        "#### __Задание 4. One-Hot Encoding__ (0.5 балла)\n",
        "\n"
      ]
    },
    {
      "cell_type": "markdown",
      "metadata": {
        "id": "p3sFuKAtLwOx"
      },
      "source": [
        "Закодируйте все категориальные признаки с помощью one-hot-кодирования. Обучите логистическую регрессию и посмотрите, как изменилось качество модели (в сравнении с тем, что было до кодирования). Измерьте время, потребовавшееся на кодирование категориальных признаков и обучение модели."
      ]
    },
    {
      "cell_type": "code",
      "execution_count": null,
      "metadata": {
        "id": "t4PbjLIHP75a"
      },
      "outputs": [],
      "source": [
        "from sklearn.preprocessing import OneHotEncoder\n",
        "\n",
        "# .... your code here"
      ]
    },
    {
      "cell_type": "markdown",
      "metadata": {
        "id": "9p-qOs6lP75b"
      },
      "source": [
        "Как можно заметить, one-hot-кодирование может сильно увеличивать количество признаков. Это сказывается на объеме необходимой памяти, особенно, если некоторый признак имеет большое количество значений.\n"
      ]
    },
    {
      "cell_type": "markdown",
      "metadata": {
        "id": "l1q3k3yaLF8Y"
      },
      "source": [
        "#### __Задание 5. Mean-target Encoding__ (2 балла)"
      ]
    },
    {
      "cell_type": "markdown",
      "metadata": {
        "id": "tanu5Hm5Lr7R"
      },
      "source": [
        "> Проблемы разрастания числа признаков можно избежать в другом способе кодирования категориальных признаков — mean-target encoding (для простоты будем называть это __счётчиками__). Сравним эффективность методов в рамках нашей маркетинговой задачи.\n",
        "\n",
        "> Основная идея в том, что важны не сами категории, а значения целевой переменной, которые имеют объекты этой категории. Каждый категориальный признак мы заменим средним значением целевой переменной по всем объектам этой же категории:\n",
        "\n",
        "$$\n",
        "g_j(x, X) = \\frac{\\sum_{i=1}^{\\ell} [f_j(x) = f_j(x_i)][y_i = +1]}{\\sum_{i=1}^{\\ell} [f_j(x) = f_j(x_i)]}\n",
        "$$\n",
        "\n",
        "Закодируйте категориальные переменные с помощью счётчиков (ровно так, как описано выше, без каких-либо хитростей). Обучите логистическую регрессию и посмотрите на качество модели на тестовом множестве.\n",
        "\n",
        "Сравните время обучения с предыдущими экспериментами (с учетом кодирования признаков)."
      ]
    },
    {
      "cell_type": "code",
      "execution_count": null,
      "metadata": {
        "id": "v9MNSGWrgz5-"
      },
      "outputs": [],
      "source": [
        "# возможно, будет полезно вспомнить про метод groupby в pandas\n",
        "# .... your code here"
      ]
    },
    {
      "cell_type": "markdown",
      "metadata": {
        "id": "bH-JPoINqJ62"
      },
      "source": [
        "_______\n",
        "\n",
        "__Методы борьбы с переобучением счетчиков__\n",
        "\n",
        "\n",
        "Отметим, что mean-target encoding признаки сами по себе являются классификаторами и, обучаясь на них, мы допускаем \"утечку\" целевой переменной в признаки. Это ведёт к __переобучению__, поэтому считать такие признаки необходимо таким образом, чтобы при вычислении для конкретного объекта его __целевая метка не использовалась__.\n",
        "\n",
        "Это можно делать следующими способами:\n",
        "1. Вычислять значение счётчика по всем объектам расположенным выше в датасете (например, если у нас выборка отсортирована по времени).\n",
        "2. Вычислять по фолдам, то есть делить выборку на некоторое количество частей и подсчитывать значение признаков по всем фолдам кроме текущего (как делается в кросс-валидации).\n",
        "3. Внесение некоторого шума в посчитанные признаки.\n",
        "\n",
        "#### __Задание 6. Пошумим__  (0.5 балла)\n",
        "\n",
        "Реализуйте корректное вычисление счётчиков самым простым способом — добавление шума к значениям.  При этом постарайтесь найти баланс между борьбой с переобучением и сохранением полезности признаков. Снова обучите логистическую регрессию, оцените качество."
      ]
    },
    {
      "cell_type": "code",
      "execution_count": null,
      "metadata": {
        "id": "HiqJBxrAP75c"
      },
      "outputs": [],
      "source": [
        "# .... your code here\n",
        "# напомним про np.random.normal"
      ]
    },
    {
      "cell_type": "markdown",
      "metadata": {
        "id": "UOxwE8rGLSzH"
      },
      "source": [
        "**Вопрос:** Сделайте выводы. Помогло ли добавление шума? Почему?\n",
        "\n",
        "**Ваш Ответ:** #your answer here"
      ]
    },
    {
      "cell_type": "markdown",
      "metadata": {
        "id": "aMe2b5i6P75d"
      },
      "source": [
        "#### __Задание 7. Сглаживание счетчиков__  (1.5 балла)"
      ]
    },
    {
      "cell_type": "markdown",
      "metadata": {
        "id": "4gnmTaJqP75d"
      },
      "source": [
        "> Теперь ответим на следующий вопрос: что будет, если некоторая категория встречается в выборке всего несколько раз? По этой причине производится сглаживание счётчиков. Например, на практике хорошие результаты показывает использование сглаживания средним по всей выборке:\n",
        "$$\n",
        "g_j(x, X) = \\frac{\\sum_{i=1}^{\\ell} [f_j(x) = f_j(x_i)][y_i = +1] + C \\times global\\_mean}{\\sum_{i=1}^{\\ell} [f_j(x) = f_j(x_i)] + C}\n",
        "$$\n",
        "где $global\\_mean$ — доля объектов положительного класса в выборке, $C$ — параметр, определяющий степень сглаживания (можно использовать 10 или подобрать для каждого признака свой). Идея в том, что мы \"разбавляем\" среднее значение по категории глобальным средним значением. И тем меньше, чем большее количество объектов этой категории встречается в выборке.\n",
        "\n",
        "> Вместо среднего значения целевой переменной для сглаживания можно использовать любое другое значение от 0 до 1 (этот параметр иногда называют $prior$). Можно сделать несколько признаков с разными значениями параметра. На практике в задачах бинарной классификации полезными бывают даже отрицательные значения!\n",
        "\n",
        "Добавьте сглаживание, описанное выше и повторите эксперименты. Постарайтесь подобрать $C$, чтобы качество было лучше, чем при использовании One-Hot-Encoding\n"
      ]
    },
    {
      "cell_type": "code",
      "execution_count": null,
      "metadata": {
        "id": "4xRMlYQlP75d"
      },
      "outputs": [],
      "source": [
        "# .... your code here\n",
        "# если пользуетесь методом groupby, напомним, что можно\n",
        "# сначала вызвать его, а после разные функции агррегирования"
      ]
    },
    {
      "cell_type": "markdown",
      "metadata": {
        "id": "TksKMbr_P75d"
      },
      "source": [
        "#### **Задание 8. Числовые или категориальные?**  (0.5 балла)\n",
        "\n",
        "Теперь добавим числовые признаки к признакам-счетчикам.\n",
        "\n",
        "\n",
        "В данных есть пропуски - замените их средним значением признака\n",
        "\n"
      ]
    },
    {
      "cell_type": "code",
      "execution_count": null,
      "metadata": {
        "id": "NGE4O-alP75e"
      },
      "outputs": [],
      "source": [
        "#your code here"
      ]
    },
    {
      "cell_type": "markdown",
      "metadata": {
        "id": "ia0qk__0iNCS"
      },
      "source": [
        "> __Замечание.__ Усложнение методов вычисления счётчиков не делают результаты модели гарантированно лучше. Особенно с учётом того, что логистическая регрессия не такая сложная модель, чтобы переобучаться. Поэтому вы необязательно должны были получать на каждом шаге всё лучшие и лучшие результаты (но необходимые результаты у вас должны были получиться)."
      ]
    },
    {
      "cell_type": "markdown",
      "metadata": {
        "id": "zrR06pp7P75k"
      },
      "source": [
        "# Часть 3. Оценка экономического эффекта модели  <a name=\"модель\"></a>\n",
        "\n",
        "\n",
        "*Максимум: 4 балла*"
      ]
    },
    {
      "cell_type": "markdown",
      "metadata": {
        "id": "CmgOdf7GT3uh"
      },
      "source": [
        "В данной части мы займемся тем, что от вас скорее всего потребуется на реальной работе (помимо перекладки `json`, разумеется). А именно:\n",
        "- мы соберем несколько специализированных метрик качества,\n",
        "- попытаемся настроить модель на максимизацию _прибыли_,\n",
        "- оценим, сколько вообще получится заработать на этом.\n",
        "\n",
        "Разумеется, здесь будет сделано множество упрощающих жизнь допущений, но обо всем по порядку. Если вы всё прослушали на экономике, то напомним, что:\n",
        "\n",
        "- выручка — это сколько денег нам принесли клиенты\n",
        "- прибыль — выручка за вычетом расходов на зарплату и прочее."
      ]
    },
    {
      "cell_type": "markdown",
      "metadata": {
        "id": "NQkW5Xh6yip2"
      },
      "source": [
        "\n",
        "#### __Задание 12. Прогноз по доходам и расходам__ (2 балла)\n",
        "\n",
        "В этой части мы будем работать с данными [UCI Bank Marketing Dataset](https://archive.ics.uci.edu/ml/datasets/bank+marketing). Этот датасет содержит информацию о банковском телефонном маркетинге.\n",
        "\n",
        "__Объектом__ здесь является телефонный звонок потенциальному клиенту с предложением некоторой услуги (утверждается, что это краткосрочный депозит). В качестве признакового описания используются характеристики клиента (образование, брак и т.д.), данные о звонке и различные экономические индикаторы - более подробная информация представлена в файле `bank-additional-names.txt`.\n",
        "__Целевая переменная__ - ответ клиента (согласился ли он открыть депозит?)"
      ]
    },
    {
      "cell_type": "code",
      "execution_count": null,
      "metadata": {
        "id": "e9WBqQd1aAjp"
      },
      "outputs": [],
      "source": [
        "!wget https://archive.ics.uci.edu/ml/machine-learning-databases/00222/bank-additional.zip\n",
        "!unzip bank-additional.zip\n",
        "df = pd.read_csv('bank-additional/bank-additional-full.csv', sep=';')"
      ]
    },
    {
      "cell_type": "code",
      "execution_count": null,
      "metadata": {
        "id": "Gbw5k7lMaYT1"
      },
      "outputs": [],
      "source": [
        "df.head()"
      ]
    },
    {
      "cell_type": "code",
      "execution_count": null,
      "metadata": {
        "id": "qmxCn_Pz3kJB"
      },
      "outputs": [],
      "source": [
        "X = df.drop(columns=['duration', 'y'])\n",
        "y = (df.y == 'yes')"
      ]
    },
    {
      "cell_type": "markdown",
      "metadata": {
        "id": "lMKgtxfwaBEQ"
      },
      "source": [
        "В этой части не нужно делить выборку - мы будем использовать кросс-валидацию.  Используйте 5 фолдов, сделайте `shuffle=True, random_state=500`. По кросс-валидации у вас получится 5 вариантов обучающей и тестовой выборки."
      ]
    },
    {
      "cell_type": "code",
      "execution_count": null,
      "metadata": {
        "id": "xYPjtfnqP75k"
      },
      "outputs": [],
      "source": [
        "from sklearn.model_selection import KFold\n",
        "\n",
        "kf = KFold(n_splits=5, shuffle=True, random_state=500)\n",
        "train_indices, test_indices = kf.split(X)"
      ]
    },
    {
      "cell_type": "markdown",
      "metadata": {
        "id": "YIX-omTIyxtU"
      },
      "source": [
        "* Обучите логистическую регрессию на каждой обучающей выборке (воспользуйтесь one-hot для категориальных признаков и `StandardScaler` для числовых, гиперпараметры по умолчанию) и сделайте предсказания для соответствующих тестовых выборок.\n",
        "\n",
        "* Допустим, работники вашего колл-центра получают за один звонок клиенту 1 доллар. При согласии клиента на предлагаемые условия он принесет в банк 10 долларов. Предположим, что всем положительным прогнозам ваши сотрудники решили позвонить. Посчитайте на всех тестовых выборках выручку и усредните. Также вычислите стандартное отклонение.\n",
        "  - Сколько денег вы в среднем заработаете?\n",
        "  - Сколько из заработанных денег придётся отдать операторам вашего колл-центра?"
      ]
    },
    {
      "cell_type": "code",
      "execution_count": null,
      "metadata": {
        "id": "5V3f4cQryx6c"
      },
      "outputs": [],
      "source": [
        "clf = ColumnTransformer([]) # .... your code here\n",
        "pipeline = Pipeline([]) # .... your code here\n",
        "\n",
        "profit, costs = [], []\n",
        "for train_index, test_index in (train_indices, test_indices):\n",
        "    X_train, X_test = X.loc[train_index, :], X.loc[test_index, :]\n",
        "    # .... your code here\n",
        "\n",
        "print('Выручка:\\t', np.mean(profit))\n",
        "print('Отклонение выручки:\\t', np.std(profit))\n",
        "print('Траты:\\t', np.mean(costs))\n",
        "print('Прибыль:\\t', np.mean(np.array(profit)-np.array(costs)))\n",
        "print('Отклонение прибыли:\\t', np.std(np.array(profit) - np.array(costs)))"
      ]
    },
    {
      "cell_type": "markdown",
      "metadata": {
        "id": "Da1x6u6wP75k"
      },
      "source": [
        "Внесем некоторую долю случайности. Пусть теперь согласный на условия клиент будет приносить не 10 долларов, а случайную величину, равномерно распределенную в интервале $[0;20)$. Проделайте все те же самые действия. Для имитации реальной ситуации **НЕ** фиксируйте `random_seed` при подсчете выручки с клиента. Что получилось?"
      ]
    },
    {
      "cell_type": "code",
      "execution_count": null,
      "metadata": {
        "id": "0AKmJpRAP75k"
      },
      "outputs": [],
      "source": [
        "# .... your code here\n",
        "# для случайной величины можно использовать, например np.random.randint"
      ]
    },
    {
      "cell_type": "markdown",
      "metadata": {
        "id": "O1g9FPExP75k"
      },
      "source": [
        "Настройте по кросс-валидации коэффициент регуляризации модели для максимизации прибыли (считайте как случайную величину выше). Удалось ли получить какой-то выигрыш? При каком коэффициенте регуляризациии прибыль максимальна? Постройте график зависимости ожидаемой прибыли от коэффициента, укажите стандартные отклонения (вам поможет `plt.errorbar`, [пример](https://jakevdp.github.io/PythonDataScienceHandbook/04.03-errorbars.html))."
      ]
    },
    {
      "cell_type": "code",
      "execution_count": null,
      "metadata": {
        "id": "YXx7qU5PP75l"
      },
      "outputs": [],
      "source": [
        "def profit_scorer(y_test, y_pred):\n",
        "    # функция для кросс-валидации\n",
        "    # .... your code here\n",
        "    pass\n",
        "\n",
        "C_grid         = np.logspace   # .... your code here\n",
        "C_searcher     = GridSearchCV( # .... your code here,\n",
        "                    scoring=make_scorer(profit_scorer), cv=kf)\n",
        "# .... your code here\n",
        "\n",
        "print(\"Best alpha = %.4f\" % best_alpha_C)"
      ]
    },
    {
      "cell_type": "markdown",
      "metadata": {
        "id": "J0j8HubaP75l"
      },
      "source": [
        "#### __Задание 13. Ключевая метрика__ (2 балла)\n",
        "\n",
        "Выше мы уже описали примерную экономическую модель вашей задачи. Как вы считаете, что для вашего бизнеса важнее — хороший precision или recall модели? Почему?\n",
        "\n",
        "__Ответ:__ # your answer here\n",
        "\n"
      ]
    },
    {
      "cell_type": "markdown",
      "metadata": {
        "id": "4LFRNnrtP75m"
      },
      "source": [
        "> Вспомним, что на самом деле логистическая регрессия предсказывает нам вероятности положительного класса для объекта. Возможно, путем настройки __порога бинаризации__ этих вероятностей мы сможем получить какой-то выигрыш?\n",
        "\n",
        "Проверьте ваши рассуждения выше с помощью настройки порога бинаризации на кросс-валидации для максимизации прибыли. Воспользуйтесь сеткой от 0 до 1 с шагом 0.01. Напомним, что снижение порога дает нам более высокий recall и более низкий precision, и наоборот."
      ]
    },
    {
      "cell_type": "code",
      "execution_count": null,
      "metadata": {
        "id": "3ALl1YeBP75m"
      },
      "outputs": [],
      "source": [
        "# .... your code here"
      ]
    },
    {
      "cell_type": "markdown",
      "metadata": {
        "id": "fLL7uqb2P75m"
      },
      "source": [
        "Постройте график зависимости прибыли от порога бинаризации, также отметьте на нем стандартные отклонения. Выделите наилучший порог.\n",
        "\n",
        "\n"
      ]
    },
    {
      "cell_type": "code",
      "execution_count": null,
      "metadata": {
        "id": "K2D3BkVsP75m"
      },
      "outputs": [],
      "source": [
        "# .... your code here"
      ]
    },
    {
      "cell_type": "markdown",
      "metadata": {
        "id": "pjw2DImXXoFx"
      },
      "source": [
        "__Вопрос:__ Замечаете ли вы какую-то закономерность? Для правильного ответа на этот вопрос попробуйте запустить несколько раз и задумайтесь, почему порог получается в какой-то конкретной области?"
      ]
    },
    {
      "cell_type": "markdown",
      "metadata": {
        "id": "WfnHUQ7sXouL"
      },
      "source": [
        "__Ответ:__ #your answer here"
      ]
    },
    {
      "cell_type": "markdown",
      "metadata": {
        "id": "i7Ksl7b9P75m"
      },
      "source": [
        "Каковы значения precision и recall на выбранном пороге? Оцените по кросс-валидации. Также вычислите стандартное отклонение."
      ]
    },
    {
      "cell_type": "code",
      "execution_count": null,
      "metadata": {
        "id": "i0fwjmYGP75n"
      },
      "outputs": [],
      "source": [
        "# .... your code here"
      ]
    }
  ],
  "metadata": {
    "colab": {
      "collapsed_sections": [
        "xvhLtt4OP75Q",
        "RvWzOe4wP75T",
        "4VbJR0e3P75U"
      ],
      "provenance": [],
      "include_colab_link": true
    },
    "kernelspec": {
      "display_name": "Python 3 (ipykernel)",
      "language": "python",
      "name": "python3"
    },
    "language_info": {
      "codemirror_mode": {
        "name": "ipython",
        "version": 3
      },
      "file_extension": ".py",
      "mimetype": "text/x-python",
      "name": "python",
      "nbconvert_exporter": "python",
      "pygments_lexer": "ipython3",
      "version": "3.9.15"
    }
  },
  "nbformat": 4,
  "nbformat_minor": 0
}
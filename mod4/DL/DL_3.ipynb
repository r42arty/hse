{
  "cells": [
    {
      "cell_type": "markdown",
      "metadata": {
        "id": "view-in-github",
        "colab_type": "text"
      },
      "source": [
        "<a href=\"https://colab.research.google.com/github/r42arty/hse/blob/main/mod4/DL/DL_3.ipynb\" target=\"_parent\"><img src=\"https://colab.research.google.com/assets/colab-badge.svg\" alt=\"Open In Colab\"/></a>"
      ]
    },
    {
      "cell_type": "markdown",
      "source": [
        "# Основы машинного обучения, ИИМУП\n",
        "\n",
        "## НИУ ВШЭ, 2024-25 учебный год"
      ],
      "metadata": {
        "id": "uzoPPj-CT-hG"
      },
      "id": "uzoPPj-CT-hG"
    },
    {
      "cell_type": "markdown",
      "metadata": {
        "id": "VRUsuZR2cQoY"
      },
      "source": [
        "# Домашнее задание 3: Рекуррентные нейронные сети"
      ],
      "id": "VRUsuZR2cQoY"
    },
    {
      "cell_type": "markdown",
      "metadata": {
        "id": "lV9pvgZJTYGj"
      },
      "source": [
        "Задание выполнил(а):\n",
        "\n",
        "    Рубцов Артемий"
      ],
      "id": "lV9pvgZJTYGj"
    },
    {
      "cell_type": "markdown",
      "metadata": {
        "id": "ZML8VxlPTYGj"
      },
      "source": [
        "## Общая информация"
      ],
      "id": "ZML8VxlPTYGj"
    },
    {
      "cell_type": "markdown",
      "metadata": {
        "id": "nTmiXfZZTYGl"
      },
      "source": [
        "__Внимание!__  \n",
        "\n",
        "\n",
        "* Домашнее задание выполняется самостоятельно\n",
        "* Не допускается помощь в решении домашнего задания от однокурсников или третьих лиц. «Похожие» решения считаются плагиатом, и все задействованные студенты — в том числе и те, у кого списали, — не могут получить за него больше 0 баллов\n",
        "* Использование в решении домашнего задания генеративных моделей (ChatGPT и так далее) за рамками справочной и образовательной информации для генерации кода задания — считается плагиатом, и такое домашнее задание оценивается в 0 баллов\n",
        "* Старайтесь сделать код как можно более оптимальным. Неэффективная реализация кода может негативно отразиться на оценке. Также оценка может быть снижена за плохо читаемый код и плохо оформленные графики. Все ответы должны сопровождаться кодом или комментариями о том, как они были получены."
      ],
      "id": "nTmiXfZZTYGl"
    },
    {
      "cell_type": "markdown",
      "id": "b1acf78a",
      "metadata": {
        "id": "b1acf78a"
      },
      "source": [
        "### О задании\n",
        "\n",
        "В этом задании вам предстоит самостоятельно реализовать модель LSTM для решения задачи классификации с пересекающимися классами (multi-label classification). Это вид классификации, в которой каждый объект может относиться одновременно к нескольким классам. Такая задача часто возникает при классификации фильмов по жанрам, научных или новостных статей по темам, музыкальных композиций по инструментам и так далее.\n",
        "\n",
        "В нашем случае мы будем работать с датасетом биотехнических новостей и классифицировать их по темам. Этот датасет уже предобработан: текст приведен к нижнему регистру, удалена пунктуация, все слова разделены проблелом."
      ]
    },
    {
      "cell_type": "code",
      "source": [
        "import pandas as pd\n",
        "from sklearn.preprocessing import MultiLabelBinarizer\n",
        "from sklearn.model_selection import train_test_split\n",
        "import nltk\n",
        "from nltk.corpus import stopwords\n",
        "from collections import Counter, defaultdict\n",
        "from sklearn.metrics import f1_score\n",
        "import torch\n",
        "import torch.nn as nn\n",
        "import torch.optim as optim\n",
        "from torch.utils.data import Dataset, DataLoader\n",
        "from torch.nn.utils.rnn import pad_sequence\n",
        "import numpy as np\n"
      ],
      "metadata": {
        "id": "g3gonQ14ds-i"
      },
      "id": "g3gonQ14ds-i",
      "execution_count": 1,
      "outputs": []
    },
    {
      "cell_type": "code",
      "source": [
        "BIOTECH_NEWS = 'https://www.dropbox.com/scl/fi/v624fdeg3bikyxyvr93i3/biotech_news.tsv?rlkey=iaekqfwtbqswl8vd5dpnd9d92&st=mzgbw5km&dl=1'"
      ],
      "metadata": {
        "id": "rwu4LDe-dlez"
      },
      "id": "rwu4LDe-dlez",
      "execution_count": 12,
      "outputs": []
    },
    {
      "cell_type": "code",
      "execution_count": 13,
      "id": "af1a5fff",
      "metadata": {
        "id": "af1a5fff",
        "colab": {
          "base_uri": "https://localhost:8080/",
          "height": 204
        },
        "outputId": "f6a4862f-aeea-4673-da81-0fe308bc7239"
      },
      "outputs": [
        {
          "output_type": "execute_result",
          "data": {
            "text/plain": [
              "                                                text labels\n",
              "0  drive your plow over the bones of the dead by ...  other\n",
              "1  in the recently tabled national budget denel h...  other\n",
              "2  shares take a break its good for you picture g...  other\n",
              "3  reso is currently hiring for two positions pro...  other\n",
              "4  charter buyer club what is the charter buyer c...  other"
            ],
            "text/html": [
              "\n",
              "  <div id=\"df-8b6e996e-dd26-4f3d-820e-014e2642e508\" class=\"colab-df-container\">\n",
              "    <div>\n",
              "<style scoped>\n",
              "    .dataframe tbody tr th:only-of-type {\n",
              "        vertical-align: middle;\n",
              "    }\n",
              "\n",
              "    .dataframe tbody tr th {\n",
              "        vertical-align: top;\n",
              "    }\n",
              "\n",
              "    .dataframe thead th {\n",
              "        text-align: right;\n",
              "    }\n",
              "</style>\n",
              "<table border=\"1\" class=\"dataframe\">\n",
              "  <thead>\n",
              "    <tr style=\"text-align: right;\">\n",
              "      <th></th>\n",
              "      <th>text</th>\n",
              "      <th>labels</th>\n",
              "    </tr>\n",
              "  </thead>\n",
              "  <tbody>\n",
              "    <tr>\n",
              "      <th>0</th>\n",
              "      <td>drive your plow over the bones of the dead by ...</td>\n",
              "      <td>other</td>\n",
              "    </tr>\n",
              "    <tr>\n",
              "      <th>1</th>\n",
              "      <td>in the recently tabled national budget denel h...</td>\n",
              "      <td>other</td>\n",
              "    </tr>\n",
              "    <tr>\n",
              "      <th>2</th>\n",
              "      <td>shares take a break its good for you picture g...</td>\n",
              "      <td>other</td>\n",
              "    </tr>\n",
              "    <tr>\n",
              "      <th>3</th>\n",
              "      <td>reso is currently hiring for two positions pro...</td>\n",
              "      <td>other</td>\n",
              "    </tr>\n",
              "    <tr>\n",
              "      <th>4</th>\n",
              "      <td>charter buyer club what is the charter buyer c...</td>\n",
              "      <td>other</td>\n",
              "    </tr>\n",
              "  </tbody>\n",
              "</table>\n",
              "</div>\n",
              "    <div class=\"colab-df-buttons\">\n",
              "\n",
              "  <div class=\"colab-df-container\">\n",
              "    <button class=\"colab-df-convert\" onclick=\"convertToInteractive('df-8b6e996e-dd26-4f3d-820e-014e2642e508')\"\n",
              "            title=\"Convert this dataframe to an interactive table.\"\n",
              "            style=\"display:none;\">\n",
              "\n",
              "  <svg xmlns=\"http://www.w3.org/2000/svg\" height=\"24px\" viewBox=\"0 -960 960 960\">\n",
              "    <path d=\"M120-120v-720h720v720H120Zm60-500h600v-160H180v160Zm220 220h160v-160H400v160Zm0 220h160v-160H400v160ZM180-400h160v-160H180v160Zm440 0h160v-160H620v160ZM180-180h160v-160H180v160Zm440 0h160v-160H620v160Z\"/>\n",
              "  </svg>\n",
              "    </button>\n",
              "\n",
              "  <style>\n",
              "    .colab-df-container {\n",
              "      display:flex;\n",
              "      gap: 12px;\n",
              "    }\n",
              "\n",
              "    .colab-df-convert {\n",
              "      background-color: #E8F0FE;\n",
              "      border: none;\n",
              "      border-radius: 50%;\n",
              "      cursor: pointer;\n",
              "      display: none;\n",
              "      fill: #1967D2;\n",
              "      height: 32px;\n",
              "      padding: 0 0 0 0;\n",
              "      width: 32px;\n",
              "    }\n",
              "\n",
              "    .colab-df-convert:hover {\n",
              "      background-color: #E2EBFA;\n",
              "      box-shadow: 0px 1px 2px rgba(60, 64, 67, 0.3), 0px 1px 3px 1px rgba(60, 64, 67, 0.15);\n",
              "      fill: #174EA6;\n",
              "    }\n",
              "\n",
              "    .colab-df-buttons div {\n",
              "      margin-bottom: 4px;\n",
              "    }\n",
              "\n",
              "    [theme=dark] .colab-df-convert {\n",
              "      background-color: #3B4455;\n",
              "      fill: #D2E3FC;\n",
              "    }\n",
              "\n",
              "    [theme=dark] .colab-df-convert:hover {\n",
              "      background-color: #434B5C;\n",
              "      box-shadow: 0px 1px 3px 1px rgba(0, 0, 0, 0.15);\n",
              "      filter: drop-shadow(0px 1px 2px rgba(0, 0, 0, 0.3));\n",
              "      fill: #FFFFFF;\n",
              "    }\n",
              "  </style>\n",
              "\n",
              "    <script>\n",
              "      const buttonEl =\n",
              "        document.querySelector('#df-8b6e996e-dd26-4f3d-820e-014e2642e508 button.colab-df-convert');\n",
              "      buttonEl.style.display =\n",
              "        google.colab.kernel.accessAllowed ? 'block' : 'none';\n",
              "\n",
              "      async function convertToInteractive(key) {\n",
              "        const element = document.querySelector('#df-8b6e996e-dd26-4f3d-820e-014e2642e508');\n",
              "        const dataTable =\n",
              "          await google.colab.kernel.invokeFunction('convertToInteractive',\n",
              "                                                    [key], {});\n",
              "        if (!dataTable) return;\n",
              "\n",
              "        const docLinkHtml = 'Like what you see? Visit the ' +\n",
              "          '<a target=\"_blank\" href=https://colab.research.google.com/notebooks/data_table.ipynb>data table notebook</a>'\n",
              "          + ' to learn more about interactive tables.';\n",
              "        element.innerHTML = '';\n",
              "        dataTable['output_type'] = 'display_data';\n",
              "        await google.colab.output.renderOutput(dataTable, element);\n",
              "        const docLink = document.createElement('div');\n",
              "        docLink.innerHTML = docLinkHtml;\n",
              "        element.appendChild(docLink);\n",
              "      }\n",
              "    </script>\n",
              "  </div>\n",
              "\n",
              "\n",
              "    <div id=\"df-30a504b3-4d25-4768-baa3-f6cdf3c60f28\">\n",
              "      <button class=\"colab-df-quickchart\" onclick=\"quickchart('df-30a504b3-4d25-4768-baa3-f6cdf3c60f28')\"\n",
              "                title=\"Suggest charts\"\n",
              "                style=\"display:none;\">\n",
              "\n",
              "<svg xmlns=\"http://www.w3.org/2000/svg\" height=\"24px\"viewBox=\"0 0 24 24\"\n",
              "     width=\"24px\">\n",
              "    <g>\n",
              "        <path d=\"M19 3H5c-1.1 0-2 .9-2 2v14c0 1.1.9 2 2 2h14c1.1 0 2-.9 2-2V5c0-1.1-.9-2-2-2zM9 17H7v-7h2v7zm4 0h-2V7h2v10zm4 0h-2v-4h2v4z\"/>\n",
              "    </g>\n",
              "</svg>\n",
              "      </button>\n",
              "\n",
              "<style>\n",
              "  .colab-df-quickchart {\n",
              "      --bg-color: #E8F0FE;\n",
              "      --fill-color: #1967D2;\n",
              "      --hover-bg-color: #E2EBFA;\n",
              "      --hover-fill-color: #174EA6;\n",
              "      --disabled-fill-color: #AAA;\n",
              "      --disabled-bg-color: #DDD;\n",
              "  }\n",
              "\n",
              "  [theme=dark] .colab-df-quickchart {\n",
              "      --bg-color: #3B4455;\n",
              "      --fill-color: #D2E3FC;\n",
              "      --hover-bg-color: #434B5C;\n",
              "      --hover-fill-color: #FFFFFF;\n",
              "      --disabled-bg-color: #3B4455;\n",
              "      --disabled-fill-color: #666;\n",
              "  }\n",
              "\n",
              "  .colab-df-quickchart {\n",
              "    background-color: var(--bg-color);\n",
              "    border: none;\n",
              "    border-radius: 50%;\n",
              "    cursor: pointer;\n",
              "    display: none;\n",
              "    fill: var(--fill-color);\n",
              "    height: 32px;\n",
              "    padding: 0;\n",
              "    width: 32px;\n",
              "  }\n",
              "\n",
              "  .colab-df-quickchart:hover {\n",
              "    background-color: var(--hover-bg-color);\n",
              "    box-shadow: 0 1px 2px rgba(60, 64, 67, 0.3), 0 1px 3px 1px rgba(60, 64, 67, 0.15);\n",
              "    fill: var(--button-hover-fill-color);\n",
              "  }\n",
              "\n",
              "  .colab-df-quickchart-complete:disabled,\n",
              "  .colab-df-quickchart-complete:disabled:hover {\n",
              "    background-color: var(--disabled-bg-color);\n",
              "    fill: var(--disabled-fill-color);\n",
              "    box-shadow: none;\n",
              "  }\n",
              "\n",
              "  .colab-df-spinner {\n",
              "    border: 2px solid var(--fill-color);\n",
              "    border-color: transparent;\n",
              "    border-bottom-color: var(--fill-color);\n",
              "    animation:\n",
              "      spin 1s steps(1) infinite;\n",
              "  }\n",
              "\n",
              "  @keyframes spin {\n",
              "    0% {\n",
              "      border-color: transparent;\n",
              "      border-bottom-color: var(--fill-color);\n",
              "      border-left-color: var(--fill-color);\n",
              "    }\n",
              "    20% {\n",
              "      border-color: transparent;\n",
              "      border-left-color: var(--fill-color);\n",
              "      border-top-color: var(--fill-color);\n",
              "    }\n",
              "    30% {\n",
              "      border-color: transparent;\n",
              "      border-left-color: var(--fill-color);\n",
              "      border-top-color: var(--fill-color);\n",
              "      border-right-color: var(--fill-color);\n",
              "    }\n",
              "    40% {\n",
              "      border-color: transparent;\n",
              "      border-right-color: var(--fill-color);\n",
              "      border-top-color: var(--fill-color);\n",
              "    }\n",
              "    60% {\n",
              "      border-color: transparent;\n",
              "      border-right-color: var(--fill-color);\n",
              "    }\n",
              "    80% {\n",
              "      border-color: transparent;\n",
              "      border-right-color: var(--fill-color);\n",
              "      border-bottom-color: var(--fill-color);\n",
              "    }\n",
              "    90% {\n",
              "      border-color: transparent;\n",
              "      border-bottom-color: var(--fill-color);\n",
              "    }\n",
              "  }\n",
              "</style>\n",
              "\n",
              "      <script>\n",
              "        async function quickchart(key) {\n",
              "          const quickchartButtonEl =\n",
              "            document.querySelector('#' + key + ' button');\n",
              "          quickchartButtonEl.disabled = true;  // To prevent multiple clicks.\n",
              "          quickchartButtonEl.classList.add('colab-df-spinner');\n",
              "          try {\n",
              "            const charts = await google.colab.kernel.invokeFunction(\n",
              "                'suggestCharts', [key], {});\n",
              "          } catch (error) {\n",
              "            console.error('Error during call to suggestCharts:', error);\n",
              "          }\n",
              "          quickchartButtonEl.classList.remove('colab-df-spinner');\n",
              "          quickchartButtonEl.classList.add('colab-df-quickchart-complete');\n",
              "        }\n",
              "        (() => {\n",
              "          let quickchartButtonEl =\n",
              "            document.querySelector('#df-30a504b3-4d25-4768-baa3-f6cdf3c60f28 button');\n",
              "          quickchartButtonEl.style.display =\n",
              "            google.colab.kernel.accessAllowed ? 'block' : 'none';\n",
              "        })();\n",
              "      </script>\n",
              "    </div>\n",
              "    </div>\n",
              "  </div>\n"
            ],
            "application/vnd.google.colaboratory.intrinsic+json": {
              "type": "dataframe",
              "variable_name": "dataset",
              "summary": "{\n  \"name\": \"dataset\",\n  \"rows\": 3039,\n  \"fields\": [\n    {\n      \"column\": \"text\",\n      \"properties\": {\n        \"dtype\": \"string\",\n        \"num_unique_values\": 2593,\n        \"samples\": [\n          \"i n the early 1990s the renovations manager at amsterdam s schiphol airport decided to decorateeach bathroom urinal with a realistic image of a fly placed just above the drain for decades urinal designers had sought a way to curb the unpleasant spillage around urinals and it turned out that by giving men something to aim at in this case a humble insect spillage dramatically reduced this airport innovation went on to become one of the most well known examples of a nudge a subtle prompt that can alter human behavior the formal concept of nudging was first popularized by economist richard h thaler and legal scholar cass r sunstein who co authored the best selling 2008 book nudge improving decisions about health wealth and happiness the book defines a nudge as something that alters people s behavior in a predictable way without forbidding any options or significantly changing their economic incentives the authors framed nudging as a bipartisan technocratic fix that could solve tricky policy problems while preserving individual freedom governments didn t need to tell people what to do they needed to nudge them following the book s publication nudges were embraced by both the u s and u k governments and thaler went on to win the nobel prize in economics but two years after covid 19 was first detected in wuhan china nudges have lost some of their luster to curb the spread of the novel coronavirus governments and businesses have resorted to harsher measures such as lockdowns and vaccine mandates which nudges were purported to help policymakers avoid for skeptics a reassessment of nudges was overdue we shouldn t fool ourselves into thinking that nudges are going to magically fix our larger systemic issues said neil lewis jr a behavioral scientist and assistant professor at cornell university they re not nudging draws on insights from psychology primarily the work of daniel kahneman who won the nobel prize in economics in 2002 and amos tversky these two israeli psychologists pioneered the study of mental shortcuts that humans rely on to make decisions known as heuristics they presented initial findings in a 1974 paper judgment under uncertainty heuristics and biases their work had clear implications for economics which assumes that people make rational decisions in pursuit of their interests kahneman and tversky showed that that isn t how the human mind usually works beginning in the late 1970s thaler partnered with kahneman and tversky to apply their findings to his field creating behavioral economics in nudge sunstein and thaler brought behavioral science to the masses with intuitive and simple examples such as placing carrot sticks at eye level in school cafeterias to encourage healthier eating governments quickly caught on sunstein went to washington d c to work for the white house in 2009 six years later then president barack obama issued an executive orderto encourage the use of behavioral science in federal policymaking in 2010 the u k prime minister set up the behavioral insights teamwithin the government s cabinet office the team was spun off as a private company in 2014 and now has offices around the world globally there are now more than 200 teams or nudge units that specialize in applying behavioral science to everyday life nudge units had important successes in the u k the behavioral insights team sent lettersto clinics whose family doctors were overprescribing antibiotics the effort yielded a 3 percent decrease in prescriptions another initiative demonstrated the power of tweaking a message taxpayers who paid their income tax late received letterstelling them they were in a minority as nine out of 10 people pay on time that gentle admonition appears to have resulted in an additional 120 000 people paying about 6 5 million into u k government coffers and behavioral science notched another win when governmentsand companiesmade enrollment in retirement savings plans a default option helping people save more but as with any trend there are skeptics some commentators decrynudges as government overreach or as an infringement on individual autonomy but there are also peoplewho say the opposite that nudges result in governments not doing enough in 2011 the u k house of lords issued a reportthat questioned why nudges were being favored over more traditional policy tools like regulation in theory behavioral science doesn t skewleft or right but in the hands of politicians dubious of big government nudges can become a way to sidestep more muscular interventions behavioral science had a rough start during the pandemic when boris johnson decided not to impose a u k lockdown in march 2020 rumors swirled that the head of the behavioral insights team david halpern was advising againststricter measures hundreds of behavioral scientists then signed an open letterdemanding the government explain the evidence supporting its decision a subsequent inquiryby the parliament found that senior officials had opted initially for softer measures assuming incorrectly that the public wouldn t comply with a lockdown the pandemic revived a debate that has swirled around behavioral science for the past decade what can nudges achieve and what can they not a s covid 19 infections grew exponentially in 2020 behavioral scientists wanted to help nudges presented a possible route to controlling the virus particularly in the absence of vaccines and evidence based treatments said jay van bavel an associate professor of psychology at new york university that april van bavel and 41 other researchers among them sunstein published a paperthat outlined how the social and behavioral sciences could contribute from boosting trust in government policies to fighting conspiracy theories the authors were circumspect though the findings they summarized were far from settled and pre dated the covid 19 crisis research on the social dimensions of the pandemic soon began in earnest the national science foundation launched a rapid response program which could provide up to 200 000 per grant according to arthur lupia who recently completed his term as leader of the directorate for social behavioral and economic sciences the directorate processed the same number of grants over a six week period that spring as it normally does in six months the nonprofit social science research councilalso put out a call for proposals and was overwhelmed by the response out of 1 300 applications they could only fund 62 as scientists learned more about how the coronavirus spread through the air the sciencein support of social distancing and masks became clearer governments knew what they wanted their citizens to do but they still had to think carefully about how to encourage people to change their behavior that s where nudges could help researchers didn t know if nudges would work under the extreme conditions of a pandemic nudg\",\n          \"curlf revealed plans on tuesdayto open four new dispensaries in florida by the end of this year the move willgrow the company s retail footprint to 42 dispensaries statewide and 117 across the country curaleaf stuart located at 1910 federal highway will start selling cannabis firstto befollowed by openings in lady lake at 919 north highway 441 wesley chapel at 19416 bruce b downs boulevardand miami at 12125 sw 152nd street over the next few weeks we have been very thoughtful in how we have chosen to expand access to our products and retail experience across the state and as a result we have doubled our florida market share to fifteen percent this year matt darin regional president at curaleafsaid we are proud of the confidence and trust curaleaf s patients put in our products and team and next year we will continue to lead innovation in the industry and launch new products in the florida market grand opening ceremonies for each location will be held on jan 8 the wakefield massachusetts based company has expanded its retail and cultivation footprint and introduced more innovative products including select squeeze select bites and select nano bites also curaleaf recently launched its breakthrough vape hardware cliq by select in florida c3 industries high profile grand rapids opens doors to customers vertically integrated cannabis company c3 industries recently opened its eleventh dispensary nationally and the sixth in michigan located at 1148 leonard street nw in grand rapids the new shop will serve adult use and medical cannabis consumers customers can shop for a wide range of premium cannabis flower and other products in store including an assortment of products from c3 s in house brand cloud cover cannabis in addition to the grand rapids store high profile currently operates ten other locations across michigan and missouri the company revealed that it has plans to open several other locations nationally including expanding into the massachusetts market in early 2022 photo courtesy of kaique rochafrom for the latest in financial news exclusive stories memes follow benzinga on twitter facebook instagram for the best interviews stock market talk videos subscribe to benzinga podcastsand our youtube channel 2021 benzinga com benzinga does not provide investment advice all rights reserved posted in\",\n          \"apply for this job now job description temporary full time 37 5 hours or part time minimum of 25 hours for between 6 to 9 months opportunity for other positions after temporary period creative support is a national fast growing organisation with charitable status providing care and support to people across england with a wide range of needs we are also a registered social landlord managing around 1 000 units of supported housing creative support is regulated by the cqc and regulator of social housing and must demonstrate high standards of health and safety compliance as a large employer of over 5 000 staff nationally we promote safety awareness and good practice with a commitment to keeping our staff and service users as safe as possible we are currently recruiting a health safety helpdesk administrator based at our head office in stockport to cover a period of maternity leave this post will start in april 2022 this is a busy and responsible job which will offer job satisfaction to someone with a conscientious and diligent approach you will run the health safety helpdesk acting as a first point of contact you will read and review all accident and incident reports escalating concerns as required you will be responsible for preparing a wide range of reports and statistics to meet management and governance requirements you will also produce safety related information bulletins and campaigns working within the health and safety team you will play a key role in ensuring a positive health and safety culture across our services you will support the health safety team with general administration data collection and inputting safety compliance and reporting functions you will be required to handle information of a confidential nature and must observe the highest standards of diligence and professionalism as our health safety helpdesk administrator you will make a real difference to the health and safety of service users and staff across our company you will be expected to identify and follow up concerns in a proactive and professional manner a basic interest in health and safety and the provision of social care and social housing is essential further health and safety training will be provided to the successful candidate health safety helpdesk administrator day to day duties running the health safety helpdesk and responding to enquiries managing the health safety email in box responding to queries and safety concerns from staff across the country reading and reviewing accident and incident reports inputting safety data into databases and spreadsheets contributing to property safety compliance as required working with the team collating audit reports and following up action plans compiling data and producing reports answering the phone taking accurate messages and informing the team and senior managers of any important communications or events producing information bulletins safety campaigns and newsletters assisting colleagues with administrative tasks and follow up benefits of working with creative support flexible working arrangements high level of training and development through our creative academy pension with company contribution free life assurance 20 days paid annual leave plus bank holidays plus an additional day off for your birthday after 2 years of service mileage allowance travel expenses friendly supportive work environment career development opportunities a flexible and helpful approach good customer care and excellent telephone skills are essential as you will often be the first point of contact for our staff you will need to have relevant administrative experience you will also need good written communication and it skills including the ability to accurately record accidents incidents and other data on databases and spreadsheets attention to detail and the ability to critically read documents and accurately identify facts and issues is essential you will need to be assertive and confident as you will be escalating concerns to colleagues and senior managers degree level education and experience of working in a health and safety related environment is desirable this job could be full time 37 5 hours or part time subject to a minimum of 25 hours and could be worked during school hours our offices are readily accessible on public transport as we are based in in the centre of stockport close to the mainline train station and with frequent buses into manchester creative support is a passionate inclusive and anti racist organisation we are a stonewall diversity champion disability confident employer who have recently received investors in people silver award we actively encourage applications from candidates from all backgrounds and cultures we would encourage you to apply to us even if you have not yet had your covid 19 vaccine you will be required to have your first covid 19 vaccine prior to your interview and your second vaccine before you start work with us this time will be used to complete post interview recruitment checks\"\n        ],\n        \"semantic_type\": \"\",\n        \"description\": \"\"\n      }\n    },\n    {\n      \"column\": \"labels\",\n      \"properties\": {\n        \"dtype\": \"category\",\n        \"num_unique_values\": 426,\n        \"samples\": [\n          \"regulatory approval, new initiatives or programs\",\n          \"alliance & partnership, company description, executive statement\",\n          \"expanding geography, product launching & presentation, funding round, ipo exit, product updates\"\n        ],\n        \"semantic_type\": \"\",\n        \"description\": \"\"\n      }\n    }\n  ]\n}"
            }
          },
          "metadata": {},
          "execution_count": 13
        }
      ],
      "source": [
        "dataset = pd.read_csv(BIOTECH_NEWS, sep='\\t')\n",
        "dataset.head()"
      ]
    },
    {
      "cell_type": "markdown",
      "id": "HRBZwYd9QMMS",
      "metadata": {
        "id": "HRBZwYd9QMMS"
      },
      "source": [
        "## Предобработка лейблов\n",
        "\n",
        "\n",
        "__Задание 1 (1.5 балла)__. Как вы можете заметить, лейблы записаны в виде строк, разделенных запятыми. Для работы с ними нам нужно преобразовать их в числа. Так как каждый объект может принадлежать нескольким классам, закодируйте лейблы в виде векторов из 0 и 1, где 1 означает, что объект принадлежит соответствующему классу, а 0 – не принадлежит. Имея такую кодировку, мы сможем обучить модель, решая задачу бинарной классификации для каждого класса."
      ]
    },
    {
      "cell_type": "code",
      "execution_count": 14,
      "id": "7c65a9bf-dbe9-4cad-978d-3a0e10b1eac1",
      "metadata": {
        "id": "7c65a9bf-dbe9-4cad-978d-3a0e10b1eac1"
      },
      "outputs": [],
      "source": [
        "dataset['labels'] = dataset['labels'].apply(lambda x: x.split(','))\n",
        "\n",
        "mlb = MultiLabelBinarizer()\n",
        "y = mlb.fit_transform(dataset['labels'])"
      ]
    },
    {
      "cell_type": "markdown",
      "id": "83c0296f-9699-475e-b4bd-c9e531dca2d4",
      "metadata": {
        "id": "83c0296f-9699-475e-b4bd-c9e531dca2d4"
      },
      "source": [
        "## Предобработка данных"
      ]
    },
    {
      "cell_type": "markdown",
      "id": "vMe0c5AAXM8d",
      "metadata": {
        "id": "vMe0c5AAXM8d"
      },
      "source": [
        "В этом задании мы будем обучать рекуррентные нейронные сети. Как вы знаете, они работают лучше для коротких текстов, так как не очень хорошо улавливают далекие зависимости. Для уменьшение длин текстов их стоит почистить.\n",
        "\n",
        "Сразу разделим выборку на обучающую и тестовую, чтобы считать все нужные статистики только по обучающей."
      ]
    },
    {
      "cell_type": "code",
      "execution_count": 18,
      "id": "f8135000",
      "metadata": {
        "id": "f8135000",
        "colab": {
          "base_uri": "https://localhost:8080/"
        },
        "outputId": "8c30b81a-d08b-4483-aeba-bda56e0a8a97"
      },
      "outputs": [
        {
          "output_type": "execute_result",
          "data": {
            "text/plain": [
              "array([[0, 0, 0, ..., 0, 0, 0],\n",
              "       [0, 0, 0, ..., 0, 0, 0],\n",
              "       [0, 0, 0, ..., 0, 0, 0],\n",
              "       ...,\n",
              "       [0, 0, 0, ..., 0, 0, 0],\n",
              "       [0, 0, 0, ..., 1, 0, 0],\n",
              "       [0, 0, 0, ..., 0, 1, 0]])"
            ]
          },
          "metadata": {},
          "execution_count": 18
        }
      ],
      "source": [
        "texts_train, texts_test, y_train, y_test = train_test_split(\n",
        "    dataset['text'],\n",
        "    y,\n",
        "    test_size=0.2,  # do not change this\n",
        "    random_state=0,  # do not change this\n",
        ")\n",
        "\n",
        "y"
      ]
    },
    {
      "cell_type": "markdown",
      "id": "4ace679c-db5f-45d3-8fa3-6a5c55eb912a",
      "metadata": {
        "id": "4ace679c-db5f-45d3-8fa3-6a5c55eb912a"
      },
      "source": [
        "__Задание 2 (1.5 балла)__. Удалите из текстов стоп слова, слишком редкие и слишком частые слова. Гиперпараметры подберите самостоятельно (в идеале их стоит подбирать по качеству на тестовой выборке). Если вы считаете, что стоит добавить еще какую-то обработку, то сделайте это. Важно не удалить ничего, что может повлиять на предсказание класса."
      ]
    },
    {
      "cell_type": "code",
      "execution_count": 19,
      "id": "BcmyCcoaXIqy",
      "metadata": {
        "id": "BcmyCcoaXIqy",
        "colab": {
          "base_uri": "https://localhost:8080/"
        },
        "outputId": "ef3eaba6-ddcb-45ea-c007-4b0c9f0e687c"
      },
      "outputs": [
        {
          "output_type": "stream",
          "name": "stderr",
          "text": [
            "[nltk_data] Downloading package stopwords to /root/nltk_data...\n",
            "[nltk_data]   Unzipping corpora/stopwords.zip.\n"
          ]
        }
      ],
      "source": [
        "nltk.download('stopwords')\n",
        "stops = set(stopwords.words('english'))\n",
        "\n",
        "all_words = []\n",
        "for txt in texts_train:\n",
        "    all_words += txt.split()\n",
        "\n",
        "counts = Counter(all_words)\n",
        "\n",
        "rare = set([w for w in counts if counts[w] < 5])\n",
        "common = set([w for w, _ in counts.most_common(50)])\n",
        "\n",
        "def clean(text):\n",
        "    return ' '.join([w for w in text.split() if w not in stops and w not in rare and w not in common])\n",
        "\n",
        "texts_train_clean = texts_train.apply(clean)\n",
        "texts_test_clean = texts_test.apply(clean)"
      ]
    },
    {
      "cell_type": "markdown",
      "id": "4f4848c2-7fe1-43f9-8564-1144015fc29b",
      "metadata": {
        "id": "4f4848c2-7fe1-43f9-8564-1144015fc29b"
      },
      "source": [
        "__Задание 3 (2 балла)__. Осталось перевести тексты в индексы токенов, чтобы их можно было подавать в модель. У вас есть две опции, как это сделать:\n",
        "1. __(+0 баллов)__ Токенизировать тексты по словам.\n",
        "2. __(до +5 баллов)__ Реализовать свою токенизацию BPE. Количество баллов будет варьироваться в зависимости от эффективности реализации. При реализации нельзя пользоваться специализированными библиотеками.\n",
        "\n",
        "Токенизируйте тексты, переведите их в списки индексов и сложите вместе с лейблами в `DataLoader`. Не забудьте добавить в `DataLoader` `collate_fn`, которая будет дополнять все короткие тексты в батче паддингами. Для маппинга токенов в индексы вам может пригодиться `gensim.corpora.dictionary.Dictionary`."
      ]
    },
    {
      "cell_type": "code",
      "source": [
        "corpus = []\n",
        "for text in texts_train_clean:\n",
        "    for word in text.strip().split():\n",
        "        chars = list(word) + ['</w>']\n",
        "        corpus.append(chars)\n",
        "\n",
        "word_freq = Counter([' '.join(w) for w in corpus])\n",
        "\n",
        "def get_stats(freqs):\n",
        "    pairs = defaultdict(int)\n",
        "    for word, count in freqs.items():\n",
        "        symbols = word.split()\n",
        "        for i in range(len(symbols) - 1):\n",
        "            pairs[(symbols[i], symbols[i + 1])] += count\n",
        "    return pairs\n",
        "\n",
        "def merge_pair(pair, freqs):\n",
        "    out = {}\n",
        "    old = ' '.join(pair)\n",
        "    new = ''.join(pair)\n",
        "    for word in freqs:\n",
        "        out[word.replace(old, new)] = freqs[word]\n",
        "    return out\n",
        "\n",
        "for _ in range(1000):\n",
        "    pairs = get_stats(word_freq)\n",
        "    if not pairs:\n",
        "        break\n",
        "    best = max(pairs, key=pairs.get)\n",
        "    word_freq = merge_pair(best, word_freq)\n",
        "\n",
        "vocab = set()\n",
        "for word in word_freq:\n",
        "    vocab.update(word.split())\n",
        "\n",
        "token_to_idx = {tok: i + 1 for i, tok in enumerate(sorted(vocab))}\n",
        "\n",
        "def bpe_tokenize(text, token_to_idx):\n",
        "    tokens = []\n",
        "    for word in text.strip().split():\n",
        "        chars = list(word) + ['</w>']\n",
        "        while True:\n",
        "            pairs = [(chars[i], chars[i + 1]) for i in range(len(chars) - 1)]\n",
        "            found = False\n",
        "            for i in range(len(pairs)):\n",
        "                pair = pairs[i]\n",
        "                if ''.join(pair) in token_to_idx:\n",
        "                    chars = chars[:i] + [''.join(pair)] + chars[i+2:]\n",
        "                    found = True\n",
        "                    break\n",
        "            if not found:\n",
        "                break\n",
        "        tokens += chars\n",
        "    return [token_to_idx.get(t, 0) for t in tokens]\n",
        "\n",
        "X_train_bpe = [bpe_tokenize(t, token_to_idx) for t in texts_train_clean]\n",
        "X_test_bpe = [bpe_tokenize(t, token_to_idx) for t in texts_test_clean]"
      ],
      "metadata": {
        "id": "3-WidSzj3t8q"
      },
      "id": "3-WidSzj3t8q",
      "execution_count": 20,
      "outputs": []
    },
    {
      "cell_type": "markdown",
      "id": "627e78f9-6bef-46f4-8b58-818b7eb0c082",
      "metadata": {
        "id": "627e78f9-6bef-46f4-8b58-818b7eb0c082"
      },
      "source": [
        "## Метрика качества\n",
        "\n",
        "Перед тем, как приступить к обучению, нам нужно выбрать метрику оценки качества. Так как в задаче классификации с пересекающимися классами классы часто несбалансированы, чаще всего в качестве метрики берется [F1 score](https://en.wikipedia.org/wiki/F-score).\n",
        "\n",
        "Функция `compute_f1` принимает истинные метки и предсказанные и считает среднее значение F1 по всем классам. Используйте ее для оценки качества моделей.\n",
        "\n",
        "$$\n",
        "F1_{total} = \\frac{1}{K} \\sum_{k=1}^K F1(Y_k, \\hat{Y}_k),\n",
        "$$\n",
        "где $Y_k$ – истинные значения для класса k, а $\\hat{Y}_k$ – предсказания."
      ]
    },
    {
      "cell_type": "code",
      "execution_count": 21,
      "id": "671a0928-fd68-4f36-bae7-2dacb18fd865",
      "metadata": {
        "id": "671a0928-fd68-4f36-bae7-2dacb18fd865"
      },
      "outputs": [],
      "source": [
        "def compute_f1(y_true, y_pred):\n",
        "    assert y_true.ndim == 2\n",
        "    assert y_true.shape == y_pred.shape\n",
        "\n",
        "    return f1_score(y_true, y_pred, average='macro')"
      ]
    },
    {
      "cell_type": "markdown",
      "id": "aagj29J7Ap2H",
      "metadata": {
        "id": "aagj29J7Ap2H"
      },
      "source": [
        "## Обучение моделей"
      ]
    },
    {
      "cell_type": "markdown",
      "id": "56ae5666",
      "metadata": {
        "id": "56ae5666"
      },
      "source": [
        "### RNN\n",
        "\n",
        "В качестве бейзлайна обучим самую простую рекуррентную нейронную сеть. Напомним, что блок RNN выглядит таким образом.\n",
        "\n",
        "<img src=\"https://i.postimg.cc/yYbNBm6G/tg-image-1635618906.png\" alt=\"drawing\" width=\"400\"/>\n",
        "\n",
        "Его скрытое состояние обновляется по формуле\n",
        "$h_t = \\sigma(W x_{t} + U h_{t-1} + b_h)$. А предсказание считается с помощью применения линейного слоя к последнему токену\n",
        "$o_T = V h_T + b_o$. В качестве функции активации выберите гиперболический тангенс.\n",
        "\n",
        "__Задание 4 (2 балла)__. Реализуйте RNN в соответствии с формулой выше и обучите ее на нашу задачу. Нулевой скрытый вектор инициализируйте нулями, так модель будет обучаться стабильнее, чем при случайной инициализации. После этого замеряйте качество на тестовой выборке. У вас должно получиться значение F1 не меньше 0.33, а само обучение не должно занимать много времени."
      ]
    },
    {
      "cell_type": "code",
      "execution_count": null,
      "id": "05743f95-dd39-43f5-81cf-1a79edc194fa",
      "metadata": {
        "id": "05743f95-dd39-43f5-81cf-1a79edc194fa"
      },
      "outputs": [],
      "source": [
        "class BpeDataset(Dataset):\n",
        "    def __init__(self, token_seqs, labels):\n",
        "        self.seqs = token_seqs\n",
        "        self.labels = torch.tensor(labels, dtype=torch.float32)\n",
        "\n",
        "    def __len__(self):\n",
        "        return len(self.seqs)\n",
        "\n",
        "    def __getitem__(self, idx):\n",
        "        return torch.tensor(self.seqs[idx], dtype=torch.long), self.labels[idx]\n",
        "\n",
        "def collate_fn(batch):\n",
        "    x_batch, y_batch = zip(*batch)\n",
        "    x_batch = [x[:512] for x in x_batch]\n",
        "    x_batch = pad_sequence(x_batch, batch_first=True, padding_value=0)\n",
        "    y_batch = torch.stack(y_batch)\n",
        "    return x_batch, y_batch\n",
        "\n",
        "train_dataset = BpeDataset(X_train_bpe, y_train)\n",
        "test_dataset = BpeDataset(X_test_bpe, y_test)\n",
        "train_loader = DataLoader(train_dataset, batch_size=32, shuffle=True, collate_fn=collate_fn)\n",
        "test_loader = DataLoader(test_dataset, batch_size=32, shuffle=False, collate_fn=collate_fn)\n",
        "\n",
        "# RNN, боль моя ...... попытка запуска №37\n",
        "class ImprovedRnnClassifier(nn.Module):\n",
        "    def __init__(self, vocab_size, emb_dim=256, hidden_size=256, output_dim=55):\n",
        "        super().__init__()\n",
        "        self.embedding = nn.Embedding(vocab_size + 1, emb_dim, padding_idx=0)\n",
        "        self.rnn = nn.RNN(\n",
        "            input_size=emb_dim,\n",
        "            hidden_size=hidden_size,\n",
        "            num_layers=2,\n",
        "            dropout=0.3,\n",
        "            batch_first=True,\n",
        "            bidirectional=True\n",
        "        )\n",
        "        self.dropout = nn.Dropout(0.3)\n",
        "        self.fc = nn.Linear(hidden_size * 2, output_dim)\n",
        "\n",
        "    def forward(self, x):\n",
        "        embedded = self.embedding(x)\n",
        "        out, _ = self.rnn(embedded)\n",
        "        mask = (x != 0).unsqueeze(-1).float()\n",
        "        out = out * mask\n",
        "        pooled = out.sum(1) / (mask.sum(1) + 1e-6)\n",
        "        return self.fc(self.dropout(pooled))\n",
        "\n",
        "# инициализируем\n",
        "vocab_size = len(token_to_idx)\n",
        "model = ImprovedRnnClassifier(vocab_size)\n",
        "device = torch.device('cuda' if torch.cuda.is_available() else 'cpu')\n",
        "model.to(device)\n",
        "\n",
        "# лосс с учётом дисбаланса\n",
        "label_freq = torch.tensor(y_train).sum(dim=0)\n",
        "pos_weight = (len(y_train) - label_freq) / (label_freq + 1e-6)\n",
        "pos_weight = pos_weight.to(device)\n",
        "criterion = nn.BCEWithLogitsLoss(pos_weight=pos_weight)\n",
        "optimizer = optim.Adam(model.parameters(), lr=0.001)\n",
        "\n",
        "# трэйнинг\n",
        "for epoch in range(epoch_count):\n",
        "    model.train()\n",
        "    total_loss = 0\n",
        "    for x_batch, y_batch in train_loader:\n",
        "        x_batch, y_batch = x_batch.to(device), y_batch.to(device)\n",
        "        optimizer.zero_grad()\n",
        "        logits = model(x_batch)\n",
        "        loss = criterion(logits, y_batch)\n",
        "        loss.backward()\n",
        "        optimizer.step()\n",
        "        total_loss += loss.item()\n",
        "    print(f'epoch {epoch+1} loss: {total_loss:.4f}')\n",
        "\n",
        "# топ К предсказания (топ-3 предательств в аниме)\n",
        "def get_topk_predictions(y_probs, k=3):\n",
        "    y_pred = np.zeros_like(y_probs)\n",
        "    topk = np.argsort(y_probs, axis=1)[:, -k:]\n",
        "    for i in range(len(y_probs)):\n",
        "        y_pred[i, topk[i]] = 1\n",
        "    return y_pred\n",
        "\n",
        "# оценко\n",
        "model.eval()\n",
        "all_probs, all_targets = [], []\n",
        "\n",
        "with torch.no_grad():\n",
        "    for x_batch, y_batch in test_loader:\n",
        "        x_batch = x_batch.to(device)\n",
        "        logits = model(x_batch)\n",
        "        probs = torch.sigmoid(logits).cpu()\n",
        "        all_probs.append(probs)\n",
        "        all_targets.append(y_batch)\n",
        "\n",
        "y_probs = torch.cat(all_probs).numpy()\n",
        "y_true = torch.cat(all_targets).numpy()\n",
        "\n",
        "y_pred = get_topk_predictions(y_probs, k=3)\n",
        "f1 = f1_score(y_true, y_pred, average='macro')\n",
        " # Ф-1.... Формула-1\n",
        "print(f\"\\nF-1: {f1:.2f}\")"
      ]
    },
    {
      "cell_type": "markdown",
      "id": "xqt0dk6LEJUU",
      "metadata": {
        "id": "xqt0dk6LEJUU"
      },
      "source": [
        "### LSTM\n",
        "\n",
        "<img src=\"https://i.postimg.cc/pL5LdmpL/tg-image-2290675322.png\" alt=\"drawing\" width=\"400\"/>\n",
        "\n",
        "Теперь перейдем к более продвинутым рекурренным моделям, а именно LSTM. Из-за дополнительного вектора памяти эта модель должна гораздо лучше улавливать далекие зависимости, что должно напрямую отражаться на качестве.\n",
        "\n",
        "Параметры блока LSTM обновляются вот так ($\\sigma$ означает сигмоиду):\n",
        "\\begin{align}\n",
        "f_{t} &= \\sigma(W_f x_{t} + U_f h_{t-1} + b_f) \\\\\n",
        "i_{t} &= \\sigma(W_i x_{t} + U_i h_{t-1} + b_i) \\\\\n",
        "\\tilde{c}_{t} &= \\tanh(W_c x_{t} + U_c h_{t-1} + b_i) \\\\\n",
        "c_{t} &= f_t \\odot c_{t-1} + i_t \\odot \\tilde{c}_t \\\\\n",
        "o_{t} &= \\sigma(W_t x_{t} + U_t h_{t-1} + b_t) \\\\\n",
        "h_t &= o_t \\odot \\tanh(c_t)\n",
        "\\end{align}\n",
        "\n",
        "__Задание 5 (2 балла).__ Реализуйте LSTM по описанной схеме. Выберите гиперпараметры LSTM так, чтобы их общее число (без учета слоя эмбеддингов) примерно совпадало с числом параметров обычной RNN, но размерность скрытого слоя была не меньше 64. Так мы будем сравнивать архитектуры максимально независимо. Обучите LSTM до сходимости и сравните качество с RNN на тестовой выборке. Удалось ли получить лучший результат? Как вы можете это объяснить?"
      ]
    },
    {
      "cell_type": "code",
      "execution_count": null,
      "id": "6e18b79b-f2c6-4474-a5c0-c8ce51f13afb",
      "metadata": {
        "id": "6e18b79b-f2c6-4474-a5c0-c8ce51f13afb"
      },
      "outputs": [],
      "source": [
        "# your code here"
      ]
    },
    {
      "cell_type": "markdown",
      "id": "phQ-ka4mp0oS",
      "metadata": {
        "id": "phQ-ka4mp0oS"
      },
      "source": [
        "__Задание 6 (1 балл).__ В этом задании у вас есть две опции на выбор: добавить __двунаправленность__ для LSTM _или_ добавить __многослойность__. Можно сделать и то, и другое, но дополнительных баллов за это мы не дадим, только бесконечный респект. Обе модификации реализуются довольно просто (буквально 4 строчки кода, если вы аккуратно реализовали модель) и дают примерно одинаковый прирост в качестве. Сделайте выводы: стоит ли увеличивать размер модели в несколько раз?"
      ]
    },
    {
      "cell_type": "code",
      "execution_count": null,
      "id": "ee7c7177",
      "metadata": {
        "id": "ee7c7177"
      },
      "outputs": [],
      "source": [
        "# your code here"
      ]
    }
  ],
  "metadata": {
    "accelerator": "GPU",
    "colab": {
      "gpuType": "T4",
      "provenance": [],
      "include_colab_link": true
    },
    "kernelspec": {
      "display_name": "Python 3 (ipykernel)",
      "language": "python",
      "name": "python3"
    },
    "language_info": {
      "codemirror_mode": {
        "name": "ipython",
        "version": 3
      },
      "file_extension": ".py",
      "mimetype": "text/x-python",
      "name": "python",
      "nbconvert_exporter": "python",
      "pygments_lexer": "ipython3",
      "version": "3.12.6"
    }
  },
  "nbformat": 4,
  "nbformat_minor": 5
}
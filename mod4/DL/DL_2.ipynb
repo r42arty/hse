{
  "cells": [
    {
      "cell_type": "markdown",
      "metadata": {
        "id": "view-in-github",
        "colab_type": "text"
      },
      "source": [
        "<a href=\"https://colab.research.google.com/github/r42arty/hse/blob/main/mod4/DL/DL_2.ipynb\" target=\"_parent\"><img src=\"https://colab.research.google.com/assets/colab-badge.svg\" alt=\"Open In Colab\"/></a>"
      ]
    },
    {
      "cell_type": "markdown",
      "source": [
        "# Основы машинного обучения, ИИМУП\n",
        "\n",
        "## НИУ ВШЭ, 2024-25 учебный год"
      ],
      "metadata": {
        "id": "uzoPPj-CT-hG"
      }
    },
    {
      "cell_type": "markdown",
      "metadata": {
        "id": "VRUsuZR2cQoY"
      },
      "source": [
        "# Домашнее задание 2: Классификация при помощи CNN"
      ]
    },
    {
      "cell_type": "markdown",
      "metadata": {
        "id": "lV9pvgZJTYGj"
      },
      "source": [
        "Задание выполнил(а):\n",
        "\n",
        "  Рубцов Артемий"
      ]
    },
    {
      "cell_type": "markdown",
      "metadata": {
        "id": "ZML8VxlPTYGj"
      },
      "source": [
        "## Общая информация"
      ]
    },
    {
      "cell_type": "markdown",
      "metadata": {
        "id": "nTmiXfZZTYGl"
      },
      "source": [
        "__Внимание!__  \n",
        "\n",
        "\n",
        "* Домашнее задание выполняется самостоятельно\n",
        "* Не допускается помощь в решении домашнего задания от однокурсников или третьих лиц. «Похожие» решения считаются плагиатом, и все задействованные студенты — в том числе и те, у кого списали, — не могут получить за него больше 0 баллов\n",
        "* Использование в решении домашнего задания генеративных моделей (ChatGPT и так далее) за рамками справочной и образовательной информации для генерации кода задания — считается плагиатом, и такое домашнее задание оценивается в 0 баллов\n",
        "* Старайтесь сделать код как можно более оптимальным. Неэффективная реализация кода может негативно отразиться на оценке. Также оценка может быть снижена за плохо читаемый код и плохо оформленные графики. Все ответы должны сопровождаться кодом или комментариями о том, как они были получены."
      ]
    },
    {
      "cell_type": "markdown",
      "metadata": {
        "id": "w35Q6hOIy4sk",
        "pycharm": {
          "name": "#%% md\n"
        }
      },
      "source": [
        "## О задании\n",
        "\n",
        "В этом задании вам предстоит познакомиться со сверточными сетями и их обучением для классификации изображений с использованием библиотеки PyTorch.\n"
      ]
    },
    {
      "cell_type": "markdown",
      "source": [
        "## Импорт библиотек"
      ],
      "metadata": {
        "id": "imPK_EDQp0NX"
      }
    },
    {
      "cell_type": "code",
      "execution_count": 1,
      "metadata": {
        "id": "SaACifdX2QOo",
        "pycharm": {
          "name": "#%%\n"
        }
      },
      "outputs": [],
      "source": [
        "import matplotlib.pyplot as plt\n",
        "import numpy as np\n",
        "import torch\n",
        "import torch.nn as nn\n",
        "import torch.nn.functional as F\n",
        "import torch.optim as optim\n",
        "import torchvision\n",
        "import torchvision.transforms as transforms\n",
        "\n",
        "from sklearn.model_selection import train_test_split"
      ]
    },
    {
      "cell_type": "markdown",
      "metadata": {
        "id": "TIXaUYM-0JFl",
        "pycharm": {
          "name": "#%% md\n"
        }
      },
      "source": [
        "## 0. Загрузка данных\n",
        "\n",
        "Работать мы будем с набором данных [CIFAR10](https://www.cs.toronto.edu/~kriz/cifar.html). CIFAR10 представляет собой набор изображений 32х32 пикселя, разделенных на 10 классов.\n",
        "\n",
        "![title](https://pytorch.org/tutorials/_images/cifar10.png)\n",
        "\n",
        "\n"
      ]
    },
    {
      "cell_type": "markdown",
      "metadata": {
        "id": "g-0EEjl_10vB",
        "pycharm": {
          "name": "#%% md\n"
        }
      },
      "source": [
        "Набор данных уже определен в <code>torchvision.datasets</code>, так что возьмем его оттуда.\n",
        "\n"
      ]
    },
    {
      "cell_type": "code",
      "execution_count": 2,
      "metadata": {
        "id": "Cbwe92dT3aPZ",
        "pycharm": {
          "name": "#%%\n"
        }
      },
      "outputs": [],
      "source": [
        "# Для тру нормализации\n",
        "# mean = [0.4914, 0.4822, 0.4465]\n",
        "# std = [0.2470, 0.2435, 0.2616]\n",
        "# Тут взяты значения как в одном из туториалов пайторча :)\n",
        "\n",
        "\n",
        "def get_cifar10_data(batch_size, transform_train):\n",
        "    torch.manual_seed(0)\n",
        "    np.random.seed(0)\n",
        "\n",
        "    transform_test = transforms.Compose(\n",
        "        [\n",
        "            transforms.ToTensor(),\n",
        "            # Переводим цвета пикселей в отрезок [-1, 1]\n",
        "            transforms.Normalize((0.5, 0.5, 0.5), (0.5, 0.5, 0.5)),\n",
        "        ]\n",
        "    )\n",
        "\n",
        "    # Загружаем данные\n",
        "    trainvalset = torchvision.datasets.CIFAR10(\n",
        "        root=\"./data\", train=True, download=True, transform=transform_train\n",
        "    )\n",
        "    testset = torchvision.datasets.CIFAR10(\n",
        "        root=\"./data\", train=False, download=True, transform=transform_test\n",
        "    )\n",
        "\n",
        "    # В датасете определено разбиение только на train и test,\n",
        "    # так что валидацию дополнительно выделяем из обучающей выборки\n",
        "    train_idx, valid_idx = train_test_split(\n",
        "        np.arange(len(trainvalset)), test_size=0.3, shuffle=True, random_state=0\n",
        "    )\n",
        "    trainset = torch.utils.data.Subset(trainvalset, train_idx)\n",
        "    valset = torch.utils.data.Subset(trainvalset, valid_idx)\n",
        "\n",
        "    train_loader = torch.utils.data.DataLoader(\n",
        "        trainset, batch_size=batch_size, shuffle=True, num_workers=2\n",
        "    )\n",
        "    val_loader = torch.utils.data.DataLoader(\n",
        "        valset, batch_size=batch_size, shuffle=False, num_workers=2\n",
        "    )\n",
        "    test_loader = torch.utils.data.DataLoader(\n",
        "        testset, batch_size=batch_size, shuffle=False, num_workers=2\n",
        "    )\n",
        "\n",
        "    return train_loader, val_loader, test_loader"
      ]
    },
    {
      "cell_type": "code",
      "execution_count": 3,
      "metadata": {
        "colab": {
          "base_uri": "https://localhost:8080/"
        },
        "id": "2G2rLnN5y6Jj",
        "outputId": "ceb91553-1d52-4c5b-d1e9-da94a4614dea",
        "pycharm": {
          "name": "#%%\n"
        }
      },
      "outputs": [
        {
          "output_type": "stream",
          "name": "stderr",
          "text": [
            "100%|██████████| 170M/170M [00:02<00:00, 71.9MB/s]\n"
          ]
        }
      ],
      "source": [
        "transform = transforms.Compose(\n",
        "    [transforms.ToTensor(), transforms.Normalize((0.5, 0.5, 0.5), (0.5, 0.5, 0.5))]\n",
        ")\n",
        "\n",
        "train_loader, val_loader, test_loader = get_cifar10_data(\n",
        "    batch_size=64, transform_train=transform\n",
        ")"
      ]
    },
    {
      "cell_type": "markdown",
      "metadata": {
        "id": "-82HWgXs77W1",
        "pycharm": {
          "name": "#%% md\n"
        }
      },
      "source": [
        "Посмотрим на изображения:"
      ]
    },
    {
      "cell_type": "code",
      "execution_count": 4,
      "metadata": {
        "colab": {
          "base_uri": "https://localhost:8080/",
          "height": 210
        },
        "id": "ACnwaC5iy6L2",
        "outputId": "5a4a838f-f5ff-4726-8d00-053fd53eecb6",
        "pycharm": {
          "name": "#%%\n"
        }
      },
      "outputs": [
        {
          "output_type": "display_data",
          "data": {
            "text/plain": [
              "<Figure size 640x480 with 1 Axes>"
            ],
            "image/png": "[encoded data removed]"
          },
          "metadata": {}
        },
        {
          "output_type": "stream",
          "name": "stdout",
          "text": [
            "ship frog horse horse\n"
          ]
        }
      ],
      "source": [
        "def imshow(img):\n",
        "    img = img / 2 + 0.5\n",
        "    npimg = img.numpy()\n",
        "    plt.imshow(np.transpose(npimg, (1, 2, 0)))\n",
        "    plt.show()\n",
        "\n",
        "\n",
        "dataiter = iter(train_loader)\n",
        "images, labels = next(dataiter)\n",
        "\n",
        "imshow(torchvision.utils.make_grid(images[:4]))\n",
        "\n",
        "classes = (\n",
        "    \"plane\",\n",
        "    \"car\",\n",
        "    \"bird\",\n",
        "    \"cat\",\n",
        "    \"deer\",\n",
        "    \"dog\",\n",
        "    \"frog\",\n",
        "    \"horse\",\n",
        "    \"ship\",\n",
        "    \"truck\",\n",
        ")\n",
        "print(*[classes[labels[i]] for i in range(4)])"
      ]
    },
    {
      "cell_type": "markdown",
      "metadata": {
        "id": "KFDilng29YZ_",
        "pycharm": {
          "name": "#%% md\n"
        }
      },
      "source": [
        "## 1. Задание сверточной сети (3 балла)"
      ]
    },
    {
      "cell_type": "markdown",
      "metadata": {
        "id": "OX7Ul8YbYdQR",
        "pycharm": {
          "name": "#%% md\n"
        }
      },
      "source": [
        "Теперь нам нужно задать сверточную нейронную сеть, которую мы будем обучать классифицировать изображения.\n",
        "\n",
        "Используем сеть, основанную на одном блоке архитектуры, похожей на ResNet. Обратите внимание, это не ResNet 1 в 1.\n",
        "\n",
        "<img src=\"https://i.ibb.co/2hg962h/basic-block.png\" width=\"500\"/>\n",
        "\n",
        "__Указания:__\n",
        "\n",
        "- Все сверточные слои должны иметь 32 выходных канала, а также не должны изменять ширину и высоту изображения.\n",
        "- Выход блока сократите до размерности 32х4х4, применив average pooling.\n",
        "- Для получения итоговых логитов, распрямите выход пулинга в вектор из 512 элементов, а затем пропустите его через линейный слой."
      ]
    },
    {
      "cell_type": "markdown",
      "metadata": {
        "id": "sbyIylT9O9Dr",
        "pycharm": {
          "name": "#%% md\n"
        }
      },
      "source": [
        "**Задание 1.1 (3 балла).**\n",
        "\n",
        "Определите архитектуру сети соответственно схеме и указаниям выше.\n",
        "\n",
        "Ключевые слова: <code>Conv2d</code>, <code>BatchNorm2d</code>, <code>AvgPool2d</code>."
      ]
    },
    {
      "cell_type": "code",
      "execution_count": 7,
      "metadata": {
        "id": "s9ml1QGKy6N9",
        "pycharm": {
          "name": "#%%\n"
        }
      },
      "outputs": [],
      "source": [
        "n_classes = 10\n",
        "\n",
        "\n",
        "class BasicBlockNet(nn.Module):\n",
        "    def __init__(self):\n",
        "        super().__init__()\n",
        "\n",
        "        self.conv1 = nn.Conv2d(3, 32, kernel_size=3, padding=1)\n",
        "        self.bn1 = nn.BatchNorm2d(32)\n",
        "        self.relu = nn.ReLU(inplace=True)\n",
        "        self.conv2 = nn.Conv2d(32, 32, kernel_size=3, padding=1)\n",
        "        self.bn2 = nn.BatchNorm2d(32)\n",
        "        self.skip = nn.Conv2d(3, 32, kernel_size=1)\n",
        "        self.avgpool = nn.AvgPool2d(kernel_size=8)\n",
        "        self.fc = nn.Linear(32 * 4 * 4, 10)\n",
        "\n",
        "    def forward(self, x):\n",
        "        identity = self.skip(x)\n",
        "        out = self.conv1(x)\n",
        "        out = self.bn1(out)\n",
        "        out = self.relu(out)\n",
        "        out = self.conv2(out)\n",
        "        out = self.bn2(out)\n",
        "        out += identity\n",
        "        out = self.relu(out)\n",
        "        out = self.avgpool(out)\n",
        "        out = out.view(out.size(0), -1)\n",
        "        out = self.fc(out)\n",
        "\n",
        "        return out"
      ]
    },
    {
      "cell_type": "code",
      "execution_count": 8,
      "metadata": {
        "id": "FI4BQg7Ky6Pw",
        "pycharm": {
          "name": "#%%\n"
        },
        "colab": {
          "base_uri": "https://localhost:8080/"
        },
        "outputId": "4a13af66-1123-4480-aae3-1aef6e2640ed"
      },
      "outputs": [
        {
          "output_type": "execute_result",
          "data": {
            "text/plain": [
              "BasicBlockNet(\n",
              "  (conv1): Conv2d(3, 32, kernel_size=(3, 3), stride=(1, 1), padding=(1, 1))\n",
              "  (bn1): BatchNorm2d(32, eps=1e-05, momentum=0.1, affine=True, track_running_stats=True)\n",
              "  (relu): ReLU(inplace=True)\n",
              "  (conv2): Conv2d(32, 32, kernel_size=(3, 3), stride=(1, 1), padding=(1, 1))\n",
              "  (bn2): BatchNorm2d(32, eps=1e-05, momentum=0.1, affine=True, track_running_stats=True)\n",
              "  (skip): Conv2d(3, 32, kernel_size=(1, 1), stride=(1, 1))\n",
              "  (avgpool): AvgPool2d(kernel_size=8, stride=8, padding=0)\n",
              "  (fc): Linear(in_features=512, out_features=10, bias=True)\n",
              ")"
            ]
          },
          "metadata": {},
          "execution_count": 8
        }
      ],
      "source": [
        "net = BasicBlockNet()\n",
        "net"
      ]
    },
    {
      "cell_type": "markdown",
      "metadata": {
        "id": "igPoGZEub8d3",
        "pycharm": {
          "name": "#%% md\n"
        }
      },
      "source": [
        "Проверим, что выход сети имеет корректную размерность:"
      ]
    },
    {
      "cell_type": "code",
      "execution_count": 9,
      "metadata": {
        "id": "cCIzFUpJ_Agw",
        "pycharm": {
          "name": "#%%\n"
        }
      },
      "outputs": [],
      "source": [
        "assert net(torch.zeros((10, 3, 32, 32))).shape == (10, 10)"
      ]
    },
    {
      "cell_type": "markdown",
      "metadata": {
        "id": "08osX622cDGz",
        "pycharm": {
          "name": "#%% md\n"
        }
      },
      "source": [
        "Чтобы проводить вычисления на GPU, в PyTorch необходимо руками перекладывать объекты, с которыми вы хотите проводить вычисления, на графический ускоритель. Это делается следующим образрм:"
      ]
    },
    {
      "cell_type": "code",
      "execution_count": 10,
      "metadata": {
        "id": "56hDOMCFcDZX",
        "pycharm": {
          "name": "#%%\n"
        },
        "colab": {
          "base_uri": "https://localhost:8080/"
        },
        "outputId": "6ec6f1f8-e72d-4110-d1d8-50934cfce8ee"
      },
      "outputs": [
        {
          "output_type": "stream",
          "name": "stdout",
          "text": [
            "cuda:0\n"
          ]
        }
      ],
      "source": [
        "device = torch.device(\"cuda:0\" if torch.cuda.is_available() else \"cpu\")\n",
        "print(device)"
      ]
    },
    {
      "cell_type": "code",
      "execution_count": 11,
      "metadata": {
        "id": "ohnDWbp0qbtC",
        "pycharm": {
          "name": "#%%\n"
        }
      },
      "outputs": [],
      "source": [
        "net = net.to(device)"
      ]
    },
    {
      "cell_type": "markdown",
      "metadata": {
        "id": "H_bOlTVUp5QF",
        "pycharm": {
          "name": "#%% md\n"
        }
      },
      "source": [
        "Подключение GPU в google.colab:\n",
        "\n",
        "**Среда выполнения** -> **Сменить среду выполнения** -> **Аппаратный ускоритель** -> **GPU**"
      ]
    },
    {
      "cell_type": "markdown",
      "metadata": {
        "id": "AGi6XX_7_Bgg",
        "pycharm": {
          "name": "#%% md\n"
        }
      },
      "source": [
        "## 2. Обучение и тестирование модели (3 балла)"
      ]
    },
    {
      "cell_type": "markdown",
      "metadata": {
        "id": "0agj_MQoO9Ds",
        "pycharm": {
          "name": "#%% md\n"
        }
      },
      "source": [
        "**Задание 2.1 (2 балла).** Переходим к обучению модели. Заполните пропуски в функциях <code>test</code> и <code>train_epoch</code>. В качестве функции потерь будем использовать [кросс-энтропию](https://pytorch.org/docs/stable/generated/torch.nn.functional.cross_entropy.html), а в качестве метрики качества accuracy."
      ]
    },
    {
      "cell_type": "code",
      "execution_count": 12,
      "metadata": {
        "id": "g8gsPPRIevDS",
        "pycharm": {
          "name": "#%%\n"
        }
      },
      "outputs": [],
      "source": [
        "def test(model, loader):\n",
        "    loss_log = []\n",
        "    acc_log = []\n",
        "    model.eval()\n",
        "\n",
        "    with torch.no_grad():\n",
        "        for data, target in loader:\n",
        "            data, target = data.to(device), target.to(device)\n",
        "\n",
        "            outputs = model(data)\n",
        "            loss = F.cross_entropy(outputs, target)\n",
        "            loss_log.append(loss.item())\n",
        "\n",
        "            preds = outputs.argmax(dim=1)\n",
        "            acc = (preds == target).float().mean()\n",
        "            acc_log.append(acc.item())\n",
        "\n",
        "    return np.mean(loss_log), np.mean(acc_log)\n",
        "\n",
        "\n",
        "def train_epoch(model, optimizer, train_loader):\n",
        "    loss_log = []\n",
        "    acc_log = []\n",
        "    model.train()\n",
        "\n",
        "    for data, target in train_loader:\n",
        "        data, target = data.to(device), target.to(device)\n",
        "\n",
        "        optimizer.zero_grad()\n",
        "        outputs = model(data)\n",
        "        loss = F.cross_entropy(outputs, target)\n",
        "        loss.backward()\n",
        "        optimizer.step()\n",
        "\n",
        "        loss_log.append(loss.item())\n",
        "\n",
        "        preds = outputs.argmax(dim=1)\n",
        "        acc = (preds == target).float().mean()\n",
        "        acc_log.append(acc.item())\n",
        "\n",
        "    return loss_log, acc_log\n",
        "\n",
        "\n",
        "def train(model, optimizer, n_epochs, train_loader, val_loader, scheduler=None):\n",
        "    train_loss_log, train_acc_log, val_loss_log, val_acc_log = [], [], [], []\n",
        "\n",
        "    for epoch in range(n_epochs):\n",
        "        train_loss, train_acc = train_epoch(model, optimizer, train_loader)\n",
        "        val_loss, val_acc = test(model, val_loader)\n",
        "\n",
        "        train_loss_log.extend(train_loss)\n",
        "        train_acc_log.extend(train_acc)\n",
        "\n",
        "        val_loss_log.append(val_loss)\n",
        "        val_acc_log.append(val_acc)\n",
        "\n",
        "        print(f\"Epoch {epoch}\")\n",
        "        print(f\" train loss: {np.mean(train_loss)}, train acc: {np.mean(train_acc)}\")\n",
        "        print(f\" val loss: {val_loss}, val acc: {val_acc}\\n\")\n",
        "\n",
        "        if scheduler is not None:\n",
        "            scheduler.step()\n",
        "\n",
        "    return train_loss_log, train_acc_log, val_loss_log, val_acc_log"
      ]
    },
    {
      "cell_type": "markdown",
      "metadata": {
        "id": "iSOqk_CAO9Dt",
        "pycharm": {
          "name": "#%% md\n"
        }
      },
      "source": [
        "Запустим обучение модели. В качестве оптимизатора будем использовать стохастический градиентный спуск, который является де-факто стандартом в задачах компьютерного зрения (наравне с <code>Adam</code>).\n",
        "\n",
        "__Замечание:__ Для достижения наилучшего качества в нашем случае потребуется обучать модель несколько сотен эпох. Однако в целях экономии вашего времени и сил, во всех экспериментах мы ограничимся 20 эпохами."
      ]
    },
    {
      "cell_type": "code",
      "execution_count": 13,
      "metadata": {
        "id": "MKZBGhuAgMDu",
        "pycharm": {
          "name": "#%%\n"
        },
        "scrolled": true,
        "colab": {
          "base_uri": "https://localhost:8080/"
        },
        "collapsed": true,
        "outputId": "522e5570-8558-4438-bd42-a4898ba20180"
      },
      "outputs": [
        {
          "output_type": "stream",
          "name": "stdout",
          "text": [
            "Epoch 0\n",
            " train loss: 1.4935143897258822, train acc: 0.4683949791535163\n",
            " val loss: 1.3012737882898209, val acc: 0.538984929120287\n",
            "\n",
            "Epoch 1\n",
            " train loss: 1.189927537436895, train acc: 0.5856130844496286\n",
            " val loss: 1.1327335071056448, val acc: 0.6027482269926274\n",
            "\n",
            "Epoch 2\n",
            " train loss: 1.0711584626211763, train acc: 0.6268199921961894\n",
            " val loss: 1.0670857832786884, val acc: 0.6256648936170213\n",
            "\n",
            "Epoch 3\n",
            " train loss: 1.013031041927268, train acc: 0.6493536171791104\n",
            " val loss: 1.0087395518384081, val acc: 0.6551861702127659\n",
            "\n",
            "Epoch 4\n",
            " train loss: 0.9805139427429144, train acc: 0.6584535780510911\n",
            " val loss: 0.9580486064261579, val acc: 0.6681515957446809\n",
            "\n",
            "Epoch 5\n",
            " train loss: 0.94273848551065, train acc: 0.6699774745831324\n",
            " val loss: 1.021299040824809, val acc: 0.6518838654173181\n",
            "\n",
            "Epoch 6\n",
            " train loss: 0.922312077700111, train acc: 0.6817584552102377\n",
            " val loss: 0.9652991941634644, val acc: 0.6639849292471054\n",
            "\n",
            "Epoch 7\n",
            " train loss: 0.8979412543926204, train acc: 0.6887731784222548\n",
            " val loss: 0.9253372136582719, val acc: 0.6830895390916378\n",
            "\n",
            "Epoch 8\n",
            " train loss: 0.8838184839846666, train acc: 0.6941678637342436\n",
            " val loss: 0.9587369436913348, val acc: 0.6707446808510639\n",
            "\n",
            "Epoch 9\n",
            " train loss: 0.8719237325832221, train acc: 0.6964244907909163\n",
            " val loss: 0.9310563675900723, val acc: 0.6772606382978723\n",
            "\n",
            "Epoch 10\n",
            " train loss: 0.8577550841423885, train acc: 0.7025700248573554\n",
            " val loss: 0.9020549992297558, val acc: 0.69038120584285\n",
            "\n",
            "Epoch 11\n",
            " train loss: 0.8399406442149684, train acc: 0.7088298185216008\n",
            " val loss: 0.9019466570083131, val acc: 0.6877216313747649\n",
            "\n",
            "Epoch 12\n",
            " train loss: 0.8340438157592439, train acc: 0.7121188627518509\n",
            " val loss: 0.9733895743146855, val acc: 0.6661347518575952\n",
            "\n",
            "Epoch 13\n",
            " train loss: 0.8273510882797799, train acc: 0.7141918582497828\n",
            " val loss: 0.9380574175652038, val acc: 0.6800753547790203\n",
            "\n",
            "Epoch 14\n",
            " train loss: 0.8118706018114002, train acc: 0.7209209324672845\n",
            " val loss: 0.8919496835546291, val acc: 0.695190602921425\n",
            "\n",
            "Epoch 15\n",
            " train loss: 0.8064515425583563, train acc: 0.7200150170535449\n",
            " val loss: 0.8733044309818998, val acc: 0.7005762412192974\n",
            "\n",
            "Epoch 16\n",
            " train loss: 0.7997601636476012, train acc: 0.7251403761084381\n",
            " val loss: 0.8930430375515146, val acc: 0.6966312058428501\n",
            "\n",
            "Epoch 17\n",
            " train loss: 0.7919062974792948, train acc: 0.7234264821413449\n",
            " val loss: 0.9570935807329544, val acc: 0.6752659574468085\n",
            "\n",
            "Epoch 18\n",
            " train loss: 0.7796780415274326, train acc: 0.7300739423448468\n",
            " val loss: 0.8964327807122089, val acc: 0.6946808510638298\n",
            "\n",
            "Epoch 19\n",
            " train loss: 0.7782429189198196, train acc: 0.730906405113297\n",
            " val loss: 0.8949288150097462, val acc: 0.6896054965384463\n",
            "\n"
          ]
        }
      ],
      "source": [
        "optimizer = optim.SGD(net.parameters(), lr=0.1, momentum=0.9)\n",
        "train_loss_log, train_acc_log, val_loss_log, val_acc_log = train(\n",
        "    net, optimizer, 20, train_loader, val_loader\n",
        ")"
      ]
    },
    {
      "cell_type": "markdown",
      "metadata": {
        "id": "gUb1jQW8O9Dt",
        "pycharm": {
          "name": "#%% md\n"
        }
      },
      "source": [
        "Посчитайте точность на тестовой выборке:"
      ]
    },
    {
      "cell_type": "code",
      "execution_count": 15,
      "metadata": {
        "id": "Jyuc55B9_Amc",
        "pycharm": {
          "name": "#%%\n"
        },
        "colab": {
          "base_uri": "https://localhost:8080/"
        },
        "outputId": "d0e51415-eff8-413a-afb0-ccacfbcc8af7"
      },
      "outputs": [
        {
          "output_type": "stream",
          "name": "stdout",
          "text": [
            "Test loss: 0.919, \n",
            "Test accuracy: 0.685\n"
          ]
        }
      ],
      "source": [
        "test_loss, test_acc = test(net, test_loader)\n",
        "print(f\"Test loss: {test_loss:.3f}, \\nTest accuracy: {test_acc:.3f}\")"
      ]
    },
    {
      "cell_type": "markdown",
      "metadata": {
        "id": "zM38Q9fwO9Dt",
        "pycharm": {
          "name": "#%% md\n"
        }
      },
      "source": [
        "Если вы все сделали правильно, у вас должна была получиться точность $\\ge 67\\%$."
      ]
    },
    {
      "cell_type": "markdown",
      "metadata": {
        "id": "DHFNSKcoO9Dt",
        "pycharm": {
          "name": "#%% md\n"
        }
      },
      "source": [
        "**Задание 2.2 (1 балл).** Постройте графики зависимости функции потерь и точности классификации от номера шага оптимизатора. На каждом графике расположите данные и для обучающей и для валидационной выборки, итого у вас должно получиться два графика. Обратите внимание, что на обучающей выборке эти данные считаются по каждому батчу, на валидационной же они считаются по всей выборке раз в эпоху."
      ]
    },
    {
      "cell_type": "code",
      "execution_count": 16,
      "metadata": {
        "id": "LzIP0tGLO9Dt",
        "pycharm": {
          "name": "#%%\n"
        },
        "colab": {
          "base_uri": "https://localhost:8080/",
          "height": 507
        },
        "outputId": "c637f4b5-d05e-4f41-aef5-772711eae5e2"
      },
      "outputs": [
        {
          "output_type": "display_data",
          "data": {
            "text/plain": [
              "<Figure size 1200x500 with 2 Axes>"
            ],
            "image/png": "[encoded data removed]"
          },
          "metadata": {}
        }
      ],
      "source": [
        "# График функции потерь\n",
        "plt.figure(figsize=(12, 5))\n",
        "plt.subplot(1, 2, 1)\n",
        "plt.plot(train_loss_log, label='Train loss')\n",
        "plt.plot(\n",
        "    np.linspace(0, len(train_loss_log), len(val_loss_log), endpoint=False),\n",
        "    val_loss_log, label='Validation loss', marker='o'\n",
        ")\n",
        "plt.xlabel('Шаг оптимизатора')\n",
        "plt.ylabel('Loss')\n",
        "plt.title('Зависимость функции потерь от шага')\n",
        "plt.legend()\n",
        "plt.grid()\n",
        "\n",
        "# График точности\n",
        "plt.subplot(1, 2, 2)\n",
        "plt.plot(train_acc_log, label='Train accuracy')\n",
        "plt.plot(\n",
        "    np.linspace(0, len(train_acc_log), len(val_acc_log), endpoint=False),\n",
        "    val_acc_log, label='Validation accuracy', marker='o'\n",
        ")\n",
        "plt.xlabel('Шаг оптимизатора')\n",
        "plt.ylabel('Accuracy')\n",
        "plt.title('Зависимость точности от шага')\n",
        "plt.legend()\n",
        "plt.grid()\n",
        "\n",
        "plt.tight_layout()\n",
        "plt.show()"
      ]
    },
    {
      "cell_type": "markdown",
      "metadata": {
        "id": "_ttOJPj-O9Dt",
        "pycharm": {
          "name": "#%% md\n"
        }
      },
      "source": [
        "## 3. Расписание длины шага (2 балла)"
      ]
    },
    {
      "cell_type": "markdown",
      "metadata": {
        "id": "qiz3JstuO9Dt",
        "pycharm": {
          "name": "#%% md\n"
        }
      },
      "source": [
        "С курса \"Машинное обучение\" вы уже должны знать, что сходимость стохастического градиентного спуска мы можем теоретически гарантировать только если будем определенным образом со временем уменьшать длину шага. На практике при обучении нейронных сетей такая техника оказывается очень полезной, однако теоретически обоснованными способами уменьшения длины шага фантазия не ограничивается.\n",
        "\n",
        "Одним из простейших способов является кусочно постоянная функция: на нескольких фиксированных эпохах уменьшаем длину шага в константу раз."
      ]
    },
    {
      "cell_type": "code",
      "execution_count": 17,
      "metadata": {
        "id": "V2Z0OT3nO9Du",
        "pycharm": {
          "name": "#%%\n"
        },
        "colab": {
          "base_uri": "https://localhost:8080/"
        },
        "collapsed": true,
        "outputId": "ede8a634-767d-4422-d675-0c27c0fae2a4"
      },
      "outputs": [
        {
          "output_type": "stream",
          "name": "stdout",
          "text": [
            "Epoch 0\n",
            " train loss: 1.493124875115738, train acc: 0.4656364259597806\n",
            " val loss: 1.3105818504982807, val acc: 0.5319813829787234\n",
            "\n",
            "Epoch 1\n",
            " train loss: 1.195531546197818, train acc: 0.5787452664192242\n",
            " val loss: 1.229536485925634, val acc: 0.5819370569066799\n",
            "\n",
            "Epoch 2\n",
            " train loss: 1.0664812518212217, train acc: 0.6299621311358603\n",
            " val loss: 1.1187054707648907, val acc: 0.6163563829787234\n",
            "\n",
            "Epoch 3\n",
            " train loss: 1.0036620749416036, train acc: 0.6523039631913305\n",
            " val loss: 1.0201387352131783, val acc: 0.6472960994598713\n",
            "\n",
            "Epoch 4\n",
            " train loss: 0.967079993357824, train acc: 0.6613794398482147\n",
            " val loss: 1.023754031861082, val acc: 0.6446143617021277\n",
            "\n",
            "Epoch 5\n",
            " train loss: 0.9304312315022052, train acc: 0.6774084291248914\n",
            " val loss: 1.0991284588549999, val acc: 0.6303413122258288\n",
            "\n",
            "Epoch 6\n",
            " train loss: 0.9112873548127616, train acc: 0.6812075607519481\n",
            " val loss: 1.063495746571967, val acc: 0.6498226952045522\n",
            "\n",
            "Epoch 7\n",
            " train loss: 0.8881402516931677, train acc: 0.6907768020682187\n",
            " val loss: 0.980498294373776, val acc: 0.6619902483960416\n",
            "\n",
            "Epoch 8\n",
            " train loss: 0.873625904920986, train acc: 0.6958695155393053\n",
            " val loss: 0.9701040782827012, val acc: 0.6649157803109351\n",
            "\n",
            "Epoch 9\n",
            " train loss: 0.8580007918138173, train acc: 0.7010234396026165\n",
            " val loss: 0.9594512900139424, val acc: 0.6701684398854032\n",
            "\n",
            "Epoch 10\n",
            " train loss: 0.7594104076325349, train acc: 0.7382435035879913\n",
            " val loss: 0.8297850977867207, val acc: 0.7167996454746165\n",
            "\n",
            "Epoch 11\n",
            " train loss: 0.7373775432271104, train acc: 0.7447930269311072\n",
            " val loss: 0.8265943268512158, val acc: 0.7176418441407224\n",
            "\n",
            "Epoch 12\n",
            " train loss: 0.7316693990496438, train acc: 0.7472496082839408\n",
            " val loss: 0.8279701074387165, val acc: 0.7174645390916378\n",
            "\n",
            "Epoch 13\n",
            " train loss: 0.725244883590904, train acc: 0.7499102246172903\n",
            " val loss: 0.8332856208720105, val acc: 0.7164007093044038\n",
            "\n",
            "Epoch 14\n",
            " train loss: 0.7227372864373641, train acc: 0.7513588731206096\n",
            " val loss: 0.8240249479070623, val acc: 0.7192375888215735\n",
            "\n",
            "Epoch 15\n",
            " train loss: 0.7071994957148048, train acc: 0.7563006007257284\n",
            " val loss: 0.81575095095533, val acc: 0.7227615249917863\n",
            "\n",
            "Epoch 16\n",
            " train loss: 0.7040197841101198, train acc: 0.758491936614788\n",
            " val loss: 0.8153133950334914, val acc: 0.7235593973322118\n",
            "\n",
            "Epoch 17\n",
            " train loss: 0.7028784333460946, train acc: 0.7591162837183671\n",
            " val loss: 0.8149085339079511, val acc: 0.7218971632896586\n",
            "\n",
            "Epoch 18\n",
            " train loss: 0.7034193782418476, train acc: 0.7583491121175302\n",
            " val loss: 0.8145593398428977, val acc: 0.7230939718002969\n",
            "\n",
            "Epoch 19\n",
            " train loss: 0.7034285856339352, train acc: 0.758500097983498\n",
            " val loss: 0.8138343822448811, val acc: 0.7232934398854033\n",
            "\n"
          ]
        }
      ],
      "source": [
        "net = BasicBlockNet().to(device)\n",
        "optimizer = optim.SGD(net.parameters(), lr=0.1, momentum=0.9)\n",
        "scheduler = optim.lr_scheduler.MultiStepLR(optimizer, milestones=[10, 15], gamma=0.1)\n",
        "tr_loss_log, tr_acc_log, val_loss_log, val_acc_log = train(\n",
        "    net, optimizer, 20, train_loader, val_loader, scheduler\n",
        ")"
      ]
    },
    {
      "cell_type": "markdown",
      "metadata": {
        "id": "5Xc76KvzO9Du",
        "pycharm": {
          "name": "#%% md\n"
        }
      },
      "source": [
        "Посчитайте точность на тестовой выборке:"
      ]
    },
    {
      "cell_type": "code",
      "execution_count": 18,
      "metadata": {
        "id": "1AjiYhKqO9Du",
        "pycharm": {
          "name": "#%%\n"
        },
        "colab": {
          "base_uri": "https://localhost:8080/"
        },
        "outputId": "7737776a-b19c-4b57-e2da-1494f7eab684"
      },
      "outputs": [
        {
          "output_type": "stream",
          "name": "stdout",
          "text": [
            "Test loss: 0.831, \n",
            "Test accuracy: 0.712\n"
          ]
        }
      ],
      "source": [
        "test_loss, test_acc = test(net, test_loader)\n",
        "print(f\"Test loss: {test_loss:.3f}, \\nTest accuracy: {test_acc:.3f}\")"
      ]
    },
    {
      "cell_type": "markdown",
      "metadata": {
        "id": "yE0dgLYrO9Du",
        "pycharm": {
          "name": "#%% md\n"
        }
      },
      "source": [
        "**Задание 3.0 (0.5 баллов).** Здесь может возникнуть вопрос: а что будет, если мы не будем уменьшать длину шага в процессе обучения, а сразу возьмем констатную, равную значению нашей кусочно-постоянной функции на последних эпохах, то есть $0.001$ в нашем случае. Запустите обучение и проверьте, что в таком случае мы получим худшее качество на тестовой выборке."
      ]
    },
    {
      "cell_type": "code",
      "execution_count": 19,
      "metadata": {
        "id": "qZ2iB-LBO9Du",
        "pycharm": {
          "name": "#%%\n"
        },
        "colab": {
          "base_uri": "https://localhost:8080/"
        },
        "outputId": "8c430a88-9c1f-4d4d-f2cb-fa1cdae4aaf7"
      },
      "outputs": [
        {
          "output_type": "stream",
          "name": "stdout",
          "text": [
            "Epoch 0\n",
            " train loss: 1.8221214789577114, train acc: 0.3655735832354704\n",
            " val loss: 1.6139664690545266, val acc: 0.4387854610351806\n",
            "\n",
            "Epoch 1\n",
            " train loss: 1.5366711178471009, train acc: 0.463587914622462\n",
            " val loss: 1.4461223744331522, val acc: 0.4930851063829787\n",
            "\n",
            "Epoch 2\n",
            " train loss: 1.4126955673943054, train acc: 0.5070106425276623\n",
            " val loss: 1.363420356080887, val acc: 0.5206781914893617\n",
            "\n",
            "Epoch 3\n",
            " train loss: 1.3430387533560968, train acc: 0.5291647623400365\n",
            " val loss: 1.3190424594473331, val acc: 0.5418218085106383\n",
            "\n",
            "Epoch 4\n",
            " train loss: 1.2932352035747368, train acc: 0.5486541852436728\n",
            " val loss: 1.266220153899903, val acc: 0.5532358156873824\n",
            "\n",
            "Epoch 5\n",
            " train loss: 1.2490683082470728, train acc: 0.5636262732406421\n",
            " val loss: 1.218862546504812, val acc: 0.571343085106383\n",
            "\n",
            "Epoch 6\n",
            " train loss: 1.2092981715524873, train acc: 0.5771701162650337\n",
            " val loss: 1.198789790336122, val acc: 0.5776374114320634\n",
            "\n",
            "Epoch 7\n",
            " train loss: 1.183236449030679, train acc: 0.5850458671449525\n",
            " val loss: 1.1633379385826434, val acc: 0.5905585106382979\n",
            "\n",
            "Epoch 8\n",
            " train loss: 1.151177835420891, train acc: 0.5988467942644081\n",
            " val loss: 1.1379670835555868, val acc: 0.5992021276595745\n",
            "\n",
            "Epoch 9\n",
            " train loss: 1.1297936328368388, train acc: 0.6065878820157792\n",
            " val loss: 1.1118485280807981, val acc: 0.6114583333756062\n",
            "\n",
            "Epoch 10\n",
            " train loss: 1.104044969600559, train acc: 0.6152593692870201\n",
            " val loss: 1.1299685993093125, val acc: 0.6050753546522019\n",
            "\n",
            "Epoch 11\n",
            " train loss: 1.0801648273110607, train acc: 0.6231677657507455\n",
            " val loss: 1.0743000367854505, val acc: 0.6259973404255319\n",
            "\n",
            "Epoch 12\n",
            " train loss: 1.0606682134938632, train acc: 0.632426873857404\n",
            " val loss: 1.0472396201275764, val acc: 0.6345523050490846\n",
            "\n",
            "Epoch 13\n",
            " train loss: 1.0367588420454719, train acc: 0.6420287608664476\n",
            " val loss: 1.0387893237966173, val acc: 0.643218085106383\n",
            "\n",
            "Epoch 14\n",
            " train loss: 1.0200325356323061, train acc: 0.6452280296050217\n",
            " val loss: 1.024721548912373, val acc: 0.649468085106383\n",
            "\n",
            "Epoch 15\n",
            " train loss: 1.0028972241080876, train acc: 0.6542504570383912\n",
            " val loss: 1.0057643644353176, val acc: 0.6520390071767441\n",
            "\n",
            "Epoch 16\n",
            " train loss: 0.9841500641658929, train acc: 0.6596165774509284\n",
            " val loss: 0.9910298948592328, val acc: 0.6553413122258288\n",
            "\n",
            "Epoch 17\n",
            " train loss: 0.9721833353068754, train acc: 0.6636972773881455\n",
            " val loss: 1.0026579532217472, val acc: 0.6471409574468086\n",
            "\n",
            "Epoch 18\n",
            " train loss: 0.9574943102038103, train acc: 0.6669291917105261\n",
            " val loss: 0.963964137625187, val acc: 0.6683067377577436\n",
            "\n",
            "Epoch 19\n",
            " train loss: 0.9481422594957857, train acc: 0.6726503330785134\n",
            " val loss: 0.9638273543499886, val acc: 0.6650487590343395\n",
            "\n",
            "Test loss (small lr): 0.973, \n",
            "Test accuracy: 0.663\n"
          ]
        }
      ],
      "source": [
        "net = BasicBlockNet().to(device)\n",
        "optimizer = optim.SGD(net.parameters(), lr=0.001, momentum=0.9)\n",
        "tr_loss_log, tr_acc_log, val_loss_log, val_acc_log = train(\n",
        "    net, optimizer, 20, train_loader, val_loader\n",
        ")\n",
        "\n",
        "test_loss, test_acc = test(net, test_loader)\n",
        "print(f\"Test loss (small lr): {test_loss:.3f}, \\nTest accuracy: {test_acc:.3f}\")"
      ]
    },
    {
      "cell_type": "markdown",
      "metadata": {
        "id": "xVotU378O9Du",
        "pycharm": {
          "name": "#%% md\n"
        }
      },
      "source": [
        "**Задание 3.1 (1.5 балла).** Изучите, какие еще способы уменьшения длины шага представлены в <code>torch.optim.lr_scheduler</code>. Выберите несколько из них, объясните, как они устроены, и обучите модель с ними. Удалось ли добиться улучшения качества на тестовой выборке?"
      ]
    },
    {
      "cell_type": "code",
      "execution_count": 20,
      "metadata": {
        "id": "nkGlzocOO9Du",
        "pycharm": {
          "name": "#%%\n"
        },
        "colab": {
          "base_uri": "https://localhost:8080/"
        },
        "outputId": "e642b425-7c72-40f7-e3b6-e0d98b5f8b30"
      },
      "outputs": [
        {
          "output_type": "stream",
          "name": "stdout",
          "text": [
            "Epoch 0\n",
            " train loss: 1.452659898200898, train acc: 0.483587424977388\n",
            " val loss: 1.2030610467525238, val acc: 0.5776374114320634\n",
            "\n",
            "Epoch 1\n",
            " train loss: 1.1353623205608598, train acc: 0.6038823779365916\n",
            " val loss: 1.117222429843659, val acc: 0.6146054965384463\n",
            "\n",
            "Epoch 2\n",
            " train loss: 1.0234235147017665, train acc: 0.6443670018281535\n",
            " val loss: 1.0622416410040347, val acc: 0.6348625888215734\n",
            "\n",
            "Epoch 3\n",
            " train loss: 0.9732869192276837, train acc: 0.6618446396081495\n",
            " val loss: 0.9844977282463236, val acc: 0.6607269505237011\n",
            "\n",
            "Epoch 4\n",
            " train loss: 0.9327892026909962, train acc: 0.6747110865233803\n",
            " val loss: 1.0142810293968687, val acc: 0.6554299646235527\n",
            "\n",
            "Epoch 5\n",
            " train loss: 0.8990858193943226, train acc: 0.6879815226063214\n",
            " val loss: 0.9351517618970668, val acc: 0.6758200356300841\n",
            "\n",
            "Epoch 6\n",
            " train loss: 0.8753096855754608, train acc: 0.6931844150998256\n",
            " val loss: 0.9380140383192833, val acc: 0.6734485816448292\n",
            "\n",
            "Epoch 7\n",
            " train loss: 0.8510098842532805, train acc: 0.7049694764112859\n",
            " val loss: 0.9333476150289495, val acc: 0.6829787234042554\n",
            "\n",
            "Epoch 8\n",
            " train loss: 0.8290370382382185, train acc: 0.710013221561146\n",
            " val loss: 0.8989993031988752, val acc: 0.6964317377577437\n",
            "\n",
            "Epoch 9\n",
            " train loss: 0.8064030090132405, train acc: 0.7194518804332238\n",
            " val loss: 0.8826581183900224, val acc: 0.6995345744680851\n",
            "\n",
            "Epoch 10\n",
            " train loss: 0.7854142021217555, train acc: 0.725654544298566\n",
            " val loss: 0.892766290776273, val acc: 0.6998670212765957\n",
            "\n",
            "Epoch 11\n",
            " train loss: 0.7666118149892504, train acc: 0.7337669757428074\n",
            " val loss: 0.8658644863899718, val acc: 0.7022828015875309\n",
            "\n",
            "Epoch 12\n",
            " train loss: 0.7475948912896884, train acc: 0.7410183795191471\n",
            " val loss: 0.9029075855904437, val acc: 0.6948803191489362\n",
            "\n",
            "Epoch 13\n",
            " train loss: 0.7286979800713346, train acc: 0.7477188888371972\n",
            " val loss: 0.8920426414368, val acc: 0.6975842199427016\n",
            "\n",
            "Epoch 14\n",
            " train loss: 0.7129473436140273, train acc: 0.7551539240633112\n",
            " val loss: 0.8615883704195632, val acc: 0.7123448582405739\n",
            "\n",
            "Epoch 15\n",
            " train loss: 0.6983956269633835, train acc: 0.7588551189389482\n",
            " val loss: 0.8600552945695025, val acc: 0.7088209220703612\n",
            "\n",
            "Epoch 16\n",
            " train loss: 0.6887163050758773, train acc: 0.7627154610492629\n",
            " val loss: 0.8216910656462324, val acc: 0.7228280143534883\n",
            "\n",
            "Epoch 17\n",
            " train loss: 0.6768076788136902, train acc: 0.7659473753716436\n",
            " val loss: 0.8165005441675794, val acc: 0.7265514186088075\n",
            "\n",
            "Epoch 18\n",
            " train loss: 0.6675911770224353, train acc: 0.7698689279652164\n",
            " val loss: 0.815721166260699, val acc: 0.7264184398854032\n",
            "\n",
            "Epoch 19\n",
            " train loss: 0.6624238064454722, train acc: 0.7724928180304045\n",
            " val loss: 0.8104938106333955, val acc: 0.7287455675449778\n",
            "\n",
            "Epoch 0\n",
            " train loss: 1.4746359070214754, train acc: 0.4733693523424417\n",
            " val loss: 1.2734909004353463, val acc: 0.5480053191489361\n",
            "\n",
            "Epoch 1\n",
            " train loss: 1.1729061610084128, train acc: 0.5894938299817185\n",
            " val loss: 1.1687047582991579, val acc: 0.5904476952045522\n",
            "\n",
            "Epoch 2\n",
            " train loss: 1.0551268906218478, train acc: 0.6335694698354661\n",
            " val loss: 1.0816652541464948, val acc: 0.6256205675449777\n",
            "\n",
            "Epoch 3\n",
            " train loss: 0.9995439111423666, train acc: 0.6528507769652651\n",
            " val loss: 1.0127184992140912, val acc: 0.6428191489361702\n",
            "\n",
            "Epoch 4\n",
            " train loss: 0.9597264803959639, train acc: 0.6692021416135854\n",
            " val loss: 0.958857924380201, val acc: 0.6684618795171697\n",
            "\n",
            "Epoch 5\n",
            " train loss: 0.929423381685121, train acc: 0.6773961870718264\n",
            " val loss: 0.9852670735501229, val acc: 0.6610815603682335\n",
            "\n",
            "Epoch 6\n",
            " train loss: 0.907072126865387, train acc: 0.6857779446641967\n",
            " val loss: 0.9745987438141032, val acc: 0.6679521276595745\n",
            "\n",
            "Epoch 7\n",
            " train loss: 0.8024298961136416, train acc: 0.7234468856720864\n",
            " val loss: 0.8601082002862971, val acc: 0.7046764184819891\n",
            "\n",
            "Epoch 8\n",
            " train loss: 0.7862940141880098, train acc: 0.7289721533193013\n",
            " val loss: 0.8676316674719465, val acc: 0.7012189716734785\n",
            "\n",
            "Epoch 9\n",
            " train loss: 0.7777247744351898, train acc: 0.7328814638598091\n",
            " val loss: 0.8717460447169365, val acc: 0.7027703901554676\n",
            "\n",
            "Epoch 10\n",
            " train loss: 0.7727707311701731, train acc: 0.7329059480749057\n",
            " val loss: 0.8533591912147847, val acc: 0.705252659574468\n",
            "\n",
            "Epoch 11\n",
            " train loss: 0.7673055369958581, train acc: 0.7354767890255456\n",
            " val loss: 0.8520385557032646, val acc: 0.7084219859001485\n",
            "\n",
            "Epoch 12\n",
            " train loss: 0.7645553275806595, train acc: 0.7367581288165105\n",
            " val loss: 0.8604542767747919, val acc: 0.7064937944107867\n",
            "\n",
            "Epoch 13\n",
            " train loss: 0.755301835604516, train acc: 0.7394921977951496\n",
            " val loss: 0.8597598415739993, val acc: 0.707158688027808\n",
            "\n",
            "Epoch 14\n",
            " train loss: 0.7269004382315676, train acc: 0.7508732698299331\n",
            " val loss: 0.830924040459572, val acc: 0.7179078015875309\n",
            "\n",
            "Epoch 15\n",
            " train loss: 0.7231588593566658, train acc: 0.7522933534338008\n",
            " val loss: 0.83308524628903, val acc: 0.7155806739279564\n",
            "\n",
            "Epoch 16\n",
            " train loss: 0.7225652339253609, train acc: 0.7522892727494458\n",
            " val loss: 0.830186488273296, val acc: 0.7181959220703612\n",
            "\n",
            "Epoch 17\n",
            " train loss: 0.7197474972421551, train acc: 0.7527095847635427\n",
            " val loss: 0.8282264143862623, val acc: 0.7164671986661059\n",
            "\n",
            "Epoch 18\n",
            " train loss: 0.7166004257729546, train acc: 0.7549662119291818\n",
            " val loss: 0.8271585359218273, val acc: 0.7164450356300841\n",
            "\n",
            "Epoch 19\n",
            " train loss: 0.7173738695912649, train acc: 0.7536073388085722\n",
            " val loss: 0.8278001450477762, val acc: 0.716001773134191\n",
            "\n",
            "Epoch 0\n",
            " train loss: 1.5214965251943529, train acc: 0.4583727801303759\n",
            " val loss: 1.3203984088086067, val acc: 0.5271054965384463\n",
            "\n",
            "Epoch 1\n",
            " train loss: 1.1857398006336344, train acc: 0.5832993275940527\n",
            " val loss: 1.174105159018902, val acc: 0.5975177305809996\n",
            "\n",
            "Epoch 2\n",
            " train loss: 1.0552583741095645, train acc: 0.6335735506287876\n",
            " val loss: 1.1189263260110895, val acc: 0.6036569148936171\n",
            "\n",
            "Epoch 3\n",
            " train loss: 0.9898126422814085, train acc: 0.6528915840267481\n",
            " val loss: 0.9970139526306314, val acc: 0.6544769503968827\n",
            "\n",
            "Epoch 4\n",
            " train loss: 0.9459330535458037, train acc: 0.6690552364319726\n",
            " val loss: 0.9918323334227217, val acc: 0.6560062058428501\n",
            "\n",
            "Epoch 5\n",
            " train loss: 0.919044575590974, train acc: 0.6807015539305301\n",
            " val loss: 0.9916687688928969, val acc: 0.6610150710065315\n",
            "\n",
            "Epoch 6\n",
            " train loss: 0.8891176988917251, train acc: 0.6923927592838922\n",
            " val loss: 0.9698156879303304, val acc: 0.6674645390916378\n",
            "\n",
            "Epoch 7\n",
            " train loss: 0.8627468643938165, train acc: 0.7022925372315499\n",
            " val loss: 0.9072808572586547, val acc: 0.6856382978723404\n",
            "\n",
            "Epoch 8\n",
            " train loss: 0.8429884239350202, train acc: 0.7061243144424132\n",
            " val loss: 0.9010132165665322, val acc: 0.6895390071767442\n",
            "\n",
            "Epoch 9\n",
            " train loss: 0.8241136287640392, train acc: 0.7157547663509083\n",
            " val loss: 0.9186611512874036, val acc: 0.6869015957446809\n",
            "\n",
            "Epoch 10\n",
            " train loss: 0.8088670318479729, train acc: 0.7203169887854804\n",
            " val loss: 0.8782788494799999, val acc: 0.6981161348363186\n",
            "\n",
            "Epoch 11\n",
            " train loss: 0.7937962355626784, train acc: 0.7255362040164048\n",
            " val loss: 0.8975468427576917, val acc: 0.6917331561129144\n",
            "\n",
            "Epoch 12\n",
            " train loss: 0.7811535608289011, train acc: 0.7298086968810729\n",
            " val loss: 0.8717608271761144, val acc: 0.698315602921425\n",
            "\n",
            "Epoch 13\n",
            " train loss: 0.7682519567622998, train acc: 0.7326284604491002\n",
            " val loss: 0.8474819548586582, val acc: 0.7099290781832756\n",
            "\n",
            "Epoch 14\n",
            " train loss: 0.7539494925704691, train acc: 0.7391371768396995\n",
            " val loss: 0.8312446264510459, val acc: 0.7129210994598714\n",
            "\n",
            "Epoch 15\n",
            " train loss: 0.7458449676224257, train acc: 0.7423894946928216\n",
            " val loss: 0.8602975019749175, val acc: 0.7030585106382978\n",
            "\n",
            "Epoch 16\n",
            " train loss: 0.7362297761374897, train acc: 0.7448379146769453\n",
            " val loss: 0.826748952206145, val acc: 0.7142508866939139\n",
            "\n",
            "Epoch 17\n",
            " train loss: 0.7261149804269592, train acc: 0.7501183403911277\n",
            " val loss: 0.8491325791845931, val acc: 0.7126329787234043\n",
            "\n",
            "Epoch 18\n",
            " train loss: 0.7180498220040114, train acc: 0.7520240271767054\n",
            " val loss: 0.845352712717462, val acc: 0.7123891845662543\n",
            "\n",
            "Epoch 19\n",
            " train loss: 0.7107387128434189, train acc: 0.7544479629457324\n",
            " val loss: 0.8365405643239935, val acc: 0.716688829787234\n",
            "\n",
            "CosineAnnealingLR: Test loss: 0.820, test accuracy: 0.716\n",
            "StepLR: Test loss: 0.836, test accuracy: 0.713\n",
            "ExponentialLR: Test loss: 0.858, test accuracy: 0.709\n"
          ]
        }
      ],
      "source": [
        "results = []\n",
        "\n",
        "# CosineAnnealingLR\n",
        "net = BasicBlockNet().to(device)\n",
        "optimizer = optim.SGD(net.parameters(), lr=0.1, momentum=0.9)\n",
        "scheduler = optim.lr_scheduler.CosineAnnealingLR(optimizer, T_max=20, eta_min=0.001)\n",
        "train_loss, train_acc, val_loss, val_acc = train(\n",
        "    net, optimizer, 20, train_loader, val_loader, scheduler\n",
        ")\n",
        "test_loss, test_acc = test(net, test_loader)\n",
        "results.append((\"CosineAnnealingLR\", test_loss, test_acc))\n",
        "\n",
        "# StepLR\n",
        "net = BasicBlockNet().to(device)\n",
        "optimizer = optim.SGD(net.parameters(), lr=0.1, momentum=0.9)\n",
        "scheduler = optim.lr_scheduler.StepLR(optimizer, step_size=7, gamma=0.2)\n",
        "train_loss, train_acc, val_loss, val_acc = train(\n",
        "    net, optimizer, 20, train_loader, val_loader, scheduler\n",
        ")\n",
        "test_loss, test_acc = test(net, test_loader)\n",
        "results.append((\"StepLR\", test_loss, test_acc))\n",
        "\n",
        "# ExponentialLR\n",
        "net = BasicBlockNet().to(device)\n",
        "optimizer = optim.SGD(net.parameters(), lr=0.1, momentum=0.9)\n",
        "scheduler = optim.lr_scheduler.ExponentialLR(optimizer, gamma=0.9)\n",
        "train_loss, train_acc, val_loss, val_acc = train(\n",
        "    net, optimizer, 20, train_loader, val_loader, scheduler\n",
        ")\n",
        "test_loss, test_acc = test(net, test_loader)\n",
        "results.append((\"ExponentialLR\", test_loss, test_acc))\n",
        "\n",
        "# Results\n",
        "for name, loss, acc in results:\n",
        "    print(f\"{name}: Test loss: {loss:.3f}, test accuracy: {acc:.3f}\")"
      ]
    },
    {
      "cell_type": "markdown",
      "metadata": {
        "id": "5a_zMNNVO9Du",
        "pycharm": {
          "name": "#%% md\n"
        }
      },
      "source": [
        "Your answers here:\n",
        "\n",
        "CosineAnnealingLR — постепенно снижает learning rate по косинусной траектории от начального значения до минимального (eta_min) в течение заданного числа эпох (T_max).\n",
        "\n",
        "StepLR — понижает learning rate в фиксированные моменты: каждые step_size эпох, умножая его на коэффициент gamma.\n",
        "\n",
        "ExponentialLR — экспоненциально уменьшает learning rate после каждой эпохи по формуле: lr = lr * gamma."
      ]
    },
    {
      "cell_type": "markdown",
      "metadata": {
        "id": "7xFXgl_3_E--",
        "pycharm": {
          "name": "#%% md\n"
        }
      },
      "source": [
        "## 4. Аугментации данных (2 балла)"
      ]
    },
    {
      "cell_type": "markdown",
      "metadata": {
        "id": "5G0Easo9O9Du",
        "pycharm": {
          "name": "#%% md\n"
        }
      },
      "source": [
        "Еще одной стандартной техникой, применяющейся в глубинном обучении, а особенно часто в компьютерном зрении, являются аугментации данных. Суть аугментаций состоит в том, что мы можем некоторым синтетическим образом видоизменять объекты обучающей выборки, тем самым расширяя ее, а также делая итоговую модель более устойчивой к таким изменениям.\n",
        "\n",
        "Простейшая аугментация, которую можно применить к картинкам — разворот картинки по горизонтальной оси. То есть при обучении модели с вероятностью $0.5$ мы будем разворачивать картинку из обучающей выборки."
      ]
    },
    {
      "cell_type": "code",
      "execution_count": 22,
      "metadata": {
        "id": "SzeFpgtfO9Du",
        "pycharm": {
          "name": "#%%\n"
        },
        "colab": {
          "base_uri": "https://localhost:8080/",
          "height": 369
        },
        "outputId": "6cbb77a6-cf70-4088-d9be-dcb8580ec3e4"
      },
      "outputs": [
        {
          "output_type": "display_data",
          "data": {
            "text/plain": [
              "<Figure size 640x480 with 1 Axes>"
            ],
            "image/png": "[encoded data removed]"
          },
          "metadata": {}
        },
        {
          "output_type": "display_data",
          "data": {
            "text/plain": [
              "<Figure size 640x480 with 1 Axes>"
            ],
            "image/png": "[encoded data removed]"
          },
          "metadata": {}
        }
      ],
      "source": [
        "dataiter = iter(train_loader)\n",
        "images, labels = next(dataiter)\n",
        "\n",
        "imshow(torchvision.utils.make_grid(images[:4]))\n",
        "\n",
        "imshow(torchvision.utils.make_grid(transforms.functional.hflip(images[:4])))"
      ]
    },
    {
      "cell_type": "markdown",
      "metadata": {
        "id": "BR4a-XJQO9Du",
        "pycharm": {
          "name": "#%% md\n"
        }
      },
      "source": [
        "Наиболее удобным способом работы с аугментациями в PyTorch является их задание в списке <code>transforms</code>, который затем передается в загрузчик данных. Обучим нашу сеть, применяя горизонтальные повороты:"
      ]
    },
    {
      "cell_type": "code",
      "execution_count": 23,
      "metadata": {
        "id": "na0ScBf-_AqX",
        "pycharm": {
          "name": "#%%\n"
        },
        "scrolled": true,
        "colab": {
          "base_uri": "https://localhost:8080/"
        },
        "collapsed": true,
        "outputId": "8fc9caa2-1c2f-4852-a3e2-c6ba4b73ccae"
      },
      "outputs": [
        {
          "output_type": "stream",
          "name": "stdout",
          "text": [
            "Epoch 0\n",
            " train loss: 1.4860792194903443, train acc: 0.4681868634886454\n",
            " val loss: 1.2816093498087944, val acc: 0.5434840425531915\n",
            "\n",
            "Epoch 1\n",
            " train loss: 1.1890198784510875, train acc: 0.5830585662364088\n",
            " val loss: 1.1331927165072015, val acc: 0.6050310284533399\n",
            "\n",
            "Epoch 2\n",
            " train loss: 1.0615156018319907, train acc: 0.6292398472808615\n",
            " val loss: 1.0798493651633567, val acc: 0.6261303191489361\n",
            "\n",
            "Epoch 3\n",
            " train loss: 0.9985967635890466, train acc: 0.6532262014514567\n",
            " val loss: 0.9902774534326919, val acc: 0.6584219859001484\n",
            "\n",
            "Epoch 4\n",
            " train loss: 0.9603707406812874, train acc: 0.6661334552102377\n",
            " val loss: 0.9925277679524523, val acc: 0.6533244680851064\n",
            "\n",
            "Epoch 5\n",
            " train loss: 0.9236661657772727, train acc: 0.6777512079183101\n",
            " val loss: 0.9394863083007488, val acc: 0.6699911348363187\n",
            "\n",
            "Epoch 6\n",
            " train loss: 0.9053980948393262, train acc: 0.6884467224752228\n",
            " val loss: 0.9736443689528932, val acc: 0.6606161348363186\n",
            "\n",
            "Epoch 7\n",
            " train loss: 0.893929720251826, train acc: 0.6876632280279993\n",
            " val loss: 0.8925959731670137, val acc: 0.6933289007937654\n",
            "\n",
            "Epoch 8\n",
            " train loss: 0.8764745500449507, train acc: 0.6958001436873371\n",
            " val loss: 0.9128644458791043, val acc: 0.6861258866939138\n",
            "\n",
            "Epoch 9\n",
            " train loss: 0.8544886503402668, train acc: 0.7019375163850662\n",
            " val loss: 0.8682226532317222, val acc: 0.7065824468085107\n",
            "\n",
            "Epoch 10\n",
            " train loss: 0.7680892944335938, train acc: 0.7346892140029335\n",
            " val loss: 0.8086306791356269, val acc: 0.7235593973322118\n",
            "\n",
            "Epoch 11\n",
            " train loss: 0.7531599353937606, train acc: 0.7402389658652451\n",
            " val loss: 0.7996443537955589, val acc: 0.7265735816448293\n",
            "\n",
            "Epoch 12\n",
            " train loss: 0.7457154220484292, train acc: 0.742299719310112\n",
            " val loss: 0.7971388872633589, val acc: 0.7285682624958931\n",
            "\n",
            "Epoch 13\n",
            " train loss: 0.7404925295269249, train acc: 0.7450133847580096\n",
            " val loss: 0.7877697181194386, val acc: 0.7328457446808511\n",
            "\n",
            "Epoch 14\n",
            " train loss: 0.7395854970981696, train acc: 0.7435524942016253\n",
            " val loss: 0.79136469148575, val acc: 0.730186170212766\n",
            "\n",
            "Epoch 15\n",
            " train loss: 0.7277479020834405, train acc: 0.7488247584381312\n",
            " val loss: 0.783129250242355, val acc: 0.7319148936170212\n",
            "\n",
            "Epoch 16\n",
            " train loss: 0.7235558378413129, train acc: 0.7519995429616088\n",
            " val loss: 0.7806273138269465, val acc: 0.7315602837724888\n",
            "\n",
            "Epoch 17\n",
            " train loss: 0.72343693932406, train acc: 0.7517057325983832\n",
            " val loss: 0.7836351737062982, val acc: 0.7338652483960415\n",
            "\n",
            "Epoch 18\n",
            " train loss: 0.7236350002192928, train acc: 0.7501469052905793\n",
            " val loss: 0.7799232827856185, val acc: 0.733222517815042\n",
            "\n",
            "Epoch 19\n",
            " train loss: 0.7224811144459182, train acc: 0.750763090916482\n",
            " val loss: 0.7829606223613658, val acc: 0.7303856382978723\n",
            "\n"
          ]
        }
      ],
      "source": [
        "transform = transforms.Compose(\n",
        "    [\n",
        "        transforms.RandomHorizontalFlip(),\n",
        "        transforms.ToTensor(),\n",
        "        transforms.Normalize((0.5, 0.5, 0.5), (0.5, 0.5, 0.5)),\n",
        "    ]\n",
        ")\n",
        "\n",
        "train_loader, val_loader, test_loader = get_cifar10_data(\n",
        "    batch_size=64, transform_train=transform\n",
        ")\n",
        "\n",
        "net = BasicBlockNet().to(device)\n",
        "optimizer = optim.SGD(net.parameters(), lr=0.1, momentum=0.9)\n",
        "scheduler = optim.lr_scheduler.MultiStepLR(optimizer, milestones=[10, 15], gamma=0.1)\n",
        "tr_loss_log, tr_acc_log, val_loss_log, val_acc_log = train(\n",
        "    net, optimizer, 20, train_loader, val_loader, scheduler\n",
        ")"
      ]
    },
    {
      "cell_type": "markdown",
      "metadata": {
        "id": "v3ZIqDQqO9Dv",
        "pycharm": {
          "name": "#%% md\n"
        }
      },
      "source": [
        "Посчитайте точность на тестовой выборке:"
      ]
    },
    {
      "cell_type": "code",
      "execution_count": 24,
      "metadata": {
        "id": "nNJizMkM_Auh",
        "pycharm": {
          "name": "#%%\n"
        },
        "colab": {
          "base_uri": "https://localhost:8080/"
        },
        "outputId": "d98fdd38-a78d-4d67-9c7e-debd8a27f2d7"
      },
      "outputs": [
        {
          "output_type": "stream",
          "name": "stdout",
          "text": [
            "Test loss: 0.794, \n",
            "Test accuracy: 0.730\n"
          ]
        }
      ],
      "source": [
        "test_loss, test_acc = test(net, test_loader)\n",
        "print(f\"Test loss: {test_loss:.3f}, \\nTest accuracy: {test_acc:.3f}\")"
      ]
    },
    {
      "cell_type": "markdown",
      "metadata": {
        "id": "KndehSCHO9Dv",
        "pycharm": {
          "name": "#%% md\n"
        }
      },
      "source": [
        "**Задание 4.1 (2 балла).** Изучите, какие еще способы аугментаций изображений представлены в <code>torchvision.transforms</code>. Выберите несколько из них, объясните, как они устроены, и обучите модель с ними (по отдельности и вместе). Удалось ли добиться улучшения качества на тестовой выборке?"
      ]
    },
    {
      "cell_type": "code",
      "execution_count": 25,
      "metadata": {
        "id": "Np4rgvdZ_QRF",
        "pycharm": {
          "name": "#%%\n"
        },
        "colab": {
          "base_uri": "https://localhost:8080/"
        },
        "outputId": "a887f84e-40c7-411d-880b-c56b9349e65e"
      },
      "outputs": [
        {
          "output_type": "stream",
          "name": "stdout",
          "text": [
            "Epoch 0\n",
            " train loss: 1.5365082198784599, train acc: 0.4534555367403536\n",
            " val loss: 1.3343473079356742, val acc: 0.5279920212765957\n",
            "\n",
            "Epoch 1\n",
            " train loss: 1.2185892598938461, train acc: 0.5748481980407478\n",
            " val loss: 1.1370270556591926, val acc: 0.6050531914893617\n",
            "\n",
            "Epoch 2\n",
            " train loss: 1.1036583639585993, train acc: 0.614977801085826\n",
            " val loss: 1.0550997802551756, val acc: 0.6387189718002969\n",
            "\n",
            "Epoch 3\n",
            " train loss: 1.0437630583860757, train acc: 0.6385152782339064\n",
            " val loss: 1.1194315958530345, val acc: 0.6166223404255319\n",
            "\n",
            "Epoch 4\n",
            " train loss: 1.002070292912192, train acc: 0.6541198747031649\n",
            " val loss: 1.0676256626210314, val acc: 0.6308289007937654\n",
            "\n",
            "Epoch 5\n",
            " train loss: 0.968495496993091, train acc: 0.665264266173626\n",
            " val loss: 0.9734943930138933, val acc: 0.661923758907521\n",
            "\n",
            "Epoch 6\n",
            " train loss: 0.9360313370851102, train acc: 0.6764331418591836\n",
            " val loss: 0.9927679325671906, val acc: 0.6558067376309252\n",
            "\n",
            "Epoch 7\n",
            " train loss: 0.9143557024939186, train acc: 0.6856392008512939\n",
            " val loss: 1.0056811266757073, val acc: 0.6569370569066798\n",
            "\n",
            "Epoch 8\n",
            " train loss: 0.8970819710595517, train acc: 0.6878142140029335\n",
            " val loss: 0.9320889465352322, val acc: 0.6822916667512122\n",
            "\n",
            "Epoch 9\n",
            " train loss: 0.8655090099932725, train acc: 0.7022966179159049\n",
            " val loss: 0.9232423964967119, val acc: 0.688940602921425\n",
            "\n",
            "Epoch 10\n",
            " train loss: 0.8489214336632375, train acc: 0.7058305040791876\n",
            " val loss: 0.9370482944427653, val acc: 0.67788120584285\n",
            "\n",
            "Epoch 11\n",
            " train loss: 0.8331566103742589, train acc: 0.7120168452071097\n",
            " val loss: 0.9072728192552607, val acc: 0.6902039007937655\n",
            "\n",
            "Epoch 12\n",
            " train loss: 0.8115200376924693, train acc: 0.720063985483738\n",
            " val loss: 0.8745014634538204, val acc: 0.6971187944107867\n",
            "\n",
            "Epoch 13\n",
            " train loss: 0.7933429242596983, train acc: 0.7261075020054358\n",
            " val loss: 0.8807284958819126, val acc: 0.6986258865670955\n",
            "\n",
            "Epoch 14\n",
            " train loss: 0.7766426920999775, train acc: 0.7325019587982289\n",
            " val loss: 0.8706362364139962, val acc: 0.7042331561129144\n",
            "\n",
            "Epoch 15\n",
            " train loss: 0.7648362433997543, train acc: 0.7361623466123829\n",
            " val loss: 0.8507254400151841, val acc: 0.7082225178150421\n",
            "\n",
            "Epoch 16\n",
            " train loss: 0.7497527058861155, train acc: 0.7423935753771767\n",
            " val loss: 0.8394699657216985, val acc: 0.7139627659574468\n",
            "\n",
            "Epoch 17\n",
            " train loss: 0.7425119170759016, train acc: 0.7426669823186272\n",
            " val loss: 0.8495562932592757, val acc: 0.7111480497299356\n",
            "\n",
            "Epoch 18\n",
            " train loss: 0.732083115651795, train acc: 0.7479433273484546\n",
            " val loss: 0.8364300602294029, val acc: 0.7196365249917862\n",
            "\n",
            "Epoch 19\n",
            " train loss: 0.7260942036316643, train acc: 0.7509548838439327\n",
            " val loss: 0.8317401158048752, val acc: 0.7187721632896585\n",
            "\n"
          ]
        }
      ],
      "source": [
        "# ColorJitter\n",
        "transform_colorjitter = transforms.Compose([\n",
        "    transforms.ColorJitter(brightness=0.2, contrast=0.2, saturation=0.2, hue=0.1),\n",
        "    transforms.ToTensor(),\n",
        "    transforms.Normalize((0.5, 0.5, 0.5), (0.5, 0.5, 0.5)),\n",
        "])\n",
        "\n",
        "train_loader, val_loader, test_loader = get_cifar10_data(\n",
        "    batch_size=64, transform_train=transform_colorjitter\n",
        ")\n",
        "\n",
        "results = []\n",
        "\n",
        "net = BasicBlockNet().to(device)\n",
        "optimizer = optim.SGD(net.parameters(), lr=0.1, momentum=0.9)\n",
        "scheduler = optim.lr_scheduler.CosineAnnealingLR(optimizer, T_max=20, eta_min=0.001)\n",
        "train_loss, train_acc, val_loss, val_acc = train(\n",
        "    net, optimizer, 20, train_loader, val_loader, scheduler\n",
        ")\n",
        "test_loss, test_acc = test(net, test_loader)\n",
        "results.append((\"ColorJitter\", test_loss, test_acc))"
      ]
    },
    {
      "cell_type": "code",
      "source": [
        "# RandomRotation\n",
        "transform_rotation = transforms.Compose([\n",
        "    transforms.RandomRotation(degrees=20),\n",
        "    transforms.ToTensor(),\n",
        "    transforms.Normalize((0.5, 0.5, 0.5), (0.5, 0.5, 0.5)),\n",
        "])\n",
        "\n",
        "train_loader, val_loader, test_loader = get_cifar10_data(\n",
        "    batch_size=64, transform_train=transform_rotation\n",
        ")\n",
        "\n",
        "net = BasicBlockNet().to(device)\n",
        "optimizer = optim.SGD(net.parameters(), lr=0.1, momentum=0.9)\n",
        "scheduler = optim.lr_scheduler.CosineAnnealingLR(optimizer, T_max=20, eta_min=0.001)\n",
        "train_loss, train_acc, val_loss, val_acc = train(\n",
        "    net, optimizer, 20, train_loader, val_loader, scheduler\n",
        ")\n",
        "test_loss, test_acc = test(net, test_loader)\n",
        "results.append((\"RandomRotation\", test_loss, test_acc))"
      ],
      "metadata": {
        "id": "yLMU7j0CtfD-",
        "outputId": "779a90e6-37fe-46ba-d47f-7c8c16817108",
        "colab": {
          "base_uri": "https://localhost:8080/"
        }
      },
      "execution_count": 26,
      "outputs": [
        {
          "output_type": "stream",
          "name": "stdout",
          "text": [
            "Epoch 0\n",
            " train loss: 1.5682512059726053, train acc: 0.43564736232897044\n",
            " val loss: 1.383960269359832, val acc: 0.4988031914893617\n",
            "\n",
            "Epoch 1\n",
            " train loss: 1.3108624373537094, train acc: 0.5330414272967379\n",
            " val loss: 1.2404203399698785, val acc: 0.5614804965384463\n",
            "\n",
            "Epoch 2\n",
            " train loss: 1.1996583156219567, train acc: 0.5767416427732603\n",
            " val loss: 1.1675725498098009, val acc: 0.5918882978723404\n",
            "\n",
            "Epoch 3\n",
            " train loss: 1.1326692067291009, train acc: 0.5999077762284706\n",
            " val loss: 1.10103125064931, val acc: 0.6143617021276596\n",
            "\n",
            "Epoch 4\n",
            " train loss: 1.0861501956334716, train acc: 0.6192992622717207\n",
            " val loss: 1.100201814732653, val acc: 0.6148936170212767\n",
            "\n",
            "Epoch 5\n",
            " train loss: 1.0515624002521173, train acc: 0.6296764821413449\n",
            " val loss: 1.1021726717340186, val acc: 0.6131427305809996\n",
            "\n",
            "Epoch 6\n",
            " train loss: 1.0181230325149662, train acc: 0.6415390767824497\n",
            " val loss: 1.0091880022211277, val acc: 0.646099290949233\n",
            "\n",
            "Epoch 7\n",
            " train loss: 1.0058186932499273, train acc: 0.6444486158421532\n",
            " val loss: 1.0118603582077839, val acc: 0.6470744680851064\n",
            "\n",
            "Epoch 8\n",
            " train loss: 0.9813453463575303, train acc: 0.6546136393625513\n",
            " val loss: 1.0317502468190294, val acc: 0.6412898936170213\n",
            "\n",
            "Epoch 9\n",
            " train loss: 0.9548847808262548, train acc: 0.662848491773309\n",
            " val loss: 0.9647698029558709, val acc: 0.6642065603682336\n",
            "\n",
            "Epoch 10\n",
            " train loss: 0.9358815598749374, train acc: 0.6709894881170019\n",
            " val loss: 0.9674367103170841, val acc: 0.6624778369639782\n",
            "\n",
            "Epoch 11\n",
            " train loss: 0.9223347080690987, train acc: 0.6772043941443755\n",
            " val loss: 0.9310850171332664, val acc: 0.6729831561129144\n",
            "\n",
            "Epoch 12\n",
            " train loss: 0.9070149648124165, train acc: 0.6828765670821697\n",
            " val loss: 0.953117694246008, val acc: 0.6709663122258288\n",
            "\n",
            "Epoch 13\n",
            " train loss: 0.8863356968820422, train acc: 0.6905972513027994\n",
            " val loss: 0.9452242597620538, val acc: 0.673936170212766\n",
            "\n",
            "Epoch 14\n",
            " train loss: 0.8734149890364415, train acc: 0.6946126599634369\n",
            " val loss: 0.9266926301286575, val acc: 0.6766622340425532\n",
            "\n",
            "Epoch 15\n",
            " train loss: 0.8592757056901398, train acc: 0.7005990467951982\n",
            " val loss: 0.9129262713675803, val acc: 0.6785239361702128\n",
            "\n",
            "Epoch 16\n",
            " train loss: 0.8522515993776444, train acc: 0.7033412771425473\n",
            " val loss: 0.8949708626625386, val acc: 0.6863253547790202\n",
            "\n",
            "Epoch 17\n",
            " train loss: 0.8376074934572363, train acc: 0.7070669562332809\n",
            " val loss: 0.9001500119554235, val acc: 0.682845744680851\n",
            "\n",
            "Epoch 18\n",
            " train loss: 0.8312425493540232, train acc: 0.710229498594727\n",
            " val loss: 0.8896290720777309, val acc: 0.6928856382978723\n",
            "\n",
            "Epoch 19\n",
            " train loss: 0.8227965414415112, train acc: 0.7116822277824011\n",
            " val loss: 0.8822680701600745, val acc: 0.6940159574468086\n",
            "\n"
          ]
        }
      ]
    },
    {
      "cell_type": "markdown",
      "metadata": {
        "id": "4K-MptLiO9Dv",
        "pycharm": {
          "name": "#%% md\n"
        }
      },
      "source": [
        "Your answers here:\n",
        "\n",
        "ColorJitter — случайно изменяет яркость, контраст, насыщенность и оттенок изображения.\n",
        "Это помогает модели стать устойчивее к изменениям освещения и цветового баланса.\n",
        "\n",
        "RandomRotation — поворачивает изображение на случайный угол из заданного диапазона.\n",
        "Полезно для классов с ориентационной инвариантностью (например, CIFAR-10).\n",
        "\n",
        "Обе аугментации помогают повысить обобщающую способность модели."
      ]
    },
    {
      "cell_type": "markdown",
      "metadata": {
        "id": "HCENjLw5O9Dv",
        "pycharm": {
          "name": "#%% md\n"
        }
      },
      "source": [
        "## Бонус. Логирование в wandb (1 балл)"
      ]
    },
    {
      "cell_type": "markdown",
      "metadata": {
        "id": "xOyzc1mnO9Dv",
        "pycharm": {
          "name": "#%% md\n"
        }
      },
      "source": [
        "На практике специалиста по глубинному обучению часто встречаются ситуации, когда нейросеть учится на каком-то удаленном сервере. И обычно вам хочется отслеживать прогресс обучения, особенно когда время обучения модели исчисляется днями или неделями. Для таких целей существует несколько инструментов. Вероятно, самый популярный из них — [wandb](https://wandb.ai/site).\n",
        "\n",
        "Ваша задача состоит в том, чтобы разобраться как им пользоваться, и повторить задания 2.1 и 2.2 с его использованием. Обучение вы можете запускать в этом же ноутбуке, но теперь вам необходимо через wandb логировать значения функции потерь и точности на обучающей выборке и на валидационной. Результатом работы должны быть ваш код и публичная ссылка на страничку с графиками, идентичными графикам в задании 2.2.\n",
        "\n",
        "Если вас смущает, что WandB грозится забанить вас, то можете разобраться с любым его аналогом и приложить ссылку на аналог."
      ]
    },
    {
      "cell_type": "code",
      "execution_count": null,
      "metadata": {
        "id": "m5gSTLAr_QS4",
        "pycharm": {
          "name": "#%%\n"
        }
      },
      "outputs": [],
      "source": [
        "# <your code here>"
      ]
    }
  ],
  "metadata": {
    "accelerator": "GPU",
    "colab": {
      "provenance": [],
      "include_colab_link": true
    },
    "kernelspec": {
      "display_name": "Python 3 (ipykernel)",
      "language": "python",
      "name": "python3"
    },
    "language_info": {
      "codemirror_mode": {
        "name": "ipython",
        "version": 3
      },
      "file_extension": ".py",
      "mimetype": "text/x-python",
      "name": "python",
      "nbconvert_exporter": "python",
      "pygments_lexer": "ipython3",
      "version": "3.10.4"
    }
  },
  "nbformat": 4,
  "nbformat_minor": 0
}
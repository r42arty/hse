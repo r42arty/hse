{
  "cells": [
    {
      "cell_type": "markdown",
      "metadata": {
        "id": "view-in-github",
        "colab_type": "text"
      },
      "source": [
        "<a href=\"https://colab.research.google.com/github/r42arty/hse/blob/main/mod4/DL/DL_2.ipynb\" target=\"_parent\"><img src=\"https://colab.research.google.com/assets/colab-badge.svg\" alt=\"Open In Colab\"/></a>"
      ]
    },
    {
      "cell_type": "markdown",
      "source": [
        "# Основы машинного обучения, ИИМУП\n",
        "\n",
        "## НИУ ВШЭ, 2024-25 учебный год"
      ],
      "metadata": {
        "id": "uzoPPj-CT-hG"
      }
    },
    {
      "cell_type": "markdown",
      "metadata": {
        "id": "VRUsuZR2cQoY"
      },
      "source": [
        "# Домашнее задание 2: Классификация при помощи CNN"
      ]
    },
    {
      "cell_type": "markdown",
      "metadata": {
        "id": "lV9pvgZJTYGj"
      },
      "source": [
        "Задание выполнил(а):\n",
        "\n",
        "Рубцов Артемий"
      ]
    },
    {
      "cell_type": "markdown",
      "metadata": {
        "id": "ZML8VxlPTYGj"
      },
      "source": [
        "## Общая информация"
      ]
    },
    {
      "cell_type": "markdown",
      "metadata": {
        "id": "nTmiXfZZTYGl"
      },
      "source": [
        "__Внимание!__  \n",
        "\n",
        "\n",
        "* Домашнее задание выполняется самостоятельно\n",
        "* Не допускается помощь в решении домашнего задания от однокурсников или третьих лиц. «Похожие» решения считаются плагиатом, и все задействованные студенты — в том числе и те, у кого списали, — не могут получить за него больше 0 баллов\n",
        "* Использование в решении домашнего задания генеративных моделей (ChatGPT и так далее) за рамками справочной и образовательной информации для генерации кода задания — считается плагиатом, и такое домашнее задание оценивается в 0 баллов\n",
        "* Старайтесь сделать код как можно более оптимальным. Неэффективная реализация кода может негативно отразиться на оценке. Также оценка может быть снижена за плохо читаемый код и плохо оформленные графики. Все ответы должны сопровождаться кодом или комментариями о том, как они были получены."
      ]
    },
    {
      "cell_type": "markdown",
      "metadata": {
        "id": "w35Q6hOIy4sk",
        "pycharm": {
          "name": "#%% md\n"
        }
      },
      "source": [
        "## О задании\n",
        "\n",
        "В этом задании вам предстоит познакомиться со сверточными сетями и их обучением для классификации изображений с использованием библиотеки PyTorch.\n"
      ]
    },
    {
      "cell_type": "markdown",
      "source": [
        "## Импорт библиотек"
      ],
      "metadata": {
        "id": "imPK_EDQp0NX"
      }
    },
    {
      "cell_type": "code",
      "execution_count": 1,
      "metadata": {
        "id": "SaACifdX2QOo",
        "pycharm": {
          "name": "#%%\n"
        }
      },
      "outputs": [],
      "source": [
        "import matplotlib.pyplot as plt\n",
        "import numpy as np\n",
        "import torch\n",
        "import torch.nn as nn\n",
        "import torch.nn.functional as F\n",
        "import torch.optim as optim\n",
        "import torchvision\n",
        "import torchvision.transforms as transforms\n",
        "\n",
        "from sklearn.model_selection import train_test_split"
      ]
    },
    {
      "cell_type": "markdown",
      "metadata": {
        "id": "TIXaUYM-0JFl",
        "pycharm": {
          "name": "#%% md\n"
        }
      },
      "source": [
        "## 0. Загрузка данных\n",
        "\n",
        "Работать мы будем с набором данных [CIFAR10](https://www.cs.toronto.edu/~kriz/cifar.html). CIFAR10 представляет собой набор изображений 32х32 пикселя, разделенных на 10 классов.\n",
        "\n",
        "![title](https://pytorch.org/tutorials/_images/cifar10.png)\n",
        "\n",
        "\n"
      ]
    },
    {
      "cell_type": "markdown",
      "metadata": {
        "id": "g-0EEjl_10vB",
        "pycharm": {
          "name": "#%% md\n"
        }
      },
      "source": [
        "Набор данных уже определен в <code>torchvision.datasets</code>, так что возьмем его оттуда.\n",
        "\n"
      ]
    },
    {
      "cell_type": "code",
      "execution_count": 2,
      "metadata": {
        "id": "Cbwe92dT3aPZ",
        "pycharm": {
          "name": "#%%\n"
        }
      },
      "outputs": [],
      "source": [
        "# Для тру нормализации\n",
        "# mean = [0.4914, 0.4822, 0.4465]\n",
        "# std = [0.2470, 0.2435, 0.2616]\n",
        "# Тут взяты значения как в одном из туториалов пайторча :)\n",
        "\n",
        "\n",
        "def get_cifar10_data(batch_size, transform_train):\n",
        "    torch.manual_seed(0)\n",
        "    np.random.seed(0)\n",
        "\n",
        "    transform_test = transforms.Compose(\n",
        "        [\n",
        "            transforms.ToTensor(),\n",
        "            # Переводим цвета пикселей в отрезок [-1, 1]\n",
        "            transforms.Normalize((0.5, 0.5, 0.5), (0.5, 0.5, 0.5)),\n",
        "        ]\n",
        "    )\n",
        "\n",
        "    # Загружаем данные\n",
        "    trainvalset = torchvision.datasets.CIFAR10(\n",
        "        root=\"./data\", train=True, download=True, transform=transform_train\n",
        "    )\n",
        "    testset = torchvision.datasets.CIFAR10(\n",
        "        root=\"./data\", train=False, download=True, transform=transform_test\n",
        "    )\n",
        "\n",
        "    # В датасете определено разбиение только на train и test,\n",
        "    # так что валидацию дополнительно выделяем из обучающей выборки\n",
        "    train_idx, valid_idx = train_test_split(\n",
        "        np.arange(len(trainvalset)), test_size=0.3, shuffle=True, random_state=0\n",
        "    )\n",
        "    trainset = torch.utils.data.Subset(trainvalset, train_idx)\n",
        "    valset = torch.utils.data.Subset(trainvalset, valid_idx)\n",
        "\n",
        "    train_loader = torch.utils.data.DataLoader(\n",
        "        trainset, batch_size=batch_size, shuffle=True, num_workers=2\n",
        "    )\n",
        "    val_loader = torch.utils.data.DataLoader(\n",
        "        valset, batch_size=batch_size, shuffle=False, num_workers=2\n",
        "    )\n",
        "    test_loader = torch.utils.data.DataLoader(\n",
        "        testset, batch_size=batch_size, shuffle=False, num_workers=2\n",
        "    )\n",
        "\n",
        "    return train_loader, val_loader, test_loader"
      ]
    },
    {
      "cell_type": "code",
      "execution_count": 3,
      "metadata": {
        "colab": {
          "base_uri": "https://localhost:8080/"
        },
        "id": "2G2rLnN5y6Jj",
        "outputId": "a156eb59-bed8-441d-ea08-72943404f1b2",
        "pycharm": {
          "name": "#%%\n"
        }
      },
      "outputs": [
        {
          "output_type": "stream",
          "name": "stderr",
          "text": [
            "100%|██████████| 170M/170M [00:13<00:00, 13.1MB/s]\n"
          ]
        }
      ],
      "source": [
        "transform = transforms.Compose(\n",
        "    [transforms.ToTensor(), transforms.Normalize((0.5, 0.5, 0.5), (0.5, 0.5, 0.5))]\n",
        ")\n",
        "\n",
        "train_loader, val_loader, test_loader = get_cifar10_data(\n",
        "    batch_size=64, transform_train=transform\n",
        ")"
      ]
    },
    {
      "cell_type": "markdown",
      "metadata": {
        "id": "-82HWgXs77W1",
        "pycharm": {
          "name": "#%% md\n"
        }
      },
      "source": [
        "Посмотрим на изображения:"
      ]
    },
    {
      "cell_type": "code",
      "execution_count": 5,
      "metadata": {
        "colab": {
          "base_uri": "https://localhost:8080/",
          "height": 210
        },
        "id": "ACnwaC5iy6L2",
        "outputId": "e58fc9a3-9ab2-4890-97cc-16d44208c3b3",
        "pycharm": {
          "name": "#%%\n"
        }
      },
      "outputs": [
        {
          "output_type": "display_data",
          "data": {
            "text/plain": [
              "<Figure size 640x480 with 1 Axes>"
            ],
            "image/png": "[encoded data removed]"
          },
          "metadata": {}
        },
        {
          "output_type": "stream",
          "name": "stdout",
          "text": [
            "deer ship truck cat\n"
          ]
        }
      ],
      "source": [
        "def imshow(img):\n",
        "    img = img / 2 + 0.5\n",
        "    npimg = img.numpy()\n",
        "    plt.imshow(np.transpose(npimg, (1, 2, 0)))\n",
        "    plt.show()\n",
        "\n",
        "\n",
        "dataiter = iter(train_loader)\n",
        "images, labels = next(dataiter)\n",
        "\n",
        "imshow(torchvision.utils.make_grid(images[:4]))\n",
        "\n",
        "classes = (\n",
        "    \"plane\",\n",
        "    \"car\",\n",
        "    \"bird\",\n",
        "    \"cat\",\n",
        "    \"deer\",\n",
        "    \"dog\",\n",
        "    \"frog\",\n",
        "    \"horse\",\n",
        "    \"ship\",\n",
        "    \"truck\",\n",
        ")\n",
        "print(*[classes[labels[i]] for i in range(4)])"
      ]
    },
    {
      "cell_type": "markdown",
      "metadata": {
        "id": "KFDilng29YZ_",
        "pycharm": {
          "name": "#%% md\n"
        }
      },
      "source": [
        "## 1. Задание сверточной сети (3 балла)"
      ]
    },
    {
      "cell_type": "markdown",
      "metadata": {
        "id": "OX7Ul8YbYdQR",
        "pycharm": {
          "name": "#%% md\n"
        }
      },
      "source": [
        "Теперь нам нужно задать сверточную нейронную сеть, которую мы будем обучать классифицировать изображения.\n",
        "\n",
        "Используем сеть, основанную на одном блоке архитектуры, похожей на ResNet. Обратите внимание, это не ResNet 1 в 1.\n",
        "\n",
        "<img src=\"https://i.ibb.co/2hg962h/basic-block.png\" width=\"500\"/>\n",
        "\n",
        "__Указания:__\n",
        "\n",
        "- Все сверточные слои должны иметь 32 выходных канала, а также не должны изменять ширину и высоту изображения.\n",
        "- Выход блока сократите до размерности 32х4х4, применив average pooling.\n",
        "- Для получения итоговых логитов, распрямите выход пулинга в вектор из 512 элементов, а затем пропустите его через линейный слой."
      ]
    },
    {
      "cell_type": "markdown",
      "metadata": {
        "id": "sbyIylT9O9Dr",
        "pycharm": {
          "name": "#%% md\n"
        }
      },
      "source": [
        "**Задание 1.1 (3 балла).**\n",
        "\n",
        "Определите архитектуру сети соответственно схеме и указаниям выше.\n",
        "\n",
        "Ключевые слова: <code>Conv2d</code>, <code>BatchNorm2d</code>, <code>AvgPool2d</code>."
      ]
    },
    {
      "cell_type": "code",
      "execution_count": null,
      "metadata": {
        "id": "s9ml1QGKy6N9",
        "pycharm": {
          "name": "#%%\n"
        }
      },
      "outputs": [],
      "source": [
        "n_classes = 10\n",
        "\n",
        "class BasicBlockNet(nn.Module):\n",
        "    def __init__(self):\n",
        "        super().__init__()\n",
        "\n",
        "        # <your code here>\n",
        "\n",
        "    def forward(self, x):\n",
        "        out = # <your code here>\n",
        "\n",
        "        return out"
      ]
    },
    {
      "cell_type": "code",
      "execution_count": null,
      "metadata": {
        "id": "FI4BQg7Ky6Pw",
        "pycharm": {
          "name": "#%%\n"
        }
      },
      "outputs": [],
      "source": [
        "net = BasicBlockNet()\n",
        "net"
      ]
    },
    {
      "cell_type": "markdown",
      "metadata": {
        "id": "igPoGZEub8d3",
        "pycharm": {
          "name": "#%% md\n"
        }
      },
      "source": [
        "Проверим, что выход сети имеет корректную размерность:"
      ]
    },
    {
      "cell_type": "code",
      "execution_count": null,
      "metadata": {
        "id": "cCIzFUpJ_Agw",
        "pycharm": {
          "name": "#%%\n"
        }
      },
      "outputs": [],
      "source": [
        "assert net(torch.zeros((10, 3, 32, 32))).shape == (10, 10)"
      ]
    },
    {
      "cell_type": "markdown",
      "metadata": {
        "id": "08osX622cDGz",
        "pycharm": {
          "name": "#%% md\n"
        }
      },
      "source": [
        "Чтобы проводить вычисления на GPU, в PyTorch необходимо руками перекладывать объекты, с которыми вы хотите проводить вычисления, на графический ускоритель. Это делается следующим образрм:"
      ]
    },
    {
      "cell_type": "code",
      "execution_count": null,
      "metadata": {
        "id": "56hDOMCFcDZX",
        "pycharm": {
          "name": "#%%\n"
        }
      },
      "outputs": [],
      "source": [
        "device = torch.device(\"cuda:0\" if torch.cuda.is_available() else \"cpu\")\n",
        "print(device)"
      ]
    },
    {
      "cell_type": "code",
      "execution_count": null,
      "metadata": {
        "id": "ohnDWbp0qbtC",
        "pycharm": {
          "name": "#%%\n"
        }
      },
      "outputs": [],
      "source": [
        "net = net.to(device)"
      ]
    },
    {
      "cell_type": "markdown",
      "metadata": {
        "id": "H_bOlTVUp5QF",
        "pycharm": {
          "name": "#%% md\n"
        }
      },
      "source": [
        "Подключение GPU в google.colab:\n",
        "\n",
        "**Среда выполнения** -> **Сменить среду выполнения** -> **Аппаратный ускоритель** -> **GPU**"
      ]
    },
    {
      "cell_type": "markdown",
      "metadata": {
        "id": "AGi6XX_7_Bgg",
        "pycharm": {
          "name": "#%% md\n"
        }
      },
      "source": [
        "## 2. Обучение и тестирование модели (3 балла)"
      ]
    },
    {
      "cell_type": "markdown",
      "metadata": {
        "id": "0agj_MQoO9Ds",
        "pycharm": {
          "name": "#%% md\n"
        }
      },
      "source": [
        "**Задание 2.1 (2 балла).** Переходим к обучению модели. Заполните пропуски в функциях <code>test</code> и <code>train_epoch</code>. В качестве функции потерь будем использовать [кросс-энтропию](https://pytorch.org/docs/stable/generated/torch.nn.functional.cross_entropy.html), а в качестве метрики качества accuracy."
      ]
    },
    {
      "cell_type": "code",
      "execution_count": null,
      "metadata": {
        "id": "g8gsPPRIevDS",
        "pycharm": {
          "name": "#%%\n"
        }
      },
      "outputs": [],
      "source": [
        "def test(model, loader):\n",
        "    loss_log = []\n",
        "    acc_log = []\n",
        "    model.eval()\n",
        "\n",
        "    for data, target in loader:\n",
        "\n",
        "        # <your code here>\n",
        "\n",
        "        loss_log.append(loss.item())\n",
        "\n",
        "        # <your code here>\n",
        "\n",
        "        acc_log.append(acc.item())\n",
        "\n",
        "    return np.mean(loss_log), np.mean(acc_log)\n",
        "\n",
        "\n",
        "def train_epoch(model, optimizer, train_loader):\n",
        "    loss_log = []\n",
        "    acc_log = []\n",
        "    model.train()\n",
        "\n",
        "    for data, target in train_loader:\n",
        "\n",
        "        # <your code here>\n",
        "\n",
        "        loss_log.append(loss.item())\n",
        "\n",
        "        # <your code here>\n",
        "\n",
        "        acc_log.append(acc.item())\n",
        "\n",
        "    return loss_log, acc_log\n",
        "\n",
        "\n",
        "def train(model, optimizer, n_epochs, train_loader, val_loader, scheduler=None):\n",
        "    train_loss_log, train_acc_log, val_loss_log, val_acc_log = [], [], [], []\n",
        "\n",
        "    for epoch in range(n_epochs):\n",
        "        train_loss, train_acc = train_epoch(model, optimizer, train_loader)\n",
        "        val_loss, val_acc = test(model, val_loader)\n",
        "\n",
        "        train_loss_log.extend(train_loss)\n",
        "        train_acc_log.extend(train_acc)\n",
        "\n",
        "        val_loss_log.append(val_loss)\n",
        "        val_acc_log.append(val_acc)\n",
        "\n",
        "        print(f\"Epoch {epoch}\")\n",
        "        print(f\" train loss: {np.mean(train_loss)}, train acc: {np.mean(train_acc)}\")\n",
        "        print(f\" val loss: {val_loss}, val acc: {val_acc}\\n\")\n",
        "\n",
        "        if scheduler is not None:\n",
        "            scheduler.step()\n",
        "\n",
        "    return train_loss_log, train_acc_log, val_loss_log, val_acc_log"
      ]
    },
    {
      "cell_type": "markdown",
      "metadata": {
        "id": "iSOqk_CAO9Dt",
        "pycharm": {
          "name": "#%% md\n"
        }
      },
      "source": [
        "Запустим обучение модели. В качестве оптимизатора будем использовать стохастический градиентный спуск, который является де-факто стандартом в задачах компьютерного зрения (наравне с <code>Adam</code>).\n",
        "\n",
        "__Замечание:__ Для достижения наилучшего качества в нашем случае потребуется обучать модель несколько сотен эпох. Однако в целях экономии вашего времени и сил, во всех экспериментах мы ограничимся 20 эпохами."
      ]
    },
    {
      "cell_type": "code",
      "execution_count": null,
      "metadata": {
        "id": "MKZBGhuAgMDu",
        "pycharm": {
          "name": "#%%\n"
        },
        "scrolled": true
      },
      "outputs": [],
      "source": [
        "optimizer = optim.SGD(net.parameters(), lr=0.1, momentum=0.9)\n",
        "train_loss_log, train_acc_log, val_loss_log, val_acc_log = train(\n",
        "    net, optimizer, 20, train_loader, val_loader\n",
        ")"
      ]
    },
    {
      "cell_type": "markdown",
      "metadata": {
        "id": "gUb1jQW8O9Dt",
        "pycharm": {
          "name": "#%% md\n"
        }
      },
      "source": [
        "Посчитайте точность на тестовой выборке:"
      ]
    },
    {
      "cell_type": "code",
      "execution_count": null,
      "metadata": {
        "id": "Jyuc55B9_Amc",
        "pycharm": {
          "name": "#%%\n"
        }
      },
      "outputs": [],
      "source": [
        "# <your code here>"
      ]
    },
    {
      "cell_type": "markdown",
      "metadata": {
        "id": "zM38Q9fwO9Dt",
        "pycharm": {
          "name": "#%% md\n"
        }
      },
      "source": [
        "Если вы все сделали правильно, у вас должна была получиться точность $\\ge 67\\%$."
      ]
    },
    {
      "cell_type": "markdown",
      "metadata": {
        "id": "DHFNSKcoO9Dt",
        "pycharm": {
          "name": "#%% md\n"
        }
      },
      "source": [
        "**Задание 2.2 (1 балл).** Постройте графики зависимости функции потерь и точности классификации от номера шага оптимизатора. На каждом графике расположите данные и для обучающей и для валидационной выборки, итого у вас должно получиться два графика. Обратите внимание, что на обучающей выборке эти данные считаются по каждому батчу, на валидационной же они считаются по всей выборке раз в эпоху."
      ]
    },
    {
      "cell_type": "code",
      "execution_count": null,
      "metadata": {
        "id": "LzIP0tGLO9Dt",
        "pycharm": {
          "name": "#%%\n"
        }
      },
      "outputs": [],
      "source": [
        "# <your code here>"
      ]
    },
    {
      "cell_type": "markdown",
      "metadata": {
        "id": "_ttOJPj-O9Dt",
        "pycharm": {
          "name": "#%% md\n"
        }
      },
      "source": [
        "## 3. Расписание длины шага (2 балла)"
      ]
    },
    {
      "cell_type": "markdown",
      "metadata": {
        "id": "qiz3JstuO9Dt",
        "pycharm": {
          "name": "#%% md\n"
        }
      },
      "source": [
        "С курса \"Машинное обучение\" вы уже должны знать, что сходимость стохастического градиентного спуска мы можем теоретически гарантировать только если будем определенным образом со временем уменьшать длину шага. На практике при обучении нейронных сетей такая техника оказывается очень полезной, однако теоретически обоснованными способами уменьшения длины шага фантазия не ограничивается.\n",
        "\n",
        "Одним из простейших способов является кусочно постоянная функция: на нескольких фиксированных эпохах уменьшаем длину шага в константу раз."
      ]
    },
    {
      "cell_type": "code",
      "execution_count": null,
      "metadata": {
        "id": "V2Z0OT3nO9Du",
        "pycharm": {
          "name": "#%%\n"
        }
      },
      "outputs": [],
      "source": [
        "net = BasicBlockNet().to(device)\n",
        "optimizer = optim.SGD(net.parameters(), lr=0.1, momentum=0.9)\n",
        "scheduler = optim.lr_scheduler.MultiStepLR(optimizer, milestones=[10, 15], gamma=0.1)\n",
        "tr_loss_log, tr_acc_log, val_loss_log, val_acc_log = train(\n",
        "    net, optimizer, 20, train_loader, val_loader, scheduler\n",
        ")"
      ]
    },
    {
      "cell_type": "markdown",
      "metadata": {
        "id": "5Xc76KvzO9Du",
        "pycharm": {
          "name": "#%% md\n"
        }
      },
      "source": [
        "Посчитайте точность на тестовой выборке:"
      ]
    },
    {
      "cell_type": "code",
      "execution_count": null,
      "metadata": {
        "id": "1AjiYhKqO9Du",
        "pycharm": {
          "name": "#%%\n"
        }
      },
      "outputs": [],
      "source": [
        "# <your code here>"
      ]
    },
    {
      "cell_type": "markdown",
      "metadata": {
        "id": "yE0dgLYrO9Du",
        "pycharm": {
          "name": "#%% md\n"
        }
      },
      "source": [
        "**Задание 3.0 (0.5 баллов).** Здесь может возникнуть вопрос: а что будет, если мы не будем уменьшать длину шага в процессе обучения, а сразу возьмем констатную, равную значению нашей кусочно-постоянной функции на последних эпохах, то есть $0.001$ в нашем случае. Запустите обучение и проверьте, что в таком случае мы получим худшее качество на тестовой выборке."
      ]
    },
    {
      "cell_type": "code",
      "execution_count": null,
      "metadata": {
        "id": "qZ2iB-LBO9Du",
        "pycharm": {
          "name": "#%%\n"
        }
      },
      "outputs": [],
      "source": [
        "# <your code here>"
      ]
    },
    {
      "cell_type": "markdown",
      "metadata": {
        "id": "xVotU378O9Du",
        "pycharm": {
          "name": "#%% md\n"
        }
      },
      "source": [
        "**Задание 3.1 (1.5 балла).** Изучите, какие еще способы уменьшения длины шага представлены в <code>torch.optim.lr_scheduler</code>. Выберите несколько из них, объясните, как они устроены, и обучите модель с ними. Удалось ли добиться улучшения качества на тестовой выборке?"
      ]
    },
    {
      "cell_type": "code",
      "execution_count": null,
      "metadata": {
        "id": "nkGlzocOO9Du",
        "pycharm": {
          "name": "#%%\n"
        }
      },
      "outputs": [],
      "source": [
        "# <your code here>"
      ]
    },
    {
      "cell_type": "markdown",
      "metadata": {
        "id": "5a_zMNNVO9Du",
        "pycharm": {
          "name": "#%% md\n"
        }
      },
      "source": [
        "Your answers here:  \n",
        "..."
      ]
    },
    {
      "cell_type": "markdown",
      "metadata": {
        "id": "7xFXgl_3_E--",
        "pycharm": {
          "name": "#%% md\n"
        }
      },
      "source": [
        "## 4. Аугментации данных (2 балла)"
      ]
    },
    {
      "cell_type": "markdown",
      "metadata": {
        "id": "5G0Easo9O9Du",
        "pycharm": {
          "name": "#%% md\n"
        }
      },
      "source": [
        "Еще одной стандартной техникой, применяющейся в глубинном обучении, а особенно часто в компьютерном зрении, являются аугментации данных. Суть аугментаций состоит в том, что мы можем некоторым синтетическим образом видоизменять объекты обучающей выборки, тем самым расширяя ее, а также делая итоговую модель более устойчивой к таким изменениям.\n",
        "\n",
        "Простейшая аугментация, которую можно применить к картинкам — разворот картинки по горизонтальной оси. То есть при обучении модели с вероятностью $0.5$ мы будем разворачивать картинку из обучающей выборки."
      ]
    },
    {
      "cell_type": "code",
      "execution_count": null,
      "metadata": {
        "id": "SzeFpgtfO9Du",
        "pycharm": {
          "name": "#%%\n"
        }
      },
      "outputs": [],
      "source": [
        "dataiter = iter(train_loader)\n",
        "images, labels = dataiter.next()\n",
        "\n",
        "imshow(torchvision.utils.make_grid(images[:4]))\n",
        "\n",
        "imshow(torchvision.utils.make_grid(transforms.functional.hflip(images[:4])))"
      ]
    },
    {
      "cell_type": "markdown",
      "metadata": {
        "id": "BR4a-XJQO9Du",
        "pycharm": {
          "name": "#%% md\n"
        }
      },
      "source": [
        "Наиболее удобным способом работы с аугментациями в PyTorch является их задание в списке <code>transforms</code>, который затем передается в загрузчик данных. Обучим нашу сеть, применяя горизонтальные повороты:"
      ]
    },
    {
      "cell_type": "code",
      "execution_count": null,
      "metadata": {
        "id": "na0ScBf-_AqX",
        "pycharm": {
          "name": "#%%\n"
        },
        "scrolled": true
      },
      "outputs": [],
      "source": [
        "transform = transforms.Compose(\n",
        "    [\n",
        "        transforms.RandomHorizontalFlip(),\n",
        "        transforms.ToTensor(),\n",
        "        transforms.Normalize((0.5, 0.5, 0.5), (0.5, 0.5, 0.5)),\n",
        "    ]\n",
        ")\n",
        "\n",
        "train_loader, val_loader, test_loader = get_cifar10_data(\n",
        "    batch_size=64, transform_train=transform\n",
        ")\n",
        "\n",
        "net = BasicBlockNet().to(device)\n",
        "optimizer = optim.SGD(net.parameters(), lr=0.1, momentum=0.9)\n",
        "scheduler = optim.lr_scheduler.MultiStepLR(optimizer, milestones=[10, 15], gamma=0.1)\n",
        "tr_loss_log, tr_acc_log, val_loss_log, val_acc_log = train(\n",
        "    net, optimizer, 20, train_loader, val_loader, scheduler\n",
        ")"
      ]
    },
    {
      "cell_type": "markdown",
      "metadata": {
        "id": "v3ZIqDQqO9Dv",
        "pycharm": {
          "name": "#%% md\n"
        }
      },
      "source": [
        "Посчитайте точность на тестовой выборке:"
      ]
    },
    {
      "cell_type": "code",
      "execution_count": null,
      "metadata": {
        "id": "nNJizMkM_Auh",
        "pycharm": {
          "name": "#%%\n"
        }
      },
      "outputs": [],
      "source": [
        "# <your code here>"
      ]
    },
    {
      "cell_type": "markdown",
      "metadata": {
        "id": "KndehSCHO9Dv",
        "pycharm": {
          "name": "#%% md\n"
        }
      },
      "source": [
        "**Задание 4.1 (2 балла).** Изучите, какие еще способы аугментаций изображений представлены в <code>torchvision.transforms</code>. Выберите несколько из них, объясните, как они устроены, и обучите модель с ними (по отдельности и вместе). Удалось ли добиться улучшения качества на тестовой выборке?"
      ]
    },
    {
      "cell_type": "code",
      "execution_count": null,
      "metadata": {
        "id": "Np4rgvdZ_QRF",
        "pycharm": {
          "name": "#%%\n"
        }
      },
      "outputs": [],
      "source": [
        "# <your code here>"
      ]
    },
    {
      "cell_type": "markdown",
      "metadata": {
        "id": "4K-MptLiO9Dv",
        "pycharm": {
          "name": "#%% md\n"
        }
      },
      "source": [
        "Your answers here:"
      ]
    },
    {
      "cell_type": "markdown",
      "metadata": {
        "id": "HCENjLw5O9Dv",
        "pycharm": {
          "name": "#%% md\n"
        }
      },
      "source": [
        "## Бонус. Логирование в wandb (1 балл)"
      ]
    },
    {
      "cell_type": "markdown",
      "metadata": {
        "id": "xOyzc1mnO9Dv",
        "pycharm": {
          "name": "#%% md\n"
        }
      },
      "source": [
        "На практике специалиста по глубинному обучению часто встречаются ситуации, когда нейросеть учится на каком-то удаленном сервере. И обычно вам хочется отслеживать прогресс обучения, особенно когда время обучения модели исчисляется днями или неделями. Для таких целей существует несколько инструментов. Вероятно, самый популярный из них — [wandb](https://wandb.ai/site).\n",
        "\n",
        "Ваша задача состоит в том, чтобы разобраться как им пользоваться, и повторить задания 2.1 и 2.2 с его использованием. Обучение вы можете запускать в этом же ноутбуке, но теперь вам необходимо через wandb логировать значения функции потерь и точности на обучающей выборке и на валидационной. Результатом работы должны быть ваш код и публичная ссылка на страничку с графиками, идентичными графикам в задании 2.2.\n",
        "\n",
        "Если вас смущает, что WandB грозится забанить вас, то можете разобраться с любым его аналогом и приложить ссылку на аналог."
      ]
    },
    {
      "cell_type": "code",
      "execution_count": null,
      "metadata": {
        "id": "m5gSTLAr_QS4",
        "pycharm": {
          "name": "#%%\n"
        }
      },
      "outputs": [],
      "source": [
        "# <your code here>"
      ]
    }
  ],
  "metadata": {
    "accelerator": "GPU",
    "colab": {
      "provenance": [],
      "include_colab_link": true
    },
    "kernelspec": {
      "display_name": "Python 3 (ipykernel)",
      "language": "python",
      "name": "python3"
    },
    "language_info": {
      "codemirror_mode": {
        "name": "ipython",
        "version": 3
      },
      "file_extension": ".py",
      "mimetype": "text/x-python",
      "name": "python",
      "nbconvert_exporter": "python",
      "pygments_lexer": "ipython3",
      "version": "3.10.4"
    }
  },
  "nbformat": 4,
  "nbformat_minor": 0
}
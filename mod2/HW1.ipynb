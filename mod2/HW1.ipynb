{
 "cells": [
  {
   "cell_type": "markdown",
   "id": "4d8a3644-3a5a-4cc5-8343-affe8d220687",
   "metadata": {},
   "source": [
    "### ДЗ по Numpy"
   ]
  },
  {
   "cell_type": "markdown",
   "id": "f412d9a0-8901-40f1-aea7-a57fc3d0c9cc",
   "metadata": {},
   "source": [
    "1. Импортируйте библиотеку numpy, переименовав ее на np"
   ]
  },
  {
   "cell_type": "code",
   "id": "29263dc6-f393-4544-b6e2-d64baf0a7dd7",
   "metadata": {
    "ExecuteTime": {
     "end_time": "2024-11-24T16:28:30.913575Z",
     "start_time": "2024-11-24T16:28:30.910627Z"
    }
   },
   "source": "import numpy as np",
   "outputs": [],
   "execution_count": 211
  },
  {
   "cell_type": "markdown",
   "id": "fd31f261-1438-43a1-80b2-d048bd7bec9d",
   "metadata": {},
   "source": [
    "2. Выведите на печать версию numpy и ее конфигурацию"
   ]
  },
  {
   "cell_type": "code",
   "id": "758c9918-1fcb-4b0b-a2b4-8d15b2d2a6c6",
   "metadata": {
    "ExecuteTime": {
     "end_time": "2024-11-24T16:28:30.985904Z",
     "start_time": "2024-11-24T16:28:30.975652Z"
    }
   },
   "source": [
    "print(np.__version__)\n",
    "np.show_config()"
   ],
   "outputs": [
    {
     "name": "stdout",
     "output_type": "stream",
     "text": [
      "1.26.4\n",
      "Build Dependencies:\n",
      "  blas:\n",
      "    detection method: pkgconfig\n",
      "    found: true\n",
      "    include directory: /opt/anaconda3/include\n",
      "    lib directory: /opt/anaconda3/lib\n",
      "    name: openblas\n",
      "    openblas configuration: USE_64BITINT= DYNAMIC_ARCH=1 DYNAMIC_OLDER= NO_CBLAS=\n",
      "      NO_LAPACK=0 NO_LAPACKE= NO_AFFINITY=1 USE_OPENMP=0 CORE2 MAX_THREADS=128\n",
      "    pc file directory: /opt/anaconda3/lib/pkgconfig\n",
      "    version: 0.3.21\n",
      "  lapack:\n",
      "    detection method: internal\n",
      "    found: true\n",
      "    include directory: unknown\n",
      "    lib directory: unknown\n",
      "    name: dep4429404432\n",
      "    openblas configuration: unknown\n",
      "    pc file directory: unknown\n",
      "    version: 1.26.4\n",
      "Compilers:\n",
      "  c:\n",
      "    args: -march=core2, -mtune=haswell, -mssse3, -ftree-vectorize, -fPIC, -fPIE, -fstack-protector-strong,\n",
      "      -O2, -pipe, -isystem, /opt/anaconda3/include, -fdebug-prefix-map=/var/folders/c_/qfmhj66j0tn016nkx_th4hxm0000gp/T/abs_b7iptlxgej/croot/numpy_and_numpy_base_1708638622773/work=/usr/local/src/conda/numpy-base-1.26.4,\n",
      "      -fdebug-prefix-map=/opt/anaconda3=/usr/local/src/conda-prefix, -D_FORTIFY_SOURCE=2,\n",
      "      -isystem, /opt/anaconda3/include, -mmacosx-version-min=10.9\n",
      "    commands: x86_64-apple-darwin13.4.0-clang\n",
      "    linker: ld64\n",
      "    linker args: -Wl,-pie, -Wl,-headerpad_max_install_names, -Wl,-dead_strip_dylibs,\n",
      "      -Wl,-rpath,/opt/anaconda3/lib, -L/opt/anaconda3/lib, -march=core2, -mtune=haswell,\n",
      "      -mssse3, -ftree-vectorize, -fPIC, -fPIE, -fstack-protector-strong, -O2, -pipe,\n",
      "      -isystem, /opt/anaconda3/include, -fdebug-prefix-map=/var/folders/c_/qfmhj66j0tn016nkx_th4hxm0000gp/T/abs_b7iptlxgej/croot/numpy_and_numpy_base_1708638622773/work=/usr/local/src/conda/numpy-base-1.26.4,\n",
      "      -fdebug-prefix-map=/opt/anaconda3=/usr/local/src/conda-prefix, -D_FORTIFY_SOURCE=2,\n",
      "      -isystem, /opt/anaconda3/include, -mmacosx-version-min=10.9\n",
      "    name: clang\n",
      "    version: 14.0.6\n",
      "  c++:\n",
      "    args: -march=core2, -mtune=haswell, -mssse3, -ftree-vectorize, -fPIC, -fPIE, -fstack-protector-strong,\n",
      "      -O2, -pipe, -stdlib=libc++, -fvisibility-inlines-hidden, -fmessage-length=0,\n",
      "      -isystem, /opt/anaconda3/include, -fdebug-prefix-map=/var/folders/c_/qfmhj66j0tn016nkx_th4hxm0000gp/T/abs_b7iptlxgej/croot/numpy_and_numpy_base_1708638622773/work=/usr/local/src/conda/numpy-base-1.26.4,\n",
      "      -fdebug-prefix-map=/opt/anaconda3=/usr/local/src/conda-prefix, -D_FORTIFY_SOURCE=2,\n",
      "      -isystem, /opt/anaconda3/include, -mmacosx-version-min=10.9\n",
      "    commands: x86_64-apple-darwin13.4.0-clang++\n",
      "    linker: ld64\n",
      "    linker args: -Wl,-pie, -Wl,-headerpad_max_install_names, -Wl,-dead_strip_dylibs,\n",
      "      -Wl,-rpath,/opt/anaconda3/lib, -L/opt/anaconda3/lib, -march=core2, -mtune=haswell,\n",
      "      -mssse3, -ftree-vectorize, -fPIC, -fPIE, -fstack-protector-strong, -O2, -pipe,\n",
      "      -stdlib=libc++, -fvisibility-inlines-hidden, -fmessage-length=0, -isystem, /opt/anaconda3/include,\n",
      "      -fdebug-prefix-map=/var/folders/c_/qfmhj66j0tn016nkx_th4hxm0000gp/T/abs_b7iptlxgej/croot/numpy_and_numpy_base_1708638622773/work=/usr/local/src/conda/numpy-base-1.26.4,\n",
      "      -fdebug-prefix-map=/opt/anaconda3=/usr/local/src/conda-prefix, -D_FORTIFY_SOURCE=2,\n",
      "      -isystem, /opt/anaconda3/include, -mmacosx-version-min=10.9\n",
      "    name: clang\n",
      "    version: 14.0.6\n",
      "  cython:\n",
      "    commands: cython\n",
      "    linker: cython\n",
      "    name: cython\n",
      "    version: 3.0.8\n",
      "Machine Information:\n",
      "  build:\n",
      "    cpu: x86_64\n",
      "    endian: little\n",
      "    family: x86_64\n",
      "    system: darwin\n",
      "  host:\n",
      "    cpu: x86_64\n",
      "    endian: little\n",
      "    family: x86_64\n",
      "    system: darwin\n",
      "Python Information:\n",
      "  path: /opt/anaconda3/bin/python\n",
      "  version: '3.12'\n",
      "SIMD Extensions:\n",
      "  baseline:\n",
      "  - SSE\n",
      "  - SSE2\n",
      "  - SSE3\n",
      "  - SSSE3\n",
      "  found:\n",
      "  - SSE41\n",
      "  - POPCNT\n",
      "  - SSE42\n",
      "  - AVX\n",
      "  - F16C\n",
      "  - FMA3\n",
      "  - AVX2\n",
      "  not found:\n",
      "  - AVX512F\n",
      "  - AVX512CD\n",
      "  - AVX512_KNL\n",
      "  - AVX512_SKX\n",
      "  - AVX512_CLX\n",
      "  - AVX512_CNL\n",
      "  - AVX512_ICL\n",
      "\n"
     ]
    }
   ],
   "execution_count": 212
  },
  {
   "cell_type": "markdown",
   "id": "3953e7ae-d14e-4497-8173-037204fe77d5",
   "metadata": {},
   "source": [
    "3. Создайте нулевой вектор размера 10"
   ]
  },
  {
   "cell_type": "code",
   "id": "20a28a83-f960-486e-9d85-d36f14975e99",
   "metadata": {
    "ExecuteTime": {
     "end_time": "2024-11-24T16:28:31.152130Z",
     "start_time": "2024-11-24T16:28:31.147067Z"
    }
   },
   "source": "np.zeros(10)",
   "outputs": [
    {
     "data": {
      "text/plain": [
       "array([0., 0., 0., 0., 0., 0., 0., 0., 0., 0.])"
      ]
     },
     "execution_count": 213,
     "metadata": {},
     "output_type": "execute_result"
    }
   ],
   "execution_count": 213
  },
  {
   "cell_type": "markdown",
   "id": "608c1886-5c41-4600-ac68-934fc4b2b2b7",
   "metadata": {},
   "source": [
    "4. Как создать вектор размера 10, пятый элемент которого = 1"
   ]
  },
  {
   "cell_type": "code",
   "id": "b4dd302d-dad2-4504-8bfa-88918adde997",
   "metadata": {
    "ExecuteTime": {
     "end_time": "2024-11-24T16:28:31.222811Z",
     "start_time": "2024-11-24T16:28:31.214857Z"
    }
   },
   "source": [
    "vector = np.random.randint(10, size=10)\n",
    "print(vector)\n",
    "vector[4] = 1\n",
    "vector"
   ],
   "outputs": [
    {
     "name": "stdout",
     "output_type": "stream",
     "text": [
      "[9 4 7 5 1 9 3 7 8 4]\n"
     ]
    },
    {
     "data": {
      "text/plain": [
       "array([9, 4, 7, 5, 1, 9, 3, 7, 8, 4])"
      ]
     },
     "execution_count": 214,
     "metadata": {},
     "output_type": "execute_result"
    }
   ],
   "execution_count": 214
  },
  {
   "cell_type": "markdown",
   "id": "daabc119-50e5-4cd5-a3cd-b8d811bc1d27",
   "metadata": {},
   "source": [
    "5. Создайте вектор со значениями от 10 до 49"
   ]
  },
  {
   "cell_type": "code",
   "id": "85dd2900-eda6-439c-8963-405d2c03e8d4",
   "metadata": {
    "ExecuteTime": {
     "end_time": "2024-11-24T16:28:31.303305Z",
     "start_time": "2024-11-24T16:28:31.298608Z"
    }
   },
   "source": [
    "vector = np.random.randint(10, 50, size=10)\n",
    "vector"
   ],
   "outputs": [
    {
     "data": {
      "text/plain": [
       "array([21, 28, 15, 22, 29, 22, 45, 19, 31, 16])"
      ]
     },
     "execution_count": 215,
     "metadata": {},
     "output_type": "execute_result"
    }
   ],
   "execution_count": 215
  },
  {
   "cell_type": "markdown",
   "id": "f5f29254-892a-4aa7-ac26-bccffe67aff8",
   "metadata": {},
   "source": [
    "6. Инвертировать вектор (первый элемент становится последним)"
   ]
  },
  {
   "cell_type": "code",
   "id": "cd4cb76d-4376-4238-9b5c-bc4918891829",
   "metadata": {
    "ExecuteTime": {
     "end_time": "2024-11-24T16:28:31.382418Z",
     "start_time": "2024-11-24T16:28:31.378144Z"
    }
   },
   "source": [
    "vector = np.random.randint(10, size=10)\n",
    "vector_invert = vector[::-1]\n",
    "vector, vector_invert"
   ],
   "outputs": [
    {
     "data": {
      "text/plain": [
       "(array([1, 4, 2, 6, 3, 2, 5, 3, 7, 3]), array([3, 7, 3, 5, 2, 3, 6, 2, 4, 1]))"
      ]
     },
     "execution_count": 216,
     "metadata": {},
     "output_type": "execute_result"
    }
   ],
   "execution_count": 216
  },
  {
   "cell_type": "markdown",
   "id": "9b536774-fa83-4f5d-acf2-68f07a4e3414",
   "metadata": {},
   "source": [
    "7. Создайте матрицу 3x3 со значениями от 0 до 8"
   ]
  },
  {
   "cell_type": "code",
   "id": "3df846a7-7ea5-46dc-9136-b93269057abb",
   "metadata": {
    "ExecuteTime": {
     "end_time": "2024-11-24T16:28:31.403867Z",
     "start_time": "2024-11-24T16:28:31.399727Z"
    }
   },
   "source": [
    "matrix = np.random.randint(9, size=(3, 3))\n",
    "matrix"
   ],
   "outputs": [
    {
     "data": {
      "text/plain": [
       "array([[4, 6, 8],\n",
       "       [4, 8, 5],\n",
       "       [4, 0, 8]])"
      ]
     },
     "execution_count": 217,
     "metadata": {},
     "output_type": "execute_result"
    }
   ],
   "execution_count": 217
  },
  {
   "cell_type": "markdown",
   "id": "b35a1a73-a88b-4321-a680-54c546668f2e",
   "metadata": {},
   "source": [
    "8. Найдите индексы ненулевых элементов из вектора [1,2,0,0,4,0]"
   ]
  },
  {
   "cell_type": "code",
   "id": "89f6a2a7-0bb7-4d1d-bd97-df037854b814",
   "metadata": {
    "ExecuteTime": {
     "end_time": "2024-11-24T16:28:31.484801Z",
     "start_time": "2024-11-24T16:28:31.477474Z"
    }
   },
   "source": [
    "vector = np.array([1, 2, 0, 0, 4, 0])\n",
    "np.nonzero(vector)"
   ],
   "outputs": [
    {
     "data": {
      "text/plain": [
       "(array([0, 1, 4]),)"
      ]
     },
     "execution_count": 218,
     "metadata": {},
     "output_type": "execute_result"
    }
   ],
   "execution_count": 218
  },
  {
   "cell_type": "markdown",
   "id": "25b67974-1b2b-4e6d-9f33-2f54040f0b1b",
   "metadata": {},
   "source": [
    "9. Создайте единичную матрицу 3x3"
   ]
  },
  {
   "cell_type": "code",
   "id": "dc2d37d5-051c-4f99-b99e-55cd568c3a71",
   "metadata": {
    "ExecuteTime": {
     "end_time": "2024-11-24T16:28:31.560698Z",
     "start_time": "2024-11-24T16:28:31.554048Z"
    }
   },
   "source": [
    "matrix_eye = np.eye(3)\n",
    "matrix_eye"
   ],
   "outputs": [
    {
     "data": {
      "text/plain": [
       "array([[1., 0., 0.],\n",
       "       [0., 1., 0.],\n",
       "       [0., 0., 1.]])"
      ]
     },
     "execution_count": 219,
     "metadata": {},
     "output_type": "execute_result"
    }
   ],
   "execution_count": 219
  },
  {
   "cell_type": "markdown",
   "id": "35987970-63e9-420b-9d33-86de574d8ce3",
   "metadata": {},
   "source": [
    "10. Создайте массив 3 на 3 на 3 со случайными значениями"
   ]
  },
  {
   "cell_type": "code",
   "id": "d0029945-8a88-495b-947d-39e891929081",
   "metadata": {
    "ExecuteTime": {
     "end_time": "2024-11-24T16:28:31.624913Z",
     "start_time": "2024-11-24T16:28:31.620572Z"
    }
   },
   "source": [
    "matrix_rand = np.random.randint(10, size=(3,3,3))\n",
    "matrix_rand"
   ],
   "outputs": [
    {
     "data": {
      "text/plain": [
       "array([[[1, 4, 0],\n",
       "        [7, 3, 3],\n",
       "        [4, 2, 2]],\n",
       "\n",
       "       [[7, 5, 7],\n",
       "        [4, 2, 0],\n",
       "        [8, 9, 1]],\n",
       "\n",
       "       [[9, 8, 0],\n",
       "        [4, 8, 7],\n",
       "        [6, 4, 3]]])"
      ]
     },
     "execution_count": 220,
     "metadata": {},
     "output_type": "execute_result"
    }
   ],
   "execution_count": 220
  },
  {
   "metadata": {},
   "cell_type": "markdown",
   "source": [
    "11. Создайте массив 10x10 со случайными значениями и найдите минимальное и максимальное значения\n",
    "\n"
   ],
   "id": "54455eef-8cc9-4fc2-85a3-f405171a4085"
  },
  {
   "cell_type": "code",
   "id": "409c96c5-03e6-4f9d-87aa-8dfac167a6e6",
   "metadata": {
    "ExecuteTime": {
     "end_time": "2024-11-24T16:28:31.702176Z",
     "start_time": "2024-11-24T16:28:31.695443Z"
    }
   },
   "source": [
    "matrix = np.random.randint(100, size=(10,10))\n",
    "minimum = matrix.min()\n",
    "maximum = matrix.max()\n",
    "matrix, minimum, maximum"
   ],
   "outputs": [
    {
     "data": {
      "text/plain": [
       "(array([[50,  2, 24, 13, 82, 14, 61, 89, 66, 28],\n",
       "        [12, 87,  4, 37, 27, 66,  4, 90, 27, 75],\n",
       "        [54, 98,  2, 67, 30, 22, 79, 59, 70,  9],\n",
       "        [ 2, 97, 39, 52, 68, 31,  1, 27, 34, 95],\n",
       "        [86, 95, 68,  7,  1, 31,  8, 95, 26, 10],\n",
       "        [84,  0, 26, 60,  2, 20, 77, 67, 71, 20],\n",
       "        [37,  2, 97, 15, 15, 25, 47, 51, 34, 22],\n",
       "        [89, 25, 65, 30, 93, 47, 58, 31, 18, 35],\n",
       "        [90, 11, 86, 77, 99, 96,  4, 78, 28, 86],\n",
       "        [35, 66, 73, 31, 47,  2, 32, 43, 57, 54]]),\n",
       " 0,\n",
       " 99)"
      ]
     },
     "execution_count": 221,
     "metadata": {},
     "output_type": "execute_result"
    }
   ],
   "execution_count": 221
  },
  {
   "metadata": {},
   "cell_type": "markdown",
   "source": "12. Создайте случайный вектор размером 30 и найдите среднее значение",
   "id": "0c3a3c1e-83e1-45ca-9757-e73f462b88a8"
  },
  {
   "cell_type": "code",
   "id": "d1e5d72d-3aa0-48db-a756-c186051631a1",
   "metadata": {
    "ExecuteTime": {
     "end_time": "2024-11-24T16:28:31.733644Z",
     "start_time": "2024-11-24T16:28:31.728722Z"
    }
   },
   "source": [
    "vector = np.random.randint(100, size=30)\n",
    "mean = vector.mean()\n",
    "vector, mean"
   ],
   "outputs": [
    {
     "data": {
      "text/plain": [
       "(array([70, 50, 58, 99, 35, 74, 48, 13, 89, 96, 41, 15, 27, 69, 51, 95, 70,\n",
       "        29, 25, 18, 53, 20, 56, 44, 47, 93, 22, 46, 49, 87]),\n",
       " 52.96666666666667)"
      ]
     },
     "execution_count": 222,
     "metadata": {},
     "output_type": "execute_result"
    }
   ],
   "execution_count": 222
  },
  {
   "metadata": {},
   "cell_type": "markdown",
   "source": "2. Создайте двумерный-массив с 1(единицами) на границе и 0(нулями) внутри",
   "id": "1a0b6a50-60ee-40f4-a9b3-9313a3eedc44"
  },
  {
   "cell_type": "code",
   "id": "b8f27103-8e00-4822-83cd-f8168e71c20c",
   "metadata": {
    "ExecuteTime": {
     "end_time": "2024-11-24T16:28:31.818602Z",
     "start_time": "2024-11-24T16:28:31.813780Z"
    }
   },
   "source": [
    "matrix = np.ones((10,10))\n",
    "matrix[1:-1, 1:-1] = 0\n",
    "matrix"
   ],
   "outputs": [
    {
     "data": {
      "text/plain": [
       "array([[1., 1., 1., 1., 1., 1., 1., 1., 1., 1.],\n",
       "       [1., 0., 0., 0., 0., 0., 0., 0., 0., 1.],\n",
       "       [1., 0., 0., 0., 0., 0., 0., 0., 0., 1.],\n",
       "       [1., 0., 0., 0., 0., 0., 0., 0., 0., 1.],\n",
       "       [1., 0., 0., 0., 0., 0., 0., 0., 0., 1.],\n",
       "       [1., 0., 0., 0., 0., 0., 0., 0., 0., 1.],\n",
       "       [1., 0., 0., 0., 0., 0., 0., 0., 0., 1.],\n",
       "       [1., 0., 0., 0., 0., 0., 0., 0., 0., 1.],\n",
       "       [1., 0., 0., 0., 0., 0., 0., 0., 0., 1.],\n",
       "       [1., 1., 1., 1., 1., 1., 1., 1., 1., 1.]])"
      ]
     },
     "execution_count": 223,
     "metadata": {},
     "output_type": "execute_result"
    }
   ],
   "execution_count": 223
  },
  {
   "metadata": {},
   "cell_type": "markdown",
   "source": "3. Умножьте матрицу 5x3 на матрицу 3x2 (матричное произведение)",
   "id": "164b1df5-09e2-4b23-ab47-84f329a569ca"
  },
  {
   "cell_type": "code",
   "id": "cfb916ee-22ad-46bc-b48e-606c8f0b5a79",
   "metadata": {
    "ExecuteTime": {
     "end_time": "2024-11-24T16:28:31.943769Z",
     "start_time": "2024-11-24T16:28:31.937552Z"
    }
   },
   "source": [
    "a = np.random.randint(10, size=(5,3))\n",
    "b = np.random.randint(10, size=(3,2))\n",
    "mul_a_b = np.matmul(a, b)\n",
    "a, b, mul_a_b"
   ],
   "outputs": [
    {
     "data": {
      "text/plain": [
       "(array([[3, 2, 7],\n",
       "        [9, 5, 1],\n",
       "        [3, 7, 4],\n",
       "        [8, 5, 3],\n",
       "        [2, 6, 6]]),\n",
       " array([[6, 0],\n",
       "        [1, 9],\n",
       "        [2, 6]]),\n",
       " array([[34, 60],\n",
       "        [61, 51],\n",
       "        [33, 87],\n",
       "        [59, 63],\n",
       "        [30, 90]]))"
      ]
     },
     "execution_count": 224,
     "metadata": {},
     "output_type": "execute_result"
    }
   ],
   "execution_count": 224
  },
  {
   "metadata": {},
   "cell_type": "markdown",
   "source": "4. Как вычислить ((A + B) * (- A / 2)) на месте (без копирования - то есть без создания дополнительного массива кроме существующих A, B)?",
   "id": "f8c4f0cd-ec0d-4f4e-8fd2-f42a599c73bc"
  },
  {
   "cell_type": "code",
   "id": "f1e0da6a-fe38-4f02-a1e3-1858b00195ee",
   "metadata": {
    "ExecuteTime": {
     "end_time": "2024-11-24T16:28:32.005652Z",
     "start_time": "2024-11-24T16:28:31.997663Z"
    }
   },
   "source": [
    "a = np.random.random(size=2)\n",
    "b = np.random.random(size=2)\n",
    "print (a, b)\n",
    "np.add(a, b, out=b)\n",
    "np.divide(a, 2, out=a)\n",
    "np.negative(a, out=a)\n",
    "np.multiply(a, b, out=a)\n",
    "a"
   ],
   "outputs": [
    {
     "name": "stdout",
     "output_type": "stream",
     "text": [
      "[0.60458309 0.5852662 ] [0.38540992 0.37567011]\n"
     ]
    },
    {
     "data": {
      "text/plain": [
       "array([-0.29926652, -0.28120177])"
      ]
     },
     "execution_count": 225,
     "metadata": {},
     "output_type": "execute_result"
    }
   ],
   "execution_count": 225
  },
  {
   "cell_type": "markdown",
   "id": "46457d22-3030-46ef-8661-65414657ef53",
   "metadata": {},
   "source": "5. Как получить документацию по функции numpy add (сложение) из командной строки?"
  },
  {
   "cell_type": "code",
   "id": "50776a80-51a6-4633-95f1-ac5bd55af11e",
   "metadata": {
    "ExecuteTime": {
     "end_time": "2024-11-24T16:28:32.075258Z",
     "start_time": "2024-11-24T16:28:32.071652Z"
    }
   },
   "source": "print(np.info(np.add))",
   "outputs": [
    {
     "name": "stdout",
     "output_type": "stream",
     "text": [
      "add(x1, x2, /, out=None, *, where=True, casting='same_kind', order='K', dtype=None, subok=True[, signature, extobj])\n",
      "\n",
      "Add arguments element-wise.\n",
      "\n",
      "Parameters\n",
      "----------\n",
      "x1, x2 : array_like\n",
      "    The arrays to be added.\n",
      "    If ``x1.shape != x2.shape``, they must be broadcastable to a common\n",
      "    shape (which becomes the shape of the output).\n",
      "out : ndarray, None, or tuple of ndarray and None, optional\n",
      "    A location into which the result is stored. If provided, it must have\n",
      "    a shape that the inputs broadcast to. If not provided or None,\n",
      "    a freshly-allocated array is returned. A tuple (possible only as a\n",
      "    keyword argument) must have length equal to the number of outputs.\n",
      "where : array_like, optional\n",
      "    This condition is broadcast over the input. At locations where the\n",
      "    condition is True, the `out` array will be set to the ufunc result.\n",
      "    Elsewhere, the `out` array will retain its original value.\n",
      "    Note that if an uninitialized `out` array is created via the default\n",
      "    ``out=None``, locations within it where the condition is False will\n",
      "    remain uninitialized.\n",
      "**kwargs\n",
      "    For other keyword-only arguments, see the\n",
      "    :ref:`ufunc docs <ufuncs.kwargs>`.\n",
      "\n",
      "Returns\n",
      "-------\n",
      "add : ndarray or scalar\n",
      "    The sum of `x1` and `x2`, element-wise.\n",
      "    This is a scalar if both `x1` and `x2` are scalars.\n",
      "\n",
      "Notes\n",
      "-----\n",
      "Equivalent to `x1` + `x2` in terms of array broadcasting.\n",
      "\n",
      "Examples\n",
      "--------\n",
      ">>> np.add(1.0, 4.0)\n",
      "5.0\n",
      ">>> x1 = np.arange(9.0).reshape((3, 3))\n",
      ">>> x2 = np.arange(3.0)\n",
      ">>> np.add(x1, x2)\n",
      "array([[  0.,   2.,   4.],\n",
      "       [  3.,   5.,   7.],\n",
      "       [  6.,   8.,  10.]])\n",
      "\n",
      "The ``+`` operator can be used as a shorthand for ``np.add`` on ndarrays.\n",
      "\n",
      ">>> x1 = np.arange(9.0).reshape((3, 3))\n",
      ">>> x2 = np.arange(3.0)\n",
      ">>> x1 + x2\n",
      "array([[ 0.,  2.,  4.],\n",
      "       [ 3.,  5.,  7.],\n",
      "       [ 6.,  8., 10.]])\n",
      "None\n"
     ]
    }
   ],
   "execution_count": 226
  },
  {
   "cell_type": "markdown",
   "id": "f91b668a-0ad2-4556-953b-396790d54f4e",
   "metadata": {},
   "source": "6. Создайте случайный вектор размером 10 и отсортируйте его"
  },
  {
   "cell_type": "code",
   "id": "e096aa82-ea0f-413e-87f3-b0c890fa385e",
   "metadata": {
    "ExecuteTime": {
     "end_time": "2024-11-24T16:28:32.164664Z",
     "start_time": "2024-11-24T16:28:32.159647Z"
    }
   },
   "source": [
    "vector = np.random.randint(100, size=10)\n",
    "print(vector)\n",
    "vector.sort()\n",
    "vector"
   ],
   "outputs": [
    {
     "name": "stdout",
     "output_type": "stream",
     "text": [
      "[88 77 70 61 19 90 71 76 12 74]\n"
     ]
    },
    {
     "data": {
      "text/plain": [
       "array([12, 19, 61, 70, 71, 74, 76, 77, 88, 90])"
      ]
     },
     "execution_count": 227,
     "metadata": {},
     "output_type": "execute_result"
    }
   ],
   "execution_count": 227
  },
  {
   "cell_type": "markdown",
   "id": "e4290ece-ddf6-4d6f-9dc9-c6322c61f297",
   "metadata": {},
   "source": "7. Как суммировать  массив размером 10"
  },
  {
   "cell_type": "code",
   "id": "1b4c98f1-6eab-40d3-8e20-7dcd820f487a",
   "metadata": {
    "ExecuteTime": {
     "end_time": "2024-11-24T16:28:32.218338Z",
     "start_time": "2024-11-24T16:28:32.212697Z"
    }
   },
   "source": [
    "array = np.random.randint(10, size=10)\n",
    "print(array)\n",
    "np.sum(array)"
   ],
   "outputs": [
    {
     "name": "stdout",
     "output_type": "stream",
     "text": [
      "[3 9 2 6 5 1 7 8 8 9]\n"
     ]
    },
    {
     "data": {
      "text/plain": [
       "58"
      ]
     },
     "execution_count": 228,
     "metadata": {},
     "output_type": "execute_result"
    }
   ],
   "execution_count": 228
  },
  {
   "cell_type": "markdown",
   "id": "d368e217-7e8a-48d5-9a67-b8ed43d63efa",
   "metadata": {},
   "source": "8. Рассмотрим два случайных массива A и B, проверьте, равны ли они"
  },
  {
   "cell_type": "code",
   "id": "91da46c9-99ab-4504-83ae-65a625a95cc4",
   "metadata": {
    "ExecuteTime": {
     "end_time": "2024-11-24T16:28:32.327265Z",
     "start_time": "2024-11-24T16:28:32.319931Z"
    }
   },
   "source": [
    "a = np.random.randint(2, size=2)\n",
    "b = np.random.randint(2, size=2)\n",
    "print (a, b)\n",
    "np.array_equal(a, b)"
   ],
   "outputs": [
    {
     "name": "stdout",
     "output_type": "stream",
     "text": [
      "[0 0] [0 1]\n"
     ]
    },
    {
     "data": {
      "text/plain": [
       "False"
      ]
     },
     "execution_count": 229,
     "metadata": {},
     "output_type": "execute_result"
    }
   ],
   "execution_count": 229
  },
  {
   "cell_type": "markdown",
   "id": "5813e2dd-c0b5-425d-bcb0-63922093ce8c",
   "metadata": {},
   "source": "9. Создайте случайный вектор размером 10 и замените максимальное значение на 0"
  },
  {
   "cell_type": "code",
   "id": "1f980bb8-c5b9-4558-8632-85f3e69ac7c4",
   "metadata": {
    "ExecuteTime": {
     "end_time": "2024-11-24T16:28:32.436476Z",
     "start_time": "2024-11-24T16:28:32.430151Z"
    }
   },
   "source": [
    "vector = np.random.randint(10, size=10)\n",
    "print(vector)\n",
    "vector[vector.argmax()] = 0\n",
    "vector"
   ],
   "outputs": [
    {
     "name": "stdout",
     "output_type": "stream",
     "text": [
      "[5 8 7 4 6 2 7 6 9 4]\n"
     ]
    },
    {
     "data": {
      "text/plain": [
       "array([5, 8, 7, 4, 6, 2, 7, 6, 0, 4])"
      ]
     },
     "execution_count": 230,
     "metadata": {},
     "output_type": "execute_result"
    }
   ],
   "execution_count": 230
  }
 ],
 "metadata": {
  "kernelspec": {
   "display_name": "Python 3 (ipykernel)",
   "language": "python",
   "name": "python3"
  },
  "language_info": {
   "codemirror_mode": {
    "name": "ipython",
    "version": 3
   },
   "file_extension": ".py",
   "mimetype": "text/x-python",
   "name": "python",
   "nbconvert_exporter": "python",
   "pygments_lexer": "ipython3",
   "version": "3.12.7"
  }
 },
 "nbformat": 4,
 "nbformat_minor": 5
}

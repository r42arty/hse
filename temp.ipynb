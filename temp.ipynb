{
  "nbformat": 4,
  "nbformat_minor": 0,
  "metadata": {
    "colab": {
      "provenance": [],
      "authorship_tag": "ABX9TyOQb/KM4g56F+8v/LMUZ5A9",
      "include_colab_link": true
    },
    "kernelspec": {
      "name": "python3",
      "display_name": "Python 3"
    },
    "language_info": {
      "name": "python"
    }
  },
  "cells": [
    {
      "cell_type": "markdown",
      "metadata": {
        "id": "view-in-github",
        "colab_type": "text"
      },
      "source": [
        "<a href=\"https://colab.research.google.com/github/r42arty/hse/blob/main/temp.ipynb\" target=\"_parent\"><img src=\"https://colab.research.google.com/assets/colab-badge.svg\" alt=\"Open In Colab\"/></a>"
      ]
    },
    {
      "cell_type": "code",
      "execution_count": null,
      "metadata": {
        "id": "Kg8eSdETsOiZ"
      },
      "outputs": [],
      "source": [
        "best_course = df_4year.groupby('blended')['rating'].mean().idxmax()\n",
        "best_course_avg_rating = df_4year.groupby('blended')['rating'].mean().max()\n",
        "best_course_count = df_4year[df_4year['blended'] == best_course].shape[0]\n",
        "\n",
        "print(f\"Blended-курс с самым высоким средним рейтингом: {best_course}\")\n",
        "print(f\"Средний рейтинг студентов на нем: {best_course_avg_rating:.2f}\")\n",
        "print(f\"Количество студентов на этом курсе: {best_course_count}\")\n"
      ]
    },
    {
      "cell_type": "code",
      "source": [
        "# Определяем список колонок, характеризующих выбор курсов\n",
        "course_columns = ['fall_1', 'fall_2', 'fall_3', 'spring_1', 'spring_2', 'spring_3', 'blended']\n",
        "\n",
        "# Группируем по предпочтениям и считаем количество студентов для каждой комбинации\n",
        "course_prefs = df[course_columns].value_counts()\n",
        "\n",
        "# Оставляем только строки, где количество студентов больше 1\n",
        "duplicate_prefs = course_prefs[course_prefs > 1]\n",
        "\n",
        "# Выводим результат\n",
        "print(\"Количество уникальных предпочтений по курсам:\", len(course_prefs))\n",
        "print(\"Количество повторяющихся предпочтений:\", len(duplicate_prefs))\n",
        "\n",
        "# Отображаем повторяющиеся предпочтения\n",
        "import pandas as pd\n",
        "import ace_tools as tools\n",
        "\n",
        "df_prefs = duplicate_prefs.reset_index().rename(columns={0: \"students_count\"})\n",
        "tools.display_dataframe_to_user(name=\"Повторяющиеся предпочтения студентов\", dataframe=df_prefs)"
      ],
      "metadata": {
        "id": "dBxoo0P6A-nh"
      },
      "execution_count": null,
      "outputs": []
    },
    {
      "cell_type": "code",
      "source": [
        "# Определяем курсовые колонки\n",
        "course_columns = ['fall_1', 'fall_2', 'fall_3', 'spring_1', 'spring_2', 'spring_3', 'blended']\n",
        "\n",
        "# Фильтруем студентов 17-го и 18-го года\n",
        "students_17 = df[df['17_group'] != 0]\n",
        "students_18 = df[df['18_group'] != 0]\n",
        "\n",
        "# На какие курсы записывались студенты 17-го года?\n",
        "courses_17 = set(students_17[course_columns].values.flatten())\n",
        "\n",
        "# На какие курсы записывались студенты 18-го года?\n",
        "courses_18 = set(students_18[course_columns].values.flatten())\n",
        "\n",
        "# Курсы, на которые записывались и 17-й, и 18-й год\n",
        "common_courses = courses_17.intersection(courses_18)\n",
        "\n",
        "# Исключаем NaN (если есть)\n",
        "common_courses.discard(0)\n",
        "common_courses.discard(None)\n",
        "common_courses.discard(\"\")\n",
        "\n",
        "print(\"Курсы, на которые записывались студенты обоих годов набора:\", common_courses)"
      ],
      "metadata": {
        "id": "DAyRQxiiF1Sb"
      },
      "execution_count": null,
      "outputs": []
    },
    {
      "cell_type": "code",
      "source": [
        "# Определяем курсовые колонки\n",
        "course_columns = ['fall_1', 'fall_2', 'fall_3', 'spring_1', 'spring_2', 'spring_3', 'blended']\n",
        "\n",
        "# Фильтруем студентов 17-го и 18-го года\n",
        "students_17 = df[df['17_group'] != 0]\n",
        "students_18 = df[df['18_group'] != 0]\n",
        "\n",
        "# На какие курсы записывались студенты 17-го года?\n",
        "courses_17 = set(students_17[course_columns].values.flatten())\n",
        "\n",
        "# На какие курсы записывались студенты 18-го года?\n",
        "courses_18 = set(students_18[course_columns].values.flatten())\n",
        "\n",
        "# Курсы, доступные только студентам 18-го года (но не 17-го)\n",
        "only_18 = courses_18.difference(courses_17)\n",
        "\n",
        "# Курсы, доступные только студентам 17-го года (но не 18-го)\n",
        "only_17 = courses_17.difference(courses_18)\n",
        "\n",
        "# Исключаем пустые значения (NaN, 0, None, \"\")\n",
        "only_18.discard(0)\n",
        "only_18.discard(None)\n",
        "only_18.discard(\"\")\n",
        "\n",
        "only_17.discard(0)\n",
        "only_17.discard(None)\n",
        "only_17.discard(\"\")\n",
        "\n",
        "print(\"Курсы, предлагавшиеся только студентам 18-го года:\", sorted(only_18))\n",
        "print(\"Курсы, предлагавшиеся только студентам 17-го года:\", sorted(only_17))"
      ],
      "metadata": {
        "id": "AK0JkvVlF9ay"
      },
      "execution_count": null,
      "outputs": []
    }
  ]
}
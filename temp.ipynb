{
  "nbformat": 4,
  "nbformat_minor": 0,
  "metadata": {
    "colab": {
      "provenance": [],
      "authorship_tag": "ABX9TyPdHVjUGdosbzlErRPxWgtt",
      "include_colab_link": true
    },
    "kernelspec": {
      "name": "python3",
      "display_name": "Python 3"
    },
    "language_info": {
      "name": "python"
    }
  },
  "cells": [
    {
      "cell_type": "markdown",
      "metadata": {
        "id": "view-in-github",
        "colab_type": "text"
      },
      "source": [
        "<a href=\"https://colab.research.google.com/github/r42arty/hse/blob/main/temp.ipynb\" target=\"_parent\"><img src=\"https://colab.research.google.com/assets/colab-badge.svg\" alt=\"Open In Colab\"/></a>"
      ]
    },
    {
      "cell_type": "code",
      "execution_count": null,
      "metadata": {
        "id": "Kg8eSdETsOiZ"
      },
      "outputs": [],
      "source": [
        "best_course = df_4year.groupby('blended')['rating'].mean().idxmax()\n",
        "best_course_avg_rating = df_4year.groupby('blended')['rating'].mean().max()\n",
        "best_course_count = df_4year[df_4year['blended'] == best_course].shape[0]\n",
        "\n",
        "print(f\"Blended-курс с самым высоким средним рейтингом: {best_course}\")\n",
        "print(f\"Средний рейтинг студентов на нем: {best_course_avg_rating:.2f}\")\n",
        "print(f\"Количество студентов на этом курсе: {best_course_count}\")\n"
      ]
    }
  ]
}
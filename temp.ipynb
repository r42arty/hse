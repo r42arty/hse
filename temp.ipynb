{
  "nbformat": 4,
  "nbformat_minor": 0,
  "metadata": {
    "colab": {
      "provenance": [],
      "authorship_tag": "ABX9TyOeubPLWLnhKozrYCfLN14N",
      "include_colab_link": true
    },
    "kernelspec": {
      "name": "python3",
      "display_name": "Python 3"
    },
    "language_info": {
      "name": "python"
    }
  },
  "cells": [
    {
      "cell_type": "markdown",
      "metadata": {
        "id": "view-in-github",
        "colab_type": "text"
      },
      "source": [
        "<a href=\"https://colab.research.google.com/github/r42arty/hse/blob/main/temp.ipynb\" target=\"_parent\"><img src=\"https://colab.research.google.com/assets/colab-badge.svg\" alt=\"Open In Colab\"/></a>"
      ]
    },
    {
      "cell_type": "code",
      "execution_count": null,
      "metadata": {
        "id": "Kg8eSdETsOiZ"
      },
      "outputs": [],
      "source": [
        "best_course = df_4year.groupby('blended')['rating'].mean().idxmax()\n",
        "best_course_avg_rating = df_4year.groupby('blended')['rating'].mean().max()\n",
        "best_course_count = df_4year[df_4year['blended'] == best_course].shape[0]\n",
        "\n",
        "print(f\"Blended-курс с самым высоким средним рейтингом: {best_course}\")\n",
        "print(f\"Средний рейтинг студентов на нем: {best_course_avg_rating:.2f}\")\n",
        "print(f\"Количество студентов на этом курсе: {best_course_count}\")\n"
      ]
    },
    {
      "cell_type": "code",
      "source": [
        "# Определяем список колонок, характеризующих выбор курсов\n",
        "course_columns = ['fall_1', 'fall_2', 'fall_3', 'spring_1', 'spring_2', 'spring_3', 'blended']\n",
        "\n",
        "# Группируем по предпочтениям и считаем количество студентов для каждой комбинации\n",
        "course_prefs = df[course_columns].value_counts()\n",
        "\n",
        "# Оставляем только строки, где количество студентов больше 1\n",
        "duplicate_prefs = course_prefs[course_prefs > 1]\n",
        "\n",
        "# Выводим результат\n",
        "print(\"Количество уникальных предпочтений по курсам:\", len(course_prefs))\n",
        "print(\"Количество повторяющихся предпочтений:\", len(duplicate_prefs))\n",
        "\n",
        "# Отображаем повторяющиеся предпочтения\n",
        "import pandas as pd\n",
        "import ace_tools as tools\n",
        "\n",
        "df_prefs = duplicate_prefs.reset_index().rename(columns={0: \"students_count\"})\n",
        "tools.display_dataframe_to_user(name=\"Повторяющиеся предпочтения студентов\", dataframe=df_prefs)"
      ],
      "metadata": {
        "id": "ePMgaafmAJ0Z"
      },
      "execution_count": null,
      "outputs": []
    }
  ]
}
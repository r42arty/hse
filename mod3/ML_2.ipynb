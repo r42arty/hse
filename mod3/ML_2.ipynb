{
  "cells": [
    {
      "cell_type": "markdown",
      "metadata": {
        "id": "view-in-github",
        "colab_type": "text"
      },
      "source": [
        "<a href=\"https://colab.research.google.com/github/r42arty/hse/blob/main/mod3/ML_2.ipynb\" target=\"_parent\"><img src=\"https://colab.research.google.com/assets/colab-badge.svg\" alt=\"Open In Colab\"/></a>"
      ]
    },
    {
      "cell_type": "markdown",
      "metadata": {
        "id": "xwCaqDFVDfW-"
      },
      "source": [
        "## <center> Практическое домашнее задание 2 </center>\n",
        "\n",
        "*`credits to ML course by E. Sokolov`*\n",
        "\n",
        "### Общая информация\n",
        "\n",
        "Дата выдачи: 23.02.2025\n",
        "\n",
        "Первый дедлайн: 07:59MSK 22.03.2025\n",
        "\n",
        "Второй дедлайн: 07:59MSK 24.03.2025"
      ]
    },
    {
      "cell_type": "markdown",
      "metadata": {
        "id": "oSHWVIk6DfXA"
      },
      "source": [
        "### О задании\n",
        "В этом задании мы попытаемся научиться анализировать данные и выделять из них полезные признаки. Мы также научимся пользоваться `seaborn` и `sklearn`, а заодно привыкнем к основным понятиям машинного обучения.\n",
        "\n",
        "### Оценивание и штрафы\n",
        "Каждая из задач имеет определенную «стоимость» (указана в скобках около задачи). Проверяющий имеет право снизить оценку за неэффективную реализацию или неопрятные графики.\n",
        "\n",
        "**Обратите внимание**, что в каждом разделе домашнего задания есть оцениваниемые задачи и есть вопросы. Вопросы дополняют задачи и направлены на то, чтобы проинтерпретировать или обосновать происходящее. Код без интерпретации не имеет смысла, поэтому отвечать на вопросы обязательно — за отсутствие ответов мы будем снижать баллы за задачи. Если вы ответите на вопросы, но не напишете корректный код к соответствующим оцениваемым задачам, то баллы за такое выставлены не будут.\n",
        "\n",
        "**Штраф за каждый день просрочки мягкого дедлайна**: 0.5 баллов. После жесткого дедлайна работы не принимаются.\n",
        "\n",
        "Задание выполняется самостоятельно. «Похожие» решения считаются плагиатом и все задействованные студенты (в том числе те, у кого списали) не могут получить за него больше 0 баллов. Если вы нашли решение какого-то из заданий (или его часть) в открытом источнике, необходимо указать ссылку на этот источник.\n",
        "\n",
        "### Формат сдачи\n",
        "Задания сдаются через яндекс-форму в чате курса. Сам ноутбук называйте в формате homework-practice-02-linregr-Username.ipynb, где Username — ваша фамилия."
      ]
    },
    {
      "cell_type": "markdown",
      "metadata": {
        "id": "oEUawCi3DfXB"
      },
      "source": [
        "В этом ноутбуке используется библиотека `folium` для визуализации карт. Она работает в google colab!"
      ]
    },
    {
      "cell_type": "code",
      "execution_count": null,
      "metadata": {
        "ExecuteTime": {
          "end_time": "2020-09-26T16:46:41.323933Z",
          "start_time": "2020-09-26T16:46:38.248043Z"
        },
        "id": "5vRs__caDfXB"
      },
      "outputs": [],
      "source": [
        "!pip install folium"
      ]
    },
    {
      "cell_type": "code",
      "execution_count": null,
      "metadata": {
        "ExecuteTime": {
          "end_time": "2020-09-26T16:54:29.903693Z",
          "start_time": "2020-09-26T16:54:29.891068Z"
        },
        "id": "BN1xhdw9DfXC"
      },
      "outputs": [],
      "source": [
        "import folium\n",
        "\n",
        "m = folium.Map(location=(55.7522200, 37.6155600), zoom_start=10)\n",
        "\n",
        "m"
      ]
    },
    {
      "cell_type": "markdown",
      "metadata": {
        "id": "nvqnch9LDfXC"
      },
      "source": [
        "Если вы всё сделали правильно, то выше должна открыться карта Москвы."
      ]
    },
    {
      "cell_type": "code",
      "execution_count": null,
      "metadata": {
        "ExecuteTime": {
          "end_time": "2020-09-26T16:48:20.566549Z",
          "start_time": "2020-09-26T16:48:19.893995Z"
        },
        "id": "VklOGqcZDfXC"
      },
      "outputs": [],
      "source": [
        "import pandas as pd\n",
        "import numpy as np\n",
        "import matplotlib.pyplot as plt\n",
        "import seaborn as sns\n",
        "\n",
        "%matplotlib inline\n",
        "\n",
        "sns.set(style=\"darkgrid\")\n",
        "\n",
        "np.random.seed(0)"
      ]
    },
    {
      "cell_type": "markdown",
      "metadata": {
        "id": "gDowxFTBDfXD"
      },
      "source": [
        "## Введение\n",
        "\n",
        "*эта часть - введение в задачу, баллов за нее не предусмотрено - она исключительно, чтобы помочь вам :-)*\n",
        "\n",
        "Решение любой задачи, связанной с машинным обучением, начинается с разведочного анализа данных. Перед тем, как строить модели, надо понять, сколько у нас данных и какая информация есть о каждом объекте, а также:\n",
        "* выяснить, нет ли пропусков в данных (т.е. отсутствующих значений признаков у некоторых объектов)\n",
        "* выяснить, нет ли выбросов (т.е. объектов, которые очень сильно отличаются от большинства, имеют неадекватные значения признаков)\n",
        "* выяснить, нет ли повторов в данных\n",
        "* выяснить, нет ли нелогичной информации (например, если мы анализируем данные по кредитам, и видим запись, где кредит выдали пятилетнему ребёнку, то это странно)\n",
        "\n",
        "И это лишь небольшой список проблем, которые можно выявить. Помимо этого с данными нужно в целом познакомиться, чтобы понять, какие признаки там можно сделать, какие из них будут наиболее полезны.\n",
        "\n",
        "Попробуем провести такой анализ на реальной задаче предсказания продолжительности поездки на такси в Нью-Йорке:"
      ]
    },
    {
      "cell_type": "code",
      "execution_count": null,
      "metadata": {
        "id": "mT6nRVCXDfXD"
      },
      "outputs": [],
      "source": [
        "!wget  -O 'train.csv' -q 'https://www.dropbox.com/s/en5f9nhn915cnkf/_train.csv?dl=0'\n",
        "\n",
        "train = pd.read_csv('train.csv')\n",
        "train.head()"
      ]
    },
    {
      "cell_type": "markdown",
      "metadata": {
        "id": "CG6AlyDKDfXD"
      },
      "source": [
        "Смысл столбцов:\n",
        "\n",
        "* id - идентификатор поездки\n",
        "* vendor_id - код провайдера, от которого пришла информация о поездке\n",
        "* pickup_datetime - время старта поездки\n",
        "* dropoff_datetime - время окончания поездки\n",
        "* passenger_count - число пассажиров (вводится водителем)\n",
        "* pickup_longitude - долгота точки посадки\n",
        "* pickup_latitude - широта точки посадки\n",
        "* dropoff_longitude - долгота точки высадки\n",
        "* dropoff_latitude - долгота точки высадки\n",
        "* store_and_fwd_flag - равно Y, если информация о поездке какое-то время хранилась в памяти таксометра из-за отсутствия связи; иначе принимает значение N\n",
        "* trip_duration - продолжительность поездки в секундах\n",
        "\n",
        "Посмотрим внимательно на столбцы из нашей таблицы и попробуем проверить, нет ли там противоречий и проблем. Например, в голову приходят следующие вопросы:\n",
        "* можно ли считать ID уникальным идентификатором поездки, или же есть записи с одинаковыми ID?\n",
        "* есть ли где-то пропуски?\n",
        "* действительно ли столбец store_and_fwd_flag принимает только значения Y и N?"
      ]
    },
    {
      "cell_type": "code",
      "execution_count": null,
      "metadata": {
        "id": "ZV4a-cOFDfXE"
      },
      "outputs": [],
      "source": [
        "print('Id is unique.') if train.id.nunique() == train.shape[0] else print('oops')\n",
        "print('We do not need to worry about missing values.') if train.count().min() == train.shape[0] else print('oops')\n",
        "print('The store_and_fwd_flag has only two values {}.'.format(str(set(train.store_and_fwd_flag.unique()))))"
      ]
    },
    {
      "cell_type": "code",
      "execution_count": null,
      "metadata": {
        "id": "i0Rsoo7eDfXE"
      },
      "outputs": [],
      "source": [
        "train.dtypes"
      ]
    },
    {
      "cell_type": "markdown",
      "metadata": {
        "id": "oZQp3lreDfXE"
      },
      "source": [
        "Видно, что pandas отнёс столбцы с датами к общему типу object. Будет лучше привести их к типу datetime, чтобы использовать удобные функции для манипуляций с датами. Заодно сделаем проверку — действительно ли столбец check_trip_duration показывает продолжительность поездки, или же он входит в противоречие со столбцами pickup_datetime и dropoff_datetime."
      ]
    },
    {
      "cell_type": "code",
      "execution_count": null,
      "metadata": {
        "id": "VuwtY7iEDfXE"
      },
      "outputs": [],
      "source": [
        "train['pickup_datetime'] = pd.to_datetime(train.pickup_datetime)\n",
        "train.loc[:, 'pickup_date'] = train['pickup_datetime'].dt.date\n",
        "train['dropoff_datetime'] = pd.to_datetime(train.dropoff_datetime)\n",
        "train['store_and_fwd_flag'] = 1 * (train.store_and_fwd_flag.values == 'Y')\n",
        "train['check_trip_duration'] = (train['dropoff_datetime'] - train['pickup_datetime']).map(lambda x: x.total_seconds())\n",
        "duration_difference = train[np.abs(train['check_trip_duration'].values  - train['trip_duration'].values) > 1]\n",
        "print('Trip_duration and datetimes are ok.') if len(duration_difference[['pickup_datetime', 'dropoff_datetime', 'trip_duration', 'check_trip_duration']]) == 0 else print('Ooops.')"
      ]
    },
    {
      "cell_type": "code",
      "execution_count": null,
      "metadata": {
        "id": "2A-jq_CQDfXE"
      },
      "outputs": [],
      "source": [
        "train.head()"
      ]
    },
    {
      "cell_type": "markdown",
      "metadata": {
        "id": "TA8eg7kADfXF"
      },
      "source": [
        "Ещё имеет смысл проверить целевую переменную trip_duration. Нет ли там выбросов? Какими по продолжительности бывают поездки? Выглядит ли распределение этой переменной осмысленно?\n",
        "\n",
        "Когда в каком-то столбце распределение имеет тяжёлые хвосты или есть выбросы, обычные гистограммы не очень информативны. В этом случае может быть полезно нарисовать распределение в логарифмической шкале."
      ]
    },
    {
      "cell_type": "code",
      "execution_count": null,
      "metadata": {
        "id": "ahgdqpVeDfXF"
      },
      "outputs": [],
      "source": [
        "plt.hist(train['trip_duration'].values, bins=100)\n",
        "plt.xlabel('trip_duration')\n",
        "plt.ylabel('number of train records')\n",
        "plt.show()\n",
        "\n",
        "train['log_trip_duration'] = np.log1p(train['trip_duration'].values)\n",
        "plt.hist(train['log_trip_duration'].values, bins=100)\n",
        "plt.xlabel('log(trip_duration)')\n",
        "plt.ylabel('number of train records')\n",
        "plt.show()"
      ]
    },
    {
      "cell_type": "code",
      "execution_count": null,
      "metadata": {
        "id": "GT-zKY0CDfXF"
      },
      "outputs": [],
      "source": [
        "print(\"В секундах:\", np.exp(5), np.exp(9))\n",
        "print(\"В минутах:\", np.exp(5) // 60, np.exp(9) // 60)"
      ]
    },
    {
      "cell_type": "markdown",
      "metadata": {
        "id": "2j2eUGqNDfXF"
      },
      "source": [
        "Кандидатов на выбрасывание не так уж много — например, если взять поездки длиной 10 часа и больше, то их окажется около двух тысяч, и определённо надо выяснять, что это такое."
      ]
    },
    {
      "cell_type": "code",
      "execution_count": null,
      "metadata": {
        "id": "jDo-JWroDfXG"
      },
      "outputs": [],
      "source": [
        "train[train.trip_duration >= 10 * 3600]"
      ]
    },
    {
      "cell_type": "markdown",
      "metadata": {
        "id": "rJnfTnpvDfXG"
      },
      "source": [
        "Попробуем нарисовать, откуда обычно стартуют поездки."
      ]
    },
    {
      "cell_type": "code",
      "execution_count": null,
      "metadata": {
        "id": "EZWnIPM8DfXG"
      },
      "outputs": [],
      "source": [
        "N = 100000\n",
        "city_long_border = (-74.03, -73.75)\n",
        "city_lat_border = (40.63, 40.85)\n",
        "plt.figure(figsize=(15,15))\n",
        "plt.scatter(train['pickup_longitude'].values[:N], train['pickup_latitude'].values[:N],\n",
        "              color='blue', s=1, label='train', alpha=0.1)\n",
        "plt.ylabel('latitude')\n",
        "plt.xlabel('longitude')\n",
        "plt.ylim(city_lat_border)\n",
        "plt.xlim(city_long_border)\n",
        "plt.show()"
      ]
    },
    {
      "cell_type": "code",
      "execution_count": null,
      "metadata": {
        "id": "ItU09sSPDfXG"
      },
      "outputs": [],
      "source": [
        "from ipyleaflet import Map, Circle, LayerGroup, basemaps\n",
        "\n",
        "def show_circles_on_map(data, latitude_column, longitude_column, color):\n",
        "    \"\"\"\n",
        "    The function draws map with circles on it.\n",
        "    The center of the map is the mean of coordinates passed in data.\n",
        "\n",
        "    data: DataFrame that contains columns latitude_column and longitude_column\n",
        "    latitude_column: string, the name of column for latitude coordinates\n",
        "    longitude_column: string, the name of column for longitude coordinates\n",
        "    color: string, the color of circles to be drawn\n",
        "    \"\"\"\n",
        "\n",
        "    center = (data[latitude_column].mean(), data[longitude_column].mean())\n",
        "    result_map = Map(center=center, zoom=10, basemap=basemaps.Esri.NatGeoWorldMap)\n",
        "\n",
        "    circles = []\n",
        "    for _, row in data.iterrows():\n",
        "        circles.append(Circle(\n",
        "            location=(row[latitude_column], row[longitude_column]),\n",
        "            fill_color=color,\n",
        "            fill_opacity=0.2,\n",
        "            radius=300,\n",
        "            stroke=False\n",
        "        ))\n",
        "    circles_layer = LayerGroup(layers=circles)\n",
        "    result_map.add_layer(circles_layer)\n",
        "\n",
        "    return result_map\n",
        "\n",
        "show_circles_on_map(train.sample(1000), \"pickup_latitude\", \"pickup_longitude\", \"blue\")"
      ]
    },
    {
      "cell_type": "markdown",
      "metadata": {
        "id": "cmGjdBHlDfXG"
      },
      "source": [
        "Кстати, случайный ли порядок записей в таблице? Это важно понимать, например, для разбиения выборки на обучающую и тестовую части. Если порядок не является случайным, а мы отнесём к обучающей части первую половину таблицы, то есть риск, что данные в обучении и тесте будут иметь разные распределения, а значит, модель сможет хорошо работать только на одной из частей."
      ]
    },
    {
      "cell_type": "code",
      "execution_count": null,
      "metadata": {
        "id": "eh5SsygIDfXG"
      },
      "outputs": [],
      "source": [
        "plt.figure(figsize=(15,5))\n",
        "days_since_min_ride = (train['pickup_datetime'] - train['pickup_datetime'].min()).apply(lambda x: x.total_seconds() // (60*60*24))\n",
        "plt.plot(days_since_min_ride[::1000], 'o-')\n",
        "plt.title('Связь номера строки и времени поездки')\n",
        "plt.xlabel('Номер записи в таблице')\n",
        "plt.ylabel('Дней с момента ранней поездки')"
      ]
    },
    {
      "cell_type": "markdown",
      "metadata": {
        "id": "RnSWYQl8DfXG"
      },
      "source": [
        "Вроде бы всё довольно случайно.\n",
        "\n",
        "Посчитаем какие-нибудь признаки. Скорее всего продолжительность поездки неплохо зависит от расстояния — посчитаем его. Кстати, важно заметить, что само расстояние не может быть признаком, поскольку в тестовой выборке нет информации о пункте назначения. Но мы пока исследуем данные и, может, увидим в расстояниях что-то интересное.\n",
        "\n",
        "Можно выбрать научный подход и посчитать честное расстояние на сфере между двумя точками. Это называется haversine distance.\n",
        "\n",
        "Можно решить, что Земля плоская, и считать стандартные расстояния. В этом случае очень неплохо подойдёт манхэттенское расстояние — оно учитывает, что машины всё-таки не летают.\n",
        "\n"
      ]
    },
    {
      "cell_type": "code",
      "execution_count": null,
      "metadata": {
        "id": "AXJSpo6CDfXH"
      },
      "outputs": [],
      "source": [
        "def haversine_array(lat1, lng1, lat2, lng2):\n",
        "    lat1, lng1, lat2, lng2 = map(np.radians, (lat1, lng1, lat2, lng2))\n",
        "    AVG_EARTH_RADIUS = 6371  # in km\n",
        "    lat = lat2 - lat1\n",
        "    lng = lng2 - lng1\n",
        "    d = np.sin(lat * 0.5) ** 2 + np.cos(lat1) * np.cos(lat2) * np.sin(lng * 0.5) ** 2\n",
        "    h = 2 * AVG_EARTH_RADIUS * np.arcsin(np.sqrt(d))\n",
        "    return h\n",
        "\n",
        "def dummy_manhattan_distance(lat1, lng1, lat2, lng2):\n",
        "    a = haversine_array(lat1, lng1, lat1, lng2)\n",
        "    b = haversine_array(lat1, lng1, lat2, lng1)\n",
        "    return a + b\n",
        "\n",
        "train.loc[:, 'distance_haversine'] = haversine_array(train['pickup_latitude'].values, train['pickup_longitude'].values, train['dropoff_latitude'].values, train['dropoff_longitude'].values)\n",
        "train.loc[:, 'distance_dummy_manhattan'] = dummy_manhattan_distance(train['pickup_latitude'].values, train['pickup_longitude'].values, train['dropoff_latitude'].values, train['dropoff_longitude'].values)"
      ]
    },
    {
      "cell_type": "markdown",
      "metadata": {
        "id": "_Zcxxg65DfXH"
      },
      "source": [
        "Обсудим немного скорость вычислений в pandas. Есть несколько способов применить функцию к каждой строке в таблице. Если вы до этого изучали преимущественно C/C++, то первое, что должно прийти вам в голову, — написать цикл."
      ]
    },
    {
      "cell_type": "code",
      "execution_count": null,
      "metadata": {
        "id": "yORFiKJ7DfXH"
      },
      "outputs": [],
      "source": [
        "%%timeit\n",
        "\n",
        "for i in range(100):\n",
        "    train1[i, 'distance_haversine'] = haversine_array(train1['pickup_latitude'].iloc[i],\n",
        "                                                      train1['pickup_longitude'].iloc[i],\n",
        "                                                      train1['dropoff_latitude'].iloc[i],\n",
        "                                                      train1['dropoff_longitude'].iloc[i])"
      ]
    },
    {
      "cell_type": "markdown",
      "metadata": {
        "id": "2UkysuA7DfXH"
      },
      "source": [
        "Обратите внимание, что мы посчитали расстояния всего лишь для первых 100 записей, и это уже было не очень быстро.\n",
        "\n",
        "Можно воспользоваться функцией apply."
      ]
    },
    {
      "cell_type": "code",
      "execution_count": null,
      "metadata": {
        "id": "Y4FXkB3HDfXH"
      },
      "outputs": [],
      "source": [
        "%%timeit\n",
        "\n",
        "train1.iloc[:5000, :].apply(lambda x:\n",
        "                            haversine_array(x['pickup_latitude'],\n",
        "                                            x['pickup_longitude'],\n",
        "                                            x['dropoff_latitude'],\n",
        "                                            x['dropoff_longitude']),\n",
        "                            axis=1)"
      ]
    },
    {
      "cell_type": "markdown",
      "metadata": {
        "id": "QhY30xiSDfXH"
      },
      "source": [
        "За то же самое время мы успеваем обработать уже 5000 записей, а не 100.\n",
        "\n",
        "Но лучший способ — это векторизовать вычисления. Подробнее об этом мы будем говорить на следующих семинарах."
      ]
    },
    {
      "cell_type": "code",
      "execution_count": null,
      "metadata": {
        "id": "BiLZwiV8DfXH"
      },
      "outputs": [],
      "source": [
        "%%timeit\n",
        "train.loc[:, 'distance_haversine'] = haversine_array(train['pickup_latitude'].values,\n",
        "                                                     train['pickup_longitude'].values,\n",
        "                                                     train['dropoff_latitude'].values,\n",
        "                                                     train['dropoff_longitude'].values)"
      ]
    },
    {
      "cell_type": "markdown",
      "metadata": {
        "id": "I_Y75FXxDfXH"
      },
      "source": [
        "## Часть 0. Подготовка (1.5 балла)"
      ]
    },
    {
      "cell_type": "markdown",
      "metadata": {
        "id": "CnbXtkyCDfXH"
      },
      "source": [
        "**Задание 1 (1.5 балла)**. Мы будем работать с данными из соревнования [New York City Taxi Trip Duration](https://www.kaggle.com/c/nyc-taxi-trip-duration/overview), в котором нужно было предсказать длительность поездки на такси. Скачайте обучающую выборку из этого соревнования и загрузите ее:\n",
        "\n",
        "*1.5 балла - за всю эту часть*"
      ]
    },
    {
      "cell_type": "code",
      "source": [
        "import pandas as pd\n",
        "import numpy as np\n",
        "import matplotlib.pyplot as plt\n",
        "import seaborn as sns\n",
        "\n",
        "%matplotlib inline\n",
        "\n",
        "sns.set(style=\"darkgrid\")\n",
        "\n",
        "np.random.seed(0)"
      ],
      "metadata": {
        "id": "g63YYqAFMPgj"
      },
      "execution_count": 13,
      "outputs": []
    },
    {
      "cell_type": "code",
      "execution_count": 14,
      "metadata": {
        "ExecuteTime": {
          "end_time": "2020-09-26T17:03:41.260445Z",
          "start_time": "2020-09-26T17:03:37.878813Z"
        },
        "colab": {
          "base_uri": "https://localhost:8080/"
        },
        "id": "a7Ty5w9JDfXH",
        "outputId": "516f993c-0f67-4d53-dad6-f6a782253f7d"
      },
      "outputs": [
        {
          "output_type": "stream",
          "name": "stdout",
          "text": [
            "<class 'pandas.core.frame.DataFrame'>\n",
            "RangeIndex: 1458644 entries, 0 to 1458643\n",
            "Data columns (total 11 columns):\n",
            " #   Column              Non-Null Count    Dtype  \n",
            "---  ------              --------------    -----  \n",
            " 0   id                  1458644 non-null  object \n",
            " 1   vendor_id           1458644 non-null  int64  \n",
            " 2   pickup_datetime     1458644 non-null  object \n",
            " 3   dropoff_datetime    1458644 non-null  object \n",
            " 4   passenger_count     1458644 non-null  int64  \n",
            " 5   pickup_longitude    1458644 non-null  float64\n",
            " 6   pickup_latitude     1458644 non-null  float64\n",
            " 7   dropoff_longitude   1458644 non-null  float64\n",
            " 8   dropoff_latitude    1458644 non-null  float64\n",
            " 9   store_and_fwd_flag  1458644 non-null  object \n",
            " 10  trip_duration       1458644 non-null  int64  \n",
            "dtypes: float64(4), int64(3), object(4)\n",
            "memory usage: 122.4+ MB\n"
          ]
        }
      ],
      "source": [
        "!wget  -O 'train.csv' -q 'https://www.dropbox.com/s/en5f9nhn915cnkf/_train.csv?dl=0'\n",
        "\n",
        "train = pd.read_csv(\"train.csv\")\n",
        "train.info()"
      ]
    },
    {
      "cell_type": "markdown",
      "metadata": {
        "id": "qno_MLXjDfXH"
      },
      "source": [
        "Обратите внимание на колонки `pickup_datetime` и `dropoff_datetime`. `dropoff_datetime` был добавлена организаторами только в обучающую выборку, то есть использовать эту колонку нельзя, давайте удалим ее. В `pickup_datetime` записаны дата и время начала поездки. Чтобы с ней было удобно работать, давайте преобразуем даты в `datetime`-объекты"
      ]
    },
    {
      "cell_type": "code",
      "execution_count": 15,
      "metadata": {
        "id": "i1YQEp02DfXH"
      },
      "outputs": [],
      "source": [
        "train_set = train.drop(\"dropoff_datetime\", axis=1)\n",
        "train_set[\"pickup_datetime\"] = pd.to_datetime(train_set[\"pickup_datetime\"])\n",
        "train_set['date'] = train_set['pickup_datetime'].dt.date"
      ]
    },
    {
      "cell_type": "markdown",
      "metadata": {
        "id": "OuEY7MM-DfXH"
      },
      "source": [
        "В колонке `trip_duration` записано целевое значение, которое мы хотим предсказывать. Давайте посмотрим на распределение таргета в обучающей выборке. Для этого нарисуйте его гистограмму:"
      ]
    },
    {
      "cell_type": "code",
      "execution_count": 16,
      "metadata": {
        "colab": {
          "base_uri": "https://localhost:8080/",
          "height": 540
        },
        "id": "78YP1I9uDfXI",
        "outputId": "0e04ff67-447a-4759-fea4-2fdddb6de303"
      },
      "outputs": [
        {
          "output_type": "display_data",
          "data": {
            "text/plain": [
              "<Figure size 1800x600 with 1 Axes>"
            ],
            "image/png": "[encoded data removed]"
          },
          "metadata": {}
        }
      ],
      "source": [
        "plt.figure(figsize=(18,6))\n",
        "plt.title(\"Trip Duration Distribution\")\n",
        "\n",
        "plt.hist(train_set['trip_duration'].values, bins=100)\n",
        "plt.xlabel('trip_duration')\n",
        "plt.ylabel('number of train records')\n",
        "\n",
        "plt.show()"
      ]
    },
    {
      "cell_type": "markdown",
      "metadata": {
        "id": "H3laDE3xDfXI"
      },
      "source": [
        "**Вопрос**: Что можно сказать о целевой переменной по гистограмме её значений?"
      ]
    },
    {
      "cell_type": "markdown",
      "metadata": {
        "id": "POv_wP55DfXI"
      },
      "source": [
        "В соревновании в качестве метрики качества использовалось RMSLE:\n",
        "$$\\text{RMSLE}(X, y, a) = \\sqrt{\\frac{1}{\\ell}\\sum_{i=1}^{\\ell} \\big(\\log{(y_i + 1)} - \\log{(a(x_i) + 1)}\\big)^2}$$\n",
        "\n",
        "**Вопрос**: Как вы думаете, почему авторы соревнования выбрали именно RMSLE, а не RMSE?"
      ]
    },
    {
      "cell_type": "markdown",
      "metadata": {
        "id": "mbhkgopiDfXI"
      },
      "source": [
        "На семинаре мы рассматривали несколько моделей линейной регрессии в `sklearn`, но каждая из них оптимизировала среднеквадратичную ошибку (MSE), а не RMSLE. Давайте проделаем следующий трюк: будем предсказывать не целевую переменную, а ее *логарифм*. Обозначим $\\hat{y}_i = \\log{(y_i + 1)}$ — модифицированный таргет, а $\\hat{a}(x_i)$ — предсказание модели, которая обучалась на $\\hat{y}_i$, то есть логарифм таргета. Чтобы предсказать исходное значение, мы можем просто взять экспоненту от нашего предсказания: $a(x_i) = \\exp(\\hat{a}(x_i)) - 1$.\n",
        "\n",
        "Мы смогли свести задачу оптимизации RMSLE к эквивалентной задаче оптимизации MSE, которую мы умеем решать! Кроме того, у логарифмирования таргета есть еще одно полезное свойство. Чтобы его увидеть, добавьте к нашей выборке колонку `log_trip_duration` (воспользуйтесь `np.log1p`) и нарисуйте гистограмму модифицированного таргета по обучающей выборке. Удалите колонку со старым таргетом."
      ]
    },
    {
      "cell_type": "code",
      "execution_count": 17,
      "metadata": {
        "id": "iwr9cQCWDfXI"
      },
      "outputs": [],
      "source": [
        "train_set['log_trip_duration'] = np.log1p(train_set['trip_duration'].values)"
      ]
    },
    {
      "cell_type": "code",
      "source": [
        "plt.figure(figsize=(8,6))\n",
        "plt.title(\"Trip Duration Log Distribution\")\n",
        "\n",
        "plt.hist(train_set['log_trip_duration'].values, bins=100)\n",
        "plt.xlabel('log(trip_duration)')\n",
        "plt.ylabel('number of train records')\n",
        "\n",
        "plt.show()"
      ],
      "metadata": {
        "colab": {
          "base_uri": "https://localhost:8080/",
          "height": 573
        },
        "id": "g4vz5KP2J4KL",
        "outputId": "90f35661-fc33-452d-9055-9ec1b6321cc5"
      },
      "execution_count": 18,
      "outputs": [
        {
          "output_type": "display_data",
          "data": {
            "text/plain": [
              "<Figure size 800x600 with 1 Axes>"
            ],
            "image/png": "[encoded data removed]"
          },
          "metadata": {}
        }
      ]
    },
    {
      "cell_type": "markdown",
      "metadata": {
        "id": "SH1TfGt-DfXI"
      },
      "source": [
        "Чтобы иметь некоторую точку отсчета, давайте посчитаем значение метрики при наилучшем константном предсказании:"
      ]
    },
    {
      "cell_type": "code",
      "execution_count": 19,
      "metadata": {
        "colab": {
          "base_uri": "https://localhost:8080/"
        },
        "id": "38Pytc25DfXI",
        "outputId": "fe41304f-2646-43e7-f598-91c15b91739c"
      },
      "outputs": [
        {
          "output_type": "stream",
          "name": "stdout",
          "text": [
            "0.7957592365411509\n"
          ]
        }
      ],
      "source": [
        "def rmsle(log1p_y_true, log1p_y_pred):\n",
        "    return np.sqrt(np.mean((log1p_y_true - log1p_y_pred)**2))\n",
        "\n",
        "log_trip_duration = train_set[\"log_trip_duration\"].values\n",
        "rmsle_best_const = rmsle(log_trip_duration, np.full_like(log_trip_duration, np.mean(log_trip_duration)))\n",
        "\n",
        "print(rmsle_best_const)\n",
        "assert np.allclose(rmsle_best_const, 0.79575, 1e-4)"
      ]
    },
    {
      "cell_type": "markdown",
      "metadata": {
        "id": "s1Nms_y8DfXI"
      },
      "source": [
        "## Часть 1. Изучаем `pickup_datetime` (2.5 балла)\n",
        "\n",
        "**Задание 2 (0.25 баллов)**. Для начала давайте посмотрим, сколько всего было поездок в каждый из дней. Постройте график зависимости количества поездок от дня в году (например, можно воспользоваться `sns.countplot`):"
      ]
    },
    {
      "cell_type": "code",
      "source": [
        "from sklearn.model_selection import train_test_split\n",
        "from sklearn.linear_model import Ridge, Lasso\n",
        "from sklearn.pipeline import Pipeline\n",
        "from sklearn.compose import ColumnTransformer\n",
        "from sklearn.preprocessing import OneHotEncoder, StandardScaler\n",
        "from sklearn.model_selection import GridSearchCV\n",
        "from sklearn.metrics import mean_squared_error"
      ],
      "metadata": {
        "id": "jVm1hQPCKcFz"
      },
      "execution_count": 20,
      "outputs": []
    },
    {
      "cell_type": "code",
      "execution_count": 21,
      "metadata": {
        "colab": {
          "base_uri": "https://localhost:8080/",
          "height": 309
        },
        "id": "0SuOaqMtDfXI",
        "outputId": "a59b7faf-cfed-4253-9095-bef59505a66b"
      },
      "outputs": [
        {
          "output_type": "execute_result",
          "data": {
            "text/plain": [
              "                id  vendor_id     pickup_datetime  passenger_count  \\\n",
              "1011257  id2209155          2 2016-05-03 09:03:08                2   \n",
              "178550   id0586605          1 2016-01-01 16:40:51                1   \n",
              "551460   id0467144          1 2016-04-24 13:57:03                1   \n",
              "1434271  id0989010          2 2016-01-10 17:03:47                1   \n",
              "1173610  id0580742          1 2016-02-25 17:37:36                1   \n",
              "\n",
              "         pickup_longitude  pickup_latitude  dropoff_longitude  \\\n",
              "1011257        -73.979813        40.752529         -73.982681   \n",
              "178550         -73.977623        40.746296         -73.968414   \n",
              "551460         -73.950699        40.779404         -73.863129   \n",
              "1434271        -73.984558        40.721802         -73.976753   \n",
              "1173610        -73.967720        40.768742         -73.977173   \n",
              "\n",
              "         dropoff_latitude store_and_fwd_flag  trip_duration        date  \\\n",
              "1011257         40.763680                  N            844  2016-05-03   \n",
              "178550          40.788933                  N           1001  2016-01-01   \n",
              "551460          40.768608                  N           1048  2016-04-24   \n",
              "1434271         40.752213                  N            784  2016-01-10   \n",
              "1173610         40.789875                  N            732  2016-02-25   \n",
              "\n",
              "         log_trip_duration  \n",
              "1011257           6.739337  \n",
              "178550            6.909753  \n",
              "551460            6.955593  \n",
              "1434271           6.665684  \n",
              "1173610           6.597146  "
            ],
            "text/html": [
              "\n",
              "  <div id=\"df-cff9d061-067a-41d7-8e22-4e922aacbf13\" class=\"colab-df-container\">\n",
              "    <div>\n",
              "<style scoped>\n",
              "    .dataframe tbody tr th:only-of-type {\n",
              "        vertical-align: middle;\n",
              "    }\n",
              "\n",
              "    .dataframe tbody tr th {\n",
              "        vertical-align: top;\n",
              "    }\n",
              "\n",
              "    .dataframe thead th {\n",
              "        text-align: right;\n",
              "    }\n",
              "</style>\n",
              "<table border=\"1\" class=\"dataframe\">\n",
              "  <thead>\n",
              "    <tr style=\"text-align: right;\">\n",
              "      <th></th>\n",
              "      <th>id</th>\n",
              "      <th>vendor_id</th>\n",
              "      <th>pickup_datetime</th>\n",
              "      <th>passenger_count</th>\n",
              "      <th>pickup_longitude</th>\n",
              "      <th>pickup_latitude</th>\n",
              "      <th>dropoff_longitude</th>\n",
              "      <th>dropoff_latitude</th>\n",
              "      <th>store_and_fwd_flag</th>\n",
              "      <th>trip_duration</th>\n",
              "      <th>date</th>\n",
              "      <th>log_trip_duration</th>\n",
              "    </tr>\n",
              "  </thead>\n",
              "  <tbody>\n",
              "    <tr>\n",
              "      <th>1011257</th>\n",
              "      <td>id2209155</td>\n",
              "      <td>2</td>\n",
              "      <td>2016-05-03 09:03:08</td>\n",
              "      <td>2</td>\n",
              "      <td>-73.979813</td>\n",
              "      <td>40.752529</td>\n",
              "      <td>-73.982681</td>\n",
              "      <td>40.763680</td>\n",
              "      <td>N</td>\n",
              "      <td>844</td>\n",
              "      <td>2016-05-03</td>\n",
              "      <td>6.739337</td>\n",
              "    </tr>\n",
              "    <tr>\n",
              "      <th>178550</th>\n",
              "      <td>id0586605</td>\n",
              "      <td>1</td>\n",
              "      <td>2016-01-01 16:40:51</td>\n",
              "      <td>1</td>\n",
              "      <td>-73.977623</td>\n",
              "      <td>40.746296</td>\n",
              "      <td>-73.968414</td>\n",
              "      <td>40.788933</td>\n",
              "      <td>N</td>\n",
              "      <td>1001</td>\n",
              "      <td>2016-01-01</td>\n",
              "      <td>6.909753</td>\n",
              "    </tr>\n",
              "    <tr>\n",
              "      <th>551460</th>\n",
              "      <td>id0467144</td>\n",
              "      <td>1</td>\n",
              "      <td>2016-04-24 13:57:03</td>\n",
              "      <td>1</td>\n",
              "      <td>-73.950699</td>\n",
              "      <td>40.779404</td>\n",
              "      <td>-73.863129</td>\n",
              "      <td>40.768608</td>\n",
              "      <td>N</td>\n",
              "      <td>1048</td>\n",
              "      <td>2016-04-24</td>\n",
              "      <td>6.955593</td>\n",
              "    </tr>\n",
              "    <tr>\n",
              "      <th>1434271</th>\n",
              "      <td>id0989010</td>\n",
              "      <td>2</td>\n",
              "      <td>2016-01-10 17:03:47</td>\n",
              "      <td>1</td>\n",
              "      <td>-73.984558</td>\n",
              "      <td>40.721802</td>\n",
              "      <td>-73.976753</td>\n",
              "      <td>40.752213</td>\n",
              "      <td>N</td>\n",
              "      <td>784</td>\n",
              "      <td>2016-01-10</td>\n",
              "      <td>6.665684</td>\n",
              "    </tr>\n",
              "    <tr>\n",
              "      <th>1173610</th>\n",
              "      <td>id0580742</td>\n",
              "      <td>1</td>\n",
              "      <td>2016-02-25 17:37:36</td>\n",
              "      <td>1</td>\n",
              "      <td>-73.967720</td>\n",
              "      <td>40.768742</td>\n",
              "      <td>-73.977173</td>\n",
              "      <td>40.789875</td>\n",
              "      <td>N</td>\n",
              "      <td>732</td>\n",
              "      <td>2016-02-25</td>\n",
              "      <td>6.597146</td>\n",
              "    </tr>\n",
              "  </tbody>\n",
              "</table>\n",
              "</div>\n",
              "    <div class=\"colab-df-buttons\">\n",
              "\n",
              "  <div class=\"colab-df-container\">\n",
              "    <button class=\"colab-df-convert\" onclick=\"convertToInteractive('df-cff9d061-067a-41d7-8e22-4e922aacbf13')\"\n",
              "            title=\"Convert this dataframe to an interactive table.\"\n",
              "            style=\"display:none;\">\n",
              "\n",
              "  <svg xmlns=\"http://www.w3.org/2000/svg\" height=\"24px\" viewBox=\"0 -960 960 960\">\n",
              "    <path d=\"M120-120v-720h720v720H120Zm60-500h600v-160H180v160Zm220 220h160v-160H400v160Zm0 220h160v-160H400v160ZM180-400h160v-160H180v160Zm440 0h160v-160H620v160ZM180-180h160v-160H180v160Zm440 0h160v-160H620v160Z\"/>\n",
              "  </svg>\n",
              "    </button>\n",
              "\n",
              "  <style>\n",
              "    .colab-df-container {\n",
              "      display:flex;\n",
              "      gap: 12px;\n",
              "    }\n",
              "\n",
              "    .colab-df-convert {\n",
              "      background-color: #E8F0FE;\n",
              "      border: none;\n",
              "      border-radius: 50%;\n",
              "      cursor: pointer;\n",
              "      display: none;\n",
              "      fill: #1967D2;\n",
              "      height: 32px;\n",
              "      padding: 0 0 0 0;\n",
              "      width: 32px;\n",
              "    }\n",
              "\n",
              "    .colab-df-convert:hover {\n",
              "      background-color: #E2EBFA;\n",
              "      box-shadow: 0px 1px 2px rgba(60, 64, 67, 0.3), 0px 1px 3px 1px rgba(60, 64, 67, 0.15);\n",
              "      fill: #174EA6;\n",
              "    }\n",
              "\n",
              "    .colab-df-buttons div {\n",
              "      margin-bottom: 4px;\n",
              "    }\n",
              "\n",
              "    [theme=dark] .colab-df-convert {\n",
              "      background-color: #3B4455;\n",
              "      fill: #D2E3FC;\n",
              "    }\n",
              "\n",
              "    [theme=dark] .colab-df-convert:hover {\n",
              "      background-color: #434B5C;\n",
              "      box-shadow: 0px 1px 3px 1px rgba(0, 0, 0, 0.15);\n",
              "      filter: drop-shadow(0px 1px 2px rgba(0, 0, 0, 0.3));\n",
              "      fill: #FFFFFF;\n",
              "    }\n",
              "  </style>\n",
              "\n",
              "    <script>\n",
              "      const buttonEl =\n",
              "        document.querySelector('#df-cff9d061-067a-41d7-8e22-4e922aacbf13 button.colab-df-convert');\n",
              "      buttonEl.style.display =\n",
              "        google.colab.kernel.accessAllowed ? 'block' : 'none';\n",
              "\n",
              "      async function convertToInteractive(key) {\n",
              "        const element = document.querySelector('#df-cff9d061-067a-41d7-8e22-4e922aacbf13');\n",
              "        const dataTable =\n",
              "          await google.colab.kernel.invokeFunction('convertToInteractive',\n",
              "                                                    [key], {});\n",
              "        if (!dataTable) return;\n",
              "\n",
              "        const docLinkHtml = 'Like what you see? Visit the ' +\n",
              "          '<a target=\"_blank\" href=https://colab.research.google.com/notebooks/data_table.ipynb>data table notebook</a>'\n",
              "          + ' to learn more about interactive tables.';\n",
              "        element.innerHTML = '';\n",
              "        dataTable['output_type'] = 'display_data';\n",
              "        await google.colab.output.renderOutput(dataTable, element);\n",
              "        const docLink = document.createElement('div');\n",
              "        docLink.innerHTML = docLinkHtml;\n",
              "        element.appendChild(docLink);\n",
              "      }\n",
              "    </script>\n",
              "  </div>\n",
              "\n",
              "\n",
              "<div id=\"df-5bfd1579-4ff0-4ded-9999-ad98969907db\">\n",
              "  <button class=\"colab-df-quickchart\" onclick=\"quickchart('df-5bfd1579-4ff0-4ded-9999-ad98969907db')\"\n",
              "            title=\"Suggest charts\"\n",
              "            style=\"display:none;\">\n",
              "\n",
              "<svg xmlns=\"http://www.w3.org/2000/svg\" height=\"24px\"viewBox=\"0 0 24 24\"\n",
              "     width=\"24px\">\n",
              "    <g>\n",
              "        <path d=\"M19 3H5c-1.1 0-2 .9-2 2v14c0 1.1.9 2 2 2h14c1.1 0 2-.9 2-2V5c0-1.1-.9-2-2-2zM9 17H7v-7h2v7zm4 0h-2V7h2v10zm4 0h-2v-4h2v4z\"/>\n",
              "    </g>\n",
              "</svg>\n",
              "  </button>\n",
              "\n",
              "<style>\n",
              "  .colab-df-quickchart {\n",
              "      --bg-color: #E8F0FE;\n",
              "      --fill-color: #1967D2;\n",
              "      --hover-bg-color: #E2EBFA;\n",
              "      --hover-fill-color: #174EA6;\n",
              "      --disabled-fill-color: #AAA;\n",
              "      --disabled-bg-color: #DDD;\n",
              "  }\n",
              "\n",
              "  [theme=dark] .colab-df-quickchart {\n",
              "      --bg-color: #3B4455;\n",
              "      --fill-color: #D2E3FC;\n",
              "      --hover-bg-color: #434B5C;\n",
              "      --hover-fill-color: #FFFFFF;\n",
              "      --disabled-bg-color: #3B4455;\n",
              "      --disabled-fill-color: #666;\n",
              "  }\n",
              "\n",
              "  .colab-df-quickchart {\n",
              "    background-color: var(--bg-color);\n",
              "    border: none;\n",
              "    border-radius: 50%;\n",
              "    cursor: pointer;\n",
              "    display: none;\n",
              "    fill: var(--fill-color);\n",
              "    height: 32px;\n",
              "    padding: 0;\n",
              "    width: 32px;\n",
              "  }\n",
              "\n",
              "  .colab-df-quickchart:hover {\n",
              "    background-color: var(--hover-bg-color);\n",
              "    box-shadow: 0 1px 2px rgba(60, 64, 67, 0.3), 0 1px 3px 1px rgba(60, 64, 67, 0.15);\n",
              "    fill: var(--button-hover-fill-color);\n",
              "  }\n",
              "\n",
              "  .colab-df-quickchart-complete:disabled,\n",
              "  .colab-df-quickchart-complete:disabled:hover {\n",
              "    background-color: var(--disabled-bg-color);\n",
              "    fill: var(--disabled-fill-color);\n",
              "    box-shadow: none;\n",
              "  }\n",
              "\n",
              "  .colab-df-spinner {\n",
              "    border: 2px solid var(--fill-color);\n",
              "    border-color: transparent;\n",
              "    border-bottom-color: var(--fill-color);\n",
              "    animation:\n",
              "      spin 1s steps(1) infinite;\n",
              "  }\n",
              "\n",
              "  @keyframes spin {\n",
              "    0% {\n",
              "      border-color: transparent;\n",
              "      border-bottom-color: var(--fill-color);\n",
              "      border-left-color: var(--fill-color);\n",
              "    }\n",
              "    20% {\n",
              "      border-color: transparent;\n",
              "      border-left-color: var(--fill-color);\n",
              "      border-top-color: var(--fill-color);\n",
              "    }\n",
              "    30% {\n",
              "      border-color: transparent;\n",
              "      border-left-color: var(--fill-color);\n",
              "      border-top-color: var(--fill-color);\n",
              "      border-right-color: var(--fill-color);\n",
              "    }\n",
              "    40% {\n",
              "      border-color: transparent;\n",
              "      border-right-color: var(--fill-color);\n",
              "      border-top-color: var(--fill-color);\n",
              "    }\n",
              "    60% {\n",
              "      border-color: transparent;\n",
              "      border-right-color: var(--fill-color);\n",
              "    }\n",
              "    80% {\n",
              "      border-color: transparent;\n",
              "      border-right-color: var(--fill-color);\n",
              "      border-bottom-color: var(--fill-color);\n",
              "    }\n",
              "    90% {\n",
              "      border-color: transparent;\n",
              "      border-bottom-color: var(--fill-color);\n",
              "    }\n",
              "  }\n",
              "</style>\n",
              "\n",
              "  <script>\n",
              "    async function quickchart(key) {\n",
              "      const quickchartButtonEl =\n",
              "        document.querySelector('#' + key + ' button');\n",
              "      quickchartButtonEl.disabled = true;  // To prevent multiple clicks.\n",
              "      quickchartButtonEl.classList.add('colab-df-spinner');\n",
              "      try {\n",
              "        const charts = await google.colab.kernel.invokeFunction(\n",
              "            'suggestCharts', [key], {});\n",
              "      } catch (error) {\n",
              "        console.error('Error during call to suggestCharts:', error);\n",
              "      }\n",
              "      quickchartButtonEl.classList.remove('colab-df-spinner');\n",
              "      quickchartButtonEl.classList.add('colab-df-quickchart-complete');\n",
              "    }\n",
              "    (() => {\n",
              "      let quickchartButtonEl =\n",
              "        document.querySelector('#df-5bfd1579-4ff0-4ded-9999-ad98969907db button');\n",
              "      quickchartButtonEl.style.display =\n",
              "        google.colab.kernel.accessAllowed ? 'block' : 'none';\n",
              "    })();\n",
              "  </script>\n",
              "</div>\n",
              "    </div>\n",
              "  </div>\n"
            ],
            "application/vnd.google.colaboratory.intrinsic+json": {
              "type": "dataframe",
              "variable_name": "train_df"
            }
          },
          "metadata": {},
          "execution_count": 21
        }
      ],
      "source": [
        "train_df, test_df = train_test_split(train_set, test_size=0.3, random_state=42)\n",
        "train_df.head()"
      ]
    },
    {
      "cell_type": "code",
      "source": [
        "train_df['day_month'] = train_df['pickup_datetime'].dt.strftime('%d-%m')\n",
        "sorted_pickup_dates = (pd.to_datetime(train_df['day_month'].unique() + '-2000', format='%d-%m-%Y')\n",
        "                       .sort_values()\n",
        "                       .strftime('%d-%m'))"
      ],
      "metadata": {
        "id": "Yqn-CX_oK0W_"
      },
      "execution_count": 22,
      "outputs": []
    },
    {
      "cell_type": "code",
      "source": [
        "plt.figure(figsize=(24, 6))\n",
        "\n",
        "sns.countplot(x='day_month', data=train_df, order=sorted_pickup_dates)\n",
        "\n",
        "plt.title('Количество поездок по дням года')\n",
        "plt.xlabel('День года')\n",
        "plt.ylabel('Количество поездок')\n",
        "plt.xticks(rotation=90, fontsize=8)\n",
        "plt.show()"
      ],
      "metadata": {
        "id": "yum8NUXqNCa0",
        "outputId": "fe0ec0ab-d98a-437c-8134-aa8b9aad82da",
        "colab": {
          "base_uri": "https://localhost:8080/",
          "height": 424
        }
      },
      "execution_count": 24,
      "outputs": [
        {
          "output_type": "display_data",
          "data": {
            "text/plain": [
              "<Figure size 2400x600 with 1 Axes>"
            ],
            "image/png": "[encoded data removed]"
          },
          "metadata": {}
        }
      ]
    },
    {
      "cell_type": "markdown",
      "metadata": {
        "id": "PtDTAkVbDfXJ"
      },
      "source": [
        "**Вопрос**: Вы, вероятно, заметили, что на графике есть 2 периода с аномально маленькими количествами поездок. Вычислите, в какие даты происходили эти скачки вниз и найдите информацию о том, что происходило в эти дни в Нью-Йорке.\n",
        "\n",
        "Нарисуйте графики зависимости количества поездок от дня недели и от часов в сутках (воспользуйтесь `sns.relplot`):"
      ]
    },
    {
      "cell_type": "markdown",
      "source": [
        "23jan2016 — сильная снежная буря\n",
        "\n",
        "30may2016 — Memorial Day, национальный день памяти США, отмечаемый ежегодно в последний понедельник мая. Он посвящён памяти американских военнослужащих, погибших во всех войнах и вооружённых конфликтах, в которых США когда-либо принимали участие."
      ],
      "metadata": {
        "id": "7-IMa53xNYrF"
      }
    },
    {
      "cell_type": "code",
      "execution_count": null,
      "metadata": {
        "id": "uOCm7hlHDfXJ"
      },
      "outputs": [],
      "source": [
        "#╰( ͡° ͜ʖ ͡° )つ──☆*:・ﾟ"
      ]
    },
    {
      "cell_type": "markdown",
      "metadata": {
        "id": "zw7B5W4IDfXJ"
      },
      "source": [
        "**Задание 3 (0.5 баллов)**. Нарисуйте на одном графике зависимости количества поездок от часа в сутках для разных месяцев (разные кривые, соответствующие разным месяцам, окрашивайте в разные цвета, воспользуйтесь `hue` в `sns.relplot`). Аналогично нарисуйте зависимости количества поездок от часа в сутках для разных дней недели."
      ]
    },
    {
      "cell_type": "code",
      "execution_count": null,
      "metadata": {
        "id": "kLTUTaRTDfXJ"
      },
      "outputs": [],
      "source": [
        "#╰( ͡° ͜ʖ ͡° )つ──☆*:・ﾟ"
      ]
    },
    {
      "cell_type": "markdown",
      "metadata": {
        "id": "pm4sWinuDfXJ"
      },
      "source": [
        "**Вопрос**: Какие выводы можно сделать, основываясь на графиках выше? Выделяются ли какие-нибудь дни недели? Месяца? Время суток? С чем это связано?\n",
        "\n",
        "**Задание 4 (1 баллов)**. Разбейте выборку на обучающую и тестовую в отношении 7:3 (используйте `train_test_split` из `sklearn`). По обучающей выборке нарисуйте график зависимости среднего логарифма времени поездки от дня недели. Затем сделайте то же самое, но для часа в сутках и дня в году."
      ]
    },
    {
      "cell_type": "code",
      "execution_count": null,
      "metadata": {
        "id": "QyJ23M4eDfXJ"
      },
      "outputs": [],
      "source": [
        "#╰( ͡° ͜ʖ ͡° )つ──☆*:・ﾟ"
      ]
    },
    {
      "cell_type": "markdown",
      "metadata": {
        "id": "2z5wVy8JDfXJ"
      },
      "source": [
        "**Вопрос**: Похожи ли графики зависимости таргета от дня недели и от часа в сутках на аналогичные графики для количества поездок? Почему? Что происходит со средним таргетом в те два аномальных периода, что мы видели выше? Почему так происходит? Наблюдаете ли вы какой-нибудь тренд на графике зависимости `log_trip_duration` от номера дня в году?"
      ]
    },
    {
      "cell_type": "markdown",
      "metadata": {
        "id": "wxkY2PKXDfXJ"
      },
      "source": [
        "Добавьте следующие признаки на основе `pickup_datetime`:\n",
        "1. День недели\n",
        "2. Месяц\n",
        "3. Час\n",
        "4. Является ли период аномальным (два бинарных признака, соответствующие двум аномальным периодам)\n",
        "5. Номер дня в году"
      ]
    },
    {
      "cell_type": "code",
      "execution_count": null,
      "metadata": {
        "id": "mZwoDSRpDfXJ"
      },
      "outputs": [],
      "source": [
        "#╰( ͡° ͜ʖ ͡° )つ──☆*:・ﾟ"
      ]
    },
    {
      "cell_type": "markdown",
      "metadata": {
        "id": "xQocwrwaDfXJ"
      },
      "source": [
        "Итак, мы уже создали некоторое количество признаков.\n",
        "\n",
        "**Вопрос**: Какие из признаков _стоит рассматривать в этой задаче_   как категориальные, а какие - как численные? Почему?"
      ]
    },
    {
      "cell_type": "markdown",
      "metadata": {
        "id": "4_sb103yDfXJ"
      },
      "source": [
        "**Задание 5 (0.75 баллов)**. Обучите `Ridge`-регрессию с параметрами по умолчанию, закодировав все категориальные признаки с помощью `OneHotEncoder`. Численные признаки отмасштабируйте с помощью `StandardScaler`. Используйте только признаки, которые мы выделили в этой части задания."
      ]
    },
    {
      "cell_type": "code",
      "execution_count": null,
      "metadata": {
        "id": "1EhqqnViDfXJ"
      },
      "outputs": [],
      "source": [
        "#╰( ͡° ͜ʖ ͡° )つ──☆*:・ﾟ"
      ]
    },
    {
      "cell_type": "markdown",
      "metadata": {
        "id": "ZiKB6dXTDfXJ"
      },
      "source": [
        "## Часть 2. Изучаем координаты (3 балла)\n",
        "Мы уже очень хорошо изучили данные о времени начала поездки, давайте теперь посмотрим на информацию о координатах начала и конца поездки. Мы подготовили для вас функцию, которая на карте рисует точки начала или конца поездки. Примеры ее вызова вы найдете ниже. Обратите внимание, что в эту функцию мы передаем лишь небольшой кусочек данных, посколько иначе функция будет работать очень долго"
      ]
    },
    {
      "cell_type": "code",
      "execution_count": null,
      "metadata": {
        "id": "b9HwgTPrDfXJ"
      },
      "outputs": [],
      "source": [
        "def show_circles_on_map(data, latitude_column, longitude_column, color):\n",
        "    \"\"\"\n",
        "    The function draws map with circles on it.\n",
        "    The center of the map is the mean of coordinates passed in data.\n",
        "\n",
        "    data: DataFrame that contains columns latitude_column and longitude_column\n",
        "    latitude_column: string, the name of column for latitude coordinates\n",
        "    longitude_column: string, the name of column for longitude coordinates\n",
        "    color: string, the color of circles to be drawn\n",
        "    \"\"\"\n",
        "\n",
        "    location = (data[latitude_column].mean(), data[longitude_column].mean())\n",
        "    m = folium.Map(location=location)\n",
        "\n",
        "    for _, row in data.iterrows():\n",
        "        folium.Circle(\n",
        "            radius=100,\n",
        "            location=(row[latitude_column], row[longitude_column]),\n",
        "            color=color,\n",
        "            fill_color=color,\n",
        "            fill=True\n",
        "        ).add_to(m)\n",
        "\n",
        "    return m"
      ]
    },
    {
      "cell_type": "code",
      "execution_count": null,
      "metadata": {
        "ExecuteTime": {
          "end_time": "2020-09-26T17:05:15.969248Z",
          "start_time": "2020-09-26T17:05:15.334200Z"
        },
        "id": "a3MiN8ySDfXK"
      },
      "outputs": [],
      "source": [
        "show_circles_on_map(df.sample(1000), \"pickup_latitude\", \"pickup_longitude\", \"blue\")"
      ]
    },
    {
      "cell_type": "code",
      "execution_count": null,
      "metadata": {
        "ExecuteTime": {
          "end_time": "2020-09-26T17:05:16.699973Z",
          "start_time": "2020-09-26T17:05:16.026291Z"
        },
        "id": "kvI1e2ZsDfXK"
      },
      "outputs": [],
      "source": [
        "show_circles_on_map(df.sample(1000), \"dropoff_latitude\", \"dropoff_longitude\", \"blue\")"
      ]
    },
    {
      "cell_type": "markdown",
      "metadata": {
        "id": "BuQn_C1QDfXK"
      },
      "source": [
        "**Вопрос**: Какие пункты (или скопления точек, в количестве 2-3), по вашему мнению, выделяются на карте от основной массы и могут быть полезны для нашей задачи? Почему вы их выбрали? В чём особенность этих скоплений точек для нашей задачи?"
      ]
    },
    {
      "cell_type": "markdown",
      "metadata": {
        "id": "_VFRcUMaDfXK"
      },
      "source": [
        "**Задание 6 (1 балл)**. Как мы все прекрасно помним, $t = s / v_{\\text{ср}}$, поэтому очевидно, что самым сильным признаком будет расстояние, которое необходимо проехать. Мы не можем посчитать точное расстояние, которое необходимо преодолеть такси, но мы можем его оценить, посчитав кратчайшее расстояние между точками начала и конца поездки. Чтобы корректно посчитать расстояние между двумя точками на Земле, можно использовать функцию `haversine` из одноименной библтотеки. Также можно воспользоваться кодом из введения. Посчитайте кратчайшее расстояние для объектов и запишите его в колонку `haversine`:"
      ]
    },
    {
      "cell_type": "code",
      "execution_count": null,
      "metadata": {
        "id": "DjtTD04DDfXK"
      },
      "outputs": [],
      "source": [
        "#╰( ͡° ͜ʖ ͡° )つ──☆*:・ﾟ"
      ]
    },
    {
      "cell_type": "markdown",
      "metadata": {
        "id": "TIdeax56DfXK"
      },
      "source": [
        "Так как мы предсказываем логарифм времени поездки и хотим, чтобы наши признаки были линейно зависимы с этой целевой переменной, нам нужно логарифмировать расстояние: $\\log t = \\log s - \\log{v_{\\text{ср}}}$. Запишите логарифм `haversine` в отдельную колонку `log_haversine`:"
      ]
    },
    {
      "cell_type": "code",
      "execution_count": null,
      "metadata": {
        "id": "IWgkAil8DfXK"
      },
      "outputs": [],
      "source": [
        "#╰( ͡° ͜ʖ ͡° )つ──☆*:・ﾟ"
      ]
    },
    {
      "cell_type": "markdown",
      "metadata": {
        "id": "E7k6dg8XDfXK"
      },
      "source": [
        "Убедимся, что логарифм расстояния лучше коррелирует с нашим таргетом, чем просто расстояние:"
      ]
    },
    {
      "cell_type": "code",
      "execution_count": null,
      "metadata": {
        "id": "Qgtzr55LDfXK"
      },
      "outputs": [],
      "source": [
        "your_df = ...\n",
        "assert your_df['log_haversine'].corr(your_df['log_trip_duration']) > your_df['haversine'].corr(your_df['log_trip_duration'])"
      ]
    },
    {
      "cell_type": "markdown",
      "metadata": {
        "id": "FQ6pT_n0DfXK"
      },
      "source": [
        "**Задание 7 (1 балл)**. Давайте изучим среднюю скорость движения такси. Посчитайте среднюю скорость для каждого объекта обучающей выборки, разделив `haversine` на `trip_duration`, и нарисуйте гистограмму ее распределения"
      ]
    },
    {
      "cell_type": "code",
      "execution_count": null,
      "metadata": {
        "id": "mNq6fkVDDfXK"
      },
      "outputs": [],
      "source": [
        "#╰( ͡° ͜ʖ ͡° )つ──☆*:・ﾟ"
      ]
    },
    {
      "cell_type": "markdown",
      "metadata": {
        "id": "bmnZdDcdDfXK"
      },
      "source": [
        "Как можно видеть по гистограмме, для некоторых объектов у нас получились очень больше значения скоростей. Нарисуйте гистограмму по объектам, для которых значение скорости получилось разумным (например, можно не включать рассмотрение объекты, где скорость больше некоторой квантили):"
      ]
    },
    {
      "cell_type": "code",
      "execution_count": null,
      "metadata": {
        "id": "qd8hCJNJDfXK"
      },
      "outputs": [],
      "source": [
        "#╰( ͡° ͜ʖ ͡° )つ──☆*:・ﾟ"
      ]
    },
    {
      "cell_type": "markdown",
      "metadata": {
        "id": "T0LuS42QDfXL"
      },
      "source": [
        "Для каждой пары (день недели, час суток) посчитайте медиану скоростей. Нарисуйте с помощью `sns.heatmap` график, где по осям будут дни недели и часы, а в качестве значения функции - медиана скорости"
      ]
    },
    {
      "cell_type": "code",
      "execution_count": null,
      "metadata": {
        "id": "Djtjo8E0DfXL"
      },
      "outputs": [],
      "source": [
        "#╰( ͡° ͜ʖ ͡° )つ──☆*:・ﾟ"
      ]
    },
    {
      "cell_type": "markdown",
      "metadata": {
        "id": "7XZvzCuwDfXL"
      },
      "source": [
        "Не забудьте удалить колонку со значением скорости из данных!\n",
        "\n",
        "**Вопрос**: Почему значение скорости нельзя использовать во время обучения?"
      ]
    },
    {
      "cell_type": "markdown",
      "metadata": {
        "id": "aPfDhkpXDfXL"
      },
      "source": [
        "#╰( ͡° ͜ʖ ͡° )つ──☆*:・ﾟ"
      ]
    },
    {
      "cell_type": "markdown",
      "metadata": {
        "id": "4k79Gu1aDfXL"
      },
      "source": [
        "**Вопрос**: Посмотрите внимательно на график и скажите, в какие моменты времени скорость минимальна; максимальна.\n",
        "\n",
        "Создайте признаки \"поездка совершается в период пробок\" и \"поездка совершается в период свободных дорог\" (естественно, они не должен зависеть от скорости!):"
      ]
    },
    {
      "cell_type": "code",
      "execution_count": null,
      "metadata": {
        "id": "ysU093RYDfXL"
      },
      "outputs": [],
      "source": [
        "#╰( ͡° ͜ʖ ͡° )つ──☆*:・ﾟ"
      ]
    },
    {
      "cell_type": "markdown",
      "metadata": {
        "id": "e6ay5uIsDfXL"
      },
      "source": [
        "**Задание 8 (0.5 балла)**. Для каждого из замеченных вами выше 2-3 пунктов добавьте в выборку по два признака:\n",
        "- началась ли поездка в этом пункте\n",
        "- закончилась ли поездка в этом пункте\n",
        "\n",
        "Как вы думаете, почему эти признаки могут быть полезны?\n",
        "\n",
        "*можно использовать данные координат из интернета или воспользоваться `from geopy.geocoders import Nominatim`*"
      ]
    },
    {
      "cell_type": "code",
      "execution_count": null,
      "metadata": {
        "id": "pNSMgElcDfXL"
      },
      "outputs": [],
      "source": [
        "#╰( ͡° ͜ʖ ͡° )つ──☆*:・ﾟ"
      ]
    },
    {
      "cell_type": "markdown",
      "metadata": {
        "id": "blWGN0PKDfXL"
      },
      "source": [
        "Для каждого из созданных признаков нарисуйте \"ящик с усами\" (`sns.boxplot`) распределения логарифма времени поездки"
      ]
    },
    {
      "cell_type": "code",
      "execution_count": null,
      "metadata": {
        "id": "JcjsdcQ4DfXL"
      },
      "outputs": [],
      "source": [
        "#╰( ͡° ͜ʖ ͡° )つ──☆*:・ﾟ"
      ]
    },
    {
      "cell_type": "markdown",
      "metadata": {
        "id": "t5GdfOQ0DfXL"
      },
      "source": [
        "**Вопрос**: судя по графикам, как вы думаете, хорошими ли получились эти признаки?"
      ]
    },
    {
      "cell_type": "markdown",
      "metadata": {
        "id": "Ts57NiubDfXL"
      },
      "source": [
        "**Задание 9 (0.5 балла)**. Обучите `Ridge`-регрессию со стандартными параметрами на всех признаках, которые мы выделили к текущему моменту. Категориальные признаки закодируйте через one-hot-кодирование, числовые признаки отмасштабируйте."
      ]
    },
    {
      "cell_type": "code",
      "execution_count": null,
      "metadata": {
        "id": "lFIUSMgQDfXL"
      },
      "outputs": [],
      "source": [
        "#╰( ͡° ͜ʖ ͡° )つ──☆*:・ﾟ"
      ]
    },
    {
      "cell_type": "markdown",
      "metadata": {
        "id": "o_ASrNUSDfXL"
      },
      "source": [
        "## Часть 3. Изучаем оставшиеся признаки (1.5 балл)\n",
        "\n",
        "**Задание 10 (1 балл)**. У нас осталось еще 3 признака, которые мы не исследовали: `vendor_id`, `passenger_count` и `store_and_fwd_flag`.\n",
        "\n",
        "**Вопрос**: Подумайте, почему каждый из этих признаков может быть потенциально полезным.\n",
        "\n",
        "Посчитайте, сколько есть уникальных значений у каждого из этих признаков:"
      ]
    },
    {
      "cell_type": "code",
      "execution_count": null,
      "metadata": {
        "id": "aQCNjgmFDfXL"
      },
      "outputs": [],
      "source": [
        "#╰( ͡° ͜ʖ ͡° )つ──☆*:・ﾟ"
      ]
    },
    {
      "cell_type": "markdown",
      "metadata": {
        "id": "u4HL5nqMDfXL"
      },
      "source": [
        "Постройте \"ящики с усами\" распределений логарифма времени поездки в зависимости от значений каждого из признаков"
      ]
    },
    {
      "cell_type": "code",
      "execution_count": null,
      "metadata": {
        "id": "sMGxZmAHDfXL"
      },
      "outputs": [],
      "source": [
        "#╰( ͡° ͜ʖ ͡° )つ──☆*:・ﾟ"
      ]
    },
    {
      "cell_type": "markdown",
      "metadata": {
        "id": "zNBggLMbDfXL"
      },
      "source": [
        "Переведите признаки `vendor_id` и `store_and_fwd_flag` в значения $\\{0;1\\}$"
      ]
    },
    {
      "cell_type": "code",
      "execution_count": null,
      "metadata": {
        "id": "LRG9hN4UDfXL"
      },
      "outputs": [],
      "source": [
        "#╰( ͡° ͜ʖ ͡° )つ──☆*:・ﾟ"
      ]
    },
    {
      "cell_type": "markdown",
      "metadata": {
        "id": "dJZv-HYjDfXM"
      },
      "source": [
        "**Вопрос**: Основываясь на графиках выше, как вы думаете, будут ли эти признаки сильными?"
      ]
    },
    {
      "cell_type": "markdown",
      "metadata": {
        "id": "16j3mr62DfXM"
      },
      "source": [
        "**Задание 11 (0.5 баллов)**. Проверьте свои предположения, обучив модель в том числе и на этих трех признаках. Обучайте `Ridge`-регрессию со стандартными параметрами. Категориальные признаки закодируйте one-hot-кодированием, а численные отмасштабируйте."
      ]
    },
    {
      "cell_type": "code",
      "execution_count": null,
      "metadata": {
        "id": "uCcBmkxDDfXM"
      },
      "outputs": [],
      "source": [
        "#╰( ͡° ͜ʖ ͡° )つ──☆*:・ﾟ"
      ]
    },
    {
      "cell_type": "markdown",
      "metadata": {
        "id": "R8QqUlLvDfXM"
      },
      "source": [
        "Если признаки не дали какого-то ощутимого улучшения метрики, их можно выбросить из данных."
      ]
    },
    {
      "cell_type": "markdown",
      "metadata": {
        "id": "IqzolHDBDfXM"
      },
      "source": [
        "## Часть 4. Улучшаем модель (3 балла)"
      ]
    },
    {
      "cell_type": "markdown",
      "metadata": {
        "id": "HfzQCYoODfXM"
      },
      "source": [
        "**Задание 12 (1.5 балла)**. В наших данных есть нетипичные объекты (выбросы, или outliers): с аномально маленьким времени поездки, с очень большим пройденным расстоянием или очень большими остатками регрессии. В этом задании предлагается исключить такие объекты из обучающей выборки. Для этого нарисуйте гистограммы распределения упомянутых выше величин, выберите объекты, которые можно назвать выбросами, и очистите __обучающую выборку__ от них.\n",
        "\n",
        "Отметим, что хотя эти объекты и выглядят как выбросы, в тестовой выборке тоже скорее всего будут объекты с такими же странными значениями целевой переменной и/или признаков. Поэтому, возможно, чистка обучающей выборки приведёт к ухудшению качества на тесте. Тем не менее, всё равно лучше удалять выбросы из обучения, чтобы модель получалась более разумной и интерпретируемой."
      ]
    },
    {
      "cell_type": "code",
      "execution_count": null,
      "metadata": {
        "id": "cMarwapiDfXM"
      },
      "outputs": [],
      "source": [
        "#╰( ͡° ͜ʖ ͡° )つ──☆*:・ﾟ"
      ]
    },
    {
      "cell_type": "markdown",
      "metadata": {
        "id": "6IEMgq4cDfXM"
      },
      "source": [
        "Сейчас у нас очень много категориальных признаков. В категориальных признаках могут содержаться редкие категории, обычно это плохо: модель сильно переобучается на таких примерах. Для каждого категориального признака объедините действительно редкие категории в одну, если такие имеются (т.е. если категории действительно редкие)."
      ]
    },
    {
      "cell_type": "code",
      "execution_count": null,
      "metadata": {
        "id": "SMipHIfbDfXM"
      },
      "outputs": [],
      "source": [
        "#╰( ͡° ͜ʖ ͡° )つ──☆*:・ﾟ"
      ]
    },
    {
      "cell_type": "markdown",
      "metadata": {
        "id": "dqtOOyMsDfXM"
      },
      "source": [
        "Обучите модель на очищенных данных и посчитайте качество на тестовой выборке."
      ]
    },
    {
      "cell_type": "markdown",
      "metadata": {
        "id": "p1UTdNU5DfXM"
      },
      "source": [
        "**Задание 13 (1.5 балла)**. После OneHot-кодирования количество признаков в нашем датасете сильно возрастает. Посчитайте колиество признаков до и после кодирования категориальных признаков."
      ]
    },
    {
      "cell_type": "code",
      "execution_count": null,
      "metadata": {
        "id": "1epBdUizDfXM"
      },
      "outputs": [],
      "source": [
        "#╰( ͡° ͜ʖ ͡° )つ──☆*:・ﾟ"
      ]
    },
    {
      "cell_type": "markdown",
      "metadata": {
        "id": "ChKzLZ6IDfXM"
      },
      "source": [
        "Попробуйте обучить не `Ridge`-, а `Lasso`-регрессию. Какой метод лучше?"
      ]
    },
    {
      "cell_type": "code",
      "execution_count": null,
      "metadata": {
        "id": "XsCQMDtfDfXM"
      },
      "outputs": [],
      "source": [
        "#╰( ͡° ͜ʖ ͡° )つ──☆*:・ﾟ"
      ]
    },
    {
      "cell_type": "markdown",
      "metadata": {
        "id": "CfiAt82kDfXM"
      },
      "source": [
        "Разбейте _обучающую выборку_ на 5 фолдов кросс-валидации. Подберите оптимальные значения параметра регуляризации (по логарифмической сетке) для `Ridge` и `Lasso`, на тестовой выборке измерьте качество лучшей полученной модели."
      ]
    },
    {
      "cell_type": "code",
      "execution_count": null,
      "metadata": {
        "id": "ZLYeWk9dDfXM"
      },
      "outputs": [],
      "source": [
        "#╰( ͡° ͜ʖ ͡° )つ──☆*:・ﾟ"
      ]
    },
    {
      "cell_type": "markdown",
      "metadata": {
        "id": "3-ZKg270DfXM"
      },
      "source": [
        "Для каждого перебранного `alpha` для Lasso посчитайте количество нулевых весов в модели и нарисуйте график зависимости его от `alpha`. Как сильно придётся потерять в качестве, если мы хотим с помощью Lasso избавиться хотя бы от половины признаков?"
      ]
    },
    {
      "cell_type": "code",
      "execution_count": null,
      "metadata": {
        "id": "2u_jUsi0DfXM"
      },
      "outputs": [],
      "source": [
        "#╰( ͡° ͜ʖ ͡° )つ──☆*:・ﾟ"
      ]
    },
    {
      "cell_type": "markdown",
      "metadata": {
        "id": "bKSxg4N3DfXM"
      },
      "source": [
        "Вставьте картинку, описывающую ваш опыт выполнения этого ДЗ."
      ]
    },
    {
      "cell_type": "code",
      "execution_count": null,
      "metadata": {
        "id": "W21oZoizDfXM"
      },
      "outputs": [],
      "source": []
    }
  ],
  "metadata": {
    "kernelspec": {
      "display_name": "Python 3 (ipykernel)",
      "language": "python",
      "name": "python3"
    },
    "language_info": {
      "codemirror_mode": {
        "name": "ipython",
        "version": 3
      },
      "file_extension": ".py",
      "mimetype": "text/x-python",
      "name": "python",
      "nbconvert_exporter": "python",
      "pygments_lexer": "ipython3",
      "version": "3.9.15"
    },
    "colab": {
      "provenance": [],
      "include_colab_link": true
    }
  },
  "nbformat": 4,
  "nbformat_minor": 0
}
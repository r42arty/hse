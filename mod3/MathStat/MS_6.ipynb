{
  "nbformat": 4,
  "nbformat_minor": 0,
  "metadata": {
    "colab": {
      "provenance": [],
      "authorship_tag": "ABX9TyNa3RvZ2qenba/16Qa/VWQZ",
      "include_colab_link": true
    },
    "kernelspec": {
      "name": "python3",
      "display_name": "Python 3"
    },
    "language_info": {
      "name": "python"
    }
  },
  "cells": [
    {
      "cell_type": "markdown",
      "metadata": {
        "id": "view-in-github",
        "colab_type": "text"
      },
      "source": [
        "<a href=\"https://colab.research.google.com/github/r42arty/hse/blob/main/mod3/MathStat/MS_6.ipynb\" target=\"_parent\"><img src=\"https://colab.research.google.com/assets/colab-badge.svg\" alt=\"Open In Colab\"/></a>"
      ]
    },
    {
      "cell_type": "markdown",
      "source": [
        "# Задача 3: t-тест при гетероскедастичности"
      ],
      "metadata": {
        "id": "Cyof4zeJlUbh"
      }
    },
    {
      "cell_type": "markdown",
      "source": [
        "## Объясните, почему классический t-тест даёт некорректные результаты при неравных дисперсиях групп."
      ],
      "metadata": {
        "id": "D6i3MEehlqBS"
      }
    },
    {
      "cell_type": "markdown",
      "source": [
        "Классический t-тест предполагает равенство дисперсий (гомоскедастичность).\n",
        "Если дисперсии групп разные (гетероскедастичность), то:\n",
        "- стандартные ошибки будут искажены;\n",
        "- результат теста (особенно p-значение) может быть неточным;\n",
        "- повышается вероятность ошибки первого рода (ложноположительное решение)."
      ],
      "metadata": {
        "id": "0g-XSD7ClsyD"
      }
    },
    {
      "cell_type": "markdown",
      "source": [
        "## Покажите, как робастные стандартные ошибки (по Уайту) исправляют эту проблему."
      ],
      "metadata": {
        "id": "fOJZhtkyltNE"
      }
    },
    {
      "cell_type": "markdown",
      "source": [],
      "metadata": {
        "id": "R7-XkUuBl4f1"
      }
    },
    {
      "cell_type": "markdown",
      "source": [
        "## Сравните p-значения классического t-теста и теста Уэлча на данных с разными дисперсиями (код на Python)."
      ],
      "metadata": {
        "id": "umbsVzBTlyRP"
      }
    },
    {
      "cell_type": "markdown",
      "source": [],
      "metadata": {
        "id": "FjElVVewl1ST"
      }
    }
  ]
}
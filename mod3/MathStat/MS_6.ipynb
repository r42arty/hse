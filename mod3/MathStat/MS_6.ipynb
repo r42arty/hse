{
  "nbformat": 4,
  "nbformat_minor": 0,
  "metadata": {
    "colab": {
      "provenance": [],
      "authorship_tag": "ABX9TyN+oFlVrL/3A0//4reCyL/8",
      "include_colab_link": true
    },
    "kernelspec": {
      "name": "python3",
      "display_name": "Python 3"
    },
    "language_info": {
      "name": "python"
    }
  },
  "cells": [
    {
      "cell_type": "markdown",
      "metadata": {
        "id": "view-in-github",
        "colab_type": "text"
      },
      "source": [
        "<a href=\"https://colab.research.google.com/github/r42arty/hse/blob/main/mod3/MathStat/MS_6.ipynb\" target=\"_parent\"><img src=\"https://colab.research.google.com/assets/colab-badge.svg\" alt=\"Open In Colab\"/></a>"
      ]
    },
    {
      "cell_type": "markdown",
      "source": [
        "# Задача 3: t-тест при гетероскедастичности"
      ],
      "metadata": {
        "id": "Cyof4zeJlUbh"
      }
    },
    {
      "cell_type": "markdown",
      "source": [
        "## Объясните, почему классический t-тест дает некорректные результаты при неравных дисперсиях групп."
      ],
      "metadata": {
        "id": "D6i3MEehlqBS"
      }
    },
    {
      "cell_type": "markdown",
      "source": [
        "Классический t-тест основан на предположении, что дисперсии выборок равны (гомоскедастичность)\n",
        "\n",
        "Это важно, потому что при расчёте t-статистики используется общая оценка дисперсии, полученная из обеих групп. Если дисперсии на самом деле разные (гетероскедастичность), происходит следующее:\n",
        "\n",
        "**1.\tНеверная оценка стандартной ошибки**\n",
        "\n",
        "Стандартная ошибка — это мера разброса средних. При неравных дисперсиях объединенная оценка будет занижена или завышена, в зависимости от того, какая группа больше. Это искажает результат.\n",
        "\n",
        "**2.\tИскажение t-статистики**\n",
        "\n",
        "t-статистика рассчитывается как:\n",
        "$t = \\frac{\\bar{x}_1 - \\bar{x}_2}{SE}$\n",
        "\n",
        "Если SE некорректна, то и сам t будет неточным.\n",
        "\n",
        "**3.\tp-значение недостоверно**\n",
        "\n",
        "Оно напрямую зависит от t-статистики. В результате, можно:\n",
        "- ошибочно отвергнуть нулевую гипотезу (ошибка первого рода);\n",
        "- или не отвергнуть, хотя разница есть (ошибка второго рода)."
      ],
      "metadata": {
        "id": "0g-XSD7ClsyD"
      }
    },
    {
      "cell_type": "markdown",
      "source": [
        "## Покажите, как робастные стандартные ошибки (по Уайту) исправляют эту проблему."
      ],
      "metadata": {
        "id": "fOJZhtkyltNE"
      }
    },
    {
      "cell_type": "markdown",
      "source": [],
      "metadata": {
        "id": "R7-XkUuBl4f1"
      }
    },
    {
      "cell_type": "markdown",
      "source": [
        "## Сравните p-значения классического t-теста и теста Уэлча на данных с разными дисперсиями (код на Python)."
      ],
      "metadata": {
        "id": "umbsVzBTlyRP"
      }
    },
    {
      "cell_type": "markdown",
      "source": [],
      "metadata": {
        "id": "FjElVVewl1ST"
      }
    }
  ]
}
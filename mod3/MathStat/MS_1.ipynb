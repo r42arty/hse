{
 "cells": [
  {
   "cell_type": "markdown",
   "id": "d9e1cef2",
   "metadata": {},
   "source": [
    "# Задание на тему \"Метод моментов и метод максимального правдоподобия\"\n",
    "(задача для разогрева)\n",
    "\n",
    "Пусть случайная величина $ X $ распределена экспоненциально с параметром $ \\lambda $, то есть $ X \\sim \\text{Exp}(\\lambda) $, где $ \\lambda > 0 $. Известно, что было получено $ n $ независимых наблюдений: $ X_1, X_2, \\dots, X_n $.\n",
    "\n",
    "## Задание 4 (1 балл)\n",
    "Реализуйте метод моментов и метод максимального правдоподобия для оценки параметра $ \\lambda $. Для демонстрации ипользуйте $n = 1000$ и значение $\\lambda = 2$. Для генерации можно использовать random.exponential из numpy (обратите внимание на правильную подачу параметра!). "
   ]
  },
  {
   "cell_type": "markdown",
   "id": "bb2b1a52",
   "metadata": {},
   "source": [
    "## Небольшая теоретическая справка\n",
    "\n",
    "### 1. Метод моментов для оценки параметра $ \\lambda $\n",
    "\n",
    "Для экспоненциального распределения математическое ожидание:\n",
    "\n",
    "$$\n",
    "\\mathbb{E}[X] = \\frac{1}{\\lambda}\n",
    "$$\n",
    "\n",
    "Используем выборочное среднее $ \\overline{X} $ как оценку для $ \\mathbb{E}[X] $:\n",
    "\n",
    "$$\n",
    "\\hat{\\lambda}_{\\text{MM}} = \\frac{1}{\\overline{X}} = \\frac{n}{\\sum_{i=1}^{n} X_i}\n",
    "$$\n",
    "\n",
    "### 2. Метод максимального правдоподобия для оценки параметра $ \\lambda $\n",
    "\n",
    "Функция правдоподобия для экспоненциального распределения имеет вид:\n",
    "\n",
    "$$\n",
    "L(\\lambda) = \\prod_{i=1}^{n} \\lambda \\exp(-\\lambda X_i)\n",
    "$$\n",
    "\n",
    "Логарифм функции правдоподобия:\n",
    "\n",
    "$$\n",
    "\\ln L(\\lambda) = n \\ln \\lambda - \\lambda \\sum_{i=1}^{n} X_i\n",
    "$$\n",
    "\n",
    "Для нахождения максимума, приравниваем первую производную логарифма функции правдоподобия к нулю:\n",
    "\n",
    "$$\n",
    "\\frac{\\partial}{\\partial \\lambda} \\ln L(\\lambda) = \\frac{n}{\\lambda} - \\sum_{i=1}^{n} X_i = 0\n",
    "$$\n",
    "\n",
    "Решаем для $ \\lambda $:\n",
    "\n",
    "$$\n",
    "\\hat{\\lambda}_{\\text{ML}} = \\frac{n}{\\sum_{i=1}^{n} X_i}\n",
    "$$\n",
    "\n",
    "### Замечание:\n",
    "Оценки по методу моментов и методу максимального правдоподобия для экспоненциального распределения совпадают."
   ]
  },
  {
   "cell_type": "markdown",
   "id": "fc41757c",
   "metadata": {},
   "source": [
    "### 3. Реализуйте оба метода на Python, используя сгенерированные данные."
   ]
  },
  {
   "cell_type": "code",
   "id": "983eb446",
   "metadata": {
    "scrolled": true,
    "ExecuteTime": {
     "end_time": "2025-02-07T11:14:56.707050Z",
     "start_time": "2025-02-07T11:14:56.586237Z"
    }
   },
   "source": [
    "import numpy as np\n",
    "import matplotlib.pyplot as plt\n",
    "\n",
    "# start your code\n",
    "true_lambda = 2     # Истинное значение λ\n",
    "n = 1000            # Размер выборки\n",
    "\n",
    "data = np.random.exponential(scale = (1/true_lambda), size=n) # Параметр λ = 1/scale => scale = 1/λ\n",
    "\n",
    "lambda_mm = 1 / np.mean(data) # Метод моментов\n",
    "lambda_ml = n / np.sum(data) # Метод максимального правдоподобия\n",
    "\n",
    "\n",
    "# end your code\n",
    "\n",
    "# Вывод результатов\n",
    "print(f\"Оценка методом моментов: {lambda_mm:.4f}\")\n",
    "print(f\"Оценка методом максимального правдоподобия: {lambda_ml:.4f}\")\n",
    "\n",
    "# График гистограммы данных и теоретической плотности\n",
    "x = np.linspace(0, np.max(data), 1000)\n",
    "pdf = true_lambda * np.exp(-true_lambda * x)\n",
    "\n",
    "plt.hist(data, bins=30, density=True, alpha=0.6, color='g', label='Гистограмма данных')\n",
    "plt.plot(x, pdf, 'r-', label=f'Теоретическая плотность (λ={true_lambda})')\n",
    "plt.legend()\n",
    "plt.title('Гистограмма выборки и теоретическая плотность')\n",
    "plt.show()"
   ],
   "outputs": [
    {
     "ename": "ModuleNotFoundError",
     "evalue": "No module named 'matplotlib'",
     "output_type": "error",
     "traceback": [
      "\u001B[0;31m---------------------------------------------------------------------------\u001B[0m",
      "\u001B[0;31mModuleNotFoundError\u001B[0m                       Traceback (most recent call last)",
      "Cell \u001B[0;32mIn[3], line 2\u001B[0m\n\u001B[1;32m      1\u001B[0m \u001B[38;5;28;01mimport\u001B[39;00m \u001B[38;5;21;01mnumpy\u001B[39;00m \u001B[38;5;28;01mas\u001B[39;00m \u001B[38;5;21;01mnp\u001B[39;00m\n\u001B[0;32m----> 2\u001B[0m \u001B[38;5;28;01mimport\u001B[39;00m \u001B[38;5;21;01mmatplotlib\u001B[39;00m\u001B[38;5;21;01m.\u001B[39;00m\u001B[38;5;21;01mpyplot\u001B[39;00m \u001B[38;5;28;01mas\u001B[39;00m \u001B[38;5;21;01mplt\u001B[39;00m\n\u001B[1;32m      4\u001B[0m \u001B[38;5;66;03m# start your code\u001B[39;00m\n\u001B[1;32m      5\u001B[0m true_lambda \u001B[38;5;241m=\u001B[39m \u001B[38;5;241m2\u001B[39m     \u001B[38;5;66;03m# Истинное значение λ\u001B[39;00m\n",
      "\u001B[0;31mModuleNotFoundError\u001B[0m: No module named 'matplotlib'"
     ]
    }
   ],
   "execution_count": 3
  },
  {
   "cell_type": "markdown",
   "id": "be3a5243",
   "metadata": {},
   "source": [
    "# Задание на тему \"Метод моментов и метод максимального правдоподобия\"\n",
    "\n",
    "## Описание задачи\n",
    "Мы будем работать с датасетом **Bank Marketing Dataset**, который содержит информацию о клиентах банка и их реакции на маркетинговые предложения. В этом задании мы используем два метода: метод моментов (MM) и метод максимального правдоподобия (MLE), чтобы оценить параметры распределений, описывающих данные.\n",
    "\n",
    "**Цель задания**:\n",
    "\n",
    "0. Постройте статистическую модель эксперимента в парадигме пройденного материала.\n",
    "1. Применить метод моментов для оценки параметров распределения для числовых переменных.\n",
    "2. Использовать метод максимального правдоподобия для оценки параметров распределения.\n",
    "3. Сравнить результаты оценок с реальными данными и сделать выводы.\n",
    "\n",
    "## Задание 5 (5 баллов)\n",
    "Вам предстоит на примере датасета **Bank Marketing Dataset** (файл bank-full.csv) применить полученные знания. Постройте оценки методами моментов и максимального правдоподобия для переменных `duration` и `age`. Распределения для `age` рекомендуется (настаиваем) взять нормальное $N(\\mu, \\sigma^2)$ с двумя неизместными параметрами $\\mu$ и $\\sigma^2$ (выбор иного распределения необходимо будет объяснить). Выбор распределения для `duration` остается за вами, но его необходимо будет пояснить."
   ]
  },
  {
   "cell_type": "markdown",
   "id": "11c480a1",
   "metadata": {},
   "source": [
    "### Шаги выполнения задания\n",
    "\n",
    "#### 1. (0.5 балла) Загрузите данные и проведите первичный осмотр данных. Выведете:\n",
    "1. тип данных,\n",
    "2. сколько строк,\n",
    "3. переменных,\n",
    "4. сколько значений принимает переменная `job`, `education` и `poutcome`.\n",
    "\n",
    "#### 2. (1.5 балла) Анализ переменной `age`.\n",
    "1. (0.5) Постройте оценку ММ для неизвестных параметров распределения `age`,\n",
    "2. (0.5) Постройте оценку ММП для неизвестных параметров распределения `age`,\n",
    "3. (0.5) Сравните оценки.\n",
    "\n",
    "#### 3. (3 балла) Анализ переменной `duration`\n",
    "1. (1) Постройте статистическую модель.\n",
    "1. (1) Постройте оценку ММ для неизвестных параметров распределения `duration`,\n",
    "2. (1) Постройте оценку ММП для неизвестных параметров распределения `duration`,\n",
    "3. (0 :)) Сравните оценки."
   ]
  },
  {
   "cell_type": "code",
   "id": "4513375e",
   "metadata": {},
   "source": [
    "# Импортируем необходимые библиотеки\n",
    "import pandas as pd\n",
    "import numpy as np\n",
    "import matplotlib.pyplot as plt\n",
    "import seaborn as sns"
   ],
   "outputs": [],
   "execution_count": null
  },
  {
   "cell_type": "markdown",
   "id": "946cda55",
   "metadata": {},
   "source": [
    "#### 1. Загрузите данные и проведите первичный осмотр данных. Выведете:\n",
    "1. тип данных,\n",
    "2. сколько строк,\n",
    "3. переменных,\n",
    "4. сколько значений принимает переменная `job`, `education` и `poutcome`."
   ]
  },
  {
   "cell_type": "code",
   "id": "43534b29",
   "metadata": {},
   "source": [
    "df = pd.read_csv('Users/arty/Desktop/bank_full.csv', delimiter = ';')\n",
    "df.head()"
   ],
   "outputs": [],
   "execution_count": null
  },
  {
   "metadata": {},
   "cell_type": "code",
   "source": [
    "print(f'Типы данных в датафрейме: \\n{df.dtypes}')\n",
    "print(f'\\nКоличество строк в датафрейме: {df.shape[0]}')\n",
    "print(f'Количество столбцов в датафрейме: {df.shape[1]}')\n",
    "\n",
    "unique_values = {\n",
    "    \"job\": df[\"job\"].nunique(),\n",
    "    \"education\": df[\"education\"].nunique(),\n",
    "    \"poutcome\": df[\"poutcome\"].nunique()\n",
    "}\n",
    "\n",
    "print(f'Количество уникальных значений переменных: {unique_values}')"
   ],
   "id": "eff73f9e2e1099a",
   "outputs": [],
   "execution_count": null
  },
  {
   "cell_type": "markdown",
   "id": "aa01d77b",
   "metadata": {},
   "source": [
    "#### 2. Анализ переменной `age`.\n",
    "1. Постройте оценку ММ для неизвестных параметров распределения `age`,\n",
    "2. Постройте оценку ММП для неизвестных параметров распределения `age`,\n",
    "3. Сравните оценки."
   ]
  },
  {
   "cell_type": "code",
   "id": "c4bb8b40",
   "metadata": {},
   "source": [
    "age_data = df[\"age\"]\n",
    "\n",
    "mu_mm = np.mean(age_data)\n",
    "sigma_square_mm = np.var(age_data, ddof=1)\n",
    "\n",
    "mu_ml = np.mean(age_data)\n",
    "sigma_square_ml = np.var(age_data, ddof=0)\n",
    "\n",
    "print(f\"Среднее методом моментов: {mu_mm:.4f}\")\n",
    "print(f\"Дисперсия методом моментов: {sigma_square_mm:.4f}\")\n",
    "print(f\"Среднее методом максимального правдоподобия: {mu_ml:.4f}\")\n",
    "print(f\"Дисперсия методом максимального правдоподобия: {sigma_square_ml:.4f}\\n\")\n",
    "\n",
    "print(f\"Разница между средними: {abs(mu_mm - mu_ml):.4f}\")\n",
    "print(f\"Разница между дисперсиями: {abs(sigma_square_mm - sigma_square_ml):.4f}\")"
   ],
   "outputs": [],
   "execution_count": null
  },
  {
   "cell_type": "markdown",
   "id": "2685e903",
   "metadata": {},
   "source": [
    "#### 3. Анализ переменной `duration`\n",
    "1. Постройте статистическую модель.\n",
    "1. Постройте оценку ММ для неизвестных параметров распределения `duration`,\n",
    "2. Постройте оценку ММП для неизвестных параметров распределения `duration`,\n",
    "3. Сравните оценки."
   ]
  },
  {
   "cell_type": "code",
   "id": "9774b1ce",
   "metadata": {},
   "source": [
    "duration_data = df['duration']\n",
    "\n",
    "plt.figure(figsize=(8, 5))\n",
    "plt.hist(duration_data, bins=50, density=True, alpha=0.6, color='g', label='Гистограмма данных')\n",
    "\n",
    "x = np.linspace(0, max(duration_data), 1000)\n",
    "\n",
    "mu_norm, sigma_norm = np.mean(duration_data), np.std(duration_data)\n",
    "pdf_norm = stats.norm.pdf(x, mu_norm, sigma_norm)\n",
    "plt.plot(x, pdf_norm, 'm-', label='Нормальное распределение')\n",
    "\n",
    "lambda_exp = 1 / np.mean(duration_data)\n",
    "pdf_exp = lambda_exp * np.exp(-lambda_exp * x)\n",
    "plt.plot(x, pdf_exp, 'b-', label='Экспоненциальное распределение')\n",
    "\n",
    "shape_gamma, loc_gamma, scale_gamma = stats.gamma.fit(duration_data_clean, floc=0)\n",
    "pdf_gamma = stats.gamma.pdf(x, shape_gamma, loc=loc_gamma, scale=scale_gamma)\n",
    "plt.plot(x, pdf_gamma, 'r-', label='Гамма-распределение')\n",
    "\n",
    "plt.xlabel('duration')\n",
    "plt.ylabel('Плотность вероятности')\n",
    "plt.title('Статистическая модель переменной duration')\n",
    "plt.legend()\n",
    "plt.grid()\n",
    "plt.show()"
   ],
   "outputs": [],
   "execution_count": null
  }
 ],
 "metadata": {
  "kernelspec": {
   "display_name": "Python 3 (ipykernel)",
   "language": "python",
   "name": "python3"
  },
  "language_info": {
   "codemirror_mode": {
    "name": "ipython",
    "version": 3
   },
   "file_extension": ".py",
   "mimetype": "text/x-python",
   "name": "python",
   "nbconvert_exporter": "python",
   "pygments_lexer": "ipython3",
   "version": "3.10.9"
  }
 },
 "nbformat": 4,
 "nbformat_minor": 5
}

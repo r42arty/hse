{
  "cells": [
    {
      "cell_type": "markdown",
      "metadata": {
        "id": "view-in-github",
        "colab_type": "text"
      },
      "source": [
        "<a href=\"https://colab.research.google.com/github/r42arty/hse/blob/main/mod3/MathStat/MS_4.ipynb\" target=\"_parent\"><img src=\"https://colab.research.google.com/assets/colab-badge.svg\" alt=\"Open In Colab\"/></a>"
      ]
    },
    {
      "cell_type": "markdown",
      "id": "ae540e00",
      "metadata": {
        "id": "ae540e00"
      },
      "source": [
        "# Домашнее задание № 4\n",
        "Состоит из двух частей: Z-тест и t-тест, проверка гипотез о сдвиге и однородности."
      ]
    },
    {
      "cell_type": "code",
      "execution_count": 7,
      "id": "9a49e460",
      "metadata": {
        "id": "9a49e460"
      },
      "outputs": [],
      "source": [
        "import numpy as np\n",
        "import scipy.stats as stats\n",
        "import matplotlib.pyplot as plt\n",
        "from statsmodels.stats.power import TTestIndPower\n",
        "from scipy.stats import ttest_ind\n",
        "\n",
        "import math"
      ]
    },
    {
      "cell_type": "markdown",
      "id": "088c44ac",
      "metadata": {
        "id": "088c44ac"
      },
      "source": [
        "# Часть 1: Проверка гипотез (Z-тест и t-тест)"
      ]
    },
    {
      "cell_type": "markdown",
      "id": "1a12ae43",
      "metadata": {
        "id": "1a12ae43"
      },
      "source": [
        "## Задача 1: Сравнение методов анализа данных\n",
        "\n",
        "### Контекст\n",
        "Компания провела эксперимент по улучшению времени загрузки страницы. Данные собраны для двух групп пользователей: контрольной (старая версия) и тестовой (новая версия). Вам нужно проанализировать данные, используя Z-тест и t-тест, и сравнить результаты.\n",
        "\n",
        "### Данные\n",
        "- **Контрольная группа**: 500 пользователей, среднее время загрузки $\\bar{X}_A = 3.8$ сек, стандартное отклонение $\\sigma_A = 0.9$ сек.\n",
        "- **Тестовая группа**: 520 пользователей, среднее время загрузки $\\bar{X}_B = 3.5$ сек, стандартное отклонение $\\sigma_B = 1.0$ сек.\n",
        "\n",
        "### Задания $(\\Sigma 36 points)$\n",
        "1. $(4 \\times 3 points)$ **Проверьте гипотезу о равенстве средних с использованием Z-теста.** Укажите:\n",
        "   - Формулировку нулевой и альтернативной гипотез.\n",
        "   - Расчёт Z-статистики.\n",
        "   - Критическое значение и p-value.\n",
        "   - Вывод о значимости.\n",
        "\n",
        "2. $(4 \\times 3 points)$ **Проверьте гипотезу о равенстве средних с использованием t-теста Уэлча.** Укажите:\n",
        "   - Формулировку нулевой и альтернативной гипотез.\n",
        "   - Расчёт t-статистики и степеней свободы.\n",
        "   - Критическое значение и p-value.\n",
        "   - Вывод о значимости.\n",
        "\n",
        "3. $(2 \\times 3 points)$ **Сравните результаты Z-теста и t-теста.** Ответьте на вопросы:\n",
        "   - Почему результаты могут отличаться?\n",
        "   - Какой тест лучше подходит для этих данных?\n",
        "\n",
        "4. $(2 \\times 3 points)$ **Сделайте бизнес-рекомендацию на основе анализа.** Укажите:\n",
        "   - Статистическую значимость изменений.\n",
        "   - Практическую значимость (например, в секундах)."
      ]
    },
    {
      "cell_type": "markdown",
      "id": "2465ab9b",
      "metadata": {
        "id": "2465ab9b"
      },
      "source": [
        "# Решение задачи 1: Сравнение методов анализа данных"
      ]
    },
    {
      "cell_type": "markdown",
      "id": "863bc20f",
      "metadata": {
        "id": "863bc20f"
      },
      "source": [
        "### 1.1 Проверьте гипотезу о равенстве средних с использованием Z-теста."
      ]
    },
    {
      "cell_type": "markdown",
      "id": "48fa3999",
      "metadata": {
        "id": "48fa3999"
      },
      "source": [
        "### 1.1.1 Формулировку нулевой и альтернативной гипотез"
      ]
    },
    {
      "cell_type": "markdown",
      "id": "7390be66",
      "metadata": {
        "id": "7390be66"
      },
      "source": [
        "$ H_0$: среднее время загрузки страницы в контрольной группе (старой версии) равно среднему времени загрузки в тестовой группе (новой версии)\n",
        "\n",
        "$ H_1$: среднее время загрузки страницы в контрольной группе не равно среднему времени загрузки в тестовой группе (новой версии)"
      ]
    },
    {
      "cell_type": "markdown",
      "id": "98eaef3c",
      "metadata": {
        "id": "98eaef3c"
      },
      "source": [
        "### 1.1.2 Расчёт Z-статистики"
      ]
    },
    {
      "cell_type": "code",
      "source": [
        "# Данные\n",
        "mean_A = 3.8\n",
        "mean_B = 3.5\n",
        "sigma_A = 0.9\n",
        "sigma_B = 1.0\n",
        "n_A = 500\n",
        "n_B = 520"
      ],
      "metadata": {
        "id": "bruHM8r-iOvv"
      },
      "id": "bruHM8r-iOvv",
      "execution_count": 14,
      "outputs": []
    },
    {
      "cell_type": "code",
      "execution_count": 15,
      "id": "fdf71de2",
      "metadata": {
        "colab": {
          "base_uri": "https://localhost:8080/"
        },
        "id": "fdf71de2",
        "outputId": "527a504b-c27c-4b4a-87c0-d3c5a58e1208"
      },
      "outputs": [
        {
          "output_type": "execute_result",
          "data": {
            "text/plain": [
              "5.040004962468865"
            ]
          },
          "metadata": {},
          "execution_count": 15
        }
      ],
      "source": [
        "# Расчет Z-статистики\n",
        "z = (mean_A - mean_B) / math.sqrt((sigma_A**2 / n_A) + (sigma_B**2 / n_B))\n",
        "z"
      ]
    },
    {
      "cell_type": "markdown",
      "id": "6ece69d4",
      "metadata": {
        "id": "6ece69d4"
      },
      "source": [
        "### 1.1.3 Критическое значение и p-value"
      ]
    },
    {
      "cell_type": "code",
      "execution_count": 16,
      "id": "f31ef06d",
      "metadata": {
        "id": "f31ef06d",
        "outputId": "066ba09a-b33a-4132-9a99-d8787af4ba06",
        "colab": {
          "base_uri": "https://localhost:8080/"
        }
      },
      "outputs": [
        {
          "output_type": "execute_result",
          "data": {
            "text/plain": [
              "(np.float64(1.959963984540054), np.float64(4.6551977495035146e-07))"
            ]
          },
          "metadata": {},
          "execution_count": 16
        }
      ],
      "source": [
        "from scipy.stats import norm\n",
        "\n",
        "alpha = 0.05                        # Уровень значимости\n",
        "z_critical = norm.ppf(1 - alpha/2)  # Критическое значение для двухстороннего теста\n",
        "\n",
        "# p-value (двухсторонний)\n",
        "p_value = 2 * (1 - norm.cdf(abs(z)))\n",
        "\n",
        "z_critical, p_value"
      ]
    },
    {
      "cell_type": "markdown",
      "id": "2cca204c",
      "metadata": {
        "id": "2cca204c"
      },
      "source": [
        "### 1.1.4 Вывод о значимости"
      ]
    },
    {
      "cell_type": "code",
      "execution_count": 17,
      "id": "88e88058",
      "metadata": {
        "id": "88e88058",
        "outputId": "f7c40220-0e35-4963-fe60-cc14032140da",
        "colab": {
          "base_uri": "https://localhost:8080/"
        }
      },
      "outputs": [
        {
          "output_type": "stream",
          "name": "stdout",
          "text": [
            "Статистика Z = 5.040 превышает критическое значение 1.960.\n",
            "Отклоняем нулевую гипотезу (H0). Изменения статистически значимы.\n",
            "p-value = 0.0000004655\n"
          ]
        }
      ],
      "source": [
        "if abs(z) > z_critical:\n",
        "    print(f\"Статистика Z = {z:.3f} превышает критическое значение {z_critical:.3f}.\")\n",
        "    print(\"Отклоняем нулевую гипотезу (H0). Изменения статистически значимы.\")\n",
        "else:\n",
        "    print(f\"Статистика Z = {z:.3f} не превышает критическое значение {z_critical:.3f}.\")\n",
        "    print(\"Нет оснований отклонить нулевую гипотезу (H0). Изменения статистически незначимы.\")\n",
        "print(f\"p-value = {p_value:.10f}\")"
      ]
    },
    {
      "cell_type": "markdown",
      "id": "fefe919f",
      "metadata": {
        "id": "fefe919f"
      },
      "source": [
        "### 1.2 Проверьте гипотезу о равенстве средних с использованием t-теста Уэлча"
      ]
    },
    {
      "cell_type": "markdown",
      "id": "94e10463",
      "metadata": {
        "id": "94e10463"
      },
      "source": [
        "### 1.2.1 Формулировку нулевой и альтернативной гипотез"
      ]
    },
    {
      "cell_type": "markdown",
      "id": "e9a42246",
      "metadata": {
        "id": "e9a42246"
      },
      "source": [
        "$H_0$: среднее время загрузки в контрольной группе равно среднему времени загрузки в тестовой группе\n",
        "\n",
        "$H_1$: среднее время загрузки в контрольной группе не равно среднему времени загрузки в тестовой группе"
      ]
    },
    {
      "cell_type": "markdown",
      "id": "8bdddd01",
      "metadata": {
        "id": "8bdddd01"
      },
      "source": [
        "### 1.2.2 Расчёт t-статистики и степеней свободы"
      ]
    },
    {
      "cell_type": "code",
      "execution_count": 19,
      "id": "a5b4a871",
      "metadata": {
        "id": "a5b4a871",
        "outputId": "c6172941-51ce-4952-8189-f1a655044409",
        "colab": {
          "base_uri": "https://localhost:8080/"
        }
      },
      "outputs": [
        {
          "output_type": "execute_result",
          "data": {
            "text/plain": [
              "(5.040004962468865, 1013.5972107955116)"
            ]
          },
          "metadata": {},
          "execution_count": 19
        }
      ],
      "source": [
        "# Расчет t-статистики по формуле Уэлча\n",
        "t_stat = (mean_A - mean_B) / math.sqrt((sigma_A**2 / n_A) + (sigma_B**2 / n_B))\n",
        "\n",
        "# Расчет степеней свободы (формула Уэлча)\n",
        "numerator = (sigma_A**2 / n_A + sigma_B**2 / n_B)**2\n",
        "denominator = ((sigma_A**2 / n_A)**2 / (n_A - 1)) + ((sigma_B**2 / n_B)**2 / (n_B - 1))\n",
        "df = numerator / denominator\n",
        "\n",
        "t_stat, df"
      ]
    },
    {
      "cell_type": "markdown",
      "id": "89e6cdf8",
      "metadata": {
        "id": "89e6cdf8"
      },
      "source": [
        "### 1.2.3 Критическое значение и p-value"
      ]
    },
    {
      "cell_type": "code",
      "execution_count": null,
      "id": "dff51ab2",
      "metadata": {
        "id": "dff51ab2",
        "outputId": "8df680aa-7ed7-4f61-feca-126489ee3f87"
      },
      "outputs": [
        {
          "name": "stdout",
          "output_type": "stream",
          "text": [
            "Критическое значение (±): 1.9623\n",
            "P-value: 0.0000096794\n"
          ]
        }
      ],
      "source": []
    },
    {
      "cell_type": "markdown",
      "id": "2c6b5b8a",
      "metadata": {
        "id": "2c6b5b8a"
      },
      "source": [
        "### 1.2.4 Вывод о значимости."
      ]
    },
    {
      "cell_type": "code",
      "execution_count": null,
      "id": "c7dd16bb",
      "metadata": {
        "id": "c7dd16bb",
        "outputId": "d41870c2-0ab1-4cd0-a70f-fb5207b82864"
      },
      "outputs": [
        {
          "name": "stdout",
          "output_type": "stream",
          "text": [
            "Отвергаем H₀: различия статистически значимы\n"
          ]
        }
      ],
      "source": []
    },
    {
      "cell_type": "markdown",
      "id": "c67dbd04",
      "metadata": {
        "id": "c67dbd04"
      },
      "source": [
        "### 1.3 Сравните результаты Z-теста и t-теста"
      ]
    },
    {
      "cell_type": "markdown",
      "id": "8f5ac6e7",
      "metadata": {
        "id": "8f5ac6e7"
      },
      "source": [
        "### 1.3.1 Почему результаты могут отличаться?\n",
        "### 1.3.2 Какой тест лучше для этих данных?"
      ]
    },
    {
      "cell_type": "code",
      "execution_count": null,
      "id": "f0a53242",
      "metadata": {
        "id": "f0a53242"
      },
      "outputs": [],
      "source": []
    },
    {
      "cell_type": "markdown",
      "id": "8af26fa5",
      "metadata": {
        "id": "8af26fa5"
      },
      "source": [
        "### 1.4 Сделайте бизнес-рекомендацию на основе анализа"
      ]
    },
    {
      "cell_type": "markdown",
      "id": "5972ffce",
      "metadata": {
        "id": "5972ffce"
      },
      "source": [
        "### 1.4.1 Статистическую значимость изменений\n",
        "### 1.4.2 Практическая значимость (например, в секундах)"
      ]
    },
    {
      "cell_type": "code",
      "execution_count": null,
      "id": "ca9f33c4",
      "metadata": {
        "id": "ca9f33c4"
      },
      "outputs": [],
      "source": []
    },
    {
      "cell_type": "markdown",
      "id": "a195da16",
      "metadata": {
        "id": "a195da16"
      },
      "source": [
        "# Часть 2: Проверка гипотез о сдвиге и однородности"
      ]
    },
    {
      "cell_type": "markdown",
      "id": "34c206bc",
      "metadata": {
        "id": "34c206bc"
      },
      "source": [
        "## Задача 1: Сравнение методов анализа сдвига\n",
        "\n",
        "### Контекст\n",
        "Компания провела A/B-тест двух версий лендинга. Вам предоставлены данные о времени (в секундах), проведенном на странице:\n",
        "- Группа A (старая версия): 150 пользователей  \n",
        "- Группа B (новая версия): 160 пользователей  \n",
        "\n",
        "**Цель**: Определить, увеличилось ли среднее время на странице в группе B."
      ]
    },
    {
      "cell_type": "code",
      "execution_count": null,
      "id": "18086b9d",
      "metadata": {
        "id": "18086b9d"
      },
      "outputs": [],
      "source": [
        "import numpy as np\n",
        "np.random.seed(42)\n",
        "\n",
        "# Генерация данных с асимметрией и выбросами\n",
        "def generate_skewed(loc, scale, skew, size):\n",
        "    data = np.random.weibull(skew, size) * scale + loc\n",
        "    return np.clip(data, 0, None)\n",
        "\n",
        "group_a = generate_skewed(120, 40, 1.5, 150)\n",
        "group_b = generate_skewed(135, 50, 0.8, 160)"
      ]
    },
    {
      "cell_type": "markdown",
      "id": "5b705347",
      "metadata": {
        "id": "5b705347"
      },
      "source": [
        "### Задания  $(\\Sigma 35 points)$\n",
        "1. $(3 \\times 3 points)$ **Разведочный анализ:**\n",
        "   - Постройте гистограммы и boxplot для обеих групп\n",
        "   - Рассчитайте медиану, среднее, стандартное отклонение\n",
        "   - Проверьте наличие выбросов (правило 3σ или IQR \\[межквартильный размах = разница между 75-процентилем и 25-процентилем\\])\n",
        "\n",
        "2. $(3 \\times 3 points)$ **Проверка условий:**\n",
        "   - Тест Шапиро-Уилка на нормальность\n",
        "   - Тест Левена на равенство дисперсий\n",
        "   - Обоснуйте выбор параметрических/непараметрических методов\n",
        "\n",
        "3. $(3 \\times 3 points)$ **Применение критериев:**\n",
        "   - Проведите:\n",
        "       - (а) Парный t-тест (если данные нормальны)\n",
        "       - (б) Тест Уэлча (Welch's t-test) (при неравных дисперсиях)\n",
        "       - (в) U-тест Манна-Уитни\n",
        "   \n",
        "4. $(2 \\times 4 points)$ **Сравнение результатов:**\n",
        "   - Объясните расхождения между параметрическими и непараметрическими методами\n",
        "   - Сформулируйте итоговый вывод для product-менеджера"
      ]
    },
    {
      "cell_type": "markdown",
      "id": "9c1da864",
      "metadata": {
        "id": "9c1da864"
      },
      "source": [
        "## Задача 1: Сравнение методов анализа сдвига"
      ]
    },
    {
      "cell_type": "markdown",
      "id": "1450b8b2",
      "metadata": {
        "id": "1450b8b2"
      },
      "source": [
        "### 1.1 Разведочный анализ"
      ]
    },
    {
      "cell_type": "markdown",
      "id": "176c79ad",
      "metadata": {
        "id": "176c79ad"
      },
      "source": [
        "### 1.1.1 Постройте гистограммы и boxplot для обеих групп"
      ]
    },
    {
      "cell_type": "code",
      "execution_count": null,
      "id": "c445944b",
      "metadata": {
        "id": "c445944b",
        "outputId": "f5af597e-3ab6-40e4-9bed-c5f9f47a5c7f"
      },
      "outputs": [
        {
          "data": {
            "image/png": "[encoded data removed]",
            "text/plain": [
              "<Figure size 1200x500 with 2 Axes>"
            ]
          },
          "metadata": {},
          "output_type": "display_data"
        }
      ],
      "source": []
    },
    {
      "cell_type": "markdown",
      "id": "56e7a175",
      "metadata": {
        "id": "56e7a175"
      },
      "source": [
        "### 1.1.2 Рассчитайте медиану, среднее, стандартное отклонение"
      ]
    },
    {
      "cell_type": "code",
      "execution_count": null,
      "id": "332d5a71",
      "metadata": {
        "id": "332d5a71"
      },
      "outputs": [],
      "source": []
    },
    {
      "cell_type": "markdown",
      "id": "b5129b14",
      "metadata": {
        "id": "b5129b14"
      },
      "source": [
        "### 1.1.3 Проверьте наличие выбросов (правило 3σ или IQR \\[межквартильный размах = разница между 75-процентилем и 25-процентилем\\])"
      ]
    },
    {
      "cell_type": "code",
      "execution_count": null,
      "id": "d8adfc3e",
      "metadata": {
        "id": "d8adfc3e"
      },
      "outputs": [],
      "source": []
    },
    {
      "cell_type": "markdown",
      "id": "888f0cf4",
      "metadata": {
        "id": "888f0cf4"
      },
      "source": [
        "### 1.2 Проверка условий"
      ]
    },
    {
      "cell_type": "markdown",
      "id": "b7916ec3",
      "metadata": {
        "id": "b7916ec3"
      },
      "source": [
        "### 1.2.1 Тест Шапиро-Уилка на нормальность"
      ]
    },
    {
      "cell_type": "code",
      "execution_count": null,
      "id": "e34d3f20",
      "metadata": {
        "id": "e34d3f20",
        "outputId": "d468706f-3c74-42b6-f6b8-f37e004aa4bd"
      },
      "outputs": [
        {
          "name": "stdout",
          "output_type": "stream",
          "text": [
            "Group A: p-value = 0.0000, отклонение от нормальности\n",
            "Group B: p-value = 0.0000, отклонение от нормальности\n"
          ]
        }
      ],
      "source": []
    },
    {
      "cell_type": "markdown",
      "id": "b0256308",
      "metadata": {
        "id": "b0256308"
      },
      "source": [
        "### 1.2.2 Тест Левена на равенство дисперсий"
      ]
    },
    {
      "cell_type": "code",
      "execution_count": null,
      "id": "39c014f2",
      "metadata": {
        "id": "39c014f2",
        "outputId": "0fa65627-c536-4a4f-d6d3-e55946a94cbf"
      },
      "outputs": [
        {
          "name": "stdout",
          "output_type": "stream",
          "text": [
            "\n",
            "Тест Левена: p-value = 0.0000, разные дисперсии\n"
          ]
        }
      ],
      "source": []
    },
    {
      "cell_type": "markdown",
      "id": "acf7a4e5",
      "metadata": {
        "id": "acf7a4e5"
      },
      "source": [
        "### 1.2.3 Обоснуйте выбор параметрических/непараметрических методов"
      ]
    },
    {
      "cell_type": "markdown",
      "id": "0d8fb062",
      "metadata": {
        "id": "0d8fb062"
      },
      "source": []
    },
    {
      "cell_type": "markdown",
      "id": "9f3e8904",
      "metadata": {
        "id": "9f3e8904"
      },
      "source": [
        "### 1.3 Применение критериев"
      ]
    },
    {
      "cell_type": "markdown",
      "id": "2e675d92",
      "metadata": {
        "id": "2e675d92"
      },
      "source": [
        "### 1.3.1 Парный t-тест (если данные нормальны)"
      ]
    },
    {
      "cell_type": "code",
      "execution_count": null,
      "id": "5c9a1a66",
      "metadata": {
        "id": "5c9a1a66",
        "outputId": "73d1c229-bc9d-46d9-8399-b9fe433be2b9"
      },
      "outputs": [
        {
          "name": "stdout",
          "output_type": "stream",
          "text": [
            "Student's t-test: t=-7.00, p=0.0000\n"
          ]
        }
      ],
      "source": []
    },
    {
      "cell_type": "markdown",
      "id": "f24e5af8",
      "metadata": {
        "id": "f24e5af8"
      },
      "source": [
        "### 1.3.2 Welch's t-test (при неравных дисперсиях)"
      ]
    },
    {
      "cell_type": "code",
      "execution_count": null,
      "id": "1fb60c6a",
      "metadata": {
        "id": "1fb60c6a",
        "outputId": "7cec9361-3215-4532-804a-a875cd78ccfc"
      },
      "outputs": [
        {
          "name": "stdout",
          "output_type": "stream",
          "text": [
            "Welch's t-test: t=-7.18, p=0.0000\n"
          ]
        }
      ],
      "source": []
    },
    {
      "cell_type": "markdown",
      "id": "e2b9005d",
      "metadata": {
        "id": "e2b9005d"
      },
      "source": [
        "### 1.3.3 U-тест Манна-Уитни"
      ]
    },
    {
      "cell_type": "code",
      "execution_count": null,
      "id": "40ef8684",
      "metadata": {
        "id": "40ef8684",
        "outputId": "913b7e0b-db47-47fe-85bb-948f52c32558"
      },
      "outputs": [
        {
          "name": "stdout",
          "output_type": "stream",
          "text": [
            "Mann-Whitney U-test: U = 6842, p-value = 0.0000\n"
          ]
        }
      ],
      "source": []
    },
    {
      "cell_type": "markdown",
      "id": "9563a39d",
      "metadata": {
        "id": "9563a39d"
      },
      "source": [
        "### 1.4 Сравнение результатов"
      ]
    },
    {
      "cell_type": "markdown",
      "id": "9fb6ef90",
      "metadata": {
        "id": "9fb6ef90"
      },
      "source": [
        "### 1.4.1 Объясните расхождения между параметрическими и непараметрическими методами"
      ]
    },
    {
      "cell_type": "markdown",
      "id": "0242e377",
      "metadata": {
        "id": "0242e377"
      },
      "source": []
    },
    {
      "cell_type": "markdown",
      "id": "ce0bb07b",
      "metadata": {
        "id": "ce0bb07b"
      },
      "source": [
        "### 1.4.2 Сформулируйте итоговый вывод для product-менеджера"
      ]
    },
    {
      "cell_type": "code",
      "execution_count": null,
      "id": "6a47cd30",
      "metadata": {
        "id": "6a47cd30"
      },
      "outputs": [],
      "source": []
    },
    {
      "cell_type": "markdown",
      "id": "671811d5",
      "metadata": {
        "id": "671811d5"
      },
      "source": [
        "## Задача 2: Анализ вариативности в маркетинговых данных\n",
        "### Контекст\n",
        "Анализируется стабильность CTR двух рекламных кампаний:\n",
        "- Кампания X: 200 дней наблюдений  \n",
        "- Кампания Y: 200 дней наблюдений\n",
        "\n",
        "**Цель**: Проверить гипотезу, что кампания Y имеет меньшую вариативность CTR."
      ]
    },
    {
      "cell_type": "code",
      "execution_count": null,
      "id": "fc3253ed",
      "metadata": {
        "id": "fc3253ed"
      },
      "outputs": [],
      "source": [
        "import numpy as np\n",
        "import pandas as pd\n",
        "import matplotlib.pyplot as plt\n",
        "import seaborn as sns\n",
        "from scipy import stats\n",
        "from sklearn.cluster import DBSCAN\n",
        "\n",
        "campaign_x = np.concatenate([\n",
        "    np.random.normal(0.05, 0.01, 150),\n",
        "    np.random.normal(0.08, 0.02, 50)\n",
        "])\n",
        "campaign_y = np.random.beta(a=2, b=40, size=200) * 0.1"
      ]
    },
    {
      "cell_type": "markdown",
      "id": "25eb3208",
      "metadata": {
        "id": "25eb3208"
      },
      "source": [
        "### Задания $(\\Sigma 29 points)$\n",
        "1. $(3 \\times 3 points)$ **Первичный анализ:**\n",
        "   - Рассчитайте [коэффициент вариации](https://ru.wikipedia.org/wiki/Коэффициент_вариации) для обеих кампаний\n",
        "   - Постройте Q-Q plot относительно бета-распределения и выполните тест [Шапиро-Уилка](https://docs.scipy.org/doc/scipy/reference/generated/scipy.stats.shapiro.html) (проверка нормальности)\n",
        "   - Выявите кластеры в данных (например, [методом](https://scikit-learn.org/stable/modules/generated/sklearn.cluster.DBSCAN.html) [DBSCAN](https://ru.wikipedia.org/wiki/DBSCAN))\n",
        "\n",
        "2. $(11 points)$ **Проверка гипотез:**\n",
        "   -  $(4 points)$ F-тест для нормализованных данных\n",
        "   -  $(4 points)$ Тест Левена с медианной центровкой\n",
        "   -  $(3 points)$ Bootstrap-оценка 95% ДИ для отношения дисперсий\n",
        "   \n",
        "4. $(3 \\times 3 points)$ **Интерпретация:**\n",
        "   - Свяжите статистические выводы с бизнес-метриками:\n",
        "       - (а) Сделайте статистические выводы (статистическая значимость вариативности, ДИ, кол-во кластеров)  \n",
        "       - (б) Риск бюджетных потерь при нестабильности CTR\n",
        "       - (в) Оптимальный размер выборки для будущих тестов"
      ]
    },
    {
      "cell_type": "markdown",
      "id": "bdb713ff",
      "metadata": {
        "id": "bdb713ff"
      },
      "source": [
        "## Задача 2: Анализ стабильности CTR"
      ]
    },
    {
      "cell_type": "markdown",
      "id": "2c0648c5",
      "metadata": {
        "id": "2c0648c5"
      },
      "source": [
        "### Генерация данных"
      ]
    },
    {
      "cell_type": "code",
      "execution_count": null,
      "id": "4bee971f",
      "metadata": {
        "id": "4bee971f"
      },
      "outputs": [],
      "source": [
        "# Создаем DataFrame\n",
        "ctr_df = pd.DataFrame({\n",
        "    'CTR': np.concatenate([campaign_x, campaign_y]),\n",
        "    'Campaign': ['X']*200 + ['Y']*200\n",
        "})"
      ]
    },
    {
      "cell_type": "markdown",
      "id": "c156f328",
      "metadata": {
        "id": "c156f328"
      },
      "source": [
        "### 2.1 Первичный анализ"
      ]
    },
    {
      "cell_type": "code",
      "execution_count": null,
      "id": "31cd8dba",
      "metadata": {
        "scrolled": true,
        "id": "31cd8dba",
        "outputId": "673cf36c-d3c6-4db5-a2c4-94f42e3cfe66"
      },
      "outputs": [
        {
          "data": {
            "image/png": "[encoded data removed]",
            "text/plain": [
              "<Figure size 1200x600 with 2 Axes>"
            ]
          },
          "metadata": {},
          "output_type": "display_data"
        }
      ],
      "source": [
        "plt.figure(figsize=(12, 6))\n",
        "\n",
        "# Гистограммы с ядерной оценкой плотности\n",
        "plt.subplot(121)\n",
        "sns.histplot(data=ctr_df, x='CTR', hue='Campaign',\n",
        "             element='step', stat='density', common_norm=False)\n",
        "plt.title('Распределения CTR по кампаниям')\n",
        "\n",
        "# Боксплоты\n",
        "plt.subplot(122)\n",
        "sns.boxplot(data=ctr_df, x='Campaign', y='CTR')\n",
        "plt.title('Сравнение вариативности CTR')\n",
        "plt.tight_layout()\n",
        "plt.show()"
      ]
    },
    {
      "cell_type": "markdown",
      "id": "73f2f59c",
      "metadata": {
        "id": "73f2f59c"
      },
      "source": [
        "### 2.1.1 Рассчитайте [коэффициент вариации](https://ru.wikipedia.org/wiki/Коэффициент_вариации) для обеих кампаний"
      ]
    },
    {
      "cell_type": "code",
      "execution_count": null,
      "id": "f358f60a",
      "metadata": {
        "id": "f358f60a",
        "outputId": "69194258-70a1-44bc-d4d6-e3e5cfce3df0"
      },
      "outputs": [
        {
          "name": "stdout",
          "output_type": "stream",
          "text": [
            "Campaign X: CV = 0.3230\n",
            "Campaign Y: CV = 0.6670\n"
          ]
        }
      ],
      "source": []
    },
    {
      "cell_type": "markdown",
      "id": "3a3e6aba",
      "metadata": {
        "id": "3a3e6aba"
      },
      "source": [
        "### 2.1.2 Постройте Q-Q plot относительно бета-распределения и выполните [Шапиро-Уилка](https://docs.scipy.org/doc/scipy/reference/generated/scipy.stats.shapiro.html) (проверка нормальности)"
      ]
    },
    {
      "cell_type": "code",
      "execution_count": null,
      "id": "71156b7c",
      "metadata": {
        "id": "71156b7c",
        "outputId": "af3dd1dd-7c21-4d06-f151-bd0a403b239f"
      },
      "outputs": [
        {
          "data": {
            "image/png": "[encoded data removed]",
            "text/plain": [
              "<Figure size 1200x500 with 2 Axes>"
            ]
          },
          "metadata": {},
          "output_type": "display_data"
        },
        {
          "name": "stdout",
          "output_type": "stream",
          "text": [
            "Результаты тестов нормальности:\n",
            "Campaign X: Shapiro p-value = 0.0000\n",
            "Campaign Y: Shapiro p-value = 0.0000\n"
          ]
        }
      ],
      "source": []
    },
    {
      "cell_type": "markdown",
      "id": "8b413134",
      "metadata": {
        "id": "8b413134"
      },
      "source": [
        "### 2.1.3 Выявите кластеры в данных [методом](https://scikit-learn.org/stable/modules/generated/sklearn.cluster.DBSCAN.html) [DBSCAN](https://ru.wikipedia.org/wiki/DBSCAN)"
      ]
    },
    {
      "cell_type": "code",
      "execution_count": null,
      "id": "502ca6c1",
      "metadata": {
        "id": "502ca6c1",
        "outputId": "76a2a622-a787-43a7-c3b5-35dec9134392"
      },
      "outputs": [
        {
          "data": {
            "image/png": "[encoded data removed]",
            "text/plain": [
              "<Figure size 800x500 with 1 Axes>"
            ]
          },
          "metadata": {},
          "output_type": "display_data"
        },
        {
          "name": "stdout",
          "output_type": "stream",
          "text": [
            "Обнаружено кластеров в Campaign X: 1\n"
          ]
        },
        {
          "data": {
            "image/png": "[encoded data removed]",
            "text/plain": [
              "<Figure size 800x500 with 1 Axes>"
            ]
          },
          "metadata": {},
          "output_type": "display_data"
        },
        {
          "name": "stdout",
          "output_type": "stream",
          "text": [
            "Обнаружено кластеров в Campaign Y: 0\n"
          ]
        }
      ],
      "source": []
    },
    {
      "cell_type": "markdown",
      "id": "7428e576",
      "metadata": {
        "id": "7428e576"
      },
      "source": [
        "### 2.2 Статистический анализ вариативности"
      ]
    },
    {
      "cell_type": "markdown",
      "id": "a4cf62ad",
      "metadata": {
        "id": "a4cf62ad"
      },
      "source": [
        "### 2.2.1 F-тест для нормализованных данных"
      ]
    },
    {
      "cell_type": "code",
      "execution_count": null,
      "id": "20caa358",
      "metadata": {
        "id": "20caa358",
        "outputId": "b920e7bc-15d2-4e52-f7aa-d9eb80707842"
      },
      "outputs": [
        {
          "name": "stdout",
          "output_type": "stream",
          "text": [
            "F-тест: F = 34.81, p-value = 0.0000\n"
          ]
        }
      ],
      "source": []
    },
    {
      "cell_type": "markdown",
      "id": "750cab50",
      "metadata": {
        "id": "750cab50"
      },
      "source": [
        "### 2.2.2 Тест Левена с медианной центровкой"
      ]
    },
    {
      "cell_type": "code",
      "execution_count": null,
      "id": "c5996fa7",
      "metadata": {
        "id": "c5996fa7",
        "outputId": "81143fcf-e749-4986-93a3-d345f12c6541"
      },
      "outputs": [
        {
          "name": "stdout",
          "output_type": "stream",
          "text": [
            "\n",
            "Тест Левена: W = 123.18, p-value = 0.0000\n"
          ]
        }
      ],
      "source": []
    },
    {
      "cell_type": "markdown",
      "id": "c3b7756a",
      "metadata": {
        "id": "c3b7756a"
      },
      "source": [
        "### 2.2.3 Bootstrap-оценка 95% ДИ для отношения дисперсий"
      ]
    },
    {
      "cell_type": "code",
      "execution_count": null,
      "id": "b40082a7",
      "metadata": {
        "id": "b40082a7",
        "outputId": "f7d0d53e-3961-4afb-8283-64dc881706b0"
      },
      "outputs": [
        {
          "name": "stdout",
          "output_type": "stream",
          "text": [
            "\n",
            "95% ДИ отношения дисперсий (Y/X): [0.02, 0.04]\n"
          ]
        }
      ],
      "source": []
    },
    {
      "cell_type": "markdown",
      "id": "d47e1ac9",
      "metadata": {
        "id": "d47e1ac9"
      },
      "source": [
        "### 2.3 Интерпретация"
      ]
    },
    {
      "cell_type": "code",
      "execution_count": null,
      "id": "23bd1c24",
      "metadata": {
        "id": "23bd1c24"
      },
      "outputs": [],
      "source": []
    }
  ],
  "metadata": {
    "kernelspec": {
      "display_name": "Python 3.10 (tensorflow_ver_07.02.23)",
      "language": "python",
      "name": "tensorflow_ver_07.02.23"
    },
    "language_info": {
      "codemirror_mode": {
        "name": "ipython",
        "version": 3
      },
      "file_extension": ".py",
      "mimetype": "text/x-python",
      "name": "python",
      "nbconvert_exporter": "python",
      "pygments_lexer": "ipython3",
      "version": "3.10.9"
    },
    "colab": {
      "provenance": [],
      "include_colab_link": true
    }
  },
  "nbformat": 4,
  "nbformat_minor": 5
}
{
  "cells": [
    {
      "cell_type": "markdown",
      "metadata": {
        "id": "view-in-github",
        "colab_type": "text"
      },
      "source": [
        "<a href=\"https://colab.research.google.com/github/r42arty/hse/blob/main/mod3/MathStat/MS_4.ipynb\" target=\"_parent\"><img src=\"https://colab.research.google.com/assets/colab-badge.svg\" alt=\"Open In Colab\"/></a>"
      ]
    },
    {
      "cell_type": "markdown",
      "id": "ae540e00",
      "metadata": {
        "id": "ae540e00"
      },
      "source": [
        "# Домашнее задание № 4\n",
        "Состоит из двух частей: Z-тест и t-тест, проверка гипотез о сдвиге и однородности."
      ]
    },
    {
      "cell_type": "code",
      "execution_count": 73,
      "id": "9a49e460",
      "metadata": {
        "id": "9a49e460"
      },
      "outputs": [],
      "source": [
        "import numpy as np\n",
        "import scipy.stats as stats\n",
        "import matplotlib.pyplot as plt\n",
        "from statsmodels.stats.power import TTestIndPower\n",
        "from scipy.stats import ttest_ind\n",
        "\n",
        "import math\n",
        "import seaborn as sns"
      ]
    },
    {
      "cell_type": "markdown",
      "id": "088c44ac",
      "metadata": {
        "id": "088c44ac"
      },
      "source": [
        "# Часть 1: Проверка гипотез (Z-тест и t-тест)"
      ]
    },
    {
      "cell_type": "markdown",
      "id": "1a12ae43",
      "metadata": {
        "id": "1a12ae43"
      },
      "source": [
        "## Задача 1: Сравнение методов анализа данных\n",
        "\n",
        "### Контекст\n",
        "Компания провела эксперимент по улучшению времени загрузки страницы. Данные собраны для двух групп пользователей: контрольной (старая версия) и тестовой (новая версия). Вам нужно проанализировать данные, используя Z-тест и t-тест, и сравнить результаты.\n",
        "\n",
        "### Данные\n",
        "- **Контрольная группа**: 500 пользователей, среднее время загрузки $\\bar{X}_A = 3.8$ сек, стандартное отклонение $\\sigma_A = 0.9$ сек.\n",
        "- **Тестовая группа**: 520 пользователей, среднее время загрузки $\\bar{X}_B = 3.5$ сек, стандартное отклонение $\\sigma_B = 1.0$ сек.\n",
        "\n",
        "### Задания $(\\Sigma 36 points)$\n",
        "1. $(4 \\times 3 points)$ **Проверьте гипотезу о равенстве средних с использованием Z-теста.** Укажите:\n",
        "   - Формулировку нулевой и альтернативной гипотез.\n",
        "   - Расчёт Z-статистики.\n",
        "   - Критическое значение и p-value.\n",
        "   - Вывод о значимости.\n",
        "\n",
        "2. $(4 \\times 3 points)$ **Проверьте гипотезу о равенстве средних с использованием t-теста Уэлча.** Укажите:\n",
        "   - Формулировку нулевой и альтернативной гипотез.\n",
        "   - Расчёт t-статистики и степеней свободы.\n",
        "   - Критическое значение и p-value.\n",
        "   - Вывод о значимости.\n",
        "\n",
        "3. $(2 \\times 3 points)$ **Сравните результаты Z-теста и t-теста.** Ответьте на вопросы:\n",
        "   - Почему результаты могут отличаться?\n",
        "   - Какой тест лучше подходит для этих данных?\n",
        "\n",
        "4. $(2 \\times 3 points)$ **Сделайте бизнес-рекомендацию на основе анализа.** Укажите:\n",
        "   - Статистическую значимость изменений.\n",
        "   - Практическую значимость (например, в секундах)."
      ]
    },
    {
      "cell_type": "markdown",
      "id": "2465ab9b",
      "metadata": {
        "id": "2465ab9b"
      },
      "source": [
        "# Решение задачи 1: Сравнение методов анализа данных"
      ]
    },
    {
      "cell_type": "markdown",
      "id": "863bc20f",
      "metadata": {
        "id": "863bc20f"
      },
      "source": [
        "### 1.1 Проверьте гипотезу о равенстве средних с использованием Z-теста."
      ]
    },
    {
      "cell_type": "markdown",
      "id": "48fa3999",
      "metadata": {
        "id": "48fa3999"
      },
      "source": [
        "### 1.1.1 Формулировку нулевой и альтернативной гипотез"
      ]
    },
    {
      "cell_type": "markdown",
      "id": "7390be66",
      "metadata": {
        "id": "7390be66"
      },
      "source": [
        "$ H_0$: среднее время загрузки страницы в контрольной группе (старой версии) равно среднему времени загрузки в тестовой группе (новой версии)\n",
        "\n",
        "$ H_1$: среднее время загрузки страницы в контрольной группе не равно среднему времени загрузки в тестовой группе (новой версии)"
      ]
    },
    {
      "cell_type": "markdown",
      "id": "98eaef3c",
      "metadata": {
        "id": "98eaef3c"
      },
      "source": [
        "### 1.1.2 Расчёт Z-статистики"
      ]
    },
    {
      "cell_type": "code",
      "source": [
        "# Данные\n",
        "mean_A = 3.8\n",
        "mean_B = 3.5\n",
        "sigma_A = 0.9\n",
        "sigma_B = 1.0\n",
        "n_A = 500\n",
        "n_B = 520"
      ],
      "metadata": {
        "id": "bruHM8r-iOvv"
      },
      "id": "bruHM8r-iOvv",
      "execution_count": 74,
      "outputs": []
    },
    {
      "cell_type": "code",
      "execution_count": 75,
      "id": "fdf71de2",
      "metadata": {
        "id": "fdf71de2",
        "colab": {
          "base_uri": "https://localhost:8080/"
        },
        "outputId": "ef3e97a3-a58b-416b-97cc-07e37602db9f"
      },
      "outputs": [
        {
          "output_type": "execute_result",
          "data": {
            "text/plain": [
              "5.040004962468865"
            ]
          },
          "metadata": {},
          "execution_count": 75
        }
      ],
      "source": [
        "# Расчет Z-статистики\n",
        "z = (mean_A - mean_B) / math.sqrt((sigma_A**2 / n_A) + (sigma_B**2 / n_B))\n",
        "z"
      ]
    },
    {
      "cell_type": "markdown",
      "id": "6ece69d4",
      "metadata": {
        "id": "6ece69d4"
      },
      "source": [
        "### 1.1.3 Критическое значение и p-value"
      ]
    },
    {
      "cell_type": "code",
      "execution_count": 76,
      "id": "f31ef06d",
      "metadata": {
        "id": "f31ef06d",
        "colab": {
          "base_uri": "https://localhost:8080/"
        },
        "outputId": "173b23fe-4278-4f16-e476-ee697f285a84"
      },
      "outputs": [
        {
          "output_type": "execute_result",
          "data": {
            "text/plain": [
              "(np.float64(1.959963984540054), np.float64(4.6551977495035146e-07))"
            ]
          },
          "metadata": {},
          "execution_count": 76
        }
      ],
      "source": [
        "from scipy.stats import norm\n",
        "\n",
        "alpha = 0.05                        # Уровень значимости\n",
        "z_critical = norm.ppf(1 - alpha/2)  # Критическое значение для двухстороннего теста\n",
        "\n",
        "# p-value (двухсторонний)\n",
        "p_value = 2 * (1 - norm.cdf(abs(z)))\n",
        "\n",
        "z_critical, p_value"
      ]
    },
    {
      "cell_type": "markdown",
      "id": "2cca204c",
      "metadata": {
        "id": "2cca204c"
      },
      "source": [
        "### 1.1.4 Вывод о значимости"
      ]
    },
    {
      "cell_type": "code",
      "execution_count": 77,
      "id": "88e88058",
      "metadata": {
        "id": "88e88058",
        "colab": {
          "base_uri": "https://localhost:8080/"
        },
        "outputId": "1f32a5d8-51e0-42aa-9aea-fb2e176ef6cd"
      },
      "outputs": [
        {
          "output_type": "stream",
          "name": "stdout",
          "text": [
            "Статистика Z = 5.040 превышает критическое значение 1.960.\n",
            "Отклоняем нулевую гипотезу (H0). Изменения статистически значимы.\n",
            "p-value = 0.0000004655\n"
          ]
        }
      ],
      "source": [
        "if abs(z) > z_critical:\n",
        "    print(f\"Статистика Z = {z:.3f} превышает критическое значение {z_critical:.3f}.\")\n",
        "    print(\"Отклоняем нулевую гипотезу (H0). Изменения статистически значимы.\")\n",
        "else:\n",
        "    print(f\"Статистика Z = {z:.3f} не превышает критическое значение {z_critical:.3f}.\")\n",
        "    print(\"Нет оснований отклонить нулевую гипотезу (H0). Изменения статистически незначимы.\")\n",
        "print(f\"p-value = {p_value:.10f}\")"
      ]
    },
    {
      "cell_type": "markdown",
      "id": "fefe919f",
      "metadata": {
        "id": "fefe919f"
      },
      "source": [
        "### 1.2 Проверьте гипотезу о равенстве средних с использованием t-теста Уэлча"
      ]
    },
    {
      "cell_type": "markdown",
      "id": "94e10463",
      "metadata": {
        "id": "94e10463"
      },
      "source": [
        "### 1.2.1 Формулировку нулевой и альтернативной гипотез"
      ]
    },
    {
      "cell_type": "markdown",
      "id": "e9a42246",
      "metadata": {
        "id": "e9a42246"
      },
      "source": [
        "$H_0$: среднее время загрузки в контрольной группе равно среднему времени загрузки в тестовой группе\n",
        "\n",
        "$H_1$: среднее время загрузки в контрольной группе не равно среднему времени загрузки в тестовой группе"
      ]
    },
    {
      "cell_type": "markdown",
      "id": "8bdddd01",
      "metadata": {
        "id": "8bdddd01"
      },
      "source": [
        "### 1.2.2 Расчёт t-статистики и степеней свободы"
      ]
    },
    {
      "cell_type": "code",
      "execution_count": 78,
      "id": "a5b4a871",
      "metadata": {
        "id": "a5b4a871",
        "colab": {
          "base_uri": "https://localhost:8080/"
        },
        "outputId": "5dabe4c7-e89f-44b3-a348-020ed8ebf0a6"
      },
      "outputs": [
        {
          "output_type": "execute_result",
          "data": {
            "text/plain": [
              "(5.040004962468865, 1013.5972107955116)"
            ]
          },
          "metadata": {},
          "execution_count": 78
        }
      ],
      "source": [
        "# Расчет t-статистики по формуле Уэлча\n",
        "t_stat = (mean_A - mean_B) / math.sqrt((sigma_A**2 / n_A) + (sigma_B**2 / n_B))\n",
        "\n",
        "# Расчет степеней свободы (формула Уэлча)\n",
        "numerator = (sigma_A**2 / n_A + sigma_B**2 / n_B)**2\n",
        "denominator = ((sigma_A**2 / n_A)**2 / (n_A - 1)) + ((sigma_B**2 / n_B)**2 / (n_B - 1))\n",
        "df = numerator / denominator\n",
        "\n",
        "t_stat, df"
      ]
    },
    {
      "cell_type": "markdown",
      "id": "89e6cdf8",
      "metadata": {
        "id": "89e6cdf8"
      },
      "source": [
        "### 1.2.3 Критическое значение и p-value"
      ]
    },
    {
      "cell_type": "code",
      "execution_count": 79,
      "id": "dff51ab2",
      "metadata": {
        "id": "dff51ab2",
        "colab": {
          "base_uri": "https://localhost:8080/"
        },
        "outputId": "cd6837fb-4537-42f8-a848-e660318c03be"
      },
      "outputs": [
        {
          "output_type": "execute_result",
          "data": {
            "text/plain": [
              "(np.float64(1.9623071819458953), np.float64(5.510804195196783e-07))"
            ]
          },
          "metadata": {},
          "execution_count": 79
        }
      ],
      "source": [
        "alpha = 0.05\n",
        "t_critical = t.ppf(1 - alpha/2, df)  # критическое значение для двухстороннего теста\n",
        "\n",
        "# p-value (двухстороннее)\n",
        "p_value = 2 * (1 - t.cdf(abs(t_stat), df))\n",
        "\n",
        "t_critical, p_value"
      ]
    },
    {
      "cell_type": "markdown",
      "id": "2c6b5b8a",
      "metadata": {
        "id": "2c6b5b8a"
      },
      "source": [
        "### 1.2.4 Вывод о значимости."
      ]
    },
    {
      "cell_type": "code",
      "execution_count": 80,
      "id": "c7dd16bb",
      "metadata": {
        "id": "c7dd16bb",
        "colab": {
          "base_uri": "https://localhost:8080/"
        },
        "outputId": "573be261-1340-41e3-de73-86dce0af1be3"
      },
      "outputs": [
        {
          "output_type": "stream",
          "name": "stdout",
          "text": [
            "Статистика t = 5.040 превышает критическое значение 1.962.\n",
            "Отклоняем нулевую гипотезу (H₀). Изменения статистически значимы.\n",
            "Степени свободы (df) ≈ 1013.60\n",
            "p-value = 0.0000005511\n"
          ]
        }
      ],
      "source": [
        "if abs(t_stat) > t_critical:\n",
        "    print(f\"Статистика t = {t_stat:.3f} превышает критическое значение {t_critical:.3f}.\")\n",
        "    print(\"Отклоняем нулевую гипотезу (H₀). Изменения статистически значимы.\")\n",
        "else:\n",
        "    print(f\"Статистика t = {t_stat:.3f} не превышает критическое значение {t_critical:.3f}.\")\n",
        "    print(\"Нет оснований отклонить нулевую гипотезу (H₀). Изменения статистически незначимы.\")\n",
        "\n",
        "print(f\"Степени свободы (df) ≈ {df:.2f}\")\n",
        "print(f\"p-value = {p_value:.10f}\")"
      ]
    },
    {
      "cell_type": "markdown",
      "id": "c67dbd04",
      "metadata": {
        "id": "c67dbd04"
      },
      "source": [
        "### 1.3 Сравните результаты Z-теста и t-теста"
      ]
    },
    {
      "cell_type": "markdown",
      "id": "8f5ac6e7",
      "metadata": {
        "id": "8f5ac6e7"
      },
      "source": [
        "### 1.3.1 Почему результаты могут отличаться?"
      ]
    },
    {
      "cell_type": "markdown",
      "source": [
        "1. **Разные предположения о дисперсии.**  \n",
        "   - Z-тест предполагает, что известны истинные (генеральные) стандартные отклонения или что выборки достаточно большие, чтобы оценка дисперсии была близка к истинной.  \n",
        "   - t-тест (особенно Уэлча) не делает такого жесткого предположения; он оценивает дисперсии из выборок и учитывает их потенциальную разницу.\n",
        "2. **Размер выборки.**  \n",
        "   - При небольших выборках распределение выборочной средней не всегда близко к нормальному, поэтому t-распределение лучше отражает реальность.  \n",
        "   - При больших выборках (как в нашем случае) t-распределение стремится к нормальному, поэтому Z-тест и t-тест дают очень похожие результаты.\n",
        "3. **Асимметрия или несбалансированность данных.**  \n",
        "   - Если данные существенно нарушают предположения о нормальности или равенстве дисперсий, результаты могут сильнее различаться."
      ],
      "metadata": {
        "id": "6QZkEL1kjmwM"
      },
      "id": "6QZkEL1kjmwM"
    },
    {
      "cell_type": "markdown",
      "source": [
        "### 1.3.2 Какой тест лучше для этих данных?"
      ],
      "metadata": {
        "id": "n27FN4xBjhf5"
      },
      "id": "n27FN4xBjhf5"
    },
    {
      "cell_type": "markdown",
      "source": [
        "- Поскольку объёмы выборок достаточно велики (500 и 520), **Z-тест** и **t-тест Уэлча** дают почти идентичные результаты.  \n",
        "- Однако с точки зрения универсальности и меньшего количества жёстких предположений **t-тест Уэлча** обычно считается более «безопасным» вариантом, так как он не требует знания истинной дисперсии и лучше справляется с разными дисперсиями в группах."
      ],
      "metadata": {
        "id": "CXhV87WWj2Ko"
      },
      "id": "CXhV87WWj2Ko"
    },
    {
      "cell_type": "markdown",
      "id": "8af26fa5",
      "metadata": {
        "id": "8af26fa5"
      },
      "source": [
        "### 1.4 Сделайте бизнес-рекомендацию на основе анализа"
      ]
    },
    {
      "cell_type": "markdown",
      "id": "5972ffce",
      "metadata": {
        "id": "5972ffce"
      },
      "source": [
        "### 1.4.1 Статистическую значимость изменений"
      ]
    },
    {
      "cell_type": "markdown",
      "source": [
        "- Оба теста показали, что разница во времени загрузки (3.8 сек против 3.5 сек) статистически значима при уровне значимости 0.05.  \n",
        "- p-value очень мало (далеко меньше 0.05), поэтому мы с высокой вероятностью утверждаем, что наблюдаемое улучшение не является случайностью."
      ],
      "metadata": {
        "id": "t9DsCBqnkWG2"
      },
      "id": "t9DsCBqnkWG2"
    },
    {
      "cell_type": "markdown",
      "source": [
        "### 1.4.2 Практическая значимость (например, в секундах)"
      ],
      "metadata": {
        "id": "aHdWfZChkZ55"
      },
      "id": "aHdWfZChkZ55"
    },
    {
      "cell_type": "markdown",
      "source": [
        "- Среднее время загрузки сократилось примерно на 0.3 секунды.  \n",
        "- Для веб-сайта это может быть важным фактором, поскольку более быстрая загрузка обычно улучшает пользовательский опыт, снижает отток пользователей и может повышать конверсию."
      ],
      "metadata": {
        "id": "Hb1PSyf0ka4A"
      },
      "id": "Hb1PSyf0ka4A"
    },
    {
      "cell_type": "markdown",
      "source": [
        "**Рекомендация:**  \n",
        "Внедрить новую версию страницы, поскольку она статистически и практически лучше по времени загрузки."
      ],
      "metadata": {
        "id": "I07hK78lkf3t"
      },
      "id": "I07hK78lkf3t"
    },
    {
      "cell_type": "markdown",
      "id": "a195da16",
      "metadata": {
        "id": "a195da16"
      },
      "source": [
        "# Часть 2: Проверка гипотез о сдвиге и однородности"
      ]
    },
    {
      "cell_type": "markdown",
      "id": "34c206bc",
      "metadata": {
        "id": "34c206bc"
      },
      "source": [
        "## Задача 1: Сравнение методов анализа сдвига\n",
        "\n",
        "### Контекст\n",
        "Компания провела A/B-тест двух версий лендинга. Вам предоставлены данные о времени (в секундах), проведенном на странице:\n",
        "- Группа A (старая версия): 150 пользователей  \n",
        "- Группа B (новая версия): 160 пользователей  \n",
        "\n",
        "**Цель**: Определить, увеличилось ли среднее время на странице в группе B."
      ]
    },
    {
      "cell_type": "code",
      "execution_count": 81,
      "id": "18086b9d",
      "metadata": {
        "id": "18086b9d"
      },
      "outputs": [],
      "source": [
        "import numpy as np\n",
        "np.random.seed(42)\n",
        "\n",
        "# Генерация данных с асимметрией и выбросами\n",
        "def generate_skewed(loc, scale, skew, size):\n",
        "    data = np.random.weibull(skew, size) * scale + loc\n",
        "    return np.clip(data, 0, None)\n",
        "\n",
        "group_a = generate_skewed(120, 40, 1.5, 150)\n",
        "group_b = generate_skewed(135, 50, 0.8, 160)"
      ]
    },
    {
      "cell_type": "markdown",
      "id": "5b705347",
      "metadata": {
        "id": "5b705347"
      },
      "source": [
        "### Задания  $(\\Sigma 35 points)$\n",
        "1. $(3 \\times 3 points)$ **Разведочный анализ:**\n",
        "   - Постройте гистограммы и boxplot для обеих групп\n",
        "   - Рассчитайте медиану, среднее, стандартное отклонение\n",
        "   - Проверьте наличие выбросов (правило 3σ или IQR \\[межквартильный размах = разница между 75-процентилем и 25-процентилем\\])\n",
        "\n",
        "2. $(3 \\times 3 points)$ **Проверка условий:**\n",
        "   - Тест Шапиро-Уилка на нормальность\n",
        "   - Тест Левена на равенство дисперсий\n",
        "   - Обоснуйте выбор параметрических/непараметрических методов\n",
        "\n",
        "3. $(3 \\times 3 points)$ **Применение критериев:**\n",
        "   - Проведите:\n",
        "       - (а) Парный t-тест (если данные нормальны)\n",
        "       - (б) Тест Уэлча (Welch's t-test) (при неравных дисперсиях)\n",
        "       - (в) U-тест Манна-Уитни\n",
        "   \n",
        "4. $(2 \\times 4 points)$ **Сравнение результатов:**\n",
        "   - Объясните расхождения между параметрическими и непараметрическими методами\n",
        "   - Сформулируйте итоговый вывод для product-менеджера"
      ]
    },
    {
      "cell_type": "markdown",
      "id": "9c1da864",
      "metadata": {
        "id": "9c1da864"
      },
      "source": [
        "## Задача 1: Сравнение методов анализа сдвига"
      ]
    },
    {
      "cell_type": "markdown",
      "id": "1450b8b2",
      "metadata": {
        "id": "1450b8b2"
      },
      "source": [
        "### 1.1 Разведочный анализ"
      ]
    },
    {
      "cell_type": "markdown",
      "id": "176c79ad",
      "metadata": {
        "id": "176c79ad"
      },
      "source": [
        "### 1.1.1 Постройте гистограммы и boxplot для обеих групп"
      ]
    },
    {
      "cell_type": "code",
      "execution_count": 82,
      "id": "c445944b",
      "metadata": {
        "id": "c445944b",
        "colab": {
          "base_uri": "https://localhost:8080/",
          "height": 487
        },
        "outputId": "ed1ff8a8-ee3d-42f2-c8a0-2b8596b10064"
      },
      "outputs": [
        {
          "output_type": "display_data",
          "data": {
            "text/plain": [
              "<Figure size 640x480 with 2 Axes>"
            ],
            "image/png": "[encoded data removed]"
          },
          "metadata": {}
        }
      ],
      "source": [
        "plt.Figure()\n",
        "\n",
        "plt.subplot(1, 2, 1)\n",
        "sns.histplot(group_a, color='blue', kde=True, label='Group A')\n",
        "sns.histplot(group_b, color='orange', kde=True, label='Group B')\n",
        "plt.title(\"Histogram of group_a and group_b\")\n",
        "plt.legend()\n",
        "\n",
        "plt.subplot(1, 2, 2)\n",
        "sns.boxplot(data=[group_a, group_b])\n",
        "plt.xticks([0, 1], [\"group_a\", \"group_b\"])\n",
        "plt.title(\"Boxplot of group_a and group_b\")\n",
        "\n",
        "plt.tight_layout()\n",
        "plt.show()"
      ]
    },
    {
      "cell_type": "markdown",
      "id": "56e7a175",
      "metadata": {
        "id": "56e7a175"
      },
      "source": [
        "### 1.1.2 Рассчитайте медиану, среднее, стандартное отклонение"
      ]
    },
    {
      "cell_type": "code",
      "execution_count": 83,
      "id": "332d5a71",
      "metadata": {
        "id": "332d5a71",
        "colab": {
          "base_uri": "https://localhost:8080/"
        },
        "outputId": "289929ef-1dbb-4fef-8f34-d1fc7655b77e"
      },
      "outputs": [
        {
          "output_type": "stream",
          "name": "stdout",
          "text": [
            "group_a: median = 148.28, mean = 154.03, std = 23.77\n",
            "group_b: median = 173.00, mean = 192.55, std = 63.31\n"
          ]
        }
      ],
      "source": [
        "a_median = np.median(group_a)\n",
        "a_mean = np.mean(group_a)\n",
        "a_std = np.std(group_a, ddof=1)\n",
        "\n",
        "b_median = np.median(group_b)\n",
        "b_mean = np.mean(group_b)\n",
        "b_std = np.std(group_b, ddof=1)\n",
        "\n",
        "print(f\"group_a: median = {a_median:.2f}, mean = {a_mean:.2f}, std = {a_std:.2f}\")\n",
        "print(f\"group_b: median = {b_median:.2f}, mean = {b_mean:.2f}, std = {b_std:.2f}\")"
      ]
    },
    {
      "cell_type": "markdown",
      "id": "b5129b14",
      "metadata": {
        "id": "b5129b14"
      },
      "source": [
        "### 1.1.3 Проверьте наличие выбросов (правило 3σ или IQR \\[межквартильный размах = разница между 75-процентилем и 25-процентилем\\])"
      ]
    },
    {
      "cell_type": "code",
      "execution_count": 84,
      "id": "d8adfc3e",
      "metadata": {
        "id": "d8adfc3e",
        "colab": {
          "base_uri": "https://localhost:8080/"
        },
        "outputId": "0f84c02a-3a39-432c-ec4b-df3f82de3b97"
      },
      "outputs": [
        {
          "output_type": "stream",
          "name": "stdout",
          "text": [
            "Количество выбросов по правилу 3σ в group_a: 1\n",
            "Количество выбросов по правилу 3σ в group_b: 4\n",
            "Количество выбросов по правилу IQR в group_a: 1\n",
            "Количество выбросов по правилу IQR в group_b: 10\n"
          ]
        }
      ],
      "source": [
        "# Правило 3σ\n",
        "a_outliers_3sigma = [x for x in group_a if x < (a_mean - 3*a_std) or x > (a_mean + 3*a_std)]\n",
        "b_outliers_3sigma = [x for x in group_b if x < (b_mean - 3*b_std) or x > (b_mean + 3*b_std)]\n",
        "\n",
        "# Правило IQR\n",
        "a_q1, a_q3 = np.percentile(group_a, [25, 75])\n",
        "a_iqr = a_q3 - a_q1\n",
        "a_lower_bound = a_q1 - 1.5 * a_iqr\n",
        "a_upper_bound = a_q3 + 1.5 * a_iqr\n",
        "a_outliers_iqr = [x for x in group_a if x < a_lower_bound or x > a_upper_bound]\n",
        "\n",
        "b_q1, b_q3 = np.percentile(group_b, [25, 75])\n",
        "b_iqr = b_q3 - b_q1\n",
        "b_lower_bound = b_q1 - 1.5 * b_iqr\n",
        "b_upper_bound = b_q3 + 1.5 * b_iqr\n",
        "b_outliers_iqr = [x for x in group_b if x < b_lower_bound or x > b_upper_bound]\n",
        "\n",
        "print(f\"Количество выбросов по правилу 3σ в group_a: {len(a_outliers_3sigma)}\")\n",
        "print(f\"Количество выбросов по правилу 3σ в group_b: {len(b_outliers_3sigma)}\")\n",
        "print(f\"Количество выбросов по правилу IQR в group_a: {len(a_outliers_iqr)}\")\n",
        "print(f\"Количество выбросов по правилу IQR в group_b: {len(b_outliers_iqr)}\")"
      ]
    },
    {
      "cell_type": "markdown",
      "id": "888f0cf4",
      "metadata": {
        "id": "888f0cf4"
      },
      "source": [
        "### 1.2 Проверка условий"
      ]
    },
    {
      "cell_type": "markdown",
      "id": "b7916ec3",
      "metadata": {
        "id": "b7916ec3"
      },
      "source": [
        "### 1.2.1 Тест Шапиро-Уилка на нормальность"
      ]
    },
    {
      "cell_type": "code",
      "execution_count": 85,
      "id": "e34d3f20",
      "metadata": {
        "id": "e34d3f20",
        "colab": {
          "base_uri": "https://localhost:8080/"
        },
        "outputId": "6facaf6b-e302-4cd3-b825-ef5d61ec99df"
      },
      "outputs": [
        {
          "output_type": "stream",
          "name": "stdout",
          "text": [
            "Результаты теста Шапиро-Уилка:\n",
            "group_a: статистика = 0.927, p-value = 0.0000006540\n",
            "group_b: статистика = 0.803, p-value = 0.0000000000\n",
            "В group_a данные не распределены нормально\n",
            "В group_b данные не распределены нормально\n"
          ]
        }
      ],
      "source": [
        "from scipy.stats import shapiro\n",
        "\n",
        "a_stat, a_p = shapiro(group_a)\n",
        "b_stat, b_p = shapiro(group_b)\n",
        "\n",
        "print(\"Результаты теста Шапиро-Уилка:\")\n",
        "print(f\"group_a: статистика = {a_stat:.3f}, p-value = {a_p:.10f}\")\n",
        "print(f\"group_b: статистика = {b_stat:.3f}, p-value = {b_p:.10f}\")\n",
        "\n",
        "if a_p < 0.05:\n",
        "    print(\"В group_a данные не распределены нормально\")\n",
        "else:\n",
        "    print(\"Нет оснований отвергать гипотезу о нормальности в group_a\")\n",
        "\n",
        "if b_p < 0.05:\n",
        "    print(\"В group_b данные не распределены нормально\")\n",
        "else:\n",
        "    print(\"Нет оснований отвергать гипотезу о нормальности в group_b\")"
      ]
    },
    {
      "cell_type": "markdown",
      "id": "b0256308",
      "metadata": {
        "id": "b0256308"
      },
      "source": [
        "### 1.2.2 Тест Левена на равенство дисперсий"
      ]
    },
    {
      "cell_type": "code",
      "execution_count": 86,
      "id": "39c014f2",
      "metadata": {
        "id": "39c014f2",
        "colab": {
          "base_uri": "https://localhost:8080/"
        },
        "outputId": "dbfa6b1f-1465-4039-d681-80770bd139fc"
      },
      "outputs": [
        {
          "output_type": "stream",
          "name": "stdout",
          "text": [
            "Результаты теста Левена:\n",
            "Статистика = 54.330, p-value = 0.000000000001572\n",
            "Дисперсии статистически значимо различаются\n"
          ]
        }
      ],
      "source": [
        "from scipy.stats import levene\n",
        "\n",
        "stat_levene, p_levene = levene(group_a, group_b, center='mean')\n",
        "\n",
        "print(\"Результаты теста Левена:\")\n",
        "print(f\"Статистика = {stat_levene:.3f}, p-value = {p_levene:.15f}\")\n",
        "\n",
        "if p_levene < 0.05:\n",
        "    print(\"Дисперсии статистически значимо различаются\")\n",
        "else:\n",
        "    print(\"Нет оснований считать, что дисперсии различаются\")"
      ]
    },
    {
      "cell_type": "markdown",
      "id": "acf7a4e5",
      "metadata": {
        "id": "acf7a4e5"
      },
      "source": [
        "### 1.2.3 Обоснуйте выбор параметрических/непараметрических методов"
      ]
    },
    {
      "cell_type": "markdown",
      "id": "0d8fb062",
      "metadata": {
        "id": "0d8fb062"
      },
      "source": [
        "1. **Нормальность** нарушена в обеих группах.\n",
        "2. **Дисперсии** существенно различаются.\n",
        "\n",
        "Следовательно, **параметрические** тесты (например, классический t-тест) здесь могут дать некорректные результаты. Рекомендуется использовать **непараметрические** методы (например, U-тест Манна-Уитни), так как они не требуют предположения о нормальном распределении и устойчивы к неодинаковым дисперсиям."
      ]
    },
    {
      "cell_type": "markdown",
      "id": "9f3e8904",
      "metadata": {
        "id": "9f3e8904"
      },
      "source": [
        "### 1.3 Применение критериев"
      ]
    },
    {
      "cell_type": "markdown",
      "id": "2e675d92",
      "metadata": {
        "id": "2e675d92"
      },
      "source": [
        "### 1.3.1 Парный t-тест (если данные нормальны)"
      ]
    },
    {
      "cell_type": "code",
      "execution_count": 86,
      "id": "5c9a1a66",
      "metadata": {
        "id": "5c9a1a66"
      },
      "outputs": [],
      "source": []
    },
    {
      "cell_type": "markdown",
      "id": "f24e5af8",
      "metadata": {
        "id": "f24e5af8"
      },
      "source": [
        "### 1.3.2 Welch's t-test (при неравных дисперсиях)"
      ]
    },
    {
      "cell_type": "code",
      "execution_count": 86,
      "id": "1fb60c6a",
      "metadata": {
        "id": "1fb60c6a"
      },
      "outputs": [],
      "source": []
    },
    {
      "cell_type": "markdown",
      "id": "e2b9005d",
      "metadata": {
        "id": "e2b9005d"
      },
      "source": [
        "### 1.3.3 U-тест Манна-Уитни"
      ]
    },
    {
      "cell_type": "code",
      "execution_count": 87,
      "id": "40ef8684",
      "metadata": {
        "id": "40ef8684",
        "colab": {
          "base_uri": "https://localhost:8080/"
        },
        "outputId": "b613732e-aea6-447f-e935-2f1b6d49a4e3"
      },
      "outputs": [
        {
          "output_type": "stream",
          "name": "stdout",
          "text": [
            "U-тест Манна-Уитни: статистика = 6842.000, p-value = 0.0000000001\n"
          ]
        }
      ],
      "source": [
        "from scipy.stats import mannwhitneyu\n",
        "\n",
        "stat_mann, p_mann = mannwhitneyu(group_a, group_b, alternative='two-sided')\n",
        "print(f\"U-тест Манна-Уитни: статистика = {stat_mann:.3f}, p-value = {p_mann:.10f}\")"
      ]
    },
    {
      "cell_type": "markdown",
      "id": "9563a39d",
      "metadata": {
        "id": "9563a39d"
      },
      "source": [
        "### 1.4 Сравнение результатов"
      ]
    },
    {
      "cell_type": "markdown",
      "id": "9fb6ef90",
      "metadata": {
        "id": "9fb6ef90"
      },
      "source": [
        "### 1.4.1 Объясните расхождения между параметрическими и непараметрическими методами"
      ]
    },
    {
      "cell_type": "markdown",
      "id": "0242e377",
      "metadata": {
        "id": "0242e377"
      },
      "source": [
        "1. **Параметрические методы (t-тест):**  \n",
        "   - Предполагают, что данные в выборках распределены нормально (или хотя бы «близко» к нормальному).  \n",
        "   - Более чувствительны к выбросам и неравенству дисперсий.  \n",
        "   - Могут давать некорректные результаты, если условия применимости (нормальность, равенство дисперсий и т. д.) нарушаются.\n",
        "\n",
        "2. **Непараметрические методы (U-тест Манна–Уитни):**  \n",
        "   - Не требуют предположения о нормальности.  \n",
        "   - Могут быть менее мощными, когда данные действительно нормальны, но надёжнее при наличии выбросов, асимметрии и неравенстве дисперсий.  \n",
        "   - Для независимых выборок с неизвестным распределением часто являются «золотым стандартом» в случае сомнений.\n",
        "\n",
        "В нашем случае тест Шапиро-Уилка показал, что данные в обеих группах не распределены нормально, а тест Левена — что дисперсии различаются. Поэтому результаты параметрических тестов могут быть искажёнными. Непараметрический U-тест Манна–Уитни в этой ситуации более уместен и надёжен."
      ]
    },
    {
      "cell_type": "markdown",
      "id": "ce0bb07b",
      "metadata": {
        "id": "ce0bb07b"
      },
      "source": [
        "### 1.4.2 Сформулируйте итоговый вывод для product-менеджера"
      ]
    },
    {
      "cell_type": "markdown",
      "source": [
        "Поскольку p-value крайне мало, можно заключить, что **различия между группами статистически значимы**. Иными словами, новая версия (или экспериментальная группа) действительно отличается от старой версии (или контрольной группы) по времени загрузки (или иному показателю), и эта разница не является случайным колебанием данных.\n",
        "\n",
        "**Рекомендация:** Учитывая статистически значимое отличие и важность метрики времени загрузки для пользовательского опыта, стоит внедрять/продолжать развивать вариант, показавший лучшие результаты. Если метрика (например, среднее время загрузки) у новой версии действительно ниже, это положительно скажется на удержании пользователей и общей эффективности продукта."
      ],
      "metadata": {
        "id": "IDwVkhcwpPS5"
      },
      "id": "IDwVkhcwpPS5"
    },
    {
      "cell_type": "markdown",
      "id": "671811d5",
      "metadata": {
        "id": "671811d5"
      },
      "source": [
        "## Задача 2: Анализ вариативности в маркетинговых данных\n",
        "### Контекст\n",
        "Анализируется стабильность CTR двух рекламных кампаний:\n",
        "- Кампания X: 200 дней наблюдений  \n",
        "- Кампания Y: 200 дней наблюдений\n",
        "\n",
        "**Цель**: Проверить гипотезу, что кампания Y имеет меньшую вариативность CTR."
      ]
    },
    {
      "cell_type": "code",
      "execution_count": 88,
      "id": "fc3253ed",
      "metadata": {
        "id": "fc3253ed"
      },
      "outputs": [],
      "source": [
        "import numpy as np\n",
        "import pandas as pd\n",
        "import matplotlib.pyplot as plt\n",
        "import seaborn as sns\n",
        "from scipy import stats\n",
        "from sklearn.cluster import DBSCAN\n",
        "\n",
        "campaign_x = np.concatenate([\n",
        "    np.random.normal(0.05, 0.01, 150),\n",
        "    np.random.normal(0.08, 0.02, 50)\n",
        "])\n",
        "campaign_y = np.random.beta(a=2, b=40, size=200) * 0.1"
      ]
    },
    {
      "cell_type": "markdown",
      "id": "25eb3208",
      "metadata": {
        "id": "25eb3208"
      },
      "source": [
        "### Задания $(\\Sigma 29 points)$\n",
        "1. $(3 \\times 3 points)$ **Первичный анализ:**\n",
        "   - Рассчитайте [коэффициент вариации](https://ru.wikipedia.org/wiki/Коэффициент_вариации) для обеих кампаний\n",
        "   - Постройте Q-Q plot относительно бета-распределения и выполните тест [Шапиро-Уилка](https://docs.scipy.org/doc/scipy/reference/generated/scipy.stats.shapiro.html) (проверка нормальности)\n",
        "   - Выявите кластеры в данных (например, [методом](https://scikit-learn.org/stable/modules/generated/sklearn.cluster.DBSCAN.html) [DBSCAN](https://ru.wikipedia.org/wiki/DBSCAN))\n",
        "\n",
        "2. $(11 points)$ **Проверка гипотез:**\n",
        "   -  $(4 points)$ F-тест для нормализованных данных\n",
        "   -  $(4 points)$ Тест Левена с медианной центровкой\n",
        "   -  $(3 points)$ Bootstrap-оценка 95% ДИ для отношения дисперсий\n",
        "   \n",
        "4. $(3 \\times 3 points)$ **Интерпретация:**\n",
        "   - Свяжите статистические выводы с бизнес-метриками:\n",
        "       - (а) Сделайте статистические выводы (статистическая значимость вариативности, ДИ, кол-во кластеров)  \n",
        "       - (б) Риск бюджетных потерь при нестабильности CTR\n",
        "       - (в) Оптимальный размер выборки для будущих тестов"
      ]
    },
    {
      "cell_type": "markdown",
      "id": "bdb713ff",
      "metadata": {
        "id": "bdb713ff"
      },
      "source": [
        "## Задача 2: Анализ стабильности CTR"
      ]
    },
    {
      "cell_type": "markdown",
      "id": "2c0648c5",
      "metadata": {
        "id": "2c0648c5"
      },
      "source": [
        "### Генерация данных"
      ]
    },
    {
      "cell_type": "code",
      "execution_count": 89,
      "id": "4bee971f",
      "metadata": {
        "id": "4bee971f"
      },
      "outputs": [],
      "source": [
        "# Создаем DataFrame\n",
        "ctr_df = pd.DataFrame({\n",
        "    'CTR': np.concatenate([campaign_x, campaign_y]),\n",
        "    'Campaign': ['X']*200 + ['Y']*200\n",
        "})"
      ]
    },
    {
      "cell_type": "markdown",
      "id": "c156f328",
      "metadata": {
        "id": "c156f328"
      },
      "source": [
        "### 2.1 Первичный анализ"
      ]
    },
    {
      "cell_type": "code",
      "execution_count": 90,
      "id": "31cd8dba",
      "metadata": {
        "scrolled": true,
        "id": "31cd8dba",
        "colab": {
          "base_uri": "https://localhost:8080/",
          "height": 607
        },
        "outputId": "e8673872-07f8-485c-ce63-b9894a4deb34"
      },
      "outputs": [
        {
          "output_type": "display_data",
          "data": {
            "text/plain": [
              "<Figure size 1200x600 with 2 Axes>"
            ],
            "image/png": "[encoded data removed]"
          },
          "metadata": {}
        }
      ],
      "source": [
        "plt.figure(figsize=(12, 6))\n",
        "\n",
        "# Гистограммы с ядерной оценкой плотности\n",
        "plt.subplot(121)\n",
        "sns.histplot(data=ctr_df, x='CTR', hue='Campaign',\n",
        "             element='step', stat='density', common_norm=False)\n",
        "plt.title('Распределения CTR по кампаниям')\n",
        "\n",
        "# Боксплоты\n",
        "plt.subplot(122)\n",
        "sns.boxplot(data=ctr_df, x='Campaign', y='CTR')\n",
        "plt.title('Сравнение вариативности CTR')\n",
        "plt.tight_layout()\n",
        "plt.show()"
      ]
    },
    {
      "cell_type": "markdown",
      "id": "73f2f59c",
      "metadata": {
        "id": "73f2f59c"
      },
      "source": [
        "### 2.1.1 Рассчитайте [коэффициент вариации](https://ru.wikipedia.org/wiki/Коэффициент_вариации) для обеих кампаний"
      ]
    },
    {
      "cell_type": "code",
      "execution_count": 91,
      "id": "f358f60a",
      "metadata": {
        "id": "f358f60a",
        "colab": {
          "base_uri": "https://localhost:8080/"
        },
        "outputId": "c13c307c-3c0f-4048-fb10-d536771799a3"
      },
      "outputs": [
        {
          "output_type": "stream",
          "name": "stdout",
          "text": [
            "Коэффициент вариации (X): 0.3291\n",
            "Коэффициент вариации (Y): 0.6404\n"
          ]
        }
      ],
      "source": [
        "cv_x = np.std(campaign_x, ddof=1) / np.mean(campaign_x)\n",
        "cv_y = np.std(campaign_y, ddof=1) / np.mean(campaign_y)\n",
        "\n",
        "print(f\"Коэффициент вариации (X): {cv_x:.4f}\")\n",
        "print(f\"Коэффициент вариации (Y): {cv_y:.4f}\")"
      ]
    },
    {
      "cell_type": "markdown",
      "id": "3a3e6aba",
      "metadata": {
        "id": "3a3e6aba"
      },
      "source": [
        "### 2.1.2 Постройте Q-Q plot относительно бета-распределения и выполните [Шапиро-Уилка](https://docs.scipy.org/doc/scipy/reference/generated/scipy.stats.shapiro.html) (проверка нормальности)"
      ]
    },
    {
      "cell_type": "code",
      "execution_count": 92,
      "id": "71156b7c",
      "metadata": {
        "id": "71156b7c",
        "colab": {
          "base_uri": "https://localhost:8080/",
          "height": 521
        },
        "outputId": "3c3443a1-26ed-4b15-d932-d03c1b844316"
      },
      "outputs": [
        {
          "output_type": "display_data",
          "data": {
            "text/plain": [
              "<Figure size 600x500 with 1 Axes>"
            ],
            "image/png": "[encoded data removed]"
          },
          "metadata": {}
        },
        {
          "output_type": "stream",
          "name": "stdout",
          "text": [
            "Тест Шапиро-Уилка для campaign_x: статистика = 0.8683, p-value = 0.0000000000\n",
            "Тест Шапиро-Уилка для campaign_y: статистика = 0.9280, p-value = 0.0000000233\n"
          ]
        }
      ],
      "source": [
        "# Предположим, что campaign_y имеет форму бета-распределения;\n",
        "# можно оценить параметры альфа и бета, зафиксировав loc=0, scale=1\n",
        "alpha_y, beta_y, loc_y, scale_y = stats.beta.fit(campaign_y, floc=0, fscale=1)\n",
        "\n",
        "# Строим Q-Q plot для campaign_y\n",
        "sorted_y = np.sort(campaign_y)\n",
        "n = len(sorted_y)\n",
        "prob = (np.arange(n) + 0.5) / n  # квантили эмпирического распределения\n",
        "theoretical_q = stats.beta.ppf(prob, alpha_y, beta_y, loc=loc_y, scale=scale_y)\n",
        "\n",
        "plt.figure(figsize=(6, 5))\n",
        "plt.scatter(theoretical_q, sorted_y, label=\"Empirical\")\n",
        "plt.plot(theoretical_q, theoretical_q, 'r--', label=\"Ideal line\")\n",
        "plt.xlabel(\"Теоретические квантили (Beta)\")\n",
        "plt.ylabel(\"Наблюдаемые квантили (campaign_y)\")\n",
        "plt.title(\"Q-Q plot: campaign_y vs Beta\")\n",
        "plt.legend()\n",
        "plt.show()\n",
        "\n",
        "# Тест Шапиро-Уилка на нормальность (для обеих кампаний)\n",
        "x_stat, x_p = shapiro(campaign_x)\n",
        "y_stat, y_p = shapiro(campaign_y)\n",
        "\n",
        "print(\"Тест Шапиро-Уилка для campaign_x: статистика = %.4f, p-value = %.10f\" % (x_stat, x_p))\n",
        "print(\"Тест Шапиро-Уилка для campaign_y: статистика = %.4f, p-value = %.10f\" % (y_stat, y_p))"
      ]
    },
    {
      "cell_type": "markdown",
      "id": "8b413134",
      "metadata": {
        "id": "8b413134"
      },
      "source": [
        "### 2.1.3 Выявите кластеры в данных [методом](https://scikit-learn.org/stable/modules/generated/sklearn.cluster.DBSCAN.html) [DBSCAN](https://ru.wikipedia.org/wiki/DBSCAN)"
      ]
    },
    {
      "cell_type": "code",
      "execution_count": 93,
      "id": "502ca6c1",
      "metadata": {
        "id": "502ca6c1",
        "colab": {
          "base_uri": "https://localhost:8080/",
          "height": 572
        },
        "outputId": "9f89dd18-28c1-4846-9140-844a823758d4"
      },
      "outputs": [
        {
          "output_type": "stream",
          "name": "stdout",
          "text": [
            "Распределение по кластерам, обнаруженным DBSCAN:\n",
            "cluster\n",
            "0    199\n",
            "1    201\n",
            "dtype: int64\n"
          ]
        },
        {
          "output_type": "display_data",
          "data": {
            "text/plain": [
              "<Figure size 600x500 with 1 Axes>"
            ],
            "image/png": "[encoded data removed]"
          },
          "metadata": {}
        }
      ],
      "source": [
        "from sklearn.cluster import DBSCAN\n",
        "\n",
        "X = ctr_df[['CTR']].values\n",
        "\n",
        "dbscan_model = DBSCAN(eps=0.01, min_samples=5)\n",
        "labels = dbscan_model.fit_predict(X)\n",
        "\n",
        "ctr_df['cluster'] = labels\n",
        "\n",
        "print(\"Распределение по кластерам, обнаруженным DBSCAN:\")\n",
        "print(ctr_df.groupby('cluster').size())\n",
        "\n",
        "plt.figure(figsize=(6, 5))\n",
        "plt.scatter(ctr_df['CTR'], np.zeros_like(ctr_df['CTR']), c=ctr_df['cluster'], cmap='rainbow')\n",
        "plt.title(\"Кластеры CTR по DBSCAN\")\n",
        "plt.xlabel(\"CTR\")\n",
        "plt.yticks([])\n",
        "plt.show()"
      ]
    },
    {
      "cell_type": "markdown",
      "id": "7428e576",
      "metadata": {
        "id": "7428e576"
      },
      "source": [
        "### 2.2 Статистический анализ вариативности"
      ]
    },
    {
      "cell_type": "markdown",
      "id": "a4cf62ad",
      "metadata": {
        "id": "a4cf62ad"
      },
      "source": [
        "### 2.2.1 F-тест для нормализованных данных"
      ]
    },
    {
      "cell_type": "code",
      "execution_count": 94,
      "id": "20caa358",
      "metadata": {
        "id": "20caa358",
        "colab": {
          "base_uri": "https://localhost:8080/"
        },
        "outputId": "71e4de7c-eddc-40d2-c334-ff47224ba86e"
      },
      "outputs": [
        {
          "output_type": "stream",
          "name": "stdout",
          "text": [
            "F-тест для лог-нормализованных данных:\n",
            "F-статистика = 0.1564, df1 = 199, df2 = 199, p-value = 0.0000000000\n"
          ]
        }
      ],
      "source": [
        "from scipy.stats import f\n",
        "\n",
        "# Допустим, у нас есть campaign_x, campaign_y\n",
        "# \"Нормализуем\" логарифмом (если значения не нулевые)\n",
        "x_log = np.log(campaign_x + 1e-9)\n",
        "y_log = np.log(campaign_y + 1e-9)\n",
        "\n",
        "var_x_log = np.var(x_log, ddof=1)\n",
        "var_y_log = np.var(y_log, ddof=1)\n",
        "\n",
        "F_stat = var_x_log / var_y_log\n",
        "df1 = len(x_log) - 1\n",
        "df2 = len(y_log) - 1\n",
        "\n",
        "# Двухсторонний F-тест\n",
        "if F_stat > 1:\n",
        "    p_value_f = 2 * (1 - f.cdf(F_stat, df1, df2))\n",
        "else:\n",
        "    p_value_f = 2 * f.cdf(F_stat, df1, df2)\n",
        "\n",
        "print(\"F-тест для лог-нормализованных данных:\")\n",
        "print(f\"F-статистика = {F_stat:.4f}, df1 = {df1}, df2 = {df2}, p-value = {p_value_f:.10f}\")"
      ]
    },
    {
      "cell_type": "markdown",
      "id": "750cab50",
      "metadata": {
        "id": "750cab50"
      },
      "source": [
        "### 2.2.2 Тест Левена с медианной центровкой"
      ]
    },
    {
      "cell_type": "code",
      "execution_count": 95,
      "id": "c5996fa7",
      "metadata": {
        "id": "c5996fa7",
        "colab": {
          "base_uri": "https://localhost:8080/"
        },
        "outputId": "e1d5394a-bdf0-4c04-d71b-d845d89891a5"
      },
      "outputs": [
        {
          "output_type": "stream",
          "name": "stdout",
          "text": [
            "Тест Левена (медианная центровка):\n",
            "Статистика = 108.2191, p-value = 0.000000\n",
            "Дисперсии статистически значимо различаются (p < 0.05).\n"
          ]
        }
      ],
      "source": [
        "from scipy.stats import levene\n",
        "\n",
        "stat_levene, p_levene = levene(campaign_x, campaign_y, center='median')\n",
        "\n",
        "print(\"Тест Левена (медианная центровка):\")\n",
        "print(f\"Статистика = {stat_levene:.4f}, p-value = {p_levene:.6f}\")\n",
        "\n",
        "if p_levene < 0.05:\n",
        "    print(\"Дисперсии статистически значимо различаются (p < 0.05).\")\n",
        "else:\n",
        "    print(\"Нет оснований считать, что дисперсии различаются (p >= 0.05).\")"
      ]
    },
    {
      "cell_type": "markdown",
      "id": "c3b7756a",
      "metadata": {
        "id": "c3b7756a"
      },
      "source": [
        "### 2.2.3 Bootstrap-оценка 95% ДИ для отношения дисперсий"
      ]
    },
    {
      "cell_type": "code",
      "execution_count": 96,
      "id": "b40082a7",
      "metadata": {
        "id": "b40082a7",
        "colab": {
          "base_uri": "https://localhost:8080/"
        },
        "outputId": "8f17718c-462e-4cd1-d326-a3e931851ec2"
      },
      "outputs": [
        {
          "output_type": "stream",
          "name": "stdout",
          "text": [
            "Bootstrap 95% ДИ для отношения дисперсий (X/Y):\n",
            "Среднее отношение дисперсий = 37.8941\n",
            "95% ДИ = [25.7721, 53.1898]\n"
          ]
        }
      ],
      "source": [
        "def bootstrap_var_ratio(x, y, n_boot=10000, alpha=0.05):\n",
        "    ratios = []\n",
        "    n_x = len(x)\n",
        "    n_y = len(y)\n",
        "\n",
        "    for _ in range(n_boot):\n",
        "        sample_x = np.random.choice(x, size=n_x, replace=True)\n",
        "        sample_y = np.random.choice(y, size=n_y, replace=True)\n",
        "        var_x = np.var(sample_x, ddof=1)\n",
        "        var_y = np.var(sample_y, ddof=1)\n",
        "        # Избегаем деления на ноль\n",
        "        if var_y != 0:\n",
        "            ratios.append(var_x / var_y)\n",
        "\n",
        "    ratios = np.array(ratios)\n",
        "    lower = np.percentile(ratios, 100*alpha/2)\n",
        "    upper = np.percentile(ratios, 100*(1 - alpha/2))\n",
        "\n",
        "    return np.mean(ratios), (lower, upper)\n",
        "\n",
        "mean_ratio, (ci_lower, ci_upper) = bootstrap_var_ratio(campaign_x, campaign_y)\n",
        "print(\"Bootstrap 95% ДИ для отношения дисперсий (X/Y):\")\n",
        "print(f\"Среднее отношение дисперсий = {mean_ratio:.4f}\")\n",
        "print(f\"95% ДИ = [{ci_lower:.4f}, {ci_upper:.4f}]\")"
      ]
    },
    {
      "cell_type": "markdown",
      "id": "d47e1ac9",
      "metadata": {
        "id": "d47e1ac9"
      },
      "source": [
        "### 2.3 Интерпретация"
      ]
    },
    {
      "cell_type": "markdown",
      "source": [
        "Все проведенные тесты свидетельствуют о том, что дисперсии (вариативность) данных кампаний X и Y существенно различаются. Среднее отношение дисперсий (~37.9) говорит о том, что вариативность в одной из кампаний значительно выше, что может указывать на нестабильность метрики. Такой высокий уровень вариативности следует учитывать при оценке рисков (например, риска бюджетных потерь) и при планировании оптимального размера выборки для будущих тестов."
      ],
      "metadata": {
        "id": "9mKN79rerhtm"
      },
      "id": "9mKN79rerhtm"
    }
  ],
  "metadata": {
    "kernelspec": {
      "display_name": "Python 3.10 (tensorflow_ver_07.02.23)",
      "language": "python",
      "name": "tensorflow_ver_07.02.23"
    },
    "language_info": {
      "codemirror_mode": {
        "name": "ipython",
        "version": 3
      },
      "file_extension": ".py",
      "mimetype": "text/x-python",
      "name": "python",
      "nbconvert_exporter": "python",
      "pygments_lexer": "ipython3",
      "version": "3.10.9"
    },
    "colab": {
      "provenance": [],
      "include_colab_link": true
    }
  },
  "nbformat": 4,
  "nbformat_minor": 5
}
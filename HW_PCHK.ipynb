{
  "cells": [
    {
      "cell_type": "markdown",
      "metadata": {
        "id": "view-in-github",
        "colab_type": "text"
      },
      "source": [
        "<a href=\"https://colab.research.google.com/github/r42arty/hse/blob/main/HW_PCHK.ipynb\" target=\"_parent\"><img src=\"https://colab.research.google.com/assets/colab-badge.svg\" alt=\"Open In Colab\"/></a>"
      ]
    },
    {
      "metadata": {
        "id": "HcF9My_FhLuk"
      },
      "cell_type": "markdown",
      "source": [
        "## <center> Практическое домашнее задание 1 </center>\n",
        "\n",
        "*`credits to ML course by E. Sokolov`*\n",
        "\n",
        "### Общая информация\n",
        "\n",
        "Дата выдачи: 01.02.2025\n",
        "\n",
        "Первый дедлайн: 07:59MSK 20.02.2025\n",
        "\n",
        "Второй дедлайн: 07:59MSK 24.02.2025"
      ]
    },
    {
      "metadata": {
        "id": "G64TptyJhLuo"
      },
      "cell_type": "markdown",
      "source": [
        "### О задании\n",
        "\n",
        "Задание состоит из двух разделов, посвященных работе с табличными данными с помощью библиотеки `pandas` и визуализации с помощью `matplotlib`. В первом разделе вам предстоит выполнить базовые задания с помощью вышеуказанных библиотек, а во втором распределить студентов по курсам. Баллы даются за выполнение отдельных пунктов. Задачи в рамках одного раздела рекомендуется решать в том порядке, в котором они даны в задании.\n",
        "\n",
        "Задание направлено на освоение jupyter notebook (будет использоваться в дальнейших заданиях), библиотек pandas и matplotlib.\n",
        "\n",
        "### Оценивание и штрафы\n",
        "Каждая из задач имеет определенную «стоимость» (указана в скобках около задачи).\n",
        "\n",
        "**Штраф за каждый день просрочки мягкого дедлайна**: 0.5 баллов. После жесткого дедлайна работы не принимаются.\n",
        "\n",
        "Задание выполняется самостоятельно. «Похожие» решения считаются плагиатом и все задействованные студенты (в том числе те, у кого списали) не могут получить за него больше 0 баллов. Если вы нашли решение какого-то из заданий (или его часть) в открытом источнике, необходимо указать ссылку на этот источник.\n",
        "\n",
        "### Формат сдачи\n",
        "Задания сдаются через гугл-форму https://forms.gle/pT6CtSPNRXoqd64d6. Сам ноутбук называйте в формате homework-practice-01-pandas-Username.ipynb, где Username — ваша фамилия."
      ]
    },
    {
      "metadata": {
        "id": "BaXlfHE_hLup"
      },
      "cell_type": "markdown",
      "source": [
        "## 0. Введение"
      ]
    },
    {
      "metadata": {
        "id": "wirAvJNxhLup"
      },
      "cell_type": "markdown",
      "source": [
        "Сейчас мы находимся в jupyter-ноутбуке (или ipython-ноутбуке). Это удобная среда для написания кода, проведения экспериментов, изучения данных, построения визуализаций и других нужд, не связанных с написанием production-кода.\n",
        "\n",
        "Ноутбук состоит из ячеек, каждая из которых может быть либо ячейкой с кодом, либо ячейкой с текстом размеченным и неразмеченным. Текст поддерживает markdown-разметку и формулы в Latex.\n",
        "\n",
        "Для работы с содержимым ячейки используется *режим редактирования* (*Edit mode*, включается нажатием клавиши **Enter** после выбора ячейки), а для навигации между ячейками искользуется *командный режим* (*Command mode*, включается нажатием клавиши **Esc**). Тип ячейки можно задать в командном режиме либо с помощью горячих клавиш (**y** to code, **m** to markdown, **r** to edit raw text), либо в меню *Cell -> Cell type*.\n",
        "\n",
        "После заполнения ячейки нужно нажать *Shift + Enter*, эта команда обработает содержимое ячейки: проинтерпретирует код или сверстает размеченный текст."
      ]
    },
    {
      "metadata": {
        "id": "aQ2_j3nkhLuq",
        "trusted": true,
        "outputId": "9219248b-79ca-4b3f-f1ae-9830883b37f7"
      },
      "cell_type": "code",
      "source": [
        "# ячейка с кодом, при выполнении которой появится output\n",
        "2 + 2"
      ],
      "execution_count": null,
      "outputs": [
        {
          "output_type": "execute_result",
          "execution_count": 1,
          "data": {
            "text/plain": "4"
          },
          "metadata": {}
        }
      ]
    },
    {
      "metadata": {
        "id": "ZlulCwVKhLur"
      },
      "cell_type": "markdown",
      "source": [
        "Ячейка с неразмеченным текстом."
      ]
    },
    {
      "metadata": {
        "id": "A4wkVlIehLur"
      },
      "cell_type": "markdown",
      "source": [
        "Попробуйте создать свои ячейки, написать какой-нибудь код и текст какой-нибудь формулой."
      ]
    },
    {
      "metadata": {
        "id": "BIuaYSvqhLus",
        "trusted": false
      },
      "cell_type": "code",
      "source": [
        "# your code"
      ],
      "execution_count": null,
      "outputs": []
    },
    {
      "metadata": {
        "id": "iWs6ljrIhLus"
      },
      "cell_type": "markdown",
      "source": [
        "[Здесь](https://athena.brynmawr.edu/jupyter/hub/dblank/public/Jupyter%20Notebook%20Users%20Manual.ipynb) находится <s>не</s>большая заметка о используемом языке разметки Markdown. Он позволяет:\n",
        "\n",
        "0. Составлять упорядоченные списки\n",
        "1. Выделять *текст* <s>при</s> **необходимости**\n",
        "2. Добавлять [ссылки](http://imgs.xkcd.com/comics/the_universal_label.png)\n",
        "\n",
        "\n",
        "* Составлять неупорядоченные списки\n",
        "\n",
        "Делать вставки с помощью LaTex:\n",
        "    \n",
        "$\n",
        "\\left\\{\n",
        "\\begin{array}{ll}\n",
        "x = 16 \\sin^3 (t) \\\\\n",
        "y = 13 \\cos (t) - 5 \\cos (2t) - 2 \\cos (3t) - \\cos (4t) \\\\\n",
        "t \\in [0, 2 \\pi]\n",
        "\\end{array}\n",
        "\\right.$"
      ]
    },
    {
      "metadata": {
        "id": "6fmTGcXOhLus"
      },
      "cell_type": "markdown",
      "source": [
        "А ещё можно вставлять картинки, или гифки, или что захотите:\n",
        "\n",
        "<img src=\"https://media1.tenor.com/images/9b8fbe9214504bcf6c60fe4e4f7e114e/tenor.gif?itemid=5416416\" style=\"width: 400px\">"
      ]
    },
    {
      "metadata": {
        "id": "J_toGw7DhLut"
      },
      "cell_type": "markdown",
      "source": [
        "### Google Colab"
      ]
    },
    {
      "metadata": {
        "id": "jpkbCVjGhLut"
      },
      "cell_type": "markdown",
      "source": [
        "Что за колаб?\n",
        "\n",
        "**Google Colab (Colaboratory)** это **Jupyter Notebook + Cloud + Google Drive.**\n",
        "\n",
        "Компания Google предоставляет возможность бесплатно запускать ноутбуки (предварительно загрузив их на свой гугл-диск) прямо в облаке. При этом вам не требуется установка никаких пакетов на свою машину, а работать можно прямиком из браузера. Вот ссылка:"
      ]
    },
    {
      "metadata": {
        "id": "06MQog3yhLut"
      },
      "cell_type": "markdown",
      "source": [
        "https://colab.research.google.com"
      ]
    },
    {
      "metadata": {
        "id": "5_hfWXKPhLut"
      },
      "cell_type": "markdown",
      "source": [
        "При использовании вы увидете много сходств с jupyter ноутбуком. Одним из преимуществ является доступность GPU, соответствующую опцию можно активировать в настройках сервиса. При желании вы сможете найти в интернете много туториалов по использованию или разобраться самостоятельно =)"
      ]
    },
    {
      "metadata": {
        "id": "sUe2vnFGhLuu"
      },
      "cell_type": "markdown",
      "source": [
        "## 1. Табличные данные и Pandas"
      ]
    },
    {
      "metadata": {
        "id": "DJQzjjqJhLuu"
      },
      "cell_type": "markdown",
      "source": [
        "Pandas — удобная библиотека для работы с табличными данными в Python, если данных не слишком много и они помещаются в оперативную память вашего компьютера. Несмотря на неэффективность реализации и некоторые проблемы, библиотека стала стандартом в анализе данных.\n",
        "\n",
        "Основной объект в pandas — это DataFrame, представляющий собой таблицу с именованными колонками различных типов, индексом (может быть многоуровневым). DataFrame можно создавать, считывая таблицу из файла или задавая вручную из других объектов.\n",
        "\n",
        "В этой части потребуется выполнить несколько небольших заданий. Можно пойти двумя путями: сначала изучить материалы, а потом приступить к заданиям, или же разбираться \"по ходу\". Выбирайте сами.\n",
        "\n",
        "Материалы:\n",
        "1. [Pandas за 10 минут из официального руководства](http://pandas.pydata.org/pandas-docs/stable/10min.html)\n",
        "2. [Документация](http://pandas.pydata.org/pandas-docs/stable/index.html) (стоит обращаться, если не понятно, как вызывать конкретный метод)\n",
        "3. [Примеры использования функционала](http://nbviewer.jupyter.org/github/justmarkham/pandas-videos/blob/master/pandas.ipynb)\n",
        "\n",
        "Многие из заданий можно выполнить несколькими способами. Не существуют единственно верного, но попробуйте максимально задействовать арсенал pandas и ориентируйтесь на простоту и понятность вашего кода. Мы не будем подсказывать, что нужно использовать для решения конкретной задачи, попробуйте находить необходимый функционал сами (название метода чаще всего очевидно). В помощь вам документация, поиск и stackoverflow."
      ]
    },
    {
      "metadata": {
        "id": "26zbFY25hLuv",
        "trusted": false
      },
      "cell_type": "code",
      "source": [
        "%matplotlib inline\n",
        "import numpy as np\n",
        "import matplotlib.pyplot as plt\n",
        "import pandas as pd\n",
        "import requests"
      ],
      "execution_count": null,
      "outputs": []
    },
    {
      "metadata": {
        "id": "dneJl9TyhLuv"
      },
      "cell_type": "markdown",
      "source": [
        "Скачаем подготовленные данные командой ниже:"
      ]
    },
    {
      "metadata": {
        "id": "rj_I0RslhLuw",
        "trusted": false
      },
      "cell_type": "code",
      "source": [
        "# !wget  -O 'end_seminar.xlsx' -q 'https://www.dropbox.com/s/f4rm8sjc3v99p0m/_end_seminar.xlsx?dl=0'"
      ],
      "execution_count": null,
      "outputs": []
    },
    {
      "metadata": {
        "trusted": false,
        "id": "UseGrYUx_FKY"
      },
      "cell_type": "code",
      "source": [
        "# import requests\n",
        "\n",
        "# url = 'https://www.dropbox.com/s/f4rm8sjc3v99p0m/_end_seminar.xlsx?dl=1'\n",
        "# response = requests.get(url)\n",
        "# with open('end_seminar.xlsx', 'wb') as f:\n",
        "#     # f.write(response.content)"
      ],
      "execution_count": null,
      "outputs": []
    },
    {
      "metadata": {
        "id": "VFs_6IythLux"
      },
      "cell_type": "markdown",
      "source": [
        "**В первой части задания (до раздела \"Распределение студентов по курсам\") использование циклов запрещается и повлечет за собой снижение оценки. Использование <code>vectorize</code> и  <code>apply</code>, <code>apply_along_axis</code> крайне нежелательно.**"
      ]
    },
    {
      "metadata": {
        "id": "shFkfJkohLux"
      },
      "cell_type": "markdown",
      "source": [
        "Для каждой задачи из этого раздела вы должны написать код для получения ответа, а также дать текстовый ответ, если он предполагается.\n",
        "\n",
        "На некоторые вопросы вы можете получить путём пристального взгляда на таблицу, но это не будет засчитываться. Вы в любом случае должны получить ответ с помощью кода."
      ]
    },
    {
      "metadata": {
        "id": "gDD85M7bhLux"
      },
      "cell_type": "markdown",
      "source": [
        "#### 1. [0 баллов] Откройте файл с таблицей (не забудьте про её формат). Выведите последние 10 строк."
      ]
    },
    {
      "metadata": {
        "id": "PKulur3LhLuy",
        "trusted": false
      },
      "cell_type": "code",
      "source": [
        "# your code\n",
        "df = pd.read_excel('end_seminar.xlsx')"
      ],
      "execution_count": null,
      "outputs": []
    },
    {
      "metadata": {
        "id": "jPiMwyqHhLuy"
      },
      "cell_type": "markdown",
      "source": [
        "#### 2. [1 балл] Есть ли в данных пропуски? В каких колонках? Сколько их в каждой из этих колонок?"
      ]
    },
    {
      "metadata": {
        "id": "edY1RrSOhLuy",
        "trusted": false,
        "outputId": "41bc99ad-5434-4e13-819b-19825cc1d1ab"
      },
      "cell_type": "code",
      "source": [
        "# your code\n",
        "df.head(20)"
      ],
      "execution_count": null,
      "outputs": [
        {
          "data": {
            "text/html": "<div>\n<style scoped>\n    .dataframe tbody tr th:only-of-type {\n        vertical-align: middle;\n    }\n\n    .dataframe tbody tr th {\n        vertical-align: top;\n    }\n\n    .dataframe thead th {\n        text-align: right;\n    }\n</style>\n<table border=\"1\" class=\"dataframe\">\n  <thead>\n    <tr style=\"text-align: right;\">\n      <th></th>\n      <th>timestamp</th>\n      <th>id</th>\n      <th>rating</th>\n      <th>18_group</th>\n      <th>is_mi</th>\n      <th>fall_1</th>\n      <th>fall_2</th>\n      <th>fall_3</th>\n      <th>spring_1</th>\n      <th>spring_2</th>\n      <th>spring_3</th>\n      <th>is_first_time</th>\n      <th>percentile</th>\n      <th>17_group</th>\n      <th>blended</th>\n      <th>is_ml_student</th>\n    </tr>\n  </thead>\n  <tbody>\n    <tr>\n      <th>0</th>\n      <td>2020-05-15 01:12:50.543</td>\n      <td>93ff79a51cd602f1dd3028ba2c129503</td>\n      <td>698</td>\n      <td>181.0</td>\n      <td>NaN</td>\n      <td>Язык SQL</td>\n      <td>Высокопроизводительные вычисления</td>\n      <td>Матричные вычисления</td>\n      <td>Дискретная оптимизация</td>\n      <td>Численные методы</td>\n      <td>Машинное обучение 2</td>\n      <td>Да</td>\n      <td>0.183857</td>\n      <td>NaN</td>\n      <td>NaN</td>\n      <td>NaN</td>\n    </tr>\n    <tr>\n      <th>1</th>\n      <td>2020-05-15 02:46:48.066</td>\n      <td>26b01b1c4cd5656bab18d24c548834fb</td>\n      <td>647</td>\n      <td>181.0</td>\n      <td>NaN</td>\n      <td>Высокопроизводительные вычисления</td>\n      <td>Безопасность компьютерных систем</td>\n      <td>Язык SQL</td>\n      <td>Дискретная оптимизация</td>\n      <td>Численные методы</td>\n      <td>Машинное обучение 2</td>\n      <td>Нет</td>\n      <td>0.426009</td>\n      <td>NaN</td>\n      <td>NaN</td>\n      <td>NaN</td>\n    </tr>\n    <tr>\n      <th>2</th>\n      <td>2020-05-15 03:12:41.480</td>\n      <td>30f3653fc176d54e89ac3179c455c6dd</td>\n      <td>624</td>\n      <td>185.0</td>\n      <td>NaN</td>\n      <td>Безопасность компьютерных систем</td>\n      <td>Матричные вычисления</td>\n      <td>Моделирование временных рядов</td>\n      <td>Дискретная оптимизация</td>\n      <td>Машинное обучение 2</td>\n      <td>Численные методы</td>\n      <td>Да</td>\n      <td>0.538117</td>\n      <td>NaN</td>\n      <td>NaN</td>\n      <td>NaN</td>\n    </tr>\n    <tr>\n      <th>3</th>\n      <td>2020-05-15 04:43:08.994</td>\n      <td>1528f0eaa027580820ccf0d92a53ad68</td>\n      <td>579</td>\n      <td>182.0</td>\n      <td>NaN</td>\n      <td>Statistical Learning Theory</td>\n      <td>Высокопроизводительные вычисления</td>\n      <td>Матричные вычисления</td>\n      <td>Дискретная оптимизация</td>\n      <td>Численные методы</td>\n      <td>Машинное обучение 2</td>\n      <td>Да</td>\n      <td>0.744395</td>\n      <td>NaN</td>\n      <td>NaN</td>\n      <td>NaN</td>\n    </tr>\n    <tr>\n      <th>4</th>\n      <td>2020-05-15 07:47:17.197</td>\n      <td>496ea4f0d4abe264b1bb1b80eb3830c5</td>\n      <td>572</td>\n      <td>183.0</td>\n      <td>NaN</td>\n      <td>Высокопроизводительные вычисления</td>\n      <td>Безопасность компьютерных систем</td>\n      <td>Теория баз данных</td>\n      <td>Компьютерные сети</td>\n      <td>Дискретная оптимизация</td>\n      <td>Численные методы</td>\n      <td>Да</td>\n      <td>0.780269</td>\n      <td>NaN</td>\n      <td>NaN</td>\n      <td>NaN</td>\n    </tr>\n    <tr>\n      <th>5</th>\n      <td>2020-05-15 09:10:18.558</td>\n      <td>d0d8ff53ed5b119f9056068e954256c6</td>\n      <td>591</td>\n      <td>187.0</td>\n      <td>NaN</td>\n      <td>Язык SQL</td>\n      <td>Statistical Learning Theory</td>\n      <td>Сбор и обработка данных с помощью краудсорсинга</td>\n      <td>Промышленное программирование на языке Java</td>\n      <td>Численные методы</td>\n      <td>Дискретная оптимизация</td>\n      <td>Да</td>\n      <td>0.690583</td>\n      <td>NaN</td>\n      <td>NaN</td>\n      <td>NaN</td>\n    </tr>\n    <tr>\n      <th>6</th>\n      <td>2020-05-15 11:42:16.910</td>\n      <td>e4caca755ee0bdd711e18fb8084958b5</td>\n      <td>724</td>\n      <td>181.0</td>\n      <td>NaN</td>\n      <td>Statistical Learning Theory</td>\n      <td>Безопасность компьютерных систем</td>\n      <td>Моделирование временных рядов</td>\n      <td>Численные методы</td>\n      <td>Промышленное программирование на языке Java</td>\n      <td>Машинное обучение 2</td>\n      <td>Да</td>\n      <td>0.103139</td>\n      <td>NaN</td>\n      <td>NaN</td>\n      <td>NaN</td>\n    </tr>\n    <tr>\n      <th>7</th>\n      <td>2020-05-15 12:11:43.252</td>\n      <td>8047c18b3c531c6f47931e0744f3e028</td>\n      <td>566</td>\n      <td>187.0</td>\n      <td>NaN</td>\n      <td>Язык SQL</td>\n      <td>Теория баз данных</td>\n      <td>Безопасность компьютерных систем</td>\n      <td>Промышленное программирование на языке Java</td>\n      <td>Компьютерные сети</td>\n      <td>Дискретная оптимизация</td>\n      <td>Да</td>\n      <td>0.802691</td>\n      <td>NaN</td>\n      <td>NaN</td>\n      <td>NaN</td>\n    </tr>\n    <tr>\n      <th>8</th>\n      <td>2020-05-15 13:21:40.913</td>\n      <td>e8b314842f176be9051d14a07cb156cb</td>\n      <td>618</td>\n      <td>181.0</td>\n      <td>NaN</td>\n      <td>Язык SQL</td>\n      <td>Теория баз данных</td>\n      <td>Матричные вычисления</td>\n      <td>Промышленное программирование на языке Java</td>\n      <td>Компьютерные сети</td>\n      <td>Дискретная оптимизация</td>\n      <td>Да</td>\n      <td>0.565022</td>\n      <td>NaN</td>\n      <td>NaN</td>\n      <td>NaN</td>\n    </tr>\n    <tr>\n      <th>9</th>\n      <td>2020-05-15 13:29:10.789</td>\n      <td>d6c079f1ff869c8c84fa3ed30bd67e0e</td>\n      <td>733</td>\n      <td>181.0</td>\n      <td>NaN</td>\n      <td>Теория баз данных</td>\n      <td>Высокопроизводительные вычисления</td>\n      <td>Сбор и обработка данных с помощью краудсорсинга</td>\n      <td>Дополнительные главы прикладной статистики</td>\n      <td>Анализ данных в бизнесе</td>\n      <td>Численные методы</td>\n      <td>Да</td>\n      <td>0.085202</td>\n      <td>NaN</td>\n      <td>NaN</td>\n      <td>1.0</td>\n    </tr>\n    <tr>\n      <th>10</th>\n      <td>2020-05-15 13:46:31.518</td>\n      <td>57c331c5a1b473501d86dfd23421bb5c</td>\n      <td>623</td>\n      <td>186.0</td>\n      <td>NaN</td>\n      <td>Принятие решений в условиях риска и неопределё...</td>\n      <td>Моделирование временных рядов</td>\n      <td>Матричные вычисления</td>\n      <td>Анализ данных в бизнесе</td>\n      <td>Численные методы</td>\n      <td>Машинное обучение 2</td>\n      <td>Да</td>\n      <td>0.542601</td>\n      <td>NaN</td>\n      <td>NaN</td>\n      <td>NaN</td>\n    </tr>\n    <tr>\n      <th>11</th>\n      <td>2020-05-15 14:52:24.210</td>\n      <td>3de75278c0cdb78bbe54267f65c67d25</td>\n      <td>563</td>\n      <td>187.0</td>\n      <td>NaN</td>\n      <td>Язык SQL</td>\n      <td>Теория баз данных</td>\n      <td>Сбор и обработка данных с помощью краудсорсинга</td>\n      <td>Промышленное программирование на языке Java</td>\n      <td>Системы баз данных</td>\n      <td>Анализ данных в бизнесе</td>\n      <td>Да</td>\n      <td>0.811659</td>\n      <td>NaN</td>\n      <td>NaN</td>\n      <td>NaN</td>\n    </tr>\n    <tr>\n      <th>12</th>\n      <td>2020-05-15 16:13:05.416</td>\n      <td>77c7b37ee521df16ccff23ba50c893d4</td>\n      <td>735</td>\n      <td>183.0</td>\n      <td>NaN</td>\n      <td>Высокопроизводительные вычисления</td>\n      <td>Язык SQL</td>\n      <td>Безопасность компьютерных систем</td>\n      <td>Компьютерные сети</td>\n      <td>Промышленное программирование на языке Java</td>\n      <td>Машинное обучение 2</td>\n      <td>Да</td>\n      <td>0.076233</td>\n      <td>NaN</td>\n      <td>NaN</td>\n      <td>NaN</td>\n    </tr>\n    <tr>\n      <th>13</th>\n      <td>2020-05-15 16:19:15.181</td>\n      <td>23484c24b8d551a189015750171974cd</td>\n      <td>734</td>\n      <td>183.0</td>\n      <td>NaN</td>\n      <td>Высокопроизводительные вычисления</td>\n      <td>Безопасность компьютерных систем</td>\n      <td>Теория баз данных</td>\n      <td>Компьютерные сети</td>\n      <td>Дискретная оптимизация</td>\n      <td>Машинное обучение 2</td>\n      <td>Да</td>\n      <td>0.080717</td>\n      <td>NaN</td>\n      <td>NaN</td>\n      <td>NaN</td>\n    </tr>\n    <tr>\n      <th>14</th>\n      <td>2020-05-15 16:46:00.536</td>\n      <td>105209181e880d891f19de83b4b1478d</td>\n      <td>706</td>\n      <td>183.0</td>\n      <td>NaN</td>\n      <td>Безопасность компьютерных систем</td>\n      <td>Моделирование временных рядов</td>\n      <td>Принятие решений в условиях риска и неопределё...</td>\n      <td>Анализ данных в бизнесе</td>\n      <td>Дискретная оптимизация</td>\n      <td>Системы баз данных</td>\n      <td>Да</td>\n      <td>0.152466</td>\n      <td>NaN</td>\n      <td>NaN</td>\n      <td>1.0</td>\n    </tr>\n    <tr>\n      <th>15</th>\n      <td>2020-05-15 16:53:27.904</td>\n      <td>80a0660d40d5e2f3e3b9bb8a4383db74</td>\n      <td>662</td>\n      <td>183.0</td>\n      <td>NaN</td>\n      <td>Statistical Learning Theory</td>\n      <td>Матричные вычисления</td>\n      <td>Моделирование временных рядов</td>\n      <td>Анализ данных в бизнесе</td>\n      <td>Дискретная оптимизация</td>\n      <td>Системы баз данных</td>\n      <td>Да</td>\n      <td>0.354260</td>\n      <td>NaN</td>\n      <td>NaN</td>\n      <td>1.0</td>\n    </tr>\n    <tr>\n      <th>16</th>\n      <td>2020-05-15 16:58:06.959</td>\n      <td>64173586abab6f7a172946c8c74bde0d</td>\n      <td>630</td>\n      <td>181.0</td>\n      <td>NaN</td>\n      <td>Безопасность компьютерных систем</td>\n      <td>Высокопроизводительные вычисления</td>\n      <td>Язык SQL</td>\n      <td>Компьютерные сети</td>\n      <td>Промышленное программирование на языке Java</td>\n      <td>Дискретная оптимизация</td>\n      <td>Да</td>\n      <td>0.502242</td>\n      <td>NaN</td>\n      <td>NaN</td>\n      <td>NaN</td>\n    </tr>\n    <tr>\n      <th>17</th>\n      <td>2020-05-15 17:33:08.592</td>\n      <td>4b019ecb89626c8752a1d962b63c8a4b</td>\n      <td>669</td>\n      <td>185.0</td>\n      <td>NaN</td>\n      <td>Язык SQL</td>\n      <td>Высокопроизводительные вычисления</td>\n      <td>Безопасность компьютерных систем</td>\n      <td>Компьютерные сети</td>\n      <td>Промышленное программирование на языке Java</td>\n      <td>Системы баз данных</td>\n      <td>Да</td>\n      <td>0.318386</td>\n      <td>NaN</td>\n      <td>NaN</td>\n      <td>NaN</td>\n    </tr>\n    <tr>\n      <th>18</th>\n      <td>2020-05-15 19:44:33.132</td>\n      <td>af20596134e83f3ca61259b325aa9688</td>\n      <td>519</td>\n      <td>182.0</td>\n      <td>NaN</td>\n      <td>Statistical Learning Theory</td>\n      <td>Сбор и обработка данных с помощью краудсорсинга</td>\n      <td>Высокопроизводительные вычисления</td>\n      <td>Машинное обучение 2</td>\n      <td>Дополнительные главы прикладной статистики</td>\n      <td>Анализ данных в бизнесе</td>\n      <td>Да</td>\n      <td>0.973094</td>\n      <td>NaN</td>\n      <td>NaN</td>\n      <td>NaN</td>\n    </tr>\n    <tr>\n      <th>19</th>\n      <td>2020-05-15 21:34:32.550</td>\n      <td>86d929f6fd741e56e93cee5900298849</td>\n      <td>761</td>\n      <td>181.0</td>\n      <td>NaN</td>\n      <td>Сбор и обработка данных с помощью краудсорсинга</td>\n      <td>Сбор и обработка данных с помощью краудсорсинга</td>\n      <td>Сбор и обработка данных с помощью краудсорсинга</td>\n      <td>Дополнительные главы прикладной статистики</td>\n      <td>Дополнительные главы прикладной статистики</td>\n      <td>Дополнительные главы прикладной статистики</td>\n      <td>Да</td>\n      <td>0.008969</td>\n      <td>NaN</td>\n      <td>NaN</td>\n      <td>NaN</td>\n    </tr>\n  </tbody>\n</table>\n</div>",
            "text/plain": "                 timestamp                                id  rating  \\\n0  2020-05-15 01:12:50.543  93ff79a51cd602f1dd3028ba2c129503     698   \n1  2020-05-15 02:46:48.066  26b01b1c4cd5656bab18d24c548834fb     647   \n2  2020-05-15 03:12:41.480  30f3653fc176d54e89ac3179c455c6dd     624   \n3  2020-05-15 04:43:08.994  1528f0eaa027580820ccf0d92a53ad68     579   \n4  2020-05-15 07:47:17.197  496ea4f0d4abe264b1bb1b80eb3830c5     572   \n5  2020-05-15 09:10:18.558  d0d8ff53ed5b119f9056068e954256c6     591   \n6  2020-05-15 11:42:16.910  e4caca755ee0bdd711e18fb8084958b5     724   \n7  2020-05-15 12:11:43.252  8047c18b3c531c6f47931e0744f3e028     566   \n8  2020-05-15 13:21:40.913  e8b314842f176be9051d14a07cb156cb     618   \n9  2020-05-15 13:29:10.789  d6c079f1ff869c8c84fa3ed30bd67e0e     733   \n10 2020-05-15 13:46:31.518  57c331c5a1b473501d86dfd23421bb5c     623   \n11 2020-05-15 14:52:24.210  3de75278c0cdb78bbe54267f65c67d25     563   \n12 2020-05-15 16:13:05.416  77c7b37ee521df16ccff23ba50c893d4     735   \n13 2020-05-15 16:19:15.181  23484c24b8d551a189015750171974cd     734   \n14 2020-05-15 16:46:00.536  105209181e880d891f19de83b4b1478d     706   \n15 2020-05-15 16:53:27.904  80a0660d40d5e2f3e3b9bb8a4383db74     662   \n16 2020-05-15 16:58:06.959  64173586abab6f7a172946c8c74bde0d     630   \n17 2020-05-15 17:33:08.592  4b019ecb89626c8752a1d962b63c8a4b     669   \n18 2020-05-15 19:44:33.132  af20596134e83f3ca61259b325aa9688     519   \n19 2020-05-15 21:34:32.550  86d929f6fd741e56e93cee5900298849     761   \n\n    18_group  is_mi                                             fall_1  \\\n0      181.0    NaN                                           Язык SQL   \n1      181.0    NaN                  Высокопроизводительные вычисления   \n2      185.0    NaN                   Безопасность компьютерных систем   \n3      182.0    NaN                        Statistical Learning Theory   \n4      183.0    NaN                  Высокопроизводительные вычисления   \n5      187.0    NaN                                           Язык SQL   \n6      181.0    NaN                        Statistical Learning Theory   \n7      187.0    NaN                                           Язык SQL   \n8      181.0    NaN                                           Язык SQL   \n9      181.0    NaN                                  Теория баз данных   \n10     186.0    NaN  Принятие решений в условиях риска и неопределё...   \n11     187.0    NaN                                           Язык SQL   \n12     183.0    NaN                  Высокопроизводительные вычисления   \n13     183.0    NaN                  Высокопроизводительные вычисления   \n14     183.0    NaN                   Безопасность компьютерных систем   \n15     183.0    NaN                        Statistical Learning Theory   \n16     181.0    NaN                   Безопасность компьютерных систем   \n17     185.0    NaN                                           Язык SQL   \n18     182.0    NaN                        Statistical Learning Theory   \n19     181.0    NaN    Сбор и обработка данных с помощью краудсорсинга   \n\n                                             fall_2  \\\n0                 Высокопроизводительные вычисления   \n1                  Безопасность компьютерных систем   \n2                              Матричные вычисления   \n3                 Высокопроизводительные вычисления   \n4                  Безопасность компьютерных систем   \n5                       Statistical Learning Theory   \n6                  Безопасность компьютерных систем   \n7                                 Теория баз данных   \n8                                 Теория баз данных   \n9                 Высокопроизводительные вычисления   \n10                    Моделирование временных рядов   \n11                                Теория баз данных   \n12                                         Язык SQL   \n13                 Безопасность компьютерных систем   \n14                    Моделирование временных рядов   \n15                             Матричные вычисления   \n16                Высокопроизводительные вычисления   \n17                Высокопроизводительные вычисления   \n18  Сбор и обработка данных с помощью краудсорсинга   \n19  Сбор и обработка данных с помощью краудсорсинга   \n\n                                               fall_3  \\\n0                                Матричные вычисления   \n1                                            Язык SQL   \n2                       Моделирование временных рядов   \n3                                Матричные вычисления   \n4                                   Теория баз данных   \n5     Сбор и обработка данных с помощью краудсорсинга   \n6                       Моделирование временных рядов   \n7                    Безопасность компьютерных систем   \n8                                Матричные вычисления   \n9     Сбор и обработка данных с помощью краудсорсинга   \n10                               Матричные вычисления   \n11    Сбор и обработка данных с помощью краудсорсинга   \n12                   Безопасность компьютерных систем   \n13                                  Теория баз данных   \n14  Принятие решений в условиях риска и неопределё...   \n15                      Моделирование временных рядов   \n16                                           Язык SQL   \n17                   Безопасность компьютерных систем   \n18                  Высокопроизводительные вычисления   \n19    Сбор и обработка данных с помощью краудсорсинга   \n\n                                       spring_1  \\\n0                        Дискретная оптимизация   \n1                        Дискретная оптимизация   \n2                        Дискретная оптимизация   \n3                        Дискретная оптимизация   \n4                             Компьютерные сети   \n5   Промышленное программирование на языке Java   \n6                              Численные методы   \n7   Промышленное программирование на языке Java   \n8   Промышленное программирование на языке Java   \n9    Дополнительные главы прикладной статистики   \n10                      Анализ данных в бизнесе   \n11  Промышленное программирование на языке Java   \n12                            Компьютерные сети   \n13                            Компьютерные сети   \n14                      Анализ данных в бизнесе   \n15                      Анализ данных в бизнесе   \n16                            Компьютерные сети   \n17                            Компьютерные сети   \n18                          Машинное обучение 2   \n19   Дополнительные главы прикладной статистики   \n\n                                       spring_2  \\\n0                              Численные методы   \n1                              Численные методы   \n2                           Машинное обучение 2   \n3                              Численные методы   \n4                        Дискретная оптимизация   \n5                              Численные методы   \n6   Промышленное программирование на языке Java   \n7                             Компьютерные сети   \n8                             Компьютерные сети   \n9                       Анализ данных в бизнесе   \n10                             Численные методы   \n11                           Системы баз данных   \n12  Промышленное программирование на языке Java   \n13                       Дискретная оптимизация   \n14                       Дискретная оптимизация   \n15                       Дискретная оптимизация   \n16  Промышленное программирование на языке Java   \n17  Промышленное программирование на языке Java   \n18   Дополнительные главы прикладной статистики   \n19   Дополнительные главы прикладной статистики   \n\n                                      spring_3 is_first_time  percentile  \\\n0                          Машинное обучение 2            Да    0.183857   \n1                          Машинное обучение 2           Нет    0.426009   \n2                             Численные методы            Да    0.538117   \n3                          Машинное обучение 2            Да    0.744395   \n4                             Численные методы            Да    0.780269   \n5                       Дискретная оптимизация            Да    0.690583   \n6                          Машинное обучение 2            Да    0.103139   \n7                       Дискретная оптимизация            Да    0.802691   \n8                       Дискретная оптимизация            Да    0.565022   \n9                             Численные методы            Да    0.085202   \n10                         Машинное обучение 2            Да    0.542601   \n11                     Анализ данных в бизнесе            Да    0.811659   \n12                         Машинное обучение 2            Да    0.076233   \n13                         Машинное обучение 2            Да    0.080717   \n14                          Системы баз данных            Да    0.152466   \n15                          Системы баз данных            Да    0.354260   \n16                      Дискретная оптимизация            Да    0.502242   \n17                          Системы баз данных            Да    0.318386   \n18                     Анализ данных в бизнесе            Да    0.973094   \n19  Дополнительные главы прикладной статистики            Да    0.008969   \n\n    17_group blended  is_ml_student  \n0        NaN     NaN            NaN  \n1        NaN     NaN            NaN  \n2        NaN     NaN            NaN  \n3        NaN     NaN            NaN  \n4        NaN     NaN            NaN  \n5        NaN     NaN            NaN  \n6        NaN     NaN            NaN  \n7        NaN     NaN            NaN  \n8        NaN     NaN            NaN  \n9        NaN     NaN            1.0  \n10       NaN     NaN            NaN  \n11       NaN     NaN            NaN  \n12       NaN     NaN            NaN  \n13       NaN     NaN            NaN  \n14       NaN     NaN            1.0  \n15       NaN     NaN            1.0  \n16       NaN     NaN            NaN  \n17       NaN     NaN            NaN  \n18       NaN     NaN            NaN  \n19       NaN     NaN            NaN  "
          },
          "execution_count": 54,
          "metadata": {},
          "output_type": "execute_result"
        }
      ]
    },
    {
      "metadata": {
        "trusted": false,
        "id": "_yRFyeGJ_FKZ",
        "outputId": "2cd09a41-05be-40d8-802d-f727424610da"
      },
      "cell_type": "code",
      "source": [
        "df.info()"
      ],
      "execution_count": null,
      "outputs": [
        {
          "name": "stdout",
          "output_type": "stream",
          "text": "<class 'pandas.core.frame.DataFrame'>\nRangeIndex: 361 entries, 0 to 360\nData columns (total 16 columns):\n #   Column         Non-Null Count  Dtype         \n---  ------         --------------  -----         \n 0   timestamp      361 non-null    datetime64[ns]\n 1   id             361 non-null    object        \n 2   rating         361 non-null    int64         \n 3   18_group       223 non-null    float64       \n 4   is_mi          18 non-null     float64       \n 5   fall_1         361 non-null    object        \n 6   fall_2         361 non-null    object        \n 7   fall_3         361 non-null    object        \n 8   spring_1       361 non-null    object        \n 9   spring_2       361 non-null    object        \n 10  spring_3       361 non-null    object        \n 11  is_first_time  359 non-null    object        \n 12  percentile     361 non-null    float64       \n 13  17_group       138 non-null    float64       \n 14  blended        138 non-null    object        \n 15  is_ml_student  57 non-null     float64       \ndtypes: datetime64[ns](1), float64(5), int64(1), object(9)\nmemory usage: 45.3+ KB\n"
        }
      ]
    },
    {
      "metadata": {
        "id": "B5ORhP2uhLuz"
      },
      "cell_type": "markdown",
      "source": [
        "Заполните пропуски пустой строкой для строковых колонок и нулём для числовых (постарайтесь избежать перечисления названий всех столбцов)."
      ]
    },
    {
      "metadata": {
        "id": "TlF_JJ2ghLuz",
        "trusted": false
      },
      "cell_type": "code",
      "source": [
        "# Create a copy of the original dataframe\n",
        "df_clean = df.copy()\n",
        "\n",
        "# Fill numeric columns with 0\n",
        "numeric_cols = df_clean.select_dtypes(include=['float64', 'int64']).columns\n",
        "df_clean[numeric_cols] = df_clean[numeric_cols].fillna(0)\n",
        "\n",
        "# Fill string columns with empty string\n",
        "string_cols = df_clean.select_dtypes(include=['object']).columns\n",
        "df_clean[string_cols] = df_clean[string_cols].fillna('')"
      ],
      "execution_count": null,
      "outputs": []
    },
    {
      "metadata": {
        "trusted": false,
        "id": "bBOr48DM_FKZ",
        "outputId": "cb8e84f6-f374-4fc5-99f0-1f935a5ec9a0"
      },
      "cell_type": "code",
      "source": [
        "df_clean.info()"
      ],
      "execution_count": null,
      "outputs": [
        {
          "name": "stdout",
          "output_type": "stream",
          "text": "<class 'pandas.core.frame.DataFrame'>\nRangeIndex: 361 entries, 0 to 360\nData columns (total 16 columns):\n #   Column         Non-Null Count  Dtype         \n---  ------         --------------  -----         \n 0   timestamp      361 non-null    datetime64[ns]\n 1   id             361 non-null    object        \n 2   rating         361 non-null    int64         \n 3   18_group       361 non-null    float64       \n 4   is_mi          361 non-null    float64       \n 5   fall_1         361 non-null    object        \n 6   fall_2         361 non-null    object        \n 7   fall_3         361 non-null    object        \n 8   spring_1       361 non-null    object        \n 9   spring_2       361 non-null    object        \n 10  spring_3       361 non-null    object        \n 11  is_first_time  361 non-null    object        \n 12  percentile     361 non-null    float64       \n 13  17_group       361 non-null    float64       \n 14  blended        361 non-null    object        \n 15  is_ml_student  361 non-null    float64       \ndtypes: datetime64[ns](1), float64(5), int64(1), object(9)\nmemory usage: 45.3+ KB\n"
        }
      ]
    },
    {
      "metadata": {
        "id": "w5ELhkT1hLuz"
      },
      "cell_type": "markdown",
      "source": [
        "#### 3. [1 балл] Посмотрите повнимательнее на колонку 'is_first_time'.\n",
        "\n",
        "Есть ли в ней ответы \"Нет\"? Сколько их?\n",
        "\n",
        "Если вы найдете повторные обращения студентов, оставьте только самую позднюю версию. В дальнейших заданиях используйте версию данных без повторов.\n",
        "\n",
        "<i>Обращения со значением \"Нет\" в 'is_first_time' могут быть как повторными, так и первичными, поскольку поле заполняли сами студенты.</i>"
      ]
    },
    {
      "metadata": {
        "id": "VEfiNsyQhLuz",
        "trusted": false,
        "outputId": "fd9e0f39-c0cb-4abd-d812-1ae82c123346"
      },
      "cell_type": "code",
      "source": [
        "# Подсчитаем количество ответов \"Нет\" в колонке is_first_time\n",
        "no_answers = (df_clean['is_first_time'] == 'Нет').sum()\n",
        "print(f\"Количество ответов 'Нет' в колонке is_first_time: {no_answers}\")\n",
        "\n",
        "# Сортируем по времени и оставляем только последнюю заявку от каждого студента\n",
        "df_clean= df_clean.sort_values('timestamp').groupby('id').last().reset_index()\n",
        "\n",
        "# Проверяем количество записей после удаления дубликатов\n",
        "print(f\"\\nИсходное количество записей: {df_clean.shape[0]}\")\n",
        "\n",
        "duplicates = df_clean.groupby('id').size()\n",
        "print(f\"\\nКоличество студентов, отправивших несколько заявок: {(duplicates > 1).sum()}\")\n",
        "print(\"\\nКоличество заявок на одного студента:\")\n",
        "print(duplicates.value_counts().sort_index())"
      ],
      "execution_count": null,
      "outputs": [
        {
          "name": "stdout",
          "output_type": "stream",
          "text": "Количество ответов 'Нет' в колонке is_first_time: 51\n\nИсходное количество записей: 347\n\nКоличество студентов, отправивших несколько заявок: 0\n\nКоличество заявок на одного студента:\n1    347\nName: count, dtype: int64\n"
        }
      ]
    },
    {
      "metadata": {
        "id": "o8DaiQIr_FKa"
      },
      "cell_type": "markdown",
      "source": [
        "#### 4. [1 балл] Ответьте на вопросы:\n",
        "1. Сколько было заявок из групп 18-го года набора, а сколько из групп 17-го года?\n",
        "2. Есть ли студенты с равными перцентилями (среди объединенных данных, ведь конкурс на каждый курс общий)?"
      ]
    },
    {
      "metadata": {
        "trusted": false,
        "id": "1oxc-9N2_FKa",
        "outputId": "23883ffc-72e2-4835-8d6d-2165d05016e9"
      },
      "cell_type": "code",
      "source": [
        "# 1. Count applications by year groups using boolean indexing\n",
        "year_17 = (df_clean['17_group'] > 0).sum()\n",
        "year_18 = (df_clean['18_group'] > 0).sum()\n",
        "\n",
        "print(f\"Applications from 2017 groups: {year_17}\")\n",
        "print(f\"Applications from 2018 groups: {year_18}\")\n",
        "\n",
        "# 2. Check for students with equal percentiles using boolean indexing\n",
        "duplicated_mask = df_clean['percentile'].duplicated(keep=False)\n",
        "has_duplicates = df_clean[duplicated_mask]['id'].shape[0] > 0\n",
        "\n",
        "print(f\"\\nAre there students with equal percentiles: {has_duplicates}\")\n"
      ],
      "execution_count": null,
      "outputs": [
        {
          "name": "stdout",
          "output_type": "stream",
          "text": "Applications from 2017 groups: 134\nApplications from 2018 groups: 213\n\nAre there students with equal percentiles: True\n"
        }
      ]
    },
    {
      "metadata": {
        "id": "IlzHp3HVhLuz"
      },
      "cell_type": "markdown",
      "source": [
        "#### 5. [1 балл] Какие  blended-курсы для четверокурсников существуют? На какой blended-курс записалось наибольшее количество студентов? На каком из blended-курсов собрались студенты с самым высоким средним рейтингом (выведите этот курс и количество студентов на нем)?"
      ]
    },
    {
      "metadata": {
        "id": "j_BRWerHhLu0",
        "trusted": false,
        "outputId": "5a5d59a6-732d-44af-83a1-a0172d23f9df"
      },
      "cell_type": "code",
      "source": [
        "\n",
        "# 1. Найдем все существующие blended-курсы\n",
        "blended_courses = df_clean[df_clean['blended'] != '']['blended'].unique()\n",
        "print(\"Существующие blended-курсы:\\n\", blended_courses)\n",
        "\n",
        "# 2. Подсчитаем количество студентов на каждом курсе\n",
        "blended_counts = df_clean[df_clean['blended'] != '']['blended'].value_counts()\n",
        "most_popular = blended_counts.index[0]\n",
        "print(f\"\\nКурс с наибольшим количеством студентов: {most_popular}\")\n",
        "print(f\"Количество студентов: {blended_counts[most_popular]}\")\n",
        "\n",
        "# 3. Найдем средний рейтинг студентов на каждом курсе\n",
        "blended_ratings = df_clean[df_clean['blended'] != ''].groupby('blended').agg({\n",
        "    'rating': ['mean', 'count']\n",
        "}).round(2)\n",
        "blended_ratings.columns = ['avg_rating', 'student_count']\n",
        "blended_ratings = blended_ratings.sort_values('avg_rating', ascending=False)\n",
        "\n",
        "best_course = blended_ratings.index[0]\n",
        "print(f\"\\nКурс с самым высоким средним рейтингом: {best_course}\")\n",
        "print(f\"Средний рейтинг: {blended_ratings.loc[best_course, 'avg_rating']}\")\n",
        "print(f\"Количество студентов: {blended_ratings.loc[best_course, 'student_count']}\")"
      ],
      "execution_count": null,
      "outputs": [
        {
          "name": "stdout",
          "output_type": "stream",
          "text": "Существующие blended-курсы:\n ['Соревновательный анализ данных' 'DevOps'\n 'Введение в дифференциальную геометрию']\n\nКурс с наибольшим количеством студентов: DevOps\nКоличество студентов: 87\n\nКурс с самым высоким средним рейтингом: Введение в дифференциальную геометрию\nСредний рейтинг: 1210.73\nКоличество студентов: 15\n"
        }
      ]
    },
    {
      "metadata": {
        "id": "wsZho7OV_FKa"
      },
      "cell_type": "markdown",
      "source": [
        "#### 6. [1.5 балл] Выясните, есть ли студенты с абсолютно одинаковыми предпочтениями по всем курсам.\n",
        "\n",
        "Для этого сформируйте таблицу, где для каждого возможного набора курсов посчитано количество студентов, выбравших такой набор, и оставьте только строки где это количество больше 1.\n",
        "\n",
        "В данном случае набор курсов задается упорядоченным множеством ('fall_1', 'fall_2', 'fall_3', 'spring_1', 'spring_2', 'spring_3', 'blended'). Элемент blended будет нулевым для 3-го курса."
      ]
    },
    {
      "metadata": {
        "id": "BBDlR1mFhLu0",
        "trusted": false,
        "outputId": "0a8e3806-6a1f-42f4-c4ee-83ab4b87c190"
      },
      "cell_type": "code",
      "source": [
        "# your code\n",
        "# Создаем составной ключ из всех курсов\n",
        "course_columns = ['fall_1', 'fall_2', 'fall_3', 'spring_1', 'spring_2', 'spring_3', 'blended']\n",
        "\n",
        "# Группируем по всем курсам и считаем количество студентов\n",
        "course_combinations = df_clean.groupby(course_columns).size().reset_index(name='count')\n",
        "\n",
        "# Оставляем только комбинации, которые выбрали более одного студента\n",
        "duplicate_preferences = course_combinations[course_combinations['count'] > 1]\n",
        "\n",
        "# Сортируем по количеству студентов\n",
        "duplicate_preferences = duplicate_preferences.sort_values('count', ascending=False)\n",
        "\n",
        "print(\"Найдены следующие группы студентов с одинаковыми предпочтениями:\")\n",
        "print(f\"Всего таких групп: {len(duplicate_preferences)}\")\n",
        "print(\"\\nПервые несколько групп:\")\n",
        "print(duplicate_preferences.head())\n"
      ],
      "execution_count": null,
      "outputs": [
        {
          "name": "stdout",
          "output_type": "stream",
          "text": "Найдены следующие группы студентов с одинаковыми предпочтениями:\nВсего таких групп: 15\n\nПервые несколько групп:\n                                    fall_1                             fall_2  \\\n72        Безопасность компьютерных систем        Statistical Learning Theory   \n102       Безопасность компьютерных систем  Высокопроизводительные вычисления   \n0              Statistical Learning Theory  Анализ неструктурированных данных   \n60   Байесовские методы машинного обучения  Анализ неструктурированных данных   \n62   Байесовские методы машинного обучения  Анализ неструктурированных данных   \n\n                                              fall_3  \\\n72                              Матричные вычисления   \n102                                         Язык SQL   \n0    Сбор и обработка данных с помощью краудсорсинга   \n60              Глубинное обучение в обработке звука   \n62   Сбор и обработка данных с помощью краудсорсинга   \n\n                     spring_1                                     spring_2  \\\n72     Дискретная оптимизация  Промышленное программирование на языке Java   \n102         Компьютерные сети  Промышленное программирование на языке Java   \n0    Обучение с подкреплением                       Конфликты и кооперация   \n60   Обучение с подкреплением      Генеративные модели в машинном обучении   \n62   Обучение с подкреплением                          Компьютерное зрение   \n\n                                       spring_3 blended  count  \n72   Дополнительные главы прикладной статистики              3  \n102                      Дискретная оптимизация              3  \n0                           Компьютерное зрение  DevOps      2  \n60                          Компьютерное зрение  DevOps      2  \n62      Генеративные модели в машинном обучении  DevOps      2  \n"
        }
      ]
    },
    {
      "metadata": {
        "id": "spu3r3vchLu0"
      },
      "cell_type": "markdown",
      "source": [
        "#### 7. [0.5 балла] Найдите курсы по выбору, на которые записывались как студенты 18-го года набора, так и студенты 17-го года."
      ]
    },
    {
      "metadata": {
        "id": "t21fWi8ShLu0",
        "trusted": false,
        "outputId": "658f9c7e-4f59-409d-8c3a-26027f99b13e"
      },
      "cell_type": "code",
      "source": [
        "# your code\n",
        "# Получаем все курсы для каждого года\n",
        "courses_17 = df_clean[df_clean['17_group'] > 0][['fall_1', 'fall_2', 'fall_3', 'spring_1', 'spring_2', 'spring_3']].values.ravel()\n",
        "courses_18 = df_clean[df_clean['18_group'] > 0][['fall_1', 'fall_2', 'fall_3', 'spring_1', 'spring_2', 'spring_3']].values.ravel()\n",
        "\n",
        "# Преобразуем в уникальные множества\n",
        "courses_17_unique = pd.unique(courses_17)\n",
        "courses_18_unique = pd.unique(courses_18)\n",
        "\n",
        "# 1. Находим общие курсы\n",
        "common_courses = np.intersect1d(courses_17_unique, courses_18_unique)\n",
        "print(\"Курсы, на которые записывались студенты обоих годов набора:\")\n",
        "print(common_courses)\n",
        "\n",
        "# 2. Находим курсы, уникальные для каждого года\n",
        "only_17_courses = np.setdiff1d(courses_17_unique, courses_18_unique)\n",
        "only_18_courses = np.setdiff1d(courses_18_unique, courses_17_unique)\n",
        "\n",
        "print(\"\\nКурсы только для 17-го года:\")\n",
        "print(only_17_courses)\n",
        "\n",
        "print(\"\\nКурсы только для 18-го года:\")\n",
        "print(only_18_courses)"
      ],
      "execution_count": null,
      "outputs": [
        {
          "name": "stdout",
          "output_type": "stream",
          "text": "Курсы, на которые записывались студенты обоих годов набора:\n['Statistical Learning Theory' 'Безопасность компьютерных систем'\n 'Высокопроизводительные вычисления' 'Моделирование временных рядов'\n 'Принятие решений в условиях риска и неопределённости'\n 'Сбор и обработка данных с помощью краудсорсинга' 'Численные методы']\n\nКурсы только для 17-го года:\n['Анализ неструктурированных данных'\n 'Байесовские методы машинного обучения'\n 'Генеративные модели в машинном обучении'\n 'Глубинное обучение в обработке звука' 'Компьютерное зрение'\n 'Конфликты и кооперация' 'Методы сжатия и передачи медиаданных'\n 'Обучение с подкреплением'\n 'Проектирование и разработка высоконагруженных сервисов'\n 'Символьные вычисления']\n\nКурсы только для 18-го года:\n['Анализ данных в бизнесе' 'Дискретная оптимизация'\n 'Дополнительные главы прикладной статистики' 'Компьютерные сети'\n 'Матричные вычисления' 'Машинное обучение 2'\n 'Промышленное программирование на языке Java' 'Системы баз данных'\n 'Теория баз данных' 'Язык SQL']\n"
        }
      ]
    },
    {
      "metadata": {
        "id": "PYfX-Dr5hLu0"
      },
      "cell_type": "markdown",
      "source": [
        "Методом исключения найдите курсы, которые предлагались только студентам 18-го года и только студентам 17-го года."
      ]
    },
    {
      "metadata": {
        "id": "G9SWBOpehLu1",
        "trusted": false,
        "outputId": "f7252bba-4f58-43e1-922f-8001c8bdffcd"
      },
      "cell_type": "code",
      "source": [
        "# Находим курсы, уникальные для каждого года\n",
        "only_17_courses = np.setdiff1d(courses_17_unique, courses_18_unique)\n",
        "only_18_courses = np.setdiff1d(courses_18_unique, courses_17_unique)\n",
        "\n",
        "print(\"\\nКурсы только для 17-го года:\")\n",
        "print(only_17_courses)\n",
        "\n",
        "print(\"\\nКурсы только для 18-го года:\")\n",
        "print(only_18_courses)"
      ],
      "execution_count": null,
      "outputs": [
        {
          "name": "stdout",
          "output_type": "stream",
          "text": "\nКурсы только для 17-го года:\n['Анализ неструктурированных данных'\n 'Байесовские методы машинного обучения'\n 'Генеративные модели в машинном обучении'\n 'Глубинное обучение в обработке звука' 'Компьютерное зрение'\n 'Конфликты и кооперация' 'Методы сжатия и передачи медиаданных'\n 'Обучение с подкреплением'\n 'Проектирование и разработка высоконагруженных сервисов'\n 'Символьные вычисления']\n\nКурсы только для 18-го года:\n['Анализ данных в бизнесе' 'Дискретная оптимизация'\n 'Дополнительные главы прикладной статистики' 'Компьютерные сети'\n 'Матричные вычисления' 'Машинное обучение 2'\n 'Промышленное программирование на языке Java' 'Системы баз данных'\n 'Теория баз данных' 'Язык SQL']\n"
        }
      ]
    },
    {
      "metadata": {
        "id": "uL45Tg5fhLu1"
      },
      "cell_type": "markdown",
      "source": [
        "### Визуализации и matplotlib"
      ]
    },
    {
      "metadata": {
        "id": "MY9lKmP2hLu1"
      },
      "cell_type": "markdown",
      "source": [
        "При работе с данными часто неудобно делать какие-то выводы, если смотреть на таблицу и числа в частности, поэтому важно уметь визуализировать данные. Здесь будут описаны ключевые правила оформления графиков для **всех** домашних заданий.\n",
        "\n",
        "У matplotlib, конечно же, есть [документация](https://matplotlib.org/users/index.html) с большим количеством [примеров](https://matplotlib.org/examples/), но для начала достаточно знать про несколько основных типов графиков:\n",
        "- plot — обычный поточечный график, которым можно изображать кривые или отдельные точки;\n",
        "- hist — гистограмма, показывающая распределение некоторой величины;\n",
        "- scatter — график, показывающий взаимосвязь двух величин;\n",
        "- bar — столбцовый график, показывающий взаимосвязь количественной величины от категориальной.\n",
        "\n",
        "В этом задании вы попробуете построить один из них. Не забывайте про базовые принципы построения приличных графиков:\n",
        "- оси должны быть подписаны, причём не слишком мелко;\n",
        "- у графика должно быть название;\n",
        "- если изображено несколько графиков, то необходима поясняющая легенда;\n",
        "- все линии на графиках должны быть чётко видны (нет похожих цветов или цветов, сливающихся с фоном);\n",
        "- если отображена величина, имеющая очевидный диапазон значений (например, проценты могут быть от 0 до 100), то желательно масштабировать ось на весь диапазон значений (исключением является случай, когда вам необходимо показать малое отличие, которое незаметно в таких масштабах);\n",
        "- сетка на графике помогает оценить значения в точках на глаз, это обычно полезно, поэтому лучше ее отрисовывать;\n",
        "- если распределение на гистограмме имеет тяжёлые хвосты, лучше использовать логарифмическую шкалу.\n",
        "\n",
        "Еще одна билиотека для визуализации: [seaborn](https://jakevdp.github.io/PythonDataScienceHandbook/04.14-visualization-with-seaborn.html) (обычно сокращается до sns). Это настройка над matplotlib, иногда удобнее и красивее делать визуализации через неё.\n",
        "\n",
        "**5 пунктов после которых ваши графики не будут прежними:**\n",
        "- для красивой картинки <code>%config InlineBackend.figure_format = 'retina'</code>\n",
        "- задаем размер (почти) всех графиков (можно выбрать другие значения) <code>plt.rcParams['figure.figsize'] = 8, 5</code>\n",
        "- размер шрифта подписей графиков <code>plt.rcParams['font.size'] = 12</code>\n",
        "- формат в котором сохраняется изображение <code>mpl.rcParams['savefig.format'] = 'pdf'</code>\n",
        "- sns – seaborn, добавляет решетку <code>sns.set_style('darkgrid')</code>\n",
        "\n",
        "Добавьте эти функции в ячейку ниже. Каждый график все равно придется настраивать отдельно, но указанные строчки позволят значительно упростить процесс.  "
      ]
    },
    {
      "metadata": {
        "id": "na9doUOFhLu1",
        "trusted": false
      },
      "cell_type": "code",
      "source": [
        "%matplotlib inline\n",
        "import matplotlib.pyplot as plt\n",
        "import seaborn as sns\n",
        "\n",
        "%config InlineBackend.figure_format = 'retina'\n",
        "plt.rcParams['figure.figsize'] = 8, 5\n",
        "plt.rcParams['font.size'] = 12\n",
        "plt.rcParams['savefig.format'] = 'pdf'\n",
        "sns.set_style('darkgrid')"
      ],
      "execution_count": null,
      "outputs": []
    },
    {
      "metadata": {
        "id": "kikwLpxfhLu1"
      },
      "cell_type": "markdown",
      "source": [
        "#### 8. [0.5 балла] Постройте график средних рейтингов по дням получения ответов (bar plot)."
      ]
    },
    {
      "metadata": {
        "id": "UTPLVeQvhLu2",
        "trusted": false,
        "outputId": "abae836a-c7ef-4494-fa3b-0d3c28486cfc"
      },
      "cell_type": "code",
      "source": [
        "# your code\n",
        "# Преобразуем timestamp в дату (без времени)\n",
        "df_clean['date'] = df_clean['timestamp'].dt.date\n",
        "\n",
        "# Считаем средний рейтинг по дням\n",
        "daily_ratings = df_clean.groupby('date')['rating'].mean().reset_index()\n",
        "\n",
        "# Создаем график\n",
        "plt.figure(figsize=(12, 6))\n",
        "\n",
        "# Строим столбчатый график\n",
        "plt.bar(daily_ratings['date'], daily_ratings['rating'],\n",
        "        color='skyblue', alpha=0.7)\n",
        "\n",
        "# Настраиваем внешний вид\n",
        "plt.title('Средний рейтинг студентов по дням', fontsize=14, pad=15)\n",
        "plt.xlabel('Дата', fontsize=12)\n",
        "plt.ylabel('Средний рейтинг', fontsize=12)\n",
        "\n",
        "# Добавляем сетку\n",
        "plt.grid(True, axis='y', linestyle='--', alpha=0.7)\n",
        "\n",
        "# Поворачиваем подписи дат для лучшей читаемости\n",
        "plt.xticks(rotation=45)\n",
        "\n",
        "# Устанавливаем отступы для меток\n",
        "plt.tight_layout()\n",
        "\n",
        "# Показываем график\n",
        "plt.show()"
      ],
      "execution_count": null,
      "outputs": [
        {
          "data": {
            "text/plain": "<Figure size 800x500 with 0 Axes>"
          },
          "metadata": {},
          "output_type": "display_data"
        },
        {
          "data": {
            "image/png": "[encoded data removed]",
            "text/plain": "<Figure size 1200x600 with 1 Axes>"
          },
          "metadata": {
            "image/png": {
              "height": 584,
              "width": 1184
            }
          },
          "output_type": "display_data"
        }
      ]
    },
    {
      "metadata": {
        "id": "AmsQg9_xhLu2"
      },
      "cell_type": "markdown",
      "source": [
        "Сохраните график в формате pdf (так он останется векторизованным)."
      ]
    },
    {
      "metadata": {
        "id": "vKZNSwWghLu2",
        "trusted": false
      },
      "cell_type": "code",
      "source": [
        "plt.savefig('daily_ratings.pdf', format='pdf', bbox_inches='tight')"
      ],
      "execution_count": null,
      "outputs": []
    },
    {
      "metadata": {
        "id": "sCgWwjl0hLu2"
      },
      "cell_type": "markdown",
      "source": [
        "### 2. Распределение студентов по курсам."
      ]
    },
    {
      "metadata": {
        "id": "VNqXUpr4hLu3"
      },
      "cell_type": "markdown",
      "source": [
        "Теперь вам нужно распределить студентов по осенним курсам по выбору, учитывая их предпочтения."
      ]
    },
    {
      "metadata": {
        "id": "5cAR2FgphLu3"
      },
      "cell_type": "markdown",
      "source": [
        "Алгоритм распределения студентов по курсам:\n",
        "1. По умолчанию на каждой дисциплине по выбору у 3 и 4 курсов может учиться 1 группа (до 30 студентов). Исключения описаны ниже. На blended-дисциплинах для четверокурсников количество мест не ограничено.\n",
        "2. Проводится первая волна отбора. Для каждой дисциплины формируется список тех, кто указал её первым приоритетом (если студент должен выбрать два курса по выбору, то для него дисциплины, которые он указал первым и вторым приоритетом, рассматриваются как дисциплины первого приоритета). Если желающих больше, чем мест, то выбирается топ по перцентилю рейтинга.\n",
        "3. На дисциплинах, где остались места после первой волны, формируются списки тех, кто выбрал их вторым приоритетом и еще не прошел на необходимое количество курсов. Места заполняются лучшими по перцентилю рейтинга студентами. После этого проводится такая же процедура для дисциплин третьего приоритета.\n",
        "4. Если студент не попал на необходимое количество курсов по итогам трёх волн, с ним связывается учебный офис и решает вопрос в индивидуальном порядке."
      ]
    },
    {
      "metadata": {
        "id": "BiNKVwS6hLu3"
      },
      "cell_type": "markdown",
      "source": [
        "Обращаем ваше внимание на следующие детали:\n",
        "- Конкурс на каждый курс общий для 3-го и 4-го курса\n",
        "\n",
        "- По умолчанию студент выбирает один осенний и один весенний курс по выбору, а также четверокурсники выбирают один blended-курс. Студенты групп 17-го года специализаций МОП и ТИ выбирают по 2 осенних и 2 весенних курса по выбору, также студенты групп 18' специализации МИ выбирают 2 осенних курса. <i>Для студентов, которые выбирают 2 курса (например, осенних) первый приоритет — <code>fall_1</code> и <code>fall_2</code>, второй приоритет — <code>fall_3</code>. Такие студенты участвуют только в двух волнах отбора</i>.\n",
        "\n",
        "- Студенты специализации МОП не могут выбрать весенним курсом по выбору Машинное обучение 2. **Если студент специализации МОП выбрал Машинное обучение 2, то его приоритеты сдвигаются.** Из-за совпадений первого и второго курса по выбору двигать приоритеты не надо.\n",
        "\n",
        "- Blended-курсы не трогайте, по ним не надо распределять, на другие курсы они никак не влияют.\n",
        "\n",
        "- Заведомо известно, что в процессе распределения не возникнет ситуации, когда на одно место претендуют студенты с одинаковым перцентилем.\n",
        "\n",
        "- На выходе ожидается файл res_fall.csv с результатами распределения на осенние курсы по выбору. Файл должен быть следующего формата:\n",
        "\n",
        "    * Три колонки: ID, course1, course2\n",
        "    \n",
        "    * Если студент не попал на курс, но должен был, то вместо названия курса в ячейке должна быть строка \"???\"\n",
        "    \n",
        "    * Если студент должен выбрать только один курс, то в колонке course2 для него должна стоять строка \"-\"\n",
        "    \n",
        "    * Если студент должен выбрать два курса по выбору, то порядок в колонках course1 и course2 не важен.\n",
        "    \n",
        "    * hint: для сохранения воспользуйтесь df.to_csv('solution.csv', index=None)\n",
        "    \n",
        "\n",
        "Для работы вам могут понадобиться следующие данные:\n",
        "\n",
        "- Результаты опроса (вы уже использовали этот файл в первой части задания, но на всякий случай ссылка: https://www.dropbox.com/s/f4rm8sjc3v99p0m/_end_seminar.xlsx?dl=0)\n",
        "\n",
        "- Соответствие номеров групп специализациям:\n",
        "\n",
        "    * 171, 172 - МОП; 173 - ТИ; 174 — АДИС; 175, 176 — РС; 177 — АПР\n",
        "    \n",
        "    * У студентов 18-го года номера групп соответствуют номерам до распределения по специализациям. Это означает, что по номеру группы 18* нельзя однозначно определить специализацию студента. При этом в рамках распределения важно знать информацию только о двух из них: МОП и МИ. Эти знание можно получить из колонок 'is_ml_student\n",
        "' и 'is_mi' соответственно.\n",
        "\n",
        "- Ограничения по количеству мест на курсах по выбору:\n",
        "\n",
        "    * Осенние: везде 30 мест, кроме Statistical Learning Theory (60 мест), Высокопроизводительных вычислений (60 мест), Анализа неструктурированных данных ($\\infty$ мест)\n",
        "\n",
        "    * Весенние: везде 30 мест, кроме Обучения с подкреплением (60 мест), Анализа данных в бизнесе (60 мест).\n",
        "\n",
        "\n",
        "Кстати, убедитесь, что в данных больше нет пропусков и повторных записей."
      ]
    },
    {
      "metadata": {
        "id": "o5t55IcQhLu4"
      },
      "cell_type": "markdown",
      "source": [
        "#### 0. Проверка\n",
        "\n",
        "Для начала давайте убедимся, что вы успешно выполнили задания первой части и проверим ваши данные на наличие пропусков и повторов:"
      ]
    },
    {
      "metadata": {
        "id": "34HWEdVdhLu4",
        "trusted": false
      },
      "cell_type": "code",
      "source": [
        "assert df_clean.shape[0] == 347, 'В таблице остались повторы или потеряны данные'\n",
        "\n",
        "assert df_clean.isna().sum().sum() == 0, 'В таблице остались пропуски'"
      ],
      "execution_count": null,
      "outputs": []
    },
    {
      "metadata": {
        "id": "_ImUFyG3hLu4"
      },
      "cell_type": "markdown",
      "source": [
        "Если вы не получили AssertionError, то можете продолжать."
      ]
    },
    {
      "metadata": {
        "id": "LTGSwwvAhLu4"
      },
      "cell_type": "markdown",
      "source": [
        "#### 1. [1.5 балл] Создайте новый признак, обозначающий, сколько осенних курсов должен выбрать студент\n",
        "\n",
        "В этом вам может помочь информация о специализации и группе стундента."
      ]
    },
    {
      "metadata": {
        "id": "ouxo0kHFhLu4",
        "trusted": false
      },
      "cell_type": "code",
      "source": [
        "# Создаем новый признак для количества осенних курсов\n",
        "df_clean['fall_courses_count'] = 1  # По умолчанию 1 курс\n",
        "\n",
        "# Для студентов 17-го года набора из групп МОП (171, 172) и ТИ (173) - 2 курса\n",
        "mop_ti_mask = (\n",
        "    (df_clean['17_group'] > 0) &\n",
        "    ((df_clean['17_group'].isin([171, 172, 173])) |\n",
        "     (df_clean['is_ml_student'] == 1))\n",
        ")\n",
        "df_clean.loc[mop_ti_mask, 'fall_courses_count'] = 2\n",
        "\n",
        "# Для студентов 18-го года из МИ - 2 курса\n",
        "mi_mask = (df_clean['18_group'] > 0) & (df_clean['is_mi'] == 1)\n",
        "df_clean.loc[mi_mask, 'fall_courses_count'] = 2\n"
      ],
      "execution_count": null,
      "outputs": []
    },
    {
      "metadata": {
        "id": "S47aq1sQhLu4"
      },
      "cell_type": "markdown",
      "source": [
        "Проверка:"
      ]
    },
    {
      "metadata": {
        "id": "OlOgzDKDhLu5",
        "trusted": false
      },
      "cell_type": "code",
      "source": [
        "col_name = 'fall_courses_count'    # insert your new column name as str\n",
        "\n",
        "assert(df_clean[df_clean['id'] == '2662600c2c37e11e62f6ee0b88452f22'][col_name] == 2).all()\n",
        "assert(df_clean[df_clean['id'] == 'd555d2805e1d93d4f023e57dc4c8f403'][col_name] == 2).all()\n",
        "assert(df_clean[df_clean['id'] == '8fe79f84f36e3a5d2d6745621321302c'][col_name] == 1).all()\n",
        "assert(df_clean[df_clean['id'] == 'e4caca755ee0bdd711e18fb8084958b5'][col_name] == 1).all()"
      ],
      "execution_count": null,
      "outputs": []
    },
    {
      "metadata": {
        "id": "VtQYhwuPhLu5"
      },
      "cell_type": "markdown",
      "source": [
        "#### 2. [2 балла] Распределите студентов в соответствии с первым приоритетом"
      ]
    },
    {
      "metadata": {
        "id": "6gWfT3vqhLu5",
        "trusted": false,
        "outputId": "6f46aea3-218b-43e8-9f1f-46ff865778b4"
      },
      "cell_type": "code",
      "source": [
        "df_clean['fall_courses'] = ''\n",
        "course_counts = {}\n",
        "\n",
        "# Ограничения по местам для осенних курсов\n",
        "fall_course_limits = {\n",
        "    'Statistical Learning Theory': 60,\n",
        "    'Высокопроизводительные вычисления': 60,\n",
        "    'Анализ неструктурированных данных': float('inf')\n",
        "}\n",
        "DEFAULT_LIMIT = 30\n",
        "\n",
        "# Функция для получения кандидатов, выбравших курс первым приоритетом:\n",
        "def get_first_priority_students(course):\n",
        "    one_course = df_clean[(df_clean['fall_courses_count'] == 1) & (df_clean['fall_1'] == course)]\n",
        "    two_courses = df_clean[(df_clean['fall_courses_count'] == 2) & ((df_clean['fall_1'] == course) | (df_clean['fall_2'] == course))]\n",
        "    return pd.concat([one_course, two_courses])\n",
        "\n",
        "# Получаем множество курсов из fall_1 и fall_2 (исключая пустые значения)\n",
        "courses_candidates = set(df_clean['fall_1'].dropna().unique()) | set(df_clean['fall_2'].dropna().unique())\n",
        "courses_candidates.discard('')\n",
        "\n",
        "# Функция для назначения курса студенту\n",
        "def assign_course(idx, course):\n",
        "    current = df_clean.at[idx, 'fall_courses']\n",
        "    if current == '':\n",
        "        df_clean.at[idx, 'fall_courses'] = course\n",
        "    else:\n",
        "        df_clean.at[idx, 'fall_courses'] = current + ', ' + course\n",
        "    course_counts[course] = course_counts.get(course, 0) + 1\n",
        "\n",
        "# Первая волна распределения: для каждого курса выбираем студентов с наименьшим рейтингом (по percentile)\n",
        "for course in courses_candidates:\n",
        "    candidates = get_first_priority_students(course)\n",
        "    if candidates.empty:\n",
        "        continue\n",
        "    limit = fall_course_limits.get(course, DEFAULT_LIMIT)\n",
        "    selected = candidates.sort_values('percentile', ascending=True)\n",
        "    if limit != float('inf'):\n",
        "        selected = selected.head(limit)\n",
        "    for idx in selected.index:\n",
        "        if course not in df_clean.at[idx, 'fall_courses']:\n",
        "            assign_course(idx, course)\n",
        "\n",
        "# Вывод статистики распределения\n",
        "print(\"First wave assignment statistics:\")\n",
        "for course, count in sorted(course_counts.items()):\n",
        "    lim = fall_course_limits.get(course, DEFAULT_LIMIT)\n",
        "    lim_str = 'inf' if lim == float('inf') else str(lim)\n",
        "    print(f\"{course}: {count} students (limit: {lim_str})\")\n",
        "\n",
        "# Для каждого курса, на который зачислен хотя бы один студент, отмечаем студентов\n",
        "# с минимальным значением percentile (лучшие) и с максимальным значением percentile (худшие).\n",
        "for course in course_counts.keys():\n",
        "    # Определяем маску для студентов, которым назначен данный курс\n",
        "    mask = df_clean['fall_courses'].apply(lambda x: course in x.split(', ') if x != '' else False)\n",
        "    if mask.any():\n",
        "        subset = df_clean.loc[mask]\n",
        "        min_percentile = subset['percentile'].min()\n",
        "        df_clean.loc[mask & (df_clean['percentile'] == min_percentile), 'is_first_place'] = True\n",
        "        max_percentile = subset['percentile'].max()\n",
        "        df_clean.loc[mask & (df_clean['percentile'] == max_percentile), 'is_last_place'] = True"
      ],
      "execution_count": null,
      "outputs": [
        {
          "name": "stdout",
          "output_type": "stream",
          "text": "First wave assignment statistics:\nStatistical Learning Theory: 33 students (limit: 60)\nАнализ неструктурированных данных: 48 students (limit: inf)\nБайесовские методы машинного обучения: 24 students (limit: 30)\nБезопасность компьютерных систем: 30 students (limit: 30)\nВысокопроизводительные вычисления: 44 students (limit: 60)\nГлубинное обучение в обработке звука: 23 students (limit: 30)\nМатричные вычисления: 15 students (limit: 30)\nМоделирование временных рядов: 30 students (limit: 30)\nПринятие решений в условиях риска и неопределённости: 8 students (limit: 30)\nСбор и обработка данных с помощью краудсорсинга: 30 students (limit: 30)\nТеория баз данных: 14 students (limit: 30)\nЯзык SQL: 29 students (limit: 30)\n"
        }
      ]
    },
    {
      "metadata": {
        "vscode": {
          "languageId": "ruby"
        },
        "trusted": false,
        "id": "kcbyn5tO_FKd"
      },
      "cell_type": "code",
      "source": [
        "# Сортируем DataFrame по столбцу 'id' по возрастанию, а затем сохраняем в CSV\n",
        "sorted_df = df_clean.sort_values('id', ascending=True)\n",
        "sorted_df.to_csv('df_clean.csv', index=False)"
      ],
      "execution_count": null,
      "outputs": []
    },
    {
      "metadata": {
        "id": "vc5zXP5hhLu5"
      },
      "cell_type": "markdown",
      "source": [
        "Здесь для проверки приведена таблица, в которой есть 2 дополнительные колонки:\n",
        "    \n",
        "    1) is_first_place - является ли студент лучшим по перцентили хотя бы на одном из курсов, куда он был зачислен\n",
        "    (True / NaN)\n",
        "    \n",
        "    2) is_last_place  - является ли студент худшим по перцентили хотя бы на одном из курсов, куда он был зачислен (True / NaN)"
      ]
    },
    {
      "metadata": {
        "id": "E_fbyB9qhLu5"
      },
      "cell_type": "markdown",
      "source": [
        "После распределения студентов в соответствии с первым приоритетом добавьте в свой датафрейм аналогичные признаки и запустите проверку:"
      ]
    },
    {
      "metadata": {
        "trusted": false,
        "id": "CbM_iLPV_FKd"
      },
      "cell_type": "code",
      "source": [
        "check_df=pd.read_csv('2_task_check.csv')"
      ],
      "execution_count": null,
      "outputs": []
    },
    {
      "metadata": {
        "trusted": false,
        "id": "ycdGutEu_FKd"
      },
      "cell_type": "code",
      "source": [
        "fir_col_name = 'is_first_place'      # insert name of your new column with is_first_place as str\n",
        "last_col_name = 'is_last_place'      # insert name of your new column with is_last_place as str\n",
        "\n",
        "\n",
        "assert((df_clean[df_clean[fir_col_name].isna() == False][['id']].sort_values('id').reset_index(drop=True)\n",
        "        ==\n",
        "        check_df[check_df['is_first_place'].isna() == False][['id']].sort_values('id').reset_index(drop=True)\n",
        "       ).id.values).all()\n",
        "\n",
        "\n",
        "assert((df_clean[df_clean[last_col_name].isna() == False][['id']].sort_values('id').reset_index(drop=True)\n",
        "       ==\n",
        "       check_df[check_df['is_last_place'].isna() == False][['id']].sort_values('id').reset_index(drop=True)\n",
        "      ).id.values).all()"
      ],
      "execution_count": null,
      "outputs": []
    },
    {
      "metadata": {
        "id": "RO6DwNNFhLu6"
      },
      "cell_type": "markdown",
      "source": [
        "#### 3. [3 балла] Проведите все три волны отбора студентов на курсы по выбору"
      ]
    },
    {
      "metadata": {
        "id": "jn2OOrLjhLu6",
        "trusted": false,
        "outputId": "c0fa0c9a-edcf-4059-8f87-28a2fa808c65"
      },
      "cell_type": "code",
      "source": [
        "# Инициализируем колонку для назначенных курсов и счетчик для каждого курса\n",
        "df_clean['fall_courses'] = ''\n",
        "course_counts = {}\n",
        "\n",
        "# Ограничения по местам для осенних курсов\n",
        "fall_course_limits = {\n",
        "    'Statistical Learning Theory': 60,\n",
        "    'Высокопроизводительные вычисления': 60,\n",
        "    'Анализ неструктурированных данных': float('inf')\n",
        "}\n",
        "DEFAULT_LIMIT = 30\n",
        "\n",
        "# ===================================================================\n",
        "# Волна 1: Распределение по первым приоритетам (fall_1 для студентов с 1 курсом,\n",
        "# и fall_1 или fall_2 для студентов, которым нужно 2 курса).\n",
        "# Теперь студент с меньшим percentile считается лучше.\n",
        "def get_first_priority_students(course):\n",
        "    one_course = df_clean[(df_clean['fall_courses_count'] == 1) & (df_clean['fall_1'] == course)]\n",
        "    two_courses = df_clean[(df_clean['fall_courses_count'] == 2) &\n",
        "                           ((df_clean['fall_1'] == course) | (df_clean['fall_2'] == course))]\n",
        "    return pd.concat([one_course, two_courses])\n",
        "\n",
        "# Множество кандидатов — курсы, указанные в fall_1 и fall_2 (без пустых значений)\n",
        "courses_candidates = set(df_clean['fall_1'].dropna().unique()) | set(df_clean['fall_2'].dropna().unique())\n",
        "courses_candidates.discard('')\n",
        "\n",
        "def assign_course(idx, course):\n",
        "    current = df_clean.at[idx, 'fall_courses']\n",
        "    if current == '':\n",
        "        df_clean.at[idx, 'fall_courses'] = course\n",
        "    else:\n",
        "        df_clean.at[idx, 'fall_courses'] = current + ', ' + course\n",
        "    course_counts[course] = course_counts.get(course, 0) + 1\n",
        "\n",
        "# Назначаем курсы в волне 1, сортируя по percentile в порядке возрастания (меньше → лучше)\n",
        "for course in courses_candidates:\n",
        "    candidates = get_first_priority_students(course)\n",
        "    if candidates.empty:\n",
        "        continue\n",
        "    selected = candidates.sort_values('percentile', ascending=True)\n",
        "    limit = fall_course_limits.get(course, DEFAULT_LIMIT)\n",
        "    if limit != float('inf'):\n",
        "        selected = selected.head(limit)\n",
        "    for idx in selected.index:\n",
        "        if course not in df_clean.at[idx, 'fall_courses']:\n",
        "            assign_course(idx, course)\n",
        "\n",
        "print(\"After Wave 1:\")\n",
        "for course, count in sorted(course_counts.items()):\n",
        "    lim = fall_course_limits.get(course, DEFAULT_LIMIT)\n",
        "    lim_str = 'inf' if lim == float('inf') else str(lim)\n",
        "    print(f\"{course}: {count} students (limit: {lim_str})\")\n",
        "\n",
        "# ===================================================================\n",
        "# Волна 2: Для студентов, которым не хватает курсов (и которые должны выбрать 2)\n",
        "# используем вторую приоритетную ячейку fall_3.\n",
        "for idx, row in df_clean.iterrows():\n",
        "    assigned = row['fall_courses'].split(', ') if row['fall_courses'] != '' else []\n",
        "    needed = row['fall_courses_count'] - len(assigned)\n",
        "    if needed > 0 and row['fall_courses_count'] == 2:\n",
        "        course = row['fall_3']\n",
        "        if course and course not in assigned:\n",
        "            current_count = course_counts.get(course, 0)\n",
        "            limit = fall_course_limits.get(course, DEFAULT_LIMIT)\n",
        "            if current_count < limit or limit == float('inf'):\n",
        "                assign_course(idx, course)\n",
        "\n",
        "print(\"After Wave 2:\")\n",
        "for course, count in sorted(course_counts.items()):\n",
        "    lim = fall_course_limits.get(course, DEFAULT_LIMIT)\n",
        "    lim_str = 'inf' if lim == float('inf') else str(lim)\n",
        "    print(f\"{course}: {count} students (limit: {lim_str})\")\n",
        "\n",
        "# ===================================================================\n",
        "# Волна 3: Для оставшихся студентов, которые не набрали требуемое количество курсов,\n",
        "# перебираем все доступные курсы из candidates и назначаем, если еще есть места.\n",
        "for idx, row in df_clean.iterrows():\n",
        "    assigned = row['fall_courses'].split(', ') if row['fall_courses'] != '' else []\n",
        "    needed = row['fall_courses_count'] - len(assigned)\n",
        "    if needed > 0:\n",
        "        for course in courses_candidates:\n",
        "            if needed <= 0:\n",
        "                break\n",
        "            if course not in assigned:\n",
        "                current_count = course_counts.get(course, 0)\n",
        "                limit = fall_course_limits.get(course, DEFAULT_LIMIT)\n",
        "                if current_count < limit or limit == float('inf'):\n",
        "                    assign_course(idx, course)\n",
        "                    needed -= 1\n",
        "\n",
        "print(\"After Wave 3:\")\n",
        "for course, count in sorted(course_counts.items()):\n",
        "    lim = fall_course_limits.get(course, DEFAULT_LIMIT)\n",
        "    lim_str = 'inf' if lim == float('inf') else str(lim)\n",
        "    print(f\"{course}: {count} students (limit: {lim_str})\")\n",
        "\n",
        "# ===================================================================\n",
        "# Формирование итоговой таблицы распределения с 3 колонками: ID, course1, course2.\n",
        "def get_course_columns(row):\n",
        "    assigned = row['fall_courses'].split(', ') if row['fall_courses'] != '' else []\n",
        "    if row['fall_courses_count'] == 1:\n",
        "        course1 = assigned[0] if len(assigned) >= 1 else \"???\"\n",
        "        course2 = \"-\"\n",
        "    elif row['fall_courses_count'] == 2:\n",
        "        course1 = assigned[0] if len(assigned) >= 1 else \"???\"\n",
        "        course2 = assigned[1] if len(assigned) >= 2 else \"???\"\n",
        "    else:\n",
        "        course1 = \"???\"\n",
        "        course2 = \"???\"\n",
        "    return pd.Series([course1, course2])\n",
        "\n",
        "res_df = pd.DataFrame()\n",
        "res_df['ID'] = df_clean['id']\n",
        "res_df[['course1', 'course2']] = df_clean.apply(get_course_columns, axis=1)\n",
        "res_df.to_csv('res_fall.csv', index=False)\n",
        "print(\"Result saved to res_fall.csv\")"
      ],
      "execution_count": null,
      "outputs": [
        {
          "name": "stdout",
          "output_type": "stream",
          "text": "After Wave 1:\nStatistical Learning Theory: 33 students (limit: 60)\nАнализ неструктурированных данных: 48 students (limit: inf)\nБайесовские методы машинного обучения: 24 students (limit: 30)\nБезопасность компьютерных систем: 30 students (limit: 30)\nВысокопроизводительные вычисления: 44 students (limit: 60)\nГлубинное обучение в обработке звука: 23 students (limit: 30)\nМатричные вычисления: 15 students (limit: 30)\nМоделирование временных рядов: 30 students (limit: 30)\nПринятие решений в условиях риска и неопределённости: 8 students (limit: 30)\nСбор и обработка данных с помощью краудсорсинга: 30 students (limit: 30)\nТеория баз данных: 14 students (limit: 30)\nЯзык SQL: 29 students (limit: 30)\nAfter Wave 2:\nStatistical Learning Theory: 36 students (limit: 60)\nАнализ неструктурированных данных: 53 students (limit: inf)\nБайесовские методы машинного обучения: 25 students (limit: 30)\nБезопасность компьютерных систем: 30 students (limit: 30)\nВысокопроизводительные вычисления: 45 students (limit: 60)\nГлубинное обучение в обработке звука: 29 students (limit: 30)\nМатричные вычисления: 15 students (limit: 30)\nМоделирование временных рядов: 30 students (limit: 30)\nПринятие решений в условиях риска и неопределённости: 8 students (limit: 30)\nСбор и обработка данных с помощью краудсорсинга: 30 students (limit: 30)\nТеория баз данных: 14 students (limit: 30)\nЯзык SQL: 29 students (limit: 30)\nAfter Wave 3:\nStatistical Learning Theory: 42 students (limit: 60)\nАнализ неструктурированных данных: 103 students (limit: inf)\nБайесовские методы машинного обучения: 30 students (limit: 30)\nБезопасность компьютерных систем: 30 students (limit: 30)\nВысокопроизводительные вычисления: 60 students (limit: 60)\nГлубинное обучение в обработке звука: 29 students (limit: 30)\nМатричные вычисления: 30 students (limit: 30)\nМоделирование временных рядов: 30 students (limit: 30)\nПринятие решений в условиях риска и неопределённости: 8 students (limit: 30)\nСбор и обработка данных с помощью краудсорсинга: 30 students (limit: 30)\nТеория баз данных: 14 students (limit: 30)\nЯзык SQL: 30 students (limit: 30)\nResult saved to res_fall.csv\n"
        }
      ]
    },
    {
      "metadata": {
        "id": "1IkQa_gdhLu6"
      },
      "cell_type": "markdown",
      "source": [
        "На всякий случай просим вас сдать вместе с ноутбуком файл res_fall.csv к форме."
      ]
    },
    {
      "metadata": {
        "id": "uY_OY6inhLu7"
      },
      "cell_type": "markdown",
      "source": [
        "Вставьте картинку, описывающую ваш опыт выполнения этого задания:"
      ]
    },
    {
      "metadata": {
        "id": "R9_7CnSFhLu7",
        "trusted": false
      },
      "cell_type": "code",
      "source": [
        "ахуеть"
      ],
      "execution_count": null,
      "outputs": []
    }
  ],
  "metadata": {
    "colab": {
      "provenance": [],
      "include_colab_link": true
    },
    "kernelspec": {
      "name": "python3",
      "display_name": "Python 3",
      "language": "python"
    },
    "language_info": {
      "name": "python",
      "version": "3.10.4",
      "mimetype": "text/x-python",
      "codemirror_mode": {
        "name": "ipython",
        "version": 3
      },
      "pygments_lexer": "ipython3",
      "nbconvert_exporter": "python",
      "file_extension": ".py"
    },
    "varInspector": {
      "cols": {
        "lenName": 16,
        "lenType": 16,
        "lenVar": 40
      },
      "kernels_config": {
        "python": {
          "delete_cmd_postfix": "",
          "delete_cmd_prefix": "del ",
          "library": "var_list.py",
          "varRefreshCmd": "print(var_dic_list())"
        },
        "r": {
          "delete_cmd_postfix": ") ",
          "delete_cmd_prefix": "rm(",
          "library": "var_list.r",
          "varRefreshCmd": "cat(var_dic_list()) "
        }
      },
      "types_to_exclude": [
        "module",
        "function",
        "builtin_function_or_method",
        "instance",
        "_Feature"
      ],
      "window_display": false
    }
  },
  "nbformat": 4,
  "nbformat_minor": 0
}
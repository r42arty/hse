{
  "nbformat": 4,
  "nbformat_minor": 0,
  "metadata": {
    "colab": {
      "provenance": [],
      "include_colab_link": true
    },
    "kernelspec": {
      "name": "python3",
      "display_name": "Python 3"
    },
    "language_info": {
      "name": "python"
    }
  },
  "cells": [
    {
      "cell_type": "markdown",
      "metadata": {
        "id": "view-in-github",
        "colab_type": "text"
      },
      "source": [
        "<a href=\"https://colab.research.google.com/github/r42arty/hse/blob/main/mod5/LLM_1.ipynb\" target=\"_parent\"><img src=\"https://colab.research.google.com/assets/colab-badge.svg\" alt=\"Open In Colab\"/></a>"
      ]
    },
    {
      "cell_type": "markdown",
      "source": [
        "### Установка LM studio"
      ],
      "metadata": {
        "id": "940EpPDh3mFV"
      }
    },
    {
      "cell_type": "markdown",
      "source": [
        "# 🧪 Практическое задание: Тестирование LLM в LM Studio\n",
        "\n",
        "## 📥 Шаг 1: Установка LM Studio\n",
        "1. Перейдите по ссылке: [lmstudio.ai](https://lmstudio.ai/)  \n",
        "2. Скачайте установщик и установите приложение на свой компьютер.  \n",
        "3. Запустите LM Studio.\n",
        "\n",
        "---\n",
        "\n",
        "## 🔍 Шаг 2: Загрузка моделей\n",
        "LM Studio напрямую интегрирован с [HuggingFace](https://huggingface.co/) и умеет скачивать оттуда модели.\n",
        "\n",
        "Рекомендуется попробовать:\n",
        "- **LLaMA‑2** (разные размеры)  \n",
        "- **Qwen**  \n",
        "- **Vikhr** (русскоязычные)  \n",
        "- **Mistral (Mistral‑7B, Mixtral‑MoE)**  \n",
        "- **OpenChat / OpenHermes / MPT**  (openai/gpt-oss-20b)\n",
        "- (дополнительно — можно поискать новые релизы на Hugging Face Hub)\n",
        "\n",
        "---\n",
        "\n",
        "## ⚙️ Шаг 3: Использование Power User режима\n",
        "1. В левом нижнем углу интерфейса переключитесь с режима **User → Power User**.  \n",
        "2. В этом режиме откроются дополнительные параметры:\n",
        "   - Настройка температуры (`temperature`)  \n",
        "   - Top‑p и top‑k  \n",
        "   - Penalties (frequency / presence)  \n",
        "   - Установка **системного промпта**  \n",
        "   - Макс. длина ответа (`max_tokens`)\n",
        "\n",
        "---\n",
        "\n",
        "## 🧠 Шаг 4: Эксперименты\n",
        "1. Составьте несколько вопросов **логического и простого уровня**:  \n",
        "   - Простой: *\"Объясни, что такое машинное обучение простыми словами.\"*  \n",
        "   - Логический: *\"У Пети было 5 яблок. Он отдал 2 другу и съел одно. Сколько осталось?\"*  \n",
        "2. Задайте эти вопросы **разным моделям**\n",
        "3. Сравните ответы по критериям:  \n",
        "   - Понятность и связность текста  \n",
        "   - Наличие пошаговых рассуждений (reasoning)  \n",
        "   - Склонность к «галлюцинациям»  \n",
        "   - Разница между старыми и новыми моделями  \n",
        "\n",
        "---\n",
        "\n",
        "## 📝 Задание 1\n",
        "1. Установите LM Studio и скачайте минимум **2 модели разных серий** (например, LLaMA и Vikhr).  \n",
        "2. В режиме **Power User** протестируйте параметры генерации:  \n",
        "   - `temperature` = 0.0, 0.7, 1.2  \n",
        "   - `top_p` = 0.5, 0.9  \n",
        "   - `presence_penalty` = 0.0, 0.8  \n",
        "3. Сравните, как изменяется стиль и креативность текста.  \n",
        "4. **Ответьте письменно**:\n",
        "   - Какая модель показалась наиболее «разумной»?  \n",
        "   - Как параметры влияли на разнообразие и точность ответов?  \n",
        "   - Отличались ли модели с reasoning (например, Mistral‑8x7B / Qwen) от обычных (Vikhr‑Instruct)?  \n",
        "\n",
        "---\n",
        "\n",
        "## 🎯 Цель\n",
        "- Освоить работу с LM Studio.  \n",
        "- Научиться сравнивать модели с reasoning и без.  \n",
        "- Понять, как параметры генерации влияют на стиль и точность текста.  \n",
        "- Сформировать собственное мнение о том, какие модели лучше подходят для разных задач.\n",
        "\n"
      ],
      "metadata": {
        "id": "M9mFCKak3qAN"
      }
    },
    {
      "cell_type": "markdown",
      "source": [
        "# Ответ\n",
        "\n",
        "## Модели для экспериметнов\n",
        "- Vikhrmodels/QVikhr-2.5-1.5B-Instruct-r_GGUF\n",
        "- openai/gpt-oss-20b\n",
        "\n",
        "## Промпт для тестирования\n",
        "- Причины падения Римской империи\n",
        "\n",
        "## 1. Какая модель показалась наиболее «разумной»?\n",
        "Vikhr 12B Instruct — простые, уместные ответы на русском без «ухода» в фантастику.\n",
        "\n",
        "### 2. Как параметры влияли на разнообразие и точность ответов?\n",
        "- При низкой temperature и top_p получались скучные, односложные ответы.  \n",
        "- Оптимум: temp=0.7, top_p=0.9 — баланс между креативностью и точностью.  \n",
        "- Высокая temperature (1.2) давала креатив, но иногда «галлюцинации» (например, Симпсоны и инопланетяне).  \n",
        "\n",
        "### 3. Отличались ли модели с reasoning от обычных?\n",
        "- Да. Qwen чётко показывал шаги рассуждений (особенно про столицу и историю).  \n",
        "- Vikhr и LLaMA-3 выдавали сразу готовый ответ, без пошагового анализа.  "
      ],
      "metadata": {
        "id": "H9Mn16Xsn8Ti"
      }
    },
    {
      "cell_type": "markdown",
      "source": [
        "# 📚 Домашнее задание: Сравнение текстов с помощью TF‑IDF и BERT\n",
        "\n",
        "## 🎯 Цели задания\n",
        "- Научиться представлять тексты в числовом виде (векторы).\n",
        "- Попробовать два подхода: **TF‑IDF** и **BERT‑эмбеддинги**.\n",
        "- Научиться измерять **сходство текстов**.\n"
      ],
      "metadata": {
        "id": "jgPvmf4s49RS"
      }
    },
    {
      "cell_type": "code",
      "source": [
        "# Установка библиотек (в Colab HuggingFace уже часто стоит, но на всякий случай)\n",
        "!pip install transformers"
      ],
      "metadata": {
        "id": "2QYXNBmsGg_B",
        "colab": {
          "base_uri": "https://localhost:8080/"
        },
        "outputId": "8e274c8f-fc84-4624-c3a7-1cacb9fcaa74"
      },
      "execution_count": 1,
      "outputs": [
        {
          "output_type": "stream",
          "name": "stdout",
          "text": [
            "Requirement already satisfied: transformers in /usr/local/lib/python3.12/dist-packages (4.56.2)\n",
            "Requirement already satisfied: filelock in /usr/local/lib/python3.12/dist-packages (from transformers) (3.19.1)\n",
            "Requirement already satisfied: huggingface-hub<1.0,>=0.34.0 in /usr/local/lib/python3.12/dist-packages (from transformers) (0.35.3)\n",
            "Requirement already satisfied: numpy>=1.17 in /usr/local/lib/python3.12/dist-packages (from transformers) (2.0.2)\n",
            "Requirement already satisfied: packaging>=20.0 in /usr/local/lib/python3.12/dist-packages (from transformers) (25.0)\n",
            "Requirement already satisfied: pyyaml>=5.1 in /usr/local/lib/python3.12/dist-packages (from transformers) (6.0.3)\n",
            "Requirement already satisfied: regex!=2019.12.17 in /usr/local/lib/python3.12/dist-packages (from transformers) (2024.11.6)\n",
            "Requirement already satisfied: requests in /usr/local/lib/python3.12/dist-packages (from transformers) (2.32.4)\n",
            "Requirement already satisfied: tokenizers<=0.23.0,>=0.22.0 in /usr/local/lib/python3.12/dist-packages (from transformers) (0.22.1)\n",
            "Requirement already satisfied: safetensors>=0.4.3 in /usr/local/lib/python3.12/dist-packages (from transformers) (0.6.2)\n",
            "Requirement already satisfied: tqdm>=4.27 in /usr/local/lib/python3.12/dist-packages (from transformers) (4.67.1)\n",
            "Requirement already satisfied: fsspec>=2023.5.0 in /usr/local/lib/python3.12/dist-packages (from huggingface-hub<1.0,>=0.34.0->transformers) (2025.3.0)\n",
            "Requirement already satisfied: typing-extensions>=3.7.4.3 in /usr/local/lib/python3.12/dist-packages (from huggingface-hub<1.0,>=0.34.0->transformers) (4.15.0)\n",
            "Requirement already satisfied: hf-xet<2.0.0,>=1.1.3 in /usr/local/lib/python3.12/dist-packages (from huggingface-hub<1.0,>=0.34.0->transformers) (1.1.10)\n",
            "Requirement already satisfied: charset_normalizer<4,>=2 in /usr/local/lib/python3.12/dist-packages (from requests->transformers) (3.4.3)\n",
            "Requirement already satisfied: idna<4,>=2.5 in /usr/local/lib/python3.12/dist-packages (from requests->transformers) (3.10)\n",
            "Requirement already satisfied: urllib3<3,>=1.21.1 in /usr/local/lib/python3.12/dist-packages (from requests->transformers) (2.5.0)\n",
            "Requirement already satisfied: certifi>=2017.4.17 in /usr/local/lib/python3.12/dist-packages (from requests->transformers) (2025.8.3)\n"
          ]
        }
      ]
    },
    {
      "cell_type": "code",
      "source": [
        "texts = [\n",
        "    \"Маркетинговая стратегия бренда основана на цифровых каналах и персонализированных рассылках.\",\n",
        "    \"Для удержания клиентов компания применяет email‑маркетинг с динамическими предложениями и бонусами.\",\n",
        "    \"Социальные сети помогают брендам повышать узнаваемость и формировать сообщество вокруг продукта.\",\n",
        "    \"Контент‑маркетинг через статьи и блоги генерирует органический трафик и повышает доверие аудитории.\",\n",
        "    \"Таргетированная реклама в поисковых системах позволяет привлекать релевантных пользователей в момент их запроса.\",\n",
        "    \"Аналитика поведения клиентов помогает оптимизировать воронку продаж и повышать конверсию.\",\n",
        "    \"Омниканальные коммуникации обеспечивают единый опыт пользователя во всех точках взаимодействия с брендом.\",\n",
        "    \"Использование чат‑ботов улучшает качество клиентского сервиса и снижает нагрузку на call‑центр.\",\n",
        "    \"Партнёрский маркетинг и коллаборации усиливают охват аудитории и формируют новые точки контакта.\",\n",
        "    \"SEO‑оптимизация сайта повышает позиции в поисковых системах и привлекает трафик без дополнительных затрат.\"\n",
        "]\n"
      ],
      "metadata": {
        "id": "Jg4mmvfW4-Ad"
      },
      "execution_count": 16,
      "outputs": []
    },
    {
      "cell_type": "markdown",
      "source": [
        "## ✍️ Часть 1. TF‑IDF\n",
        "1. Векторизуем тексты с помощью `TfidfVectorizer`.\n",
        "2. Посчитаем косинусное сходство между ними."
      ],
      "metadata": {
        "id": "ZSP2cAL050V-"
      }
    },
    {
      "cell_type": "code",
      "source": [
        "from sklearn.feature_extraction.text import TfidfVectorizer\n",
        "from sklearn.metrics.pairwise import cosine_similarity\n",
        "import numpy as np\n",
        "import pandas as pd\n",
        "\n",
        "# векторизуем тексты с помощью TfidfVectorizer\n",
        "vectorizer = TfidfVectorizer()\n",
        "X_tfidf = vectorizer.fit_transform(texts)\n",
        "\n",
        "# считаем косинусное сходство между ними\n",
        "similarity_tfidf = cosine_similarity(X_tfidf, X_tfidf)\n",
        "\n",
        "# выводим матрицу косинусного сходства (TF-IDF)\n",
        "df_tfidf = pd.DataFrame(\n",
        "    similarity_tfidf,\n",
        "    index=[f\"T{i+1}\" for i in range(len(texts))],\n",
        "    columns=[f\"T{i+1}\" for i in range(len(texts))]\n",
        ")\n",
        "df_tfidf.style.format(\"{:.3f}\")"
      ],
      "metadata": {
        "id": "BhG2yk_Y51gg",
        "colab": {
          "base_uri": "https://localhost:8080/",
          "height": 359
        },
        "outputId": "19d45a94-b12a-4973-a744-80783384cf71"
      },
      "execution_count": 17,
      "outputs": [
        {
          "output_type": "execute_result",
          "data": {
            "text/plain": [
              "<pandas.io.formats.style.Styler at 0x7812f669ca40>"
            ],
            "text/html": [
              "<style type=\"text/css\">\n",
              "</style>\n",
              "<table id=\"T_e1f9e\" class=\"dataframe\">\n",
              "  <thead>\n",
              "    <tr>\n",
              "      <th class=\"blank level0\" >&nbsp;</th>\n",
              "      <th id=\"T_e1f9e_level0_col0\" class=\"col_heading level0 col0\" >T1</th>\n",
              "      <th id=\"T_e1f9e_level0_col1\" class=\"col_heading level0 col1\" >T2</th>\n",
              "      <th id=\"T_e1f9e_level0_col2\" class=\"col_heading level0 col2\" >T3</th>\n",
              "      <th id=\"T_e1f9e_level0_col3\" class=\"col_heading level0 col3\" >T4</th>\n",
              "      <th id=\"T_e1f9e_level0_col4\" class=\"col_heading level0 col4\" >T5</th>\n",
              "      <th id=\"T_e1f9e_level0_col5\" class=\"col_heading level0 col5\" >T6</th>\n",
              "      <th id=\"T_e1f9e_level0_col6\" class=\"col_heading level0 col6\" >T7</th>\n",
              "      <th id=\"T_e1f9e_level0_col7\" class=\"col_heading level0 col7\" >T8</th>\n",
              "      <th id=\"T_e1f9e_level0_col8\" class=\"col_heading level0 col8\" >T9</th>\n",
              "      <th id=\"T_e1f9e_level0_col9\" class=\"col_heading level0 col9\" >T10</th>\n",
              "    </tr>\n",
              "  </thead>\n",
              "  <tbody>\n",
              "    <tr>\n",
              "      <th id=\"T_e1f9e_level0_row0\" class=\"row_heading level0 row0\" >T1</th>\n",
              "      <td id=\"T_e1f9e_row0_col0\" class=\"data row0 col0\" >1.000</td>\n",
              "      <td id=\"T_e1f9e_row0_col1\" class=\"data row0 col1\" >0.000</td>\n",
              "      <td id=\"T_e1f9e_row0_col2\" class=\"data row0 col2\" >0.000</td>\n",
              "      <td id=\"T_e1f9e_row0_col3\" class=\"data row0 col3\" >0.000</td>\n",
              "      <td id=\"T_e1f9e_row0_col4\" class=\"data row0 col4\" >0.000</td>\n",
              "      <td id=\"T_e1f9e_row0_col5\" class=\"data row0 col5\" >0.000</td>\n",
              "      <td id=\"T_e1f9e_row0_col6\" class=\"data row0 col6\" >0.000</td>\n",
              "      <td id=\"T_e1f9e_row0_col7\" class=\"data row0 col7\" >0.071</td>\n",
              "      <td id=\"T_e1f9e_row0_col8\" class=\"data row0 col8\" >0.000</td>\n",
              "      <td id=\"T_e1f9e_row0_col9\" class=\"data row0 col9\" >0.000</td>\n",
              "    </tr>\n",
              "    <tr>\n",
              "      <th id=\"T_e1f9e_level0_row1\" class=\"row_heading level0 row1\" >T2</th>\n",
              "      <td id=\"T_e1f9e_row1_col0\" class=\"data row1 col0\" >0.000</td>\n",
              "      <td id=\"T_e1f9e_row1_col1\" class=\"data row1 col1\" >1.000</td>\n",
              "      <td id=\"T_e1f9e_row1_col2\" class=\"data row1 col2\" >0.000</td>\n",
              "      <td id=\"T_e1f9e_row1_col3\" class=\"data row1 col3\" >0.058</td>\n",
              "      <td id=\"T_e1f9e_row1_col4\" class=\"data row1 col4\" >0.000</td>\n",
              "      <td id=\"T_e1f9e_row1_col5\" class=\"data row1 col5\" >0.082</td>\n",
              "      <td id=\"T_e1f9e_row1_col6\" class=\"data row1 col6\" >0.000</td>\n",
              "      <td id=\"T_e1f9e_row1_col7\" class=\"data row1 col7\" >0.000</td>\n",
              "      <td id=\"T_e1f9e_row1_col8\" class=\"data row1 col8\" >0.060</td>\n",
              "      <td id=\"T_e1f9e_row1_col9\" class=\"data row1 col9\" >0.000</td>\n",
              "    </tr>\n",
              "    <tr>\n",
              "      <th id=\"T_e1f9e_level0_row2\" class=\"row_heading level0 row2\" >T3</th>\n",
              "      <td id=\"T_e1f9e_row2_col0\" class=\"data row2 col0\" >0.000</td>\n",
              "      <td id=\"T_e1f9e_row2_col1\" class=\"data row2 col1\" >0.000</td>\n",
              "      <td id=\"T_e1f9e_row2_col2\" class=\"data row2 col2\" >1.000</td>\n",
              "      <td id=\"T_e1f9e_row2_col3\" class=\"data row2 col3\" >0.000</td>\n",
              "      <td id=\"T_e1f9e_row2_col4\" class=\"data row2 col4\" >0.000</td>\n",
              "      <td id=\"T_e1f9e_row2_col5\" class=\"data row2 col5\" >0.080</td>\n",
              "      <td id=\"T_e1f9e_row2_col6\" class=\"data row2 col6\" >0.000</td>\n",
              "      <td id=\"T_e1f9e_row2_col7\" class=\"data row2 col7\" >0.000</td>\n",
              "      <td id=\"T_e1f9e_row2_col8\" class=\"data row2 col8\" >0.000</td>\n",
              "      <td id=\"T_e1f9e_row2_col9\" class=\"data row2 col9\" >0.000</td>\n",
              "    </tr>\n",
              "    <tr>\n",
              "      <th id=\"T_e1f9e_level0_row3\" class=\"row_heading level0 row3\" >T4</th>\n",
              "      <td id=\"T_e1f9e_row3_col0\" class=\"data row3 col0\" >0.000</td>\n",
              "      <td id=\"T_e1f9e_row3_col1\" class=\"data row3 col1\" >0.058</td>\n",
              "      <td id=\"T_e1f9e_row3_col2\" class=\"data row3 col2\" >0.000</td>\n",
              "      <td id=\"T_e1f9e_row3_col3\" class=\"data row3 col3\" >1.000</td>\n",
              "      <td id=\"T_e1f9e_row3_col4\" class=\"data row3 col4\" >0.000</td>\n",
              "      <td id=\"T_e1f9e_row3_col5\" class=\"data row3 col5\" >0.000</td>\n",
              "      <td id=\"T_e1f9e_row3_col6\" class=\"data row3 col6\" >0.000</td>\n",
              "      <td id=\"T_e1f9e_row3_col7\" class=\"data row3 col7\" >0.000</td>\n",
              "      <td id=\"T_e1f9e_row3_col8\" class=\"data row3 col8\" >0.134</td>\n",
              "      <td id=\"T_e1f9e_row3_col9\" class=\"data row3 col9\" >0.140</td>\n",
              "    </tr>\n",
              "    <tr>\n",
              "      <th id=\"T_e1f9e_level0_row4\" class=\"row_heading level0 row4\" >T5</th>\n",
              "      <td id=\"T_e1f9e_row4_col0\" class=\"data row4 col0\" >0.000</td>\n",
              "      <td id=\"T_e1f9e_row4_col1\" class=\"data row4 col1\" >0.000</td>\n",
              "      <td id=\"T_e1f9e_row4_col2\" class=\"data row4 col2\" >0.000</td>\n",
              "      <td id=\"T_e1f9e_row4_col3\" class=\"data row4 col3\" >0.000</td>\n",
              "      <td id=\"T_e1f9e_row4_col4\" class=\"data row4 col4\" >1.000</td>\n",
              "      <td id=\"T_e1f9e_row4_col5\" class=\"data row4 col5\" >0.000</td>\n",
              "      <td id=\"T_e1f9e_row4_col6\" class=\"data row4 col6\" >0.000</td>\n",
              "      <td id=\"T_e1f9e_row4_col7\" class=\"data row4 col7\" >0.000</td>\n",
              "      <td id=\"T_e1f9e_row4_col8\" class=\"data row4 col8\" >0.000</td>\n",
              "      <td id=\"T_e1f9e_row4_col9\" class=\"data row4 col9\" >0.136</td>\n",
              "    </tr>\n",
              "    <tr>\n",
              "      <th id=\"T_e1f9e_level0_row5\" class=\"row_heading level0 row5\" >T6</th>\n",
              "      <td id=\"T_e1f9e_row5_col0\" class=\"data row5 col0\" >0.000</td>\n",
              "      <td id=\"T_e1f9e_row5_col1\" class=\"data row5 col1\" >0.082</td>\n",
              "      <td id=\"T_e1f9e_row5_col2\" class=\"data row5 col2\" >0.080</td>\n",
              "      <td id=\"T_e1f9e_row5_col3\" class=\"data row5 col3\" >0.000</td>\n",
              "      <td id=\"T_e1f9e_row5_col4\" class=\"data row5 col4\" >0.000</td>\n",
              "      <td id=\"T_e1f9e_row5_col5\" class=\"data row5 col5\" >1.000</td>\n",
              "      <td id=\"T_e1f9e_row5_col6\" class=\"data row5 col6\" >0.000</td>\n",
              "      <td id=\"T_e1f9e_row5_col7\" class=\"data row5 col7\" >0.000</td>\n",
              "      <td id=\"T_e1f9e_row5_col8\" class=\"data row5 col8\" >0.000</td>\n",
              "      <td id=\"T_e1f9e_row5_col9\" class=\"data row5 col9\" >0.000</td>\n",
              "    </tr>\n",
              "    <tr>\n",
              "      <th id=\"T_e1f9e_level0_row6\" class=\"row_heading level0 row6\" >T7</th>\n",
              "      <td id=\"T_e1f9e_row6_col0\" class=\"data row6 col0\" >0.000</td>\n",
              "      <td id=\"T_e1f9e_row6_col1\" class=\"data row6 col1\" >0.000</td>\n",
              "      <td id=\"T_e1f9e_row6_col2\" class=\"data row6 col2\" >0.000</td>\n",
              "      <td id=\"T_e1f9e_row6_col3\" class=\"data row6 col3\" >0.000</td>\n",
              "      <td id=\"T_e1f9e_row6_col4\" class=\"data row6 col4\" >0.000</td>\n",
              "      <td id=\"T_e1f9e_row6_col5\" class=\"data row6 col5\" >0.000</td>\n",
              "      <td id=\"T_e1f9e_row6_col6\" class=\"data row6 col6\" >1.000</td>\n",
              "      <td id=\"T_e1f9e_row6_col7\" class=\"data row6 col7\" >0.000</td>\n",
              "      <td id=\"T_e1f9e_row6_col8\" class=\"data row6 col8\" >0.000</td>\n",
              "      <td id=\"T_e1f9e_row6_col9\" class=\"data row6 col9\" >0.000</td>\n",
              "    </tr>\n",
              "    <tr>\n",
              "      <th id=\"T_e1f9e_level0_row7\" class=\"row_heading level0 row7\" >T8</th>\n",
              "      <td id=\"T_e1f9e_row7_col0\" class=\"data row7 col0\" >0.071</td>\n",
              "      <td id=\"T_e1f9e_row7_col1\" class=\"data row7 col1\" >0.000</td>\n",
              "      <td id=\"T_e1f9e_row7_col2\" class=\"data row7 col2\" >0.000</td>\n",
              "      <td id=\"T_e1f9e_row7_col3\" class=\"data row7 col3\" >0.000</td>\n",
              "      <td id=\"T_e1f9e_row7_col4\" class=\"data row7 col4\" >0.000</td>\n",
              "      <td id=\"T_e1f9e_row7_col5\" class=\"data row7 col5\" >0.000</td>\n",
              "      <td id=\"T_e1f9e_row7_col6\" class=\"data row7 col6\" >0.000</td>\n",
              "      <td id=\"T_e1f9e_row7_col7\" class=\"data row7 col7\" >1.000</td>\n",
              "      <td id=\"T_e1f9e_row7_col8\" class=\"data row7 col8\" >0.000</td>\n",
              "      <td id=\"T_e1f9e_row7_col9\" class=\"data row7 col9\" >0.000</td>\n",
              "    </tr>\n",
              "    <tr>\n",
              "      <th id=\"T_e1f9e_level0_row8\" class=\"row_heading level0 row8\" >T9</th>\n",
              "      <td id=\"T_e1f9e_row8_col0\" class=\"data row8 col0\" >0.000</td>\n",
              "      <td id=\"T_e1f9e_row8_col1\" class=\"data row8 col1\" >0.060</td>\n",
              "      <td id=\"T_e1f9e_row8_col2\" class=\"data row8 col2\" >0.000</td>\n",
              "      <td id=\"T_e1f9e_row8_col3\" class=\"data row8 col3\" >0.134</td>\n",
              "      <td id=\"T_e1f9e_row8_col4\" class=\"data row8 col4\" >0.000</td>\n",
              "      <td id=\"T_e1f9e_row8_col5\" class=\"data row8 col5\" >0.000</td>\n",
              "      <td id=\"T_e1f9e_row8_col6\" class=\"data row8 col6\" >0.000</td>\n",
              "      <td id=\"T_e1f9e_row8_col7\" class=\"data row8 col7\" >0.000</td>\n",
              "      <td id=\"T_e1f9e_row8_col8\" class=\"data row8 col8\" >1.000</td>\n",
              "      <td id=\"T_e1f9e_row8_col9\" class=\"data row8 col9\" >0.000</td>\n",
              "    </tr>\n",
              "    <tr>\n",
              "      <th id=\"T_e1f9e_level0_row9\" class=\"row_heading level0 row9\" >T10</th>\n",
              "      <td id=\"T_e1f9e_row9_col0\" class=\"data row9 col0\" >0.000</td>\n",
              "      <td id=\"T_e1f9e_row9_col1\" class=\"data row9 col1\" >0.000</td>\n",
              "      <td id=\"T_e1f9e_row9_col2\" class=\"data row9 col2\" >0.000</td>\n",
              "      <td id=\"T_e1f9e_row9_col3\" class=\"data row9 col3\" >0.140</td>\n",
              "      <td id=\"T_e1f9e_row9_col4\" class=\"data row9 col4\" >0.136</td>\n",
              "      <td id=\"T_e1f9e_row9_col5\" class=\"data row9 col5\" >0.000</td>\n",
              "      <td id=\"T_e1f9e_row9_col6\" class=\"data row9 col6\" >0.000</td>\n",
              "      <td id=\"T_e1f9e_row9_col7\" class=\"data row9 col7\" >0.000</td>\n",
              "      <td id=\"T_e1f9e_row9_col8\" class=\"data row9 col8\" >0.000</td>\n",
              "      <td id=\"T_e1f9e_row9_col9\" class=\"data row9 col9\" >1.000</td>\n",
              "    </tr>\n",
              "  </tbody>\n",
              "</table>\n"
            ]
          },
          "metadata": {},
          "execution_count": 17
        }
      ]
    },
    {
      "cell_type": "code",
      "source": [
        "# обнуляем диагональ\n",
        "np.fill_diagonal(similarity_tfidf, 0)\n",
        "\n",
        "# находим индексы максимального значения\n",
        "i, j = np.unravel_index(similarity_tfidf.argmax(), similarity_tfidf.shape)\n",
        "\n",
        "print(f\"Наиболее похожие тексты по TF-IDF — индексы T{i+1} и T{j+1}, косинусное сходство = {similarity_tfidf[i, j]:.3f}:\\n\")\n",
        "print(texts[i])\n",
        "print(texts[j])"
      ],
      "metadata": {
        "colab": {
          "base_uri": "https://localhost:8080/"
        },
        "id": "MrGTei_W1dEf",
        "outputId": "76e80702-48f0-48d8-9cf9-6f4dbf0e3ead"
      },
      "execution_count": 18,
      "outputs": [
        {
          "output_type": "stream",
          "name": "stdout",
          "text": [
            "Наиболее похожие тексты по TF-IDF — индексы T4 и T10, косинусное сходство = 0.140:\n",
            "\n",
            "Контент‑маркетинг через статьи и блоги генерирует органический трафик и повышает доверие аудитории.\n",
            "SEO‑оптимизация сайта повышает позиции в поисковых системах и привлекает трафик без дополнительных затрат.\n"
          ]
        }
      ]
    },
    {
      "cell_type": "markdown",
      "source": [
        "### 📝 Задание 2\n",
        "- Найдите, какие два текста TF‑IDF считает наиболее похожими.\n",
        "- Объясните, почему именно они схожи."
      ],
      "metadata": {
        "id": "IWbTka_N5iuz"
      }
    },
    {
      "cell_type": "markdown",
      "source": [
        "Есть пересечение слова «трафик», поэтому такие тексты он считает наиболее близкими"
      ],
      "metadata": {
        "id": "60EiHjgH7Aqg"
      }
    },
    {
      "cell_type": "markdown",
      "source": [
        "## ✍️ Часть 2. BERT‑эмбеддинги\n",
        "1. Используйте модель из hugging face\n",
        "2. Посчитаем косинусное сходство.\n"
      ],
      "metadata": {
        "id": "ao3peoh-5k16"
      }
    },
    {
      "cell_type": "code",
      "source": [
        "import numpy as np\n",
        "import torch\n",
        "from transformers import AutoTokenizer, AutoModel\n",
        "from sklearn.metrics.pairwise import cosine_similarity\n",
        "\n",
        "# Загружаем токенизатор и модель из Hugging Face\n",
        "model_name = \"sentence-transformers/all-MiniLM-L6-v2\"\n",
        "tokenizer = AutoTokenizer.from_pretrained(model_name)\n",
        "model = AutoModel.from_pretrained(model_name)\n",
        "\n",
        "# Функция для получения эмбеддингов (среднее по токенам)\n",
        "def get_embeddings(texts):\n",
        "    # Токенизация\n",
        "    inputs = tokenizer(texts, return_tensors=\"pt\", padding=True, truncation=True, max_length=512)\n",
        "    with torch.no_grad():\n",
        "        outputs = model(**inputs)\n",
        "        # Берём эмбеддинги скрытых состояний (last_hidden_state)\n",
        "        embeddings = outputs.last_hidden_state\n",
        "        # Усредняем токены по последовательности → получаем sentence embedding\n",
        "        embeddings = embeddings.mean(dim=1)\n",
        "    return embeddings.numpy()\n",
        "\n",
        "# Получаем эмбеддинги\n",
        "X_bert = get_embeddings(texts)\n",
        "\n",
        "# считаем косинусное сходство\n",
        "similarity_bert = cosine_similarity(X_bert, X_bert)\n",
        "\n",
        "# в таблицу\n",
        "df_bert = pd.DataFrame(\n",
        "    similarity_bert,\n",
        "    index=[f\"T{i+1}\" for i in range(len(texts))],\n",
        "    columns=[f\"T{i+1}\" for i in range(len(texts))]\n",
        ")\n",
        "df_bert.style.format(\"{:.3f}\")\n"
      ],
      "metadata": {
        "id": "hmnjcBra4-C0",
        "colab": {
          "base_uri": "https://localhost:8080/",
          "height": 359
        },
        "outputId": "5018bfd3-a67d-4bb5-b2f9-b6b92da7da4e"
      },
      "execution_count": 19,
      "outputs": [
        {
          "output_type": "execute_result",
          "data": {
            "text/plain": [
              "<pandas.io.formats.style.Styler at 0x7814516db380>"
            ],
            "text/html": [
              "<style type=\"text/css\">\n",
              "</style>\n",
              "<table id=\"T_f11b0\" class=\"dataframe\">\n",
              "  <thead>\n",
              "    <tr>\n",
              "      <th class=\"blank level0\" >&nbsp;</th>\n",
              "      <th id=\"T_f11b0_level0_col0\" class=\"col_heading level0 col0\" >T1</th>\n",
              "      <th id=\"T_f11b0_level0_col1\" class=\"col_heading level0 col1\" >T2</th>\n",
              "      <th id=\"T_f11b0_level0_col2\" class=\"col_heading level0 col2\" >T3</th>\n",
              "      <th id=\"T_f11b0_level0_col3\" class=\"col_heading level0 col3\" >T4</th>\n",
              "      <th id=\"T_f11b0_level0_col4\" class=\"col_heading level0 col4\" >T5</th>\n",
              "      <th id=\"T_f11b0_level0_col5\" class=\"col_heading level0 col5\" >T6</th>\n",
              "      <th id=\"T_f11b0_level0_col6\" class=\"col_heading level0 col6\" >T7</th>\n",
              "      <th id=\"T_f11b0_level0_col7\" class=\"col_heading level0 col7\" >T8</th>\n",
              "      <th id=\"T_f11b0_level0_col8\" class=\"col_heading level0 col8\" >T9</th>\n",
              "      <th id=\"T_f11b0_level0_col9\" class=\"col_heading level0 col9\" >T10</th>\n",
              "    </tr>\n",
              "  </thead>\n",
              "  <tbody>\n",
              "    <tr>\n",
              "      <th id=\"T_f11b0_level0_row0\" class=\"row_heading level0 row0\" >T1</th>\n",
              "      <td id=\"T_f11b0_row0_col0\" class=\"data row0 col0\" >1.000</td>\n",
              "      <td id=\"T_f11b0_row0_col1\" class=\"data row0 col1\" >0.684</td>\n",
              "      <td id=\"T_f11b0_row0_col2\" class=\"data row0 col2\" >0.702</td>\n",
              "      <td id=\"T_f11b0_row0_col3\" class=\"data row0 col3\" >0.724</td>\n",
              "      <td id=\"T_f11b0_row0_col4\" class=\"data row0 col4\" >0.573</td>\n",
              "      <td id=\"T_f11b0_row0_col5\" class=\"data row0 col5\" >0.772</td>\n",
              "      <td id=\"T_f11b0_row0_col6\" class=\"data row0 col6\" >0.699</td>\n",
              "      <td id=\"T_f11b0_row0_col7\" class=\"data row0 col7\" >0.783</td>\n",
              "      <td id=\"T_f11b0_row0_col8\" class=\"data row0 col8\" >0.706</td>\n",
              "      <td id=\"T_f11b0_row0_col9\" class=\"data row0 col9\" >0.646</td>\n",
              "    </tr>\n",
              "    <tr>\n",
              "      <th id=\"T_f11b0_level0_row1\" class=\"row_heading level0 row1\" >T2</th>\n",
              "      <td id=\"T_f11b0_row1_col0\" class=\"data row1 col0\" >0.684</td>\n",
              "      <td id=\"T_f11b0_row1_col1\" class=\"data row1 col1\" >1.000</td>\n",
              "      <td id=\"T_f11b0_row1_col2\" class=\"data row1 col2\" >0.544</td>\n",
              "      <td id=\"T_f11b0_row1_col3\" class=\"data row1 col3\" >0.600</td>\n",
              "      <td id=\"T_f11b0_row1_col4\" class=\"data row1 col4\" >0.369</td>\n",
              "      <td id=\"T_f11b0_row1_col5\" class=\"data row1 col5\" >0.684</td>\n",
              "      <td id=\"T_f11b0_row1_col6\" class=\"data row1 col6\" >0.632</td>\n",
              "      <td id=\"T_f11b0_row1_col7\" class=\"data row1 col7\" >0.552</td>\n",
              "      <td id=\"T_f11b0_row1_col8\" class=\"data row1 col8\" >0.614</td>\n",
              "      <td id=\"T_f11b0_row1_col9\" class=\"data row1 col9\" >0.501</td>\n",
              "    </tr>\n",
              "    <tr>\n",
              "      <th id=\"T_f11b0_level0_row2\" class=\"row_heading level0 row2\" >T3</th>\n",
              "      <td id=\"T_f11b0_row2_col0\" class=\"data row2 col0\" >0.702</td>\n",
              "      <td id=\"T_f11b0_row2_col1\" class=\"data row2 col1\" >0.544</td>\n",
              "      <td id=\"T_f11b0_row2_col2\" class=\"data row2 col2\" >1.000</td>\n",
              "      <td id=\"T_f11b0_row2_col3\" class=\"data row2 col3\" >0.766</td>\n",
              "      <td id=\"T_f11b0_row2_col4\" class=\"data row2 col4\" >0.585</td>\n",
              "      <td id=\"T_f11b0_row2_col5\" class=\"data row2 col5\" >0.804</td>\n",
              "      <td id=\"T_f11b0_row2_col6\" class=\"data row2 col6\" >0.737</td>\n",
              "      <td id=\"T_f11b0_row2_col7\" class=\"data row2 col7\" >0.698</td>\n",
              "      <td id=\"T_f11b0_row2_col8\" class=\"data row2 col8\" >0.754</td>\n",
              "      <td id=\"T_f11b0_row2_col9\" class=\"data row2 col9\" >0.627</td>\n",
              "    </tr>\n",
              "    <tr>\n",
              "      <th id=\"T_f11b0_level0_row3\" class=\"row_heading level0 row3\" >T4</th>\n",
              "      <td id=\"T_f11b0_row3_col0\" class=\"data row3 col0\" >0.724</td>\n",
              "      <td id=\"T_f11b0_row3_col1\" class=\"data row3 col1\" >0.600</td>\n",
              "      <td id=\"T_f11b0_row3_col2\" class=\"data row3 col2\" >0.766</td>\n",
              "      <td id=\"T_f11b0_row3_col3\" class=\"data row3 col3\" >1.000</td>\n",
              "      <td id=\"T_f11b0_row3_col4\" class=\"data row3 col4\" >0.541</td>\n",
              "      <td id=\"T_f11b0_row3_col5\" class=\"data row3 col5\" >0.696</td>\n",
              "      <td id=\"T_f11b0_row3_col6\" class=\"data row3 col6\" >0.701</td>\n",
              "      <td id=\"T_f11b0_row3_col7\" class=\"data row3 col7\" >0.697</td>\n",
              "      <td id=\"T_f11b0_row3_col8\" class=\"data row3 col8\" >0.852</td>\n",
              "      <td id=\"T_f11b0_row3_col9\" class=\"data row3 col9\" >0.620</td>\n",
              "    </tr>\n",
              "    <tr>\n",
              "      <th id=\"T_f11b0_level0_row4\" class=\"row_heading level0 row4\" >T5</th>\n",
              "      <td id=\"T_f11b0_row4_col0\" class=\"data row4 col0\" >0.573</td>\n",
              "      <td id=\"T_f11b0_row4_col1\" class=\"data row4 col1\" >0.369</td>\n",
              "      <td id=\"T_f11b0_row4_col2\" class=\"data row4 col2\" >0.585</td>\n",
              "      <td id=\"T_f11b0_row4_col3\" class=\"data row4 col3\" >0.541</td>\n",
              "      <td id=\"T_f11b0_row4_col4\" class=\"data row4 col4\" >1.000</td>\n",
              "      <td id=\"T_f11b0_row4_col5\" class=\"data row4 col5\" >0.503</td>\n",
              "      <td id=\"T_f11b0_row4_col6\" class=\"data row4 col6\" >0.631</td>\n",
              "      <td id=\"T_f11b0_row4_col7\" class=\"data row4 col7\" >0.518</td>\n",
              "      <td id=\"T_f11b0_row4_col8\" class=\"data row4 col8\" >0.553</td>\n",
              "      <td id=\"T_f11b0_row4_col9\" class=\"data row4 col9\" >0.672</td>\n",
              "    </tr>\n",
              "    <tr>\n",
              "      <th id=\"T_f11b0_level0_row5\" class=\"row_heading level0 row5\" >T6</th>\n",
              "      <td id=\"T_f11b0_row5_col0\" class=\"data row5 col0\" >0.772</td>\n",
              "      <td id=\"T_f11b0_row5_col1\" class=\"data row5 col1\" >0.684</td>\n",
              "      <td id=\"T_f11b0_row5_col2\" class=\"data row5 col2\" >0.804</td>\n",
              "      <td id=\"T_f11b0_row5_col3\" class=\"data row5 col3\" >0.696</td>\n",
              "      <td id=\"T_f11b0_row5_col4\" class=\"data row5 col4\" >0.503</td>\n",
              "      <td id=\"T_f11b0_row5_col5\" class=\"data row5 col5\" >1.000</td>\n",
              "      <td id=\"T_f11b0_row5_col6\" class=\"data row5 col6\" >0.778</td>\n",
              "      <td id=\"T_f11b0_row5_col7\" class=\"data row5 col7\" >0.665</td>\n",
              "      <td id=\"T_f11b0_row5_col8\" class=\"data row5 col8\" >0.726</td>\n",
              "      <td id=\"T_f11b0_row5_col9\" class=\"data row5 col9\" >0.600</td>\n",
              "    </tr>\n",
              "    <tr>\n",
              "      <th id=\"T_f11b0_level0_row6\" class=\"row_heading level0 row6\" >T7</th>\n",
              "      <td id=\"T_f11b0_row6_col0\" class=\"data row6 col0\" >0.699</td>\n",
              "      <td id=\"T_f11b0_row6_col1\" class=\"data row6 col1\" >0.632</td>\n",
              "      <td id=\"T_f11b0_row6_col2\" class=\"data row6 col2\" >0.737</td>\n",
              "      <td id=\"T_f11b0_row6_col3\" class=\"data row6 col3\" >0.701</td>\n",
              "      <td id=\"T_f11b0_row6_col4\" class=\"data row6 col4\" >0.631</td>\n",
              "      <td id=\"T_f11b0_row6_col5\" class=\"data row6 col5\" >0.778</td>\n",
              "      <td id=\"T_f11b0_row6_col6\" class=\"data row6 col6\" >1.000</td>\n",
              "      <td id=\"T_f11b0_row6_col7\" class=\"data row6 col7\" >0.607</td>\n",
              "      <td id=\"T_f11b0_row6_col8\" class=\"data row6 col8\" >0.753</td>\n",
              "      <td id=\"T_f11b0_row6_col9\" class=\"data row6 col9\" >0.631</td>\n",
              "    </tr>\n",
              "    <tr>\n",
              "      <th id=\"T_f11b0_level0_row7\" class=\"row_heading level0 row7\" >T8</th>\n",
              "      <td id=\"T_f11b0_row7_col0\" class=\"data row7 col0\" >0.783</td>\n",
              "      <td id=\"T_f11b0_row7_col1\" class=\"data row7 col1\" >0.552</td>\n",
              "      <td id=\"T_f11b0_row7_col2\" class=\"data row7 col2\" >0.698</td>\n",
              "      <td id=\"T_f11b0_row7_col3\" class=\"data row7 col3\" >0.697</td>\n",
              "      <td id=\"T_f11b0_row7_col4\" class=\"data row7 col4\" >0.518</td>\n",
              "      <td id=\"T_f11b0_row7_col5\" class=\"data row7 col5\" >0.665</td>\n",
              "      <td id=\"T_f11b0_row7_col6\" class=\"data row7 col6\" >0.607</td>\n",
              "      <td id=\"T_f11b0_row7_col7\" class=\"data row7 col7\" >1.000</td>\n",
              "      <td id=\"T_f11b0_row7_col8\" class=\"data row7 col8\" >0.663</td>\n",
              "      <td id=\"T_f11b0_row7_col9\" class=\"data row7 col9\" >0.533</td>\n",
              "    </tr>\n",
              "    <tr>\n",
              "      <th id=\"T_f11b0_level0_row8\" class=\"row_heading level0 row8\" >T9</th>\n",
              "      <td id=\"T_f11b0_row8_col0\" class=\"data row8 col0\" >0.706</td>\n",
              "      <td id=\"T_f11b0_row8_col1\" class=\"data row8 col1\" >0.614</td>\n",
              "      <td id=\"T_f11b0_row8_col2\" class=\"data row8 col2\" >0.754</td>\n",
              "      <td id=\"T_f11b0_row8_col3\" class=\"data row8 col3\" >0.852</td>\n",
              "      <td id=\"T_f11b0_row8_col4\" class=\"data row8 col4\" >0.553</td>\n",
              "      <td id=\"T_f11b0_row8_col5\" class=\"data row8 col5\" >0.726</td>\n",
              "      <td id=\"T_f11b0_row8_col6\" class=\"data row8 col6\" >0.753</td>\n",
              "      <td id=\"T_f11b0_row8_col7\" class=\"data row8 col7\" >0.663</td>\n",
              "      <td id=\"T_f11b0_row8_col8\" class=\"data row8 col8\" >1.000</td>\n",
              "      <td id=\"T_f11b0_row8_col9\" class=\"data row8 col9\" >0.534</td>\n",
              "    </tr>\n",
              "    <tr>\n",
              "      <th id=\"T_f11b0_level0_row9\" class=\"row_heading level0 row9\" >T10</th>\n",
              "      <td id=\"T_f11b0_row9_col0\" class=\"data row9 col0\" >0.646</td>\n",
              "      <td id=\"T_f11b0_row9_col1\" class=\"data row9 col1\" >0.501</td>\n",
              "      <td id=\"T_f11b0_row9_col2\" class=\"data row9 col2\" >0.627</td>\n",
              "      <td id=\"T_f11b0_row9_col3\" class=\"data row9 col3\" >0.620</td>\n",
              "      <td id=\"T_f11b0_row9_col4\" class=\"data row9 col4\" >0.672</td>\n",
              "      <td id=\"T_f11b0_row9_col5\" class=\"data row9 col5\" >0.600</td>\n",
              "      <td id=\"T_f11b0_row9_col6\" class=\"data row9 col6\" >0.631</td>\n",
              "      <td id=\"T_f11b0_row9_col7\" class=\"data row9 col7\" >0.533</td>\n",
              "      <td id=\"T_f11b0_row9_col8\" class=\"data row9 col8\" >0.534</td>\n",
              "      <td id=\"T_f11b0_row9_col9\" class=\"data row9 col9\" >1.000</td>\n",
              "    </tr>\n",
              "  </tbody>\n",
              "</table>\n"
            ]
          },
          "metadata": {},
          "execution_count": 19
        }
      ]
    },
    {
      "cell_type": "code",
      "source": [
        "# обнуляем диагональ\n",
        "np.fill_diagonal(similarity_bert, 0)\n",
        "\n",
        "# находим индексы максимального значения\n",
        "i, j = np.unravel_index(similarity_bert.argmax(), similarity_bert.shape)\n",
        "\n",
        "print(f\"Наиболее похожие тексты по TF-IDF — индексы T{i+1} и T{j+1}, косинусное сходство = {similarity_bert[i, j]:.3f}:\\n\")\n",
        "print(texts[i])\n",
        "print(texts[j])"
      ],
      "metadata": {
        "colab": {
          "base_uri": "https://localhost:8080/"
        },
        "id": "x4SzSPvY_2NO",
        "outputId": "91066a45-7ec6-4b8b-c452-57805ada5213"
      },
      "execution_count": 23,
      "outputs": [
        {
          "output_type": "stream",
          "name": "stdout",
          "text": [
            "Наиболее похожие тексты по TF-IDF — индексы T4 и T9, косинусное сходство = 0.852:\n",
            "\n",
            "Контент‑маркетинг через статьи и блоги генерирует органический трафик и повышает доверие аудитории.\n",
            "Партнёрский маркетинг и коллаборации усиливают охват аудитории и формируют новые точки контакта.\n"
          ]
        }
      ]
    },
    {
      "cell_type": "markdown",
      "source": [
        "### 📝 Задание 3\n",
        "- Сравните матрицу сходства TF‑IDF и BERT.\n",
        "- Какие пары текстов модель BERT находит более похожими?  \n",
        "- Почему BERT в этом случае \"понимает смысл\" лучше?\n"
      ],
      "metadata": {
        "id": "wjSU9rIC5tiG"
      }
    },
    {
      "cell_type": "markdown",
      "source": [
        "**TF-IDF** считает наиболее похожими тексты **T4** и **T10** — сходство основано на совпадении одинаковых слов «трафик»\n",
        "\n",
        "**BERT** считает наиболее похожими тексты **T4** и **T9** — сходство основано на «смысле» использования стратегии по увеличению охвата пользователей\n",
        "\n",
        "**Почему BERT \"понимает смысл\" лучше:**\n",
        "- TF-IDF работает только с частотой слов\n",
        "- BERT строит семантические векторные представления, где близкие по смыслу фразы оказываются рядом даже без прямых совпадений"
      ],
      "metadata": {
        "id": "dVPzqzAoAgF8"
      }
    },
    {
      "cell_type": "markdown",
      "source": [
        "# ⚙️ Основные параметры генерации текста (GPT‑модели)\n",
        "\n",
        "При запросе к модели можно управлять её поведением через специальные параметры.  \n",
        "\n",
        "---\n",
        "\n",
        "### 🔧 Параметры\n",
        "\n",
        "- **temperature = 0.8**  \n",
        "  - Управляет степенью «креативности» модели.  \n",
        "  - Чем выше значение (до 2.0), тем более разнообразные и неожиданные ответы.  \n",
        "  - Чем ниже (например 0.2), тем ответы более предсказуемые, формальные.  \n",
        "\n",
        "---\n",
        "\n",
        "- **max_tokens = 400**  \n",
        "  - Ограничивает максимальное количество токенов (слов/частей слов), которое модель сгенерирует в ответе.  \n",
        "  - Позволяет контролировать длину текста.  \n",
        "\n",
        "---\n",
        "\n",
        "- **top_p = 0.9** (называется «nucleus sampling»)  \n",
        "  - Альтернатива `temperature`.  \n",
        "  - Модель выбирает токены не из всех возможных, а только из «лучших», суммарной вероятностью 90%.  \n",
        "  - При `top_p=1.0` используется полный набор без ограничений.  \n",
        "\n",
        "---\n",
        "\n",
        "- **presence_penalty = 0.6**  \n",
        "  - Наказывает модель за **повторение одинаковых идей/тем**.  \n",
        "  - Чем выше число, тем больше модель старается вносить что‑то новое.  \n",
        "\n",
        "---\n",
        "\n",
        "- **frequency_penalty = 0.4**  \n",
        "  - Наказывает модель за **частое повторение одних и тех же слов**.  \n",
        "  - Чем выше, тем разнообразнее словарный запас в ответе.  \n",
        "\n",
        "---\n",
        "\n",
        "- **n = 1**  \n",
        "  - Количество разных вариантов ответа за один запрос.  \n",
        "  - Если поставить 3, модель вернёт 3 разных завершения.  \n",
        "\n",
        "---\n",
        "\n",
        "- **stream = False**  \n",
        "  - Управляет тем, как возвращается ответ:  \n",
        "    - `False` → вернуть всё сразу.  \n",
        "    - `True` → потоковая генерация (можно отображать текст по кусочкам, как в чате).  \n",
        "\n",
        "---\n",
        "\n",
        "## 🎓 Итог\n",
        "- `temperature` и `top_p` регулируют «креативность» и разнообразие.  \n",
        "- `max_tokens` ограничивает длину ответа.  \n",
        "- `presence_penalty` и `frequency_penalty` уменьшают повторы.  \n",
        "- `n` позволяет получить несколько вариантов ответа.  \n",
        "- `stream` управляет режимом выдачи (сразу/потоком).  \n"
      ],
      "metadata": {
        "id": "GT2NPDtTETn2"
      }
    },
    {
      "cell_type": "markdown",
      "source": [
        "### Реализовать параметры генерации"
      ],
      "metadata": {
        "id": "UDRveWPO7xPi"
      }
    },
    {
      "cell_type": "markdown",
      "source": [
        "# 🧪 Задание 4: Реализация параметров генерации токенов\n",
        "\n",
        "В этом задании нужно **самостоятельно реализовать функции** изменения распределения вероятностей, исходя из описаний параметров генерации языковых моделей.\n",
        "\n",
        "## 📌 Дано:\n",
        "Пример логитов выходного слоя:\n",
        "\n",
        "```python\n",
        "import numpy as np\n",
        "\n",
        "logits = np.array([3.0, 2.5, 2.0, 1.5, 1.0, 0.5, 0.0, -0.5, -1.0, -1.5])\n",
        "```\n",
        "### В ответ приложите дописанный кусок кода\n",
        "```python\n",
        "# перевод логитов в вероятность\n",
        "probs = # ваш код\n",
        "def apply_temperature(probs, temperature=1.0):\n",
        "    \"\"\"\n",
        "    Масштабирует распределение вероятностей по температуре.\n",
        "    Чем ниже T < 1 → распределение более \"острое\",\n",
        "    Чем выше T > 1 → распределение выравнивается.\n",
        "    \"\"\"\n",
        "    # ваш код\n",
        "\n",
        "def apply_top_k(probs, k=10):\n",
        "    \"\"\"\n",
        "    Оставляет только k наиболее вероятных элементов,\n",
        "    остальные вероятности обнуляются и распределение нормализуется.\n",
        "    \"\"\"\n",
        "    # ваш код\n",
        "\n",
        "def apply_top_p(probs, p=0.9):\n",
        "    \"\"\"\n",
        "    Реализация nucleus sampling.\n",
        "    Оставляем минимальный набор токенов,\n",
        "    суммарная вероятность которых ≥ p.\n",
        "    Остальные обнуляем и нормализуем распределение.\n",
        "    \"\"\"\n",
        "    # ваш код\n",
        "\n",
        "def sample_from_probs(probs):\n",
        "    \"\"\"\n",
        "    Выбор токена случайным образом в соответствии с вероятностным распределением.\n",
        "    \"\"\"\n",
        "    return int(np.random.choice(len(probs), p=probs))\n"
      ],
      "metadata": {
        "id": "m1xIdEeKFDge"
      }
    },
    {
      "cell_type": "code",
      "source": [
        "import numpy as np\n",
        "\n",
        "logits = np.array([3.0, 2.5, 2.0, 1.5, 1.0, 0.5, 0.0, -0.5, -1.0, -1.5])"
      ],
      "metadata": {
        "id": "UBn3jGwNC1k5"
      },
      "execution_count": 24,
      "outputs": []
    },
    {
      "cell_type": "code",
      "source": [
        "# перевод логитов в вероятность\n",
        "\n",
        "def softmax(logits):\n",
        "    z = logits - np.max(logits)   # для численной стабильности\n",
        "    e = np.exp(z)\n",
        "    return e / e.sum()\n",
        "\n",
        "probs = softmax(logits)\n",
        "\n",
        "def apply_temperature(probs, temperature=1.0):\n",
        "    \"\"\"\n",
        "    Масштабирует распределение вероятностей по температуре.\n",
        "    Чем ниже T < 1 → распределение более \"острое\",\n",
        "    Чем выше T > 1 → распределение выравнивается.\n",
        "    \"\"\"\n",
        "    if temperature <= 0:\n",
        "        raise ValueError(\"temperature must be > 0\")\n",
        "    if temperature == 1.0:\n",
        "        return probs\n",
        "    scaled = probs ** (1.0 / temperature)\n",
        "    scaled /= scaled.sum()\n",
        "    return scaled\n",
        "\n",
        "def apply_top_k(probs, k=10):\n",
        "    \"\"\"\n",
        "    Оставляет только k наиболее вероятных элементов,\n",
        "    остальные вероятности обнуляются и распределение нормализуется.\n",
        "    \"\"\"\n",
        "    k = max(1, min(k, probs.size))\n",
        "    # индексы k крупнейших\n",
        "    idx = np.argpartition(probs, -k)[-k:]\n",
        "    mask = np.zeros_like(probs, dtype=bool)\n",
        "    mask[idx] = True\n",
        "    filtered = np.where(mask, probs, 0.0)\n",
        "    filtered /= filtered.sum()\n",
        "    return filtered\n",
        "\n",
        "def apply_top_p(probs, p=0.9):\n",
        "    \"\"\"\n",
        "    Реализация nucleus sampling.\n",
        "    Оставляем минимальный набор токенов,\n",
        "    суммарная вероятность которых ≥ p.\n",
        "    Остальные обнуляем и нормализуем распределение.\n",
        "    \"\"\"\n",
        "    order = np.argsort(probs)[::-1]         # сортировка по убыванию\n",
        "    sorted_probs = probs[order]\n",
        "    cumsum = np.cumsum(sorted_probs)\n",
        "    cut = np.searchsorted(cumsum, p) + 1    # минимальный порог\n",
        "    keep_idx = order[:cut]\n",
        "    mask = np.zeros_like(probs, dtype=bool)\n",
        "    mask[keep_idx] = True\n",
        "    filtered = np.where(mask, probs, 0.0)\n",
        "    filtered /= filtered.sum()\n",
        "    return filtered\n",
        "\n",
        "def sample_from_probs(probs):\n",
        "    \"\"\"\n",
        "    Выбор токена случайным образом в соответствии с вероятностным распределением.\n",
        "    \"\"\"\n",
        "    return int(np.random.choice(len(probs), p=probs))\n",
        "\n",
        "# вывод\n",
        "print(\"Базовое распределение:\", [format(x, \".3f\") for x in probs])\n",
        "print(\"Температура 0.5:\", [format(x, \".3f\") for x in apply_temperature(probs, 0.5)])\n",
        "print(\"Top-k=3:\", [format(x, \".3f\") for x in apply_top_k(probs, 3)])\n",
        "print(\"Top-p=0.9:\", [format(x, \".3f\") for x in apply_top_p(probs, 0.9)])\n",
        "print(\"Сэмплированный токен:\", sample_from_probs(probs))"
      ],
      "metadata": {
        "id": "CTRjm5AvC81X",
        "outputId": "73265bff-4792-4038-ba58-884e7fea86d4",
        "colab": {
          "base_uri": "https://localhost:8080/"
        }
      },
      "execution_count": 29,
      "outputs": [
        {
          "output_type": "stream",
          "name": "stdout",
          "text": [
            "Базовое распределение: ['0.396', '0.240', '0.146', '0.088', '0.054', '0.033', '0.020', '0.012', '0.007', '0.004']\n",
            "Температура 0.5: ['0.632', '0.233', '0.086', '0.031', '0.012', '0.004', '0.002', '0.001', '0.000', '0.000']\n",
            "Top-k=3: ['0.506', '0.307', '0.186', '0.000', '0.000', '0.000', '0.000', '0.000', '0.000', '0.000']\n",
            "Top-p=0.9: ['0.429', '0.260', '0.158', '0.096', '0.058', '0.000', '0.000', '0.000', '0.000', '0.000']\n",
            "Сэмплированный токен: 5\n"
          ]
        }
      ]
    },
    {
      "cell_type": "markdown",
      "source": [
        "#### Проверочное задание"
      ],
      "metadata": {
        "id": "GCXNceiYF0lo"
      }
    },
    {
      "cell_type": "code",
      "execution_count": 32,
      "metadata": {
        "id": "D6h95A4IEO7G",
        "colab": {
          "base_uri": "https://localhost:8080/"
        },
        "outputId": "ea262c3b-1f9f-45d9-b615-f22524a97feb"
      },
      "outputs": [
        {
          "output_type": "stream",
          "name": "stdout",
          "text": [
            "=== Обычная генерация (temperature=1) ===\n",
            "\n",
            "В холодную зимнюю пору  весь город облазил, везде намокая от мороза(прекрасно снимал).  Другой съемочный отряд заглянул в метро и был пофот\n",
            "\n",
            "=== Жёсткий greedy (temperature=0.5, top-k=5) ===\n",
            "\n",
            "В холодную зимнюю пору \n",
            "А.С.Пушкин\n",
            "\n",
            "\n",
            "\n",
            "\n",
            "\n",
            "\n",
            "\n",
            "\n",
            "\n",
            "\n",
            "\n",
            "\n",
            "\n",
            "\n",
            "\n",
            "\n",
            "\n",
            "\n",
            "\n",
            "\n",
            "\n",
            "\n",
            "\n",
            "\n",
            "=== Креативная (temperature=1.5, top-p=0.9) ===\n",
            "\n",
            "В холодную зимнюю пору  задушить  серый санинтРНемедленно употреблять мимино шарикиВатная грудь &#1072; часть ладониИгровые вихры выпуск\n"
          ]
        }
      ],
      "source": [
        "import torch\n",
        "import numpy as np\n",
        "from transformers import AutoTokenizer, AutoModelForCausalLM\n",
        "\n",
        "# ---------- Загружаем маленькую модель GPT ----------\n",
        "model_name = \"ai-forever/rugpt3small_based_on_gpt2\"  # урезанный GPT-2\n",
        "tokenizer = AutoTokenizer.from_pretrained(model_name)\n",
        "model = AutoModelForCausalLM.from_pretrained(model_name)\n",
        "\n",
        "# Переведем модель на GPU если доступно\n",
        "device = torch.device(\"cuda\" if torch.cuda.is_available() else \"cpu\")\n",
        "model = model.to(device)\n",
        "\n",
        "\n",
        "# ---------- Реализация генерации ----------\n",
        "def generate_text(prompt, max_len=30, temperature=1.0, top_k=None, top_p=None):\n",
        "    # Токенизируем\n",
        "    input_ids = tokenizer.encode(prompt, return_tensors=\"pt\").to(device)\n",
        "    tokens = input_ids.tolist()[0]\n",
        "\n",
        "    for _ in range(max_len):\n",
        "        # Получаем логиты модели\n",
        "        with torch.no_grad():\n",
        "            outputs = model(torch.tensor([tokens]).to(device))\n",
        "        logits = outputs.logits[0, -1, :].cpu().numpy()\n",
        "\n",
        "        # Переводим в вероятности\n",
        "        exp_logits = np.exp(logits - np.max(logits))\n",
        "        probs = exp_logits / exp_logits.sum()\n",
        "\n",
        "        # Temperature\n",
        "        if temperature != 1.0:\n",
        "            probs = apply_temperature(probs, temperature)\n",
        "\n",
        "        # Top-k\n",
        "        if top_k is not None:\n",
        "            probs = apply_top_k(probs, top_k)\n",
        "\n",
        "        # Top-p\n",
        "        if top_p is not None:\n",
        "            probs = apply_top_p(probs, top_p)\n",
        "\n",
        "        # Сэмплируем токен\n",
        "        next_token = sample_from_probs(probs)\n",
        "        tokens.append(next_token)\n",
        "\n",
        "        # Если дошли до конца — выходим\n",
        "        if next_token == tokenizer.eos_token_id:\n",
        "            break\n",
        "\n",
        "    return tokenizer.decode(tokens)\n",
        "\n",
        "\n",
        "# ---------- Пробуем! ----------\n",
        "print(\"=== Обычная генерация (temperature=1) ===\\n\")\n",
        "print(generate_text(\"В холодную зимнюю пору \", temperature=1.0, max_len=30))\n",
        "\n",
        "print(\"\\n=== Жёсткий greedy (temperature=0.5, top-k=5) ===\\n\")\n",
        "print(generate_text(\"В холодную зимнюю пору \", temperature=0.5, top_k=5, max_len=30))\n",
        "\n",
        "print(\"\\n=== Креативная (temperature=1.5, top-p=0.9) ===\\n\")\n",
        "print(generate_text(\"В холодную зимнюю пору \", temperature=1.5, top_p=0.9, max_len=30))\n"
      ]
    },
    {
      "cell_type": "markdown",
      "source": [
        "# Практика Вызов АПИ"
      ],
      "metadata": {
        "id": "3Z3tn61kytV-"
      }
    },
    {
      "cell_type": "markdown",
      "source": [
        "# 📝 Задание: использование LLM через API\n",
        "\n",
        "## Зачем это нужно?\n",
        "Используя API, можно напрямую работать с моделями вроде ChatGPT, DeepSeek, Qwen и др.  \n",
        "Это позволяет:\n",
        "- делать запросы программно (без чата в интерфейсе),\n",
        "- автоматизировать работу (интеграция в скрипты, сервисы),\n",
        "- управлять параметрами вывода (длина ответа, стиль и др.).\n",
        "\n",
        "---\n",
        "\n",
        "## 🔑 Что такое токен?\n",
        "- **Токен** — это уникальный ключ (идентификатор), который позволяет авторизоваться при обращении к API.  \n",
        "- Его можно получить в личном кабинете на сайте хоста (ChatGPT, DeepSeek, Qwen и т. д.).  \n",
        "- Обычно нужно войти в аккаунт и, возможно, подключить платёж (например, в DeepSeek можно просто пополнить баланс на несколько долларов).  \n",
        "- 🔎 Если нет зарубежной карты — можно поискать способы оплаты (например, [см. пост на Хабре](https://habr.com/ru/articles/895864/)).\n",
        "\n",
        "⚠️ Важно: токен нужно хранить в секрете и не публиковать открыто.  \n",
        "Обычно используют `.env`‑файл или переменные окружения, чтобы спрятать токен «под капот».  \n",
        "\n",
        "---\n",
        "\n",
        "## 🌐 Полезные ссылки\n",
        "- **API DeepSeek:** https://platform.deepseek.com/usage  \n",
        "- **API OpenAI (ChatGPT):** https://platform.openai.com  \n",
        "- **Qwen API (Alibaba Cloud):** https://www.modelscope.cn  \n",
        "\n",
        "---\n",
        "\n",
        "## ✅ Задание\n",
        "1. Зарегистрироваться на одной из платформ (ChatGPT / DeepSeek / Qwen).  \n",
        "2. Получить токен в личном кабинете.  \n",
        "3. Сделать первый API‑запрос: например, \"Объясни простыми словами, что такое API\".  \n",
        "4. Спрятать токен (через `.env` или переменные окружения).  \n",
        "5. Попробовать изменить параметры запроса (например, длину ответа, температуру).  \n",
        "\n",
        "---\n"
      ],
      "metadata": {
        "id": "j_lRZsn7_ZRp"
      }
    },
    {
      "cell_type": "code",
      "source": [
        "import os\n",
        "from getpass import getpass\n",
        "os.environ[\"API_KEY\"] = getpass(\"Введите ключ : \")"
      ],
      "metadata": {
        "colab": {
          "base_uri": "https://localhost:8080/"
        },
        "id": "xqF9PRZKuGRx",
        "outputId": "0866422a-b907-447b-ca4a-0b750ce6c28c"
      },
      "execution_count": null,
      "outputs": [
        {
          "name": "stdout",
          "output_type": "stream",
          "text": [
            "Введите ключ : ··········\n"
          ]
        }
      ]
    },
    {
      "cell_type": "markdown",
      "source": [
        "После загрузки токена, можно приступать к генерации.  \n",
        "В зависисмости от того, какой моделью пользуетесь, схема запроса может меняться. Обычно есть примеры в сети или в доке.  \n",
        "Нужно изменить base_url и model, если будете пользоваться не deepseek"
      ],
      "metadata": {
        "id": "NTyOb9fq_76K"
      }
    },
    {
      "cell_type": "code",
      "source": [
        "import os\n",
        "from openai import OpenAI\n",
        "\n",
        "# Предполагается, что у вас в окружении заданы:\n",
        "# os.environ[\"DEEPSEEK_API_KEY\"] = \"ваш_ключ\"\n",
        "# (например через `os.environ` или getpass)\n",
        "\n",
        "# при создании клиента передаём base_url и key\n",
        "client = OpenAI(\n",
        "    api_key=os.environ.get(\"API_KEY\"),\n",
        "    base_url=\"https://api.deepseek.com\"  # URL DeepSeek API\n",
        ")\n",
        "\n",
        "# выполняем чат-запрос\n",
        "response = client.chat.completions.create(\n",
        "    model=\"deepseek-chat\",  # у DeepSeek сейчас основная модель так называется\n",
        "    messages=[\n",
        "        {\"role\": \"system\", \"content\": \"Ты — дружелюбный эксперт по истории искусства.\"},\n",
        "        {\"role\": \"user\", \"content\": \"Расскажи о влиянии импрессионизма на современную визуальную культуру простым и интересным языком.\"}\n",
        "    ],\n",
        "    temperature=0.8,\n",
        "    max_tokens=400,\n",
        "    top_p=0.9,\n",
        "    presence_penalty=0.6,\n",
        "    frequency_penalty=0.4,\n",
        "    n=1,\n",
        ")\n",
        "\n",
        "# выводим текcт ответа\n",
        "print(response.choices[0].message.content)\n"
      ],
      "metadata": {
        "id": "48tB0PcbGeI3",
        "colab": {
          "base_uri": "https://localhost:8080/"
        },
        "outputId": "c93c6f9a-8443-4ff0-ae81-5bd35de14bc3"
      },
      "execution_count": null,
      "outputs": [
        {
          "output_type": "stream",
          "name": "stdout",
          "text": [
            "Конечно! Давайте представим, что импрессионизм — это как дедушка современной визуальной культуры. Он хоть и родился в XIX веке, но его ДНК до сих пор живёт во всём, что мы видим вокруг — от фильмов и рекламы до селфи в Instagram. 😊  \n",
            "\n",
            "Вот несколько ключевых моментов, почему импрессионизм так важен сегодня:  \n",
            "\n",
            "### 1. **«Лови момент!»**  \n",
            "Импрессионисты первыми начали рисовать не «идеальные» сцены, а сиюминутные впечатления: солнечный блик на воде, ветер в листве, улыбку человека. Это как предтеча сторис в соцсетях — мы тоже любим фиксировать мгновения, пусть и не идеальные, но живые.  \n",
            "\n",
            "### 2. **Свет и цвет — главные герои**  \n",
            "Художники вроде Моне или Ренуара показали, что тень может быть синей, а снег — розовым на закате. Современная фотография, кино и даже фильтры в приложениях (например, те самые тёплые «вечерние» тона) во многом обязаны этому открытию.  \n",
            "\n",
            "### 3. **Демократизация искусства**  \n",
            "Импрессионисты рисовали обычных людей: гуляющих в парке, пьющих кофе, танцующих. Не богов и королей! Сегодня это стало нормой: искусство и медиа говорят о повседневности, а каждый человек может стать «героем» контента.  \n",
            "\n",
            "### 4. **Свобода мазка и нечёткость**  \n",
            "Размы\n"
          ]
        }
      ]
    },
    {
      "cell_type": "markdown",
      "source": [
        "## Задание 5 - попробовать различные параметры генерации на внешней моделе\n",
        "\n",
        "### 🟦 Базовый контроль\n",
        "- `temperature = 0.0`  \n",
        "- `top_p = 1.0`  \n",
        "- `max_tokens = 100`  \n",
        "\n",
        "---\n",
        "\n",
        "### 🟩 Творчество\n",
        "- `temperature = 1.0`  \n",
        "- `top_p = 0.9`  \n",
        "- `max_tokens = 250`  \n",
        "\n",
        "---\n",
        "\n",
        "### 🟨 Ограничение длины\n",
        "- `temperature = 0.7`  \n",
        "- `top_p = 0.9`  \n",
        "- `max_tokens = 50`  \n",
        "\n",
        "---\n",
        "\n",
        "### 🟥 Штраф на повторы\n",
        "- `temperature = 0.7`  \n",
        "- `top_p = 0.9`  \n",
        "- `frequency_penalty = 0.8`  \n",
        "- `presence_penalty = 0.5`  \n",
        "\n",
        "---\n",
        "\n",
        "### 🟪 Несколько вариантов (n = 3)\n",
        "- `temperature = 0.9`  \n",
        "- `top_p = 0.95`  \n",
        "- `n = 3`  \n",
        "- `max_tokens = 150`  \n"
      ],
      "metadata": {
        "id": "8e4dcKuuEBTk"
      }
    },
    {
      "cell_type": "markdown",
      "source": [
        "### Ответы\n",
        "   \n",
        "#### Исходный промт\n",
        "ваш ответ.\n",
        "\n",
        "#### Модель\n",
        "ваш ответ.  \n",
        "\n",
        "#### 🟦 Базовый контроль\n",
        "ваш ответ  \n",
        "\n",
        "#### 🟩 Творчество\n",
        "ваш ответ.\n",
        "\n",
        "#### 🟨 Ограничение длины\n",
        "ваш ответ.\n",
        "\n",
        "#### 🟥 Штраф на повторы\n",
        "ваш ответ  \n",
        "\n",
        "#### 🟪 Несколько вариантов\n",
        "ваш ответ"
      ],
      "metadata": {
        "id": "_0woQQJoEcM_"
      }
    },
    {
      "cell_type": "code",
      "source": [],
      "metadata": {
        "id": "pbvyPkYgEzUP"
      },
      "execution_count": null,
      "outputs": []
    }
  ]
}